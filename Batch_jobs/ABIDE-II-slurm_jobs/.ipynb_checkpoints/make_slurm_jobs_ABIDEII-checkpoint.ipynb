{
 "cells": [
  {
   "cell_type": "code",
   "execution_count": 1,
   "id": "f1729d4f",
   "metadata": {},
   "outputs": [],
   "source": [
    "import os\n",
    "import shutil"
   ]
  },
  {
   "cell_type": "code",
   "execution_count": 2,
   "id": "e114a7ad",
   "metadata": {},
   "outputs": [
    {
     "data": {
      "text/plain": [
       "'/mmfs1/data/aglinska/BC-fMRI-AE/Code/slurm_jobs'"
      ]
     },
     "execution_count": 2,
     "metadata": {},
     "output_type": "execute_result"
    }
   ],
   "source": [
    "pwd"
   ]
  },
  {
   "cell_type": "code",
   "execution_count": 3,
   "id": "fe6f5402",
   "metadata": {},
   "outputs": [
    {
     "data": {
      "text/plain": [
       "['ABIDEII-BNI_1',\n",
       " 'ABIDEII-EMC_1',\n",
       " 'ABIDEII-ETHZ_1',\n",
       " 'ABIDEII-GU_1',\n",
       " 'ABIDEII-IP_1',\n",
       " 'ABIDEII-IU_1',\n",
       " 'ABIDEII-KKI_1',\n",
       " 'ABIDEII-KUL_3',\n",
       " 'ABIDEII-NYU_1',\n",
       " 'ABIDEII-NYU_2',\n",
       " 'ABIDEII-OHSU_1',\n",
       " 'ABIDEII-ONRC_2',\n",
       " 'ABIDEII-SDSU_1',\n",
       " 'ABIDEII-TCD_1',\n",
       " 'ABIDEII-UCD_1',\n",
       " 'ABIDEII-UCLA_1',\n",
       " 'ABIDEII-UCLA_Long',\n",
       " 'ABIDEII-UPSM_Long',\n",
       " 'ABIDEII-USM_1']"
      ]
     },
     "execution_count": 3,
     "metadata": {},
     "output_type": "execute_result"
    }
   ],
   "source": [
    "indir = '../../../data/ABIDE2/RawData/'\n",
    "folders = [f for f in os.listdir(indir) if f.startswith('ABIDEII')]\n",
    "folders.sort()\n",
    "folders"
   ]
  },
  {
   "cell_type": "code",
   "execution_count": 4,
   "id": "440681b1",
   "metadata": {},
   "outputs": [
    {
     "name": "stdout",
     "output_type": "stream",
     "text": [
      "            ABIDEII-BNI_1 | 58\n",
      "            ABIDEII-EMC_1 | 54\n",
      "           ABIDEII-ETHZ_1 | 37\n",
      "            ABIDEII-GU_1 | 106\n",
      "             ABIDEII-IP_1 | 56\n",
      "             ABIDEII-IU_1 | 40\n",
      "           ABIDEII-KKI_1 | 211\n",
      "            ABIDEII-KUL_3 | 28\n",
      "            ABIDEII-NYU_1 | 78\n",
      "            ABIDEII-NYU_2 | 27\n",
      "           ABIDEII-OHSU_1 | 93\n",
      "           ABIDEII-ONRC_2 | 59\n",
      "           ABIDEII-SDSU_1 | 58\n",
      "            ABIDEII-TCD_1 | 42\n",
      "            ABIDEII-UCD_1 | 32\n",
      "           ABIDEII-UCLA_1 | 32\n",
      "        ABIDEII-UCLA_Long | 21\n",
      "        ABIDEII-UPSM_Long | 17\n",
      "            ABIDEII-USM_1 | 33\n"
     ]
    }
   ],
   "source": [
    "subCount = list()\n",
    "for folder in folders:\n",
    "    nsubs = len([cont for cont in os.listdir(os.path.join(indir,folder)) if all((cont.startswith('sub-'),os.path.isdir(os.path.join(indir,folder,cont))))])\n",
    "    subCount.append(nsubs)\n",
    "    print(f'{folder} | {nsubs}'.rjust(30))"
   ]
  },
  {
   "cell_type": "code",
   "execution_count": 5,
   "id": "20a98e56",
   "metadata": {},
   "outputs": [],
   "source": [
    "i = -1"
   ]
  },
  {
   "cell_type": "code",
   "execution_count": null,
   "id": "a3a89fa7",
   "metadata": {},
   "outputs": [],
   "source": []
  },
  {
   "cell_type": "code",
   "execution_count": null,
   "id": "f883502b",
   "metadata": {},
   "outputs": [],
   "source": []
  },
  {
   "cell_type": "code",
   "execution_count": 6,
   "id": "b2cba8f7",
   "metadata": {},
   "outputs": [],
   "source": [
    "#i = 10"
   ]
  },
  {
   "cell_type": "code",
   "execution_count": 19,
   "id": "bb4715eb",
   "metadata": {},
   "outputs": [
    {
     "name": "stdout",
     "output_type": "stream",
     "text": [
      "12\n",
      "ABIDEII-SDSU_1\n",
      "58\n"
     ]
    }
   ],
   "source": [
    "i+=1\n",
    "folder = folders[i]\n",
    "n = subCount[i]\n",
    "print(i)\n",
    "print(folder)\n",
    "print(n)"
   ]
  },
  {
   "cell_type": "code",
   "execution_count": 20,
   "id": "621eccee",
   "metadata": {},
   "outputs": [],
   "source": [
    "if not os.path.isdir(f'fmriprep_{folder}'):\n",
    "    os.mkdir(f'fmriprep_{folder}')"
   ]
  },
  {
   "cell_type": "code",
   "execution_count": 21,
   "id": "149772e0",
   "metadata": {},
   "outputs": [],
   "source": [
    "text = '''#!/bin/bash\n",
    "\n",
    "#SBATCH --job-name=job_fmriprep_{folder}\n",
    "#SBATCH --output=./fmriprep_{folder}/output_fmriprep_{folder}_%a\n",
    "#SBATCH --error=./fmriprep_{folder}/error_fmriprep_{folder}_%a\n",
    "\n",
    "#SBATCH --ntasks=1\n",
    "#SBATCH --time=10:00:00\n",
    "#SBATCH --mem=32gb\n",
    "\n",
    "#SBATCH --array=0-{n}\n",
    "\n",
    "module load singularity/\n",
    "\n",
    "date\n",
    "\n",
    "rm -rf ./fmriprep_{folder}/output_*\n",
    "rm -rf ./fmriprep_{folder}/error_*\n",
    "\n",
    "cd $HOME\n",
    "\n",
    "data_dir=$HOME'/data/ABIDE2/RawData/{folder}/'\n",
    "\n",
    "sing_image=$HOME/fmriprep.simg\n",
    "\n",
    "cd $data_dir\n",
    "files=(sub*)\n",
    "\n",
    "cd $HOME\n",
    "\n",
    "output_dir=$HOME'/data/ABIDE2/Derivatives/test/'\n",
    "\n",
    "fs_lic=$HOME'/fs_licence.txt'\n",
    "\n",
    "sub=${{files[$SLURM_ARRAY_TASK_ID]}} #;echo $sub\n",
    "\n",
    "echo $HOME\n",
    "echo $data_dir\n",
    "echo $output_dir\n",
    "echo $sub\n",
    "\n",
    "singularity run --bind /data/aglinska/scratch:/scratch --cleanenv $sing_image $data_dir $output_dir participant --participant-label $sub --fs-no-reconall --task-id 'rest' --fs-license-file $fs_lic\n",
    "\n",
    "'''"
   ]
  },
  {
   "cell_type": "code",
   "execution_count": 10,
   "id": "a3e3c666",
   "metadata": {},
   "outputs": [],
   "source": [
    "text = text.format(folder=folder,n=n)"
   ]
  },
  {
   "cell_type": "code",
   "execution_count": 11,
   "id": "bb2ee7c0",
   "metadata": {},
   "outputs": [],
   "source": [
    "with open(f'job_fmriprep_{folder}.slurm', 'w') as f:\n",
    "    f.write(text)"
   ]
  },
  {
   "cell_type": "code",
   "execution_count": 12,
   "id": "a6972c09",
   "metadata": {},
   "outputs": [
    {
     "name": "stdout",
     "output_type": "stream",
     "text": [
      "sbatch job_fmriprep_ABIDEII-BNI_1.slurm\n"
     ]
    }
   ],
   "source": [
    "bashCommand = f'sbatch job_fmriprep_{folder}.slurm'\n",
    "print(bashCommand)"
   ]
  },
  {
   "cell_type": "code",
   "execution_count": 13,
   "id": "16400689",
   "metadata": {},
   "outputs": [],
   "source": [
    "with open(f'command.sh', 'w') as f:\n",
    "    f.write(bashCommand)"
   ]
  },
  {
   "cell_type": "code",
   "execution_count": 14,
   "id": "2738c824",
   "metadata": {},
   "outputs": [],
   "source": [
    "!chmod 777 command.sh"
   ]
  },
  {
   "cell_type": "code",
   "execution_count": 15,
   "id": "a7d7fc19",
   "metadata": {},
   "outputs": [
    {
     "name": "stdout",
     "output_type": "stream",
     "text": [
      "Submitted batch job 166486\n"
     ]
    }
   ],
   "source": [
    "!./command.sh"
   ]
  },
  {
   "cell_type": "code",
   "execution_count": 16,
   "id": "e0d88322",
   "metadata": {},
   "outputs": [],
   "source": [
    "#!sbatch job_fmriprep_ABIDEII-ETHZ_1.slurm"
   ]
  },
  {
   "cell_type": "code",
   "execution_count": 17,
   "id": "0b229673",
   "metadata": {},
   "outputs": [],
   "source": [
    "#!squeue"
   ]
  },
  {
   "cell_type": "code",
   "execution_count": null,
   "id": "186c3672",
   "metadata": {},
   "outputs": [],
   "source": []
  },
  {
   "cell_type": "code",
   "execution_count": null,
   "id": "abe4cc96",
   "metadata": {},
   "outputs": [],
   "source": []
  },
  {
   "cell_type": "code",
   "execution_count": null,
   "id": "e7b5cbc5",
   "metadata": {},
   "outputs": [],
   "source": []
  }
 ],
 "metadata": {
  "kernelspec": {
   "display_name": "Python 3",
   "language": "python",
   "name": "python3"
  },
  "language_info": {
   "codemirror_mode": {
    "name": "ipython",
    "version": 3
   },
   "file_extension": ".py",
   "mimetype": "text/x-python",
   "name": "python",
   "nbconvert_exporter": "python",
   "pygments_lexer": "ipython3",
   "version": "3.8.5"
  }
 },
 "nbformat": 4,
 "nbformat_minor": 5
}
