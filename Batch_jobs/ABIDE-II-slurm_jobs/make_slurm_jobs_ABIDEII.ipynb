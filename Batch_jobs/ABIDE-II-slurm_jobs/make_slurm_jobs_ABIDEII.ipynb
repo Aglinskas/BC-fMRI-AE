{
 "cells": [
  {
   "cell_type": "code",
   "execution_count": 2,
   "id": "c6f0ce0e",
   "metadata": {},
   "outputs": [],
   "source": [
    "import os\n",
    "import shutil"
   ]
  },
  {
   "cell_type": "code",
   "execution_count": 3,
   "id": "6a7ee422",
   "metadata": {},
   "outputs": [
    {
     "data": {
      "text/plain": [
       "'/mmfs1/data/aglinska/BC-fMRI-AE/Batch_jobs/ABIDE-II-slurm_jobs'"
      ]
     },
     "execution_count": 3,
     "metadata": {},
     "output_type": "execute_result"
    }
   ],
   "source": [
    "pwd"
   ]
  },
  {
   "cell_type": "code",
   "execution_count": 4,
   "id": "c1ac6cbc",
   "metadata": {},
   "outputs": [
    {
     "data": {
      "text/plain": [
       "['ABIDEII-BNI_1',\n",
       " 'ABIDEII-EMC_1',\n",
       " 'ABIDEII-ETHZ_1',\n",
       " 'ABIDEII-GU_1',\n",
       " 'ABIDEII-IP_1',\n",
       " 'ABIDEII-IU_1',\n",
       " 'ABIDEII-KKI_1',\n",
       " 'ABIDEII-KUL_3',\n",
       " 'ABIDEII-NYU_1',\n",
       " 'ABIDEII-NYU_2',\n",
       " 'ABIDEII-OHSU_1',\n",
       " 'ABIDEII-ONRC_2',\n",
       " 'ABIDEII-SDSU_1',\n",
       " 'ABIDEII-TCD_1',\n",
       " 'ABIDEII-UCD_1',\n",
       " 'ABIDEII-UCLA_1',\n",
       " 'ABIDEII-UCLA_Long',\n",
       " 'ABIDEII-UPSM_Long',\n",
       " 'ABIDEII-USM_1']"
      ]
     },
     "execution_count": 4,
     "metadata": {},
     "output_type": "execute_result"
    }
   ],
   "source": [
    "indir = '../../../data/ABIDE2/RawData/'\n",
    "folders = [f for f in os.listdir(indir) if f.startswith('ABIDEII')]\n",
    "folders.sort()\n",
    "folders"
   ]
  },
  {
   "cell_type": "code",
   "execution_count": 5,
   "id": "02e5fb85",
   "metadata": {},
   "outputs": [
    {
     "name": "stdout",
     "output_type": "stream",
     "text": [
      "00 | ABIDEII-BNI_1 | 58\n",
      "01 | ABIDEII-EMC_1 | 54\n",
      "02 | ABIDEII-ETHZ_1 | 37\n",
      "03 | ABIDEII-GU_1 | 106\n",
      "04 | ABIDEII-IP_1 | 56\n",
      "05 | ABIDEII-IU_1 | 40\n",
      "06 | ABIDEII-KKI_1 | 211\n",
      "07 | ABIDEII-KUL_3 | 28\n",
      "08 | ABIDEII-NYU_1 | 78\n",
      "09 | ABIDEII-NYU_2 | 27\n",
      "10 | ABIDEII-OHSU_1 | 93\n",
      "11 | ABIDEII-ONRC_2 | 59\n",
      "12 | ABIDEII-SDSU_1 | 58\n",
      "13 | ABIDEII-TCD_1 | 42\n",
      "14 | ABIDEII-UCD_1 | 32\n",
      "15 | ABIDEII-UCLA_1 | 32\n",
      "16 | ABIDEII-UCLA_Long | 21\n",
      "17 | ABIDEII-UPSM_Long | 17\n",
      "18 | ABIDEII-USM_1 | 33\n"
     ]
    }
   ],
   "source": [
    "subCount = list()\n",
    "for idx,folder in enumerate(folders):\n",
    "    nsubs = len([cont for cont in os.listdir(os.path.join(indir,folder)) if all((cont.startswith('sub-'),os.path.isdir(os.path.join(indir,folder,cont))))])\n",
    "    subCount.append(nsubs)\n",
    "    print(f'{idx:02} | {folder} | {nsubs}')"
   ]
  },
  {
   "cell_type": "code",
   "execution_count": 6,
   "id": "ff4e3b59",
   "metadata": {},
   "outputs": [],
   "source": [
    "i=-1"
   ]
  },
  {
   "cell_type": "code",
   "execution_count": null,
   "id": "37114fec",
   "metadata": {},
   "outputs": [],
   "source": []
  },
  {
   "cell_type": "code",
   "execution_count": 217,
   "id": "6b224a07",
   "metadata": {},
   "outputs": [
    {
     "ename": "IndexError",
     "evalue": "list index out of range",
     "output_type": "error",
     "traceback": [
      "\u001b[0;31m---------------------------------------------------------------------------\u001b[0m",
      "\u001b[0;31mIndexError\u001b[0m                                Traceback (most recent call last)",
      "\u001b[0;32m<ipython-input-217-e689fa5dc2f7>\u001b[0m in \u001b[0;36m<module>\u001b[0;34m\u001b[0m\n\u001b[1;32m      1\u001b[0m \u001b[0mi\u001b[0m\u001b[0;34m+=\u001b[0m\u001b[0;36m1\u001b[0m\u001b[0;34m\u001b[0m\u001b[0;34m\u001b[0m\u001b[0m\n\u001b[0;32m----> 2\u001b[0;31m \u001b[0mfolder\u001b[0m \u001b[0;34m=\u001b[0m \u001b[0mfolders\u001b[0m\u001b[0;34m[\u001b[0m\u001b[0mi\u001b[0m\u001b[0;34m]\u001b[0m\u001b[0;34m\u001b[0m\u001b[0;34m\u001b[0m\u001b[0m\n\u001b[0m\u001b[1;32m      3\u001b[0m \u001b[0mn\u001b[0m \u001b[0;34m=\u001b[0m \u001b[0msubCount\u001b[0m\u001b[0;34m[\u001b[0m\u001b[0mi\u001b[0m\u001b[0;34m]\u001b[0m\u001b[0;34m\u001b[0m\u001b[0;34m\u001b[0m\u001b[0m\n\u001b[1;32m      4\u001b[0m \u001b[0mprint\u001b[0m\u001b[0;34m(\u001b[0m\u001b[0mi\u001b[0m\u001b[0;34m)\u001b[0m\u001b[0;34m\u001b[0m\u001b[0;34m\u001b[0m\u001b[0m\n\u001b[1;32m      5\u001b[0m \u001b[0mprint\u001b[0m\u001b[0;34m(\u001b[0m\u001b[0mfolder\u001b[0m\u001b[0;34m)\u001b[0m\u001b[0;34m\u001b[0m\u001b[0;34m\u001b[0m\u001b[0m\n",
      "\u001b[0;31mIndexError\u001b[0m: list index out of range"
     ]
    }
   ],
   "source": [
    "i+=1\n",
    "folder = folders[i]\n",
    "n = subCount[i]\n",
    "print(i)\n",
    "print(folder)\n",
    "print(n)"
   ]
  },
  {
   "cell_type": "code",
   "execution_count": 207,
   "id": "b099eaac",
   "metadata": {},
   "outputs": [],
   "source": [
    "if not os.path.isdir(f'fmriprep_{folder}'):\n",
    "    os.mkdir(f'fmriprep_{folder}')"
   ]
  },
  {
   "cell_type": "code",
   "execution_count": 208,
   "id": "ebebf7e4",
   "metadata": {},
   "outputs": [],
   "source": [
    "text = '''#!/bin/bash\n",
    "\n",
    "#SBATCH --job-name=job_fmriprep_{folder}\n",
    "#SBATCH --output=./fmriprep_{folder}/output_fmriprep_{folder}_%a\n",
    "#SBATCH --error=./fmriprep_{folder}/error_fmriprep_{folder}_%a\n",
    "#SBATCH --ntasks=1\n",
    "#SBATCH --time=10:00:00\n",
    "#SBATCH --mem=32gb\n",
    "#SBATCH --array=0-{n}\n",
    "\n",
    "module load singularity/\n",
    "\n",
    "date\n",
    "\n",
    "#rm -rf ./fmriprep_{folder}/output_*\n",
    "#rm -rf ./fmriprep_{folder}/error_*\n",
    "\n",
    "cd $HOME\n",
    "\n",
    "data_dir=$HOME'/data/ABIDE2/RawData/{folder}/'\n",
    "sing_image=$HOME/fmriprep-22\n",
    "\n",
    "cd $data_dir\n",
    "files=(sub*)\n",
    "\n",
    "cd $HOME\n",
    "\n",
    "output_dir=$HOME'/data/ABIDE2/Derivatives/fmriprep2/'\n",
    "\n",
    "fs_lic=$HOME'/fs_licence.txt'\n",
    "\n",
    "sub=${{files[$SLURM_ARRAY_TASK_ID]}} #;echo $sub\n",
    "\n",
    "\n",
    "echo $HOME\n",
    "echo $data_dir\n",
    "echo $output_dir\n",
    "echo $sub\n",
    "\n",
    "singularity run --bind /data/aglinska/scratch:/scratch --cleanenv $sing_image $data_dir $output_dir participant --participant-label $sub --fs-no-reconall --task-id 'rest' --fs-license-file $fs_lic --ignore slicetiming --output-spaces MNI152NLin2009cAsym:res-2\n",
    "\n",
    "\n",
    "'''"
   ]
  },
  {
   "cell_type": "code",
   "execution_count": 209,
   "id": "66375b62",
   "metadata": {},
   "outputs": [],
   "source": [
    "text = text.format(folder=folder,n=n)"
   ]
  },
  {
   "cell_type": "code",
   "execution_count": 210,
   "id": "3dd156fe",
   "metadata": {},
   "outputs": [],
   "source": [
    "with open(f'job_fmriprep_{folder}.slurm', 'w') as f:\n",
    "    f.write(text)"
   ]
  },
  {
   "cell_type": "code",
   "execution_count": 211,
   "id": "3a59568b",
   "metadata": {},
   "outputs": [
    {
     "name": "stdout",
     "output_type": "stream",
     "text": [
      "sbatch job_fmriprep_ABIDEII-USM_1.slurm\n"
     ]
    }
   ],
   "source": [
    "bashCommand = f'sbatch job_fmriprep_{folder}.slurm'\n",
    "print(bashCommand)"
   ]
  },
  {
   "cell_type": "code",
   "execution_count": 212,
   "id": "dc7e96b1",
   "metadata": {},
   "outputs": [],
   "source": [
    "with open(f'command.sh', 'w') as f:\n",
    "    f.write(bashCommand)"
   ]
  },
  {
   "cell_type": "code",
   "execution_count": 213,
   "id": "55d742a4",
   "metadata": {},
   "outputs": [],
   "source": [
    "!chmod 777 command.sh"
   ]
  },
  {
   "cell_type": "code",
   "execution_count": 214,
   "id": "adbfda5f",
   "metadata": {},
   "outputs": [
    {
     "name": "stdout",
     "output_type": "stream",
     "text": [
      "Submitted batch job 335929\n"
     ]
    }
   ],
   "source": [
    "!./command.sh"
   ]
  },
  {
   "cell_type": "code",
   "execution_count": 215,
   "id": "dae37980",
   "metadata": {},
   "outputs": [],
   "source": [
    "#!sbatch job_fmriprep_ABIDEII-ETHZ_1.slurm"
   ]
  },
  {
   "cell_type": "code",
   "execution_count": 216,
   "id": "22a7941a",
   "metadata": {},
   "outputs": [],
   "source": [
    "#!squeue"
   ]
  },
  {
   "cell_type": "code",
   "execution_count": null,
   "id": "3de45400",
   "metadata": {},
   "outputs": [],
   "source": []
  },
  {
   "cell_type": "code",
   "execution_count": null,
   "id": "94ca9784",
   "metadata": {},
   "outputs": [],
   "source": []
  },
  {
   "cell_type": "code",
   "execution_count": null,
   "id": "cfdcd731",
   "metadata": {},
   "outputs": [],
   "source": []
  }
 ],
 "metadata": {
  "kernelspec": {
   "display_name": "Python 3",
   "language": "python",
   "name": "python3"
  },
  "language_info": {
   "codemirror_mode": {
    "name": "ipython",
    "version": 3
   },
   "file_extension": ".py",
   "mimetype": "text/x-python",
   "name": "python",
   "nbconvert_exporter": "python",
   "pygments_lexer": "ipython3",
   "version": "3.8.5"
  }
 },
 "nbformat": 4,
 "nbformat_minor": 5
}
