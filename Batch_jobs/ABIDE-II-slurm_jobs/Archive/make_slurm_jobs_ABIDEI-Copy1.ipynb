{
 "cells": [
  {
   "cell_type": "code",
   "execution_count": 3,
   "id": "c07ef3b2",
   "metadata": {},
   "outputs": [
    {
     "data": {
      "text/plain": [
       "'/mmfs1/data/aglinska/BC-fMRI-AE/Code/ABIDE-II-slurm_jobs'"
      ]
     },
     "execution_count": 3,
     "metadata": {},
     "output_type": "execute_result"
    }
   ],
   "source": [
    "pwd"
   ]
  },
  {
   "cell_type": "code",
   "execution_count": 4,
   "id": "b6fe84cf",
   "metadata": {},
   "outputs": [],
   "source": [
    "import os\n",
    "import shutil"
   ]
  },
  {
   "cell_type": "code",
   "execution_count": 5,
   "id": "76507481",
   "metadata": {},
   "outputs": [
    {
     "data": {
      "text/plain": [
       "['CMU_a',\n",
       " 'CMU_b',\n",
       " 'Caltech',\n",
       " 'KKI',\n",
       " 'Leuven_1',\n",
       " 'Leuven_2',\n",
       " 'MaxMun_a',\n",
       " 'MaxMun_b',\n",
       " 'MaxMun_c',\n",
       " 'MaxMun_d',\n",
       " 'NYU',\n",
       " 'OHSU',\n",
       " 'Olin',\n",
       " 'Pitt',\n",
       " 'SBL',\n",
       " 'SDSU',\n",
       " 'Stanford',\n",
       " 'Trinity',\n",
       " 'UCLA_1',\n",
       " 'UCLA_2',\n",
       " 'UM_1',\n",
       " 'UM_2',\n",
       " 'USM',\n",
       " 'Yale']"
      ]
     },
     "execution_count": 5,
     "metadata": {},
     "output_type": "execute_result"
    }
   ],
   "source": [
    "indir = '../../../data/ABIDE/RawDataBIDS/'\n",
    "folders = [f for f in os.listdir(indir) if os.path.isdir(os.path.join(indir,f))]\n",
    "folders.sort()\n",
    "folders"
   ]
  },
  {
   "cell_type": "code",
   "execution_count": 8,
   "id": "635a4ce9",
   "metadata": {},
   "outputs": [
    {
     "name": "stdout",
     "output_type": "stream",
     "text": [
      " 00 |  CMU_a   | 014\n",
      " 01 |  CMU_b   | 013\n",
      " 02 | Caltech  | 038\n",
      " 03 |   KKI    | 055\n",
      " 04 | Leuven_1 | 029\n",
      " 05 | Leuven_2 | 035\n",
      " 06 | MaxMun_a | 018\n",
      " 07 | MaxMun_b | 006\n",
      " 08 | MaxMun_c | 017\n",
      " 09 | MaxMun_d | 016\n",
      " 10 |   NYU    | 184\n",
      " 11 |   OHSU   | 028\n",
      " 12 |   Olin   | 036\n",
      " 13 |   Pitt   | 057\n",
      " 14 |   SBL    | 030\n",
      " 15 |   SDSU   | 036\n",
      " 16 | Stanford | 040\n",
      " 17 | Trinity  | 049\n",
      " 18 |  UCLA_1  | 082\n",
      " 19 |  UCLA_2  | 027\n",
      " 20 |   UM_1   | 110\n",
      " 21 |   UM_2   | 035\n",
      " 22 |   USM    | 101\n",
      " 23 |   Yale   | 056\n"
     ]
    }
   ],
   "source": [
    "subCount = list()\n",
    "c = -1\n",
    "for folder in folders:\n",
    "    c+=1\n",
    "    nsubs = len([cont for cont in os.listdir(os.path.join(indir,folder)) if all((cont.startswith('sub-'),os.path.isdir(os.path.join(indir,folder,cont))))])\n",
    "    subCount.append(nsubs)\n",
    "    #print(f'{folder} | {nsubs}'.rjust(20,\"#\"))\n",
    "    print(f'{c:02d} |'.rjust(5)  + f'{folder}'.center(10) + f'| {nsubs:03d}'.rjust(5))"
   ]
  },
  {
   "cell_type": "code",
   "execution_count": 9,
   "id": "3ab62820",
   "metadata": {},
   "outputs": [],
   "source": [
    "i = -1"
   ]
  },
  {
   "cell_type": "code",
   "execution_count": 51,
   "id": "428a7274",
   "metadata": {},
   "outputs": [
    {
     "name": "stdout",
     "output_type": "stream",
     "text": [
      "1\n",
      "CMU_b\n",
      "13\n"
     ]
    }
   ],
   "source": [
    "i+=1\n",
    "folder = folders[i]\n",
    "n = subCount[i]\n",
    "print(i)\n",
    "print(folder)\n",
    "print(n)\n"
   ]
  },
  {
   "cell_type": "code",
   "execution_count": null,
   "id": "fabbac57",
   "metadata": {},
   "outputs": [],
   "source": [
    "if not os.path.isdir(f'fmriprep_ABIDEI-{folder}'):\n",
    "    os.mkdir(f'fmriprep_ABIDEI-{folder}')"
   ]
  },
  {
   "cell_type": "code",
   "execution_count": 50,
   "id": "0a82414e",
   "metadata": {},
   "outputs": [],
   "source": [
    "text = '''#!/bin/bash\n",
    "\n",
    "#SBATCH --job-name=job_fmriprep_ABIDEI-{folder}\n",
    "#SBATCH --output=./fmriprep_ABIDEI-{folder}/output_fmriprep_ABIDEI-{folder}_%a\n",
    "#SBATCH --error=./fmriprep_ABIDEI-{folder}/error_fmriprep_ABIDEI-{folder}_%a\n",
    "\n",
    "#SBATCH --ntasks=1\n",
    "#SBATCH --time=10:00:00\n",
    "#SBATCH --mem=32gb\n",
    "\n",
    "#SBATCH --array=0-{n}\n",
    "\n",
    "\n",
    "module load singularity/\n",
    "\n",
    "date\n",
    "\n",
    "#rm -rf ./fmriprep_ABIDEI-{folder}/output_*\n",
    "#rm -rf ./fmriprep_ABIDEI-{folder}/error_*\n",
    "\n",
    "cd $HOME\n",
    "\n",
    "data_dir=$HOME'/data/ABIDE/RawDataBIDS/{folder}/'\n",
    "sing_image=$HOME/fmriprep.simg\n",
    "\n",
    "cd $data_dir\n",
    "files=(sub*)\n",
    "\n",
    "cd $HOME\n",
    "\n",
    "output_dir=$HOME/data/ABIDE/Derivatives/fmriprep2/\n",
    "\n",
    "fs_lic=$HOME'/fs_licence.txt'\n",
    "\n",
    "sub=${{files[$SLURM_ARRAY_TASK_ID]}} #;echo $sub\n",
    "\n",
    "echo $HOME\n",
    "echo $data_dir\n",
    "echo $output_dir\n",
    "echo $sub\n",
    "\n",
    "#echo ${{files[$SLURM_ARRAY_TASK_ID]}}\n",
    "\n",
    "singularity run --bind /data/aglinska/scratch:/scratch --cleanenv $sing_image $data_dir $output_dir participant --participant-label $sub --fs-no-reconall --task-id 'rest' --fs-license-file $fs_lic --output-spaces MNI152NLin2009cAsym:res-2\n",
    "\n",
    "\n",
    "'''"
   ]
  },
  {
   "cell_type": "code",
   "execution_count": 44,
   "id": "d42f9d9f",
   "metadata": {},
   "outputs": [],
   "source": [
    "with open(f'job_fmriprep_{folder}.slurm', 'w') as f:\n",
    "    f.write(text)"
   ]
  },
  {
   "cell_type": "code",
   "execution_count": 45,
   "id": "dacd151d",
   "metadata": {},
   "outputs": [
    {
     "name": "stdout",
     "output_type": "stream",
     "text": [
      "sbatch job_fmriprep_CMU_a.slurm\n"
     ]
    }
   ],
   "source": [
    "bashCommand = f'sbatch job_fmriprep_{folder}.slurm'\n",
    "print(bashCommand)"
   ]
  },
  {
   "cell_type": "code",
   "execution_count": 46,
   "id": "6a47cd95",
   "metadata": {},
   "outputs": [],
   "source": [
    "with open(f'command.sh', 'w') as f:\n",
    "    f.write(bashCommand)"
   ]
  },
  {
   "cell_type": "code",
   "execution_count": 47,
   "id": "003505a2",
   "metadata": {},
   "outputs": [],
   "source": [
    "!chmod 777 command.sh"
   ]
  },
  {
   "cell_type": "code",
   "execution_count": 48,
   "id": "c73406a1",
   "metadata": {},
   "outputs": [
    {
     "name": "stdout",
     "output_type": "stream",
     "text": [
      "Submitted batch job 279552\n"
     ]
    }
   ],
   "source": [
    "!./command.sh"
   ]
  },
  {
   "cell_type": "code",
   "execution_count": 49,
   "id": "185d6596",
   "metadata": {},
   "outputs": [],
   "source": [
    "#!sbatch job_fmriprep_ABIDEII-ETHZ_1.slurm"
   ]
  },
  {
   "cell_type": "code",
   "execution_count": 20,
   "id": "93f11bd8",
   "metadata": {},
   "outputs": [],
   "source": [
    "#!squeue"
   ]
  },
  {
   "cell_type": "code",
   "execution_count": null,
   "id": "25e104b4",
   "metadata": {},
   "outputs": [],
   "source": []
  },
  {
   "cell_type": "code",
   "execution_count": null,
   "id": "de86aa8e",
   "metadata": {},
   "outputs": [],
   "source": []
  },
  {
   "cell_type": "code",
   "execution_count": null,
   "id": "3ca85ea5",
   "metadata": {},
   "outputs": [],
   "source": []
  },
  {
   "cell_type": "code",
   "execution_count": null,
   "id": "a2550060",
   "metadata": {},
   "outputs": [],
   "source": []
  },
  {
   "cell_type": "code",
   "execution_count": null,
   "id": "4d3eb32d",
   "metadata": {},
   "outputs": [],
   "source": []
  }
 ],
 "metadata": {
  "kernelspec": {
   "display_name": "Python 3",
   "language": "python",
   "name": "python3"
  },
  "language_info": {
   "codemirror_mode": {
    "name": "ipython",
    "version": 3
   },
   "file_extension": ".py",
   "mimetype": "text/x-python",
   "name": "python",
   "nbconvert_exporter": "python",
   "pygments_lexer": "ipython3",
   "version": "3.8.5"
  }
 },
 "nbformat": 4,
 "nbformat_minor": 5
}
