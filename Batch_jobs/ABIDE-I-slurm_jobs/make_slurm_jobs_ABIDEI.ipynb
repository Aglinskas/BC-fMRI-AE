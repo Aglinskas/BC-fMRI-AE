{
 "cells": [
  {
   "cell_type": "code",
   "execution_count": 53,
   "id": "c6529ab0",
   "metadata": {},
   "outputs": [
    {
     "data": {
      "text/plain": [
       "'/mmfs1/data/aglinska/BC-fMRI-AE/Code/ABIDE-I-slurm_jobs'"
      ]
     },
     "execution_count": 53,
     "metadata": {},
     "output_type": "execute_result"
    }
   ],
   "source": [
    "pwd"
   ]
  },
  {
   "cell_type": "code",
   "execution_count": 54,
   "id": "9e89c0c6",
   "metadata": {},
   "outputs": [],
   "source": [
    "import os\n",
    "import shutil"
   ]
  },
  {
   "cell_type": "code",
   "execution_count": 55,
   "id": "5343e674",
   "metadata": {},
   "outputs": [
    {
     "data": {
      "text/plain": [
       "24"
      ]
     },
     "execution_count": 55,
     "metadata": {},
     "output_type": "execute_result"
    }
   ],
   "source": [
    "indir = '../../../data/ABIDE/RawDataBIDS/'\n",
    "folders = [f for f in os.listdir(indir) if os.path.isdir(os.path.join(indir,f))]\n",
    "folders.sort()\n",
    "len(folders)"
   ]
  },
  {
   "cell_type": "code",
   "execution_count": 56,
   "id": "84d5ce8f",
   "metadata": {},
   "outputs": [],
   "source": [
    "#sum(subCount)"
   ]
  },
  {
   "cell_type": "code",
   "execution_count": 57,
   "id": "e3f0aee5",
   "metadata": {},
   "outputs": [
    {
     "name": "stdout",
     "output_type": "stream",
     "text": [
      " 00 |  CMU_a   | 014\n",
      " 01 |  CMU_b   | 013\n",
      " 02 | Caltech  | 038\n",
      " 03 |   KKI    | 055\n",
      " 04 | Leuven_1 | 029\n",
      " 05 | Leuven_2 | 035\n",
      " 06 | MaxMun_a | 018\n",
      " 07 | MaxMun_b | 006\n",
      " 08 | MaxMun_c | 017\n",
      " 09 | MaxMun_d | 016\n",
      " 10 |   NYU    | 184\n",
      " 11 |   OHSU   | 028\n",
      " 12 |   Olin   | 036\n",
      " 13 |   Pitt   | 057\n",
      " 14 |   SBL    | 030\n",
      " 15 |   SDSU   | 036\n",
      " 16 | Stanford | 040\n",
      " 17 | Trinity  | 049\n",
      " 18 |  UCLA_1  | 082\n",
      " 19 |  UCLA_2  | 027\n",
      " 20 |   UM_1   | 110\n",
      " 21 |   UM_2   | 035\n",
      " 22 |   USM    | 101\n",
      " 23 |   Yale   | 056\n"
     ]
    }
   ],
   "source": [
    "subCount = list()\n",
    "c = -1\n",
    "for folder in folders:\n",
    "    c+=1\n",
    "    nsubs = len([cont for cont in os.listdir(os.path.join(indir,folder)) if all((cont.startswith('sub-'),os.path.isdir(os.path.join(indir,folder,cont))))])\n",
    "    subCount.append(nsubs)\n",
    "    #print(f'{folder} | {nsubs}'.rjust(20,\"#\"))\n",
    "    print(f'{c:02d} |'.rjust(5)  + f'{folder}'.center(10) + f'| {nsubs:03d}'.rjust(5))"
   ]
  },
  {
   "cell_type": "code",
   "execution_count": 285,
   "id": "d87d4a91",
   "metadata": {},
   "outputs": [],
   "source": [
    "i = -1"
   ]
  },
  {
   "cell_type": "code",
   "execution_count": 286,
   "id": "562d5bc6",
   "metadata": {},
   "outputs": [
    {
     "name": "stdout",
     "output_type": "stream",
     "text": [
      "0\n",
      "CMU_a\n",
      "14\n"
     ]
    }
   ],
   "source": [
    "i+=1\n",
    "folder = folders[i]\n",
    "n = subCount[i]\n",
    "print(i)\n",
    "print(folder)\n",
    "print(n)"
   ]
  },
  {
   "cell_type": "code",
   "execution_count": 277,
   "id": "8f5e0051",
   "metadata": {},
   "outputs": [],
   "source": [
    "if not os.path.isdir(f'fmriprep_ABIDEI-{folder}'):\n",
    "    os.mkdir(f'fmriprep_ABIDEI-{folder}')"
   ]
  },
  {
   "cell_type": "code",
   "execution_count": 278,
   "id": "e520edf8",
   "metadata": {},
   "outputs": [],
   "source": [
    "text = '''#!/bin/bash\n",
    "\n",
    "#SBATCH --job-name=job_fmriprep_ABIDEI-{folder}\n",
    "#SBATCH --output=./fmriprep_ABIDEI-{folder}/output_fmriprep_ABIDEI-{folder}_%a\n",
    "#SBATCH --error=./fmriprep_ABIDEI-{folder}/error_fmriprep_ABIDEI-{folder}_%a\n",
    "\n",
    "#SBATCH --ntasks=1\n",
    "#SBATCH --time=10:00:00\n",
    "#SBATCH --mem=32gb\n",
    "\n",
    "#SBATCH --array=0-{n}\n",
    "\n",
    "\n",
    "module load singularity/\n",
    "\n",
    "date\n",
    "\n",
    "#rm -rf ./fmriprep_ABIDEI-{folder}/output_*\n",
    "#rm -rf ./fmriprep_ABIDEI-{folder}/error_*\n",
    "\n",
    "cd $HOME\n",
    "\n",
    "data_dir=$HOME'/data/ABIDE/RawDataBIDS/{folder}/'\n",
    "sing_image=$HOME/fmriprep.simg\n",
    "\n",
    "cd $data_dir\n",
    "files=(sub*)\n",
    "\n",
    "cd $HOME\n",
    "\n",
    "output_dir=$HOME/data/ABIDE/Derivatives/fmriprep/\n",
    "\n",
    "fs_lic=$HOME'/fs_licence.txt'\n",
    "\n",
    "sub=${{files[$SLURM_ARRAY_TASK_ID]}} #;echo $sub\n",
    "\n",
    "echo $HOME\n",
    "echo $data_dir\n",
    "echo $output_dir\n",
    "echo $sub\n",
    "\n",
    "singularity run --bind /data/aglinska/scratch:/scratch --cleanenv $sing_image $data_dir $output_dir participant --participant-label $sub --fs-no-reconall --task-id 'rest' --fs-license-file $fs_lic --ignore slicetiming\n",
    "\n",
    "\n",
    "'''"
   ]
  },
  {
   "cell_type": "code",
   "execution_count": 279,
   "id": "4b5bebff",
   "metadata": {},
   "outputs": [],
   "source": [
    "text = text.format(folder=folder,n=n)"
   ]
  },
  {
   "cell_type": "code",
   "execution_count": 280,
   "id": "b5b9ea90",
   "metadata": {},
   "outputs": [],
   "source": [
    "with open(f'job_fmriprep_{folder}.slurm', 'w') as f:\n",
    "    f.write(text)"
   ]
  },
  {
   "cell_type": "code",
   "execution_count": 281,
   "id": "5911b9cc",
   "metadata": {},
   "outputs": [
    {
     "name": "stdout",
     "output_type": "stream",
     "text": [
      "sbatch job_fmriprep_Yale.slurm\n"
     ]
    }
   ],
   "source": [
    "bashCommand = f'sbatch job_fmriprep_{folder}.slurm'\n",
    "print(bashCommand)"
   ]
  },
  {
   "cell_type": "code",
   "execution_count": 282,
   "id": "b5a49de2",
   "metadata": {},
   "outputs": [],
   "source": [
    "with open(f'command.sh', 'w') as f:\n",
    "    f.write(bashCommand)"
   ]
  },
  {
   "cell_type": "code",
   "execution_count": 283,
   "id": "0d450002",
   "metadata": {},
   "outputs": [],
   "source": [
    "!chmod 777 command.sh"
   ]
  },
  {
   "cell_type": "code",
   "execution_count": 284,
   "id": "d14c7b39",
   "metadata": {},
   "outputs": [
    {
     "name": "stdout",
     "output_type": "stream",
     "text": [
      "Submitted batch job 270736\n"
     ]
    }
   ],
   "source": [
    "!./command.sh"
   ]
  },
  {
   "cell_type": "code",
   "execution_count": null,
   "id": "534362d3",
   "metadata": {},
   "outputs": [],
   "source": []
  },
  {
   "cell_type": "code",
   "execution_count": null,
   "id": "424d2828",
   "metadata": {},
   "outputs": [],
   "source": []
  },
  {
   "cell_type": "code",
   "execution_count": null,
   "id": "31bdb911",
   "metadata": {},
   "outputs": [],
   "source": []
  },
  {
   "cell_type": "code",
   "execution_count": null,
   "id": "b84988c1",
   "metadata": {},
   "outputs": [],
   "source": []
  },
  {
   "cell_type": "code",
   "execution_count": null,
   "id": "ae329f3b",
   "metadata": {},
   "outputs": [],
   "source": [
    "\n"
   ]
  },
  {
   "cell_type": "code",
   "execution_count": null,
   "id": "09a3f528",
   "metadata": {},
   "outputs": [],
   "source": []
  },
  {
   "cell_type": "code",
   "execution_count": null,
   "id": "782e08b1",
   "metadata": {},
   "outputs": [],
   "source": []
  },
  {
   "cell_type": "code",
   "execution_count": null,
   "id": "c265ed9b",
   "metadata": {},
   "outputs": [],
   "source": []
  }
 ],
 "metadata": {
  "kernelspec": {
   "display_name": "Python 3",
   "language": "python",
   "name": "python3"
  },
  "language_info": {
   "codemirror_mode": {
    "name": "ipython",
    "version": 3
   },
   "file_extension": ".py",
   "mimetype": "text/x-python",
   "name": "python",
   "nbconvert_exporter": "python",
   "pygments_lexer": "ipython3",
   "version": "3.8.5"
  }
 },
 "nbformat": 4,
 "nbformat_minor": 5
}
