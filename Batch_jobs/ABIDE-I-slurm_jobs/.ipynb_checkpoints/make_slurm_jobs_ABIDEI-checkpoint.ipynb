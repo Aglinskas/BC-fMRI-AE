{
 "cells": [
  {
   "cell_type": "code",
   "execution_count": 1,
   "id": "28ba3dc8",
   "metadata": {},
   "outputs": [
    {
     "data": {
      "text/plain": [
       "'/mmfs1/data/aglinska/BC-fMRI-AE/Code/slurm_jobs'"
      ]
     },
     "execution_count": 1,
     "metadata": {},
     "output_type": "execute_result"
    }
   ],
   "source": [
    "pwd"
   ]
  },
  {
   "cell_type": "code",
   "execution_count": 2,
   "id": "3bb0cfd6",
   "metadata": {},
   "outputs": [],
   "source": [
    "import os\n",
    "import shutil"
   ]
  },
  {
   "cell_type": "code",
   "execution_count": 5,
   "id": "221e0254",
   "metadata": {},
   "outputs": [
    {
     "data": {
      "text/plain": [
       "['CMU_a',\n",
       " 'CMU_b',\n",
       " 'Caltech',\n",
       " 'KKI',\n",
       " 'Leuven_1',\n",
       " 'Leuven_2',\n",
       " 'MaxMun_a',\n",
       " 'MaxMun_b',\n",
       " 'MaxMun_c',\n",
       " 'MaxMun_d',\n",
       " 'NYU',\n",
       " 'OHSU',\n",
       " 'Olin',\n",
       " 'Pitt',\n",
       " 'SBL',\n",
       " 'SDSU',\n",
       " 'Stanford',\n",
       " 'Trinity',\n",
       " 'UCLA_1',\n",
       " 'UCLA_2',\n",
       " 'UM_1',\n",
       " 'UM_2',\n",
       " 'USM',\n",
       " 'Yale']"
      ]
     },
     "execution_count": 5,
     "metadata": {},
     "output_type": "execute_result"
    }
   ],
   "source": [
    "indir = '../../../data/ABIDE/RawDataBIDS/'\n",
    "folders = [f for f in os.listdir(indir) if os.path.isdir(os.path.join(indir,f))]\n",
    "folders.sort()\n",
    "folders"
   ]
  },
  {
   "cell_type": "code",
   "execution_count": 8,
   "id": "f0189ee3",
   "metadata": {},
   "outputs": [
    {
     "data": {
      "text/plain": [
       "1112"
      ]
     },
     "execution_count": 8,
     "metadata": {},
     "output_type": "execute_result"
    }
   ],
   "source": [
    "sum(subCount)"
   ]
  },
  {
   "cell_type": "code",
   "execution_count": 30,
   "id": "0e6b0b22",
   "metadata": {},
   "outputs": [
    {
     "name": "stdout",
     "output_type": "stream",
     "text": [
      " 00 |  CMU_a   | 014\n",
      " 01 |  CMU_b   | 013\n",
      " 02 | Caltech  | 038\n",
      " 03 |   KKI    | 055\n",
      " 04 | Leuven_1 | 029\n",
      " 05 | Leuven_2 | 035\n",
      " 06 | MaxMun_a | 018\n",
      " 07 | MaxMun_b | 006\n",
      " 08 | MaxMun_c | 017\n",
      " 09 | MaxMun_d | 016\n",
      " 10 |   NYU    | 184\n",
      " 11 |   OHSU   | 028\n",
      " 12 |   Olin   | 036\n",
      " 13 |   Pitt   | 057\n",
      " 14 |   SBL    | 030\n",
      " 15 |   SDSU   | 036\n",
      " 16 | Stanford | 040\n",
      " 17 | Trinity  | 049\n",
      " 18 |  UCLA_1  | 082\n",
      " 19 |  UCLA_2  | 027\n",
      " 20 |   UM_1   | 110\n",
      " 21 |   UM_2   | 035\n",
      " 22 |   USM    | 101\n",
      " 23 |   Yale   | 056\n"
     ]
    }
   ],
   "source": [
    "subCount = list()\n",
    "c = -1\n",
    "for folder in folders:\n",
    "    c+=1\n",
    "    nsubs = len([cont for cont in os.listdir(os.path.join(indir,folder)) if all((cont.startswith('sub-'),os.path.isdir(os.path.join(indir,folder,cont))))])\n",
    "    subCount.append(nsubs)\n",
    "    #print(f'{folder} | {nsubs}'.rjust(20,\"#\"))\n",
    "    print(f'{c:02d} |'.rjust(5)  + f'{folder}'.center(10) + f'| {nsubs:03d}'.rjust(5))"
   ]
  },
  {
   "cell_type": "code",
   "execution_count": 31,
   "id": "ac09efba",
   "metadata": {},
   "outputs": [],
   "source": [
    "i = -1"
   ]
  },
  {
   "cell_type": "code",
   "execution_count": 32,
   "id": "c6456fd5",
   "metadata": {},
   "outputs": [],
   "source": [
    "#i = 10"
   ]
  },
  {
   "cell_type": "code",
   "execution_count": 33,
   "id": "32786afc",
   "metadata": {},
   "outputs": [
    {
     "name": "stdout",
     "output_type": "stream",
     "text": [
      "0\n",
      "CMU_a\n",
      "14\n"
     ]
    }
   ],
   "source": [
    "i+=1\n",
    "folder = folders[i]\n",
    "n = subCount[i]\n",
    "print(i)\n",
    "print(folder)\n",
    "print(n)"
   ]
  },
  {
   "cell_type": "code",
   "execution_count": 8,
   "id": "33e05461",
   "metadata": {},
   "outputs": [],
   "source": [
    "if not os.path.isdir(f'fmriprep_ABIDEI-{folder}'):\n",
    "    os.mkdir(f'fmriprep_ABIDEI-{folder}')"
   ]
  },
  {
   "cell_type": "code",
   "execution_count": 9,
   "id": "36c30944",
   "metadata": {},
   "outputs": [],
   "source": [
    "text = '''#!/bin/bash\n",
    "\n",
    "#SBATCH --job-name=job_fmriprep_ABIDEI-{folder}\n",
    "#SBATCH --output=./fmriprep_ABIDEI-{folder}/output_fmriprep_ABIDEI-{folder}_%a\n",
    "#SBATCH --error=./fmriprep_ABIDEI-{folder}/error_fmriprep_ABIDEI-{folder}_%a\n",
    "\n",
    "#SBATCH --ntasks=1\n",
    "#SBATCH --time=10:00:00\n",
    "#SBATCH --mem=32gb\n",
    "\n",
    "#SBATCH --array=0-{n}\n",
    "\n",
    "\n",
    "module load singularity/\n",
    "\n",
    "date\n",
    "\n",
    "rm -rf ./fmriprep_ABIDEI-{folder}/output_*\n",
    "rm -rf ./fmriprep_ABIDEI-{folder}/error_*\n",
    "\n",
    "cd $HOME\n",
    "\n",
    "data_dir=$HOME'/data/ABIDE/RawDataBIDS/{folder}/\n",
    "sing_image=$HOME/fmriprep.simg\n",
    "\n",
    "cd $data_dir\n",
    "files=(sub*)\n",
    "\n",
    "cd $HOME\n",
    "\n",
    "output_dir=$HOME/data/ABIDE/Derivatives/fmriprep/\n",
    "\n",
    "fs_lic=$HOME'/fs_licence.txt'\n",
    "\n",
    "sub=${{files[$SLURM_ARRAY_TASK_ID]}} #;echo $sub\n",
    "\n",
    "echo $HOME\n",
    "echo $data_dir\n",
    "echo $output_dir\n",
    "echo $sub\n",
    "\n",
    "#echo ${{files[$SLURM_ARRAY_TASK_ID]}}\n",
    "\n",
    "singularity run --bind /data/aglinska/scratch:/scratch --cleanenv $sing_image $data_dir $output_dir participant --participant-label $sub --fs-no-reconall --task-id 'rest' --fs-license-file $fs_lic\n",
    "\n",
    "'''"
   ]
  },
  {
   "cell_type": "code",
   "execution_count": 10,
   "id": "86bd81be",
   "metadata": {},
   "outputs": [],
   "source": [
    "text = text.format(folder=folder,n=n)"
   ]
  },
  {
   "cell_type": "code",
   "execution_count": 11,
   "id": "da9f26d9",
   "metadata": {},
   "outputs": [],
   "source": [
    "with open(f'job_fmriprep_{folder}.slurm', 'w') as f:\n",
    "    f.write(text)"
   ]
  },
  {
   "cell_type": "code",
   "execution_count": 12,
   "id": "884bb42d",
   "metadata": {},
   "outputs": [
    {
     "name": "stdout",
     "output_type": "stream",
     "text": [
      "sbatch job_fmriprep_ABIDEII-BNI_1.slurm\n"
     ]
    }
   ],
   "source": [
    "bashCommand = f'sbatch job_fmriprep_{folder}.slurm'\n",
    "print(bashCommand)"
   ]
  },
  {
   "cell_type": "code",
   "execution_count": 13,
   "id": "e5b15dfd",
   "metadata": {},
   "outputs": [],
   "source": [
    "with open(f'command.sh', 'w') as f:\n",
    "    f.write(bashCommand)"
   ]
  },
  {
   "cell_type": "code",
   "execution_count": 14,
   "id": "d41a18b0",
   "metadata": {},
   "outputs": [],
   "source": [
    "!chmod 777 command.sh"
   ]
  },
  {
   "cell_type": "code",
   "execution_count": 15,
   "id": "e0717518",
   "metadata": {},
   "outputs": [
    {
     "name": "stdout",
     "output_type": "stream",
     "text": [
      "Submitted batch job 166486\n"
     ]
    }
   ],
   "source": [
    "!./command.sh"
   ]
  },
  {
   "cell_type": "code",
   "execution_count": 16,
   "id": "dbf28aa7",
   "metadata": {},
   "outputs": [],
   "source": [
    "#!sbatch job_fmriprep_ABIDEII-ETHZ_1.slurm"
   ]
  },
  {
   "cell_type": "code",
   "execution_count": 17,
   "id": "c9c67c13",
   "metadata": {},
   "outputs": [],
   "source": [
    "#!squeue"
   ]
  },
  {
   "cell_type": "code",
   "execution_count": null,
   "id": "a13c5ad0",
   "metadata": {},
   "outputs": [],
   "source": []
  },
  {
   "cell_type": "code",
   "execution_count": null,
   "id": "87e59636",
   "metadata": {},
   "outputs": [],
   "source": []
  },
  {
   "cell_type": "code",
   "execution_count": null,
   "id": "6a18158d",
   "metadata": {},
   "outputs": [],
   "source": []
  }
 ],
 "metadata": {
  "kernelspec": {
   "display_name": "Python 3",
   "language": "python",
   "name": "python3"
  },
  "language_info": {
   "codemirror_mode": {
    "name": "ipython",
    "version": 3
   },
   "file_extension": ".py",
   "mimetype": "text/x-python",
   "name": "python",
   "nbconvert_exporter": "python",
   "pygments_lexer": "ipython3",
   "version": "3.8.5"
  }
 },
 "nbformat": 4,
 "nbformat_minor": 5
}
