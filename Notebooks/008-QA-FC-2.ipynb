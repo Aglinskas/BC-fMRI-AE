{
 "cells": [
  {
   "cell_type": "code",
   "execution_count": 1,
   "id": "f86fe1b7",
   "metadata": {},
   "outputs": [
    {
     "name": "stdout",
     "output_type": "stream",
     "text": [
      "Fri Aug 12 10:59:46 EDT 2022\n"
     ]
    }
   ],
   "source": [
    "!date"
   ]
  },
  {
   "cell_type": "code",
   "execution_count": 2,
   "id": "02633d33",
   "metadata": {},
   "outputs": [
    {
     "data": {
      "text/plain": [
       "'/mmfs1/data/aglinska/BC-fMRI-AE/Notebooks'"
      ]
     },
     "execution_count": 2,
     "metadata": {},
     "output_type": "execute_result"
    }
   ],
   "source": [
    "pwd"
   ]
  },
  {
   "cell_type": "code",
   "execution_count": 3,
   "id": "6ab2a369",
   "metadata": {},
   "outputs": [],
   "source": [
    "import numpy as np\n",
    "import pandas as pd \n",
    "import os\n",
    "#import ants\n",
    "from tqdm import tqdm\n",
    "from matplotlib import pyplot as plt\n",
    "\n",
    "from helper_funcs import *"
   ]
  },
  {
   "cell_type": "code",
   "execution_count": null,
   "id": "f9e429f7",
   "metadata": {},
   "outputs": [],
   "source": []
  },
  {
   "cell_type": "code",
   "execution_count": 4,
   "id": "e0bebeeb",
   "metadata": {},
   "outputs": [
    {
     "name": "stdout",
     "output_type": "stream",
     "text": [
      "               CMU_a | 100.00% | 014/014\n",
      "               CMU_b | 100.00% | 013/013\n",
      "             Caltech | 84.21% | 038/032\n",
      "                 KKI | 98.18% | 055/054\n",
      "            Leuven_1 | 100.00% | 029/029\n",
      "            Leuven_2 | 100.00% | 035/035\n",
      "            MaxMun_a | 100.00% | 018/018\n",
      "            MaxMun_b | 100.00% | 006/006\n",
      "            MaxMun_c | 100.00% | 017/017\n",
      "            MaxMun_d | 100.00% | 016/016\n",
      "                 NYU | 100.00% | 184/184\n",
      "                OHSU | 100.00% | 028/028\n",
      "                Olin | 100.00% | 036/036\n",
      "                Pitt | 100.00% | 057/057\n",
      "                 SBL | 100.00% | 030/030\n",
      "                SDSU | 100.00% | 036/036\n",
      "            Stanford | 100.00% | 040/040\n",
      "             Trinity | 100.00% | 049/049\n",
      "              UCLA_1 | 89.02% | 082/073\n",
      "              UCLA_2 | 96.30% | 027/026\n",
      "                UM_1 | 100.00% | 110/110\n",
      "                UM_2 | 100.00% | 035/035\n",
      "                 USM | 100.00% | 101/101\n",
      "                Yale | 100.00% | 056/056\n",
      "1095/1112 | 98.47%\n"
     ]
    }
   ],
   "source": [
    "raw_indir = '~/data/ABIDE/RawDataBIDS/'\n",
    "raw_indir = os.path.expanduser(raw_indir)\n",
    "sites = os.listdir(raw_indir)\n",
    "sites.sort()\n",
    "\n",
    "all_check = []\n",
    "for site,_ in enumerate(sites):\n",
    "    site_check = []\n",
    "    site_subs = [sub for sub in os.listdir(os.path.join(raw_indir,sites[site])) if sub.startswith('sub-')]\n",
    "    for site_sub, _ in enumerate(site_subs):\n",
    "        subID = site_subs[site_sub]\n",
    "        fn = f'~/data/ABIDE/Derivatives/fmriprep4/{subID}/func/{subID}_task-rest_run-1_space-MNI152NLin2009cAsym_res-2_desc-preproc_bold.nii.gz'\n",
    "        fn = os.path.expanduser(fn)\n",
    "        site_check.append([subID,os.path.exists(fn)])\n",
    "    all_check.append(site_check)\n",
    "    \n",
    "def str2bool(vec):\n",
    "    return np.array([i.lower()=='true' for i in vec])\n",
    "\n",
    "for s,_ in enumerate(sites):\n",
    "    vec = str2bool(np.array(all_check[s])[:,1])\n",
    "    print(f'{sites[s].rjust(20)} | {vec.mean()*100:.2f}% | {len(vec):03d}/{vec.sum():03d}')\n",
    "\n",
    "\n",
    "done_subs = np.array([[str2bool(np.array(all_check[i])[:,1]).sum() for i,_ in enumerate(all_check)]]).sum()\n",
    "all_subs = np.array([[str2bool(np.array(all_check[i])[:,1]).shape[0] for i,_ in enumerate(all_check)]]).sum()\n",
    "print(f'{done_subs}/{all_subs} | {done_subs/all_subs*100:.2f}%')"
   ]
  },
  {
   "cell_type": "code",
   "execution_count": 5,
   "id": "1d13f83a",
   "metadata": {},
   "outputs": [
    {
     "data": {
      "text/html": [
       "<div>\n",
       "<style scoped>\n",
       "    .dataframe tbody tr th:only-of-type {\n",
       "        vertical-align: middle;\n",
       "    }\n",
       "\n",
       "    .dataframe tbody tr th {\n",
       "        vertical-align: top;\n",
       "    }\n",
       "\n",
       "    .dataframe thead th {\n",
       "        text-align: right;\n",
       "    }\n",
       "</style>\n",
       "<table border=\"1\" class=\"dataframe\">\n",
       "  <thead>\n",
       "    <tr style=\"text-align: right;\">\n",
       "      <th></th>\n",
       "      <th>subID</th>\n",
       "      <th>status</th>\n",
       "      <th>dataset</th>\n",
       "    </tr>\n",
       "  </thead>\n",
       "  <tbody>\n",
       "    <tr>\n",
       "      <th>0</th>\n",
       "      <td>sub-0050656</td>\n",
       "      <td>True</td>\n",
       "      <td>ABIDE I</td>\n",
       "    </tr>\n",
       "    <tr>\n",
       "      <th>1</th>\n",
       "      <td>sub-0050642</td>\n",
       "      <td>True</td>\n",
       "      <td>ABIDE I</td>\n",
       "    </tr>\n",
       "    <tr>\n",
       "      <th>2</th>\n",
       "      <td>sub-0050666</td>\n",
       "      <td>True</td>\n",
       "      <td>ABIDE I</td>\n",
       "    </tr>\n",
       "    <tr>\n",
       "      <th>3</th>\n",
       "      <td>sub-0050665</td>\n",
       "      <td>True</td>\n",
       "      <td>ABIDE I</td>\n",
       "    </tr>\n",
       "    <tr>\n",
       "      <th>4</th>\n",
       "      <td>sub-0050654</td>\n",
       "      <td>True</td>\n",
       "      <td>ABIDE I</td>\n",
       "    </tr>\n",
       "  </tbody>\n",
       "</table>\n",
       "</div>"
      ],
      "text/plain": [
       "         subID status  dataset\n",
       "0  sub-0050656   True  ABIDE I\n",
       "1  sub-0050642   True  ABIDE I\n",
       "2  sub-0050666   True  ABIDE I\n",
       "3  sub-0050665   True  ABIDE I\n",
       "4  sub-0050654   True  ABIDE I"
      ]
     },
     "execution_count": 5,
     "metadata": {},
     "output_type": "execute_result"
    }
   ],
   "source": [
    "AB1_check = pd.DataFrame(np.vstack(all_check),columns=['subID','status'])\n",
    "AB1_check['dataset'] = 'ABIDE I'\n",
    "AB1_check.head()"
   ]
  },
  {
   "cell_type": "code",
   "execution_count": 6,
   "id": "842ad652",
   "metadata": {},
   "outputs": [
    {
     "name": "stdout",
     "output_type": "stream",
     "text": [
      "       ABIDEII-BNI_1 | 100.00% | 058/058\n",
      "       ABIDEII-EMC_1 | 100.00% | 054/054\n",
      "      ABIDEII-ETHZ_1 | 100.00% | 037/037\n",
      "        ABIDEII-GU_1 | 70.75% | 106/075\n",
      "        ABIDEII-IP_1 | 98.21% | 056/055\n",
      "        ABIDEII-IU_1 | 100.00% | 040/040\n",
      "       ABIDEII-KKI_1 | 100.00% | 211/211\n",
      "       ABIDEII-KUL_3 | 100.00% | 028/028\n",
      "       ABIDEII-NYU_1 | 100.00% | 078/078\n",
      "       ABIDEII-NYU_2 | 100.00% | 027/027\n",
      "      ABIDEII-OHSU_1 | 100.00% | 093/093\n",
      "      ABIDEII-ONRC_2 | 89.55% | 067/060\n",
      "      ABIDEII-SDSU_1 | 100.00% | 058/058\n",
      "       ABIDEII-TCD_1 | 100.00% | 042/042\n",
      "       ABIDEII-UCD_1 | 100.00% | 032/032\n",
      "      ABIDEII-UCLA_1 | 100.00% | 032/032\n",
      "   ABIDEII-UCLA_Long | 100.00% | 042/042\n",
      "   ABIDEII-UPSM_Long | 100.00% | 034/034\n",
      "       ABIDEII-USM_1 | 100.00% | 033/033\n",
      "1089/1128 | 96.54%\n"
     ]
    }
   ],
   "source": [
    "raw_indir = '~/data/ABIDE2/RawData/'\n",
    "raw_indir = os.path.expanduser(raw_indir)\n",
    "sites = [site for site in os.listdir(raw_indir) if site.startswith('ABIDEII')]\n",
    "sites.sort()\n",
    "\n",
    "all_check = []\n",
    "all_files = []\n",
    "for site,_ in enumerate(sites):\n",
    "    site_check = []\n",
    "    site_files = []\n",
    "    site_subs = [sub for sub in os.listdir(os.path.join(raw_indir,sites[site])) if sub.startswith('sub-')]\n",
    "    for site_sub, _ in enumerate(site_subs):\n",
    "        subID = site_subs[site_sub]\n",
    "\n",
    "        subdir = os.path.expanduser(f'~/data/ABIDE2/Derivatives/fmriprep4/{subID}/')\n",
    "        if os.path.exists(subdir):\n",
    "            sessions = [session for session in os.listdir(subdir) if session.startswith('ses-')]\n",
    "            sessions.sort()\n",
    "\n",
    "            func_files = []\n",
    "            for sess in range(len(sessions)):\n",
    "                sess_dir = os.path.join(subdir,sessions[sess],'func')\n",
    "                if os.path.exists(sess_dir):\n",
    "                    func_file = [file for file in os.listdir(sess_dir) if file.endswith('preproc_bold.nii.gz')]\n",
    "                    func_files.append(func_file)\n",
    "                    site_check.append([subID,len(func_files)!=0])\n",
    "                    site_files.append(func_files)\n",
    "                else:\n",
    "                    site_check.append([subID,False])\n",
    "                    site_files.append([])\n",
    "        else:\n",
    "            site_check.append([subID,False])\n",
    "            site_files.append([])\n",
    "    all_check.append(site_check)\n",
    "    all_files.append(site_files)\n",
    "    \n",
    "def str2bool(vec):\n",
    "    return np.array([i.lower()=='true' for i in vec])\n",
    "\n",
    "for s,_ in enumerate(sites):\n",
    "    vec = str2bool(np.array(all_check[s])[:,1])\n",
    "    print(f'{sites[s].rjust(20)} | {vec.mean()*100:.2f}% | {len(vec):03d}/{vec.sum():03d}')\n",
    "    \n",
    "#print(np.array([[str2bool(np.array(all_check[i])[:,1]).sum() for i,_ in enumerate(all_check)]]).sum())\n",
    "done_subs = np.array([[str2bool(np.array(all_check[i])[:,1]).sum() for i,_ in enumerate(all_check)]]).sum()\n",
    "all_subs = np.array([[str2bool(np.array(all_check[i])[:,1]).shape[0] for i,_ in enumerate(all_check)]]).sum()\n",
    "print(f'{done_subs}/{all_subs} | {done_subs/all_subs*100:.2f}%')"
   ]
  },
  {
   "cell_type": "code",
   "execution_count": 7,
   "id": "67999c74",
   "metadata": {},
   "outputs": [
    {
     "data": {
      "text/html": [
       "<div>\n",
       "<style scoped>\n",
       "    .dataframe tbody tr th:only-of-type {\n",
       "        vertical-align: middle;\n",
       "    }\n",
       "\n",
       "    .dataframe tbody tr th {\n",
       "        vertical-align: top;\n",
       "    }\n",
       "\n",
       "    .dataframe thead th {\n",
       "        text-align: right;\n",
       "    }\n",
       "</style>\n",
       "<table border=\"1\" class=\"dataframe\">\n",
       "  <thead>\n",
       "    <tr style=\"text-align: right;\">\n",
       "      <th></th>\n",
       "      <th>subID</th>\n",
       "      <th>status</th>\n",
       "      <th>dataset</th>\n",
       "    </tr>\n",
       "  </thead>\n",
       "  <tbody>\n",
       "    <tr>\n",
       "      <th>0</th>\n",
       "      <td>sub-29031</td>\n",
       "      <td>True</td>\n",
       "      <td>ABIDE II</td>\n",
       "    </tr>\n",
       "    <tr>\n",
       "      <th>1</th>\n",
       "      <td>sub-29014</td>\n",
       "      <td>True</td>\n",
       "      <td>ABIDE II</td>\n",
       "    </tr>\n",
       "    <tr>\n",
       "      <th>2</th>\n",
       "      <td>sub-30149</td>\n",
       "      <td>True</td>\n",
       "      <td>ABIDE II</td>\n",
       "    </tr>\n",
       "    <tr>\n",
       "      <th>3</th>\n",
       "      <td>sub-30147</td>\n",
       "      <td>True</td>\n",
       "      <td>ABIDE II</td>\n",
       "    </tr>\n",
       "    <tr>\n",
       "      <th>4</th>\n",
       "      <td>sub-29034</td>\n",
       "      <td>True</td>\n",
       "      <td>ABIDE II</td>\n",
       "    </tr>\n",
       "  </tbody>\n",
       "</table>\n",
       "</div>"
      ],
      "text/plain": [
       "       subID status   dataset\n",
       "0  sub-29031   True  ABIDE II\n",
       "1  sub-29014   True  ABIDE II\n",
       "2  sub-30149   True  ABIDE II\n",
       "3  sub-30147   True  ABIDE II\n",
       "4  sub-29034   True  ABIDE II"
      ]
     },
     "execution_count": 7,
     "metadata": {},
     "output_type": "execute_result"
    }
   ],
   "source": [
    "AB2_check = pd.DataFrame(np.vstack(all_check),columns=['subID','status'])\n",
    "AB2_check['dataset'] = 'ABIDE II'\n",
    "AB2_check.head()"
   ]
  },
  {
   "cell_type": "code",
   "execution_count": null,
   "id": "4a797f07",
   "metadata": {},
   "outputs": [],
   "source": []
  },
  {
   "cell_type": "code",
   "execution_count": 8,
   "id": "3f6422be",
   "metadata": {},
   "outputs": [
    {
     "data": {
      "text/plain": [
       "2240"
      ]
     },
     "execution_count": 8,
     "metadata": {},
     "output_type": "execute_result"
    }
   ],
   "source": [
    "AB1_check.shape[0]+AB2_check.shape[0]"
   ]
  },
  {
   "cell_type": "code",
   "execution_count": 9,
   "id": "590050bf",
   "metadata": {},
   "outputs": [
    {
     "data": {
      "text/html": [
       "<div>\n",
       "<style scoped>\n",
       "    .dataframe tbody tr th:only-of-type {\n",
       "        vertical-align: middle;\n",
       "    }\n",
       "\n",
       "    .dataframe tbody tr th {\n",
       "        vertical-align: top;\n",
       "    }\n",
       "\n",
       "    .dataframe thead th {\n",
       "        text-align: right;\n",
       "    }\n",
       "</style>\n",
       "<table border=\"1\" class=\"dataframe\">\n",
       "  <thead>\n",
       "    <tr style=\"text-align: right;\">\n",
       "      <th></th>\n",
       "      <th>subID</th>\n",
       "      <th>status</th>\n",
       "      <th>dataset</th>\n",
       "    </tr>\n",
       "  </thead>\n",
       "  <tbody>\n",
       "    <tr>\n",
       "      <th>0</th>\n",
       "      <td>sub-0050656</td>\n",
       "      <td>True</td>\n",
       "      <td>ABIDE I</td>\n",
       "    </tr>\n",
       "    <tr>\n",
       "      <th>1</th>\n",
       "      <td>sub-0050642</td>\n",
       "      <td>True</td>\n",
       "      <td>ABIDE I</td>\n",
       "    </tr>\n",
       "    <tr>\n",
       "      <th>2</th>\n",
       "      <td>sub-0050666</td>\n",
       "      <td>True</td>\n",
       "      <td>ABIDE I</td>\n",
       "    </tr>\n",
       "    <tr>\n",
       "      <th>3</th>\n",
       "      <td>sub-0050665</td>\n",
       "      <td>True</td>\n",
       "      <td>ABIDE I</td>\n",
       "    </tr>\n",
       "    <tr>\n",
       "      <th>4</th>\n",
       "      <td>sub-0050654</td>\n",
       "      <td>True</td>\n",
       "      <td>ABIDE I</td>\n",
       "    </tr>\n",
       "  </tbody>\n",
       "</table>\n",
       "</div>"
      ],
      "text/plain": [
       "         subID status  dataset\n",
       "0  sub-0050656   True  ABIDE I\n",
       "1  sub-0050642   True  ABIDE I\n",
       "2  sub-0050666   True  ABIDE I\n",
       "3  sub-0050665   True  ABIDE I\n",
       "4  sub-0050654   True  ABIDE I"
      ]
     },
     "execution_count": 9,
     "metadata": {},
     "output_type": "execute_result"
    }
   ],
   "source": [
    "AB_check = pd.concat([AB1_check, AB2_check], axis=0)\n",
    "AB_check.head()"
   ]
  },
  {
   "cell_type": "code",
   "execution_count": 10,
   "id": "c5a42316",
   "metadata": {},
   "outputs": [],
   "source": [
    "AB_check.iloc[AB_check['status'].values=='True'].to_csv('../Data/fmriprep_check.csv')"
   ]
  },
  {
   "cell_type": "code",
   "execution_count": null,
   "id": "11477f1d",
   "metadata": {},
   "outputs": [],
   "source": []
  },
  {
   "cell_type": "code",
   "execution_count": null,
   "id": "1df49bf3",
   "metadata": {},
   "outputs": [],
   "source": []
  },
  {
   "cell_type": "code",
   "execution_count": null,
   "id": "240bfeb5",
   "metadata": {},
   "outputs": [],
   "source": []
  },
  {
   "cell_type": "code",
   "execution_count": 11,
   "id": "15a698fe",
   "metadata": {},
   "outputs": [
    {
     "data": {
      "text/plain": [
       "['sub-0050002',\n",
       " 'sub-0050003',\n",
       " 'sub-0050004',\n",
       " 'sub-0050005',\n",
       " 'sub-0050006',\n",
       " 'sub-0050007',\n",
       " 'sub-0050008',\n",
       " 'sub-0050009',\n",
       " 'sub-0050010',\n",
       " 'sub-0050011']"
      ]
     },
     "execution_count": 11,
     "metadata": {},
     "output_type": "execute_result"
    }
   ],
   "source": [
    "preproc_dir = '~/BC-fMRI-AE/Assets/data_preprocessed_f3/'\n",
    "preproc_dir = os.path.expanduser(preproc_dir)\n",
    "\n",
    "subs = os.listdir(preproc_dir)\n",
    "subs.sort()\n",
    "subs[0:10]"
   ]
  },
  {
   "cell_type": "code",
   "execution_count": 14,
   "id": "5fa6c612",
   "metadata": {},
   "outputs": [
    {
     "data": {
      "text/plain": [
       "['split_data_rfsub-0050002.npz',\n",
       " 'sfrc-sub-0050002_bold.nii.gz',\n",
       " 'conf-sub-0050002.csv',\n",
       " 'roi_timeseries_scrubbed_sub-0050002.npy',\n",
       " 'mask-sub-0050002_bold.nii.gz',\n",
       " '.ipynb_checkpoints',\n",
       " 'split_data_rcsub-0050002.npz',\n",
       " 'frc-sub-0050002_bold.nii.gz',\n",
       " 'cmat_srf_sub-0050002.npy',\n",
       " 'roi_timeseries_rf_sub-0050002.npy',\n",
       " 'split_data_srfsub-0050002.npz',\n",
       " 'scan_duration_sub-0050002.npy',\n",
       " 'raw-sub-0050002_bold.nii.gz',\n",
       " 'cmat_raw_sub-0050002.npy',\n",
       " 'split_data_rawsub-0050002.npz',\n",
       " 'cmat_rf_sub-0050002.npy',\n",
       " 'roi_timeseries_srf_sub-0050002.npy',\n",
       " 'cmat_scrubbed_sub-0050002.npy',\n",
       " 'atlas-sub-0050002.nii.gz',\n",
       " 'mean-sub-0050002_bold.nii.gz',\n",
       " 'roi_timeseries_raw_sub-0050002.npy',\n",
       " 'rc-sub-0050002_bold.nii.gz']"
      ]
     },
     "execution_count": 14,
     "metadata": {},
     "output_type": "execute_result"
    }
   ],
   "source": [
    "sub = subs[0]\n",
    "os.listdir(os.path.join(preproc_dir,sub))"
   ]
  },
  {
   "cell_type": "code",
   "execution_count": 18,
   "id": "c073795c",
   "metadata": {},
   "outputs": [],
   "source": [
    "l = np.array([np.load(os.path.join(preproc_dir,sub,f'scan_duration_{sub}.npy')) for sub in subs if os.path.exists(os.path.join(preproc_dir,sub,f'scan_duration_{sub}.npy'))])"
   ]
  },
  {
   "cell_type": "code",
   "execution_count": 22,
   "id": "a1757362",
   "metadata": {},
   "outputs": [
    {
     "data": {
      "text/plain": [
       "1633"
      ]
     },
     "execution_count": 22,
     "metadata": {},
     "output_type": "execute_result"
    }
   ],
   "source": [
    "sum(np.array(l)>4)"
   ]
  },
  {
   "cell_type": "code",
   "execution_count": null,
   "id": "41e9b4d6",
   "metadata": {},
   "outputs": [],
   "source": []
  },
  {
   "cell_type": "code",
   "execution_count": null,
   "id": "1902119e",
   "metadata": {},
   "outputs": [],
   "source": []
  },
  {
   "cell_type": "code",
   "execution_count": null,
   "id": "48862649",
   "metadata": {},
   "outputs": [],
   "source": []
  },
  {
   "cell_type": "code",
   "execution_count": null,
   "id": "7c733aa2",
   "metadata": {},
   "outputs": [],
   "source": []
  },
  {
   "cell_type": "code",
   "execution_count": 12,
   "id": "7a2a5a25",
   "metadata": {},
   "outputs": [
    {
     "name": "stderr",
     "output_type": "stream",
     "text": [
      " 55%|█████▍    | 1107/2030 [00:03<00:03, 283.92it/s]"
     ]
    },
    {
     "ename": "FileNotFoundError",
     "evalue": "[Errno 2] No such file or directory: '/data/aglinska/BC-fMRI-AE/Assets/data_preprocessed_f3/sub-28728/cmat_srf_sub-28728.npy'",
     "output_type": "error",
     "traceback": [
      "\u001b[0;31m---------------------------------------------------------------------------\u001b[0m",
      "\u001b[0;31mFileNotFoundError\u001b[0m                         Traceback (most recent call last)",
      "\u001b[0;32m<ipython-input-12-c5d9aaecc9d3>\u001b[0m in \u001b[0;36m<module>\u001b[0;34m\u001b[0m\n\u001b[0;32m----> 1\u001b[0;31m \u001b[0mcmats\u001b[0m \u001b[0;34m=\u001b[0m \u001b[0mnp\u001b[0m\u001b[0;34m.\u001b[0m\u001b[0marray\u001b[0m\u001b[0;34m(\u001b[0m\u001b[0;34m[\u001b[0m\u001b[0mnp\u001b[0m\u001b[0;34m.\u001b[0m\u001b[0mload\u001b[0m\u001b[0;34m(\u001b[0m\u001b[0mos\u001b[0m\u001b[0;34m.\u001b[0m\u001b[0mpath\u001b[0m\u001b[0;34m.\u001b[0m\u001b[0mjoin\u001b[0m\u001b[0;34m(\u001b[0m\u001b[0mpreproc_dir\u001b[0m\u001b[0;34m,\u001b[0m\u001b[0msub\u001b[0m\u001b[0;34m,\u001b[0m\u001b[0;34mf'cmat_srf_{sub}.npy'\u001b[0m\u001b[0;34m)\u001b[0m\u001b[0;34m)\u001b[0m \u001b[0;32mfor\u001b[0m \u001b[0msub\u001b[0m \u001b[0;32min\u001b[0m \u001b[0mtqdm\u001b[0m\u001b[0;34m(\u001b[0m\u001b[0msubs\u001b[0m\u001b[0;34m)\u001b[0m\u001b[0;34m]\u001b[0m\u001b[0;34m)\u001b[0m\u001b[0;34m\u001b[0m\u001b[0;34m\u001b[0m\u001b[0m\n\u001b[0m",
      "\u001b[0;32m<ipython-input-12-c5d9aaecc9d3>\u001b[0m in \u001b[0;36m<listcomp>\u001b[0;34m(.0)\u001b[0m\n\u001b[0;32m----> 1\u001b[0;31m \u001b[0mcmats\u001b[0m \u001b[0;34m=\u001b[0m \u001b[0mnp\u001b[0m\u001b[0;34m.\u001b[0m\u001b[0marray\u001b[0m\u001b[0;34m(\u001b[0m\u001b[0;34m[\u001b[0m\u001b[0mnp\u001b[0m\u001b[0;34m.\u001b[0m\u001b[0mload\u001b[0m\u001b[0;34m(\u001b[0m\u001b[0mos\u001b[0m\u001b[0;34m.\u001b[0m\u001b[0mpath\u001b[0m\u001b[0;34m.\u001b[0m\u001b[0mjoin\u001b[0m\u001b[0;34m(\u001b[0m\u001b[0mpreproc_dir\u001b[0m\u001b[0;34m,\u001b[0m\u001b[0msub\u001b[0m\u001b[0;34m,\u001b[0m\u001b[0;34mf'cmat_srf_{sub}.npy'\u001b[0m\u001b[0;34m)\u001b[0m\u001b[0;34m)\u001b[0m \u001b[0;32mfor\u001b[0m \u001b[0msub\u001b[0m \u001b[0;32min\u001b[0m \u001b[0mtqdm\u001b[0m\u001b[0;34m(\u001b[0m\u001b[0msubs\u001b[0m\u001b[0;34m)\u001b[0m\u001b[0;34m]\u001b[0m\u001b[0;34m)\u001b[0m\u001b[0;34m\u001b[0m\u001b[0;34m\u001b[0m\u001b[0m\n\u001b[0m",
      "\u001b[0;32m~/anaconda3/lib/python3.8/site-packages/numpy/lib/npyio.py\u001b[0m in \u001b[0;36mload\u001b[0;34m(file, mmap_mode, allow_pickle, fix_imports, encoding)\u001b[0m\n\u001b[1;32m    426\u001b[0m         \u001b[0mown_fid\u001b[0m \u001b[0;34m=\u001b[0m \u001b[0;32mFalse\u001b[0m\u001b[0;34m\u001b[0m\u001b[0;34m\u001b[0m\u001b[0m\n\u001b[1;32m    427\u001b[0m     \u001b[0;32melse\u001b[0m\u001b[0;34m:\u001b[0m\u001b[0;34m\u001b[0m\u001b[0;34m\u001b[0m\u001b[0m\n\u001b[0;32m--> 428\u001b[0;31m         \u001b[0mfid\u001b[0m \u001b[0;34m=\u001b[0m \u001b[0mopen\u001b[0m\u001b[0;34m(\u001b[0m\u001b[0mos_fspath\u001b[0m\u001b[0;34m(\u001b[0m\u001b[0mfile\u001b[0m\u001b[0;34m)\u001b[0m\u001b[0;34m,\u001b[0m \u001b[0;34m\"rb\"\u001b[0m\u001b[0;34m)\u001b[0m\u001b[0;34m\u001b[0m\u001b[0;34m\u001b[0m\u001b[0m\n\u001b[0m\u001b[1;32m    429\u001b[0m         \u001b[0mown_fid\u001b[0m \u001b[0;34m=\u001b[0m \u001b[0;32mTrue\u001b[0m\u001b[0;34m\u001b[0m\u001b[0;34m\u001b[0m\u001b[0m\n\u001b[1;32m    430\u001b[0m \u001b[0;34m\u001b[0m\u001b[0m\n",
      "\u001b[0;31mFileNotFoundError\u001b[0m: [Errno 2] No such file or directory: '/data/aglinska/BC-fMRI-AE/Assets/data_preprocessed_f3/sub-28728/cmat_srf_sub-28728.npy'"
     ]
    },
    {
     "name": "stderr",
     "output_type": "stream",
     "text": [
      " 55%|█████▍    | 1107/2030 [00:19<00:03, 283.92it/s]"
     ]
    }
   ],
   "source": [
    "cmats = np.array([np.load(os.path.join(preproc_dir,sub,f'cmat_srf_{sub}.npy')) for sub in tqdm(subs)])"
   ]
  },
  {
   "cell_type": "code",
   "execution_count": null,
   "id": "eaab915e",
   "metadata": {},
   "outputs": [],
   "source": []
  },
  {
   "cell_type": "code",
   "execution_count": null,
   "id": "bd04ac3e",
   "metadata": {},
   "outputs": [],
   "source": []
  },
  {
   "cell_type": "code",
   "execution_count": null,
   "id": "aedf270c",
   "metadata": {},
   "outputs": [],
   "source": []
  },
  {
   "cell_type": "code",
   "execution_count": null,
   "id": "320e4669",
   "metadata": {},
   "outputs": [],
   "source": []
  },
  {
   "cell_type": "code",
   "execution_count": null,
   "id": "d8de7c3c",
   "metadata": {},
   "outputs": [],
   "source": []
  },
  {
   "cell_type": "code",
   "execution_count": null,
   "id": "9a2dbcd8",
   "metadata": {},
   "outputs": [],
   "source": []
  },
  {
   "cell_type": "code",
   "execution_count": null,
   "id": "6add164a",
   "metadata": {},
   "outputs": [],
   "source": []
  }
 ],
 "metadata": {
  "kernelspec": {
   "display_name": "Python 3",
   "language": "python",
   "name": "python3"
  },
  "language_info": {
   "codemirror_mode": {
    "name": "ipython",
    "version": 3
   },
   "file_extension": ".py",
   "mimetype": "text/x-python",
   "name": "python",
   "nbconvert_exporter": "python",
   "pygments_lexer": "ipython3",
   "version": "3.8.5"
  }
 },
 "nbformat": 4,
 "nbformat_minor": 5
}
