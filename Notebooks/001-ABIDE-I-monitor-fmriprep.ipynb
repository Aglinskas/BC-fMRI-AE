{
 "cells": [
  {
   "cell_type": "code",
   "execution_count": 15,
   "id": "014fddf6",
   "metadata": {},
   "outputs": [
    {
     "data": {
      "text/plain": [
       "'/mmfs1/data/aglinska/BC-fMRI-AE/Notebooks'"
      ]
     },
     "execution_count": 15,
     "metadata": {},
     "output_type": "execute_result"
    }
   ],
   "source": [
    "pwd"
   ]
  },
  {
   "cell_type": "code",
   "execution_count": 16,
   "id": "160022af",
   "metadata": {},
   "outputs": [],
   "source": [
    "import os\n",
    "import pandas as pd\n",
    "import numpy as np"
   ]
  },
  {
   "cell_type": "code",
   "execution_count": 17,
   "id": "5a3def92",
   "metadata": {},
   "outputs": [],
   "source": [
    "df2 = pd.read_csv('../Data/ABIDE_df3.csv')"
   ]
  },
  {
   "cell_type": "code",
   "execution_count": 18,
   "id": "34d39b84",
   "metadata": {},
   "outputs": [
    {
     "data": {
      "text/html": [
       "<div>\n",
       "<style scoped>\n",
       "    .dataframe tbody tr th:only-of-type {\n",
       "        vertical-align: middle;\n",
       "    }\n",
       "\n",
       "    .dataframe tbody tr th {\n",
       "        vertical-align: top;\n",
       "    }\n",
       "\n",
       "    .dataframe thead th {\n",
       "        text-align: right;\n",
       "    }\n",
       "</style>\n",
       "<table border=\"1\" class=\"dataframe\">\n",
       "  <thead>\n",
       "    <tr style=\"text-align: right;\">\n",
       "      <th></th>\n",
       "      <th>Unnamed: 0</th>\n",
       "      <th>participant_id</th>\n",
       "      <th>DX_GROUP</th>\n",
       "      <th>DSM_IV_TR</th>\n",
       "      <th>AGE_AT_SCAN</th>\n",
       "      <th>SEX</th>\n",
       "      <th>HANDEDNESS_CATEGORY</th>\n",
       "      <th>HANDEDNESS_SCORES</th>\n",
       "      <th>FIQ</th>\n",
       "      <th>VIQ</th>\n",
       "      <th>...</th>\n",
       "      <th>WISC_IV_DIGIT_SPAN_SCALED</th>\n",
       "      <th>WISC_IV_LET_NUM_SCALED</th>\n",
       "      <th>WISC_IV_CODING_SCALED</th>\n",
       "      <th>WISC_IV_SYM_SCALED</th>\n",
       "      <th>EYE_STATUS_AT_SCAN</th>\n",
       "      <th>AGE_AT_MPRAGE</th>\n",
       "      <th>BMI</th>\n",
       "      <th>bids_folder</th>\n",
       "      <th>site</th>\n",
       "      <th>funcFile</th>\n",
       "    </tr>\n",
       "  </thead>\n",
       "  <tbody>\n",
       "    <tr>\n",
       "      <th>0</th>\n",
       "      <td>0</td>\n",
       "      <td>50002</td>\n",
       "      <td>1</td>\n",
       "      <td>1.0</td>\n",
       "      <td>16.77</td>\n",
       "      <td>1</td>\n",
       "      <td>Ambi</td>\n",
       "      <td>NaN</td>\n",
       "      <td>103.0</td>\n",
       "      <td>116.0</td>\n",
       "      <td>...</td>\n",
       "      <td>NaN</td>\n",
       "      <td>NaN</td>\n",
       "      <td>NaN</td>\n",
       "      <td>NaN</td>\n",
       "      <td>2</td>\n",
       "      <td>NaN</td>\n",
       "      <td>NaN</td>\n",
       "      <td>sub-Pitt0050002</td>\n",
       "      <td>13</td>\n",
       "      <td>Pitt_0050002_func_preproc.nii.gz</td>\n",
       "    </tr>\n",
       "    <tr>\n",
       "      <th>1</th>\n",
       "      <td>1</td>\n",
       "      <td>50003</td>\n",
       "      <td>1</td>\n",
       "      <td>1.0</td>\n",
       "      <td>24.45</td>\n",
       "      <td>1</td>\n",
       "      <td>R</td>\n",
       "      <td>NaN</td>\n",
       "      <td>124.0</td>\n",
       "      <td>128.0</td>\n",
       "      <td>...</td>\n",
       "      <td>NaN</td>\n",
       "      <td>NaN</td>\n",
       "      <td>NaN</td>\n",
       "      <td>NaN</td>\n",
       "      <td>2</td>\n",
       "      <td>NaN</td>\n",
       "      <td>NaN</td>\n",
       "      <td>sub-Pitt0050003</td>\n",
       "      <td>13</td>\n",
       "      <td>Pitt_0050003_func_preproc.nii.gz</td>\n",
       "    </tr>\n",
       "    <tr>\n",
       "      <th>2</th>\n",
       "      <td>2</td>\n",
       "      <td>50004</td>\n",
       "      <td>1</td>\n",
       "      <td>1.0</td>\n",
       "      <td>19.09</td>\n",
       "      <td>1</td>\n",
       "      <td>R</td>\n",
       "      <td>NaN</td>\n",
       "      <td>113.0</td>\n",
       "      <td>108.0</td>\n",
       "      <td>...</td>\n",
       "      <td>NaN</td>\n",
       "      <td>NaN</td>\n",
       "      <td>NaN</td>\n",
       "      <td>NaN</td>\n",
       "      <td>2</td>\n",
       "      <td>NaN</td>\n",
       "      <td>NaN</td>\n",
       "      <td>sub-Pitt0050004</td>\n",
       "      <td>13</td>\n",
       "      <td>Pitt_0050004_func_preproc.nii.gz</td>\n",
       "    </tr>\n",
       "    <tr>\n",
       "      <th>3</th>\n",
       "      <td>3</td>\n",
       "      <td>50005</td>\n",
       "      <td>1</td>\n",
       "      <td>1.0</td>\n",
       "      <td>13.73</td>\n",
       "      <td>2</td>\n",
       "      <td>R</td>\n",
       "      <td>NaN</td>\n",
       "      <td>119.0</td>\n",
       "      <td>117.0</td>\n",
       "      <td>...</td>\n",
       "      <td>NaN</td>\n",
       "      <td>NaN</td>\n",
       "      <td>NaN</td>\n",
       "      <td>NaN</td>\n",
       "      <td>2</td>\n",
       "      <td>NaN</td>\n",
       "      <td>NaN</td>\n",
       "      <td>sub-Pitt0050005</td>\n",
       "      <td>13</td>\n",
       "      <td>Pitt_0050005_func_preproc.nii.gz</td>\n",
       "    </tr>\n",
       "    <tr>\n",
       "      <th>4</th>\n",
       "      <td>4</td>\n",
       "      <td>50006</td>\n",
       "      <td>1</td>\n",
       "      <td>1.0</td>\n",
       "      <td>13.37</td>\n",
       "      <td>1</td>\n",
       "      <td>L</td>\n",
       "      <td>NaN</td>\n",
       "      <td>109.0</td>\n",
       "      <td>99.0</td>\n",
       "      <td>...</td>\n",
       "      <td>NaN</td>\n",
       "      <td>NaN</td>\n",
       "      <td>NaN</td>\n",
       "      <td>NaN</td>\n",
       "      <td>2</td>\n",
       "      <td>NaN</td>\n",
       "      <td>NaN</td>\n",
       "      <td>sub-Pitt0050006</td>\n",
       "      <td>13</td>\n",
       "      <td>Pitt_0050006_func_preproc.nii.gz</td>\n",
       "    </tr>\n",
       "  </tbody>\n",
       "</table>\n",
       "<p>5 rows × 77 columns</p>\n",
       "</div>"
      ],
      "text/plain": [
       "   Unnamed: 0  participant_id  DX_GROUP  DSM_IV_TR  AGE_AT_SCAN  SEX  \\\n",
       "0           0           50002         1        1.0        16.77    1   \n",
       "1           1           50003         1        1.0        24.45    1   \n",
       "2           2           50004         1        1.0        19.09    1   \n",
       "3           3           50005         1        1.0        13.73    2   \n",
       "4           4           50006         1        1.0        13.37    1   \n",
       "\n",
       "  HANDEDNESS_CATEGORY  HANDEDNESS_SCORES    FIQ    VIQ  ...  \\\n",
       "0                Ambi                NaN  103.0  116.0  ...   \n",
       "1                   R                NaN  124.0  128.0  ...   \n",
       "2                   R                NaN  113.0  108.0  ...   \n",
       "3                   R                NaN  119.0  117.0  ...   \n",
       "4                   L                NaN  109.0   99.0  ...   \n",
       "\n",
       "   WISC_IV_DIGIT_SPAN_SCALED WISC_IV_LET_NUM_SCALED WISC_IV_CODING_SCALED  \\\n",
       "0                        NaN                    NaN                   NaN   \n",
       "1                        NaN                    NaN                   NaN   \n",
       "2                        NaN                    NaN                   NaN   \n",
       "3                        NaN                    NaN                   NaN   \n",
       "4                        NaN                    NaN                   NaN   \n",
       "\n",
       "  WISC_IV_SYM_SCALED  EYE_STATUS_AT_SCAN  AGE_AT_MPRAGE  BMI      bids_folder  \\\n",
       "0                NaN                   2            NaN  NaN  sub-Pitt0050002   \n",
       "1                NaN                   2            NaN  NaN  sub-Pitt0050003   \n",
       "2                NaN                   2            NaN  NaN  sub-Pitt0050004   \n",
       "3                NaN                   2            NaN  NaN  sub-Pitt0050005   \n",
       "4                NaN                   2            NaN  NaN  sub-Pitt0050006   \n",
       "\n",
       "   site                          funcFile  \n",
       "0    13  Pitt_0050002_func_preproc.nii.gz  \n",
       "1    13  Pitt_0050003_func_preproc.nii.gz  \n",
       "2    13  Pitt_0050004_func_preproc.nii.gz  \n",
       "3    13  Pitt_0050005_func_preproc.nii.gz  \n",
       "4    13  Pitt_0050006_func_preproc.nii.gz  \n",
       "\n",
       "[5 rows x 77 columns]"
      ]
     },
     "execution_count": 18,
     "metadata": {},
     "output_type": "execute_result"
    }
   ],
   "source": [
    "df2.head()"
   ]
  },
  {
   "cell_type": "code",
   "execution_count": 19,
   "id": "14d3b766",
   "metadata": {},
   "outputs": [],
   "source": [
    "subs = df2['participant_id'].values"
   ]
  },
  {
   "cell_type": "code",
   "execution_count": 20,
   "id": "6b8c844f",
   "metadata": {},
   "outputs": [
    {
     "data": {
      "text/plain": [
       "1046"
      ]
     },
     "execution_count": 20,
     "metadata": {},
     "output_type": "execute_result"
    }
   ],
   "source": [
    "# How many folders\n",
    "sum([os.path.exists(f'../../data/ABIDE/Derivatives/fmriprep/fmriprep/sub-00{sub}/') for sub in subs])"
   ]
  },
  {
   "cell_type": "code",
   "execution_count": 21,
   "id": "c8f66474",
   "metadata": {},
   "outputs": [
    {
     "name": "stdout",
     "output_type": "stream",
     "text": [
      "1026/1048\n"
     ]
    },
    {
     "data": {
      "text/plain": [
       "'../../data/ABIDE/Derivatives/fmriprep/fmriprep/sub-0051607/func/'"
      ]
     },
     "execution_count": 21,
     "metadata": {},
     "output_type": "execute_result"
    }
   ],
   "source": [
    "is_vec = list()\n",
    "for sub in subs:\n",
    "    subfolder = f'../../data/ABIDE/Derivatives/fmriprep/fmriprep/sub-00{sub}/func/'\n",
    "    if os.path.isdir(subfolder):\n",
    "        conts = os.listdir(subfolder)\n",
    "        has_nii = any(['preproc_bold.nii.gz' in cont for cont in conts])\n",
    "    else:\n",
    "        has_nii = False\n",
    "    is_vec.append(has_nii)\n",
    "    \n",
    "is_vec = np.array(is_vec)\n",
    "print(f'{is_vec.sum()}/{len(is_vec)}')\n",
    "subfolder"
   ]
  },
  {
   "cell_type": "code",
   "execution_count": 22,
   "id": "5689dd34",
   "metadata": {},
   "outputs": [],
   "source": [
    "bids_root = '../../data/ABIDE/RawDataBIDS/'\n",
    "bids_folders = os.listdir(bids_root)\n",
    "bids_folders.sort()"
   ]
  },
  {
   "cell_type": "code",
   "execution_count": 23,
   "id": "7ce39dd1",
   "metadata": {},
   "outputs": [
    {
     "data": {
      "text/html": [
       "<div>\n",
       "<style scoped>\n",
       "    .dataframe tbody tr th:only-of-type {\n",
       "        vertical-align: middle;\n",
       "    }\n",
       "\n",
       "    .dataframe tbody tr th {\n",
       "        vertical-align: top;\n",
       "    }\n",
       "\n",
       "    .dataframe thead th {\n",
       "        text-align: right;\n",
       "    }\n",
       "</style>\n",
       "<table border=\"1\" class=\"dataframe\">\n",
       "  <thead>\n",
       "    <tr style=\"text-align: right;\">\n",
       "      <th></th>\n",
       "      <th>bids_id</th>\n",
       "      <th>siteID</th>\n",
       "      <th>participant_id</th>\n",
       "    </tr>\n",
       "  </thead>\n",
       "  <tbody>\n",
       "    <tr>\n",
       "      <th>0</th>\n",
       "      <td>sub-0050642</td>\n",
       "      <td>CMU_a</td>\n",
       "      <td>50642</td>\n",
       "    </tr>\n",
       "    <tr>\n",
       "      <th>1</th>\n",
       "      <td>sub-0050646</td>\n",
       "      <td>CMU_a</td>\n",
       "      <td>50646</td>\n",
       "    </tr>\n",
       "    <tr>\n",
       "      <th>2</th>\n",
       "      <td>sub-0050647</td>\n",
       "      <td>CMU_a</td>\n",
       "      <td>50647</td>\n",
       "    </tr>\n",
       "    <tr>\n",
       "      <th>3</th>\n",
       "      <td>sub-0050649</td>\n",
       "      <td>CMU_a</td>\n",
       "      <td>50649</td>\n",
       "    </tr>\n",
       "    <tr>\n",
       "      <th>4</th>\n",
       "      <td>sub-0050653</td>\n",
       "      <td>CMU_a</td>\n",
       "      <td>50653</td>\n",
       "    </tr>\n",
       "  </tbody>\n",
       "</table>\n",
       "</div>"
      ],
      "text/plain": [
       "       bids_id siteID  participant_id\n",
       "0  sub-0050642  CMU_a           50642\n",
       "1  sub-0050646  CMU_a           50646\n",
       "2  sub-0050647  CMU_a           50647\n",
       "3  sub-0050649  CMU_a           50649\n",
       "4  sub-0050653  CMU_a           50653"
      ]
     },
     "execution_count": 23,
     "metadata": {},
     "output_type": "execute_result"
    }
   ],
   "source": [
    "bids_df = None\n",
    "for f in range(len(bids_folders)):\n",
    "    bids_folder = bids_folders[f]\n",
    "    bids_subs = [bids_sub for bids_sub in os.listdir(os.path.join(bids_root,bids_folder)) if bids_sub.startswith('sub-')]\n",
    "    bids_subs.sort()\n",
    "\n",
    "    temp_df = pd.DataFrame(bids_subs,columns=['bids_id'])\n",
    "    temp_df['siteID'] = bids_folder\n",
    "    temp_df['participant_id'] = [int(line.replace('sub-00','')) for line in temp_df['bids_id'].values]\n",
    "\n",
    "    if type(bids_df)==type(None):\n",
    "        bids_df=temp_df\n",
    "    else:\n",
    "        bids_df = pd.concat((bids_df,temp_df))\n",
    "        \n",
    "bids_df.head(5)"
   ]
  },
  {
   "cell_type": "code",
   "execution_count": 24,
   "id": "72057c82",
   "metadata": {},
   "outputs": [],
   "source": [
    "unique,counts=np.unique(bids_df['participant_id'].values,return_counts=True)\n",
    "assert all(counts==1), 'not all unique'"
   ]
  },
  {
   "cell_type": "code",
   "execution_count": 25,
   "id": "9ef9ad32",
   "metadata": {},
   "outputs": [],
   "source": [
    "# Add SiteID and BIDS ID to df2\n",
    "df2['siteID'] = [bids_df.iloc[bids_df['participant_id'].values==df2['participant_id'].values[i]]['siteID'].values[0] for i in range(len(df2))]\n",
    "df2['bids_id'] = [bids_df.iloc[bids_df['participant_id'].values==df2['participant_id'].values[i]]['bids_id'].values[0] for i in range(len(df2))]\n"
   ]
  },
  {
   "cell_type": "code",
   "execution_count": 26,
   "id": "d3598e25",
   "metadata": {},
   "outputs": [],
   "source": [
    "# populate is_fmriprepped\n",
    "fmriprepped_temp = '../../data/ABIDE/Derivatives/fmriprep/fmriprep/{sub}/func/{sub}_task-rest_run-1_space-MNI152NLin2009cAsym_desc-preproc_bold.nii.gz'\n",
    "is_vec = [os.path.exists(fmriprepped_temp.format(sub=sub)) for sub in df2['bids_id'].values]\n",
    "df2['is_fmriprepped'] = is_vec"
   ]
  },
  {
   "cell_type": "code",
   "execution_count": 27,
   "id": "be0eea26",
   "metadata": {},
   "outputs": [
    {
     "name": "stdout",
     "output_type": "stream",
     "text": [
      "1026/1048\n"
     ]
    }
   ],
   "source": [
    "print('{}/{}'.format(df2['is_fmriprepped'].values.sum(),len(df2)))"
   ]
  },
  {
   "cell_type": "code",
   "execution_count": 28,
   "id": "3503738f",
   "metadata": {},
   "outputs": [
    {
     "data": {
      "text/plain": [
       "siteID\n",
       "OHSU        1.000000\n",
       "Olin        1.000000\n",
       "CMU_b       1.000000\n",
       "Leuven_2    1.000000\n",
       "MaxMun_a    1.000000\n",
       "MaxMun_b    1.000000\n",
       "MaxMun_c    1.000000\n",
       "MaxMun_d    1.000000\n",
       "NYU         1.000000\n",
       "USM         1.000000\n",
       "CMU_a       1.000000\n",
       "Pitt        1.000000\n",
       "SBL         1.000000\n",
       "SDSU        1.000000\n",
       "Stanford    1.000000\n",
       "Trinity     1.000000\n",
       "UCLA_1      1.000000\n",
       "UCLA_2      1.000000\n",
       "UM_1        1.000000\n",
       "UM_2        1.000000\n",
       "KKI         0.981818\n",
       "Leuven_1    0.965517\n",
       "Caltech     0.857143\n",
       "Yale        0.714286\n",
       "Name: is_fmriprepped, dtype: float64"
      ]
     },
     "execution_count": 28,
     "metadata": {},
     "output_type": "execute_result"
    }
   ],
   "source": [
    "df_new = df2.groupby(['siteID']).mean()['is_fmriprepped']\n",
    "df_new.sort_values(ascending=False)"
   ]
  },
  {
   "cell_type": "code",
   "execution_count": null,
   "id": "905f6aaa",
   "metadata": {},
   "outputs": [],
   "source": []
  },
  {
   "cell_type": "code",
   "execution_count": null,
   "id": "a9816a07",
   "metadata": {},
   "outputs": [],
   "source": []
  },
  {
   "cell_type": "code",
   "execution_count": null,
   "id": "63f5120f",
   "metadata": {},
   "outputs": [],
   "source": []
  },
  {
   "cell_type": "code",
   "execution_count": null,
   "id": "14f24a12",
   "metadata": {},
   "outputs": [],
   "source": []
  },
  {
   "cell_type": "code",
   "execution_count": null,
   "id": "695f6966",
   "metadata": {},
   "outputs": [],
   "source": []
  },
  {
   "cell_type": "code",
   "execution_count": null,
   "id": "dc2869e2",
   "metadata": {},
   "outputs": [],
   "source": []
  },
  {
   "cell_type": "code",
   "execution_count": null,
   "id": "a829982e",
   "metadata": {},
   "outputs": [],
   "source": []
  },
  {
   "cell_type": "code",
   "execution_count": null,
   "id": "9e8106cf",
   "metadata": {},
   "outputs": [],
   "source": []
  }
 ],
 "metadata": {
  "kernelspec": {
   "display_name": "Python 3",
   "language": "python",
   "name": "python3"
  },
  "language_info": {
   "codemirror_mode": {
    "name": "ipython",
    "version": 3
   },
   "file_extension": ".py",
   "mimetype": "text/x-python",
   "name": "python",
   "nbconvert_exporter": "python",
   "pygments_lexer": "ipython3",
   "version": "3.8.5"
  }
 },
 "nbformat": 4,
 "nbformat_minor": 5
}
