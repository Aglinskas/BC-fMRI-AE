{
 "cells": [
  {
   "cell_type": "code",
   "execution_count": 3,
   "id": "1e49699a",
   "metadata": {},
   "outputs": [
    {
     "name": "stdout",
     "output_type": "stream",
     "text": [
      "CPU times: user 9 µs, sys: 0 ns, total: 9 µs\n",
      "Wall time: 11.9 µs\n"
     ]
    }
   ],
   "source": [
    "%%time\n",
    "import pandas as pd\n",
    "import os\n",
    "import numpy as np\n",
    "import ants\n",
    "from tqdm import tqdm\n",
    "import shutil\n",
    "import nibabel as nib"
   ]
  },
  {
   "cell_type": "code",
   "execution_count": null,
   "id": "b028119f",
   "metadata": {},
   "outputs": [],
   "source": []
  },
  {
   "cell_type": "code",
   "execution_count": 14,
   "id": "395ba150",
   "metadata": {},
   "outputs": [
    {
     "name": "stdout",
     "output_type": "stream",
     "text": [
      "/data/aglinska/data/sfari_bids/ds-sfari-60\n"
     ]
    }
   ],
   "source": [
    "outdir = '~/data/sfari_bids/'\n",
    "outdir = os.path.expanduser(outdir)\n",
    "site = 60\n",
    "ds_dir = os.path.join(outdir,f'ds-sfari-{site}')\n",
    "print(ds_dir)"
   ]
  },
  {
   "cell_type": "code",
   "execution_count": 17,
   "id": "a2d6501f",
   "metadata": {},
   "outputs": [
    {
     "data": {
      "text/html": [
       "<div>\n",
       "<style scoped>\n",
       "    .dataframe tbody tr th:only-of-type {\n",
       "        vertical-align: middle;\n",
       "    }\n",
       "\n",
       "    .dataframe tbody tr th {\n",
       "        vertical-align: top;\n",
       "    }\n",
       "\n",
       "    .dataframe thead th {\n",
       "        text-align: right;\n",
       "    }\n",
       "</style>\n",
       "<table border=\"1\" class=\"dataframe\">\n",
       "  <thead>\n",
       "    <tr style=\"text-align: right;\">\n",
       "      <th></th>\n",
       "      <th>Unnamed: 0</th>\n",
       "      <th>sfari_ids</th>\n",
       "      <th>site_ids</th>\n",
       "      <th>subID</th>\n",
       "    </tr>\n",
       "  </thead>\n",
       "  <tbody>\n",
       "    <tr>\n",
       "      <th>0</th>\n",
       "      <td>0</td>\n",
       "      <td>14702.x3</td>\n",
       "      <td>60</td>\n",
       "      <td>sub-001</td>\n",
       "    </tr>\n",
       "    <tr>\n",
       "      <th>3</th>\n",
       "      <td>3</td>\n",
       "      <td>14708.x10</td>\n",
       "      <td>60</td>\n",
       "      <td>sub-004</td>\n",
       "    </tr>\n",
       "    <tr>\n",
       "      <th>5</th>\n",
       "      <td>5</td>\n",
       "      <td>14714.x18</td>\n",
       "      <td>60</td>\n",
       "      <td>sub-006</td>\n",
       "    </tr>\n",
       "    <tr>\n",
       "      <th>7</th>\n",
       "      <td>7</td>\n",
       "      <td>14723.x10</td>\n",
       "      <td>60</td>\n",
       "      <td>sub-008</td>\n",
       "    </tr>\n",
       "    <tr>\n",
       "      <th>8</th>\n",
       "      <td>8</td>\n",
       "      <td>14723.x17</td>\n",
       "      <td>60</td>\n",
       "      <td>sub-009</td>\n",
       "    </tr>\n",
       "  </tbody>\n",
       "</table>\n",
       "</div>"
      ],
      "text/plain": [
       "   Unnamed: 0  sfari_ids  site_ids    subID\n",
       "0           0   14702.x3        60  sub-001\n",
       "3           3  14708.x10        60  sub-004\n",
       "5           5  14714.x18        60  sub-006\n",
       "7           7  14723.x10        60  sub-008\n",
       "8           8  14723.x17        60  sub-009"
      ]
     },
     "execution_count": 17,
     "metadata": {},
     "output_type": "execute_result"
    }
   ],
   "source": [
    "df_sfari = pd.read_csv('../Data/sfari0.csv')\n",
    "site_df = df_sfari.iloc[df_sfari['site_ids'].values==site]\n",
    "site_df.head()"
   ]
  },
  {
   "cell_type": "code",
   "execution_count": null,
   "id": "b06df6d0",
   "metadata": {},
   "outputs": [],
   "source": []
  },
  {
   "cell_type": "code",
   "execution_count": 18,
   "id": "9995e1bb",
   "metadata": {},
   "outputs": [
    {
     "name": "stdout",
     "output_type": "stream",
     "text": [
      "not found: /data/aglinska/data/sfari_bids/ds-sfari-60/sub-001/func/sub-001_task-rest-ses-1.nii.gz\n",
      "not found: /data/aglinska/data/sfari_bids/ds-sfari-60/sub-004/func/sub-004_task-rest-ses-1.nii.gz\n",
      "not found: /data/aglinska/data/sfari_bids/ds-sfari-60/sub-006/func/sub-006_task-rest-ses-1.nii.gz\n",
      "not found: /data/aglinska/data/sfari_bids/ds-sfari-60/sub-008/func/sub-008_task-rest-ses-1.nii.gz\n",
      "not found: /data/aglinska/data/sfari_bids/ds-sfari-60/sub-009/func/sub-009_task-rest-ses-1.nii.gz\n",
      "not found: /data/aglinska/data/sfari_bids/ds-sfari-60/sub-010/func/sub-010_task-rest-ses-1.nii.gz\n",
      "not found: /data/aglinska/data/sfari_bids/ds-sfari-60/sub-012/func/sub-012_task-rest-ses-1.nii.gz\n",
      "not found: /data/aglinska/data/sfari_bids/ds-sfari-60/sub-013/func/sub-013_task-rest-ses-1.nii.gz\n",
      "not found: /data/aglinska/data/sfari_bids/ds-sfari-60/sub-014/func/sub-014_task-rest-ses-1.nii.gz\n",
      "not found: /data/aglinska/data/sfari_bids/ds-sfari-60/sub-015/func/sub-015_task-rest-ses-1.nii.gz\n",
      "not found: /data/aglinska/data/sfari_bids/ds-sfari-60/sub-016/func/sub-016_task-rest-ses-1.nii.gz\n",
      "not found: /data/aglinska/data/sfari_bids/ds-sfari-60/sub-018/func/sub-018_task-rest-ses-1.nii.gz\n",
      "not found: /data/aglinska/data/sfari_bids/ds-sfari-60/sub-019/func/sub-019_task-rest-ses-1.nii.gz\n",
      "not found: /data/aglinska/data/sfari_bids/ds-sfari-60/sub-020/func/sub-020_task-rest-ses-1.nii.gz\n",
      "not found: /data/aglinska/data/sfari_bids/ds-sfari-60/sub-021/func/sub-021_task-rest-ses-1.nii.gz\n",
      "not found: /data/aglinska/data/sfari_bids/ds-sfari-60/sub-025/func/sub-025_task-rest-ses-1.nii.gz\n",
      "not found: /data/aglinska/data/sfari_bids/ds-sfari-60/sub-027/func/sub-027_task-rest-ses-1.nii.gz\n",
      "not found: /data/aglinska/data/sfari_bids/ds-sfari-60/sub-030/func/sub-030_task-rest-ses-1.nii.gz\n",
      "not found: /data/aglinska/data/sfari_bids/ds-sfari-60/sub-031/func/sub-031_task-rest-ses-1.nii.gz\n",
      "not found: /data/aglinska/data/sfari_bids/ds-sfari-60/sub-032/func/sub-032_task-rest-ses-1.nii.gz\n",
      "not found: /data/aglinska/data/sfari_bids/ds-sfari-60/sub-033/func/sub-033_task-rest-ses-1.nii.gz\n",
      "not found: /data/aglinska/data/sfari_bids/ds-sfari-60/sub-034/func/sub-034_task-rest-ses-1.nii.gz\n",
      "not found: /data/aglinska/data/sfari_bids/ds-sfari-60/sub-036/func/sub-036_task-rest-ses-1.nii.gz\n",
      "not found: /data/aglinska/data/sfari_bids/ds-sfari-60/sub-037/func/sub-037_task-rest-ses-1.nii.gz\n",
      "not found: /data/aglinska/data/sfari_bids/ds-sfari-60/sub-039/func/sub-039_task-rest-ses-1.nii.gz\n"
     ]
    }
   ],
   "source": [
    "for s in range(25):\n",
    "    sub = site_df['subID'].values[s]\n",
    "    im_anat = ants.image_read(os.path.join(ds_dir,sub,'anat',f'{sub}_T1w.nii.gz'))\n",
    "    \n",
    "    if os.path.exists(os.path.join(ds_dir,sub,'func',f'{sub}_task-rest_run-1_bold.nii.gz')):\n",
    "        im_func = ants.image_read(os.path.join(ds_dir,sub,'func',f'{sub}_task-rest_run-1_bold.nii.gz'))\n",
    "        im_func = ants.slice_image(im_func,axis=3,idx=0)\n",
    "\n",
    "        im_anat.plot_ortho(flat=True,title=sub)\n",
    "        im_func.plot_ortho(flat=True,title=sub)\n",
    "    else:\n",
    "        print('not found: {}'.format(os.path.join(ds_dir,sub,'func',f'{sub}_task-rest-ses-1.nii.gz')))"
   ]
  },
  {
   "cell_type": "code",
   "execution_count": null,
   "id": "9b2c0d76",
   "metadata": {},
   "outputs": [],
   "source": []
  },
  {
   "cell_type": "code",
   "execution_count": null,
   "id": "88c20682",
   "metadata": {},
   "outputs": [],
   "source": []
  },
  {
   "cell_type": "code",
   "execution_count": null,
   "id": "e0b4230a",
   "metadata": {},
   "outputs": [],
   "source": []
  }
 ],
 "metadata": {
  "kernelspec": {
   "display_name": "Python 3",
   "language": "python",
   "name": "python3"
  },
  "language_info": {
   "codemirror_mode": {
    "name": "ipython",
    "version": 3
   },
   "file_extension": ".py",
   "mimetype": "text/x-python",
   "name": "python",
   "nbconvert_exporter": "python",
   "pygments_lexer": "ipython3",
   "version": "3.8.5"
  }
 },
 "nbformat": 4,
 "nbformat_minor": 5
}
