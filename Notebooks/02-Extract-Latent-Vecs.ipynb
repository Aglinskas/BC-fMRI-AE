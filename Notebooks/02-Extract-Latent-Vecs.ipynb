{
 "cells": [
  {
   "cell_type": "code",
   "execution_count": 1,
   "id": "5a47f801",
   "metadata": {},
   "outputs": [],
   "source": [
    "from make_models import *\n",
    "from helper_funcs import *\n",
    "\n",
    "import numpy as np\n",
    "import os \n",
    "from tqdm import tqdm\n",
    "import pickle\n",
    "\n",
    "from importlib import reload"
   ]
  },
  {
   "cell_type": "code",
   "execution_count": 2,
   "id": "58412d12",
   "metadata": {},
   "outputs": [],
   "source": [
    "import os\n",
    "os.environ['CUDA_VISIBLE_DEVICES']='1'"
   ]
  },
  {
   "cell_type": "code",
   "execution_count": 3,
   "id": "c3ab6587",
   "metadata": {},
   "outputs": [],
   "source": [
    "df = pd.read_csv('../Data/ABIDE_df2.csv')\n",
    "df = df.iloc[~pd.isna(df['bids_folder']).values]"
   ]
  },
  {
   "cell_type": "code",
   "execution_count": 4,
   "id": "b7ba0c7d",
   "metadata": {},
   "outputs": [],
   "source": [
    "data_dir = '../Assets/fc_mats_32smooth_new/'\n",
    "files = [file for file in os.listdir(data_dir) if file.endswith('.npy')]\n",
    "files.sort()\n",
    "subs = df['bids_folder'].values\n",
    "patients = df['DX_GROUP'].values==1"
   ]
  },
  {
   "cell_type": "code",
   "execution_count": 5,
   "id": "693c1306",
   "metadata": {},
   "outputs": [
    {
     "data": {
      "text/plain": [
       "['CVAE_2021-10-06 08:35:55.310173',\n",
       " 'CVAE_2021-10-06 09:18:26.408246',\n",
       " 'CVAE_2021-10-06 09:19:00.166747',\n",
       " 'CVAE_2021-10-06 15:09:01.820789',\n",
       " 'CVAE_2021-10-06 17:30:12.802507']"
      ]
     },
     "execution_count": 5,
     "metadata": {},
     "output_type": "execute_result"
    }
   ],
   "source": [
    "weights = [w for w in os.listdir('../Assets/tf_weights/') if w.startswith('CVAE')]\n",
    "weights.sort()\n",
    "weights[-5::]"
   ]
  },
  {
   "cell_type": "code",
   "execution_count": 6,
   "id": "0b930ece",
   "metadata": {},
   "outputs": [],
   "source": [
    "#analysis_name = 'CVAE_2021-09-15 14:03:53.826090'\n",
    "analysis_name = 'CVAE_2021-10-06 08:35:55.310173'"
   ]
  },
  {
   "cell_type": "code",
   "execution_count": 7,
   "id": "f33b3963",
   "metadata": {},
   "outputs": [],
   "source": [
    "data_size = (len(df),32,32,32,51)"
   ]
  },
  {
   "cell_type": "code",
   "execution_count": 8,
   "id": "e5a519bc",
   "metadata": {},
   "outputs": [],
   "source": [
    "import make_models;reload(make_models);from make_models import *\n",
    "batch_size = 16\n",
    "\n",
    "cvae, z_encoder, s_encoder, cvae_decoder = get_fMRI_CVAE_4D(input_shape=tuple(data_size[1::]),\n",
    "                                                             latent_dim=16,\n",
    "                                                             beta=1,\n",
    "                                                             gamma=1,\n",
    "                                                             disentangle=True,\n",
    "                                                             bias=True,\n",
    "                                                             batch_size = batch_size,\n",
    "                                                             kernel_size = 3,\n",
    "                                                             filters = 8,\n",
    "                                                             intermediate_dim = 128,\n",
    "                                                             nlayers = 5,\n",
    "                                                             learning_rate=0.001,\n",
    "                                                             opt=None)\n"
   ]
  },
  {
   "cell_type": "code",
   "execution_count": 9,
   "id": "656d24c5",
   "metadata": {},
   "outputs": [
    {
     "data": {
      "text/plain": [
       "<tensorflow.python.training.tracking.util.CheckpointLoadStatus at 0x1554965e3f40>"
      ]
     },
     "execution_count": 9,
     "metadata": {},
     "output_type": "execute_result"
    }
   ],
   "source": [
    "cvae.load_weights(os.path.join('../Assets/tf_weights/',analysis_name,'cvae_weights'))"
   ]
  },
  {
   "cell_type": "code",
   "execution_count": 10,
   "id": "7fafa3e1",
   "metadata": {},
   "outputs": [],
   "source": [
    "nsamples = 10\n",
    "nsubs = len(df)"
   ]
  },
  {
   "cell_type": "code",
   "execution_count": 11,
   "id": "0f494b69",
   "metadata": {},
   "outputs": [],
   "source": [
    "latent_dim = 16"
   ]
  },
  {
   "cell_type": "code",
   "execution_count": 12,
   "id": "b8cd2a2e",
   "metadata": {},
   "outputs": [],
   "source": [
    "bg_arr = np.zeros((nsamples,nsubs,latent_dim))\n",
    "sl_arr = np.zeros((nsamples,nsubs,latent_dim))"
   ]
  },
  {
   "cell_type": "code",
   "execution_count": 13,
   "id": "dd217fd9",
   "metadata": {},
   "outputs": [
    {
     "name": "stderr",
     "output_type": "stream",
     "text": [
      "100%|██████████| 10/10 [13:03<00:00, 78.31s/it]\n"
     ]
    }
   ],
   "source": [
    "for i in tqdm(range(nsamples),leave=True):\n",
    "    for s in range(nsubs):\n",
    "        arr = np.load(os.path.join(data_dir,subs[s]+'.npy'))\n",
    "        arr = arr/2\n",
    "        arr = arr[np.newaxis,:,:,:,:]\n",
    "\n",
    "        vec_s = s_encoder.predict(arr)[2]\n",
    "        vec_z = z_encoder.predict(arr)[2]\n",
    "\n",
    "        bg_arr[i,s,:] = vec_z\n",
    "        sl_arr[i,s,:] = vec_s"
   ]
  },
  {
   "cell_type": "code",
   "execution_count": 14,
   "id": "4d7002a2",
   "metadata": {},
   "outputs": [],
   "source": [
    "latent_vecs = dict()\n",
    "latent_vecs['BG_ABIDE'] = bg_arr\n",
    "latent_vecs['SL_ABIDE'] = sl_arr\n",
    "latent_vecs['subs'] = subs"
   ]
  },
  {
   "cell_type": "code",
   "execution_count": 15,
   "id": "37f97177",
   "metadata": {},
   "outputs": [],
   "source": [
    "pickle.dump(latent_vecs,open(os.path.join('../Data/latent_vecs/','latent_vecs_'+analysis_name),'wb'))"
   ]
  },
  {
   "cell_type": "code",
   "execution_count": null,
   "id": "b7338403",
   "metadata": {},
   "outputs": [],
   "source": []
  },
  {
   "cell_type": "code",
   "execution_count": null,
   "id": "08d98f8a",
   "metadata": {},
   "outputs": [],
   "source": []
  },
  {
   "cell_type": "code",
   "execution_count": null,
   "id": "3c2a89c5",
   "metadata": {},
   "outputs": [],
   "source": []
  },
  {
   "cell_type": "code",
   "execution_count": null,
   "id": "528ae1d8",
   "metadata": {},
   "outputs": [],
   "source": []
  },
  {
   "cell_type": "code",
   "execution_count": null,
   "id": "caf9b9bc",
   "metadata": {},
   "outputs": [],
   "source": []
  },
  {
   "cell_type": "code",
   "execution_count": 16,
   "id": "dda695a0",
   "metadata": {},
   "outputs": [],
   "source": [
    "#cvae_decoder.predict(vec)"
   ]
  },
  {
   "cell_type": "code",
   "execution_count": 17,
   "id": "1dc02c6d",
   "metadata": {},
   "outputs": [],
   "source": [
    "#data_dir = '../Assets/fc_mats_32smooth_new'\n",
    "#data_loader = cvae_data_loader(data_dir=data_dir, df=df, batch_size=32)"
   ]
  },
  {
   "cell_type": "code",
   "execution_count": null,
   "id": "4ae83dce",
   "metadata": {},
   "outputs": [],
   "source": []
  },
  {
   "cell_type": "code",
   "execution_count": null,
   "id": "b6f3b1de",
   "metadata": {},
   "outputs": [],
   "source": []
  },
  {
   "cell_type": "code",
   "execution_count": null,
   "id": "0a43dd7e",
   "metadata": {},
   "outputs": [],
   "source": []
  },
  {
   "cell_type": "code",
   "execution_count": null,
   "id": "3ede59c2",
   "metadata": {},
   "outputs": [],
   "source": []
  },
  {
   "cell_type": "code",
   "execution_count": null,
   "id": "1b38d089",
   "metadata": {},
   "outputs": [],
   "source": []
  },
  {
   "cell_type": "code",
   "execution_count": null,
   "id": "d1bf8e92",
   "metadata": {},
   "outputs": [],
   "source": []
  },
  {
   "cell_type": "code",
   "execution_count": null,
   "id": "ae44150b",
   "metadata": {},
   "outputs": [],
   "source": []
  },
  {
   "cell_type": "code",
   "execution_count": null,
   "id": "640f3900",
   "metadata": {},
   "outputs": [],
   "source": []
  }
 ],
 "metadata": {
  "kernelspec": {
   "display_name": "Python 3",
   "language": "python",
   "name": "python3"
  },
  "language_info": {
   "codemirror_mode": {
    "name": "ipython",
    "version": 3
   },
   "file_extension": ".py",
   "mimetype": "text/x-python",
   "name": "python",
   "nbconvert_exporter": "python",
   "pygments_lexer": "ipython3",
   "version": "3.8.5"
  }
 },
 "nbformat": 4,
 "nbformat_minor": 5
}
