{
 "cells": [
  {
   "cell_type": "code",
   "execution_count": 24,
   "id": "624eda94",
   "metadata": {},
   "outputs": [],
   "source": [
    "from make_models import *\n",
    "from helper_funcs import *\n",
    "\n",
    "import numpy as np\n",
    "import os \n",
    "from tqdm import tqdm\n",
    "import pickle"
   ]
  },
  {
   "cell_type": "code",
   "execution_count": 2,
   "id": "fb2ec6e5",
   "metadata": {},
   "outputs": [],
   "source": [
    "df = pd.read_csv('../Data/ABIDE_df2.csv')\n",
    "df = df.iloc[~pd.isna(df['bids_folder']).values]"
   ]
  },
  {
   "cell_type": "code",
   "execution_count": 3,
   "id": "11a05ad3",
   "metadata": {},
   "outputs": [],
   "source": [
    "data_dir = '../Assets/fc_mats_32smooth_new/'\n",
    "files = [file for file in os.listdir(data_dir) if file.endswith('.npy')]\n",
    "files.sort()\n",
    "subs = df['bids_folder'].values\n",
    "patients = df['DX_GROUP'].values==1"
   ]
  },
  {
   "cell_type": "code",
   "execution_count": 4,
   "id": "662fe5e6",
   "metadata": {},
   "outputs": [],
   "source": [
    "analysis_name = 'CVAE_2021-09-15 14:03:53.826090'"
   ]
  },
  {
   "cell_type": "code",
   "execution_count": 5,
   "id": "21cd0bee",
   "metadata": {},
   "outputs": [
    {
     "data": {
      "text/plain": [
       "<tensorflow.python.training.tracking.util.CheckpointLoadStatus at 0x155496604700>"
      ]
     },
     "execution_count": 5,
     "metadata": {},
     "output_type": "execute_result"
    }
   ],
   "source": [
    "# CVAE WEIGHTS\n",
    "\n",
    "batch_size = 32; latent_dim = 16\n",
    "cvae, z_encoder, s_encoder, cvae_decoder = get_MRI_CCVAE_3D(input_shape=(32, 32, 32, 51),\n",
    "                                                            latent_dim = latent_dim,\n",
    "                                                            batch_size = batch_size, \n",
    "                                                            disentangle = True, \n",
    "                                                            gamma = 1,\n",
    "                                                            kernel_size = 3,\n",
    "                                                            filters = 64,\n",
    "                                                            intermediate_dim = 128,\n",
    "                                                            nlayers = 2,\n",
    "                                                            learning_rate=0.001)\n",
    "\n",
    "cvae.load_weights(os.path.join('../Assets/tf_weights/',analysis_name,'cvae_weights'))"
   ]
  },
  {
   "cell_type": "code",
   "execution_count": 6,
   "id": "755407be",
   "metadata": {},
   "outputs": [],
   "source": [
    "nsamples = 10\n",
    "nsubs = len(df)"
   ]
  },
  {
   "cell_type": "code",
   "execution_count": 7,
   "id": "6ec88a7f",
   "metadata": {},
   "outputs": [],
   "source": [
    "bg_arr = np.zeros((nsamples,nsubs,latent_dim))\n",
    "sl_arr = np.zeros((nsamples,nsubs,latent_dim))"
   ]
  },
  {
   "cell_type": "code",
   "execution_count": 21,
   "id": "c3a971b5",
   "metadata": {},
   "outputs": [
    {
     "name": "stderr",
     "output_type": "stream",
     "text": [
      "100%|██████████| 10/10 [14:09<00:00, 84.96s/it]\n"
     ]
    }
   ],
   "source": [
    "for i in tqdm(range(nsamples),leave=True):\n",
    "    for s in range(nsubs):\n",
    "        arr = np.load(os.path.join(data_dir,subs[s]+'.npy'))\n",
    "        arr = arr/2\n",
    "        arr = arr[np.newaxis,:,:,:,:]\n",
    "\n",
    "        vec_s = s_encoder.predict(arr)[2]\n",
    "        vec_z = z_encoder.predict(arr)[2]\n",
    "\n",
    "        bg_arr[i,s,:] = vec_z\n",
    "        sl_arr[i,s,:] = vec_s"
   ]
  },
  {
   "cell_type": "code",
   "execution_count": 36,
   "id": "b616a5f1",
   "metadata": {},
   "outputs": [],
   "source": [
    "latent_vecs = dict()\n",
    "latent_vecs['BG_ABIDE'] = bg_arr\n",
    "latent_vecs['SL_ABIDE'] = sl_arr\n",
    "latent_vecs['subs'] = subs"
   ]
  },
  {
   "cell_type": "code",
   "execution_count": null,
   "id": "3fca7afd",
   "metadata": {},
   "outputs": [],
   "source": []
  },
  {
   "cell_type": "code",
   "execution_count": null,
   "id": "3b7954a7",
   "metadata": {},
   "outputs": [],
   "source": []
  },
  {
   "cell_type": "code",
   "execution_count": null,
   "id": "ff0b40bc",
   "metadata": {},
   "outputs": [],
   "source": []
  },
  {
   "cell_type": "code",
   "execution_count": null,
   "id": "141edbd3",
   "metadata": {},
   "outputs": [],
   "source": []
  },
  {
   "cell_type": "code",
   "execution_count": null,
   "id": "7a236724",
   "metadata": {},
   "outputs": [],
   "source": []
  },
  {
   "cell_type": "code",
   "execution_count": null,
   "id": "81efb671",
   "metadata": {},
   "outputs": [],
   "source": []
  },
  {
   "cell_type": "code",
   "execution_count": 37,
   "id": "9ae1318b",
   "metadata": {},
   "outputs": [],
   "source": [
    "pickle.dump(latent_vecs,open(os.path.join('../Data/latent_vecs/','latent_vecs_'+analysis_name),'wb'))"
   ]
  },
  {
   "cell_type": "code",
   "execution_count": null,
   "id": "1f1efa6d",
   "metadata": {},
   "outputs": [],
   "source": []
  },
  {
   "cell_type": "code",
   "execution_count": null,
   "id": "724e6cf0",
   "metadata": {},
   "outputs": [],
   "source": []
  },
  {
   "cell_type": "code",
   "execution_count": null,
   "id": "5c03ee47",
   "metadata": {},
   "outputs": [],
   "source": []
  },
  {
   "cell_type": "code",
   "execution_count": null,
   "id": "049ba7d3",
   "metadata": {},
   "outputs": [],
   "source": []
  },
  {
   "cell_type": "code",
   "execution_count": null,
   "id": "740a2d02",
   "metadata": {},
   "outputs": [],
   "source": []
  },
  {
   "cell_type": "code",
   "execution_count": null,
   "id": "cfed42af",
   "metadata": {},
   "outputs": [],
   "source": [
    "#cvae_decoder.predict(vec)"
   ]
  },
  {
   "cell_type": "code",
   "execution_count": null,
   "id": "f7975281",
   "metadata": {},
   "outputs": [],
   "source": [
    "#data_dir = '../Assets/fc_mats_32smooth_new'\n",
    "#data_loader = cvae_data_loader(data_dir=data_dir, df=df, batch_size=32)"
   ]
  },
  {
   "cell_type": "code",
   "execution_count": null,
   "id": "e1541c80",
   "metadata": {},
   "outputs": [],
   "source": []
  },
  {
   "cell_type": "code",
   "execution_count": null,
   "id": "3e0825c7",
   "metadata": {},
   "outputs": [],
   "source": []
  },
  {
   "cell_type": "code",
   "execution_count": null,
   "id": "6b79d5c4",
   "metadata": {},
   "outputs": [],
   "source": []
  },
  {
   "cell_type": "code",
   "execution_count": null,
   "id": "b068eaec",
   "metadata": {},
   "outputs": [],
   "source": []
  },
  {
   "cell_type": "code",
   "execution_count": null,
   "id": "7810b149",
   "metadata": {},
   "outputs": [],
   "source": []
  },
  {
   "cell_type": "code",
   "execution_count": null,
   "id": "a1bb7e3b",
   "metadata": {},
   "outputs": [],
   "source": []
  },
  {
   "cell_type": "code",
   "execution_count": null,
   "id": "a9850ccd",
   "metadata": {},
   "outputs": [],
   "source": []
  },
  {
   "cell_type": "code",
   "execution_count": null,
   "id": "d5ae5e5e",
   "metadata": {},
   "outputs": [],
   "source": []
  }
 ],
 "metadata": {
  "kernelspec": {
   "display_name": "Python 3",
   "language": "python",
   "name": "python3"
  },
  "language_info": {
   "codemirror_mode": {
    "name": "ipython",
    "version": 3
   },
   "file_extension": ".py",
   "mimetype": "text/x-python",
   "name": "python",
   "nbconvert_exporter": "python",
   "pygments_lexer": "ipython3",
   "version": "3.8.5"
  }
 },
 "nbformat": 4,
 "nbformat_minor": 5
}
