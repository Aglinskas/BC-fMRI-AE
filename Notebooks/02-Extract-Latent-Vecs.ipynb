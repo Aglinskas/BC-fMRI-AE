{
 "cells": [
  {
   "cell_type": "code",
   "execution_count": 1,
   "id": "470a151b",
   "metadata": {},
   "outputs": [],
   "source": [
    "from make_models import *\n",
    "from helper_funcs import *\n",
    "\n",
    "import numpy as np\n",
    "import os \n",
    "from tqdm import tqdm\n",
    "import pickle"
   ]
  },
  {
   "cell_type": "code",
   "execution_count": 2,
   "id": "bedee16b",
   "metadata": {},
   "outputs": [],
   "source": [
    "df = pd.read_csv('../Data/ABIDE_df2.csv')\n",
    "df = df.iloc[~pd.isna(df['bids_folder']).values]"
   ]
  },
  {
   "cell_type": "code",
   "execution_count": 3,
   "id": "395f6eaa",
   "metadata": {},
   "outputs": [],
   "source": [
    "data_dir = '../Assets/fc_mats_32smooth_new/'\n",
    "files = [file for file in os.listdir(data_dir) if file.endswith('.npy')]\n",
    "files.sort()\n",
    "subs = df['bids_folder'].values\n",
    "patients = df['DX_GROUP'].values==1"
   ]
  },
  {
   "cell_type": "code",
   "execution_count": 4,
   "id": "37855002",
   "metadata": {},
   "outputs": [],
   "source": [
    "#analysis_name = 'CVAE_2021-09-15 14:03:53.826090'\n",
    "analysis_name = 'CVAE_2021-09-30 17:08:46.471890'"
   ]
  },
  {
   "cell_type": "code",
   "execution_count": 5,
   "id": "e309e615",
   "metadata": {},
   "outputs": [
    {
     "data": {
      "text/plain": [
       "<tensorflow.python.training.tracking.util.CheckpointLoadStatus at 0x1554966039d0>"
      ]
     },
     "execution_count": 5,
     "metadata": {},
     "output_type": "execute_result"
    }
   ],
   "source": [
    "# CVAE WEIGHTS\n",
    "\n",
    "batch_size = 32; latent_dim = 32\n",
    "# cvae, z_encoder, s_encoder, cvae_decoder = get_fMRI_CVAE_4D(input_shape=(32, 32, 32, 51),\n",
    "#                                                             latent_dim = latent_dim,\n",
    "#                                                             batch_size = batch_size, \n",
    "#                                                             disentangle = True, \n",
    "#                                                             gamma = 1,\n",
    "#                                                             kernel_size = 3,\n",
    "#                                                             filters = 64,\n",
    "#                                                             intermediate_dim = 128,\n",
    "#                                                             nlayers = 2,\n",
    "#                                                             learning_rate=0.001)\n",
    "\n",
    "cvae, z_encoder, s_encoder, cvae_decoder = get_fMRI_CVAE_4D(input_shape=(32, 32, 32, 51),\n",
    "                                                             latent_dim=32,\n",
    "                                                             beta=1,\n",
    "                                                             gamma=1,\n",
    "                                                             disentangle=True,\n",
    "                                                             bias=True,\n",
    "                                                             batch_size = batch_size,\n",
    "                                                             kernel_size = 3,\n",
    "                                                             filters = 16,\n",
    "                                                             intermediate_dim = 256,\n",
    "                                                             nlayers = 4,\n",
    "                                                             learning_rate=0.001,\n",
    "                                                             opt=None)\n",
    "\n",
    "cvae.load_weights(os.path.join('../Assets/tf_weights/',analysis_name,'cvae_weights'))"
   ]
  },
  {
   "cell_type": "code",
   "execution_count": 6,
   "id": "83bdd76b",
   "metadata": {},
   "outputs": [],
   "source": [
    "nsamples = 10\n",
    "nsubs = len(df)"
   ]
  },
  {
   "cell_type": "code",
   "execution_count": 7,
   "id": "5bf4c303",
   "metadata": {},
   "outputs": [],
   "source": [
    "bg_arr = np.zeros((nsamples,nsubs,latent_dim))\n",
    "sl_arr = np.zeros((nsamples,nsubs,latent_dim))"
   ]
  },
  {
   "cell_type": "code",
   "execution_count": 8,
   "id": "52c678e5",
   "metadata": {},
   "outputs": [
    {
     "name": "stderr",
     "output_type": "stream",
     "text": [
      "100%|██████████| 10/10 [13:45<00:00, 82.59s/it]\n"
     ]
    }
   ],
   "source": [
    "for i in tqdm(range(nsamples),leave=True):\n",
    "    for s in range(nsubs):\n",
    "        arr = np.load(os.path.join(data_dir,subs[s]+'.npy'))\n",
    "        arr = arr/2\n",
    "        arr = arr[np.newaxis,:,:,:,:]\n",
    "\n",
    "        vec_s = s_encoder.predict(arr)[2]\n",
    "        vec_z = z_encoder.predict(arr)[2]\n",
    "\n",
    "        bg_arr[i,s,:] = vec_z\n",
    "        sl_arr[i,s,:] = vec_s"
   ]
  },
  {
   "cell_type": "code",
   "execution_count": 9,
   "id": "1d75f03f",
   "metadata": {},
   "outputs": [],
   "source": [
    "latent_vecs = dict()\n",
    "latent_vecs['BG_ABIDE'] = bg_arr\n",
    "latent_vecs['SL_ABIDE'] = sl_arr\n",
    "latent_vecs['subs'] = subs"
   ]
  },
  {
   "cell_type": "code",
   "execution_count": null,
   "id": "923fdab5",
   "metadata": {},
   "outputs": [],
   "source": []
  },
  {
   "cell_type": "code",
   "execution_count": null,
   "id": "34b11826",
   "metadata": {},
   "outputs": [],
   "source": []
  },
  {
   "cell_type": "code",
   "execution_count": null,
   "id": "f6dfbd11",
   "metadata": {},
   "outputs": [],
   "source": []
  },
  {
   "cell_type": "code",
   "execution_count": null,
   "id": "b27e459d",
   "metadata": {},
   "outputs": [],
   "source": []
  },
  {
   "cell_type": "code",
   "execution_count": null,
   "id": "7b261570",
   "metadata": {},
   "outputs": [],
   "source": []
  },
  {
   "cell_type": "code",
   "execution_count": null,
   "id": "3f799219",
   "metadata": {},
   "outputs": [],
   "source": []
  },
  {
   "cell_type": "code",
   "execution_count": 10,
   "id": "209e2467",
   "metadata": {},
   "outputs": [],
   "source": [
    "pickle.dump(latent_vecs,open(os.path.join('../Data/latent_vecs/','latent_vecs_'+analysis_name),'wb'))"
   ]
  },
  {
   "cell_type": "code",
   "execution_count": null,
   "id": "fe758e38",
   "metadata": {},
   "outputs": [],
   "source": []
  },
  {
   "cell_type": "code",
   "execution_count": null,
   "id": "ea920e84",
   "metadata": {},
   "outputs": [],
   "source": []
  },
  {
   "cell_type": "code",
   "execution_count": null,
   "id": "4804d4cc",
   "metadata": {},
   "outputs": [],
   "source": []
  },
  {
   "cell_type": "code",
   "execution_count": null,
   "id": "6cc86660",
   "metadata": {},
   "outputs": [],
   "source": []
  },
  {
   "cell_type": "code",
   "execution_count": null,
   "id": "05b31add",
   "metadata": {},
   "outputs": [],
   "source": []
  },
  {
   "cell_type": "code",
   "execution_count": 11,
   "id": "ce82cceb",
   "metadata": {},
   "outputs": [],
   "source": [
    "#cvae_decoder.predict(vec)"
   ]
  },
  {
   "cell_type": "code",
   "execution_count": 12,
   "id": "98c126f1",
   "metadata": {},
   "outputs": [],
   "source": [
    "#data_dir = '../Assets/fc_mats_32smooth_new'\n",
    "#data_loader = cvae_data_loader(data_dir=data_dir, df=df, batch_size=32)"
   ]
  },
  {
   "cell_type": "code",
   "execution_count": null,
   "id": "608f4f5a",
   "metadata": {},
   "outputs": [],
   "source": []
  },
  {
   "cell_type": "code",
   "execution_count": null,
   "id": "6f82faef",
   "metadata": {},
   "outputs": [],
   "source": []
  },
  {
   "cell_type": "code",
   "execution_count": null,
   "id": "2050df91",
   "metadata": {},
   "outputs": [],
   "source": []
  },
  {
   "cell_type": "code",
   "execution_count": null,
   "id": "9d2bb183",
   "metadata": {},
   "outputs": [],
   "source": []
  },
  {
   "cell_type": "code",
   "execution_count": null,
   "id": "4e3972f3",
   "metadata": {},
   "outputs": [],
   "source": []
  },
  {
   "cell_type": "code",
   "execution_count": null,
   "id": "1c3a16f5",
   "metadata": {},
   "outputs": [],
   "source": []
  },
  {
   "cell_type": "code",
   "execution_count": null,
   "id": "e52f7866",
   "metadata": {},
   "outputs": [],
   "source": []
  },
  {
   "cell_type": "code",
   "execution_count": null,
   "id": "1b44ec2a",
   "metadata": {},
   "outputs": [],
   "source": []
  }
 ],
 "metadata": {
  "kernelspec": {
   "display_name": "Python 3",
   "language": "python",
   "name": "python3"
  },
  "language_info": {
   "codemirror_mode": {
    "name": "ipython",
    "version": 3
   },
   "file_extension": ".py",
   "mimetype": "text/x-python",
   "name": "python",
   "nbconvert_exporter": "python",
   "pygments_lexer": "ipython3",
   "version": "3.8.5"
  }
 },
 "nbformat": 4,
 "nbformat_minor": 5
}
