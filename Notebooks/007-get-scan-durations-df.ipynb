{
 "cells": [
  {
   "cell_type": "code",
   "execution_count": 1,
   "id": "cb0a302b",
   "metadata": {},
   "outputs": [],
   "source": [
    "import ants\n",
    "from tqdm import tqdm\n",
    "import pandas as pd\n",
    "import os "
   ]
  },
  {
   "cell_type": "code",
   "execution_count": null,
   "id": "04e3a483",
   "metadata": {},
   "outputs": [],
   "source": [
    "indir = '~/data/ABIDE/Derivatives/preprocessed'\n",
    "indir = os.path.expanduser(indir)\n",
    "folders = [f for f in os.listdir(indir) if f.startswith('sub-') and not f.endswith('.html')]\n",
    "folders.sort()\n",
    "len(folders)"
   ]
  },
  {
   "cell_type": "code",
   "execution_count": null,
   "id": "e70c8b01",
   "metadata": {},
   "outputs": [],
   "source": [
    "def get_scan_duration(sub):\n",
    "    im = ants.image_read(os.path.join(indir,f'{sub}/frc-{sub}_bold.nii.gz'))\n",
    "    t = im.shape[-1]*im.spacing[-1]/60\n",
    "    return t"
   ]
  },
  {
   "cell_type": "code",
   "execution_count": null,
   "id": "3ab4a3e6",
   "metadata": {},
   "outputs": [],
   "source": [
    "scan_durations1 = [get_scan_duration(sub) for sub in tqdm(folders)]\n",
    "L = pd.DataFrame()\n",
    "L['sub'] = folders\n",
    "L['scan_length'] = scan_durations1\n",
    "L.to_csv('../Data/Scan_lenghts_ABIDEI.csv')"
   ]
  },
  {
   "cell_type": "code",
   "execution_count": null,
   "id": "fc8db7da",
   "metadata": {},
   "outputs": [],
   "source": []
  },
  {
   "cell_type": "code",
   "execution_count": 4,
   "id": "dd7c2120",
   "metadata": {},
   "outputs": [
    {
     "data": {
      "text/plain": [
       "966"
      ]
     },
     "execution_count": 4,
     "metadata": {},
     "output_type": "execute_result"
    }
   ],
   "source": [
    "indir = '~/data/ABIDE2/Derivatives/preprocessed'\n",
    "indir = os.path.expanduser(indir)\n",
    "folders = [f for f in os.listdir(indir) if f.startswith('sub-') and not f.endswith('.html')]\n",
    "folders.sort()\n",
    "len(folders)"
   ]
  },
  {
   "cell_type": "code",
   "execution_count": 5,
   "id": "a73cf351",
   "metadata": {},
   "outputs": [],
   "source": [
    "def get_scan_duration2(sub):\n",
    "    #im = ants.image_read(os.path.join(indir,f'{sub}/frc-{sub}_bold.nii.gz'))\n",
    "    sessions = os.listdir(os.path.join(indir,f'{sub}'))\n",
    "    sessions.sort()\n",
    "    sess = sessions[0]\n",
    "    fn = os.path.join(indir,f'{sub}',sess,f'frc-{sub}_bold.nii.gz')\n",
    "    \n",
    "    im = ants.image_read(fn)\n",
    "    t = im.shape[-1]*im.spacing[-1]/60\n",
    "    return t"
   ]
  },
  {
   "cell_type": "code",
   "execution_count": 6,
   "id": "9faf9108",
   "metadata": {},
   "outputs": [
    {
     "name": "stderr",
     "output_type": "stream",
     "text": [
      "100%|██████████| 966/966 [14:21<00:00,  1.12it/s] \n"
     ]
    }
   ],
   "source": [
    "scan_durations2 = [get_scan_duration2(sub) for sub in tqdm(folders)]"
   ]
  },
  {
   "cell_type": "code",
   "execution_count": 7,
   "id": "2b5a8ee5",
   "metadata": {},
   "outputs": [],
   "source": [
    "L = pd.DataFrame()\n",
    "L['sub'] = folders\n",
    "L['scan_length'] = scan_durations2\n",
    "L.to_csv('../Data/Scan_lenghts_ABIDEII.csv')"
   ]
  },
  {
   "cell_type": "code",
   "execution_count": 10,
   "id": "f7e202cb",
   "metadata": {},
   "outputs": [
    {
     "data": {
      "text/plain": [
       "'/mmfs1/data/aglinska/BC-fMRI-AE/Notebooks'"
      ]
     },
     "execution_count": 10,
     "metadata": {},
     "output_type": "execute_result"
    }
   ],
   "source": [
    "pwd"
   ]
  },
  {
   "cell_type": "code",
   "execution_count": null,
   "id": "02122568",
   "metadata": {},
   "outputs": [],
   "source": []
  },
  {
   "cell_type": "code",
   "execution_count": null,
   "id": "547410bb",
   "metadata": {},
   "outputs": [],
   "source": []
  }
 ],
 "metadata": {
  "kernelspec": {
   "display_name": "Python 3",
   "language": "python",
   "name": "python3"
  },
  "language_info": {
   "codemirror_mode": {
    "name": "ipython",
    "version": 3
   },
   "file_extension": ".py",
   "mimetype": "text/x-python",
   "name": "python",
   "nbconvert_exporter": "python",
   "pygments_lexer": "ipython3",
   "version": "3.8.5"
  }
 },
 "nbformat": 4,
 "nbformat_minor": 5
}
