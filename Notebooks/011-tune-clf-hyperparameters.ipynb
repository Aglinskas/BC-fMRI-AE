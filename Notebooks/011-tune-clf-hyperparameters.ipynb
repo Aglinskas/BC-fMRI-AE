{
 "cells": [
  {
   "cell_type": "code",
   "execution_count": 1,
   "id": "aa58abb5",
   "metadata": {},
   "outputs": [
    {
     "name": "stdout",
     "output_type": "stream",
     "text": [
      "Tue Apr 12 13:56:27 EDT 2022\n"
     ]
    }
   ],
   "source": [
    "!date"
   ]
  },
  {
   "cell_type": "code",
   "execution_count": 2,
   "id": "4e44d864",
   "metadata": {},
   "outputs": [
    {
     "data": {
      "text/plain": [
       "'/mmfs1/data/aglinska/BC-fMRI-AE/Notebooks'"
      ]
     },
     "execution_count": 2,
     "metadata": {},
     "output_type": "execute_result"
    }
   ],
   "source": [
    "pwd"
   ]
  },
  {
   "cell_type": "code",
   "execution_count": 3,
   "id": "ddacda5c",
   "metadata": {},
   "outputs": [
    {
     "name": "stdout",
     "output_type": "stream",
     "text": [
      "CPU times: user 11.6 s, sys: 1.7 s, total: 13.3 s\n",
      "Wall time: 28.9 s\n"
     ]
    }
   ],
   "source": [
    "%%time\n",
    "\n",
    "import numpy as np\n",
    "import pandas as pd\n",
    "import os\n",
    "from matplotlib import pyplot as plt\n",
    "from tqdm import tqdm\n",
    "from helper_funcs import *\n",
    "import shutil\n",
    "from scipy.stats import ttest_ind,ttest_1samp,ttest_rel\n",
    "\n",
    "import umap\n",
    "\n",
    "\n",
    "\n",
    "from sklearn.model_selection import KFold\n",
    "from sklearn.metrics import r2_score\n",
    "from sklearn.decomposition import PCA"
   ]
  },
  {
   "cell_type": "code",
   "execution_count": 4,
   "id": "8f71a799",
   "metadata": {},
   "outputs": [],
   "source": [
    "def dummy_ordinal(invec):\n",
    "    unique_values = np.unique(invec)\n",
    "    new_values = np.arange(1,len(unique_values)+1)\n",
    "    new_arr = [new_values[val==unique_values][0] for val in invec]\n",
    "    return new_arr"
   ]
  },
  {
   "cell_type": "code",
   "execution_count": 5,
   "id": "56232e05",
   "metadata": {},
   "outputs": [
    {
     "name": "stdout",
     "output_type": "stream",
     "text": [
      "1025\n",
      "(661, 16)\n",
      "(841, 16)\n"
     ]
    },
    {
     "data": {
      "text/html": [
       "<div>\n",
       "<style scoped>\n",
       "    .dataframe tbody tr th:only-of-type {\n",
       "        vertical-align: middle;\n",
       "    }\n",
       "\n",
       "    .dataframe tbody tr th {\n",
       "        vertical-align: top;\n",
       "    }\n",
       "\n",
       "    .dataframe thead th {\n",
       "        text-align: right;\n",
       "    }\n",
       "</style>\n",
       "<table border=\"1\" class=\"dataframe\">\n",
       "  <thead>\n",
       "    <tr style=\"text-align: right;\">\n",
       "      <th></th>\n",
       "      <th>Unnamed: 0</th>\n",
       "      <th>participant_id</th>\n",
       "      <th>diag</th>\n",
       "      <th>age</th>\n",
       "      <th>sex</th>\n",
       "      <th>fiq</th>\n",
       "      <th>site</th>\n",
       "      <th>DSMIV</th>\n",
       "      <th>ados_total</th>\n",
       "      <th>ados_social</th>\n",
       "      <th>ados_comm</th>\n",
       "      <th>ados_rrb</th>\n",
       "      <th>dataset</th>\n",
       "      <th>dataset_id</th>\n",
       "      <th>site_id</th>\n",
       "      <th>sites_bal</th>\n",
       "    </tr>\n",
       "  </thead>\n",
       "  <tbody>\n",
       "    <tr>\n",
       "      <th>0</th>\n",
       "      <td>0</td>\n",
       "      <td>50002</td>\n",
       "      <td>1</td>\n",
       "      <td>16.77</td>\n",
       "      <td>1</td>\n",
       "      <td>103.0</td>\n",
       "      <td>13</td>\n",
       "      <td>1.0</td>\n",
       "      <td>12.0</td>\n",
       "      <td>8.0</td>\n",
       "      <td>4.0</td>\n",
       "      <td>3.0</td>\n",
       "      <td>ABIDE I</td>\n",
       "      <td>1</td>\n",
       "      <td>4</td>\n",
       "      <td>4.0</td>\n",
       "    </tr>\n",
       "    <tr>\n",
       "      <th>1</th>\n",
       "      <td>2</td>\n",
       "      <td>50004</td>\n",
       "      <td>1</td>\n",
       "      <td>19.09</td>\n",
       "      <td>1</td>\n",
       "      <td>113.0</td>\n",
       "      <td>13</td>\n",
       "      <td>1.0</td>\n",
       "      <td>18.0</td>\n",
       "      <td>12.0</td>\n",
       "      <td>6.0</td>\n",
       "      <td>2.0</td>\n",
       "      <td>ABIDE I</td>\n",
       "      <td>1</td>\n",
       "      <td>4</td>\n",
       "      <td>4.0</td>\n",
       "    </tr>\n",
       "    <tr>\n",
       "      <th>2</th>\n",
       "      <td>3</td>\n",
       "      <td>50005</td>\n",
       "      <td>1</td>\n",
       "      <td>13.73</td>\n",
       "      <td>2</td>\n",
       "      <td>119.0</td>\n",
       "      <td>13</td>\n",
       "      <td>1.0</td>\n",
       "      <td>12.0</td>\n",
       "      <td>8.0</td>\n",
       "      <td>4.0</td>\n",
       "      <td>1.0</td>\n",
       "      <td>ABIDE I</td>\n",
       "      <td>1</td>\n",
       "      <td>4</td>\n",
       "      <td>4.0</td>\n",
       "    </tr>\n",
       "    <tr>\n",
       "      <th>3</th>\n",
       "      <td>4</td>\n",
       "      <td>50006</td>\n",
       "      <td>1</td>\n",
       "      <td>13.37</td>\n",
       "      <td>1</td>\n",
       "      <td>109.0</td>\n",
       "      <td>13</td>\n",
       "      <td>1.0</td>\n",
       "      <td>12.0</td>\n",
       "      <td>8.0</td>\n",
       "      <td>4.0</td>\n",
       "      <td>4.0</td>\n",
       "      <td>ABIDE I</td>\n",
       "      <td>1</td>\n",
       "      <td>4</td>\n",
       "      <td>4.0</td>\n",
       "    </tr>\n",
       "    <tr>\n",
       "      <th>4</th>\n",
       "      <td>9</td>\n",
       "      <td>50011</td>\n",
       "      <td>1</td>\n",
       "      <td>16.93</td>\n",
       "      <td>1</td>\n",
       "      <td>111.0</td>\n",
       "      <td>13</td>\n",
       "      <td>1.0</td>\n",
       "      <td>13.0</td>\n",
       "      <td>9.0</td>\n",
       "      <td>4.0</td>\n",
       "      <td>NaN</td>\n",
       "      <td>ABIDE I</td>\n",
       "      <td>1</td>\n",
       "      <td>4</td>\n",
       "      <td>4.0</td>\n",
       "    </tr>\n",
       "    <tr>\n",
       "      <th>...</th>\n",
       "      <td>...</td>\n",
       "      <td>...</td>\n",
       "      <td>...</td>\n",
       "      <td>...</td>\n",
       "      <td>...</td>\n",
       "      <td>...</td>\n",
       "      <td>...</td>\n",
       "      <td>...</td>\n",
       "      <td>...</td>\n",
       "      <td>...</td>\n",
       "      <td>...</td>\n",
       "      <td>...</td>\n",
       "      <td>...</td>\n",
       "      <td>...</td>\n",
       "      <td>...</td>\n",
       "      <td>...</td>\n",
       "    </tr>\n",
       "    <tr>\n",
       "      <th>1497</th>\n",
       "      <td>746</td>\n",
       "      <td>30163</td>\n",
       "      <td>2</td>\n",
       "      <td>8.00</td>\n",
       "      <td>2</td>\n",
       "      <td>136.0</td>\n",
       "      <td>ABIDEII-OHSU_1</td>\n",
       "      <td>NaN</td>\n",
       "      <td>NaN</td>\n",
       "      <td>NaN</td>\n",
       "      <td>NaN</td>\n",
       "      <td>NaN</td>\n",
       "      <td>ABIDE II</td>\n",
       "      <td>2</td>\n",
       "      <td>29</td>\n",
       "      <td>NaN</td>\n",
       "    </tr>\n",
       "    <tr>\n",
       "      <th>1498</th>\n",
       "      <td>747</td>\n",
       "      <td>30164</td>\n",
       "      <td>2</td>\n",
       "      <td>10.00</td>\n",
       "      <td>2</td>\n",
       "      <td>115.0</td>\n",
       "      <td>ABIDEII-OHSU_1</td>\n",
       "      <td>NaN</td>\n",
       "      <td>NaN</td>\n",
       "      <td>NaN</td>\n",
       "      <td>NaN</td>\n",
       "      <td>NaN</td>\n",
       "      <td>ABIDE II</td>\n",
       "      <td>2</td>\n",
       "      <td>29</td>\n",
       "      <td>NaN</td>\n",
       "    </tr>\n",
       "    <tr>\n",
       "      <th>1499</th>\n",
       "      <td>748</td>\n",
       "      <td>30165</td>\n",
       "      <td>2</td>\n",
       "      <td>12.00</td>\n",
       "      <td>2</td>\n",
       "      <td>120.0</td>\n",
       "      <td>ABIDEII-OHSU_1</td>\n",
       "      <td>NaN</td>\n",
       "      <td>NaN</td>\n",
       "      <td>NaN</td>\n",
       "      <td>NaN</td>\n",
       "      <td>NaN</td>\n",
       "      <td>ABIDE II</td>\n",
       "      <td>2</td>\n",
       "      <td>29</td>\n",
       "      <td>NaN</td>\n",
       "    </tr>\n",
       "    <tr>\n",
       "      <th>1500</th>\n",
       "      <td>749</td>\n",
       "      <td>30166</td>\n",
       "      <td>2</td>\n",
       "      <td>10.00</td>\n",
       "      <td>2</td>\n",
       "      <td>112.0</td>\n",
       "      <td>ABIDEII-OHSU_1</td>\n",
       "      <td>NaN</td>\n",
       "      <td>NaN</td>\n",
       "      <td>NaN</td>\n",
       "      <td>NaN</td>\n",
       "      <td>NaN</td>\n",
       "      <td>ABIDE II</td>\n",
       "      <td>2</td>\n",
       "      <td>29</td>\n",
       "      <td>NaN</td>\n",
       "    </tr>\n",
       "    <tr>\n",
       "      <th>1501</th>\n",
       "      <td>750</td>\n",
       "      <td>30167</td>\n",
       "      <td>2</td>\n",
       "      <td>14.00</td>\n",
       "      <td>2</td>\n",
       "      <td>100.0</td>\n",
       "      <td>ABIDEII-OHSU_1</td>\n",
       "      <td>NaN</td>\n",
       "      <td>NaN</td>\n",
       "      <td>NaN</td>\n",
       "      <td>NaN</td>\n",
       "      <td>NaN</td>\n",
       "      <td>ABIDE II</td>\n",
       "      <td>2</td>\n",
       "      <td>29</td>\n",
       "      <td>NaN</td>\n",
       "    </tr>\n",
       "  </tbody>\n",
       "</table>\n",
       "<p>1502 rows × 16 columns</p>\n",
       "</div>"
      ],
      "text/plain": [
       "      Unnamed: 0  participant_id  diag    age  sex    fiq            site  \\\n",
       "0              0           50002     1  16.77    1  103.0              13   \n",
       "1              2           50004     1  19.09    1  113.0              13   \n",
       "2              3           50005     1  13.73    2  119.0              13   \n",
       "3              4           50006     1  13.37    1  109.0              13   \n",
       "4              9           50011     1  16.93    1  111.0              13   \n",
       "...          ...             ...   ...    ...  ...    ...             ...   \n",
       "1497         746           30163     2   8.00    2  136.0  ABIDEII-OHSU_1   \n",
       "1498         747           30164     2  10.00    2  115.0  ABIDEII-OHSU_1   \n",
       "1499         748           30165     2  12.00    2  120.0  ABIDEII-OHSU_1   \n",
       "1500         749           30166     2  10.00    2  112.0  ABIDEII-OHSU_1   \n",
       "1501         750           30167     2  14.00    2  100.0  ABIDEII-OHSU_1   \n",
       "\n",
       "      DSMIV  ados_total  ados_social  ados_comm  ados_rrb   dataset  \\\n",
       "0       1.0        12.0          8.0        4.0       3.0   ABIDE I   \n",
       "1       1.0        18.0         12.0        6.0       2.0   ABIDE I   \n",
       "2       1.0        12.0          8.0        4.0       1.0   ABIDE I   \n",
       "3       1.0        12.0          8.0        4.0       4.0   ABIDE I   \n",
       "4       1.0        13.0          9.0        4.0       NaN   ABIDE I   \n",
       "...     ...         ...          ...        ...       ...       ...   \n",
       "1497    NaN         NaN          NaN        NaN       NaN  ABIDE II   \n",
       "1498    NaN         NaN          NaN        NaN       NaN  ABIDE II   \n",
       "1499    NaN         NaN          NaN        NaN       NaN  ABIDE II   \n",
       "1500    NaN         NaN          NaN        NaN       NaN  ABIDE II   \n",
       "1501    NaN         NaN          NaN        NaN       NaN  ABIDE II   \n",
       "\n",
       "      dataset_id  site_id  sites_bal  \n",
       "0              1        4        4.0  \n",
       "1              1        4        4.0  \n",
       "2              1        4        4.0  \n",
       "3              1        4        4.0  \n",
       "4              1        4        4.0  \n",
       "...          ...      ...        ...  \n",
       "1497           2       29        NaN  \n",
       "1498           2       29        NaN  \n",
       "1499           2       29        NaN  \n",
       "1500           2       29        NaN  \n",
       "1501           2       29        NaN  \n",
       "\n",
       "[1502 rows x 16 columns]"
      ]
     },
     "execution_count": 5,
     "metadata": {},
     "output_type": "execute_result"
    }
   ],
   "source": [
    "df = pd.read_csv('../Data/comb_df.csv')\n",
    "df['dataset_id'] = dummy_ordinal(df['dataset'])\n",
    "df['site_id'] = dummy_ordinal(df['site'])\n",
    "\n",
    "\n",
    "u_sites = np.unique(df['site_id'].values)\n",
    "sites = df['site_id'].values.astype(float)\n",
    "site_ratios = np.array([(df['diag'].values[df['site_id'].values==s]==1).mean() for s in u_sites])\n",
    "bad_sites = u_sites[abs(site_ratios-.5)>.1]\n",
    "sites[df['site_id'].isin(bad_sites).values] = np.nan\n",
    "df['sites_bal'] = sites\n",
    "print((~np.isnan(df['sites_bal'].values)).sum())\n",
    "\n",
    "\n",
    "patients = df['diag'].values==1\n",
    "controls = df['diag'].values==2\n",
    "\n",
    "df_asd = df.iloc[patients]\n",
    "df_td = df.iloc[~patients]\n",
    "\n",
    "print(df_asd.shape)\n",
    "print(df_td.shape)\n",
    "\n",
    "df"
   ]
  },
  {
   "cell_type": "code",
   "execution_count": 6,
   "id": "bea2302f",
   "metadata": {},
   "outputs": [],
   "source": [
    "def flatten_cmat(cmats):\n",
    "    ns = cmats.shape[0]\n",
    "    ni = cmats.shape[-1]\n",
    "    tridx = np.triu_indices(n=ni,k=1)\n",
    "    mat_flat = np.array([cmats[i,:,:][tridx] for i in range(ns)])\n",
    "    return mat_flat"
   ]
  },
  {
   "cell_type": "code",
   "execution_count": 7,
   "id": "2fc386b9",
   "metadata": {},
   "outputs": [],
   "source": [
    "def depad(mat,idx=(6,57)):\n",
    "    'depads the cmats'\n",
    "    if mat.ndim==3:\n",
    "        mat_trimmed = mat[:,idx[0]:idx[1],idx[0]:idx[1]]\n",
    "    elif mat.ndim==4:\n",
    "        mat_trimmed = mat[:,:,idx[0]:idx[1],idx[0]:idx[1]]\n",
    "    else:\n",
    "        print(mat.shape)\n",
    "        raise Exception(\"Not implemented\")\n",
    "        \n",
    "    return mat_trimmed"
   ]
  },
  {
   "cell_type": "code",
   "execution_count": 8,
   "id": "d24fe046",
   "metadata": {},
   "outputs": [
    {
     "name": "stdout",
     "output_type": "stream",
     "text": [
      "(1502, 51, 51)\n",
      "(1502, 2, 51, 51)\n",
      "(661, 1275)\n"
     ]
    }
   ],
   "source": [
    "## Load Data\n",
    "cmats = np.load('../Data/cmats_r51_S1502.npz')['data']\n",
    "cmats_rel = np.load('../Data/rel-cmats_r51_S1502.npz')['data']\n",
    "cmats_asd_flat = flatten_cmat(cmats[patients,:,:])\n",
    "cmats_td_flat = flatten_cmat(cmats[~patients,:,:])\n",
    "\n",
    "print(cmats.shape)\n",
    "print(cmats_rel.shape)\n",
    "print(cmats_asd_flat.shape)"
   ]
  },
  {
   "cell_type": "code",
   "execution_count": 9,
   "id": "35f2016c",
   "metadata": {},
   "outputs": [
    {
     "name": "stdout",
     "output_type": "stream",
     "text": [
      "        Z_mu         | (1502, 16)\n",
      "      Z_sigma        | (1502, 16)\n",
      "         Z           | (1502, 16)\n",
      "        S_mu         | (1502, 16)\n",
      "      S_sigma        | (1502, 16)\n",
      "         S           | (1502, 16)\n",
      "    Z_sample100      | (100, 1502, 16)\n",
      "    S_sample100      | (100, 1502, 16)\n",
      "    recon_td_mu      | (841, 51, 51)\n",
      "    recon_asd_mu     | (661, 51, 51)\n",
      "   recon_twin_mu     | (661, 51, 51)\n",
      "  recon_td_samples   | (100, 841, 51, 51)\n",
      " recon_asd_samples   | (100, 661, 51, 51)\n",
      " recon_twin_samples  | (100, 661, 51, 51)\n",
      "CPU times: user 23.6 s, sys: 1.37 s, total: 25 s\n",
      "Wall time: 38.9 s\n"
     ]
    }
   ],
   "source": [
    "%%time\n",
    "\n",
    "analysis_name = 'CVAE_2022-03-25 18:28:49.469238'\n",
    "save_dir = os.path.join('../Assets/tf_weights',analysis_name)\n",
    "\n",
    "data = np.load(os.path.join(save_dir,'results.npz'))\n",
    "data = dict(data)\n",
    "data_keys = list(data.keys())\n",
    "\n",
    "data['recon_td_mu'] = depad(data['recon_td_mu'])\n",
    "data['recon_asd_mu'] = depad(data['recon_asd_mu'])\n",
    "data['recon_twin_mu'] = depad(data['recon_twin_mu'])\n",
    "data['recon_td_samples'] = depad(data['recon_td_samples'])\n",
    "data['recon_asd_samples'] = depad(data['recon_asd_samples'])\n",
    "data['recon_twin_samples'] = depad(data['recon_twin_samples'])\n",
    "\n",
    "data['Z_asd_sample10'] = data['Z_sample100'][0:10,patients,:]\n",
    "data['S_asd_sample10'] = data['S_sample100'][0:10,patients,:]\n",
    "\n",
    "for key in data_keys:\n",
    "    print(f'{key.center(20)} | {data[key].shape}')"
   ]
  },
  {
   "cell_type": "code",
   "execution_count": 10,
   "id": "6de8e88e",
   "metadata": {},
   "outputs": [],
   "source": [
    "def loso_crossval(X,Y,model):\n",
    "    n = X.shape[0]\n",
    "    Y_hat = []\n",
    "    for i in tqdm(range(n)):\n",
    "        svec = np.arange(n)\n",
    "\n",
    "        train_idx = svec!=i\n",
    "        test_idx = i\n",
    "\n",
    "        X_train = X[train_idx,:]\n",
    "        Y_train = Y[train_idx]\n",
    "\n",
    "        X_test = X[test_idx,:][np.newaxis,:]\n",
    "        Y_test = Y[test_idx]\n",
    "\n",
    "        Y_hat.append(model.fit(X_train, Y_train).predict(X_test))\n",
    "    Y_hat = np.array(Y_hat)[:,0]\n",
    "    return Y_hat"
   ]
  },
  {
   "cell_type": "code",
   "execution_count": 11,
   "id": "0379344c",
   "metadata": {},
   "outputs": [
    {
     "name": "stdout",
     "output_type": "stream",
     "text": [
      "((793, 1275), (793,))\n",
      "((693, 1275), (693,))\n",
      "((100, 1275), (100,))\n"
     ]
    }
   ],
   "source": [
    "key = 'fiq'\n",
    "vec = df_td[key].values\n",
    "#vec = (vec-np.nanmin(vec)) / (np.nanmax(vec)-np.nanmin(vec))\n",
    "e = np.isnan(vec)\n",
    "\n",
    "X = cmats_td_flat[~e,:]\n",
    "#X = data['S_mu'][controls,:][~e,:]\n",
    "Y = vec[~e]\n",
    "\n",
    "print((X.shape,Y.shape))\n",
    "\n",
    "k = 100\n",
    "X_train = X[0:-k,:]\n",
    "Y_train = Y[0:-k]\n",
    "\n",
    "X_test = X[-k::,:]\n",
    "Y_test = Y[-k::]\n",
    "\n",
    "print((X_train.shape,Y_train.shape))\n",
    "print((X_test.shape,Y_test.shape))"
   ]
  },
  {
   "cell_type": "code",
   "execution_count": 12,
   "id": "89a3c14f",
   "metadata": {},
   "outputs": [],
   "source": [
    "from sklearn.linear_model import LogisticRegression,LinearRegression,ElasticNet,Ridge,BayesianRidge\n",
    "from sklearn.neighbors import KNeighborsRegressor \n",
    "from sklearn import tree ##tree.DecisionTreeRegressor()\n",
    "from sklearn.svm import SVR \n",
    "from sklearn.ensemble import VotingRegressor\n",
    "from sklearn.neural_network import MLPRegressor"
   ]
  },
  {
   "cell_type": "code",
   "execution_count": 13,
   "id": "399dbf42",
   "metadata": {},
   "outputs": [],
   "source": [
    "models = [LinearRegression(),\n",
    "ElasticNet(l1_ratio=0.5),\n",
    "ElasticNet(l1_ratio=0.1),\n",
    "ElasticNet(l1_ratio=0.9),\n",
    "BayesianRidge(alpha_1=1e-06,alpha_2=1e-06,lambda_1=1e-06,lambda_2=1e-06),\n",
    "BayesianRidge(alpha_1=1e-03,alpha_2=1e-03,lambda_1=1e-03,lambda_2=1e-03),\n",
    "BayesianRidge(alpha_1=1e-01,alpha_2=1e-01,lambda_1=1e-01,lambda_2=1e-01),\n",
    "BayesianRidge(alpha_1=1,alpha_2=1,lambda_1=1,lambda_2=1),\n",
    "BayesianRidge(alpha_1=2,alpha_2=2,lambda_1=2,lambda_2=2),\n",
    "BayesianRidge(alpha_1=10,alpha_2=10,lambda_1=10,lambda_2=10),\n",
    "BayesianRidge(alpha_1=100,alpha_2=100,lambda_1=100,lambda_2=100),\n",
    "BayesianRidge(alpha_1=250,alpha_2=250,lambda_1=250,lambda_2=250),\n",
    "KNeighborsRegressor(),\n",
    "KNeighborsRegressor(n_neighbors=15),\n",
    "tree.DecisionTreeRegressor(),\n",
    "SVR(kernel='rbf',degree=3,gamma='scale',coef0=0.0,tol=0.001,C=1.0,epsilon=0.1),\n",
    "SVR(kernel='rbf',degree=3,gamma='scale',coef0=0.0,tol=0.001,C=100,epsilon=1)]"
   ]
  },
  {
   "cell_type": "code",
   "execution_count": 15,
   "id": "84ab396a",
   "metadata": {},
   "outputs": [],
   "source": [
    "#r2s = [r2_score(Y_test,model.fit(X_train,Y_train).predict(X_test)) for model in tqdm(models)]"
   ]
  },
  {
   "cell_type": "code",
   "execution_count": null,
   "id": "58e91fb6",
   "metadata": {},
   "outputs": [
    {
     "name": "stderr",
     "output_type": "stream",
     "text": [
      "\n",
      "  0%|          | 0/793 [00:00<?, ?it/s]\u001b[A"
     ]
    }
   ],
   "source": [
    "r2s = [r2_score(Y,loso_crossval(X,Y,model)) for model in models]"
   ]
  },
  {
   "cell_type": "code",
   "execution_count": null,
   "id": "18377a7f",
   "metadata": {},
   "outputs": [],
   "source": [
    "#r2s = [r2_score(Y_test,model.fit(X_train,Y_train).predict(X_test)) for model in tqdm(models)]"
   ]
  },
  {
   "cell_type": "code",
   "execution_count": null,
   "id": "4ba1efc7",
   "metadata": {},
   "outputs": [],
   "source": [
    "plt.figure(figsize=(5,15))\n",
    "n = np.arange(len(r2s))\n",
    "lbls = [str(model) for model in models]\n",
    "r2s_plot = r2s.copy()\n",
    "r2s_plot = np.array(r2s_plot);\n",
    "r2s_plot[r2s_plot<0]=0;\n",
    "plt.plot(r2s_plot[-1::-1],n,'*');\n",
    "plt.yticks(n,labels=lbls[-1::-1],rotation=0);"
   ]
  },
  {
   "cell_type": "code",
   "execution_count": null,
   "id": "39a7b66c",
   "metadata": {},
   "outputs": [],
   "source": [
    "# r2_score(Y,loso_crossval(X,Y,BayesianRidge())).round(3)*100"
   ]
  },
  {
   "cell_type": "code",
   "execution_count": null,
   "id": "eec7f073",
   "metadata": {},
   "outputs": [],
   "source": [
    "r2s_plot.max().round(3)*100"
   ]
  },
  {
   "cell_type": "code",
   "execution_count": null,
   "id": "eecaf6eb",
   "metadata": {},
   "outputs": [],
   "source": []
  },
  {
   "cell_type": "code",
   "execution_count": null,
   "id": "b270fe67",
   "metadata": {},
   "outputs": [],
   "source": []
  },
  {
   "cell_type": "code",
   "execution_count": null,
   "id": "994ee4c3",
   "metadata": {},
   "outputs": [],
   "source": []
  },
  {
   "cell_type": "code",
   "execution_count": null,
   "id": "4132f48e",
   "metadata": {},
   "outputs": [],
   "source": []
  },
  {
   "cell_type": "code",
   "execution_count": null,
   "id": "5258af57",
   "metadata": {},
   "outputs": [],
   "source": []
  },
  {
   "cell_type": "code",
   "execution_count": null,
   "id": "64a8e4e5",
   "metadata": {},
   "outputs": [],
   "source": []
  },
  {
   "cell_type": "code",
   "execution_count": null,
   "id": "63120b14",
   "metadata": {},
   "outputs": [],
   "source": [
    "!date"
   ]
  },
  {
   "cell_type": "code",
   "execution_count": null,
   "id": "ac3d1640",
   "metadata": {},
   "outputs": [],
   "source": []
  }
 ],
 "metadata": {
  "kernelspec": {
   "display_name": "Python 3",
   "language": "python",
   "name": "python3"
  },
  "language_info": {
   "codemirror_mode": {
    "name": "ipython",
    "version": 3
   },
   "file_extension": ".py",
   "mimetype": "text/x-python",
   "name": "python",
   "nbconvert_exporter": "python",
   "pygments_lexer": "ipython3",
   "version": "3.8.5"
  }
 },
 "nbformat": 4,
 "nbformat_minor": 5
}
