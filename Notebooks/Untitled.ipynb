{
 "cells": [
  {
   "cell_type": "code",
   "execution_count": 5,
   "id": "e89fdc1f",
   "metadata": {},
   "outputs": [],
   "source": [
    "import tensorflow as tf"
   ]
  },
  {
   "cell_type": "code",
   "execution_count": 6,
   "id": "a3a8fec2",
   "metadata": {},
   "outputs": [
    {
     "data": {
      "text/plain": [
       "'2.5.0'"
      ]
     },
     "execution_count": 6,
     "metadata": {},
     "output_type": "execute_result"
    }
   ],
   "source": [
    "tf.__version__"
   ]
  },
  {
   "cell_type": "code",
   "execution_count": 7,
   "id": "2ce16ea7",
   "metadata": {},
   "outputs": [
    {
     "data": {
      "text/plain": [
       "''"
      ]
     },
     "execution_count": 7,
     "metadata": {},
     "output_type": "execute_result"
    }
   ],
   "source": [
    "#import tensorflow as tf\n",
    "tf.test.gpu_device_name()"
   ]
  },
  {
   "cell_type": "code",
   "execution_count": 8,
   "id": "05cca025",
   "metadata": {},
   "outputs": [
    {
     "data": {
      "text/plain": [
       "<module 'tensorflow._api.v2.test' from '/data/aglinska/anaconda3/lib/python3.8/site-packages/tensorflow/_api/v2/test/__init__.py'>"
      ]
     },
     "execution_count": 8,
     "metadata": {},
     "output_type": "execute_result"
    }
   ],
   "source": [
    "tf.test"
   ]
  },
  {
   "cell_type": "code",
   "execution_count": 9,
   "id": "abfc8274",
   "metadata": {},
   "outputs": [
    {
     "data": {
      "text/plain": [
       "'/data/aglinska/anaconda3/lib/python3.8/site-packages/tensorflow/__init__.py'"
      ]
     },
     "execution_count": 9,
     "metadata": {},
     "output_type": "execute_result"
    }
   ],
   "source": [
    "tf.__file__"
   ]
  },
  {
   "cell_type": "code",
   "execution_count": 10,
   "id": "2fd7100b",
   "metadata": {},
   "outputs": [
    {
     "data": {
      "text/plain": [
       "'tensorflow'"
      ]
     },
     "execution_count": 10,
     "metadata": {},
     "output_type": "execute_result"
    }
   ],
   "source": [
    "tf.__name__"
   ]
  },
  {
   "cell_type": "code",
   "execution_count": 11,
   "id": "414bd439",
   "metadata": {},
   "outputs": [
    {
     "data": {
      "text/plain": [
       "'\\nTop-level module of TensorFlow. By convention, we refer to this module as\\n`tf` instead of `tensorflow`, following the common practice of importing\\nTensorFlow via the command `import tensorflow as tf`.\\n\\nThe primary function of this module is to import all of the public TensorFlow\\ninterfaces into a single place. The interfaces themselves are located in\\nsub-modules, as described below.\\n\\nNote that the file `__init__.py` in the TensorFlow source code tree is actually\\nonly a placeholder to enable test cases to run. The TensorFlow build replaces\\nthis file with a file generated from [`api_template.__init__.py`](https://www.github.com/tensorflow/tensorflow/blob/master/tensorflow/api_template.__init__.py)\\n'"
      ]
     },
     "execution_count": 11,
     "metadata": {},
     "output_type": "execute_result"
    }
   ],
   "source": [
    "tf.__doc__"
   ]
  },
  {
   "cell_type": "code",
   "execution_count": 12,
   "id": "9cc7e9a9",
   "metadata": {},
   "outputs": [
    {
     "data": {
      "text/plain": [
       "['/data/aglinska/anaconda3/lib/python3.8/site-packages/tensorflow',\n",
       " '/data/aglinska/anaconda3/lib/python3.8/site-packages/tensorflow_estimator/python/estimator/api/_v2',\n",
       " '/data/aglinska/anaconda3/lib/python3.8/site-packages/tensorboard/summary/_tf',\n",
       " '/data/aglinska/anaconda3/lib/python3.8/site-packages/tensorflow',\n",
       " '/data/aglinska/anaconda3/lib/python3.8/site-packages/tensorflow/_api/v2']"
      ]
     },
     "execution_count": 12,
     "metadata": {},
     "output_type": "execute_result"
    }
   ],
   "source": [
    "tf.__path__"
   ]
  },
  {
   "cell_type": "code",
   "execution_count": 13,
   "id": "d123d178",
   "metadata": {},
   "outputs": [
    {
     "name": "stdout",
     "output_type": "stream",
     "text": [
      "GPU 0: Tesla V100-SXM2-16GB (UUID: GPU-cb3f3aa2-136d-2e51-e785-dd4c106687e2)\n",
      "GPU 1: Tesla V100-SXM2-16GB (UUID: GPU-0552a616-2208-b370-241c-1ef9b3253d82)\n",
      "GPU 2: Tesla V100-SXM2-16GB (UUID: GPU-fcc90279-2d34-edfe-e8be-c89a957a893a)\n",
      "GPU 3: Tesla V100-SXM2-16GB (UUID: GPU-82993af5-6871-f3be-f784-ec624b8a8bac)\n"
     ]
    }
   ],
   "source": [
    "!nvidia-smi -L"
   ]
  },
  {
   "cell_type": "code",
   "execution_count": null,
   "id": "76c7f9bc",
   "metadata": {},
   "outputs": [],
   "source": []
  },
  {
   "cell_type": "code",
   "execution_count": null,
   "id": "7722e380",
   "metadata": {},
   "outputs": [],
   "source": []
  },
  {
   "cell_type": "code",
   "execution_count": null,
   "id": "ce97127d",
   "metadata": {},
   "outputs": [],
   "source": []
  }
 ],
 "metadata": {
  "kernelspec": {
   "display_name": "Python 3",
   "language": "python",
   "name": "python3"
  },
  "language_info": {
   "codemirror_mode": {
    "name": "ipython",
    "version": 3
   },
   "file_extension": ".py",
   "mimetype": "text/x-python",
   "name": "python",
   "nbconvert_exporter": "python",
   "pygments_lexer": "ipython3",
   "version": "3.8.5"
  }
 },
 "nbformat": 4,
 "nbformat_minor": 5
}
