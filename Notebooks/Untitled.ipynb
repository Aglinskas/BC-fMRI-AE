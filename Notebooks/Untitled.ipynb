{
 "cells": [
  {
   "cell_type": "code",
   "execution_count": 1,
   "id": "dcaadcd4",
   "metadata": {},
   "outputs": [],
   "source": [
    "import os \n",
    "import nibabel as nib"
   ]
  },
  {
   "cell_type": "code",
   "execution_count": 5,
   "id": "169966d2",
   "metadata": {},
   "outputs": [],
   "source": [
    "#FIX THE NIFTI HEADERS - AGAIN!\n",
    "func_out = '~/data/sfari_bids/ds-sfari-60orfix/sub-001/func/sub-001_task-rest_run-2_bold.nii.gz'\n",
    "func_out = os.path.expanduser(func_out)\n",
    "im = nib.load(func_out)\n",
    "header = im.header.copy()\n",
    "header.set_xyzt_units(xyz='mm', t='sec')\n",
    "nib.nifti1.Nifti1Image(im.get_fdata(), None, header=header).to_filename(func_out)\n",
    "assert nib.load(func_out).header.get_xyzt_units()==('mm', 'sec'),'timing missing from header'"
   ]
  },
  {
   "cell_type": "code",
   "execution_count": null,
   "id": "d7319f84",
   "metadata": {},
   "outputs": [],
   "source": []
  }
 ],
 "metadata": {
  "kernelspec": {
   "display_name": "Python 3",
   "language": "python",
   "name": "python3"
  },
  "language_info": {
   "codemirror_mode": {
    "name": "ipython",
    "version": 3
   },
   "file_extension": ".py",
   "mimetype": "text/x-python",
   "name": "python",
   "nbconvert_exporter": "python",
   "pygments_lexer": "ipython3",
   "version": "3.8.5"
  }
 },
 "nbformat": 4,
 "nbformat_minor": 5
}
