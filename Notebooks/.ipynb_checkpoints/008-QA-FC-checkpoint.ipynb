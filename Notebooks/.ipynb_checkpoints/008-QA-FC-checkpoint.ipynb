{
 "cells": [
  {
   "cell_type": "code",
   "execution_count": 1,
   "id": "84441e47",
   "metadata": {},
   "outputs": [
    {
     "data": {
      "text/plain": [
       "'/mmfs1/data/aglinska/BC-fMRI-AE/Notebooks'"
      ]
     },
     "execution_count": 1,
     "metadata": {},
     "output_type": "execute_result"
    }
   ],
   "source": [
    "pwd"
   ]
  },
  {
   "cell_type": "code",
   "execution_count": 2,
   "id": "46a50fce",
   "metadata": {},
   "outputs": [],
   "source": [
    "import numpy as np\n",
    "import pandas as pd\n",
    "import os\n",
    "import seaborn as sns\n",
    "from matplotlib import pyplot as plt\n",
    "\n",
    "from tqdm import tqdm"
   ]
  },
  {
   "cell_type": "code",
   "execution_count": 3,
   "id": "7e25c3c4",
   "metadata": {},
   "outputs": [],
   "source": [
    "def load_dir(abide_dir):\n",
    "    abide_dir = os.path.expanduser(abide_dir)\n",
    "    files = os.listdir(abide_dir)\n",
    "    files.sort()\n",
    "    cmats = np.array([np.load(os.path.join(abide_dir,file)) for file in tqdm(files)])\n",
    "    return cmats,files"
   ]
  },
  {
   "cell_type": "code",
   "execution_count": 4,
   "id": "b376d05d",
   "metadata": {},
   "outputs": [
    {
     "name": "stderr",
     "output_type": "stream",
     "text": [
      "100%|██████████| 1068/1068 [00:02<00:00, 434.98it/s]\n"
     ]
    },
    {
     "data": {
      "text/plain": [
       "(1068, 51, 51)"
      ]
     },
     "execution_count": 4,
     "metadata": {},
     "output_type": "execute_result"
    }
   ],
   "source": [
    "cmats1,files1 = load_dir('~/BC-fMRI-AE/Assets/ABIDE-I-cmats-frc/')\n",
    "cmats1.shape"
   ]
  },
  {
   "cell_type": "code",
   "execution_count": 5,
   "id": "a0d384f7",
   "metadata": {},
   "outputs": [
    {
     "name": "stderr",
     "output_type": "stream",
     "text": [
      "100%|██████████| 960/960 [00:02<00:00, 436.94it/s]\n"
     ]
    },
    {
     "data": {
      "text/plain": [
       "(960, 51, 51)"
      ]
     },
     "execution_count": 5,
     "metadata": {},
     "output_type": "execute_result"
    }
   ],
   "source": [
    "cmats2,files2 = load_dir('~/BC-fMRI-AE/Assets/ABIDE-II-cmats-frc/')\n",
    "cmats2.shape"
   ]
  },
  {
   "cell_type": "code",
   "execution_count": 6,
   "id": "fe2e04b8",
   "metadata": {},
   "outputs": [
    {
     "name": "stderr",
     "output_type": "stream",
     "text": [
      "100%|██████████| 1063/1063 [00:02<00:00, 414.37it/s]\n"
     ]
    },
    {
     "data": {
      "text/plain": [
       "(1063, 2, 51, 51)"
      ]
     },
     "execution_count": 6,
     "metadata": {},
     "output_type": "execute_result"
    }
   ],
   "source": [
    "rel_cmat1,rel_files1 = load_dir('~/BC-fMRI-AE/Assets/ABIDE-I-rel-cmats-frc/')\n",
    "rel_cmat1.shape"
   ]
  },
  {
   "cell_type": "code",
   "execution_count": 7,
   "id": "6596837b",
   "metadata": {},
   "outputs": [
    {
     "name": "stderr",
     "output_type": "stream",
     "text": [
      "100%|██████████| 960/960 [00:02<00:00, 412.50it/s]\n"
     ]
    },
    {
     "data": {
      "text/plain": [
       "(960, 2, 51, 51)"
      ]
     },
     "execution_count": 7,
     "metadata": {},
     "output_type": "execute_result"
    }
   ],
   "source": [
    "rel_cmat2,rel_files2 = load_dir('~/BC-fMRI-AE/Assets/ABIDE-II-rel-cmats-frc/')\n",
    "rel_cmat2.shape"
   ]
  },
  {
   "cell_type": "code",
   "execution_count": 8,
   "id": "fc70905f",
   "metadata": {},
   "outputs": [
    {
     "ename": "NameError",
     "evalue": "name 'scan_lenghts1' is not defined",
     "output_type": "error",
     "traceback": [
      "\u001b[0;31m---------------------------------------------------------------------------\u001b[0m",
      "\u001b[0;31mNameError\u001b[0m                                 Traceback (most recent call last)",
      "\u001b[0;32m<ipython-input-8-99351985b7ea>\u001b[0m in \u001b[0;36m<module>\u001b[0;34m\u001b[0m\n\u001b[0;32m----> 1\u001b[0;31m \u001b[0mscan_lenghts1\u001b[0m\u001b[0;34m[\u001b[0m\u001b[0;34m'sub'\u001b[0m\u001b[0;34m]\u001b[0m\u001b[0;34m.\u001b[0m\u001b[0misin\u001b[0m\u001b[0;34m(\u001b[0m\u001b[0;34m[\u001b[0m\u001b[0mval\u001b[0m\u001b[0;34m[\u001b[0m\u001b[0;36m0\u001b[0m\u001b[0;34m:\u001b[0m\u001b[0;36m11\u001b[0m\u001b[0;34m]\u001b[0m \u001b[0;32mfor\u001b[0m \u001b[0mval\u001b[0m \u001b[0;32min\u001b[0m \u001b[0mrel_files1\u001b[0m\u001b[0;34m]\u001b[0m\u001b[0;34m)\u001b[0m\u001b[0;34m.\u001b[0m\u001b[0mvalues\u001b[0m\u001b[0;34m.\u001b[0m\u001b[0msum\u001b[0m\u001b[0;34m(\u001b[0m\u001b[0;34m)\u001b[0m\u001b[0;34m\u001b[0m\u001b[0;34m\u001b[0m\u001b[0m\n\u001b[0m",
      "\u001b[0;31mNameError\u001b[0m: name 'scan_lenghts1' is not defined"
     ]
    }
   ],
   "source": [
    "scan_lenghts1['sub'].isin([val[0:11] for val in rel_files1]).values.sum()"
   ]
  },
  {
   "cell_type": "code",
   "execution_count": null,
   "id": "5d295424",
   "metadata": {},
   "outputs": [],
   "source": [
    "scan_lenghts1 = pd.read_csv('../Data/Scan_lenghts_ABIDEI.csv')\n",
    "scan_lenghts2 = pd.read_csv('../Data/Scan_lenghts_ABIDEII.csv')\n",
    "\n",
    "scan_lenghts1 = scan_lenghts1.iloc[scan_lenghts1['sub'].isin([val[0:11] for val in rel_files1]).values]\n",
    "scan_lenghts2 = scan_lenghts2.iloc[scan_lenghts2['sub'].isin([val[0:11] for val in rel_files2]).values]\n",
    "\n",
    "print(scan_lenghts1.shape)\n",
    "print(scan_lenghts2.shape)"
   ]
  },
  {
   "cell_type": "code",
   "execution_count": null,
   "id": "e7ee4608",
   "metadata": {},
   "outputs": [],
   "source": [
    "def flatten_cmat(cmats):\n",
    "    ns = cmats.shape[0]\n",
    "    ni = cmats.shape[-1]\n",
    "    tridx = np.triu_indices(n=ni,k=1)\n",
    "    mat_flat = np.array([cmats[i,:,:][tridx] for i in range(ns)])\n",
    "    return mat_flat"
   ]
  },
  {
   "cell_type": "code",
   "execution_count": null,
   "id": "6aa1e8a3",
   "metadata": {},
   "outputs": [],
   "source": [
    "flat_cmats1 = flatten_cmat(cmats1)\n",
    "flat_cmats2 = flatten_cmat(cmats2)"
   ]
  },
  {
   "cell_type": "code",
   "execution_count": null,
   "id": "1fc9d3a0",
   "metadata": {},
   "outputs": [],
   "source": [
    "plt.figure(figsize=(15,5))\n",
    "plt.subplot(1,2,1)\n",
    "plt.imshow(cmats1.mean(axis=0))\n",
    "plt.colorbar()\n",
    "\n",
    "plt.subplot(1,2,2)\n",
    "plt.imshow(cmats2.mean(axis=0))\n",
    "plt.colorbar()"
   ]
  },
  {
   "cell_type": "code",
   "execution_count": null,
   "id": "2f166838",
   "metadata": {},
   "outputs": [],
   "source": [
    "np.corrcoef(flat_cmats1.mean(axis=0),flat_cmats2.mean(axis=0))[0,1]"
   ]
  },
  {
   "cell_type": "code",
   "execution_count": null,
   "id": "68d059a8",
   "metadata": {},
   "outputs": [],
   "source": [
    "cross_c = np.corrcoef(np.vstack((flat_cmats1,flat_cmats2)))\n",
    "plt.figure(figsize=(7,7))\n",
    "plt.imshow(cross_c)"
   ]
  },
  {
   "cell_type": "code",
   "execution_count": null,
   "id": "08327fa9",
   "metadata": {},
   "outputs": [],
   "source": [
    "s1 = cmats1.shape[0]\n",
    "s2 = cmats2.shape[0]\n",
    "(s1,s2)"
   ]
  },
  {
   "cell_type": "code",
   "execution_count": null,
   "id": "0b06a7ed",
   "metadata": {},
   "outputs": [],
   "source": [
    "c1 = cross_c[0:s1,:][:,0:s1]\n",
    "c2 = cross_c[s1:s1+s2,:][:,s1:s1+s2]\n",
    "c3 = cross_c[0:s1,:][:,s1:s1+s2]"
   ]
  },
  {
   "cell_type": "code",
   "execution_count": null,
   "id": "88f5e913",
   "metadata": {},
   "outputs": [],
   "source": [
    "def get_triu(c1):\n",
    "    return c1[np.triu_indices(n=c1.shape[0],k=1)]"
   ]
  },
  {
   "cell_type": "code",
   "execution_count": null,
   "id": "6b47d018",
   "metadata": {},
   "outputs": [],
   "source": [
    "plt.figure(figsize=(15,5))\n",
    "sns.distplot(get_triu(c1))\n",
    "sns.distplot(get_triu(c2))\n",
    "sns.distplot(c3.flatten())\n",
    "plt.legend(['ABIDE I - ABIDE I','ABIDE II - ABIDE II','ABIDE I - ABIDE II'])"
   ]
  },
  {
   "cell_type": "code",
   "execution_count": null,
   "id": "a6c52482",
   "metadata": {},
   "outputs": [],
   "source": [
    "print(f'ABIDE I within: M={get_triu(c1).mean():.2f}, SD={get_triu(c1).std():.2f} {get_triu(c1).min():.2f}-{get_triu(c1).max():.2f}')\n",
    "print(f'ABIDE II within: M={get_triu(c2).mean():.2f}, SD={get_triu(c2).std():.2f} {get_triu(c2).min():.2f}-{get_triu(c2).max():.2f}')\n",
    "print(f'Across: M={c3.flatten().mean():.2f}, SD={c3.flatten().std():.2f} {c3.flatten().min():.2f}-{c3.flatten().max():.2f}')"
   ]
  },
  {
   "cell_type": "code",
   "execution_count": null,
   "id": "6519c4c0",
   "metadata": {},
   "outputs": [],
   "source": []
  },
  {
   "cell_type": "markdown",
   "id": "c53fb4dd",
   "metadata": {},
   "source": [
    "### First-Second Half Correlation"
   ]
  },
  {
   "cell_type": "code",
   "execution_count": null,
   "id": "6eecfb27",
   "metadata": {},
   "outputs": [],
   "source": [
    "rel_cmat1_1 = flatten_cmat(rel_cmat1[:,0,:,:])\n",
    "rel_cmat1_2 = flatten_cmat(rel_cmat1[:,1,:,:])\n",
    "\n",
    "rel_cmat2_1 = flatten_cmat(rel_cmat2[:,0,:,:])\n",
    "rel_cmat2_2 = flatten_cmat(rel_cmat2[:,1,:,:])"
   ]
  },
  {
   "cell_type": "code",
   "execution_count": null,
   "id": "823e428f",
   "metadata": {},
   "outputs": [],
   "source": [
    "rel_vals1 = np.array([np.corrcoef(rel_cmat1_1[n,:],rel_cmat1_2[n,:])[0,1] for n in range(rel_cmat1.shape[0])])\n",
    "rel_vals2 = np.array([np.corrcoef(rel_cmat2_1[n,:],rel_cmat2_2[n,:])[0,1] for n in range(rel_cmat2.shape[0])])"
   ]
  },
  {
   "cell_type": "code",
   "execution_count": null,
   "id": "92548f03",
   "metadata": {},
   "outputs": [],
   "source": [
    "(rel_vals1.mean().round(2),rel_vals2.mean().round(2))"
   ]
  },
  {
   "cell_type": "code",
   "execution_count": null,
   "id": "d7c1c4c8",
   "metadata": {},
   "outputs": [],
   "source": [
    "plt.hist(rel_vals1,alpha=.5)\n",
    "plt.hist(rel_vals2,alpha=.5)\n",
    "plt.legend(['split-corr:ABIDE1','split-corr:ABIDE2'])"
   ]
  },
  {
   "cell_type": "code",
   "execution_count": null,
   "id": "0017682b",
   "metadata": {},
   "outputs": [],
   "source": []
  },
  {
   "cell_type": "code",
   "execution_count": null,
   "id": "53d49bab",
   "metadata": {},
   "outputs": [],
   "source": [
    "def get_ranks(rel_cmat1_1,rel_cmat1_2):\n",
    "    big = np.corrcoef(np.vstack((rel_cmat1_1,rel_cmat1_2)))\n",
    "    n = int(big.shape[0]/2)\n",
    "    fs = big[n::,:][:,0:n]\n",
    "    ranks = np.array([[np.nonzero(np.argsort(fs[s,:])[-1::-1]==s)[0][0]+1] for s in range(n)])[:,0]\n",
    "    return ranks"
   ]
  },
  {
   "cell_type": "code",
   "execution_count": null,
   "id": "70f6965c",
   "metadata": {},
   "outputs": [],
   "source": [
    "ranks1 = get_ranks(rel_cmat1_1,rel_cmat1_2)\n",
    "ranks2 = get_ranks(rel_cmat2_1,rel_cmat2_2)"
   ]
  },
  {
   "cell_type": "code",
   "execution_count": null,
   "id": "1200b83a",
   "metadata": {},
   "outputs": [],
   "source": [
    "((ranks1==1).mean().round(2),(ranks2==1).mean().round(2))"
   ]
  },
  {
   "cell_type": "code",
   "execution_count": null,
   "id": "b3ce3caa",
   "metadata": {},
   "outputs": [],
   "source": [
    "# Correlation of FC rel and scan_duration \n",
    "np.corrcoef(rel_vals1,scan_lenghts1['scan_length'].values)[0,1].round(2)"
   ]
  },
  {
   "cell_type": "code",
   "execution_count": null,
   "id": "291ebc8c",
   "metadata": {},
   "outputs": [],
   "source": []
  },
  {
   "cell_type": "code",
   "execution_count": null,
   "id": "2c8df802",
   "metadata": {},
   "outputs": [],
   "source": []
  },
  {
   "cell_type": "code",
   "execution_count": null,
   "id": "03776407",
   "metadata": {},
   "outputs": [],
   "source": []
  },
  {
   "cell_type": "code",
   "execution_count": null,
   "id": "46723538",
   "metadata": {},
   "outputs": [],
   "source": []
  },
  {
   "cell_type": "code",
   "execution_count": null,
   "id": "eb5eee60",
   "metadata": {},
   "outputs": [],
   "source": []
  },
  {
   "cell_type": "code",
   "execution_count": null,
   "id": "817e6c5c",
   "metadata": {},
   "outputs": [],
   "source": []
  },
  {
   "cell_type": "code",
   "execution_count": null,
   "id": "05110627",
   "metadata": {},
   "outputs": [],
   "source": []
  },
  {
   "cell_type": "code",
   "execution_count": null,
   "id": "caf91d69",
   "metadata": {},
   "outputs": [],
   "source": []
  }
 ],
 "metadata": {
  "kernelspec": {
   "display_name": "Python 3",
   "language": "python",
   "name": "python3"
  },
  "language_info": {
   "codemirror_mode": {
    "name": "ipython",
    "version": 3
   },
   "file_extension": ".py",
   "mimetype": "text/x-python",
   "name": "python",
   "nbconvert_exporter": "python",
   "pygments_lexer": "ipython3",
   "version": "3.8.5"
  }
 },
 "nbformat": 4,
 "nbformat_minor": 5
}
