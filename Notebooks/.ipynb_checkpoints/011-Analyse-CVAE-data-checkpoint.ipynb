{
 "cells": [
  {
   "cell_type": "code",
   "execution_count": null,
   "id": "0c6ed86e",
   "metadata": {},
   "outputs": [],
   "source": [
    "!date"
   ]
  },
  {
   "cell_type": "code",
   "execution_count": null,
   "id": "2b3e5f96",
   "metadata": {},
   "outputs": [],
   "source": [
    "pwd"
   ]
  },
  {
   "cell_type": "code",
   "execution_count": null,
   "id": "cf9bee5a",
   "metadata": {},
   "outputs": [],
   "source": [
    "%%time\n",
    "\n",
    "import numpy as np\n",
    "import pandas as pd\n",
    "import os\n",
    "from matplotlib import pyplot as plt\n",
    "from tqdm import tqdm\n",
    "from helper_funcs import *\n",
    "\n",
    "import umap"
   ]
  },
  {
   "cell_type": "code",
   "execution_count": null,
   "id": "e6060683",
   "metadata": {},
   "outputs": [],
   "source": [
    "analysis_name = 'CVAE_2022-03-25 18:28:49.469238'\n",
    "save_dir = os.path.join('../Assets/tf_weights',analysis_name)"
   ]
  },
  {
   "cell_type": "code",
   "execution_count": null,
   "id": "5f45cb01",
   "metadata": {},
   "outputs": [],
   "source": []
  },
  {
   "cell_type": "code",
   "execution_count": null,
   "id": "08c9341e",
   "metadata": {},
   "outputs": [],
   "source": [
    "def dummy_ordinal(invec):\n",
    "    unique_values = np.unique(invec)\n",
    "    new_values = np.arange(1,len(unique_values)+1)\n",
    "    new_arr = [new_values[val==unique_values][0] for val in invec]\n",
    "    return new_arr"
   ]
  },
  {
   "cell_type": "code",
   "execution_count": null,
   "id": "93dc11ef",
   "metadata": {},
   "outputs": [],
   "source": [
    "def flatten_cmat(cmats):\n",
    "    ns = cmats.shape[0]\n",
    "    ni = cmats.shape[-1]\n",
    "    tridx = np.triu_indices(n=ni,k=1)\n",
    "    mat_flat = np.array([cmats[i,:,:][tridx] for i in range(ns)])\n",
    "    return mat_flat"
   ]
  },
  {
   "cell_type": "code",
   "execution_count": null,
   "id": "6c73e6ae",
   "metadata": {},
   "outputs": [],
   "source": []
  },
  {
   "cell_type": "code",
   "execution_count": null,
   "id": "89b735ec",
   "metadata": {},
   "outputs": [],
   "source": [
    "df = pd.read_csv('../Data/comb_df.csv')\n",
    "df['dataset_id'] = dummy_ordinal(df['dataset'])\n",
    "df['site_id'] = dummy_ordinal(df['site'])\n",
    "\n",
    "patients = df['diag'].values==1\n",
    "df_asd = df.iloc[patients]\n",
    "df_td = df.iloc[~patients]\n",
    "\n",
    "print(df_asd.shape)\n",
    "print(df_td.shape)\n",
    "\n",
    "df"
   ]
  },
  {
   "cell_type": "code",
   "execution_count": null,
   "id": "4da0f361",
   "metadata": {},
   "outputs": [],
   "source": [
    "## Load Data\n",
    "cmats = np.load('../Data/cmats_r51_S1502.npz')['data']\n",
    "cmats_rel = np.load('../Data/rel-cmats_r51_S1502.npz')['data']\n",
    "cmats_asd_flat = flatten_cmat(cmats[patients,:,:])\n",
    "\n",
    "print(cmats.shape)\n",
    "print(cmats_rel.shape)\n",
    "print(cmats_asd_flat.shape)"
   ]
  },
  {
   "cell_type": "code",
   "execution_count": null,
   "id": "2282b820",
   "metadata": {},
   "outputs": [],
   "source": [
    "def depad(mat,idx=(6,57)):\n",
    "    'depads the cmats'\n",
    "    if mat.ndim==3:\n",
    "        mat_trimmed = mat[:,idx[0]:idx[1],idx[0]:idx[1]]\n",
    "    elif mat.ndim==4:\n",
    "        mat_trimmed = mat[:,:,idx[0]:idx[1],idx[0]:idx[1]]\n",
    "    else:\n",
    "        print(mat.shape)\n",
    "        raise Exception(\"Not implemented\")\n",
    "        \n",
    "    return mat_trimmed"
   ]
  },
  {
   "cell_type": "code",
   "execution_count": null,
   "id": "d1e8c219",
   "metadata": {},
   "outputs": [],
   "source": [
    "%%time\n",
    "\n",
    "data = np.load(os.path.join(save_dir,'results.npz'))\n",
    "data = dict(data)\n",
    "data_keys = list(data.keys())\n",
    "\n",
    "# Z_mu = data['Z_mu']\n",
    "# Z_sigma = data['Z_sigma']\n",
    "# Z = data['Z']\n",
    "# S_mu = data['S_mu']\n",
    "# S_sigma = data['S_sigma']\n",
    "# S = data['S']\n",
    "# Z_sample100 = data['Z_sample100']\n",
    "# S_sample100 = data['S_sample100']\n",
    "\n",
    "data['recon_td_mu'] = depad(data['recon_td_mu'])\n",
    "data['recon_asd_mu'] = depad(data['recon_asd_mu'])\n",
    "data['recon_twin_mu'] = depad(data['recon_twin_mu'])\n",
    "data['recon_td_samples'] = depad(data['recon_td_samples'])\n",
    "data['recon_asd_samples'] = depad(data['recon_asd_samples'])\n",
    "data['recon_twin_samples'] = depad(data['recon_twin_samples'])\n",
    "\n",
    "data['Z_asd_sample10'] = data['Z_sample100'][0:10,patients,:]\n",
    "data['S_asd_sample10'] = data['S_sample100'][0:10,patients,:]\n",
    "\n",
    "for key in data_keys:\n",
    "    print(f'{key.center(20)} | {data[key].shape}')"
   ]
  },
  {
   "cell_type": "code",
   "execution_count": null,
   "id": "723b7c86",
   "metadata": {},
   "outputs": [],
   "source": [
    "def plot_nice_bar(key,rsa,ax=None,figsize=None,dpi=None,fontsize=None,fontsize_star=None,fontweight=None,line_width=None,marker_size=None,title=None,report_t=False,do_pairwise_stars=False,do_one_sample_stars=True):\n",
    "    \n",
    "    import seaborn as sns\n",
    "    from scipy.stats import ttest_1samp\n",
    "    from scipy.stats import ttest_ind as ttest\n",
    "    \n",
    "    pallete = sns.color_palette()\n",
    "    pallete_new = sns.color_palette()\n",
    "    \n",
    "    if not figsize:\n",
    "        figsize = (5,2)\n",
    "    if not dpi:\n",
    "        dpi = 300\n",
    "        \n",
    "    if not ax:\n",
    "        fig, ax = plt.subplots(1,1,figsize=figsize,dpi=dpi)\n",
    "\n",
    "    pallete_new[1]=pallete[0]\n",
    "    pallete_new[0]=pallete[1]\n",
    "    pallete_new[0] = tuple(np.array((.5,.5,.5)))\n",
    "\n",
    "    data=rsa[key]\n",
    "    n = data.shape[0]\n",
    "    c = data.shape[1]\n",
    "    x = np.arange(c)\n",
    "    \n",
    "    if not fontsize:\n",
    "        fontsize = 16\n",
    "        \n",
    "    if not fontsize_star:\n",
    "        fontsize_star = 25\n",
    "    if not fontweight:        \n",
    "        fontweight = 'bold'\n",
    "    if not line_width:    \n",
    "        line_width = 2.5\n",
    "    if not marker_size:            \n",
    "        marker_size = .1\n",
    "    \n",
    "\n",
    "\n",
    "    for i in range(c):\n",
    "        plot_data = np.zeros(data.shape)\n",
    "        plot_data[:,i] = data[:,i]\n",
    "\n",
    "        xs = np.repeat(i,n)+(np.random.rand(n)-.5)*.25\n",
    "        sc = plt.scatter(xs,data[:,i],c='k',s = marker_size)\n",
    "        b = sns.barplot(data=plot_data,errcolor='r',linewidth=line_width,errwidth=line_width,facecolor=np.hstack((np.array(pallete_new[i]),.3)),edgecolor=np.hstack((np.array(pallete_new[i]),1)))\n",
    "\n",
    "    locs, labels = plt.yticks()  \n",
    "    new_y = locs\n",
    "    new_y = np.linspace(locs[0],locs[-1],6)\n",
    "    plt.yticks(new_y,labels=[f'{yy:.2f}' for yy in new_y],fontsize=fontsize,fontweight=fontweight)\n",
    "    plt.ylabel('model fit (r)',fontsize=fontsize,fontweight=fontweight)\n",
    "\n",
    "    ax.spines['top'].set_visible(False)\n",
    "    ax.spines['right'].set_visible(False)\n",
    "    ax.spines['bottom'].set_visible(False)\n",
    "\n",
    "    for axis in ['top','bottom','left','right']:\n",
    "            ax.spines[axis].set_linewidth(line_width)\n",
    "\n",
    "    xlbls = ['CMAT','BG','SL']\n",
    "    plt.xticks(np.arange(3),labels=xlbls,fontsize=fontsize,fontweight=fontweight)\n",
    "    \n",
    "    if do_one_sample_stars:\n",
    "        one_sample = np.array([ttest_1samp(data[:,i],0) for i in range(3)])\n",
    "        one_sample_thresh = np.array((1,.05,.001,.0001))\n",
    "        one_sample_stars = np.array(('n.s.','*','**','***'))\n",
    "        xlbls = ['CMAT','BG','SL']\n",
    "        for i in range(1,c):\n",
    "            these_stars = one_sample_stars[max(np.nonzero(one_sample[i,1]<one_sample_thresh)[0])]\n",
    "            xlbls[i] = f'{xlbls[i]}\\n({these_stars})'\n",
    "        plt.xticks(np.arange(3),labels=xlbls,fontsize=fontsize,fontweight=fontweight,horizontalalignment='center',multialignment='center')\n",
    "\n",
    "    pairwise_t = np.zeros((3,3))\n",
    "    pairwise_p = np.zeros((3,3))\n",
    "\n",
    "    pairwise_sample_thresh = np.array((1,.05,.001,.0001))\n",
    "    pairwise_sample_stars = np.array(('n.s.','*','**','***'))\n",
    "\n",
    "    if report_t:\n",
    "        for i in range(c):\n",
    "            for j in range(c):\n",
    "                t,p = ttest(data[:,i],data[:,j])\n",
    "                mnames = ['CMAT','BG','SL']\n",
    "\n",
    "                if p > .001:\n",
    "                    print(f'{key} {mnames[i]} >  {mnames[j]} | t({data.shape[0]-1}) = {t:.2f} p = {p:.2f}')\n",
    "                else:\n",
    "                    print(f'{key} {mnames[i]} >  {mnames[j]} | t({data.shape[0]-1}) = {t:.2f} p $<$ .001')\n",
    "                pairwise_t[i,j] = t\n",
    "                pairwise_p[i,j] = p\n",
    "\n",
    "    comps = [[1,2]]\n",
    "    if do_pairwise_stars:\n",
    "        for comp_idx in range(len(comps)):\n",
    "            this_comp = comps[comp_idx]\n",
    "            sig_idx = max(np.nonzero(pairwise_p[this_comp[0],this_comp[1]]<pairwise_sample_thresh)[0])\n",
    "            max_y = new_y[-1] + comp_idx*.05\n",
    "            xs = np.array(this_comp)\n",
    "            stars = pairwise_sample_stars[sig_idx]\n",
    "            plt.plot(xs,[max_y,max_y],'k',linewidth=line_width)\n",
    "            plt.text(xs.mean(),max_y,stars,fontsize=fontsize_star,horizontalalignment='center',fontweight=fontweight)\n",
    "        \n",
    "    ylim = plt.ylim()\n",
    "    plt.ylim(np.array(ylim)*(1,1.1))\n",
    "    \n",
    "    if not title:\n",
    "        plt.title(key,fontsize=fontsize*1.5,pad=2,fontweight=fontweight)    \n",
    "    else:\n",
    "        plt.title(title,fontsize=fontsize*1.5,pad=2,fontweight=fontweight)"
   ]
  },
  {
   "cell_type": "code",
   "execution_count": null,
   "id": "c1a98e23",
   "metadata": {},
   "outputs": [],
   "source": [
    "def key_rsa(key,data_scale='ratio',return_models=True):\n",
    "    \n",
    "    z = data['Z_asd_sample10']\n",
    "    s = data['S_asd_sample10']\n",
    "    c = cmats_asd_flat\n",
    "\n",
    "    vec = df_asd[key].values\n",
    "    e = np.isnan(vec)\n",
    "\n",
    "    model_rdm = make_RDM(vec[~e],data_scale=data_scale, metric='euclidean')\n",
    "    bg_rdm = np.array([make_RDM(z[i,~e,:],data_scale='ratio', metric='euclidean') for i in range(z.shape[0])])\n",
    "    sl_rdm = np.array([make_RDM(s[i,~e,:],data_scale='ratio', metric='euclidean') for i in range(z.shape[0])])\n",
    "    c_rdm = np.array([make_RDM(c[~e,:],data_scale='ratio', metric='correlation') for i in range(z.shape[0])])\n",
    "    \n",
    "    models = dict\n",
    "    models.update({'model_rdm' : model_rdm})\n",
    "    models.update({'bg_rdm' : bg_rdm})\n",
    "    models.update({'sl_rdm' : sl_rdm})\n",
    "    models.update({'c_rdm' : c_rdm})\n",
    "\n",
    "    bg_fit = [fit_rsa(bg_rdm[i,:,:],model_rdm) for i in range(10)]\n",
    "    sl_fit = [fit_rsa(sl_rdm[i,:,:],model_rdm) for i in range(10)]\n",
    "    c_fit = [fit_rsa(c_rdm[0,:,:],model_rdm) for i in range(10)]\n",
    "\n",
    "    res = np.array((c_fit,bg_fit,sl_fit)).transpose()\n",
    "\n",
    "    return res"
   ]
  },
  {
   "cell_type": "code",
   "execution_count": null,
   "id": "1c6536c0",
   "metadata": {},
   "outputs": [],
   "source": [
    "rsa_res = dict()\n",
    "keys = ['dataset_id', 'site_id','age', 'sex', 'fiq','DSMIV','ados_total', 'ados_social', 'ados_comm', 'ados_rrb']\n",
    "data_scale = ['ordinal', 'ordinal','ratio', 'ordinal', 'ratio','ordinal','ratio', 'ratio', 'ratio', 'ratio']\n",
    "\n",
    "for i in tqdm(range(len(keys))):\n",
    "    rsa_res.update({keys[i] : key_rsa(keys[i],data_scale=data_scale[i])})"
   ]
  },
  {
   "cell_type": "code",
   "execution_count": null,
   "id": "b29d2cf2",
   "metadata": {},
   "outputs": [],
   "source": [
    "ncols = 3\n",
    "nrows = int(np.ceil(len(keys)/3))\n",
    "plt.figure(figsize=np.array((ncols,nrows))*4)\n",
    "\n",
    "for i,key in enumerate(keys):\n",
    "    ax = plt.subplot(nrows,ncols,i+1)\n",
    "    plot_nice_bar(key,rsa_res,\n",
    "                  ax=ax,figsize=None,\n",
    "                  dpi=300,fontsize=12,\n",
    "                  fontsize_star=12,\n",
    "                  fontweight='bold',\n",
    "                  line_width=2.5,\n",
    "                  marker_size=12,title=keys[i])\n",
    "    \n",
    "plt.subplots_adjust(\n",
    "    left=None,\n",
    "    bottom=None,\n",
    "    right=None,\n",
    "    top=None,\n",
    "    wspace=.5,\n",
    "    hspace=.5)"
   ]
  },
  {
   "cell_type": "code",
   "execution_count": null,
   "id": "cccbad4d",
   "metadata": {},
   "outputs": [],
   "source": []
  },
  {
   "cell_type": "code",
   "execution_count": null,
   "id": "60823280",
   "metadata": {},
   "outputs": [],
   "source": [
    "import umap\n",
    "import umap.plot"
   ]
  },
  {
   "cell_type": "code",
   "execution_count": null,
   "id": "1a43fddd",
   "metadata": {},
   "outputs": [],
   "source": [
    "%%time\n",
    "mapper1 = umap.UMAP().fit(data)"
   ]
  },
  {
   "cell_type": "code",
   "execution_count": null,
   "id": "ab26b5fd",
   "metadata": {},
   "outputs": [],
   "source": [
    "data"
   ]
  },
  {
   "cell_type": "code",
   "execution_count": null,
   "id": "1477363d",
   "metadata": {},
   "outputs": [],
   "source": []
  },
  {
   "cell_type": "code",
   "execution_count": null,
   "id": "b78c6254",
   "metadata": {},
   "outputs": [],
   "source": []
  },
  {
   "cell_type": "code",
   "execution_count": null,
   "id": "a49c5a90",
   "metadata": {},
   "outputs": [],
   "source": []
  },
  {
   "cell_type": "code",
   "execution_count": null,
   "id": "4bb819b3",
   "metadata": {},
   "outputs": [],
   "source": []
  },
  {
   "cell_type": "code",
   "execution_count": null,
   "id": "f444d1ca",
   "metadata": {},
   "outputs": [],
   "source": []
  },
  {
   "cell_type": "code",
   "execution_count": null,
   "id": "cde27e4a",
   "metadata": {},
   "outputs": [],
   "source": []
  },
  {
   "cell_type": "code",
   "execution_count": null,
   "id": "946a99e1",
   "metadata": {},
   "outputs": [],
   "source": []
  },
  {
   "cell_type": "code",
   "execution_count": null,
   "id": "54ceb96b",
   "metadata": {},
   "outputs": [],
   "source": []
  },
  {
   "cell_type": "code",
   "execution_count": null,
   "id": "50df3ea0",
   "metadata": {},
   "outputs": [],
   "source": []
  }
 ],
 "metadata": {
  "kernelspec": {
   "display_name": "Python 3",
   "language": "python",
   "name": "python3"
  },
  "language_info": {
   "codemirror_mode": {
    "name": "ipython",
    "version": 3
   },
   "file_extension": ".py",
   "mimetype": "text/x-python",
   "name": "python",
   "nbconvert_exporter": "python",
   "pygments_lexer": "ipython3",
   "version": "3.8.5"
  }
 },
 "nbformat": 4,
 "nbformat_minor": 5
}
