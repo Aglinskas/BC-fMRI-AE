{
 "cells": [
  {
   "cell_type": "code",
   "execution_count": null,
   "id": "fe44ac26",
   "metadata": {},
   "outputs": [],
   "source": [
    "import ants\n",
    "from tqdm import tqdm\n",
    "import os "
   ]
  },
  {
   "cell_type": "code",
   "execution_count": null,
   "id": "face072f",
   "metadata": {},
   "outputs": [],
   "source": []
  },
  {
   "cell_type": "code",
   "execution_count": null,
   "id": "298f6964",
   "metadata": {},
   "outputs": [],
   "source": [
    "indir = '~/data/ABIDE/Derivatives/preprocessed'\n",
    "indir = os.path.expanduser(indir)\n",
    "folders = [f for f in os.listdir(indir) if f.startswith('sub-') and not f.endswith('.html')]\n",
    "folders.sort()\n",
    "len(folders)"
   ]
  },
  {
   "cell_type": "code",
   "execution_count": null,
   "id": "aba21596",
   "metadata": {},
   "outputs": [],
   "source": [
    "def get_scan_duration(sub):\n",
    "    im = ants.image_read(os.path.join(indir,f'{sub}/frc-{sub}_bold.nii.gz'))\n",
    "    t = im.shape[-1]*im.spacing[-1]/60\n",
    "    return t"
   ]
  },
  {
   "cell_type": "code",
   "execution_count": null,
   "id": "e2d21d63",
   "metadata": {},
   "outputs": [],
   "source": [
    "scan_durations1 = [get_scan_duration(sub) for sub in tqdm(folders)]\n",
    "L = pd.DataFrame()\n",
    "L['sub'] = folders\n",
    "L['scan_length'] = scan_durations1\n",
    "L.to_csv('../Data/Scan_lenghts_ABIDEI.csv')"
   ]
  },
  {
   "cell_type": "code",
   "execution_count": null,
   "id": "20458937",
   "metadata": {},
   "outputs": [],
   "source": []
  },
  {
   "cell_type": "code",
   "execution_count": null,
   "id": "becfc230",
   "metadata": {},
   "outputs": [],
   "source": []
  },
  {
   "cell_type": "code",
   "execution_count": null,
   "id": "30e407ec",
   "metadata": {},
   "outputs": [],
   "source": [
    "indir = '~/data/ABIDE2/Derivatives/preprocessed'\n",
    "indir = os.path.expanduser(indir)\n",
    "folders = [f for f in os.listdir(indir) if f.startswith('sub-') and not f.endswith('.html')]\n",
    "folders.sort()\n",
    "len(folders)"
   ]
  },
  {
   "cell_type": "code",
   "execution_count": null,
   "id": "4cec7c73",
   "metadata": {},
   "outputs": [],
   "source": [
    "def get_scan_duration2(sub):\n",
    "    #im = ants.image_read(os.path.join(indir,f'{sub}/frc-{sub}_bold.nii.gz'))\n",
    "    sessions = os.listdir(os.path.join(indir,f'{sub}'))\n",
    "    sessions.sort()\n",
    "    sess = sessions[0]\n",
    "    fn = os.path.join(indir,f'{sub}',sess,f'frc-{sub}_bold.nii.gz')\n",
    "    \n",
    "    im = ants.image_read(fn)\n",
    "    t = im.shape[-1]*im.spacing[-1]/60\n",
    "    return t"
   ]
  },
  {
   "cell_type": "code",
   "execution_count": null,
   "id": "ac2ca2f6",
   "metadata": {},
   "outputs": [],
   "source": [
    "scan_durations2 = [get_scan_duration2(sub) for sub in tqdm(folders)]\n",
    "L = pd.DataFrame()\n",
    "L['sub'] = folders\n",
    "L['scan_length'] = scan_durations1\n",
    "L.to_csv('../Data/Scan_lenghts_ABIDEII.csv')"
   ]
  },
  {
   "cell_type": "code",
   "execution_count": null,
   "id": "824ae8a4",
   "metadata": {},
   "outputs": [],
   "source": []
  },
  {
   "cell_type": "code",
   "execution_count": null,
   "id": "02f7fcfe",
   "metadata": {},
   "outputs": [],
   "source": []
  },
  {
   "cell_type": "code",
   "execution_count": null,
   "id": "11f87b07",
   "metadata": {},
   "outputs": [],
   "source": []
  },
  {
   "cell_type": "code",
   "execution_count": null,
   "id": "daf16a50",
   "metadata": {},
   "outputs": [],
   "source": []
  },
  {
   "cell_type": "code",
   "execution_count": null,
   "id": "b3c6f4f0",
   "metadata": {},
   "outputs": [],
   "source": []
  }
 ],
 "metadata": {
  "kernelspec": {
   "display_name": "Python 3",
   "language": "python",
   "name": "python3"
  },
  "language_info": {
   "codemirror_mode": {
    "name": "ipython",
    "version": 3
   },
   "file_extension": ".py",
   "mimetype": "text/x-python",
   "name": "python",
   "nbconvert_exporter": "python",
   "pygments_lexer": "ipython3",
   "version": "3.8.5"
  }
 },
 "nbformat": 4,
 "nbformat_minor": 5
}
