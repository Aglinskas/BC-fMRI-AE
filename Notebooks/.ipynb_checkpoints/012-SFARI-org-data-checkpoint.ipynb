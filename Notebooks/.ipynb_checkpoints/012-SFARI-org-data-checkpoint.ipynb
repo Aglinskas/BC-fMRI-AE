{
 "cells": [
  {
   "cell_type": "code",
   "execution_count": 1,
   "id": "22e88945",
   "metadata": {},
   "outputs": [],
   "source": [
    "# unzip -o -qq \\*.zip"
   ]
  },
  {
   "cell_type": "code",
   "execution_count": 2,
   "id": "4e657ed5",
   "metadata": {},
   "outputs": [],
   "source": [
    "# singularity shell heudiconv\n",
    "# dcm2niix ."
   ]
  },
  {
   "cell_type": "code",
   "execution_count": 3,
   "id": "b774862c",
   "metadata": {},
   "outputs": [],
   "source": [
    "#### CONVERT DCM2NIFTI\n",
    "import os\n",
    "\n",
    "indir = '~/data/sfari/'\n",
    "indir = os.path.expanduser(indir)\n",
    "conts = os.listdir(indir)\n",
    "conts.sort()\n",
    "folders = [cont for cont in conts if os.path.isdir(os.path.join(indir,cont))  and not cont.startswith('.')]\n",
    "\n",
    "with open('../Batch_jobs/sfari_dcm2nii.sh', 'w') as f:\n",
    "    for folder in folders:\n",
    "        f.write(f'dcm2niix {os.path.join(indir,folder)}\\n')\n",
    "        \n",
    "# chmod '~/sfari_dcm2nii.sh\n",
    "# ./sfari_dcm2nii.sh"
   ]
  },
  {
   "cell_type": "code",
   "execution_count": 17,
   "id": "bcc79f49",
   "metadata": {},
   "outputs": [],
   "source": [
    "import pandas as pd\n",
    "import os"
   ]
  },
  {
   "cell_type": "code",
   "execution_count": 18,
   "id": "1186cc03",
   "metadata": {},
   "outputs": [],
   "source": [
    "def save_mkdir(dir_path):\n",
    "    if not os.path.exists(dir_path):\n",
    "        os.mkdir(dir_path)"
   ]
  },
  {
   "cell_type": "code",
   "execution_count": 19,
   "id": "af7e7f2c",
   "metadata": {},
   "outputs": [],
   "source": [
    "indir = '~/data/sfari/14712.x11_30_SCAP1'\n",
    "outdir = '~/data/sfari_bids/'\n",
    "\n",
    "indir = os.path.expanduser(indir)\n",
    "outdir = os.path.expanduser(outdir)\n",
    "save_mkdir(outdir)"
   ]
  },
  {
   "cell_type": "code",
   "execution_count": 21,
   "id": "e1c09f64",
   "metadata": {},
   "outputs": [],
   "source": [
    "df_sfari = pd.DataFrame()"
   ]
  },
  {
   "cell_type": "code",
   "execution_count": 32,
   "id": "d80b93d6",
   "metadata": {},
   "outputs": [
    {
     "name": "stdout",
     "output_type": "stream",
     "text": [
      "208\n"
     ]
    },
    {
     "data": {
      "text/plain": [
       "['14702.x3_60_FCAP1',\n",
       " '14703.x3_50_FCAP1',\n",
       " '14705.x14_50_FCAP1',\n",
       " '14708.x10_60_FCAP1',\n",
       " '14713.x7_50_FCAP1']"
      ]
     },
     "execution_count": 32,
     "metadata": {},
     "output_type": "execute_result"
    }
   ],
   "source": [
    "use_folders = [folder for folder in folders if folder.endswith('_FCAP1')]\n",
    "print(len(use_folders))\n",
    "use_folders[0:5]"
   ]
  },
  {
   "cell_type": "code",
   "execution_count": 26,
   "id": "4b476efb",
   "metadata": {},
   "outputs": [],
   "source": [
    "sfari_ids = [use_folder.split('_')[0] for use_folder in use_folders]\n",
    "site_ids = [use_folder.split('_')[1] for use_folder in use_folders]"
   ]
  },
  {
   "cell_type": "code",
   "execution_count": 28,
   "id": "d13fe094",
   "metadata": {},
   "outputs": [],
   "source": [
    "df_sfari['sfari_ids'] = sfari_ids\n",
    "df_sfari['site_ids'] = site_ids"
   ]
  },
  {
   "cell_type": "code",
   "execution_count": null,
   "id": "e24505ae",
   "metadata": {},
   "outputs": [],
   "source": []
  },
  {
   "cell_type": "code",
   "execution_count": null,
   "id": "e22d24b7",
   "metadata": {},
   "outputs": [],
   "source": []
  },
  {
   "cell_type": "code",
   "execution_count": 37,
   "id": "42343a4c",
   "metadata": {},
   "outputs": [],
   "source": [
    "unique_sites = df_sfari['site_ids'].unique()"
   ]
  },
  {
   "cell_type": "code",
   "execution_count": 44,
   "id": "e30bed49",
   "metadata": {},
   "outputs": [],
   "source": [
    "ss = 0\n",
    "site = unique_sites[ss]\n",
    "site_subs = df_sfari['sfari_ids'].values[df_sfari['site_ids'].values==site]\n",
    "s = 0"
   ]
  },
  {
   "cell_type": "code",
   "execution_count": 46,
   "id": "a48ee97e",
   "metadata": {},
   "outputs": [],
   "source": [
    "sub = site_subs[s]"
   ]
  },
  {
   "cell_type": "code",
   "execution_count": 47,
   "id": "a8ad3b05",
   "metadata": {},
   "outputs": [
    {
     "data": {
      "text/plain": [
       "'14702.x3'"
      ]
     },
     "execution_count": 47,
     "metadata": {},
     "output_type": "execute_result"
    }
   ],
   "source": [
    "sub"
   ]
  },
  {
   "cell_type": "code",
   "execution_count": null,
   "id": "9d24013e",
   "metadata": {},
   "outputs": [],
   "source": []
  },
  {
   "cell_type": "code",
   "execution_count": null,
   "id": "9183fdfc",
   "metadata": {},
   "outputs": [],
   "source": []
  },
  {
   "cell_type": "code",
   "execution_count": null,
   "id": "1058a14e",
   "metadata": {},
   "outputs": [],
   "source": []
  }
 ],
 "metadata": {
  "kernelspec": {
   "display_name": "Python 3",
   "language": "python",
   "name": "python3"
  },
  "language_info": {
   "codemirror_mode": {
    "name": "ipython",
    "version": 3
   },
   "file_extension": ".py",
   "mimetype": "text/x-python",
   "name": "python",
   "nbconvert_exporter": "python",
   "pygments_lexer": "ipython3",
   "version": "3.8.5"
  }
 },
 "nbformat": 4,
 "nbformat_minor": 5
}
