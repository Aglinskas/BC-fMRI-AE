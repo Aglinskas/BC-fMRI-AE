{
 "cells": [
  {
   "cell_type": "code",
   "execution_count": 1,
   "id": "a36aae97",
   "metadata": {
    "execution": {
     "iopub.execute_input": "2021-10-28T08:33:58.479536Z",
     "iopub.status.busy": "2021-10-28T08:33:58.479171Z",
     "iopub.status.idle": "2021-10-28T08:33:58.480763Z",
     "shell.execute_reply": "2021-10-28T08:33:58.481030Z"
    },
    "papermill": {
     "duration": 0.029377,
     "end_time": "2021-10-28T08:33:58.481195",
     "exception": false,
     "start_time": "2021-10-28T08:33:58.451818",
     "status": "completed"
    },
    "tags": []
   },
   "outputs": [
    {
     "data": {
      "text/plain": [
       "'/mmfs1/data/aglinska/BC-fMRI-AE/Notebooks'"
      ]
     },
     "execution_count": 1,
     "metadata": {},
     "output_type": "execute_result"
    }
   ],
   "source": [
    "pwd"
   ]
  },
  {
   "cell_type": "code",
   "execution_count": 2,
   "id": "ffd4eb5b",
   "metadata": {
    "execution": {
     "iopub.execute_input": "2021-10-28T08:33:58.520267Z",
     "iopub.status.busy": "2021-10-28T08:33:58.519937Z",
     "iopub.status.idle": "2021-10-28T08:33:58.521429Z",
     "shell.execute_reply": "2021-10-28T08:33:58.521146Z"
    },
    "papermill": {
     "duration": 0.019728,
     "end_time": "2021-10-28T08:33:58.521501",
     "exception": false,
     "start_time": "2021-10-28T08:33:58.501773",
     "status": "completed"
    },
    "tags": []
   },
   "outputs": [],
   "source": [
    "import os\n",
    "os.environ['CUDA_VISIBLE_DEVICES']='3'"
   ]
  },
  {
   "cell_type": "code",
   "execution_count": 3,
   "id": "11706b34",
   "metadata": {
    "execution": {
     "iopub.execute_input": "2021-10-28T08:33:58.556261Z",
     "iopub.status.busy": "2021-10-28T08:33:58.555938Z",
     "iopub.status.idle": "2021-10-28T08:33:58.679062Z",
     "shell.execute_reply": "2021-10-28T08:33:58.678784Z"
    },
    "papermill": {
     "duration": 0.141574,
     "end_time": "2021-10-28T08:33:58.679140",
     "exception": false,
     "start_time": "2021-10-28T08:33:58.537566",
     "status": "completed"
    },
    "tags": []
   },
   "outputs": [
    {
     "name": "stdout",
     "output_type": "stream",
     "text": [
      "              total        used        free      shared  buff/cache   available\r\n",
      "Mem:            187           9         169           4           9         172\r\n",
      "Swap:            11           0          11\r\n"
     ]
    }
   ],
   "source": [
    "!free -g"
   ]
  },
  {
   "cell_type": "code",
   "execution_count": 4,
   "id": "986809d4",
   "metadata": {
    "execution": {
     "iopub.execute_input": "2021-10-28T08:33:58.716225Z",
     "iopub.status.busy": "2021-10-28T08:33:58.713846Z",
     "iopub.status.idle": "2021-10-28T08:33:59.003488Z",
     "shell.execute_reply": "2021-10-28T08:33:59.003745Z"
    },
    "papermill": {
     "duration": 0.308389,
     "end_time": "2021-10-28T08:33:59.003849",
     "exception": false,
     "start_time": "2021-10-28T08:33:58.695460",
     "status": "completed"
    },
    "tags": []
   },
   "outputs": [
    {
     "name": "stdout",
     "output_type": "stream",
     "text": [
      "Thu Oct 28 04:33:58 2021       \r\n",
      "+-----------------------------------------------------------------------------+\r\n",
      "| NVIDIA-SMI 450.51.05    Driver Version: 450.51.05    CUDA Version: 11.0     |\r\n",
      "|-------------------------------+----------------------+----------------------+\r\n",
      "| GPU  Name        Persistence-M| Bus-Id        Disp.A | Volatile Uncorr. ECC |\r\n",
      "| Fan  Temp  Perf  Pwr:Usage/Cap|         Memory-Usage | GPU-Util  Compute M. |\r\n",
      "|                               |                      |               MIG M. |\r\n",
      "|===============================+======================+======================|\r\n",
      "|   0  Tesla V100-SXM2...  On   | 00000000:18:00.0 Off |                    0 |\r\n",
      "| N/A   43C    P0    67W / 300W |      0MiB / 16160MiB |      0%      Default |\r\n",
      "|                               |                      |                  N/A |\r\n",
      "+-------------------------------+----------------------+----------------------+\r\n",
      "|   1  Tesla V100-SXM2...  On   | 00000000:3B:00.0 Off |                    0 |\r\n",
      "| N/A   37C    P0    68W / 300W |      0MiB / 16160MiB |      0%      Default |\r\n",
      "|                               |                      |                  N/A |\r\n",
      "+-------------------------------+----------------------+----------------------+\r\n",
      "|   2  Tesla V100-SXM2...  On   | 00000000:86:00.0 Off |                    0 |\r\n",
      "| N/A   32C    P0    43W / 300W |      0MiB / 16160MiB |      0%      Default |\r\n",
      "|                               |                      |                  N/A |\r\n",
      "+-------------------------------+----------------------+----------------------+\r\n",
      "|   3  Tesla V100-SXM2...  On   | 00000000:AF:00.0 Off |                    0 |\r\n",
      "| N/A   41C    P0    69W / 300W |      0MiB / 16160MiB |      0%      Default |\r\n",
      "|                               |                      |                  N/A |\r\n",
      "+-------------------------------+----------------------+----------------------+\r\n",
      "                                                                               \r\n",
      "+-----------------------------------------------------------------------------+\r\n",
      "| Processes:                                                                  |\r\n",
      "|  GPU   GI   CI        PID   Type   Process name                  GPU Memory |\r\n",
      "|        ID   ID                                                   Usage      |\r\n",
      "|=============================================================================|\r\n"
     ]
    },
    {
     "name": "stdout",
     "output_type": "stream",
     "text": [
      "|  No running processes found                                                 |\r\n",
      "+-----------------------------------------------------------------------------+\r\n"
     ]
    }
   ],
   "source": [
    "!nvidia-smi"
   ]
  },
  {
   "cell_type": "code",
   "execution_count": 5,
   "id": "119564d5",
   "metadata": {
    "execution": {
     "iopub.execute_input": "2021-10-28T08:33:59.040895Z",
     "iopub.status.busy": "2021-10-28T08:33:59.040572Z",
     "iopub.status.idle": "2021-10-28T08:33:59.047372Z",
     "shell.execute_reply": "2021-10-28T08:33:59.047085Z"
    },
    "papermill": {
     "duration": 0.026584,
     "end_time": "2021-10-28T08:33:59.047445",
     "exception": false,
     "start_time": "2021-10-28T08:33:59.020861",
     "status": "completed"
    },
    "tags": []
   },
   "outputs": [
    {
     "name": "stdout",
     "output_type": "stream",
     "text": [
      "CVAE_2021-10-28 04:33:59.039839\n"
     ]
    }
   ],
   "source": [
    "import os\n",
    "from datetime import datetime; now = datetime.now\n",
    "\n",
    "analysis_name = 'CVAE_'+str(now())\n",
    "save_dir = os.path.join('../Assets/tf_weights',analysis_name)\n",
    "if not os.path.exists(save_dir):\n",
    "    os.mkdir(save_dir)\n",
    "    \n",
    "print(analysis_name)"
   ]
  },
  {
   "cell_type": "code",
   "execution_count": 6,
   "id": "0f318613",
   "metadata": {
    "execution": {
     "iopub.execute_input": "2021-10-28T08:33:59.084926Z",
     "iopub.status.busy": "2021-10-28T08:33:59.084600Z",
     "iopub.status.idle": "2021-10-28T08:33:59.103740Z",
     "shell.execute_reply": "2021-10-28T08:33:59.103458Z"
    },
    "papermill": {
     "duration": 0.039459,
     "end_time": "2021-10-28T08:33:59.103812",
     "exception": false,
     "start_time": "2021-10-28T08:33:59.064353",
     "status": "completed"
    },
    "tags": []
   },
   "outputs": [
    {
     "name": "stdout",
     "output_type": "stream",
     "text": [
      "Total memory: 15.78173828125\n",
      "Free memory: 15.7816162109375"
     ]
    },
    {
     "name": "stdout",
     "output_type": "stream",
     "text": [
      "\n",
      "Used memory: 0.0001220703125\n"
     ]
    }
   ],
   "source": [
    "# CHECK GPU\n",
    "import nvidia_smi\n",
    "try:\n",
    "    nvidia_smi.nvmlInit()\n",
    "\n",
    "    handle = nvidia_smi.nvmlDeviceGetHandleByIndex(0)\n",
    "    # card id 0 hardcoded here, there is also a call to get all available card ids, so we could iterate\n",
    "\n",
    "    info = nvidia_smi.nvmlDeviceGetMemoryInfo(handle)\n",
    "\n",
    "    print(\"Total memory:\", (info.total/1024/1024/1024))\n",
    "    print(\"Free memory:\", (info.free/1024/1024/1024))\n",
    "    print(\"Used memory:\", (info.used/1024/1024/1024))\n",
    "\n",
    "    nvidia_smi.nvmlShutdown()\n",
    "except:\n",
    "    pass"
   ]
  },
  {
   "cell_type": "code",
   "execution_count": 7,
   "id": "ee68dfc0",
   "metadata": {
    "execution": {
     "iopub.execute_input": "2021-10-28T08:33:59.140860Z",
     "iopub.status.busy": "2021-10-28T08:33:59.140539Z",
     "iopub.status.idle": "2021-10-28T08:33:59.142117Z",
     "shell.execute_reply": "2021-10-28T08:33:59.141844Z"
    },
    "papermill": {
     "duration": 0.020814,
     "end_time": "2021-10-28T08:33:59.142186",
     "exception": false,
     "start_time": "2021-10-28T08:33:59.121372",
     "status": "completed"
    },
    "tags": []
   },
   "outputs": [],
   "source": [
    "## SET UP"
   ]
  },
  {
   "cell_type": "code",
   "execution_count": 8,
   "id": "41c53d3d",
   "metadata": {
    "execution": {
     "iopub.execute_input": "2021-10-28T08:33:59.179155Z",
     "iopub.status.busy": "2021-10-28T08:33:59.178826Z",
     "iopub.status.idle": "2021-10-28T08:34:19.027410Z",
     "shell.execute_reply": "2021-10-28T08:34:19.027689Z"
    },
    "papermill": {
     "duration": 19.868416,
     "end_time": "2021-10-28T08:34:19.027804",
     "exception": false,
     "start_time": "2021-10-28T08:33:59.159388",
     "status": "completed"
    },
    "tags": []
   },
   "outputs": [],
   "source": [
    "import numpy as np\n",
    "import pandas as pd\n",
    "from tqdm import tqdm\n",
    "from matplotlib import pyplot as plt\n",
    "\n",
    "from functools import partial\n",
    "from tqdm import tqdm\n",
    "from umap import UMAP\n",
    "tqdm = partial(tqdm, position=0, leave=True) "
   ]
  },
  {
   "cell_type": "code",
   "execution_count": 9,
   "id": "5ccb8b50",
   "metadata": {
    "execution": {
     "iopub.execute_input": "2021-10-28T08:34:19.073156Z",
     "iopub.status.busy": "2021-10-28T08:34:19.072835Z",
     "iopub.status.idle": "2021-10-28T08:34:19.074812Z",
     "shell.execute_reply": "2021-10-28T08:34:19.075073Z"
    },
    "papermill": {
     "duration": 0.023404,
     "end_time": "2021-10-28T08:34:19.075158",
     "exception": false,
     "start_time": "2021-10-28T08:34:19.051754",
     "status": "completed"
    },
    "tags": []
   },
   "outputs": [
    {
     "data": {
      "text/plain": [
       "'/mmfs1/data/aglinska/BC-fMRI-AE/Notebooks'"
      ]
     },
     "execution_count": 9,
     "metadata": {},
     "output_type": "execute_result"
    }
   ],
   "source": [
    "pwd"
   ]
  },
  {
   "cell_type": "code",
   "execution_count": null,
   "id": "c892a72c",
   "metadata": {
    "papermill": {
     "duration": 0.018,
     "end_time": "2021-10-28T08:34:19.111368",
     "exception": false,
     "start_time": "2021-10-28T08:34:19.093368",
     "status": "completed"
    },
    "tags": []
   },
   "outputs": [],
   "source": []
  },
  {
   "cell_type": "code",
   "execution_count": 10,
   "id": "96e9ed0e",
   "metadata": {
    "execution": {
     "iopub.execute_input": "2021-10-28T08:34:19.162735Z",
     "iopub.status.busy": "2021-10-28T08:34:19.162397Z",
     "iopub.status.idle": "2021-10-28T08:34:19.212571Z",
     "shell.execute_reply": "2021-10-28T08:34:19.212270Z"
    },
    "papermill": {
     "duration": 0.082,
     "end_time": "2021-10-28T08:34:19.212658",
     "exception": false,
     "start_time": "2021-10-28T08:34:19.130658",
     "status": "completed"
    },
    "tags": []
   },
   "outputs": [
    {
     "name": "stdout",
     "output_type": "stream",
     "text": [
      "1048\n"
     ]
    }
   ],
   "source": [
    "df = pd.read_csv('../Data/ABIDE_df2.csv')\n",
    "df = df.iloc[~pd.isna(df['bids_folder']).values]\n",
    "df = df.sort_values(by='bids_folder')\n",
    "print(len(df))\n",
    "#data_dir = '../Assets/fc_mats_32smooth_new/'\n",
    "data_dir = '../Assets/abide_1_cmats'"
   ]
  },
  {
   "cell_type": "code",
   "execution_count": 11,
   "id": "55aea832",
   "metadata": {
    "execution": {
     "iopub.execute_input": "2021-10-28T08:34:19.253121Z",
     "iopub.status.busy": "2021-10-28T08:34:19.252795Z",
     "iopub.status.idle": "2021-10-28T08:34:19.291579Z",
     "shell.execute_reply": "2021-10-28T08:34:19.291293Z"
    },
    "papermill": {
     "duration": 0.060387,
     "end_time": "2021-10-28T08:34:19.291653",
     "exception": false,
     "start_time": "2021-10-28T08:34:19.231266",
     "status": "completed"
    },
    "tags": []
   },
   "outputs": [
    {
     "name": "stdout",
     "output_type": "stream",
     "text": [
      "1048\n"
     ]
    },
    {
     "data": {
      "text/plain": [
       "array(['sub-CMUa0050642.npy', 'sub-CMUa0050646.npy',\n",
       "       'sub-CMUa0050647.npy', 'sub-CMUa0050649.npy',\n",
       "       'sub-CMUa0050653.npy'], dtype='<U23')"
      ]
     },
     "execution_count": 11,
     "metadata": {},
     "output_type": "execute_result"
    }
   ],
   "source": [
    "files = [file for file in os.listdir(data_dir) if file.endswith('.npy')]\n",
    "files = np.array(files)\n",
    "files.sort()\n",
    "is_inDF = np.array([file.replace('.npy','') in df['bids_folder'].values for file in files])\n",
    "files = files[is_inDF]\n",
    "\n",
    "print(len(files))\n",
    "files[0:5]"
   ]
  },
  {
   "cell_type": "code",
   "execution_count": 12,
   "id": "1f337e56",
   "metadata": {
    "execution": {
     "iopub.execute_input": "2021-10-28T08:34:19.332185Z",
     "iopub.status.busy": "2021-10-28T08:34:19.331855Z",
     "iopub.status.idle": "2021-10-28T08:34:20.889270Z",
     "shell.execute_reply": "2021-10-28T08:34:20.888927Z"
    },
    "papermill": {
     "duration": 1.579115,
     "end_time": "2021-10-28T08:34:20.889363",
     "exception": false,
     "start_time": "2021-10-28T08:34:19.310248",
     "status": "completed"
    },
    "tags": []
   },
   "outputs": [],
   "source": [
    "cmats = np.array([np.load(os.path.join(data_dir,file)) for file in files])\n",
    "has_na = np.array([np.isnan(cmats[i,:,:]).sum()>0 for i in range(cmats.shape[0])])\n",
    "assert has_na.sum()==0, 'nans in cmats'"
   ]
  },
  {
   "cell_type": "code",
   "execution_count": 13,
   "id": "21fa608b",
   "metadata": {
    "execution": {
     "iopub.execute_input": "2021-10-28T08:34:20.934486Z",
     "iopub.status.busy": "2021-10-28T08:34:20.934151Z",
     "iopub.status.idle": "2021-10-28T08:34:20.935699Z",
     "shell.execute_reply": "2021-10-28T08:34:20.935957Z"
    },
    "papermill": {
     "duration": 0.026197,
     "end_time": "2021-10-28T08:34:20.936042",
     "exception": false,
     "start_time": "2021-10-28T08:34:20.909845",
     "status": "completed"
    },
    "tags": []
   },
   "outputs": [],
   "source": [
    "assert len(df)==len(files),'mismatch'\n",
    "assert all([df['bids_folder'].values[i]==files[i].replace('.npy','') for i in range(len(df))]), 'out of order'"
   ]
  },
  {
   "cell_type": "code",
   "execution_count": null,
   "id": "e64e7c1f",
   "metadata": {
    "papermill": {
     "duration": 0.018786,
     "end_time": "2021-10-28T08:34:20.973802",
     "exception": false,
     "start_time": "2021-10-28T08:34:20.955016",
     "status": "completed"
    },
    "tags": []
   },
   "outputs": [],
   "source": []
  },
  {
   "cell_type": "code",
   "execution_count": 14,
   "id": "67a9dcc3",
   "metadata": {
    "execution": {
     "iopub.execute_input": "2021-10-28T08:34:21.015174Z",
     "iopub.status.busy": "2021-10-28T08:34:21.014851Z",
     "iopub.status.idle": "2021-10-28T08:34:21.210579Z",
     "shell.execute_reply": "2021-10-28T08:34:21.210843Z"
    },
    "papermill": {
     "duration": 0.218097,
     "end_time": "2021-10-28T08:34:21.210930",
     "exception": false,
     "start_time": "2021-10-28T08:34:20.992833",
     "status": "completed"
    },
    "tags": []
   },
   "outputs": [
    {
     "name": "stdout",
     "output_type": "stream",
     "text": [
      "CPU times: user 48 ms, sys: 4.35 ms, total: 52.3 ms\n",
      "Wall time: 190 ms\n"
     ]
    },
    {
     "data": {
      "text/plain": [
       "<module 'tensorflow' from '/data/aglinska/anaconda3/lib/python3.8/site-packages/tensorflow/__init__.py'>"
      ]
     },
     "execution_count": 14,
     "metadata": {},
     "output_type": "execute_result"
    }
   ],
   "source": [
    "%%time\n",
    "from importlib import reload\n",
    "import helper_funcs;reload(helper_funcs);from helper_funcs import *\n",
    "del helper_funcs\n",
    "import make_models;reload(make_models);from make_models import *\n",
    "del make_models\n",
    "\n",
    "from IPython import display\n",
    "import sys\n",
    "from sklearn.decomposition import PCA\n",
    "import seaborn as sns\n",
    "\n",
    "import tensorflow as tf\n",
    "reload(tf)"
   ]
  },
  {
   "cell_type": "code",
   "execution_count": 15,
   "id": "08f113bb",
   "metadata": {
    "execution": {
     "iopub.execute_input": "2021-10-28T08:34:21.260003Z",
     "iopub.status.busy": "2021-10-28T08:34:21.257276Z",
     "iopub.status.idle": "2021-10-28T08:34:21.261721Z",
     "shell.execute_reply": "2021-10-28T08:34:21.261413Z"
    },
    "papermill": {
     "duration": 0.030938,
     "end_time": "2021-10-28T08:34:21.261791",
     "exception": false,
     "start_time": "2021-10-28T08:34:21.230853",
     "status": "completed"
    },
    "tags": []
   },
   "outputs": [],
   "source": [
    "class cvae_data_loader():\n",
    "    ''' this is the info'''\n",
    "    def __init__(self,data_dir,df,batch_size=32):\n",
    "        #self.data = data\n",
    "        #self.n = data.shape[0]\n",
    "        self.n = len(df)\n",
    "        self.data_dir = data_dir\n",
    "        self.epoch = -1\n",
    "        self.batch_size = batch_size\n",
    "        self.df = df\n",
    "        \n",
    "        self.new_epoch()\n",
    "        self.n_batches = int(np.floor(min((len(self.asd_idxs),len(self.td_idxs)))/self.batch_size))\n",
    "        \n",
    "    def new_epoch(self):\n",
    "        #self.df = self.df.iloc[np.random.permutation(np.arange(self.n))]\n",
    "        #self.df.index = np.arange(self.n)\n",
    "        self.asd_idxs = np.nonzero((self.df['DX_GROUP'].values==1))[0]\n",
    "        self.td_idxs = np.nonzero((self.df['DX_GROUP'].values==2))[0]\n",
    "        \n",
    "        self.asd_idxs = np.random.permutation(self.asd_idxs)\n",
    "        self.td_idxs = np.random.permutation(self.td_idxs)\n",
    "        \n",
    "        self.epoch += 1\n",
    "        self.b = 0\n",
    "        \n",
    "        \n",
    "    def get_batch(self):\n",
    "        self.b += 1\n",
    "        \n",
    "        if self.b==self.n_batches:\n",
    "            self.new_epoch()\n",
    "        \n",
    "        \n",
    "        self.batch_asd_idx = self.asd_idxs[np.arange(self.b*self.batch_size,self.b*self.batch_size+self.batch_size)]\n",
    "        self.batch_td_idx = self.td_idxs[np.arange(self.b*self.batch_size,self.b*self.batch_size+self.batch_size)]\n",
    "        self.batch_asd = np.array([np.load(os.path.join(self.data_dir,val+'.npy')) for val in self.df['bids_folder'].values[self.batch_asd_idx]])\n",
    "        self.batch_td = np.array([np.load(os.path.join(self.data_dir,val+'.npy')) for val in self.df['bids_folder'].values[self.batch_td_idx]])\n",
    "        self.batch_df = self.df.iloc[np.hstack((self.batch_asd_idx,self.batch_td_idx)),:]\n",
    "        \n",
    "        self.batch_asd = (self.batch_asd+1)/2\n",
    "        self.batch_td = (self.batch_td)/2\n",
    "        \n",
    "    \n",
    "        return self.batch_asd,self.batch_td,self.batch_df"
   ]
  },
  {
   "cell_type": "code",
   "execution_count": 16,
   "id": "62d56d4b",
   "metadata": {
    "execution": {
     "iopub.execute_input": "2021-10-28T08:34:22.398945Z",
     "iopub.status.busy": "2021-10-28T08:34:22.398588Z",
     "iopub.status.idle": "2021-10-28T08:34:22.400604Z",
     "shell.execute_reply": "2021-10-28T08:34:22.400867Z"
    },
    "papermill": {
     "duration": 1.119815,
     "end_time": "2021-10-28T08:34:22.400970",
     "exception": false,
     "start_time": "2021-10-28T08:34:21.281155",
     "status": "completed"
    },
    "tags": []
   },
   "outputs": [
    {
     "data": {
      "text/plain": [
       "'/device:GPU:0'"
      ]
     },
     "execution_count": 16,
     "metadata": {},
     "output_type": "execute_result"
    }
   ],
   "source": [
    "import tensorflow as tf\n",
    "tf.test.gpu_device_name()"
   ]
  },
  {
   "cell_type": "code",
   "execution_count": 17,
   "id": "f1126e7a",
   "metadata": {
    "execution": {
     "iopub.execute_input": "2021-10-28T08:34:22.443511Z",
     "iopub.status.busy": "2021-10-28T08:34:22.443181Z",
     "iopub.status.idle": "2021-10-28T08:34:22.458568Z",
     "shell.execute_reply": "2021-10-28T08:34:22.458293Z"
    },
    "papermill": {
     "duration": 0.037575,
     "end_time": "2021-10-28T08:34:22.458643",
     "exception": false,
     "start_time": "2021-10-28T08:34:22.421068",
     "status": "completed"
    },
    "tags": []
   },
   "outputs": [],
   "source": [
    "# PADDING\n",
    "pad2d = tf.keras.layers.ZeroPadding2D(padding=((6,7),(6,7))) #If tuple of 2 tuples of 2 ints: interpreted as ((top_pad, bottom_pad), (left_pad, right_pad))"
   ]
  },
  {
   "cell_type": "code",
   "execution_count": 18,
   "id": "124f24c4",
   "metadata": {
    "execution": {
     "iopub.execute_input": "2021-10-28T08:34:22.508691Z",
     "iopub.status.busy": "2021-10-28T08:34:22.508360Z",
     "iopub.status.idle": "2021-10-28T08:34:22.529667Z",
     "shell.execute_reply": "2021-10-28T08:34:22.529394Z"
    },
    "papermill": {
     "duration": 0.051384,
     "end_time": "2021-10-28T08:34:22.529743",
     "exception": false,
     "start_time": "2021-10-28T08:34:22.478359",
     "status": "completed"
    },
    "tags": []
   },
   "outputs": [],
   "source": [
    "#data_dir = '../Assets/fc_mats_32smooth_new'\n",
    "data_loader = cvae_data_loader(data_dir=data_dir, df=df, batch_size=32)\n",
    "batch_asd,batch_td,batch_df = data_loader.get_batch()"
   ]
  },
  {
   "cell_type": "code",
   "execution_count": 19,
   "id": "cce95b35",
   "metadata": {
    "execution": {
     "iopub.execute_input": "2021-10-28T08:34:22.572766Z",
     "iopub.status.busy": "2021-10-28T08:34:22.572447Z",
     "iopub.status.idle": "2021-10-28T08:34:22.574993Z",
     "shell.execute_reply": "2021-10-28T08:34:22.575253Z"
    },
    "papermill": {
     "duration": 0.025396,
     "end_time": "2021-10-28T08:34:22.575340",
     "exception": false,
     "start_time": "2021-10-28T08:34:22.549944",
     "status": "completed"
    },
    "tags": []
   },
   "outputs": [
    {
     "data": {
      "text/plain": [
       "(0.11227164436972137, 1.0)"
      ]
     },
     "execution_count": 19,
     "metadata": {},
     "output_type": "execute_result"
    }
   ],
   "source": [
    "(batch_asd.min(),batch_asd.max())"
   ]
  },
  {
   "cell_type": "code",
   "execution_count": 20,
   "id": "a122c523",
   "metadata": {
    "execution": {
     "iopub.execute_input": "2021-10-28T08:34:22.618661Z",
     "iopub.status.busy": "2021-10-28T08:34:22.618339Z",
     "iopub.status.idle": "2021-10-28T08:34:22.620623Z",
     "shell.execute_reply": "2021-10-28T08:34:22.620345Z"
    },
    "papermill": {
     "duration": 0.025391,
     "end_time": "2021-10-28T08:34:22.620693",
     "exception": false,
     "start_time": "2021-10-28T08:34:22.595302",
     "status": "completed"
    },
    "tags": []
   },
   "outputs": [
    {
     "data": {
      "text/plain": [
       "array([1048,   51,   51])"
      ]
     },
     "execution_count": 20,
     "metadata": {},
     "output_type": "execute_result"
    }
   ],
   "source": [
    "data_size = np.hstack((len(df),batch_asd.shape[1:]))\n",
    "data_size"
   ]
  },
  {
   "cell_type": "code",
   "execution_count": null,
   "id": "490a02b5",
   "metadata": {
    "papermill": {
     "duration": 0.019796,
     "end_time": "2021-10-28T08:34:22.660611",
     "exception": false,
     "start_time": "2021-10-28T08:34:22.640815",
     "status": "completed"
    },
    "tags": []
   },
   "outputs": [],
   "source": []
  },
  {
   "cell_type": "code",
   "execution_count": 21,
   "id": "e563e0a9",
   "metadata": {
    "execution": {
     "iopub.execute_input": "2021-10-28T08:34:22.708243Z",
     "iopub.status.busy": "2021-10-28T08:34:22.707238Z",
     "iopub.status.idle": "2021-10-28T08:34:23.016726Z",
     "shell.execute_reply": "2021-10-28T08:34:23.016446Z"
    },
    "papermill": {
     "duration": 0.336243,
     "end_time": "2021-10-28T08:34:23.016804",
     "exception": false,
     "start_time": "2021-10-28T08:34:22.680561",
     "status": "completed"
    },
    "tags": []
   },
   "outputs": [
    {
     "name": "stdout",
     "output_type": "stream",
     "text": [
      "WARNING:tensorflow:Layer zero_padding2d is casting an input tensor from dtype float64 to the layer's dtype of float32, which is new behavior in TensorFlow 2.  The layer has dtype float32 because its dtype defaults to floatx.\n",
      "\n",
      "If you intended to run this layer in float32, you can safely ignore this warning. If in doubt, this warning is likely only an issue if you are porting a TensorFlow 1.X model to TensorFlow 2.\n",
      "\n",
      "To change all layers to have dtype float64 by default, call `tf.keras.backend.set_floatx('float64')`. To change just this layer, pass dtype='float64' to the layer constructor. If you are the author of this layer, you can disable autocasting by passing autocast=False to the base Layer constructor.\n",
      "\n"
     ]
    }
   ],
   "source": [
    "# RSA\n",
    "patients = ~np.isnan(df['ADOS_TOTAL'].values) * (df['DX_GROUP'].values==1) * ~np.isnan(df['FIQ'].values)\n",
    "cdata = np.array([np.load(os.path.join(data_dir,sub+'.npy')) for sub in df['bids_folder'].values[patients]])\n",
    "cdata_pad = pad2d(cdata[:,:,:,np.newaxis]).numpy()[:,:,:,:]\n",
    "\n",
    "def get_batch_RSA():\n",
    "    Z = z_encoder.predict(cdata_pad)\n",
    "    S = s_encoder.predict(cdata_pad)\n",
    "\n",
    "    rdm_z = make_RDM(Z[2])\n",
    "    rdm_s = make_RDM(S[2])\n",
    "\n",
    "    rdm_age = make_RDM(df['AGE_AT_SCAN'].values[patients])\n",
    "    rdm_sex = make_RDM(df['SEX'].values[patients],data_scale='ordinal')\n",
    "    rdm_fiq = make_RDM(df['FIQ'].values[patients])\n",
    "    rdm_dsm = make_RDM(df['DSM_IV_TR'].values[patients],data_scale='ordinal')\n",
    "    rdm_site = make_RDM(df['site'].values[patients],data_scale='ordinal')\n",
    "    rdm_adosTotal = make_RDM(df['ADOS_TOTAL'].values[patients])\n",
    "    \n",
    "    \n",
    "    batch_rsas_s = dict()\n",
    "    batch_rsas_z = dict()\n",
    "    \n",
    "    \n",
    "    batch_rsas_s['Site'] = fit_rsa(rdm_s,rdm_site)\n",
    "    batch_rsas_s['Age'] = fit_rsa(rdm_s,rdm_age)\n",
    "    batch_rsas_s['Sex'] = fit_rsa(rdm_s,rdm_sex)\n",
    "    batch_rsas_s['DSM'] = fit_rsa(rdm_s,rdm_dsm)\n",
    "    batch_rsas_s['ADOS'] = fit_rsa(rdm_s,rdm_adosTotal)\n",
    "    batch_rsas_s['FIQ'] = fit_rsa(rdm_s,rdm_fiq)\n",
    "\n",
    "    batch_rsas_z['Site'] = fit_rsa(rdm_z,rdm_site)\n",
    "    batch_rsas_z['Age'] = fit_rsa(rdm_z,rdm_age)\n",
    "    batch_rsas_z['Sex'] = fit_rsa(rdm_z,rdm_sex)\n",
    "    batch_rsas_z['DSM'] = fit_rsa(rdm_z,rdm_dsm)\n",
    "    batch_rsas_z['ADOS'] = fit_rsa(rdm_z,rdm_adosTotal)\n",
    "    batch_rsas_z['FIQ'] = fit_rsa(rdm_z,rdm_fiq)\n",
    "    \n",
    "    batch_rsas = dict()\n",
    "    batch_rsas['batch_rsas_z'] = batch_rsas_z\n",
    "    batch_rsas['batch_rsas_s'] = batch_rsas_s\n",
    "    \n",
    "    return batch_rsas"
   ]
  },
  {
   "cell_type": "code",
   "execution_count": 22,
   "id": "a9bf5fdc",
   "metadata": {
    "execution": {
     "iopub.execute_input": "2021-10-28T08:34:23.091765Z",
     "iopub.status.busy": "2021-10-28T08:34:23.064108Z",
     "iopub.status.idle": "2021-10-28T08:34:23.093392Z",
     "shell.execute_reply": "2021-10-28T08:34:23.093109Z"
    },
    "papermill": {
     "duration": 0.056238,
     "end_time": "2021-10-28T08:34:23.093462",
     "exception": false,
     "start_time": "2021-10-28T08:34:23.037224",
     "status": "completed"
    },
    "tags": []
   },
   "outputs": [],
   "source": [
    "def cvae_dashboard(red='PCA'):        \n",
    "    #prediction = cvae.predict(patient_batch)    \n",
    "    predictions = cvae.predict([patient_batch,control_batch])\n",
    "    sigma = (np.e ** z_encoder.predict(patient_batch)[1]).mean()\n",
    "    sigmas.append(sigma)\n",
    "\n",
    "    \n",
    "    ss = 6;ff=57\n",
    "    \n",
    "    mu = z_encoder.predict(patient_batch)[0]\n",
    "    mus.append(np.mean([mu[:,0].std() for i in range(mu.shape[1])]))\n",
    "\n",
    "    prediction = predictions[0]\n",
    "\n",
    "    cmat_actual = np.corrcoef(np.vstack((patient_batch[:,ss:ff,ss:ff].reshape(patient_batch.shape[0],-1),control_batch[:,ss:ff,ss:ff].reshape(control_batch.shape[0],-1))))\n",
    "    cmat_pred = np.corrcoef(np.vstack((predictions[0][:,ss:ff,ss:ff,:].reshape(predictions[0].shape[0],-1),predictions[1][:,ss:ff,ss:ff,:].reshape(predictions[1].shape[0],-1))))\n",
    "    c_sim.append(np.corrcoef(get_triu(cmat_pred),get_triu(cmat_actual))[0,1])\n",
    "\n",
    "\n",
    "    ### PROGRESS PLOTTING\n",
    "    display.clear_output(wait=True);\n",
    "    display.display(plt.gcf());\n",
    "    #Organise figure\n",
    "    ncols = 4;nrows=7\n",
    "    if np.mod(i,5)==0:\n",
    "        plt.close()\n",
    "    plt.subplots(nrows,ncols,figsize=(15,15)); # MAKE THE FIGURE\n",
    "\n",
    "\n",
    "    ##### SUBPLOT 1 & 2 ##### \n",
    "\n",
    "    plt.subplot(nrows,ncols/2,1) # PLOT LOSS\n",
    "    xs = np.arange(len(loss))+1\n",
    "    m,b = np.polyfit(xs,loss,deg=1)\n",
    "    plt.plot(loss)\n",
    "    plt.plot(xs, m*xs + b)\n",
    "    plt.title(f'Epoch {data_loader.epoch} batch {data_loader.b}/{data_loader.n_batches} | Loss {loss[-1]:.2f}, beta: {m:.4f}')\n",
    "\n",
    "    ##### SUBPLOT 3 ##### \n",
    "    plt.subplot(nrows,ncols,3) # PLOT LOSS LAST 50\n",
    "    hb = 50\n",
    "    if len(loss)>hb:\n",
    "        plot_loss = loss[-hb::]\n",
    "        xs = np.arange(len(plot_loss))\n",
    "        m,b = np.polyfit(xs,plot_loss,deg=1)\n",
    "        plt.plot(plot_loss)\n",
    "        plt.plot(xs, m*xs + b)\n",
    "        #plt.title(hist)\n",
    "        plt.title(f'Loss last {hb} it, beta {m:.4f}')\n",
    "\n",
    "    ##### SUBPLOT 4 ##### \n",
    "    plt.subplot(nrows,ncols,4)\n",
    "    plt.hist(prediction[0,ss:ff,ss:ff,0].flatten(),alpha=.5)\n",
    "    plt.hist(patient_batch[0,ss:ff,ss:ff].flatten(),alpha=.5)\n",
    "    plt.legend(['predicted','actual'])\n",
    "    plt.title('in/out histograms')\n",
    "\n",
    "    ##### SUBPLOT 5 ##### \n",
    "    plt.subplot(nrows,ncols,5) #RSA over time\n",
    "    plt.plot(c_sim)\n",
    "    plt.title(f'in/out RSA: {c_sim[-1].round(2)}')\n",
    "\n",
    "    if len(c_sim)>5: # PLOT LS LINE\n",
    "        xs = np.arange(len(c_sim))+1\n",
    "        m,b = np.polyfit(xs,c_sim,deg=1)\n",
    "        plt.plot(xs, m*xs + b)\n",
    "        plt.title(f'in/out RSA: {c_sim[-1].round(2)}, b={m:.4f}')\n",
    "\n",
    "\n",
    "    ##### SUBPLOT 6 ##### \n",
    "    plt.subplot(nrows,ncols,6)\n",
    "    if len(c_sim)>hb:\n",
    "        #plot_loss = loss[-hb::]\n",
    "        xs = np.arange(len(c_sim[-hb::]))\n",
    "        m,b = np.polyfit(xs,c_sim[-hb::],deg=1)\n",
    "        plt.plot(c_sim[-hb::])\n",
    "        plt.plot(xs, m*xs + b)\n",
    "        #plt.title(hist)\n",
    "        plt.title(f'in/outRSA last {hb} it, b={m:.4f}')\n",
    "        \n",
    "        \n",
    "        \n",
    "    batch_rsas = get_batch_RSA()\n",
    "    batch_rsas_z = batch_rsas['batch_rsas_z']\n",
    "    batch_rsas_s = batch_rsas['batch_rsas_s']\n",
    "    \n",
    "    # ##### SUBPLOT 7 ##### \n",
    "    plt.subplot(nrows,ncols,7)    \n",
    "    xlbls = list(batch_rsas_z.keys())\n",
    "    xs = np.arange(len(xlbls))\n",
    "    ys = np.array([batch_rsas_z[key] for key in xlbls])\n",
    "    plt.bar(xs,ys)\n",
    "    plt.xticks(xs,labels=xlbls);\n",
    "    plt.title('Z RSA')\n",
    "    \n",
    "    # ##### SUBPLOT 8 ##### \n",
    "    plt.subplot(nrows,ncols,8)    \n",
    "    xlbls = list(batch_rsas_s.keys())\n",
    "    xs = np.arange(len(xlbls))\n",
    "    ys = np.array([batch_rsas_s[key] for key in xlbls])\n",
    "    plt.bar(xs,ys)\n",
    "    plt.xticks(xs,labels=xlbls);\n",
    "    plt.title('S RSA')\n",
    "\n",
    "    ##### SUBPLOT 9 ##### \n",
    "    plt.subplot(nrows,ncols,9)\n",
    "    plt.plot(sigmas)\n",
    "    plt.title(f'sigmas | {sigmas[-1]:.4f}')\n",
    "\n",
    "\n",
    "    ##### SUBPLOT 10 ##### \n",
    "    plt.subplot(nrows,ncols,10)\n",
    "    plt.plot(mus)\n",
    "    plt.title(f'Mu variance {mus[-1]:.4f}')\n",
    "\n",
    "\n",
    "    ##### SUBPLOT 11 ##### \n",
    "    plt.subplot(nrows,ncols,11)\n",
    "    sns.heatmap(cmat_actual,xticklabels=[],yticklabels=[])\n",
    "    plt.title('input RSA')\n",
    "\n",
    "    ##### SUBPLOT 12 ##### \n",
    "    plt.subplot(nrows,ncols,12)\n",
    "    sns.heatmap(cmat_pred,xticklabels=[],yticklabels=[])\n",
    "    plt.title('output RSA')\n",
    "\n",
    "    # #############################################\n",
    "    # ###################Reconstructions###########\n",
    "    # #############################################\n",
    "\n",
    "    ##### SUBPLOT 13 #####     \n",
    "    rand_sub = np.random.randint(low=0,high=patient_batch.shape[0])\n",
    "\n",
    "    plt.subplot(nrows,ncols,13)\n",
    "    sns.heatmap(patient_batch[rand_sub,ss:ff,ss:ff])\n",
    "    plt.xticks([]);plt.yticks([]);plt.title('actual')\n",
    "    ##### SUBPLOT 14 #####     \n",
    "    plt.subplot(nrows,ncols,14)\n",
    "    sns.heatmap(prediction[rand_sub,ss:ff,ss:ff,0])\n",
    "    plt.xticks([]);plt.yticks([]);plt.title('predicted')\n",
    "    # ##### SUBPLOT 15 #####     \n",
    "    plt.subplot(nrows,ncols,15)\n",
    "    sns.heatmap(abs(patient_batch[rand_sub,ss:ff,ss:ff]-prediction[rand_sub,ss:ff,ss:ff,0]))\n",
    "    plt.xticks([]);plt.yticks([]);plt.title('difference')\n",
    "\n",
    "\n",
    "    # ##### SUBPLOT 16 #####                                             \n",
    "    # plt.subplot(nrows,ncols,16)\n",
    "    # plt.imshow(np.rot90(prediction[rand_sub,16,:,:,rand_map]))\n",
    "    # plt.xticks([]);plt.yticks([]);plt.title('predicted')\n",
    "    # ##### SUBPLOT 17 #####     \n",
    "    # plt.subplot(nrows,ncols,17)\n",
    "    # plt.imshow(np.rot90(patient_batch[rand_sub,6,:,:,rand_map]))\n",
    "    # plt.xticks([]);plt.yticks([]);plt.title('actual')\n",
    "    # ##### SUBPLOT 18 #####                                             \n",
    "    # plt.subplot(nrows,ncols,18)\n",
    "    # plt.imshow(np.rot90(prediction[rand_sub,6,:,:,rand_map]))\n",
    "    # plt.xticks([]);plt.yticks([]);plt.title('predicted')\n",
    "    # ##### SUBPLOT 19 #####     \n",
    "    # plt.subplot(nrows,ncols,19)\n",
    "    # plt.imshow(patient_batch[rand_sub,:,:,16,rand_map])\n",
    "    # plt.xticks([]);plt.yticks([]);plt.title('actual')\n",
    "    # ##### SUBPLOT 20 #####     \n",
    "    # plt.subplot(nrows,ncols,20)\n",
    "    # plt.imshow(prediction[rand_sub,:,:,16,rand_map])\n",
    "    # plt.xticks([]);plt.yticks([]);plt.title('predicted')\n",
    "\n",
    "\n",
    "    # #############################################\n",
    "    # ################### LOSSES ##################\n",
    "    # #############################################\n",
    "\n",
    "\n",
    "    predictions = cvae.predict([patient_batch,control_batch])\n",
    "    input_shape = data_size[1:]\n",
    "    reconstruction_loss = tf.keras.losses.mse(K.flatten(patient_batch[:,ss:ff,ss:ff]), K.flatten(predictions[0][:,ss:ff,ss:ff,0])) \n",
    "    reconstruction_loss += tf.keras.losses.mse(K.flatten(control_batch[:,ss:ff,ss:ff]), K.flatten(predictions[1][:,ss:ff,ss:ff,0])) \n",
    "    reconstruction_loss *= input_shape[0] * input_shape[1]\n",
    "\n",
    "\n",
    "    tg_z_mean, tg_z_log_var, tg_z = z_encoder.predict(patient_batch)\n",
    "    tg_s_mean, tg_s_log_var, tg_s = s_encoder.predict(patient_batch)\n",
    "    bg_z_mean, bg_z_log_var, bg_z = z_encoder.predict(control_batch)\n",
    "\n",
    "    kl_loss1 = 1 + tg_z_log_var - tf.keras.backend.square(tg_z_mean) - tf.keras.backend.exp(tg_z_log_var)\n",
    "    kl_loss2 = 1 + tg_s_log_var - tf.keras.backend.square(tg_s_mean) - tf.keras.backend.exp(tg_s_log_var)\n",
    "    kl_loss3 = 1 + bg_z_log_var - tf.keras.backend.square(bg_z_mean) - tf.keras.backend.exp(bg_z_log_var)\n",
    "\n",
    "    kl_loss1 = tf.keras.backend.sum(kl_loss1, axis=-1)\n",
    "    kl_loss2 = tf.keras.backend.sum(kl_loss2, axis=-1)\n",
    "    kl_loss3 = tf.keras.backend.sum(kl_loss3, axis=-1)\n",
    "    kl_loss = kl_loss1+kl_loss2+kl_loss3\n",
    "    kl_loss *= -0.5\n",
    "\n",
    "\n",
    "    discriminator = Dense(1, activation='sigmoid')\n",
    "    z1 = Lambda(lambda x: x[:int(batch_size/2),:])(tg_z)\n",
    "    z2 = Lambda(lambda x: x[int(batch_size/2):,:])(tg_z)\n",
    "    s1 = Lambda(lambda x: x[:int(batch_size/2),:])(tg_s)\n",
    "    s2 = Lambda(lambda x: x[int(batch_size/2):,:])(tg_s)\n",
    "\n",
    "    q_bar = tf.keras.layers.concatenate(\n",
    "      [tf.keras.layers.concatenate([s1, z2], axis=1),\n",
    "      tf.keras.layers.concatenate([s2, z1], axis=1)],\n",
    "      axis=0)\n",
    "\n",
    "    q = tf.keras.layers.concatenate(\n",
    "      [tf.keras.layers.concatenate([s1, z1], axis=1),\n",
    "      tf.keras.layers.concatenate([s2, z2], axis=1)],\n",
    "      axis=0)\n",
    "\n",
    "    q_bar_score = (discriminator(q_bar)+.1) *.85 # +.1 * .85 so that it's 0<x<1\n",
    "    q_score = (discriminator(q)+.1) *.85 \n",
    "    tc_loss = K.log(q_score / (1 - q_score)) \n",
    "    discriminator_loss = - K.log(q_score) - K.log(1 - q_bar_score)\n",
    "    discriminator_loss\n",
    "\n",
    "    loss_mse.append(reconstruction_loss.numpy())\n",
    "    loss_kl.append(kl_loss.numpy().mean())\n",
    "    loss_dc.append(tc_loss.numpy().mean())\n",
    "    loss_tc.append(discriminator_loss.numpy().mean())\n",
    "\n",
    "\n",
    "    plt.subplot(nrows,ncols,21) # MSE \n",
    "    plt.plot(loss_mse)\n",
    "    plt.title(f'MSE | {loss_mse[-1]:.4f}')\n",
    "\n",
    "    plt.subplot(nrows,ncols,22) # KL loss\n",
    "    plt.plot(loss_kl)\n",
    "    plt.title(f'KL | {loss_kl[-1]:.4f}')    \n",
    "\n",
    "\n",
    "    plt.subplot(nrows,ncols,23) # TC     \n",
    "    plt.plot(loss_tc)\n",
    "    plt.title(f'Total Correlation loss | {loss_tc[-1]:.4f}')    \n",
    "\n",
    "\n",
    "    plt.subplot(nrows,ncols,24) # Disc         \n",
    "    plt.plot(loss_dc)\n",
    "    plt.title(f'discriminator_loss | {loss_dc[-1]:.4f}')    \n",
    "\n",
    "\n",
    "    tg_s = s_encoder.predict(patient_batch)\n",
    "    tg_z = z_encoder.predict(patient_batch)\n",
    "    bg_z = z_encoder.predict(control_batch)\n",
    "\n",
    "    plt.subplot(nrows,ncols,25)\n",
    "    plt.hist(tg_s[2].flatten(),alpha=.5);\n",
    "    plt.hist(tg_z[2].flatten(),alpha=.5);\n",
    "    plt.hist(bg_z[2].flatten(),alpha=.5);\n",
    "    plt.legend(['tg_s','tg_z','bg_z'])\n",
    "    plt.title('Z')\n",
    "\n",
    "\n",
    "    plt.subplot(nrows,ncols,26)\n",
    "    plt.hist(tg_s[0].flatten(),alpha=.5);\n",
    "    plt.hist(tg_z[0].flatten(),alpha=.5);\n",
    "    plt.hist(bg_z[0].flatten(),alpha=.5);\n",
    "    plt.legend(['tg_s','tg_z','bg_z'])\n",
    "    plt.title('Mus')\n",
    "\n",
    "\n",
    "    plt.subplot(nrows,ncols,27)\n",
    "    plt.hist(tg_s[1].flatten(),alpha=.5);\n",
    "    plt.hist(tg_z[1].flatten(),alpha=.5);\n",
    "    plt.hist(bg_z[1].flatten(),alpha=.5);\n",
    "    plt.legend(['tg_s','tg_z','bg_z'])\n",
    "    plt.title('Sigmas')\n",
    "\n",
    "    plt.tight_layout()\n",
    "    plt.show()\n",
    "    sys.stdout.flush()"
   ]
  },
  {
   "cell_type": "code",
   "execution_count": 23,
   "id": "c439ef4c",
   "metadata": {
    "execution": {
     "iopub.execute_input": "2021-10-28T08:34:23.161546Z",
     "iopub.status.busy": "2021-10-28T08:34:23.157964Z",
     "iopub.status.idle": "2021-10-28T08:34:23.163215Z",
     "shell.execute_reply": "2021-10-28T08:34:23.162940Z"
    },
    "papermill": {
     "duration": 0.048498,
     "end_time": "2021-10-28T08:34:23.163289",
     "exception": false,
     "start_time": "2021-10-28T08:34:23.114791",
     "status": "completed"
    },
    "tags": []
   },
   "outputs": [],
   "source": [
    "import tensorflow as tf\n",
    "import numpy as np\n",
    "import matplotlib.pyplot as plt\n",
    "from sklearn.metrics import silhouette_score\n",
    "from tensorflow.keras.layers import *\n",
    "from tensorflow.keras import backend as K\n",
    "from tensorflow.keras.models import Model\n",
    "from tensorflow.keras.losses import mse\n",
    "import os\n",
    "import pandas as pd\n",
    "\n",
    "def get_fMRI_CVAE_3D(input_shape=(51,51,1),\n",
    "                     latent_dim=[2,2],\n",
    "                     beta=1,\n",
    "                     disentangle=False,\n",
    "                     gamma=1,\n",
    "                     bias=True,\n",
    "                     batch_size = 32,\n",
    "                     kernel_size = 3,\n",
    "                     filters = 16,\n",
    "                     intermediate_dim = 128,\n",
    "                     nlayers = 2,\n",
    "                     learning_rate=0.001,\n",
    "                     opt=None):\n",
    "    \n",
    "    \n",
    "    ndim_bg = latent_dim[0]\n",
    "    ndim_sl = latent_dim[1]\n",
    "    \n",
    "    image_size, _, channels = input_shape\n",
    "\n",
    "    kernel_regularizer=regularizers.l2(.0001)\n",
    "\n",
    "    # build encoder model\n",
    "    tg_inputs = Input(shape=input_shape, name='tg_inputs')\n",
    "    bg_inputs = Input(shape=input_shape, name='bg_inputs')\n",
    "    \n",
    "    BatchNorm = tf.keras.layers.BatchNormalization(\n",
    "    axis=-1, momentum=0.99, epsilon=0.001, center=True, scale=True,\n",
    "    beta_initializer='zeros', gamma_initializer='ones',\n",
    "    moving_mean_initializer='zeros',\n",
    "    moving_variance_initializer='ones', beta_regularizer=None,\n",
    "    gamma_regularizer=None, beta_constraint=None, gamma_constraint=None)\n",
    "\n",
    "    #kernel_initializer = tf.keras.initializers.RandomNormal(mean=0.0,stddev=5)\n",
    "    kernel_initializer = tf.keras.initializers.RandomUniform()\n",
    "\n",
    "    # generate latent vector Q(z|X)\n",
    "    \n",
    "    \n",
    "    z_h_layer = Dense(intermediate_dim,activation='relu', use_bias=bias,kernel_regularizer=kernel_regularizer)\n",
    "    z_mean_layer = Dense(ndim_bg, name='z_mean', use_bias=bias,kernel_regularizer=kernel_regularizer)\n",
    "    z_log_var_layer = Dense(ndim_bg, name='z_log_var', use_bias=bias,kernel_regularizer=kernel_regularizer)\n",
    "    z_layer = Lambda(sampling, output_shape=(ndim_bg,), name='z')\n",
    "\n",
    "    def z_encoder_func(inputs):\n",
    "        z_h = inputs\n",
    "\n",
    "        these_filters = filters\n",
    "        for i in range(nlayers):\n",
    "            these_filters *= 2\n",
    "            #print(these_filters)\n",
    "            z_h = Conv2D(filters=these_filters,\n",
    "                    kernel_size=kernel_size,\n",
    "                    activation='relu',\n",
    "                    strides=2,\n",
    "                    padding='same',\n",
    "                    use_bias=bias,\n",
    "                    kernel_regularizer=kernel_regularizer)(z_h)\n",
    "        \n",
    "        # shape info needed to build decoder model\n",
    "        shape = K.int_shape(z_h)\n",
    "        z_h = Flatten()(z_h)\n",
    "        z_h = z_h_layer(z_h)\n",
    "        z_mean =  z_mean_layer(z_h)\n",
    "        #z_mean = BatchNorm(z_mean)\n",
    "        \n",
    "        z_log_var =  z_log_var_layer(z_h)\n",
    "        z = z_layer([z_mean, z_log_var])\n",
    "        return z_mean, z_log_var, z, shape\n",
    "\n",
    "    tg_z_mean, tg_z_log_var, tg_z, shape_z = z_encoder_func(tg_inputs)\n",
    "\n",
    "    # generate latent vector Q(z|X)\n",
    "    s_h_layer = Dense(intermediate_dim, activation='relu', use_bias=bias,kernel_regularizer=kernel_regularizer)\n",
    "    s_mean_layer = Dense(ndim_sl, name='s_mean', use_bias=bias,kernel_regularizer=kernel_regularizer)\n",
    "    s_log_var_layer = Dense(ndim_sl, name='s_log_var', use_bias=bias,kernel_regularizer=kernel_regularizer)\n",
    "    s_layer = Lambda(sampling, output_shape=(ndim_sl,), name='s')\n",
    "\n",
    "    def s_encoder_func(inputs):\n",
    "        s_h = inputs\n",
    "        these_filters = filters\n",
    "        for i in range(nlayers):\n",
    "            these_filters *= 2\n",
    "            s_h = Conv2D(filters=these_filters,\n",
    "                    kernel_size=kernel_size,\n",
    "                    activation='relu',\n",
    "                    strides=2,\n",
    "                    use_bias=bias,\n",
    "                    kernel_regularizer=kernel_regularizer,\n",
    "                    padding='same')(s_h)\n",
    "        \n",
    "        # shape info needed to build decoder model\n",
    "        shape = K.int_shape(s_h)\n",
    "        s_h = Flatten()(s_h)\n",
    "        s_h = s_h_layer(s_h)\n",
    "        s_mean =  s_mean_layer(s_h)\n",
    "        #s_mean = BatchNorm(s_mean)\n",
    "        \n",
    "        s_log_var =  s_log_var_layer(s_h)        \n",
    "        s = s_layer([s_mean, s_log_var])\n",
    "        \n",
    "        return s_mean, s_log_var, s, shape\n",
    "\n",
    "    tg_s_mean, tg_s_log_var, tg_s, shape_s = s_encoder_func(tg_inputs)\n",
    "    bg_z_mean, bg_z_log_var, bg_z, _ = z_encoder_func(bg_inputs) # Aidas and Stefano team hax\n",
    "    \n",
    "    \n",
    "    # instantiate encoder models\n",
    "    z_encoder = tf.keras.models.Model(tg_inputs, [tg_z_mean, tg_z_log_var, tg_z], name='z_encoder')\n",
    "    s_encoder = tf.keras.models.Model(tg_inputs, [tg_s_mean, tg_s_log_var, tg_s], name='s_encoder')\n",
    "\n",
    "\n",
    "    # build decoder model\n",
    "    latent_inputs = Input(shape=(ndim_bg+ndim_sl,), name='z_sampling')\n",
    "\n",
    "    x = Dense(intermediate_dim, activation='relu', use_bias=bias,kernel_regularizer=kernel_regularizer,kernel_initializer=kernel_initializer)(latent_inputs)\n",
    "    x = Dense(shape_z[1] * shape_z[2] * shape_z[3], activation='relu', use_bias=bias,kernel_regularizer=kernel_regularizer,kernel_initializer=kernel_initializer)(x)\n",
    "    x = Reshape((shape_z[1], shape_z[2], shape_z[3]))(x)\n",
    "\n",
    "    these_filters = filters*(2**nlayers)/2\n",
    "    for i in range(nlayers-1):\n",
    "        x = Conv2DTranspose(filters=these_filters,\n",
    "                          kernel_size=kernel_size,\n",
    "                          activation='relu',\n",
    "                          strides=2,\n",
    "                          use_bias=bias,\n",
    "                          kernel_regularizer=kernel_regularizer,\n",
    "                          padding='same')(x)\n",
    "        these_filters //= 2\n",
    "\n",
    "    outputs = Conv2DTranspose(filters=channels,\n",
    "                            kernel_size=kernel_size,\n",
    "                            activation='sigmoid',\n",
    "                            padding='same',\n",
    "                            strides=2,\n",
    "                            use_bias=bias,\n",
    "                            kernel_regularizer=kernel_regularizer,\n",
    "                            name='decoder_output')(x)\n",
    "\n",
    "    # instantiate decoder model\n",
    "    cvae_decoder = Model(latent_inputs, outputs, name='decoder')\n",
    "      # decoder.summary()\n",
    "\n",
    "    def zeros_like(x):\n",
    "        return tf.zeros_like(x)\n",
    "\n",
    "    tg_outputs = cvae_decoder(tf.keras.layers.concatenate([tg_z, tg_s], -1))\n",
    "    zeros = tf.keras.layers.Lambda(zeros_like)(tg_s)\n",
    "\n",
    "    bg_outputs = cvae_decoder(tf.keras.layers.concatenate([bg_z, zeros], -1)) # Aidas look into this, is this correct\n",
    "\n",
    "    cvae = tf.keras.models.Model(inputs=[tg_inputs, bg_inputs], \n",
    "                                  outputs=[tg_outputs, bg_outputs],\n",
    "                                  name='contrastive_vae')\n",
    "\n",
    "#     cvae_fg = tf.keras.models.Model(inputs=tg_inputs, \n",
    "#                                   outputs=fg_outputs, \n",
    "#                                   name='contrastive_vae_fg')\n",
    "\n",
    "    if disentangle:\n",
    "        discriminator = Dense(1, activation='sigmoid')\n",
    "\n",
    "        z1 = Lambda(lambda x: x[:int(batch_size/2),:])(tg_z)\n",
    "        z2 = Lambda(lambda x: x[int(batch_size/2):,:])(tg_z)\n",
    "        s1 = Lambda(lambda x: x[:int(batch_size/2),:])(tg_s)\n",
    "        s2 = Lambda(lambda x: x[int(batch_size/2):,:])(tg_s)\n",
    "\n",
    "        q_bar = tf.keras.layers.concatenate(\n",
    "          [tf.keras.layers.concatenate([s1, z2], axis=1),\n",
    "          tf.keras.layers.concatenate([s2, z1], axis=1)],\n",
    "          axis=0)\n",
    "\n",
    "        q = tf.keras.layers.concatenate(\n",
    "          [tf.keras.layers.concatenate([s1, z1], axis=1),\n",
    "          tf.keras.layers.concatenate([s2, z2], axis=1)],\n",
    "          axis=0)\n",
    "\n",
    "        q_bar_score = (discriminator(q_bar)+.1) *.85 # +.1 * .85 so that it's 0<x<1\n",
    "        q_score = (discriminator(q)+.1) *.85 \n",
    "        tc_loss = K.log(q_score / (1 - q_score)) \n",
    "        discriminator_loss = - K.log(q_score) - K.log(1 - q_bar_score)\n",
    "    else:\n",
    "        tc_loss = 0\n",
    "        discriminator_loss = 0\n",
    "\n",
    "\n",
    "    reconstruction_loss = tf.keras.losses.mse(K.flatten(tg_inputs[:,6:57,6:57,:]), K.flatten(tg_outputs[:,6:57,6:57,:])) \n",
    "    reconstruction_loss += tf.keras.losses.mse(K.flatten(bg_inputs[:,6:57,6:57,:]), K.flatten(bg_outputs[:,6:57,6:57,:])) \n",
    "    reconstruction_loss *= input_shape[0] * input_shape[1] * input_shape[2]\n",
    "\n",
    "    kl_loss1 = 1 + tg_z_log_var - tf.keras.backend.square(tg_z_mean) - tf.keras.backend.exp(tg_z_log_var)\n",
    "    kl_loss2 = 1 + tg_s_log_var - tf.keras.backend.square(tg_s_mean) - tf.keras.backend.exp(tg_s_log_var)\n",
    "    kl_loss3 = 1 + bg_z_log_var - tf.keras.backend.square(bg_z_mean) - tf.keras.backend.exp(bg_z_log_var)\n",
    "\n",
    "    kl_loss1 = tf.keras.backend.sum(kl_loss1, axis=-1)\n",
    "    kl_loss2 = tf.keras.backend.sum(kl_loss2, axis=-1)\n",
    "    kl_loss3 = tf.keras.backend.sum(kl_loss3, axis=-1)\n",
    "\n",
    "    kl_loss = kl_loss1+kl_loss2+kl_loss3\n",
    "    #kl_loss = tf.keras.backend.sum(kl_loss, axis=-1)\n",
    "    kl_loss *= -0.5\n",
    "    \n",
    "    cvae_loss = tf.keras.backend.mean(reconstruction_loss + beta*kl_loss + gamma*tc_loss + discriminator_loss)\n",
    "    cvae.add_loss(cvae_loss)\n",
    "    \n",
    "    if type(opt)==type(None):\n",
    "        #print('optimizer not specified using ADAM, wroom wroom')\n",
    "        opt = tf.keras.optimizers.Adam(learning_rate=learning_rate,beta_1=0.9,beta_2=0.999,epsilon=1e-07,amsgrad=False,name='Adam')\n",
    "        #opt = tf.keras.optimizers.RMSprop(learning_rate=0.001, rho=0.9, momentum=0.9, epsilon=1e-07, centered=False, name='RMSprop')\n",
    "        #opt = tf.keras.optimizers.SGD(learning_rate=0.001, momentum=0.1, nesterov=False, name='SGD')\n",
    "\n",
    "\n",
    "    cvae.compile(optimizer=opt,run_eagerly=True)\n",
    "    \n",
    "    return cvae, z_encoder, s_encoder, cvae_decoder"
   ]
  },
  {
   "cell_type": "code",
   "execution_count": 24,
   "id": "ebe6a9e2",
   "metadata": {
    "execution": {
     "iopub.execute_input": "2021-10-28T08:34:23.213053Z",
     "iopub.status.busy": "2021-10-28T08:34:23.212727Z",
     "iopub.status.idle": "2021-10-28T08:34:23.744452Z",
     "shell.execute_reply": "2021-10-28T08:34:23.744155Z"
    },
    "papermill": {
     "duration": 0.560607,
     "end_time": "2021-10-28T08:34:23.744529",
     "exception": false,
     "start_time": "2021-10-28T08:34:23.183922",
     "status": "completed"
    },
    "tags": []
   },
   "outputs": [
    {
     "name": "stdout",
     "output_type": "stream",
     "text": [
      "# params| 1,189,730\n"
     ]
    }
   ],
   "source": [
    "#import make_models;reload(make_models);from make_models import *\n",
    "\n",
    "batch_size = 32\n",
    "cvae, z_encoder, s_encoder, cvae_decoder = get_fMRI_CVAE_3D(input_shape=(64,64,1),\n",
    "                                                             latent_dim=[16,16],\n",
    "                                                             beta=1,\n",
    "                                                             gamma=10,\n",
    "                                                             disentangle=True,\n",
    "                                                             bias=True,\n",
    "                                                             batch_size = batch_size,\n",
    "                                                             kernel_size = 3,\n",
    "                                                             filters = 8,\n",
    "                                                             intermediate_dim = 128,\n",
    "                                                             nlayers = 4,\n",
    "                                                             learning_rate=0.001,\n",
    "                                                             opt=None)\n",
    "\n",
    "num_params = np.sum([np.prod(val.get_shape()) for val in cvae.trainable_weights])\n",
    "print(f'# params| {num_params:,}')"
   ]
  },
  {
   "cell_type": "code",
   "execution_count": 25,
   "id": "3bd99b13",
   "metadata": {
    "execution": {
     "iopub.execute_input": "2021-10-28T08:34:23.790010Z",
     "iopub.status.busy": "2021-10-28T08:34:23.789701Z",
     "iopub.status.idle": "2021-10-28T08:34:23.792266Z",
     "shell.execute_reply": "2021-10-28T08:34:23.791985Z"
    },
    "papermill": {
     "duration": 0.026431,
     "end_time": "2021-10-28T08:34:23.792338",
     "exception": false,
     "start_time": "2021-10-28T08:34:23.765907",
     "status": "completed"
    },
    "tags": []
   },
   "outputs": [
    {
     "data": {
      "text/plain": [
       "(1048, 51, 51)"
      ]
     },
     "execution_count": 25,
     "metadata": {},
     "output_type": "execute_result"
    }
   ],
   "source": [
    "tuple(data_size)"
   ]
  },
  {
   "cell_type": "code",
   "execution_count": 26,
   "id": "36b3f244",
   "metadata": {
    "execution": {
     "iopub.execute_input": "2021-10-28T08:34:23.836381Z",
     "iopub.status.busy": "2021-10-28T08:34:23.836047Z",
     "iopub.status.idle": "2021-10-28T08:34:23.840964Z",
     "shell.execute_reply": "2021-10-28T08:34:23.841225Z"
    },
    "papermill": {
     "duration": 0.028487,
     "end_time": "2021-10-28T08:34:23.841315",
     "exception": false,
     "start_time": "2021-10-28T08:34:23.812828",
     "status": "completed"
    },
    "tags": []
   },
   "outputs": [
    {
     "name": "stdout",
     "output_type": "stream",
     "text": [
      "Model: \"z_encoder\"\n",
      "______________________________________________________________________________________________________________________________________________________\n",
      "Layer (type)                                     Output Shape                     Param #           Connected to                                      \n",
      "======================================================================================================================================================\n",
      "tg_inputs (InputLayer)                           [(None, 64, 64, 1)]              0                                                                   \n",
      "______________________________________________________________________________________________________________________________________________________\n",
      "conv2d (Conv2D)                                  (None, 32, 32, 16)               160               tg_inputs[0][0]                                   \n",
      "______________________________________________________________________________________________________________________________________________________\n",
      "conv2d_1 (Conv2D)                                (None, 16, 16, 32)               4640              conv2d[0][0]                                      \n",
      "______________________________________________________________________________________________________________________________________________________\n",
      "conv2d_2 (Conv2D)                                (None, 8, 8, 64)                 18496             conv2d_1[0][0]                                    \n",
      "______________________________________________________________________________________________________________________________________________________\n",
      "conv2d_3 (Conv2D)                                (None, 4, 4, 128)                73856             conv2d_2[0][0]                                    \n",
      "______________________________________________________________________________________________________________________________________________________\n",
      "flatten (Flatten)                                (None, 2048)                     0                 conv2d_3[0][0]                                    \n",
      "______________________________________________________________________________________________________________________________________________________\n",
      "dense (Dense)                                    (None, 128)                      262272            flatten[0][0]                                     \n",
      "______________________________________________________________________________________________________________________________________________________\n",
      "z_mean (Dense)                                   (None, 16)                       2064              dense[0][0]                                       \n",
      "______________________________________________________________________________________________________________________________________________________\n",
      "z_log_var (Dense)                                (None, 16)                       2064              dense[0][0]                                       \n",
      "______________________________________________________________________________________________________________________________________________________\n",
      "z (Lambda)                                       (None, 16)                       0                 z_mean[0][0]                                      \n",
      "                                                                                                    z_log_var[0][0]                                   \n",
      "======================================================================================================================================================\n",
      "Total params: 363,552\n",
      "Trainable params: 363,552\n",
      "Non-trainable params: 0\n",
      "______________________________________________________________________________________________________________________________________________________\n"
     ]
    }
   ],
   "source": [
    "z_encoder.summary(line_length=150)"
   ]
  },
  {
   "cell_type": "code",
   "execution_count": 27,
   "id": "e909a52d",
   "metadata": {
    "execution": {
     "iopub.execute_input": "2021-10-28T08:34:23.885616Z",
     "iopub.status.busy": "2021-10-28T08:34:23.885231Z",
     "iopub.status.idle": "2021-10-28T08:34:23.890222Z",
     "shell.execute_reply": "2021-10-28T08:34:23.889943Z"
    },
    "papermill": {
     "duration": 0.028199,
     "end_time": "2021-10-28T08:34:23.890298",
     "exception": false,
     "start_time": "2021-10-28T08:34:23.862099",
     "status": "completed"
    },
    "tags": []
   },
   "outputs": [
    {
     "name": "stdout",
     "output_type": "stream",
     "text": [
      "Model: \"s_encoder\"\n",
      "______________________________________________________________________________________________________________________________________________________\n",
      "Layer (type)                                     Output Shape                     Param #           Connected to                                      \n",
      "======================================================================================================================================================\n",
      "tg_inputs (InputLayer)                           [(None, 64, 64, 1)]              0                                                                   \n",
      "______________________________________________________________________________________________________________________________________________________\n",
      "conv2d_4 (Conv2D)                                (None, 32, 32, 16)               160               tg_inputs[0][0]                                   \n",
      "______________________________________________________________________________________________________________________________________________________\n",
      "conv2d_5 (Conv2D)                                (None, 16, 16, 32)               4640              conv2d_4[0][0]                                    \n",
      "______________________________________________________________________________________________________________________________________________________\n",
      "conv2d_6 (Conv2D)                                (None, 8, 8, 64)                 18496             conv2d_5[0][0]                                    \n",
      "______________________________________________________________________________________________________________________________________________________\n",
      "conv2d_7 (Conv2D)                                (None, 4, 4, 128)                73856             conv2d_6[0][0]                                    \n",
      "______________________________________________________________________________________________________________________________________________________\n",
      "flatten_1 (Flatten)                              (None, 2048)                     0                 conv2d_7[0][0]                                    \n",
      "______________________________________________________________________________________________________________________________________________________\n",
      "dense_1 (Dense)                                  (None, 128)                      262272            flatten_1[0][0]                                   \n",
      "______________________________________________________________________________________________________________________________________________________\n",
      "s_mean (Dense)                                   (None, 16)                       2064              dense_1[0][0]                                     \n",
      "______________________________________________________________________________________________________________________________________________________\n",
      "s_log_var (Dense)                                (None, 16)                       2064              dense_1[0][0]                                     \n",
      "______________________________________________________________________________________________________________________________________________________\n",
      "s (Lambda)                                       (None, 16)                       0                 s_mean[0][0]                                      \n",
      "                                                                                                    s_log_var[0][0]                                   \n",
      "======================================================================================================================================================\n",
      "Total params: 363,552\n",
      "Trainable params: 363,552\n",
      "Non-trainable params: 0\n",
      "______________________________________________________________________________________________________________________________________________________\n"
     ]
    }
   ],
   "source": [
    "s_encoder.summary(line_length=150)"
   ]
  },
  {
   "cell_type": "code",
   "execution_count": 28,
   "id": "85fbb7d1",
   "metadata": {
    "execution": {
     "iopub.execute_input": "2021-10-28T08:34:23.935305Z",
     "iopub.status.busy": "2021-10-28T08:34:23.934974Z",
     "iopub.status.idle": "2021-10-28T08:34:23.939177Z",
     "shell.execute_reply": "2021-10-28T08:34:23.939443Z"
    },
    "papermill": {
     "duration": 0.028561,
     "end_time": "2021-10-28T08:34:23.939526",
     "exception": false,
     "start_time": "2021-10-28T08:34:23.910965",
     "status": "completed"
    },
    "tags": []
   },
   "outputs": [
    {
     "name": "stdout",
     "output_type": "stream",
     "text": [
      "Model: \"decoder\"\n",
      "______________________________________________________________________________________________________________________________________________________\n",
      "Layer (type)                                                       Output Shape                                                Param #                \n",
      "======================================================================================================================================================\n",
      "z_sampling (InputLayer)                                            [(None, 32)]                                                0                      \n",
      "______________________________________________________________________________________________________________________________________________________\n",
      "dense_2 (Dense)                                                    (None, 128)                                                 4224                   \n",
      "______________________________________________________________________________________________________________________________________________________\n",
      "dense_3 (Dense)                                                    (None, 2048)                                                264192                 \n",
      "______________________________________________________________________________________________________________________________________________________\n",
      "reshape (Reshape)                                                  (None, 4, 4, 128)                                           0                      \n",
      "______________________________________________________________________________________________________________________________________________________\n",
      "conv2d_transpose (Conv2DTranspose)                                 (None, 8, 8, 64)                                            73792                  \n",
      "______________________________________________________________________________________________________________________________________________________\n",
      "conv2d_transpose_1 (Conv2DTranspose)                               (None, 16, 16, 32)                                          18464                  \n",
      "______________________________________________________________________________________________________________________________________________________\n",
      "conv2d_transpose_2 (Conv2DTranspose)                               (None, 32, 32, 16)                                          4624                   \n",
      "______________________________________________________________________________________________________________________________________________________\n",
      "decoder_output (Conv2DTranspose)                                   (None, 64, 64, 1)                                           145                    \n",
      "======================================================================================================================================================\n",
      "Total params: 365,441\n",
      "Trainable params: 365,441\n",
      "Non-trainable params: 0\n",
      "______________________________________________________________________________________________________________________________________________________\n"
     ]
    }
   ],
   "source": [
    "cvae_decoder.summary(line_length=150)"
   ]
  },
  {
   "cell_type": "code",
   "execution_count": 29,
   "id": "6717d858",
   "metadata": {
    "execution": {
     "iopub.execute_input": "2021-10-28T08:34:23.986318Z",
     "iopub.status.busy": "2021-10-28T08:34:23.985994Z",
     "iopub.status.idle": "2021-10-28T08:34:23.987538Z",
     "shell.execute_reply": "2021-10-28T08:34:23.987794Z"
    },
    "papermill": {
     "duration": 0.026201,
     "end_time": "2021-10-28T08:34:23.987878",
     "exception": false,
     "start_time": "2021-10-28T08:34:23.961677",
     "status": "completed"
    },
    "tags": []
   },
   "outputs": [],
   "source": [
    "loss,all_rsas,sigmas,mus,c_sim = [],[],[],[],[]"
   ]
  },
  {
   "cell_type": "code",
   "execution_count": 30,
   "id": "5c9a98c4",
   "metadata": {
    "execution": {
     "iopub.execute_input": "2021-10-28T08:34:24.035211Z",
     "iopub.status.busy": "2021-10-28T08:34:24.034892Z",
     "iopub.status.idle": "2021-10-28T08:34:24.036716Z",
     "shell.execute_reply": "2021-10-28T08:34:24.036443Z"
    },
    "papermill": {
     "duration": 0.026825,
     "end_time": "2021-10-28T08:34:24.036784",
     "exception": false,
     "start_time": "2021-10-28T08:34:24.009959",
     "status": "completed"
    },
    "tags": []
   },
   "outputs": [],
   "source": [
    "loss_mse,loss_kl,loss_dc,loss_tc = [],[],[],[]"
   ]
  },
  {
   "cell_type": "code",
   "execution_count": 31,
   "id": "59190a2f",
   "metadata": {
    "execution": {
     "iopub.execute_input": "2021-10-28T08:34:24.085142Z",
     "iopub.status.busy": "2021-10-28T08:34:24.084822Z",
     "iopub.status.idle": "2021-10-28T08:34:24.086693Z",
     "shell.execute_reply": "2021-10-28T08:34:24.086386Z"
    },
    "papermill": {
     "duration": 0.027157,
     "end_time": "2021-10-28T08:34:24.086762",
     "exception": false,
     "start_time": "2021-10-28T08:34:24.059605",
     "status": "completed"
    },
    "tags": []
   },
   "outputs": [],
   "source": [
    "data_loader = cvae_data_loader(data_dir=data_dir, df=df, batch_size=batch_size)"
   ]
  },
  {
   "cell_type": "code",
   "execution_count": 32,
   "id": "de4e8932",
   "metadata": {
    "execution": {
     "iopub.execute_input": "2021-10-28T08:34:24.134191Z",
     "iopub.status.busy": "2021-10-28T08:34:24.133874Z",
     "iopub.status.idle": "2021-10-28T08:34:24.135890Z",
     "shell.execute_reply": "2021-10-28T08:34:24.136150Z"
    },
    "papermill": {
     "duration": 0.027062,
     "end_time": "2021-10-28T08:34:24.136229",
     "exception": false,
     "start_time": "2021-10-28T08:34:24.109167",
     "status": "completed"
    },
    "tags": []
   },
   "outputs": [
    {
     "data": {
      "text/plain": [
       "16"
      ]
     },
     "execution_count": 32,
     "metadata": {},
     "output_type": "execute_result"
    }
   ],
   "source": [
    "data_loader.n_batches"
   ]
  },
  {
   "cell_type": "code",
   "execution_count": 33,
   "id": "03f5bda1",
   "metadata": {
    "execution": {
     "iopub.execute_input": "2021-10-28T08:34:24.187593Z",
     "iopub.status.busy": "2021-10-28T08:34:24.187262Z"
    },
    "papermill": {
     "duration": null,
     "end_time": null,
     "exception": false,
     "start_time": "2021-10-28T08:34:24.158915",
     "status": "running"
    },
    "tags": []
   },
   "outputs": [
    {
     "data": {
      "text/plain": [
       "<Figure size 432x288 with 0 Axes>"
      ]
     },
     "metadata": {},
     "output_type": "display_data"
    },
    {
     "name": "stderr",
     "output_type": "stream",
     "text": [
      "<ipython-input-22-8b4cb46a7f77>:32: MatplotlibDeprecationWarning: Passing non-integers as three-element position specification is deprecated since 3.3 and will be removed two minor releases later.\n",
      "  plt.subplot(nrows,ncols/2,1) # PLOT LOSS\n"
     ]
    },
    {
     "data": {
      "image/png": "[encoded data removed]",
      "text/plain": [
       "<Figure size 1080x1080 with 32 Axes>"
      ]
     },
     "metadata": {
      "needs_background": "light"
     },
     "output_type": "display_data"
    },
    {
     "name": "stderr",
     "output_type": "stream",
     "text": [
      "\r",
      " 33%|███▎      | 1651/5001 [36:28<2:14:23,  2.41s/it]"
     ]
    },
    {
     "name": "stderr",
     "output_type": "stream",
     "text": [
      "\r",
      " 33%|███▎      | 1652/5001 [36:29<1:52:26,  2.01s/it]"
     ]
    },
    {
     "name": "stderr",
     "output_type": "stream",
     "text": [
      "\r",
      " 33%|███▎      | 1653/5001 [36:30<1:37:06,  1.74s/it]"
     ]
    },
    {
     "name": "stderr",
     "output_type": "stream",
     "text": [
      "\r",
      " 33%|███▎      | 1654/5001 [36:31<1:26:16,  1.55s/it]"
     ]
    },
    {
     "name": "stderr",
     "output_type": "stream",
     "text": [
      "\r",
      " 33%|███▎      | 1655/5001 [36:32<1:18:42,  1.41s/it]"
     ]
    },
    {
     "name": "stderr",
     "output_type": "stream",
     "text": [
      "\r",
      " 33%|███▎      | 1656/5001 [36:33<1:13:21,  1.32s/it]"
     ]
    },
    {
     "name": "stderr",
     "output_type": "stream",
     "text": [
      "\r",
      " 33%|███▎      | 1657/5001 [36:34<1:09:36,  1.25s/it]"
     ]
    },
    {
     "name": "stderr",
     "output_type": "stream",
     "text": [
      "\r",
      " 33%|███▎      | 1658/5001 [36:35<1:07:00,  1.20s/it]"
     ]
    },
    {
     "name": "stderr",
     "output_type": "stream",
     "text": [
      "\r",
      " 33%|███▎      | 1659/5001 [36:36<1:05:10,  1.17s/it]"
     ]
    },
    {
     "name": "stderr",
     "output_type": "stream",
     "text": [
      "\r",
      " 33%|███▎      | 1660/5001 [36:37<1:03:51,  1.15s/it]"
     ]
    },
    {
     "name": "stderr",
     "output_type": "stream",
     "text": [
      "\r",
      " 33%|███▎      | 1661/5001 [36:39<1:02:57,  1.13s/it]"
     ]
    }
   ],
   "source": [
    "for epoch in tqdm(range(5001)):\n",
    "    for i in range(data_loader.n_batches):\n",
    "        \n",
    "        patient_batch,control_batch,batch_df = data_loader.get_batch() # Get a batch\n",
    "        \n",
    "        # Pad the batches\n",
    "        patient_batch = pad2d(patient_batch[:,:,:,np.newaxis])\n",
    "        control_batch = pad2d(control_batch[:,:,:,np.newaxis])\n",
    "        \n",
    "        hist = cvae.train_on_batch([patient_batch[:,:,:],control_batch[:,:,:]]) # pass a batch\n",
    "        assert not np.isnan(hist),'loss is NaN - you f**cked up'  # check nothing crashed\n",
    "        loss.append(hist) # keep track of loss\n",
    "        \n",
    "        # Remove Padding\n",
    "        patient_batch = patient_batch.numpy()[:,:,:,0]\n",
    "        control_batch = control_batch.numpy()[:,:,:,0]\n",
    "        #patient_batch = patient_batch[:,6:57,6:57,:]\n",
    "        #control_batch = control_batch[:,6:57,6:57,:]\n",
    "        \n",
    "        if all((i==0,np.mod(epoch,25)==0)):\n",
    "            cvae_dashboard() # plot training progress\n",
    "            cvae.save_weights(os.path.join(save_dir,'cvae_weights')) # SAVE WEIGHTS\n",
    "            np.save(os.path.join(save_dir,'cvae_loss.npy'),np.array(loss)) # Save loss\n",
    "            #plt.show()"
   ]
  },
  {
   "cell_type": "code",
   "execution_count": null,
   "id": "f21aac07",
   "metadata": {
    "papermill": {
     "duration": null,
     "end_time": null,
     "exception": null,
     "start_time": null,
     "status": "pending"
    },
    "tags": []
   },
   "outputs": [],
   "source": []
  },
  {
   "cell_type": "code",
   "execution_count": null,
   "id": "9943397e",
   "metadata": {
    "papermill": {
     "duration": null,
     "end_time": null,
     "exception": null,
     "start_time": null,
     "status": "pending"
    },
    "tags": []
   },
   "outputs": [],
   "source": []
  },
  {
   "cell_type": "code",
   "execution_count": null,
   "id": "72063f81",
   "metadata": {
    "papermill": {
     "duration": null,
     "end_time": null,
     "exception": null,
     "start_time": null,
     "status": "pending"
    },
    "tags": []
   },
   "outputs": [],
   "source": []
  },
  {
   "cell_type": "code",
   "execution_count": null,
   "id": "e7c015d2",
   "metadata": {
    "papermill": {
     "duration": null,
     "end_time": null,
     "exception": null,
     "start_time": null,
     "status": "pending"
    },
    "tags": []
   },
   "outputs": [],
   "source": []
  },
  {
   "cell_type": "code",
   "execution_count": null,
   "id": "b9e2b3fb",
   "metadata": {
    "papermill": {
     "duration": null,
     "end_time": null,
     "exception": null,
     "start_time": null,
     "status": "pending"
    },
    "tags": []
   },
   "outputs": [],
   "source": []
  },
  {
   "cell_type": "code",
   "execution_count": null,
   "id": "ffa73238",
   "metadata": {
    "papermill": {
     "duration": null,
     "end_time": null,
     "exception": null,
     "start_time": null,
     "status": "pending"
    },
    "tags": []
   },
   "outputs": [],
   "source": []
  },
  {
   "cell_type": "code",
   "execution_count": null,
   "id": "6ab4135c",
   "metadata": {
    "papermill": {
     "duration": null,
     "end_time": null,
     "exception": null,
     "start_time": null,
     "status": "pending"
    },
    "tags": []
   },
   "outputs": [],
   "source": []
  },
  {
   "cell_type": "code",
   "execution_count": null,
   "id": "a4e91538",
   "metadata": {
    "papermill": {
     "duration": null,
     "end_time": null,
     "exception": null,
     "start_time": null,
     "status": "pending"
    },
    "tags": []
   },
   "outputs": [],
   "source": []
  },
  {
   "cell_type": "code",
   "execution_count": null,
   "id": "c80eccbe",
   "metadata": {
    "papermill": {
     "duration": null,
     "end_time": null,
     "exception": null,
     "start_time": null,
     "status": "pending"
    },
    "tags": []
   },
   "outputs": [],
   "source": []
  },
  {
   "cell_type": "code",
   "execution_count": null,
   "id": "58a95bb1",
   "metadata": {
    "papermill": {
     "duration": null,
     "end_time": null,
     "exception": null,
     "start_time": null,
     "status": "pending"
    },
    "tags": []
   },
   "outputs": [],
   "source": [
    "cvae.summary(line_length=150)"
   ]
  },
  {
   "cell_type": "code",
   "execution_count": null,
   "id": "ec913fc3",
   "metadata": {
    "papermill": {
     "duration": null,
     "end_time": null,
     "exception": null,
     "start_time": null,
     "status": "pending"
    },
    "tags": []
   },
   "outputs": [],
   "source": []
  },
  {
   "cell_type": "code",
   "execution_count": null,
   "id": "017b9c9a",
   "metadata": {
    "papermill": {
     "duration": null,
     "end_time": null,
     "exception": null,
     "start_time": null,
     "status": "pending"
    },
    "tags": []
   },
   "outputs": [],
   "source": []
  }
 ],
 "metadata": {
  "kernelspec": {
   "display_name": "Python 3",
   "language": "python",
   "name": "python3"
  },
  "language_info": {
   "codemirror_mode": {
    "name": "ipython",
    "version": 3
   },
   "file_extension": ".py",
   "mimetype": "text/x-python",
   "name": "python",
   "nbconvert_exporter": "python",
   "pygments_lexer": "ipython3",
   "version": "3.8.5"
  },
  "papermill": {
   "default_parameters": {},
   "duration": null,
   "end_time": null,
   "environment_variables": {},
   "exception": null,
   "input_path": "01-train-CVAE-cmats-smallPaffdded.ipynb",
   "output_path": "./papermill/papermill|01-train-CVAE-cmats-smallPaffdded|2021-10-28-04-33-53.ipynb",
   "parameters": {},
   "start_time": "2021-10-28T08:33:56.451646",
   "version": "2.3.3"
  }
 },
 "nbformat": 4,
 "nbformat_minor": 5
}