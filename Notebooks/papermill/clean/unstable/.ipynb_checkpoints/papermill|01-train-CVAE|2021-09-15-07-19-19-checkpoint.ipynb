{
 "cells": [
  {
   "cell_type": "code",
   "execution_count": 1,
   "id": "97949158",
   "metadata": {
    "execution": {
     "iopub.execute_input": "2021-09-15T11:19:22.631535Z",
     "iopub.status.busy": "2021-09-15T11:19:22.631190Z",
     "iopub.status.idle": "2021-09-15T11:19:22.633162Z",
     "shell.execute_reply": "2021-09-15T11:19:22.632825Z"
    },
    "papermill": {
     "duration": 0.021758,
     "end_time": "2021-09-15T11:19:22.633273",
     "exception": false,
     "start_time": "2021-09-15T11:19:22.611515",
     "status": "completed"
    },
    "tags": []
   },
   "outputs": [
    {
     "data": {
      "text/plain": [
       "'/mmfs1/data/aglinska/BC-fMRI-AE/Notebooks'"
      ]
     },
     "execution_count": 1,
     "metadata": {},
     "output_type": "execute_result"
    }
   ],
   "source": [
    "pwd"
   ]
  },
  {
   "cell_type": "code",
   "execution_count": 2,
   "id": "8f77d15d",
   "metadata": {
    "execution": {
     "iopub.execute_input": "2021-09-15T11:19:22.653878Z",
     "iopub.status.busy": "2021-09-15T11:19:22.653559Z",
     "iopub.status.idle": "2021-09-15T11:19:22.655227Z",
     "shell.execute_reply": "2021-09-15T11:19:22.655488Z"
    },
    "papermill": {
     "duration": 0.012727,
     "end_time": "2021-09-15T11:19:22.655573",
     "exception": false,
     "start_time": "2021-09-15T11:19:22.642846",
     "status": "completed"
    },
    "tags": []
   },
   "outputs": [
    {
     "name": "stdout",
     "output_type": "stream",
     "text": [
      "Interactive namespace is empty.\n"
     ]
    }
   ],
   "source": [
    "whos"
   ]
  },
  {
   "cell_type": "code",
   "execution_count": 3,
   "id": "6ce54a93",
   "metadata": {
    "execution": {
     "iopub.execute_input": "2021-09-15T11:19:22.676876Z",
     "iopub.status.busy": "2021-09-15T11:19:22.676549Z",
     "iopub.status.idle": "2021-09-15T11:19:22.799278Z",
     "shell.execute_reply": "2021-09-15T11:19:22.798976Z"
    },
    "papermill": {
     "duration": 0.134504,
     "end_time": "2021-09-15T11:19:22.799365",
     "exception": false,
     "start_time": "2021-09-15T11:19:22.664861",
     "status": "completed"
    },
    "tags": []
   },
   "outputs": [
    {
     "name": "stdout",
     "output_type": "stream",
     "text": [
      "              total        used        free      shared  buff/cache   available\r\n",
      "Mem:            187          22         155           4           8         158\r\n",
      "Swap:            11           0          11\r\n"
     ]
    }
   ],
   "source": [
    "!free -g"
   ]
  },
  {
   "cell_type": "code",
   "execution_count": 4,
   "id": "9da1e90c",
   "metadata": {
    "execution": {
     "iopub.execute_input": "2021-09-15T11:19:22.823338Z",
     "iopub.status.busy": "2021-09-15T11:19:22.823006Z",
     "iopub.status.idle": "2021-09-15T11:19:23.114963Z",
     "shell.execute_reply": "2021-09-15T11:19:23.114655Z"
    },
    "papermill": {
     "duration": 0.303942,
     "end_time": "2021-09-15T11:19:23.115045",
     "exception": false,
     "start_time": "2021-09-15T11:19:22.811103",
     "status": "completed"
    },
    "tags": []
   },
   "outputs": [
    {
     "name": "stdout",
     "output_type": "stream",
     "text": [
      "Wed Sep 15 07:19:22 2021       \r\n",
      "+-----------------------------------------------------------------------------+\r\n",
      "| NVIDIA-SMI 450.51.05    Driver Version: 450.51.05    CUDA Version: 11.0     |\r\n",
      "|-------------------------------+----------------------+----------------------+\r\n",
      "| GPU  Name        Persistence-M| Bus-Id        Disp.A | Volatile Uncorr. ECC |\r\n",
      "| Fan  Temp  Perf  Pwr:Usage/Cap|         Memory-Usage | GPU-Util  Compute M. |\r\n",
      "|                               |                      |               MIG M. |\r\n",
      "|===============================+======================+======================|\r\n",
      "|   0  Tesla V100-SXM2...  On   | 00000000:18:00.0 Off |                    0 |\r\n",
      "| N/A   45C    P0    73W / 300W |      3MiB / 16160MiB |      0%      Default |\r\n",
      "|                               |                      |                  N/A |\r\n",
      "+-------------------------------+----------------------+----------------------+\r\n",
      "|   1  Tesla V100-SXM2...  On   | 00000000:3B:00.0 Off |                    0 |\r\n",
      "| N/A   46C    P0   144W / 300W |   1580MiB / 16160MiB |     78%      Default |\r\n",
      "|                               |                      |                  N/A |\r\n",
      "+-------------------------------+----------------------+----------------------+\r\n",
      "|   2  Tesla V100-SXM2...  On   | 00000000:86:00.0 Off |                    0 |\r\n",
      "| N/A   39C    P0    59W / 300W |   1256MiB / 16160MiB |      0%      Default |\r\n",
      "|                               |                      |                  N/A |\r\n",
      "+-------------------------------+----------------------+----------------------+\r\n"
     ]
    },
    {
     "name": "stdout",
     "output_type": "stream",
     "text": [
      "|   3  Tesla V100-SXM2...  On   | 00000000:AF:00.0 Off |                    0 |\r\n",
      "| N/A   43C    P0    71W / 300W |      3MiB / 16160MiB |      0%      Default |\r\n",
      "|                               |                      |                  N/A |\r\n",
      "+-------------------------------+----------------------+----------------------+\r\n",
      "                                                                               \r\n",
      "+-----------------------------------------------------------------------------+\r\n",
      "| Processes:                                                                  |\r\n",
      "|  GPU   GI   CI        PID   Type   Process name                  GPU Memory |\r\n",
      "|        ID   ID                                                   Usage      |\r\n",
      "|=============================================================================|\r\n",
      "|    1   N/A  N/A     11404      C   ....4_CINEB_GPU/bin/vasp_gpu     1565MiB |\r\n",
      "|    2   N/A  N/A     11405      C   ....4_CINEB_GPU/bin/vasp_gpu     1241MiB |\r\n",
      "+-----------------------------------------------------------------------------+\r\n"
     ]
    }
   ],
   "source": [
    "!nvidia-smi"
   ]
  },
  {
   "cell_type": "code",
   "execution_count": 5,
   "id": "5aafd3ad",
   "metadata": {
    "execution": {
     "iopub.execute_input": "2021-09-15T11:19:23.139114Z",
     "iopub.status.busy": "2021-09-15T11:19:23.138778Z",
     "iopub.status.idle": "2021-09-15T11:19:23.146100Z",
     "shell.execute_reply": "2021-09-15T11:19:23.146363Z"
    },
    "papermill": {
     "duration": 0.020324,
     "end_time": "2021-09-15T11:19:23.146453",
     "exception": false,
     "start_time": "2021-09-15T11:19:23.126129",
     "status": "completed"
    },
    "tags": []
   },
   "outputs": [
    {
     "name": "stdout",
     "output_type": "stream",
     "text": [
      "CVAE_2021-09-15 07:19:23.138115\n"
     ]
    }
   ],
   "source": [
    "import os\n",
    "from datetime import datetime; now = datetime.now\n",
    "\n",
    "analysis_name = 'CVAE_'+str(now())\n",
    "save_dir = os.path.join('../Assets/tf_weights',analysis_name)\n",
    "if not os.path.exists(save_dir):\n",
    "    os.mkdir(save_dir)\n",
    "    \n",
    "print(analysis_name)"
   ]
  },
  {
   "cell_type": "code",
   "execution_count": 6,
   "id": "e4f82ec4",
   "metadata": {
    "execution": {
     "iopub.execute_input": "2021-09-15T11:19:23.169917Z",
     "iopub.status.busy": "2021-09-15T11:19:23.169589Z",
     "iopub.status.idle": "2021-09-15T11:19:23.187143Z",
     "shell.execute_reply": "2021-09-15T11:19:23.186809Z"
    },
    "papermill": {
     "duration": 0.030663,
     "end_time": "2021-09-15T11:19:23.187218",
     "exception": false,
     "start_time": "2021-09-15T11:19:23.156555",
     "status": "completed"
    },
    "tags": []
   },
   "outputs": [
    {
     "name": "stdout",
     "output_type": "stream",
     "text": [
      "Total memory: 15.78173828125\n",
      "Free memory: 15.7783203125\n",
      "Used memory: 0.00341796875\n"
     ]
    }
   ],
   "source": [
    "# CHECK GPU\n",
    "import nvidia_smi\n",
    "try:\n",
    "    nvidia_smi.nvmlInit()\n",
    "\n",
    "    handle = nvidia_smi.nvmlDeviceGetHandleByIndex(0)\n",
    "    # card id 0 hardcoded here, there is also a call to get all available card ids, so we could iterate\n",
    "\n",
    "    info = nvidia_smi.nvmlDeviceGetMemoryInfo(handle)\n",
    "\n",
    "    print(\"Total memory:\", (info.total/1024/1024/1024))\n",
    "    print(\"Free memory:\", (info.free/1024/1024/1024))\n",
    "    print(\"Used memory:\", (info.used/1024/1024/1024))\n",
    "\n",
    "    nvidia_smi.nvmlShutdown()\n",
    "except:\n",
    "    pass"
   ]
  },
  {
   "cell_type": "code",
   "execution_count": 7,
   "id": "0af92bfc",
   "metadata": {
    "execution": {
     "iopub.execute_input": "2021-09-15T11:19:23.209975Z",
     "iopub.status.busy": "2021-09-15T11:19:23.209653Z",
     "iopub.status.idle": "2021-09-15T11:19:23.211256Z",
     "shell.execute_reply": "2021-09-15T11:19:23.210954Z"
    },
    "papermill": {
     "duration": 0.013628,
     "end_time": "2021-09-15T11:19:23.211327",
     "exception": false,
     "start_time": "2021-09-15T11:19:23.197699",
     "status": "completed"
    },
    "tags": []
   },
   "outputs": [],
   "source": [
    "## SET UP"
   ]
  },
  {
   "cell_type": "code",
   "execution_count": 8,
   "id": "af04d569",
   "metadata": {
    "execution": {
     "iopub.execute_input": "2021-09-15T11:19:23.234579Z",
     "iopub.status.busy": "2021-09-15T11:19:23.234252Z",
     "iopub.status.idle": "2021-09-15T11:19:40.846033Z",
     "shell.execute_reply": "2021-09-15T11:19:40.846331Z"
    },
    "papermill": {
     "duration": 17.624806,
     "end_time": "2021-09-15T11:19:40.846461",
     "exception": false,
     "start_time": "2021-09-15T11:19:23.221655",
     "status": "completed"
    },
    "tags": []
   },
   "outputs": [],
   "source": [
    "import numpy as np\n",
    "import pandas as pd\n",
    "from tqdm import tqdm\n",
    "from matplotlib import pyplot as plt\n",
    "\n",
    "from functools import partial\n",
    "from tqdm import tqdm\n",
    "from umap import UMAP\n",
    "tqdm = partial(tqdm, position=0, leave=True) "
   ]
  },
  {
   "cell_type": "code",
   "execution_count": 9,
   "id": "796aaf8d",
   "metadata": {
    "execution": {
     "iopub.execute_input": "2021-09-15T11:19:40.879008Z",
     "iopub.status.busy": "2021-09-15T11:19:40.878676Z",
     "iopub.status.idle": "2021-09-15T11:19:40.891112Z",
     "shell.execute_reply": "2021-09-15T11:19:40.890816Z"
    },
    "papermill": {
     "duration": 0.028473,
     "end_time": "2021-09-15T11:19:40.891195",
     "exception": false,
     "start_time": "2021-09-15T11:19:40.862722",
     "status": "completed"
    },
    "tags": []
   },
   "outputs": [],
   "source": [
    "df = pd.read_csv('../Data/ABIDE_df2.csv')\n",
    "df = df.iloc[~pd.isna(df['bids_folder']).values]\n",
    "data_dir = '../Assets/fc_mats_32smooth_new/'"
   ]
  },
  {
   "cell_type": "code",
   "execution_count": 10,
   "id": "01ce4127",
   "metadata": {
    "execution": {
     "iopub.execute_input": "2021-09-15T11:19:40.914663Z",
     "iopub.status.busy": "2021-09-15T11:19:40.914327Z",
     "iopub.status.idle": "2021-09-15T11:19:40.920192Z",
     "shell.execute_reply": "2021-09-15T11:19:40.920456Z"
    },
    "papermill": {
     "duration": 0.018877,
     "end_time": "2021-09-15T11:19:40.920547",
     "exception": false,
     "start_time": "2021-09-15T11:19:40.901670",
     "status": "completed"
    },
    "tags": []
   },
   "outputs": [
    {
     "data": {
      "text/plain": [
       "['sub-CMUa0050642.npy',\n",
       " 'sub-CMUa0050646.npy',\n",
       " 'sub-CMUa0050647.npy',\n",
       " 'sub-CMUa0050649.npy',\n",
       " 'sub-CMUa0050653.npy']"
      ]
     },
     "execution_count": 10,
     "metadata": {},
     "output_type": "execute_result"
    }
   ],
   "source": [
    "files = [file for file in os.listdir(data_dir) if file.endswith('.npy')]\n",
    "files.sort()\n",
    "files[0:5]"
   ]
  },
  {
   "cell_type": "code",
   "execution_count": 11,
   "id": "1f7809e0",
   "metadata": {
    "execution": {
     "iopub.execute_input": "2021-09-15T11:19:40.953550Z",
     "iopub.status.busy": "2021-09-15T11:19:40.953038Z",
     "iopub.status.idle": "2021-09-15T11:19:41.270240Z",
     "shell.execute_reply": "2021-09-15T11:19:41.269942Z"
    },
    "papermill": {
     "duration": 0.339125,
     "end_time": "2021-09-15T11:19:41.270322",
     "exception": false,
     "start_time": "2021-09-15T11:19:40.931197",
     "status": "completed"
    },
    "tags": []
   },
   "outputs": [
    {
     "name": "stdout",
     "output_type": "stream",
     "text": [
      "1048\n"
     ]
    },
    {
     "name": "stdout",
     "output_type": "stream",
     "text": [
      "1.0\n"
     ]
    }
   ],
   "source": [
    "subs_with_matFiles = [file.split('.')[0] for file in files]\n",
    "df = df.iloc[np.array([sub in subs_with_matFiles for sub in df['bids_folder'].values])]\n",
    "n_subs = len(df)\n",
    "print(n_subs)\n",
    "\n",
    "# Check if subject has .nii file\n",
    "has_file = np.array([os.path.exists(os.path.join(data_dir,sub + '.npy')) for sub in df['bids_folder'].values])\n",
    "print(has_file.mean())\n",
    "assert has_file.mean()==1.0, 'fuck'\n",
    "\n",
    "assert len(subs_with_matFiles)==len(df),'no'\n",
    "df = df.sort_values(by='bids_folder')\n",
    "assert all([subs_with_matFiles[i]==df['bids_folder'].values[i] for i in range(n_subs)]), 'out of order'\n",
    "\n",
    "df.index = np.arange(n_subs)"
   ]
  },
  {
   "cell_type": "code",
   "execution_count": 12,
   "id": "c7cc9bc9",
   "metadata": {
    "execution": {
     "iopub.execute_input": "2021-09-15T11:19:41.295584Z",
     "iopub.status.busy": "2021-09-15T11:19:41.295251Z",
     "iopub.status.idle": "2021-09-15T11:19:41.496364Z",
     "shell.execute_reply": "2021-09-15T11:19:41.496630Z"
    },
    "papermill": {
     "duration": 0.214949,
     "end_time": "2021-09-15T11:19:41.496735",
     "exception": false,
     "start_time": "2021-09-15T11:19:41.281786",
     "status": "completed"
    },
    "tags": []
   },
   "outputs": [
    {
     "name": "stdout",
     "output_type": "stream",
     "text": [
      "CPU times: user 41.2 ms, sys: 11.4 ms, total: 52.6 ms\n",
      "Wall time: 199 ms\n"
     ]
    },
    {
     "data": {
      "text/plain": [
       "<module 'tensorflow' from '/data/aglinska/anaconda3/lib/python3.8/site-packages/tensorflow/__init__.py'>"
      ]
     },
     "execution_count": 12,
     "metadata": {},
     "output_type": "execute_result"
    }
   ],
   "source": [
    "%%time\n",
    "from importlib import reload\n",
    "import helper_funcs;reload(helper_funcs);from helper_funcs import *\n",
    "del helper_funcs\n",
    "import make_models;reload(make_models);from make_models import *\n",
    "del make_models\n",
    "\n",
    "from IPython import display\n",
    "import sys\n",
    "from sklearn.decomposition import PCA\n",
    "import seaborn as sns\n",
    "\n",
    "import tensorflow as tf\n",
    "reload(tf)"
   ]
  },
  {
   "cell_type": "code",
   "execution_count": 13,
   "id": "36dfe4c5",
   "metadata": {
    "execution": {
     "iopub.execute_input": "2021-09-15T11:19:43.673602Z",
     "iopub.status.busy": "2021-09-15T11:19:43.673208Z",
     "iopub.status.idle": "2021-09-15T11:19:43.674819Z",
     "shell.execute_reply": "2021-09-15T11:19:43.675091Z"
    },
    "papermill": {
     "duration": 2.166526,
     "end_time": "2021-09-15T11:19:43.675205",
     "exception": false,
     "start_time": "2021-09-15T11:19:41.508679",
     "status": "completed"
    },
    "tags": []
   },
   "outputs": [
    {
     "data": {
      "text/plain": [
       "'/device:GPU:0'"
      ]
     },
     "execution_count": 13,
     "metadata": {},
     "output_type": "execute_result"
    }
   ],
   "source": [
    "import tensorflow as tf\n",
    "tf.test.gpu_device_name()"
   ]
  },
  {
   "cell_type": "code",
   "execution_count": 14,
   "id": "92fba54f",
   "metadata": {
    "execution": {
     "iopub.execute_input": "2021-09-15T11:19:43.704375Z",
     "iopub.status.busy": "2021-09-15T11:19:43.701345Z",
     "iopub.status.idle": "2021-09-15T11:19:45.145681Z",
     "shell.execute_reply": "2021-09-15T11:19:45.145360Z"
    },
    "papermill": {
     "duration": 1.458442,
     "end_time": "2021-09-15T11:19:45.145779",
     "exception": false,
     "start_time": "2021-09-15T11:19:43.687337",
     "status": "completed"
    },
    "tags": []
   },
   "outputs": [],
   "source": [
    "data_dir = '../Assets/fc_mats_32smooth_new'\n",
    "data_loader = cvae_data_loader(data_dir=data_dir, df=df, batch_size=32)\n",
    "batch_asd,batch_td,batch_df = data_loader.get_batch()"
   ]
  },
  {
   "cell_type": "code",
   "execution_count": 15,
   "id": "04b22f59",
   "metadata": {
    "execution": {
     "iopub.execute_input": "2021-09-15T11:19:45.172662Z",
     "iopub.status.busy": "2021-09-15T11:19:45.172334Z",
     "iopub.status.idle": "2021-09-15T11:19:45.173629Z",
     "shell.execute_reply": "2021-09-15T11:19:45.173886Z"
    },
    "papermill": {
     "duration": 0.016097,
     "end_time": "2021-09-15T11:19:45.173980",
     "exception": false,
     "start_time": "2021-09-15T11:19:45.157883",
     "status": "completed"
    },
    "tags": []
   },
   "outputs": [],
   "source": [
    "data_size = np.hstack((n_subs,batch_asd.shape[1:]))"
   ]
  },
  {
   "cell_type": "code",
   "execution_count": 16,
   "id": "a4f6fc0e",
   "metadata": {
    "execution": {
     "iopub.execute_input": "2021-09-15T11:19:45.202355Z",
     "iopub.status.busy": "2021-09-15T11:19:45.201987Z",
     "iopub.status.idle": "2021-09-15T11:19:45.860168Z",
     "shell.execute_reply": "2021-09-15T11:19:45.859824Z"
    },
    "papermill": {
     "duration": 0.673867,
     "end_time": "2021-09-15T11:19:45.860267",
     "exception": false,
     "start_time": "2021-09-15T11:19:45.186400",
     "status": "completed"
    },
    "tags": []
   },
   "outputs": [],
   "source": [
    "import make_models;reload(make_models);from make_models import *\n",
    "batch_size = 32\n",
    "cvae, z_encoder, s_encoder, cvae_decoder = get_MRI_CCVAE_3D(input_shape=tuple(data_size[1::]),\n",
    "                   latent_dim = 8, \n",
    "                   batch_size = batch_size, \n",
    "                   disentangle = True, \n",
    "                   gamma = 1,\n",
    "                   kernel_size = 3,\n",
    "                   filters = 8,\n",
    "                   intermediate_dim = 128,\n",
    "                   nlayers = 2,\n",
    "                   learning_rate=0.001)"
   ]
  },
  {
   "cell_type": "code",
   "execution_count": 17,
   "id": "416b7941",
   "metadata": {
    "execution": {
     "iopub.execute_input": "2021-09-15T11:19:45.887135Z",
     "iopub.status.busy": "2021-09-15T11:19:45.886808Z",
     "iopub.status.idle": "2021-09-15T11:19:45.888529Z",
     "shell.execute_reply": "2021-09-15T11:19:45.888788Z"
    },
    "papermill": {
     "duration": 0.016385,
     "end_time": "2021-09-15T11:19:45.888875",
     "exception": false,
     "start_time": "2021-09-15T11:19:45.872490",
     "status": "completed"
    },
    "tags": []
   },
   "outputs": [
    {
     "data": {
      "text/plain": [
       "(1048, 32, 32, 32, 51)"
      ]
     },
     "execution_count": 17,
     "metadata": {},
     "output_type": "execute_result"
    }
   ],
   "source": [
    "tuple(data_size)"
   ]
  },
  {
   "cell_type": "code",
   "execution_count": 18,
   "id": "8ada8b28",
   "metadata": {
    "execution": {
     "iopub.execute_input": "2021-09-15T11:19:45.916960Z",
     "iopub.status.busy": "2021-09-15T11:19:45.916630Z",
     "iopub.status.idle": "2021-09-15T11:19:45.918153Z",
     "shell.execute_reply": "2021-09-15T11:19:45.917858Z"
    },
    "papermill": {
     "duration": 0.01726,
     "end_time": "2021-09-15T11:19:45.918240",
     "exception": false,
     "start_time": "2021-09-15T11:19:45.900980",
     "status": "completed"
    },
    "tags": []
   },
   "outputs": [],
   "source": [
    "loss = list()\n",
    "c_sim = list()\n",
    "all_rsas = list()"
   ]
  },
  {
   "cell_type": "code",
   "execution_count": 19,
   "id": "8a40d2cd",
   "metadata": {
    "execution": {
     "iopub.execute_input": "2021-09-15T11:19:45.944757Z",
     "iopub.status.busy": "2021-09-15T11:19:45.944434Z",
     "iopub.status.idle": "2021-09-15T11:19:45.946270Z",
     "shell.execute_reply": "2021-09-15T11:19:45.945986Z"
    },
    "papermill": {
     "duration": 0.015958,
     "end_time": "2021-09-15T11:19:45.946343",
     "exception": false,
     "start_time": "2021-09-15T11:19:45.930385",
     "status": "completed"
    },
    "tags": []
   },
   "outputs": [],
   "source": [
    "data_loader = cvae_data_loader(data_dir=data_dir, df=df, batch_size=32)"
   ]
  },
  {
   "cell_type": "code",
   "execution_count": null,
   "id": "413f1087",
   "metadata": {
    "papermill": {
     "duration": null,
     "end_time": null,
     "exception": false,
     "start_time": "2021-09-15T11:19:45.958975",
     "status": "running"
    },
    "tags": []
   },
   "outputs": [],
   "source": [
    "import make_models;reload(make_models);from make_models import *\n",
    "import helper_funcs;reload(helper_funcs);from helper_funcs import *\n",
    "\n",
    "for epoch in tqdm(range(100),position=0, leave=True):\n",
    "    for i in tqdm(range(data_loader.n_batches),position=1, leave=False):\n",
    "        \n",
    "        patient_batch,control_batch,batch_df = data_loader.get_batch() # Get a batch\n",
    "        hist = cvae.train_on_batch([patient_batch,control_batch]) # pass a batch\n",
    "        assert not np.isnan(hist),'loss is NaN - you f**cked up'  # check nothing crashed\n",
    "        loss.append(hist) # keep track of loss\n",
    "        \n",
    "        cvae.save_weights(os.path.join(save_dir,'cvae_weights')) # SAVE WEIGHTS\n",
    "        np.save(os.path.join(save_dir,'cvae_loss.npy'),np.array(loss)) # Save loss\n",
    "        \n",
    "        if np.mod(i,10)==0:\n",
    "            batch_rsas = get_batch_rsas(data_dir,df,z_encoder,s_encoder,batch_size=(df['DX_GROUP'].values==1).sum())\n",
    "        \n",
    "        c_sim,all_rsas = cvae_dashboard(data_loader.epoch,\n",
    "                                        data_loader.b,\n",
    "                                        i,\n",
    "                                        cvae,z_encoder,\n",
    "                                        s_encoder,\n",
    "                                        loss,\n",
    "                                        all_rsas,\n",
    "                                        c_sim,\n",
    "                                        df,\n",
    "                                        patient_batch,\n",
    "                                        control_batch,\n",
    "                                        batch_rsas,\n",
    "                                        red='UMAP') # plot training progress\n",
    "        "
   ]
  },
  {
   "cell_type": "code",
   "execution_count": null,
   "id": "38512088",
   "metadata": {
    "papermill": {
     "duration": null,
     "end_time": null,
     "exception": null,
     "start_time": null,
     "status": "pending"
    },
    "tags": []
   },
   "outputs": [],
   "source": []
  },
  {
   "cell_type": "code",
   "execution_count": null,
   "id": "071cf348",
   "metadata": {
    "papermill": {
     "duration": null,
     "end_time": null,
     "exception": null,
     "start_time": null,
     "status": "pending"
    },
    "tags": []
   },
   "outputs": [],
   "source": []
  },
  {
   "cell_type": "code",
   "execution_count": null,
   "id": "ce504210",
   "metadata": {
    "papermill": {
     "duration": null,
     "end_time": null,
     "exception": null,
     "start_time": null,
     "status": "pending"
    },
    "tags": []
   },
   "outputs": [],
   "source": []
  },
  {
   "cell_type": "code",
   "execution_count": null,
   "id": "a7f0f88d",
   "metadata": {
    "papermill": {
     "duration": null,
     "end_time": null,
     "exception": null,
     "start_time": null,
     "status": "pending"
    },
    "tags": []
   },
   "outputs": [],
   "source": []
  },
  {
   "cell_type": "code",
   "execution_count": null,
   "id": "3f9ece17",
   "metadata": {
    "papermill": {
     "duration": null,
     "end_time": null,
     "exception": null,
     "start_time": null,
     "status": "pending"
    },
    "tags": []
   },
   "outputs": [],
   "source": []
  },
  {
   "cell_type": "code",
   "execution_count": null,
   "id": "99b6bf01",
   "metadata": {
    "papermill": {
     "duration": null,
     "end_time": null,
     "exception": null,
     "start_time": null,
     "status": "pending"
    },
    "tags": []
   },
   "outputs": [],
   "source": []
  }
 ],
 "metadata": {
  "kernelspec": {
   "display_name": "Python 3",
   "language": "python",
   "name": "python3"
  },
  "language_info": {
   "codemirror_mode": {
    "name": "ipython",
    "version": 3
   },
   "file_extension": ".py",
   "mimetype": "text/x-python",
   "name": "python",
   "nbconvert_exporter": "python",
   "pygments_lexer": "ipython3",
   "version": "3.8.5"
  },
  "papermill": {
   "default_parameters": {},
   "duration": null,
   "end_time": null,
   "environment_variables": {},
   "exception": null,
   "input_path": "01-train-CVAE.ipynb",
   "output_path": "./papermill/papermill|01-train-CVAE|2021-09-15-07-19-19.ipynb",
   "parameters": {},
   "start_time": "2021-09-15T11:19:21.184947",
   "version": "2.3.3"
  }
 },
 "nbformat": 4,
 "nbformat_minor": 5
}