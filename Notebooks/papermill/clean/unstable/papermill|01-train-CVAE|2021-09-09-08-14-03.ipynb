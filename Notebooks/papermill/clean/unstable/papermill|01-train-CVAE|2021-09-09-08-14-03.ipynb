{
 "cells": [
  {
   "cell_type": "code",
   "execution_count": 1,
   "id": "40b26748",
   "metadata": {
    "execution": {
     "iopub.execute_input": "2021-09-09T12:14:08.862700Z",
     "iopub.status.busy": "2021-09-09T12:14:08.862365Z",
     "iopub.status.idle": "2021-09-09T12:14:08.864093Z",
     "shell.execute_reply": "2021-09-09T12:14:08.864362Z"
    },
    "papermill": {
     "duration": 0.019915,
     "end_time": "2021-09-09T12:14:08.864527",
     "exception": false,
     "start_time": "2021-09-09T12:14:08.844612",
     "status": "completed"
    },
    "tags": []
   },
   "outputs": [
    {
     "data": {
      "text/plain": [
       "'/mmfs1/data/aglinska/BC-fMRI-AE/Notebooks'"
      ]
     },
     "execution_count": 1,
     "metadata": {},
     "output_type": "execute_result"
    }
   ],
   "source": [
    "pwd"
   ]
  },
  {
   "cell_type": "code",
   "execution_count": 2,
   "id": "7fea3bb2",
   "metadata": {
    "execution": {
     "iopub.execute_input": "2021-09-09T12:14:08.885318Z",
     "iopub.status.busy": "2021-09-09T12:14:08.884993Z",
     "iopub.status.idle": "2021-09-09T12:14:08.886602Z",
     "shell.execute_reply": "2021-09-09T12:14:08.886860Z"
    },
    "papermill": {
     "duration": 0.01312,
     "end_time": "2021-09-09T12:14:08.886945",
     "exception": false,
     "start_time": "2021-09-09T12:14:08.873825",
     "status": "completed"
    },
    "tags": []
   },
   "outputs": [
    {
     "name": "stdout",
     "output_type": "stream",
     "text": [
      "Interactive namespace is empty.\n"
     ]
    }
   ],
   "source": [
    "whos"
   ]
  },
  {
   "cell_type": "code",
   "execution_count": 3,
   "id": "3df937b1",
   "metadata": {
    "execution": {
     "iopub.execute_input": "2021-09-09T12:14:08.907424Z",
     "iopub.status.busy": "2021-09-09T12:14:08.907100Z",
     "iopub.status.idle": "2021-09-09T12:14:09.028696Z",
     "shell.execute_reply": "2021-09-09T12:14:09.028424Z"
    },
    "papermill": {
     "duration": 0.132682,
     "end_time": "2021-09-09T12:14:09.028770",
     "exception": false,
     "start_time": "2021-09-09T12:14:08.896088",
     "status": "completed"
    },
    "tags": []
   },
   "outputs": [
    {
     "name": "stdout",
     "output_type": "stream",
     "text": [
      "              total        used        free      shared  buff/cache   available\r\n",
      "Mem:            187          14         169           2           3         168\r\n",
      "Swap:            11          11           0\r\n"
     ]
    }
   ],
   "source": [
    "!free -g"
   ]
  },
  {
   "cell_type": "code",
   "execution_count": 4,
   "id": "52b063ca",
   "metadata": {
    "execution": {
     "iopub.execute_input": "2021-09-09T12:14:09.052722Z",
     "iopub.status.busy": "2021-09-09T12:14:09.052390Z",
     "iopub.status.idle": "2021-09-09T12:14:09.071782Z",
     "shell.execute_reply": "2021-09-09T12:14:09.071500Z"
    },
    "papermill": {
     "duration": 0.031727,
     "end_time": "2021-09-09T12:14:09.071852",
     "exception": false,
     "start_time": "2021-09-09T12:14:09.040125",
     "status": "completed"
    },
    "tags": []
   },
   "outputs": [
    {
     "name": "stdout",
     "output_type": "stream",
     "text": [
      "Total memory: 15.78173828125\n",
      "Free memory: 15.7783203125\n",
      "Used memory: 0.00341796875\n"
     ]
    }
   ],
   "source": [
    "import nvidia_smi\n",
    "\n",
    "nvidia_smi.nvmlInit()\n",
    "\n",
    "handle = nvidia_smi.nvmlDeviceGetHandleByIndex(0)\n",
    "# card id 0 hardcoded here, there is also a call to get all available card ids, so we could iterate\n",
    "\n",
    "info = nvidia_smi.nvmlDeviceGetMemoryInfo(handle)\n",
    "\n",
    "print(\"Total memory:\", (info.total/1024/1024/1024))\n",
    "print(\"Free memory:\", (info.free/1024/1024/1024))\n",
    "print(\"Used memory:\", (info.used/1024/1024/1024))\n",
    "\n",
    "nvidia_smi.nvmlShutdown()"
   ]
  },
  {
   "cell_type": "code",
   "execution_count": 5,
   "id": "1bad1eda",
   "metadata": {
    "execution": {
     "iopub.execute_input": "2021-09-09T12:14:09.094789Z",
     "iopub.status.busy": "2021-09-09T12:14:09.094462Z",
     "iopub.status.idle": "2021-09-09T12:14:10.781187Z",
     "shell.execute_reply": "2021-09-09T12:14:10.780910Z"
    },
    "papermill": {
     "duration": 1.698688,
     "end_time": "2021-09-09T12:14:10.781274",
     "exception": false,
     "start_time": "2021-09-09T12:14:09.082586",
     "status": "completed"
    },
    "tags": []
   },
   "outputs": [],
   "source": [
    "import numpy as np\n",
    "import pandas as pd\n",
    "import os\n",
    "from tqdm import tqdm\n",
    "from matplotlib import pyplot as plt\n",
    "\n",
    "from functools import partial\n",
    "from tqdm import tqdm\n",
    "tqdm = partial(tqdm, position=0, leave=True) "
   ]
  },
  {
   "cell_type": "code",
   "execution_count": 6,
   "id": "910e4a08",
   "metadata": {
    "execution": {
     "iopub.execute_input": "2021-09-09T12:14:10.808288Z",
     "iopub.status.busy": "2021-09-09T12:14:10.807943Z",
     "iopub.status.idle": "2021-09-09T12:14:10.820324Z",
     "shell.execute_reply": "2021-09-09T12:14:10.820052Z"
    },
    "papermill": {
     "duration": 0.028217,
     "end_time": "2021-09-09T12:14:10.820398",
     "exception": false,
     "start_time": "2021-09-09T12:14:10.792181",
     "status": "completed"
    },
    "tags": []
   },
   "outputs": [],
   "source": [
    "df = pd.read_csv('../Data/ABIDE_df2.csv')\n",
    "df = df.iloc[~pd.isna(df['bids_folder']).values]\n",
    "#data_dir = '../Assets/fc_mats/'\n",
    "data_dir = '../Assets/fc_mats_32smooth/'"
   ]
  },
  {
   "cell_type": "code",
   "execution_count": 7,
   "id": "567c3c19",
   "metadata": {
    "execution": {
     "iopub.execute_input": "2021-09-09T12:14:10.841996Z",
     "iopub.status.busy": "2021-09-09T12:14:10.841676Z",
     "iopub.status.idle": "2021-09-09T12:14:10.846478Z",
     "shell.execute_reply": "2021-09-09T12:14:10.846205Z"
    },
    "papermill": {
     "duration": 0.016721,
     "end_time": "2021-09-09T12:14:10.846550",
     "exception": false,
     "start_time": "2021-09-09T12:14:10.829829",
     "status": "completed"
    },
    "tags": []
   },
   "outputs": [],
   "source": [
    "files = [file for file in os.listdir(data_dir) if file.endswith('.npz')]\n",
    "files.sort()"
   ]
  },
  {
   "cell_type": "code",
   "execution_count": 8,
   "id": "22cdb507",
   "metadata": {
    "execution": {
     "iopub.execute_input": "2021-09-09T12:14:10.868701Z",
     "iopub.status.busy": "2021-09-09T12:14:10.868374Z",
     "iopub.status.idle": "2021-09-09T12:14:11.442052Z",
     "shell.execute_reply": "2021-09-09T12:14:11.441771Z"
    },
    "papermill": {
     "duration": 0.586022,
     "end_time": "2021-09-09T12:14:11.442123",
     "exception": false,
     "start_time": "2021-09-09T12:14:10.856101",
     "status": "completed"
    },
    "tags": []
   },
   "outputs": [
    {
     "name": "stdout",
     "output_type": "stream",
     "text": [
      "1.0\n"
     ]
    }
   ],
   "source": [
    "# Check if subject has .nii file\n",
    "has_file = np.array([os.path.exists(os.path.join(data_dir,sub + '.npz')) for sub in df['bids_folder'].values])\n",
    "print(has_file.mean())\n",
    "assert has_file.mean()==1.0, 'fuck'"
   ]
  },
  {
   "cell_type": "code",
   "execution_count": 9,
   "id": "481140e1",
   "metadata": {
    "execution": {
     "iopub.execute_input": "2021-09-09T12:14:11.467471Z",
     "iopub.status.busy": "2021-09-09T12:14:11.467137Z",
     "iopub.status.idle": "2021-09-09T12:15:01.391458Z",
     "shell.execute_reply": "2021-09-09T12:15:01.391149Z"
    },
    "papermill": {
     "duration": 49.939435,
     "end_time": "2021-09-09T12:15:01.391547",
     "exception": false,
     "start_time": "2021-09-09T12:14:11.452112",
     "status": "completed"
    },
    "tags": []
   },
   "outputs": [
    {
     "name": "stdout",
     "output_type": "stream",
     "text": [
      "CPU times: user 0 ns, sys: 2 µs, total: 2 µs\n",
      "Wall time: 4.53 µs\n"
     ]
    }
   ],
   "source": [
    "%time\n",
    "# LOAD DATA\n",
    "n_subs = len(df)\n",
    "#n_subs = 200\n",
    "data_size = np.hstack((n_subs,np.load(os.path.join(data_dir,df['bids_folder'].values[0] + '.npz'))['data'].shape))\n",
    "data = np.zeros(data_size)\n",
    "#for s in tqdm(range(len(df))):\n",
    "for s in range(n_subs):\n",
    "    sub = df['bids_folder'].values[s]\n",
    "    datum = np.load(os.path.join(data_dir,sub + '.npz'))['data']\n",
    "    data[s,:,:,:,:] = datum"
   ]
  },
  {
   "cell_type": "code",
   "execution_count": 10,
   "id": "ce040a70",
   "metadata": {
    "execution": {
     "iopub.execute_input": "2021-09-09T12:15:01.419349Z",
     "iopub.status.busy": "2021-09-09T12:15:01.419027Z",
     "iopub.status.idle": "2021-09-09T12:15:01.420493Z",
     "shell.execute_reply": "2021-09-09T12:15:01.420216Z"
    },
    "papermill": {
     "duration": 0.016497,
     "end_time": "2021-09-09T12:15:01.420562",
     "exception": false,
     "start_time": "2021-09-09T12:15:01.404065",
     "status": "completed"
    },
    "tags": []
   },
   "outputs": [],
   "source": [
    "df = df.iloc[0:n_subs]"
   ]
  },
  {
   "cell_type": "code",
   "execution_count": 11,
   "id": "96f93e9c",
   "metadata": {
    "execution": {
     "iopub.execute_input": "2021-09-09T12:15:01.443604Z",
     "iopub.status.busy": "2021-09-09T12:15:01.443261Z",
     "iopub.status.idle": "2021-09-09T12:15:07.858522Z",
     "shell.execute_reply": "2021-09-09T12:15:07.858247Z"
    },
    "papermill": {
     "duration": 6.428039,
     "end_time": "2021-09-09T12:15:07.858596",
     "exception": false,
     "start_time": "2021-09-09T12:15:01.430557",
     "status": "completed"
    },
    "tags": []
   },
   "outputs": [],
   "source": [
    "hasnans = np.array([np.isnan(data[s,:,:,:,:]).sum()!=0 for s in range(data.shape[0])])\n",
    "df = df.iloc[~hasnans]\n",
    "data = data[~hasnans,:,:,:,:]"
   ]
  },
  {
   "cell_type": "code",
   "execution_count": 12,
   "id": "3db70e8c",
   "metadata": {
    "execution": {
     "iopub.execute_input": "2021-09-09T12:15:07.892284Z",
     "iopub.status.busy": "2021-09-09T12:15:07.891964Z",
     "iopub.status.idle": "2021-09-09T12:15:07.893662Z",
     "shell.execute_reply": "2021-09-09T12:15:07.893918Z"
    },
    "papermill": {
     "duration": 0.014832,
     "end_time": "2021-09-09T12:15:07.893999",
     "exception": false,
     "start_time": "2021-09-09T12:15:07.879167",
     "status": "completed"
    },
    "tags": []
   },
   "outputs": [
    {
     "data": {
      "text/plain": [
       "(1048, 32, 32, 32, 51)"
      ]
     },
     "execution_count": 12,
     "metadata": {},
     "output_type": "execute_result"
    }
   ],
   "source": [
    "data.shape"
   ]
  },
  {
   "cell_type": "code",
   "execution_count": 13,
   "id": "77b828f2",
   "metadata": {
    "execution": {
     "iopub.execute_input": "2021-09-09T12:15:07.918558Z",
     "iopub.status.busy": "2021-09-09T12:15:07.918203Z",
     "iopub.status.idle": "2021-09-09T12:15:07.919411Z",
     "shell.execute_reply": "2021-09-09T12:15:07.919074Z"
    },
    "papermill": {
     "duration": 0.014003,
     "end_time": "2021-09-09T12:15:07.919503",
     "exception": false,
     "start_time": "2021-09-09T12:15:07.905500",
     "status": "completed"
    },
    "tags": []
   },
   "outputs": [],
   "source": [
    "# def norm(mat):\n",
    "#     normed = (mat - mat.min()) / (mat.max()-mat.min())\n",
    "#     return normed "
   ]
  },
  {
   "cell_type": "code",
   "execution_count": 14,
   "id": "62ea785f",
   "metadata": {
    "execution": {
     "iopub.execute_input": "2021-09-09T12:15:07.942251Z",
     "iopub.status.busy": "2021-09-09T12:15:07.941935Z",
     "iopub.status.idle": "2021-09-09T12:15:07.943654Z",
     "shell.execute_reply": "2021-09-09T12:15:07.943383Z"
    },
    "papermill": {
     "duration": 0.013778,
     "end_time": "2021-09-09T12:15:07.943722",
     "exception": false,
     "start_time": "2021-09-09T12:15:07.929944",
     "status": "completed"
    },
    "tags": []
   },
   "outputs": [],
   "source": [
    "# %time\n",
    "# data = np.array([norm(data[i,:,:,:,:]) for i in range(data.shape[0])])\n",
    "# data[np.isnan(data)]=0"
   ]
  },
  {
   "cell_type": "code",
   "execution_count": 15,
   "id": "323c6841",
   "metadata": {
    "execution": {
     "iopub.execute_input": "2021-09-09T12:15:07.966937Z",
     "iopub.status.busy": "2021-09-09T12:15:07.966622Z",
     "iopub.status.idle": "2021-09-09T12:15:11.331118Z",
     "shell.execute_reply": "2021-09-09T12:15:11.331379Z"
    },
    "papermill": {
     "duration": 3.377446,
     "end_time": "2021-09-09T12:15:11.331465",
     "exception": false,
     "start_time": "2021-09-09T12:15:07.954019",
     "status": "completed"
    },
    "tags": []
   },
   "outputs": [],
   "source": [
    "assert np.isnan(data).mean()==0.0, 'you f****d up'"
   ]
  },
  {
   "cell_type": "code",
   "execution_count": 16,
   "id": "3cf02c47",
   "metadata": {
    "execution": {
     "iopub.execute_input": "2021-09-09T12:15:11.370936Z",
     "iopub.status.busy": "2021-09-09T12:15:11.370615Z",
     "iopub.status.idle": "2021-09-09T12:15:11.488728Z",
     "shell.execute_reply": "2021-09-09T12:15:11.488995Z"
    },
    "papermill": {
     "duration": 0.145337,
     "end_time": "2021-09-09T12:15:11.489095",
     "exception": false,
     "start_time": "2021-09-09T12:15:11.343758",
     "status": "completed"
    },
    "tags": []
   },
   "outputs": [
    {
     "data": {
      "image/png": "[encoded data removed]",
      "text/plain": [
       "<Figure size 432x288 with 4 Axes>"
      ]
     },
     "metadata": {},
     "output_type": "display_data"
    }
   ],
   "source": [
    "plt.subplot(2,2,1);plt.imshow(data[10,:,:,20,0]);plt.xticks([]);plt.yticks([]);\n",
    "plt.subplot(2,2,2);plt.imshow(data[np.random.randint(0,data.shape[0]),:,:,20,0]);plt.xticks([]);plt.yticks([]);\n",
    "plt.subplot(2,2,3);plt.imshow(data[np.random.randint(0,data.shape[0]),20,:,:,0]);plt.xticks([]);plt.yticks([]);\n",
    "plt.subplot(2,2,4);plt.imshow(data[np.random.randint(0,data.shape[0]),:,20,:,0]);plt.xticks([]);plt.yticks([]);"
   ]
  },
  {
   "cell_type": "code",
   "execution_count": 17,
   "id": "2b580eaa",
   "metadata": {
    "execution": {
     "iopub.execute_input": "2021-09-09T12:15:11.515618Z",
     "iopub.status.busy": "2021-09-09T12:15:11.515294Z",
     "iopub.status.idle": "2021-09-09T12:15:29.450508Z",
     "shell.execute_reply": "2021-09-09T12:15:29.450198Z"
    },
    "papermill": {
     "duration": 17.94994,
     "end_time": "2021-09-09T12:15:29.450597",
     "exception": false,
     "start_time": "2021-09-09T12:15:11.500657",
     "status": "completed"
    },
    "tags": []
   },
   "outputs": [
    {
     "name": "stdout",
     "output_type": "stream",
     "text": [
      "CPU times: user 5 µs, sys: 1 µs, total: 6 µs\n",
      "Wall time: 7.87 µs\n"
     ]
    }
   ],
   "source": [
    "%time\n",
    "from helper_funcs import *\n",
    "from importlib import reload\n",
    "import make_models\n",
    "reload(make_models)\n",
    "del make_models\n",
    "from make_models import *\n",
    "\n",
    "from IPython import display\n",
    "import sys\n",
    "from sklearn.decomposition import PCA\n",
    "import seaborn as sns"
   ]
  },
  {
   "cell_type": "code",
   "execution_count": 18,
   "id": "3a4f0216",
   "metadata": {
    "execution": {
     "iopub.execute_input": "2021-09-09T12:15:31.544545Z",
     "iopub.status.busy": "2021-09-09T12:15:31.544180Z",
     "iopub.status.idle": "2021-09-09T12:15:31.545878Z",
     "shell.execute_reply": "2021-09-09T12:15:31.546141Z"
    },
    "papermill": {
     "duration": 2.081129,
     "end_time": "2021-09-09T12:15:31.546247",
     "exception": false,
     "start_time": "2021-09-09T12:15:29.465118",
     "status": "completed"
    },
    "tags": []
   },
   "outputs": [
    {
     "data": {
      "text/plain": [
       "'/device:GPU:0'"
      ]
     },
     "execution_count": 18,
     "metadata": {},
     "output_type": "execute_result"
    }
   ],
   "source": [
    "import tensorflow as tf\n",
    "tf.test.gpu_device_name()"
   ]
  },
  {
   "cell_type": "code",
   "execution_count": 19,
   "id": "9b7cbe1d",
   "metadata": {
    "execution": {
     "iopub.execute_input": "2021-09-09T12:15:31.572890Z",
     "iopub.status.busy": "2021-09-09T12:15:31.572572Z",
     "iopub.status.idle": "2021-09-09T12:15:32.140393Z",
     "shell.execute_reply": "2021-09-09T12:15:32.140104Z"
    },
    "papermill": {
     "duration": 0.58251,
     "end_time": "2021-09-09T12:15:32.140476",
     "exception": false,
     "start_time": "2021-09-09T12:15:31.557966",
     "status": "completed"
    },
    "tags": []
   },
   "outputs": [],
   "source": [
    "import make_models\n",
    "reload(make_models)\n",
    "from make_models import *\n",
    "batch_size = 16\n",
    "cvae, z_encoder, s_encoder, cvae_decoder = get_MRI_CCVAE_3D(input_shape=tuple(data_size[1::]),\n",
    "                   latent_dim = 8, \n",
    "                   batch_size = batch_size, \n",
    "                   disentangle = True, \n",
    "                   gamma = 1,\n",
    "                   kernel_size = 3,\n",
    "                   filters = 8,\n",
    "                   intermediate_dim = 128,\n",
    "                   nlayers = 2,\n",
    "                   learning_rate=0.001)"
   ]
  },
  {
   "cell_type": "code",
   "execution_count": 20,
   "id": "895480fa",
   "metadata": {
    "execution": {
     "iopub.execute_input": "2021-09-09T12:15:32.166553Z",
     "iopub.status.busy": "2021-09-09T12:15:32.166224Z",
     "iopub.status.idle": "2021-09-09T12:15:32.167936Z",
     "shell.execute_reply": "2021-09-09T12:15:32.167669Z"
    },
    "papermill": {
     "duration": 0.016027,
     "end_time": "2021-09-09T12:15:32.168005",
     "exception": false,
     "start_time": "2021-09-09T12:15:32.151978",
     "status": "completed"
    },
    "tags": []
   },
   "outputs": [],
   "source": [
    "patients = df['DX_GROUP'].values==1\n",
    "controls = df['DX_GROUP'].values==2\n",
    "\n",
    "#patient_data = data[patients,:,:,:,:]\n",
    "#control_data = data[controls,:,:,:,:]\n",
    "\n",
    "#patient_batch = patient_data[np.random.randint(low=0,high=patient_data.shape[0],size=32),:,:,:,:]\n",
    "#control_batch = control_data[np.random.randint(low=0,high=control_data.shape[0],size=32),:,:,:,:]"
   ]
  },
  {
   "cell_type": "code",
   "execution_count": 21,
   "id": "780a3173",
   "metadata": {
    "execution": {
     "iopub.execute_input": "2021-09-09T12:15:32.193218Z",
     "iopub.status.busy": "2021-09-09T12:15:32.192906Z",
     "iopub.status.idle": "2021-09-09T12:15:32.194680Z",
     "shell.execute_reply": "2021-09-09T12:15:32.194413Z"
    },
    "papermill": {
     "duration": 0.015298,
     "end_time": "2021-09-09T12:15:32.194749",
     "exception": false,
     "start_time": "2021-09-09T12:15:32.179451",
     "status": "completed"
    },
    "tags": []
   },
   "outputs": [],
   "source": [
    "loss = list()"
   ]
  },
  {
   "cell_type": "code",
   "execution_count": 22,
   "id": "089da832",
   "metadata": {
    "execution": {
     "iopub.execute_input": "2021-09-09T12:15:32.229058Z",
     "iopub.status.busy": "2021-09-09T12:15:32.228717Z"
    },
    "papermill": {
     "duration": null,
     "end_time": null,
     "exception": false,
     "start_time": "2021-09-09T12:15:32.206094",
     "status": "running"
    },
    "tags": []
   },
   "outputs": [
    {
     "data": {
      "image/png": "[encoded data removed]",
      "text/plain": [
       "<Figure size 1080x1080 with 20 Axes>"
      ]
     },
     "metadata": {},
     "output_type": "display_data"
    },
    {
     "name": "stderr",
     "output_type": "stream",
     "text": [
      "<ipython-input-22-8d83f8ddb32b>:17: MatplotlibDeprecationWarning: Passing non-integers as three-element position specification is deprecated since 3.3 and will be removed two minor releases later.\n",
      "  plt.subplot(nrows,ncols/2,1)\n"
     ]
    },
    {
     "name": "stderr",
     "output_type": "stream",
     "text": [
      "\r",
      "  9%|▉         | 889/10000 [1:40:09<16:36:42,  6.56s/it]"
     ]
    }
   ],
   "source": [
    "for i in tqdm(range(10000),position=0, leave=True):\n",
    "    \n",
    "    patient_batch = data[patients,:,:,:,:][np.random.randint(low=0,high=patients.sum(),size=batch_size),:,:,:,:]\n",
    "    control_batch = data[controls,:,:,:,:][np.random.randint(low=0,high=controls.sum(),size=batch_size),:,:,:,:]\n",
    "    hist = cvae.train_on_batch([patient_batch,control_batch])\n",
    "    assert not np.isnan(hist),'loss is NaN - you f**cked up'\n",
    "    \n",
    "    loss.append(hist)\n",
    "    display.clear_output(wait=True);\n",
    "    display.display(plt.gcf());\n",
    "    \n",
    "    #Organise figure\n",
    "    ncols = 4;nrows=5\n",
    "    plt.subplots(nrows,ncols,figsize=(15,15));\n",
    "    \n",
    "    # Plot loss\n",
    "    plt.subplot(nrows,ncols/2,1)\n",
    "    xs = np.arange(len(loss))+1\n",
    "    m,b = np.polyfit(xs,loss,deg=1)\n",
    "    plt.plot(loss)\n",
    "    plt.plot(xs, m*xs + b)\n",
    "    plt.title(hist)\n",
    "    \n",
    "    plt.subplot(nrows,ncols,5)\n",
    "    hb = 50\n",
    "    if len(loss)>hb:\n",
    "        plot_loss = loss[-hb::]\n",
    "        xs = np.arange(len(plot_loss))\n",
    "        m,b = np.polyfit(xs,plot_loss,deg=1)\n",
    "        plt.plot(plot_loss)\n",
    "        plt.plot(xs, m*xs + b)\n",
    "        #plt.title(hist)\n",
    "    plt.title(f'loss last {hb} it')\n",
    "    \n",
    "    # Plot recon\n",
    "    #prediction = cvae.predict(patient_batch)    \n",
    "    prediction = cvae.predict([patient_batch,control_batch])[0]\n",
    "    \n",
    "    plt.subplot(nrows,ncols,3)\n",
    "    plt.imshow(patient_batch[0,:,:,20,0])\n",
    "    plt.xticks([]);plt.yticks([]);plt.title('actual')\n",
    "    \n",
    "    plt.subplot(nrows,ncols,4)\n",
    "    plt.imshow(prediction[0,:,:,20,0])\n",
    "    plt.xticks([]);plt.yticks([]);plt.title('predicted')\n",
    "    \n",
    "    plt.subplot(nrows,ncols,8)\n",
    "    plt.hist(prediction[0,:,:,:,0].flatten(),alpha=.5)\n",
    "    plt.hist(patient_batch[0,:,:,:,0].flatten(),alpha=.5)\n",
    "    plt.legend(['predicted','actual']);plt.title('predicted')\n",
    "    \n",
    "    plt.subplot(nrows,ncols,6)\n",
    "    pc = PCA(n_components=2).fit_transform(z_encoder.predict(patient_batch)[2])\n",
    "    plt.scatter(pc[:,0],pc[:,1],s=100,alpha=.5);plt.title('batch latent rep. PCA')\n",
    "    \n",
    "    plt.subplot(nrows,ncols,7)\n",
    "    sns.heatmap(np.corrcoef(prediction.reshape(32,-1)),xticklabels=[],yticklabels=[])\n",
    "    plt.title('batch latent rep. RSA')\n",
    "    \n",
    "    plt.tight_layout()\n",
    "    #sys.stdout.flush()"
   ]
  },
  {
   "cell_type": "code",
   "execution_count": null,
   "id": "3f6b5b7c",
   "metadata": {
    "papermill": {
     "duration": null,
     "end_time": null,
     "exception": null,
     "start_time": null,
     "status": "pending"
    },
    "tags": []
   },
   "outputs": [],
   "source": []
  },
  {
   "cell_type": "code",
   "execution_count": null,
   "id": "bf3db5b8",
   "metadata": {
    "papermill": {
     "duration": null,
     "end_time": null,
     "exception": null,
     "start_time": null,
     "status": "pending"
    },
    "tags": []
   },
   "outputs": [],
   "source": []
  },
  {
   "cell_type": "code",
   "execution_count": null,
   "id": "37b6f2b4",
   "metadata": {
    "papermill": {
     "duration": null,
     "end_time": null,
     "exception": null,
     "start_time": null,
     "status": "pending"
    },
    "tags": []
   },
   "outputs": [],
   "source": []
  },
  {
   "cell_type": "code",
   "execution_count": null,
   "id": "f55ad066",
   "metadata": {
    "papermill": {
     "duration": null,
     "end_time": null,
     "exception": null,
     "start_time": null,
     "status": "pending"
    },
    "tags": []
   },
   "outputs": [],
   "source": []
  }
 ],
 "metadata": {
  "kernelspec": {
   "display_name": "Python 3",
   "language": "python",
   "name": "python3"
  },
  "language_info": {
   "codemirror_mode": {
    "name": "ipython",
    "version": 3
   },
   "file_extension": ".py",
   "mimetype": "text/x-python",
   "name": "python",
   "nbconvert_exporter": "python",
   "pygments_lexer": "ipython3",
   "version": "3.8.5"
  },
  "papermill": {
   "default_parameters": {},
   "duration": null,
   "end_time": null,
   "environment_variables": {},
   "exception": null,
   "input_path": "01-train-CVAE.ipynb",
   "output_path": "./papermill/papermill|01-train-CVAE|2021-09-09-08-14-03.ipynb",
   "parameters": {},
   "start_time": "2021-09-09T12:14:05.999129",
   "version": "2.3.3"
  }
 },
 "nbformat": 4,
 "nbformat_minor": 5
}