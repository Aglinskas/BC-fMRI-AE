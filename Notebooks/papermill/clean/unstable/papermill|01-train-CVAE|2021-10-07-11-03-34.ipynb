{
 "cells": [
  {
   "cell_type": "code",
   "execution_count": 1,
   "id": "d7566a7b",
   "metadata": {
    "execution": {
     "iopub.execute_input": "2021-10-07T15:03:37.649376Z",
     "iopub.status.busy": "2021-10-07T15:03:37.649035Z",
     "iopub.status.idle": "2021-10-07T15:03:37.651110Z",
     "shell.execute_reply": "2021-10-07T15:03:37.650773Z"
    },
    "papermill": {
     "duration": 0.020596,
     "end_time": "2021-10-07T15:03:37.651220",
     "exception": false,
     "start_time": "2021-10-07T15:03:37.630624",
     "status": "completed"
    },
    "tags": []
   },
   "outputs": [
    {
     "data": {
      "text/plain": [
       "'/mmfs1/data/aglinska/BC-fMRI-AE/Notebooks'"
      ]
     },
     "execution_count": 1,
     "metadata": {},
     "output_type": "execute_result"
    }
   ],
   "source": [
    "pwd"
   ]
  },
  {
   "cell_type": "code",
   "execution_count": 2,
   "id": "4405bc8f",
   "metadata": {
    "execution": {
     "iopub.execute_input": "2021-10-07T15:03:37.674137Z",
     "iopub.status.busy": "2021-10-07T15:03:37.673810Z",
     "iopub.status.idle": "2021-10-07T15:03:37.675068Z",
     "shell.execute_reply": "2021-10-07T15:03:37.675326Z"
    },
    "papermill": {
     "duration": 0.013488,
     "end_time": "2021-10-07T15:03:37.675407",
     "exception": false,
     "start_time": "2021-10-07T15:03:37.661919",
     "status": "completed"
    },
    "tags": []
   },
   "outputs": [],
   "source": [
    "import os\n",
    "os.environ['CUDA_VISIBLE_DEVICES']='1'"
   ]
  },
  {
   "cell_type": "code",
   "execution_count": 3,
   "id": "3f4f4a6a",
   "metadata": {
    "execution": {
     "iopub.execute_input": "2021-10-07T15:03:37.698437Z",
     "iopub.status.busy": "2021-10-07T15:03:37.698113Z",
     "iopub.status.idle": "2021-10-07T15:03:37.699870Z",
     "shell.execute_reply": "2021-10-07T15:03:37.700137Z"
    },
    "papermill": {
     "duration": 0.014337,
     "end_time": "2021-10-07T15:03:37.700219",
     "exception": false,
     "start_time": "2021-10-07T15:03:37.685882",
     "status": "completed"
    },
    "tags": []
   },
   "outputs": [
    {
     "name": "stdout",
     "output_type": "stream",
     "text": [
      "Variable   Type      Data/Info\n",
      "------------------------------\n",
      "os         module    <module 'os' from '/data/<...>da3/lib/python3.8/os.py'>\n"
     ]
    }
   ],
   "source": [
    "whos"
   ]
  },
  {
   "cell_type": "code",
   "execution_count": 4,
   "id": "69709828",
   "metadata": {
    "execution": {
     "iopub.execute_input": "2021-10-07T15:03:37.723494Z",
     "iopub.status.busy": "2021-10-07T15:03:37.723169Z",
     "iopub.status.idle": "2021-10-07T15:03:37.845311Z",
     "shell.execute_reply": "2021-10-07T15:03:37.845035Z"
    },
    "papermill": {
     "duration": 0.134883,
     "end_time": "2021-10-07T15:03:37.845385",
     "exception": false,
     "start_time": "2021-10-07T15:03:37.710502",
     "status": "completed"
    },
    "tags": []
   },
   "outputs": [
    {
     "name": "stdout",
     "output_type": "stream",
     "text": [
      "              total        used        free      shared  buff/cache   available\r\n",
      "Mem:            187           6         178           0           2         179\r\n",
      "Swap:            11           0          11\r\n"
     ]
    }
   ],
   "source": [
    "!free -g"
   ]
  },
  {
   "cell_type": "code",
   "execution_count": 5,
   "id": "74833571",
   "metadata": {
    "execution": {
     "iopub.execute_input": "2021-10-07T15:03:37.875735Z",
     "iopub.status.busy": "2021-10-07T15:03:37.873405Z",
     "iopub.status.idle": "2021-10-07T15:03:38.179113Z",
     "shell.execute_reply": "2021-10-07T15:03:38.178830Z"
    },
    "papermill": {
     "duration": 0.318918,
     "end_time": "2021-10-07T15:03:38.179190",
     "exception": false,
     "start_time": "2021-10-07T15:03:37.860272",
     "status": "completed"
    },
    "tags": []
   },
   "outputs": [
    {
     "name": "stdout",
     "output_type": "stream",
     "text": [
      "Thu Oct  7 11:03:37 2021       \r\n",
      "+-----------------------------------------------------------------------------+\r\n",
      "| NVIDIA-SMI 450.51.05    Driver Version: 450.51.05    CUDA Version: 11.0     |\r\n",
      "|-------------------------------+----------------------+----------------------+\r\n",
      "| GPU  Name        Persistence-M| Bus-Id        Disp.A | Volatile Uncorr. ECC |\r\n",
      "| Fan  Temp  Perf  Pwr:Usage/Cap|         Memory-Usage | GPU-Util  Compute M. |\r\n",
      "|                               |                      |               MIG M. |\r\n",
      "|===============================+======================+======================|\r\n",
      "|   0  Tesla V100-SXM2...  On   | 00000000:18:00.0 Off |                    0 |\r\n",
      "| N/A   33C    P0    43W / 300W |      0MiB / 16160MiB |      0%      Default |\r\n",
      "|                               |                      |                  N/A |\r\n",
      "+-------------------------------+----------------------+----------------------+\r\n",
      "|   1  Tesla V100-SXM2...  On   | 00000000:3B:00.0 Off |                    0 |\r\n",
      "| N/A   33C    P0    58W / 300W |  15660MiB / 16160MiB |      3%      Default |\r\n",
      "|                               |                      |                  N/A |\r\n",
      "+-------------------------------+----------------------+----------------------+\r\n",
      "|   2  Tesla V100-SXM2...  On   | 00000000:86:00.0 Off |                    0 |\r\n",
      "| N/A   31C    P0    42W / 300W |      0MiB / 16160MiB |      0%      Default |\r\n",
      "|                               |                      |                  N/A |\r\n",
      "+-------------------------------+----------------------+----------------------+\r\n"
     ]
    },
    {
     "name": "stdout",
     "output_type": "stream",
     "text": [
      "|   3  Tesla V100-SXM2...  On   | 00000000:AF:00.0 Off |                    0 |\r\n",
      "| N/A   33C    P0    40W / 300W |      0MiB / 16160MiB |      0%      Default |\r\n",
      "|                               |                      |                  N/A |\r\n",
      "+-------------------------------+----------------------+----------------------+\r\n",
      "                                                                               \r\n",
      "+-----------------------------------------------------------------------------+\r\n",
      "| Processes:                                                                  |\r\n",
      "|  GPU   GI   CI        PID   Type   Process name                  GPU Memory |\r\n",
      "|        ID   ID                                                   Usage      |\r\n",
      "|=============================================================================|\r\n",
      "|    1   N/A  N/A      5874      C   ...a/anaconda3/bin/python3.8    15657MiB |\r\n",
      "+-----------------------------------------------------------------------------+\r\n"
     ]
    }
   ],
   "source": [
    "!nvidia-smi"
   ]
  },
  {
   "cell_type": "code",
   "execution_count": 6,
   "id": "e0abc031",
   "metadata": {
    "execution": {
     "iopub.execute_input": "2021-10-07T15:03:38.205214Z",
     "iopub.status.busy": "2021-10-07T15:03:38.204881Z",
     "iopub.status.idle": "2021-10-07T15:03:38.220132Z",
     "shell.execute_reply": "2021-10-07T15:03:38.219848Z"
    },
    "papermill": {
     "duration": 0.029526,
     "end_time": "2021-10-07T15:03:38.220204",
     "exception": false,
     "start_time": "2021-10-07T15:03:38.190678",
     "status": "completed"
    },
    "tags": []
   },
   "outputs": [
    {
     "name": "stdout",
     "output_type": "stream",
     "text": [
      "CVAE_2021-10-07 11:03:38.204240\n"
     ]
    }
   ],
   "source": [
    "import os\n",
    "from datetime import datetime; now = datetime.now\n",
    "\n",
    "analysis_name = 'CVAE_'+str(now())\n",
    "save_dir = os.path.join('../Assets/tf_weights',analysis_name)\n",
    "if not os.path.exists(save_dir):\n",
    "    os.mkdir(save_dir)\n",
    "    \n",
    "print(analysis_name)"
   ]
  },
  {
   "cell_type": "code",
   "execution_count": 7,
   "id": "137c3c29",
   "metadata": {
    "execution": {
     "iopub.execute_input": "2021-10-07T15:03:38.246258Z",
     "iopub.status.busy": "2021-10-07T15:03:38.245920Z",
     "iopub.status.idle": "2021-10-07T15:03:38.265307Z",
     "shell.execute_reply": "2021-10-07T15:03:38.265026Z"
    },
    "papermill": {
     "duration": 0.03403,
     "end_time": "2021-10-07T15:03:38.265377",
     "exception": false,
     "start_time": "2021-10-07T15:03:38.231347",
     "status": "completed"
    },
    "tags": []
   },
   "outputs": [
    {
     "name": "stdout",
     "output_type": "stream",
     "text": [
      "Total memory: 15.78173828125\n",
      "Free memory: 15.7816162109375\n",
      "Used memory: 0.0001220703125\n"
     ]
    }
   ],
   "source": [
    "# CHECK GPU\n",
    "import nvidia_smi\n",
    "try:\n",
    "    nvidia_smi.nvmlInit()\n",
    "\n",
    "    handle = nvidia_smi.nvmlDeviceGetHandleByIndex(0)\n",
    "    # card id 0 hardcoded here, there is also a call to get all available card ids, so we could iterate\n",
    "\n",
    "    info = nvidia_smi.nvmlDeviceGetMemoryInfo(handle)\n",
    "\n",
    "    print(\"Total memory:\", (info.total/1024/1024/1024))\n",
    "    print(\"Free memory:\", (info.free/1024/1024/1024))\n",
    "    print(\"Used memory:\", (info.used/1024/1024/1024))\n",
    "\n",
    "    nvidia_smi.nvmlShutdown()\n",
    "except:\n",
    "    pass"
   ]
  },
  {
   "cell_type": "code",
   "execution_count": 8,
   "id": "d17750ed",
   "metadata": {
    "execution": {
     "iopub.execute_input": "2021-10-07T15:03:38.290558Z",
     "iopub.status.busy": "2021-10-07T15:03:38.290234Z",
     "iopub.status.idle": "2021-10-07T15:03:38.291888Z",
     "shell.execute_reply": "2021-10-07T15:03:38.291612Z"
    },
    "papermill": {
     "duration": 0.015032,
     "end_time": "2021-10-07T15:03:38.291957",
     "exception": false,
     "start_time": "2021-10-07T15:03:38.276925",
     "status": "completed"
    },
    "tags": []
   },
   "outputs": [],
   "source": [
    "## SET UP"
   ]
  },
  {
   "cell_type": "code",
   "execution_count": 9,
   "id": "1c47159e",
   "metadata": {
    "execution": {
     "iopub.execute_input": "2021-10-07T15:03:38.318934Z",
     "iopub.status.busy": "2021-10-07T15:03:38.318611Z",
     "iopub.status.idle": "2021-10-07T15:03:56.476894Z",
     "shell.execute_reply": "2021-10-07T15:03:56.477185Z"
    },
    "papermill": {
     "duration": 18.173027,
     "end_time": "2021-10-07T15:03:56.477298",
     "exception": false,
     "start_time": "2021-10-07T15:03:38.304271",
     "status": "completed"
    },
    "tags": []
   },
   "outputs": [],
   "source": [
    "import numpy as np\n",
    "import pandas as pd\n",
    "from tqdm import tqdm\n",
    "from matplotlib import pyplot as plt\n",
    "\n",
    "from functools import partial\n",
    "from tqdm import tqdm\n",
    "from umap import UMAP\n",
    "tqdm = partial(tqdm, position=0, leave=True) "
   ]
  },
  {
   "cell_type": "code",
   "execution_count": 10,
   "id": "ad628928",
   "metadata": {
    "execution": {
     "iopub.execute_input": "2021-10-07T15:03:56.509945Z",
     "iopub.status.busy": "2021-10-07T15:03:56.509617Z",
     "iopub.status.idle": "2021-10-07T15:03:56.521351Z",
     "shell.execute_reply": "2021-10-07T15:03:56.521075Z"
    },
    "papermill": {
     "duration": 0.029482,
     "end_time": "2021-10-07T15:03:56.521431",
     "exception": false,
     "start_time": "2021-10-07T15:03:56.491949",
     "status": "completed"
    },
    "tags": []
   },
   "outputs": [],
   "source": [
    "df = pd.read_csv('../Data/ABIDE_df2.csv')\n",
    "df = df.iloc[~pd.isna(df['bids_folder']).values]\n",
    "data_dir = '../Assets/fc_mats_32smooth_new/'"
   ]
  },
  {
   "cell_type": "code",
   "execution_count": 11,
   "id": "c7ed135f",
   "metadata": {
    "execution": {
     "iopub.execute_input": "2021-10-07T15:03:56.547906Z",
     "iopub.status.busy": "2021-10-07T15:03:56.547588Z",
     "iopub.status.idle": "2021-10-07T15:03:56.551100Z",
     "shell.execute_reply": "2021-10-07T15:03:56.550768Z"
    },
    "papermill": {
     "duration": 0.017605,
     "end_time": "2021-10-07T15:03:56.551173",
     "exception": false,
     "start_time": "2021-10-07T15:03:56.533568",
     "status": "completed"
    },
    "tags": []
   },
   "outputs": [
    {
     "data": {
      "text/plain": [
       "['sub-CMUa0050642.npy',\n",
       " 'sub-CMUa0050646.npy',\n",
       " 'sub-CMUa0050647.npy',\n",
       " 'sub-CMUa0050649.npy',\n",
       " 'sub-CMUa0050653.npy']"
      ]
     },
     "execution_count": 11,
     "metadata": {},
     "output_type": "execute_result"
    }
   ],
   "source": [
    "files = [file for file in os.listdir(data_dir) if file.endswith('.npy')]\n",
    "files.sort()\n",
    "files[0:5]"
   ]
  },
  {
   "cell_type": "code",
   "execution_count": 12,
   "id": "68342215",
   "metadata": {
    "execution": {
     "iopub.execute_input": "2021-10-07T15:03:56.588052Z",
     "iopub.status.busy": "2021-10-07T15:03:56.585993Z",
     "iopub.status.idle": "2021-10-07T15:03:57.207657Z",
     "shell.execute_reply": "2021-10-07T15:03:57.207331Z"
    },
    "papermill": {
     "duration": 0.64368,
     "end_time": "2021-10-07T15:03:57.207730",
     "exception": false,
     "start_time": "2021-10-07T15:03:56.564050",
     "status": "completed"
    },
    "tags": []
   },
   "outputs": [
    {
     "name": "stdout",
     "output_type": "stream",
     "text": [
      "1048\n"
     ]
    },
    {
     "name": "stdout",
     "output_type": "stream",
     "text": [
      "1.0\n"
     ]
    }
   ],
   "source": [
    "subs_with_matFiles = [file.split('.')[0] for file in files]\n",
    "df = df.iloc[np.array([sub in subs_with_matFiles for sub in df['bids_folder'].values])]\n",
    "n_subs = len(df)\n",
    "print(n_subs)\n",
    "\n",
    "# Check if subject has .nii file\n",
    "has_file = np.array([os.path.exists(os.path.join(data_dir,sub + '.npy')) for sub in df['bids_folder'].values])\n",
    "print(has_file.mean())\n",
    "assert has_file.mean()==1.0, 'fuck'\n",
    "\n",
    "assert len(subs_with_matFiles)==len(df),'no'\n",
    "df = df.sort_values(by='bids_folder')\n",
    "assert all([subs_with_matFiles[i]==df['bids_folder'].values[i] for i in range(n_subs)]), 'out of order'\n",
    "\n",
    "df.index = np.arange(n_subs)"
   ]
  },
  {
   "cell_type": "code",
   "execution_count": 13,
   "id": "63669ae6",
   "metadata": {
    "execution": {
     "iopub.execute_input": "2021-10-07T15:03:57.237958Z",
     "iopub.status.busy": "2021-10-07T15:03:57.237630Z",
     "iopub.status.idle": "2021-10-07T15:03:57.467659Z",
     "shell.execute_reply": "2021-10-07T15:03:57.467378Z"
    },
    "papermill": {
     "duration": 0.245133,
     "end_time": "2021-10-07T15:03:57.467731",
     "exception": false,
     "start_time": "2021-10-07T15:03:57.222598",
     "status": "completed"
    },
    "tags": []
   },
   "outputs": [
    {
     "name": "stdout",
     "output_type": "stream",
     "text": [
      "CPU times: user 48.2 ms, sys: 13.1 ms, total: 61.3 ms\n",
      "Wall time: 227 ms\n"
     ]
    },
    {
     "data": {
      "text/plain": [
       "<module 'tensorflow' from '/data/aglinska/anaconda3/lib/python3.8/site-packages/tensorflow/__init__.py'>"
      ]
     },
     "execution_count": 13,
     "metadata": {},
     "output_type": "execute_result"
    }
   ],
   "source": [
    "%%time\n",
    "from importlib import reload\n",
    "import helper_funcs;reload(helper_funcs);from helper_funcs import *\n",
    "del helper_funcs\n",
    "import make_models;reload(make_models);from make_models import *\n",
    "del make_models\n",
    "\n",
    "from IPython import display\n",
    "import sys\n",
    "from sklearn.decomposition import PCA\n",
    "import seaborn as sns\n",
    "\n",
    "import tensorflow as tf\n",
    "reload(tf)"
   ]
  },
  {
   "cell_type": "code",
   "execution_count": 14,
   "id": "85a979b6",
   "metadata": {
    "execution": {
     "iopub.execute_input": "2021-10-07T15:03:58.057181Z",
     "iopub.status.busy": "2021-10-07T15:03:58.056780Z",
     "iopub.status.idle": "2021-10-07T15:03:58.058254Z",
     "shell.execute_reply": "2021-10-07T15:03:58.058526Z"
    },
    "papermill": {
     "duration": 0.577407,
     "end_time": "2021-10-07T15:03:58.058661",
     "exception": false,
     "start_time": "2021-10-07T15:03:57.481254",
     "status": "completed"
    },
    "tags": []
   },
   "outputs": [
    {
     "data": {
      "text/plain": [
       "'/device:GPU:0'"
      ]
     },
     "execution_count": 14,
     "metadata": {},
     "output_type": "execute_result"
    }
   ],
   "source": [
    "import tensorflow as tf\n",
    "tf.test.gpu_device_name()"
   ]
  },
  {
   "cell_type": "code",
   "execution_count": 15,
   "id": "9e5ecd04",
   "metadata": {
    "execution": {
     "iopub.execute_input": "2021-10-07T15:03:58.089865Z",
     "iopub.status.busy": "2021-10-07T15:03:58.089540Z",
     "iopub.status.idle": "2021-10-07T15:03:59.405964Z",
     "shell.execute_reply": "2021-10-07T15:03:59.405634Z"
    },
    "papermill": {
     "duration": 1.332666,
     "end_time": "2021-10-07T15:03:59.406077",
     "exception": false,
     "start_time": "2021-10-07T15:03:58.073411",
     "status": "completed"
    },
    "tags": []
   },
   "outputs": [],
   "source": [
    "data_dir = '../Assets/fc_mats_32smooth_new'\n",
    "data_loader = cvae_data_loader(data_dir=data_dir, df=df, batch_size=32)\n",
    "batch_asd,batch_td,batch_df = data_loader.get_batch()"
   ]
  },
  {
   "cell_type": "code",
   "execution_count": 16,
   "id": "93836d47",
   "metadata": {
    "execution": {
     "iopub.execute_input": "2021-10-07T15:03:59.437889Z",
     "iopub.status.busy": "2021-10-07T15:03:59.437558Z",
     "iopub.status.idle": "2021-10-07T15:03:59.438831Z",
     "shell.execute_reply": "2021-10-07T15:03:59.439104Z"
    },
    "papermill": {
     "duration": 0.017169,
     "end_time": "2021-10-07T15:03:59.439191",
     "exception": false,
     "start_time": "2021-10-07T15:03:59.422022",
     "status": "completed"
    },
    "tags": []
   },
   "outputs": [],
   "source": [
    "data_size = np.hstack((n_subs,batch_asd.shape[1:]))"
   ]
  },
  {
   "cell_type": "code",
   "execution_count": 17,
   "id": "72a0c432",
   "metadata": {
    "execution": {
     "iopub.execute_input": "2021-10-07T15:03:59.469870Z",
     "iopub.status.busy": "2021-10-07T15:03:59.469536Z",
     "iopub.status.idle": "2021-10-07T15:04:00.062283Z",
     "shell.execute_reply": "2021-10-07T15:04:00.061915Z"
    },
    "papermill": {
     "duration": 0.609577,
     "end_time": "2021-10-07T15:04:00.062383",
     "exception": false,
     "start_time": "2021-10-07T15:03:59.452806",
     "status": "completed"
    },
    "tags": []
   },
   "outputs": [],
   "source": [
    "import make_models;reload(make_models);from make_models import *\n",
    "batch_size = 16\n",
    "\n",
    "cvae, z_encoder, s_encoder, cvae_decoder = get_fMRI_CVAE_4D(input_shape=tuple(data_size[1::]),\n",
    "                                                             latent_dim=32,\n",
    "                                                             beta=1,\n",
    "                                                             gamma=100,\n",
    "                                                             disentangle=True,\n",
    "                                                             bias=True,\n",
    "                                                             batch_size = batch_size,\n",
    "                                                             kernel_size = 3,\n",
    "                                                             filters = 8,\n",
    "                                                             intermediate_dim = 128,\n",
    "                                                             nlayers = 5,\n",
    "                                                             learning_rate=0.001,\n",
    "                                                             opt=None)"
   ]
  },
  {
   "cell_type": "code",
   "execution_count": 18,
   "id": "e16c8aba",
   "metadata": {
    "execution": {
     "iopub.execute_input": "2021-10-07T15:04:00.094852Z",
     "iopub.status.busy": "2021-10-07T15:04:00.094521Z",
     "iopub.status.idle": "2021-10-07T15:04:00.096410Z",
     "shell.execute_reply": "2021-10-07T15:04:00.096129Z"
    },
    "papermill": {
     "duration": 0.019293,
     "end_time": "2021-10-07T15:04:00.096486",
     "exception": false,
     "start_time": "2021-10-07T15:04:00.077193",
     "status": "completed"
    },
    "tags": []
   },
   "outputs": [
    {
     "data": {
      "text/plain": [
       "(1048, 32, 32, 32, 51)"
      ]
     },
     "execution_count": 18,
     "metadata": {},
     "output_type": "execute_result"
    }
   ],
   "source": [
    "tuple(data_size)"
   ]
  },
  {
   "cell_type": "code",
   "execution_count": 19,
   "id": "635d84e3",
   "metadata": {
    "execution": {
     "iopub.execute_input": "2021-10-07T15:04:00.125503Z",
     "iopub.status.busy": "2021-10-07T15:04:00.125178Z",
     "iopub.status.idle": "2021-10-07T15:04:00.126543Z",
     "shell.execute_reply": "2021-10-07T15:04:00.126802Z"
    },
    "papermill": {
     "duration": 0.017009,
     "end_time": "2021-10-07T15:04:00.126884",
     "exception": false,
     "start_time": "2021-10-07T15:04:00.109875",
     "status": "completed"
    },
    "tags": []
   },
   "outputs": [],
   "source": [
    "loss = list()\n",
    "c_sim = list()\n",
    "all_rsas = list()"
   ]
  },
  {
   "cell_type": "code",
   "execution_count": 20,
   "id": "e4ea1223",
   "metadata": {
    "execution": {
     "iopub.execute_input": "2021-10-07T15:04:00.156921Z",
     "iopub.status.busy": "2021-10-07T15:04:00.156599Z",
     "iopub.status.idle": "2021-10-07T15:04:00.158130Z",
     "shell.execute_reply": "2021-10-07T15:04:00.158391Z"
    },
    "papermill": {
     "duration": 0.017343,
     "end_time": "2021-10-07T15:04:00.158471",
     "exception": false,
     "start_time": "2021-10-07T15:04:00.141128",
     "status": "completed"
    },
    "tags": []
   },
   "outputs": [],
   "source": [
    "data_loader = cvae_data_loader(data_dir=data_dir, df=df, batch_size=batch_size)"
   ]
  },
  {
   "cell_type": "code",
   "execution_count": 21,
   "id": "c99224f3",
   "metadata": {
    "execution": {
     "iopub.execute_input": "2021-10-07T15:04:00.192625Z",
     "iopub.status.busy": "2021-10-07T15:04:00.192291Z",
     "iopub.status.idle": "2021-10-08T06:05:28.689894Z",
     "shell.execute_reply": "2021-10-08T06:05:28.690279Z"
    },
    "papermill": {
     "duration": 54088.517216,
     "end_time": "2021-10-08T06:05:28.690460",
     "exception": false,
     "start_time": "2021-10-07T15:04:00.173244",
     "status": "completed"
    },
    "tags": []
   },
   "outputs": [
    {
     "data": {
      "text/plain": [
       "<Figure size 432x288 with 0 Axes>"
      ]
     },
     "metadata": {},
     "output_type": "display_data"
    },
    {
     "name": "stderr",
     "output_type": "stream",
     "text": [
      "/mmfs1/data/aglinska/BC-fMRI-AE/Notebooks/helper_funcs.py:190: MatplotlibDeprecationWarning: Passing non-integers as three-element position specification is deprecated since 3.3 and will be removed two minor releases later.\n",
      "  plt.subplot(nrows,ncols/2,1) # PLOT LOSS\n"
     ]
    },
    {
     "data": {
      "text/plain": [
       "<Figure size 432x288 with 0 Axes>"
      ]
     },
     "metadata": {},
     "output_type": "display_data"
    },
    {
     "data": {
      "image/png": "[encoded data removed]",
      "text/plain": [
       "<Figure size 1080x1080 with 21 Axes>"
      ]
     },
     "metadata": {
      "needs_background": "light"
     },
     "output_type": "display_data"
    },
    {
     "name": "stderr",
     "output_type": "stream",
     "text": [
      "\r",
      "100%|██████████| 100/100 [15:01:28<00:00, 965.80s/it]"
     ]
    },
    {
     "name": "stderr",
     "output_type": "stream",
     "text": [
      "\r",
      "100%|██████████| 100/100 [15:01:28<00:00, 540.88s/it]"
     ]
    },
    {
     "name": "stderr",
     "output_type": "stream",
     "text": [
      "\n"
     ]
    }
   ],
   "source": [
    "import make_models;reload(make_models);from make_models import *\n",
    "import helper_funcs;reload(helper_funcs);from helper_funcs import *\n",
    "\n",
    "for epoch in tqdm(range(100),position=0, leave=True):\n",
    "    for i in range(data_loader.n_batches):\n",
    "        \n",
    "        patient_batch,control_batch,batch_df = data_loader.get_batch() # Get a batch\n",
    "        hist = cvae.train_on_batch([patient_batch,control_batch]) # pass a batch\n",
    "        assert not np.isnan(hist),'loss is NaN - you f**cked up'  # check nothing crashed\n",
    "        loss.append(hist) # keep track of loss\n",
    "        \n",
    "        cvae.save_weights(os.path.join(save_dir,'cvae_weights')) # SAVE WEIGHTS\n",
    "        np.save(os.path.join(save_dir,'cvae_loss.npy'),np.array(loss)) # Save loss\n",
    "        \n",
    "        if np.mod(i,10)==0:\n",
    "            batch_rsas = get_batch_rsas(data_dir,df,z_encoder,s_encoder,batch_size=(df['DX_GROUP'].values==1).sum())\n",
    "        \n",
    "        c_sim,all_rsas = cvae_dashboard(data_loader.epoch,\n",
    "                                        data_loader.b,\n",
    "                                        i,\n",
    "                                        cvae,z_encoder,\n",
    "                                        s_encoder,\n",
    "                                        loss,\n",
    "                                        all_rsas,\n",
    "                                        c_sim,\n",
    "                                        df,\n",
    "                                        patient_batch,\n",
    "                                        control_batch,\n",
    "                                        batch_rsas,\n",
    "                                        red='UMAP') # plot training progress\n",
    "        "
   ]
  },
  {
   "cell_type": "code",
   "execution_count": null,
   "id": "24737a86",
   "metadata": {
    "papermill": {
     "duration": 0.018738,
     "end_time": "2021-10-08T06:05:28.770315",
     "exception": false,
     "start_time": "2021-10-08T06:05:28.751577",
     "status": "completed"
    },
    "tags": []
   },
   "outputs": [],
   "source": []
  },
  {
   "cell_type": "code",
   "execution_count": 22,
   "id": "48b96ff7",
   "metadata": {
    "execution": {
     "iopub.execute_input": "2021-10-08T06:05:28.814637Z",
     "iopub.status.busy": "2021-10-08T06:05:28.814266Z",
     "iopub.status.idle": "2021-10-08T06:05:28.821515Z",
     "shell.execute_reply": "2021-10-08T06:05:28.821201Z"
    },
    "papermill": {
     "duration": 0.031648,
     "end_time": "2021-10-08T06:05:28.821604",
     "exception": false,
     "start_time": "2021-10-08T06:05:28.789956",
     "status": "completed"
    },
    "tags": []
   },
   "outputs": [
    {
     "name": "stdout",
     "output_type": "stream",
     "text": [
      "Model: \"z_encoder\"\n",
      "____________________________________________________________________________________________________\n",
      "Layer (type)                     Output Shape          Param #     Connected to                     \n",
      "====================================================================================================\n",
      "tg_inputs (InputLayer)           [(None, 32, 32, 32, 5 0                                            \n",
      "____________________________________________________________________________________________________\n",
      "conv3d (Conv3D)                  (None, 16, 16, 16, 16 22048       tg_inputs[0][0]                  \n",
      "____________________________________________________________________________________________________\n",
      "conv3d_1 (Conv3D)                (None, 8, 8, 8, 32)   13856       conv3d[0][0]                     \n",
      "____________________________________________________________________________________________________\n",
      "conv3d_2 (Conv3D)                (None, 4, 4, 4, 64)   55360       conv3d_1[0][0]                   \n",
      "____________________________________________________________________________________________________\n",
      "conv3d_3 (Conv3D)                (None, 2, 2, 2, 128)  221312      conv3d_2[0][0]                   \n",
      "____________________________________________________________________________________________________\n",
      "conv3d_4 (Conv3D)                (None, 1, 1, 1, 256)  884992      conv3d_3[0][0]                   \n",
      "____________________________________________________________________________________________________\n",
      "flatten (Flatten)                (None, 256)           0           conv3d_4[0][0]                   \n",
      "____________________________________________________________________________________________________\n",
      "dense (Dense)                    (None, 128)           32896       flatten[0][0]                    \n",
      "____________________________________________________________________________________________________\n",
      "z_mean (Dense)                   (None, 32)            4128        dense[0][0]                      \n",
      "____________________________________________________________________________________________________\n",
      "z_log_var (Dense)                (None, 32)            4128        dense[0][0]                      \n",
      "____________________________________________________________________________________________________\n",
      "z (Lambda)                       (None, 32)            0           z_mean[0][0]                     \n",
      "                                                                   z_log_var[0][0]                  \n",
      "====================================================================================================\n",
      "Total params: 1,238,720\n",
      "Trainable params: 1,238,720\n",
      "Non-trainable params: 0\n",
      "____________________________________________________________________________________________________\n"
     ]
    }
   ],
   "source": [
    "z_encoder.summary(line_length=100)"
   ]
  },
  {
   "cell_type": "code",
   "execution_count": 23,
   "id": "960f2dd4",
   "metadata": {
    "execution": {
     "iopub.execute_input": "2021-10-08T06:05:28.865284Z",
     "iopub.status.busy": "2021-10-08T06:05:28.864090Z",
     "iopub.status.idle": "2021-10-08T06:05:28.866543Z",
     "shell.execute_reply": "2021-10-08T06:05:28.866219Z"
    },
    "papermill": {
     "duration": 0.026128,
     "end_time": "2021-10-08T06:05:28.866627",
     "exception": false,
     "start_time": "2021-10-08T06:05:28.840499",
     "status": "completed"
    },
    "tags": []
   },
   "outputs": [
    {
     "name": "stdout",
     "output_type": "stream",
     "text": [
      "Model: \"s_encoder\"\n",
      "____________________________________________________________________________________________________\n",
      "Layer (type)                     Output Shape          Param #     Connected to                     \n",
      "====================================================================================================\n",
      "tg_inputs (InputLayer)           [(None, 32, 32, 32, 5 0                                            \n",
      "____________________________________________________________________________________________________\n",
      "conv3d_5 (Conv3D)                (None, 16, 16, 16, 16 22048       tg_inputs[0][0]                  \n",
      "____________________________________________________________________________________________________\n",
      "conv3d_6 (Conv3D)                (None, 8, 8, 8, 32)   13856       conv3d_5[0][0]                   \n",
      "____________________________________________________________________________________________________\n",
      "conv3d_7 (Conv3D)                (None, 4, 4, 4, 64)   55360       conv3d_6[0][0]                   \n",
      "____________________________________________________________________________________________________\n",
      "conv3d_8 (Conv3D)                (None, 2, 2, 2, 128)  221312      conv3d_7[0][0]                   \n",
      "____________________________________________________________________________________________________\n",
      "conv3d_9 (Conv3D)                (None, 1, 1, 1, 256)  884992      conv3d_8[0][0]                   \n",
      "____________________________________________________________________________________________________\n",
      "flatten_1 (Flatten)              (None, 256)           0           conv3d_9[0][0]                   \n",
      "____________________________________________________________________________________________________\n",
      "dense_1 (Dense)                  (None, 128)           32896       flatten_1[0][0]                  \n",
      "____________________________________________________________________________________________________\n",
      "s_mean (Dense)                   (None, 32)            4128        dense_1[0][0]                    \n",
      "____________________________________________________________________________________________________\n",
      "s_log_var (Dense)                (None, 32)            4128        dense_1[0][0]                    \n",
      "____________________________________________________________________________________________________\n",
      "s (Lambda)                       (None, 32)            0           s_mean[0][0]                     \n",
      "                                                                   s_log_var[0][0]                  \n",
      "====================================================================================================\n",
      "Total params: 1,238,720\n",
      "Trainable params: 1,238,720\n",
      "Non-trainable params: 0\n",
      "____________________________________________________________________________________________________\n"
     ]
    }
   ],
   "source": [
    "s_encoder.summary(line_length=100)"
   ]
  },
  {
   "cell_type": "code",
   "execution_count": 24,
   "id": "49cd226f",
   "metadata": {
    "execution": {
     "iopub.execute_input": "2021-10-08T06:05:28.921433Z",
     "iopub.status.busy": "2021-10-08T06:05:28.921065Z",
     "iopub.status.idle": "2021-10-08T06:05:28.936122Z",
     "shell.execute_reply": "2021-10-08T06:05:28.935813Z"
    },
    "papermill": {
     "duration": 0.049527,
     "end_time": "2021-10-08T06:05:28.936193",
     "exception": false,
     "start_time": "2021-10-08T06:05:28.886666",
     "status": "completed"
    },
    "tags": []
   },
   "outputs": [
    {
     "name": "stdout",
     "output_type": "stream",
     "text": [
      "Model: \"contrastive_vae\"\n",
      "____________________________________________________________________________________________________\n",
      "Layer (type)                     Output Shape          Param #     Connected to                     \n",
      "====================================================================================================\n",
      "tg_inputs (InputLayer)           [(None, 32, 32, 32, 5 0                                            \n",
      "____________________________________________________________________________________________________\n",
      "conv3d (Conv3D)                  (None, 16, 16, 16, 16 22048       tg_inputs[0][0]                  \n",
      "____________________________________________________________________________________________________\n",
      "bg_inputs (InputLayer)           [(None, 32, 32, 32, 5 0                                            \n",
      "____________________________________________________________________________________________________\n",
      "conv3d_1 (Conv3D)                (None, 8, 8, 8, 32)   13856       conv3d[0][0]                     \n",
      "____________________________________________________________________________________________________\n",
      "conv3d_5 (Conv3D)                (None, 16, 16, 16, 16 22048       tg_inputs[0][0]                  \n",
      "____________________________________________________________________________________________________\n",
      "conv3d_10 (Conv3D)               (None, 16, 16, 16, 16 22048       bg_inputs[0][0]                  \n",
      "____________________________________________________________________________________________________\n",
      "conv3d_2 (Conv3D)                (None, 4, 4, 4, 64)   55360       conv3d_1[0][0]                   \n",
      "____________________________________________________________________________________________________\n",
      "conv3d_6 (Conv3D)                (None, 8, 8, 8, 32)   13856       conv3d_5[0][0]                   \n",
      "____________________________________________________________________________________________________\n",
      "conv3d_11 (Conv3D)               (None, 8, 8, 8, 32)   13856       conv3d_10[0][0]                  \n",
      "____________________________________________________________________________________________________\n",
      "conv3d_3 (Conv3D)                (None, 2, 2, 2, 128)  221312      conv3d_2[0][0]                   \n",
      "____________________________________________________________________________________________________\n",
      "conv3d_7 (Conv3D)                (None, 4, 4, 4, 64)   55360       conv3d_6[0][0]                   \n",
      "____________________________________________________________________________________________________\n",
      "conv3d_12 (Conv3D)               (None, 4, 4, 4, 64)   55360       conv3d_11[0][0]                  \n",
      "____________________________________________________________________________________________________\n",
      "conv3d_4 (Conv3D)                (None, 1, 1, 1, 256)  884992      conv3d_3[0][0]                   \n",
      "____________________________________________________________________________________________________\n",
      "conv3d_8 (Conv3D)                (None, 2, 2, 2, 128)  221312      conv3d_7[0][0]                   \n",
      "____________________________________________________________________________________________________\n",
      "conv3d_13 (Conv3D)               (None, 2, 2, 2, 128)  221312      conv3d_12[0][0]                  \n",
      "____________________________________________________________________________________________________\n",
      "flatten (Flatten)                (None, 256)           0           conv3d_4[0][0]                   \n",
      "____________________________________________________________________________________________________\n",
      "conv3d_9 (Conv3D)                (None, 1, 1, 1, 256)  884992      conv3d_8[0][0]                   \n",
      "____________________________________________________________________________________________________\n",
      "conv3d_14 (Conv3D)               (None, 1, 1, 1, 256)  884992      conv3d_13[0][0]                  \n",
      "____________________________________________________________________________________________________\n",
      "dense (Dense)                    (None, 128)           32896       flatten[0][0]                    \n",
      "                                                                   flatten_2[0][0]                  \n",
      "____________________________________________________________________________________________________\n",
      "flatten_1 (Flatten)              (None, 256)           0           conv3d_9[0][0]                   \n",
      "____________________________________________________________________________________________________\n",
      "flatten_2 (Flatten)              (None, 256)           0           conv3d_14[0][0]                  \n",
      "____________________________________________________________________________________________________\n",
      "z_mean (Dense)                   (None, 32)            4128        dense[0][0]                      \n",
      "                                                                   dense[1][0]                      \n",
      "____________________________________________________________________________________________________\n",
      "z_log_var (Dense)                (None, 32)            4128        dense[0][0]                      \n",
      "                                                                   dense[1][0]                      \n",
      "____________________________________________________________________________________________________\n",
      "dense_1 (Dense)                  (None, 128)           32896       flatten_1[0][0]                  \n",
      "____________________________________________________________________________________________________\n",
      "z (Lambda)                       (None, 32)            0           z_mean[0][0]                     \n",
      "                                                                   z_log_var[0][0]                  \n",
      "                                                                   z_mean[1][0]                     \n",
      "                                                                   z_log_var[1][0]                  \n",
      "____________________________________________________________________________________________________\n",
      "s_mean (Dense)                   (None, 32)            4128        dense_1[0][0]                    \n",
      "____________________________________________________________________________________________________\n",
      "s_log_var (Dense)                (None, 32)            4128        dense_1[0][0]                    \n",
      "____________________________________________________________________________________________________\n",
      "s (Lambda)                       (None, 32)            0           s_mean[0][0]                     \n",
      "                                                                   s_log_var[0][0]                  \n",
      "____________________________________________________________________________________________________\n",
      "lambda (Lambda)                  (None, 32)            0           z[0][0]                          \n",
      "____________________________________________________________________________________________________\n",
      "concatenate (Concatenate)        (None, 64)            0           z[0][0]                          \n",
      "                                                                   s[0][0]                          \n",
      "____________________________________________________________________________________________________\n",
      "concatenate_1 (Concatenate)      (None, 64)            0           z[1][0]                          \n",
      "                                                                   lambda[0][0]                     \n",
      "____________________________________________________________________________________________________\n",
      "decoder (Functional)             (None, 32, 32, 32, 51 1238707     concatenate[0][0]                \n",
      "                                                                   concatenate_1[0][0]              \n",
      "____________________________________________________________________________________________________\n",
      "lambda_3 (Lambda)                (None, 32)            0           s[0][0]                          \n",
      "____________________________________________________________________________________________________\n",
      "lambda_1 (Lambda)                (None, 32)            0           z[0][0]                          \n",
      "____________________________________________________________________________________________________\n",
      "lambda_4 (Lambda)                (None, 32)            0           s[0][0]                          \n",
      "____________________________________________________________________________________________________\n",
      "lambda_2 (Lambda)                (None, 32)            0           z[0][0]                          \n",
      "____________________________________________________________________________________________________\n",
      "tf_op_layer_AddV2_3 (TensorFlowO [(None, 32)]          0           z_log_var[0][0]                  \n",
      "____________________________________________________________________________________________________\n",
      "tf_op_layer_Square (TensorFlowOp [(None, 32)]          0           z_mean[0][0]                     \n",
      "____________________________________________________________________________________________________\n",
      "tf_op_layer_AddV2_4 (TensorFlowO [(None, 32)]          0           s_log_var[0][0]                  \n",
      "____________________________________________________________________________________________________\n",
      "tf_op_layer_Square_1 (TensorFlow [(None, 32)]          0           s_mean[0][0]                     \n",
      "____________________________________________________________________________________________________\n",
      "concatenate_5 (Concatenate)      (None, 64)            0           lambda_3[0][0]                   \n",
      "                                                                   lambda_1[0][0]                   \n",
      "____________________________________________________________________________________________________\n",
      "concatenate_6 (Concatenate)      (None, 64)            0           lambda_4[0][0]                   \n",
      "                                                                   lambda_2[0][0]                   \n",
      "____________________________________________________________________________________________________\n",
      "tf_op_layer_Sub_3 (TensorFlowOpL [(None, 32)]          0           tf_op_layer_AddV2_3[0][0]        \n",
      "                                                                   tf_op_layer_Square[0][0]         \n",
      "____________________________________________________________________________________________________\n",
      "tf_op_layer_Exp (TensorFlowOpLay [(None, 32)]          0           z_log_var[0][0]                  \n",
      "____________________________________________________________________________________________________\n",
      "tf_op_layer_Sub_5 (TensorFlowOpL [(None, 32)]          0           tf_op_layer_AddV2_4[0][0]        \n",
      "                                                                   tf_op_layer_Square_1[0][0]       \n",
      "____________________________________________________________________________________________________\n",
      "tf_op_layer_Exp_1 (TensorFlowOpL [(None, 32)]          0           s_log_var[0][0]                  \n",
      "____________________________________________________________________________________________________\n",
      "tf_op_layer_AddV2_6 (TensorFlowO [(None, 32)]          0           z_log_var[1][0]                  \n",
      "____________________________________________________________________________________________________\n",
      "tf_op_layer_Square_2 (TensorFlow [(None, 32)]          0           z_mean[1][0]                     \n",
      "____________________________________________________________________________________________________\n",
      "concatenate_7 (Concatenate)      (None, 64)            0           concatenate_5[0][0]              \n",
      "                                                                   concatenate_6[0][0]              \n",
      "____________________________________________________________________________________________________\n",
      "tf_op_layer_Sub_4 (TensorFlowOpL [(None, 32)]          0           tf_op_layer_Sub_3[0][0]          \n",
      "                                                                   tf_op_layer_Exp[0][0]            \n",
      "____________________________________________________________________________________________________\n",
      "tf_op_layer_Sub_6 (TensorFlowOpL [(None, 32)]          0           tf_op_layer_Sub_5[0][0]          \n",
      "                                                                   tf_op_layer_Exp_1[0][0]          \n",
      "____________________________________________________________________________________________________\n",
      "tf_op_layer_Sub_7 (TensorFlowOpL [(None, 32)]          0           tf_op_layer_AddV2_6[0][0]        \n",
      "                                                                   tf_op_layer_Square_2[0][0]       \n",
      "____________________________________________________________________________________________________\n",
      "tf_op_layer_Exp_2 (TensorFlowOpL [(None, 32)]          0           z_log_var[1][0]                  \n",
      "____________________________________________________________________________________________________\n",
      "dense_4 (Dense)                  (None, 1)             65          concatenate_4[0][0]              \n",
      "                                                                   concatenate_7[0][0]              \n",
      "____________________________________________________________________________________________________\n",
      "concatenate_2 (Concatenate)      (None, 64)            0           lambda_3[0][0]                   \n",
      "                                                                   lambda_2[0][0]                   \n",
      "____________________________________________________________________________________________________\n",
      "concatenate_3 (Concatenate)      (None, 64)            0           lambda_4[0][0]                   \n",
      "                                                                   lambda_1[0][0]                   \n",
      "____________________________________________________________________________________________________\n",
      "tf_op_layer_Reshape_1 (TensorFlo [(None,)]             0           decoder[0][0]                    \n",
      "____________________________________________________________________________________________________\n",
      "tf_op_layer_Reshape (TensorFlowO [(None,)]             0           tg_inputs[0][0]                  \n",
      "____________________________________________________________________________________________________\n",
      "tf_op_layer_Reshape_3 (TensorFlo [(None,)]             0           decoder[1][0]                    \n",
      "____________________________________________________________________________________________________\n",
      "tf_op_layer_Reshape_2 (TensorFlo [(None,)]             0           bg_inputs[0][0]                  \n",
      "____________________________________________________________________________________________________\n",
      "tf_op_layer_AddV2_5 (TensorFlowO [(None, 32)]          0           tf_op_layer_Sub_4[0][0]          \n",
      "                                                                   tf_op_layer_Sub_6[0][0]          \n",
      "____________________________________________________________________________________________________\n",
      "tf_op_layer_Sub_8 (TensorFlowOpL [(None, 32)]          0           tf_op_layer_Sub_7[0][0]          \n",
      "                                                                   tf_op_layer_Exp_2[0][0]          \n",
      "____________________________________________________________________________________________________\n",
      "tf_op_layer_AddV2_1 (TensorFlowO [(None, 1)]           0           dense_4[1][0]                    \n",
      "____________________________________________________________________________________________________\n",
      "concatenate_4 (Concatenate)      (None, 64)            0           concatenate_2[0][0]              \n",
      "                                                                   concatenate_3[0][0]              \n",
      "____________________________________________________________________________________________________\n",
      "tf_op_layer_SquaredDifference (T [(None,)]             0           tf_op_layer_Reshape_1[0][0]      \n",
      "                                                                   tf_op_layer_Reshape[0][0]        \n",
      "____________________________________________________________________________________________________\n",
      "tf_op_layer_SquaredDifference_1  [(None,)]             0           tf_op_layer_Reshape_3[0][0]      \n",
      "                                                                   tf_op_layer_Reshape_2[0][0]      \n",
      "____________________________________________________________________________________________________\n",
      "tf_op_layer_AddV2_7 (TensorFlowO [(None, 32)]          0           tf_op_layer_AddV2_5[0][0]        \n",
      "                                                                   tf_op_layer_Sub_8[0][0]          \n",
      "____________________________________________________________________________________________________\n",
      "tf_op_layer_Mul_1 (TensorFlowOpL [(None, 1)]           0           tf_op_layer_AddV2_1[0][0]        \n",
      "____________________________________________________________________________________________________\n",
      "tf_op_layer_Mean (TensorFlowOpLa [()]                  0           tf_op_layer_SquaredDifference[0][\n",
      "____________________________________________________________________________________________________\n",
      "tf_op_layer_Mean_1 (TensorFlowOp [()]                  0           tf_op_layer_SquaredDifference_1[0\n",
      "____________________________________________________________________________________________________\n",
      "tf_op_layer_Sum (TensorFlowOpLay [(None,)]             0           tf_op_layer_AddV2_7[0][0]        \n",
      "____________________________________________________________________________________________________\n",
      "tf_op_layer_Sub (TensorFlowOpLay [(None, 1)]           0           tf_op_layer_Mul_1[0][0]          \n",
      "____________________________________________________________________________________________________\n",
      "tf_op_layer_AddV2 (TensorFlowOpL [(None, 1)]           0           dense_4[0][0]                    \n",
      "____________________________________________________________________________________________________\n",
      "tf_op_layer_AddV2_2 (TensorFlowO [()]                  0           tf_op_layer_Mean[0][0]           \n",
      "                                                                   tf_op_layer_Mean_1[0][0]         \n",
      "____________________________________________________________________________________________________\n",
      "tf_op_layer_Mul_3 (TensorFlowOpL [(None,)]             0           tf_op_layer_Sum[0][0]            \n",
      "____________________________________________________________________________________________________\n",
      "tf_op_layer_RealDiv (TensorFlowO [(None, 1)]           0           tf_op_layer_Mul_1[0][0]          \n",
      "                                                                   tf_op_layer_Sub[0][0]            \n",
      "____________________________________________________________________________________________________\n",
      "tf_op_layer_Mul (TensorFlowOpLay [(None, 1)]           0           tf_op_layer_AddV2[0][0]          \n",
      "____________________________________________________________________________________________________\n",
      "tf_op_layer_Mul_2 (TensorFlowOpL [()]                  0           tf_op_layer_AddV2_2[0][0]        \n",
      "____________________________________________________________________________________________________\n",
      "tf_op_layer_Mul_4 (TensorFlowOpL [(None,)]             0           tf_op_layer_Mul_3[0][0]          \n",
      "____________________________________________________________________________________________________\n",
      "tf_op_layer_Log (TensorFlowOpLay [(None, 1)]           0           tf_op_layer_RealDiv[0][0]        \n",
      "____________________________________________________________________________________________________\n",
      "tf_op_layer_Log_1 (TensorFlowOpL [(None, 1)]           0           tf_op_layer_Mul_1[0][0]          \n",
      "____________________________________________________________________________________________________\n",
      "tf_op_layer_Sub_1 (TensorFlowOpL [(None, 1)]           0           tf_op_layer_Mul[0][0]            \n",
      "____________________________________________________________________________________________________\n",
      "tf_op_layer_AddV2_8 (TensorFlowO [(None,)]             0           tf_op_layer_Mul_2[0][0]          \n",
      "                                                                   tf_op_layer_Mul_4[0][0]          \n",
      "____________________________________________________________________________________________________\n",
      "tf_op_layer_Mul_5 (TensorFlowOpL [(None, 1)]           0           tf_op_layer_Log[0][0]            \n",
      "____________________________________________________________________________________________________\n",
      "tf_op_layer_Neg (TensorFlowOpLay [(None, 1)]           0           tf_op_layer_Log_1[0][0]          \n",
      "____________________________________________________________________________________________________\n",
      "tf_op_layer_Log_2 (TensorFlowOpL [(None, 1)]           0           tf_op_layer_Sub_1[0][0]          \n",
      "____________________________________________________________________________________________________\n",
      "tf_op_layer_AddV2_9 (TensorFlowO [(None, None)]        0           tf_op_layer_AddV2_8[0][0]        \n",
      "                                                                   tf_op_layer_Mul_5[0][0]          \n",
      "____________________________________________________________________________________________________\n",
      "tf_op_layer_Sub_2 (TensorFlowOpL [(None, 1)]           0           tf_op_layer_Neg[0][0]            \n",
      "                                                                   tf_op_layer_Log_2[0][0]          \n",
      "____________________________________________________________________________________________________\n",
      "tf_op_layer_AddV2_10 (TensorFlow [(None, None)]        0           tf_op_layer_AddV2_9[0][0]        \n",
      "                                                                   tf_op_layer_Sub_2[0][0]          \n",
      "____________________________________________________________________________________________________\n",
      "tf_op_layer_Mean_2 (TensorFlowOp [()]                  0           tf_op_layer_AddV2_10[0][0]       \n",
      "____________________________________________________________________________________________________\n",
      "add_loss (AddLoss)               ()                    0           tf_op_layer_Mean_2[0][0]         \n",
      "====================================================================================================\n",
      "Total params: 4,913,780\n",
      "Trainable params: 4,913,780\n",
      "Non-trainable params: 0\n",
      "____________________________________________________________________________________________________\n"
     ]
    }
   ],
   "source": [
    "cvae.summary(line_length=100)"
   ]
  },
  {
   "cell_type": "code",
   "execution_count": 25,
   "id": "7548b1eb",
   "metadata": {
    "execution": {
     "iopub.execute_input": "2021-10-08T06:05:28.984991Z",
     "iopub.status.busy": "2021-10-08T06:05:28.984318Z",
     "iopub.status.idle": "2021-10-08T06:05:28.985770Z",
     "shell.execute_reply": "2021-10-08T06:05:28.984644Z"
    },
    "papermill": {
     "duration": 0.029636,
     "end_time": "2021-10-08T06:05:28.985845",
     "exception": false,
     "start_time": "2021-10-08T06:05:28.956209",
     "status": "completed"
    },
    "tags": []
   },
   "outputs": [
    {
     "name": "stdout",
     "output_type": "stream",
     "text": [
      "Model: \"decoder\"\n",
      "____________________________________________________________________________________________________\n",
      "Layer (type)                                 Output Shape                            Param #        \n",
      "====================================================================================================\n",
      "z_sampling (InputLayer)                      [(None, 64)]                            0              \n",
      "____________________________________________________________________________________________________\n",
      "dense_2 (Dense)                              (None, 128)                             8320           \n",
      "____________________________________________________________________________________________________\n",
      "dense_3 (Dense)                              (None, 256)                             33024          \n",
      "____________________________________________________________________________________________________\n",
      "reshape (Reshape)                            (None, 1, 1, 1, 256)                    0              \n",
      "____________________________________________________________________________________________________\n",
      "conv3d_transpose (Conv3DTranspose)           (None, 2, 2, 2, 128)                    884864         \n",
      "____________________________________________________________________________________________________\n",
      "conv3d_transpose_1 (Conv3DTranspose)         (None, 4, 4, 4, 64)                     221248         \n",
      "____________________________________________________________________________________________________\n",
      "conv3d_transpose_2 (Conv3DTranspose)         (None, 8, 8, 8, 32)                     55328          \n",
      "____________________________________________________________________________________________________\n",
      "conv3d_transpose_3 (Conv3DTranspose)         (None, 16, 16, 16, 16)                  13840          \n",
      "____________________________________________________________________________________________________\n",
      "decoder_output (Conv3DTranspose)             (None, 32, 32, 32, 51)                  22083          \n",
      "====================================================================================================\n",
      "Total params: 1,238,707\n",
      "Trainable params: 1,238,707\n",
      "Non-trainable params: 0\n",
      "____________________________________________________________________________________________________\n"
     ]
    }
   ],
   "source": [
    "cvae_decoder.summary(line_length=100)"
   ]
  }
 ],
 "metadata": {
  "kernelspec": {
   "display_name": "Python 3",
   "language": "python",
   "name": "python3"
  },
  "language_info": {
   "codemirror_mode": {
    "name": "ipython",
    "version": 3
   },
   "file_extension": ".py",
   "mimetype": "text/x-python",
   "name": "python",
   "nbconvert_exporter": "python",
   "pygments_lexer": "ipython3",
   "version": "3.8.5"
  },
  "papermill": {
   "default_parameters": {},
   "duration": 54119.240027,
   "end_time": "2021-10-08T06:05:35.293750",
   "environment_variables": {},
   "exception": null,
   "input_path": "01-train-CVAE.ipynb",
   "output_path": "./papermill/papermill|01-train-CVAE|2021-10-07-11-03-34.ipynb",
   "parameters": {},
   "start_time": "2021-10-07T15:03:36.053723",
   "version": "2.3.3"
  }
 },
 "nbformat": 4,
 "nbformat_minor": 5
}