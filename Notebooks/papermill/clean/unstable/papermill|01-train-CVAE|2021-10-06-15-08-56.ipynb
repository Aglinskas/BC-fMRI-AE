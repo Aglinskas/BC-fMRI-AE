{
 "cells": [
  {
   "cell_type": "code",
   "execution_count": 1,
   "id": "a0592d1e",
   "metadata": {
    "execution": {
     "iopub.execute_input": "2021-10-06T19:09:01.286572Z",
     "iopub.status.busy": "2021-10-06T19:09:01.286228Z",
     "iopub.status.idle": "2021-10-06T19:09:01.288215Z",
     "shell.execute_reply": "2021-10-06T19:09:01.287859Z"
    },
    "papermill": {
     "duration": 0.021148,
     "end_time": "2021-10-06T19:09:01.288329",
     "exception": false,
     "start_time": "2021-10-06T19:09:01.267181",
     "status": "completed"
    },
    "tags": []
   },
   "outputs": [
    {
     "data": {
      "text/plain": [
       "'/mmfs1/data/aglinska/BC-fMRI-AE/Notebooks'"
      ]
     },
     "execution_count": 1,
     "metadata": {},
     "output_type": "execute_result"
    }
   ],
   "source": [
    "pwd"
   ]
  },
  {
   "cell_type": "code",
   "execution_count": 2,
   "id": "d2738814",
   "metadata": {
    "execution": {
     "iopub.execute_input": "2021-10-06T19:09:01.309490Z",
     "iopub.status.busy": "2021-10-06T19:09:01.309164Z",
     "iopub.status.idle": "2021-10-06T19:09:01.310482Z",
     "shell.execute_reply": "2021-10-06T19:09:01.310740Z"
    },
    "papermill": {
     "duration": 0.012873,
     "end_time": "2021-10-06T19:09:01.310827",
     "exception": false,
     "start_time": "2021-10-06T19:09:01.297954",
     "status": "completed"
    },
    "tags": []
   },
   "outputs": [],
   "source": [
    "import os\n",
    "os.environ['CUDA_VISIBLE_DEVICES']='1'"
   ]
  },
  {
   "cell_type": "code",
   "execution_count": 3,
   "id": "76126403",
   "metadata": {
    "execution": {
     "iopub.execute_input": "2021-10-06T19:09:01.331782Z",
     "iopub.status.busy": "2021-10-06T19:09:01.331461Z",
     "iopub.status.idle": "2021-10-06T19:09:01.333269Z",
     "shell.execute_reply": "2021-10-06T19:09:01.333534Z"
    },
    "papermill": {
     "duration": 0.013533,
     "end_time": "2021-10-06T19:09:01.333618",
     "exception": false,
     "start_time": "2021-10-06T19:09:01.320085",
     "status": "completed"
    },
    "tags": []
   },
   "outputs": [
    {
     "name": "stdout",
     "output_type": "stream",
     "text": [
      "Variable   Type      Data/Info\n",
      "------------------------------\n",
      "os         module    <module 'os' from '/data/<...>da3/lib/python3.8/os.py'>\n"
     ]
    }
   ],
   "source": [
    "whos"
   ]
  },
  {
   "cell_type": "code",
   "execution_count": 4,
   "id": "8e4368d7",
   "metadata": {
    "execution": {
     "iopub.execute_input": "2021-10-06T19:09:01.355037Z",
     "iopub.status.busy": "2021-10-06T19:09:01.354712Z",
     "iopub.status.idle": "2021-10-06T19:09:01.477597Z",
     "shell.execute_reply": "2021-10-06T19:09:01.477885Z"
    },
    "papermill": {
     "duration": 0.135076,
     "end_time": "2021-10-06T19:09:01.478017",
     "exception": false,
     "start_time": "2021-10-06T19:09:01.342941",
     "status": "completed"
    },
    "tags": []
   },
   "outputs": [
    {
     "name": "stdout",
     "output_type": "stream",
     "text": [
      "              total        used        free      shared  buff/cache   available\r\n",
      "Mem:            187          21         163           0           2         164\r\n",
      "Swap:            11           0          11\r\n"
     ]
    }
   ],
   "source": [
    "!free -g"
   ]
  },
  {
   "cell_type": "code",
   "execution_count": 5,
   "id": "1ef01129",
   "metadata": {
    "execution": {
     "iopub.execute_input": "2021-10-06T19:09:01.504908Z",
     "iopub.status.busy": "2021-10-06T19:09:01.504573Z",
     "iopub.status.idle": "2021-10-06T19:09:01.797602Z",
     "shell.execute_reply": "2021-10-06T19:09:01.797274Z"
    },
    "papermill": {
     "duration": 0.305686,
     "end_time": "2021-10-06T19:09:01.797697",
     "exception": false,
     "start_time": "2021-10-06T19:09:01.492011",
     "status": "completed"
    },
    "tags": []
   },
   "outputs": [
    {
     "name": "stdout",
     "output_type": "stream",
     "text": [
      "Wed Oct  6 15:09:01 2021       \r\n",
      "+-----------------------------------------------------------------------------+\r\n",
      "| NVIDIA-SMI 450.51.05    Driver Version: 450.51.05    CUDA Version: 11.0     |\r\n",
      "|-------------------------------+----------------------+----------------------+\r\n",
      "| GPU  Name        Persistence-M| Bus-Id        Disp.A | Volatile Uncorr. ECC |\r\n",
      "| Fan  Temp  Perf  Pwr:Usage/Cap|         Memory-Usage | GPU-Util  Compute M. |\r\n",
      "|                               |                      |               MIG M. |\r\n",
      "|===============================+======================+======================|\r\n",
      "|   0  Tesla V100-SXM2...  On   | 00000000:18:00.0 Off |                    0 |\r\n",
      "| N/A   38C    P0    68W / 300W |  15660MiB / 16160MiB |     29%      Default |\r\n",
      "|                               |                      |                  N/A |\r\n",
      "+-------------------------------+----------------------+----------------------+\r\n",
      "|   1  Tesla V100-SXM2...  On   | 00000000:3B:00.0 Off |                    0 |\r\n",
      "| N/A   33C    P0    57W / 300W |    456MiB / 16160MiB |      0%      Default |\r\n",
      "|                               |                      |                  N/A |\r\n",
      "+-------------------------------+----------------------+----------------------+\r\n",
      "|   2  Tesla V100-SXM2...  On   | 00000000:86:00.0 Off |                    0 |\r\n",
      "| N/A   34C    P0    57W / 300W |    456MiB / 16160MiB |      0%      Default |\r\n",
      "|                               |                      |                  N/A |\r\n",
      "+-------------------------------+----------------------+----------------------+\r\n"
     ]
    },
    {
     "name": "stdout",
     "output_type": "stream",
     "text": [
      "|   3  Tesla V100-SXM2...  On   | 00000000:AF:00.0 Off |                    0 |\r\n",
      "| N/A   37C    P0    57W / 300W |    456MiB / 16160MiB |      0%      Default |\r\n",
      "|                               |                      |                  N/A |\r\n",
      "+-------------------------------+----------------------+----------------------+\r\n",
      "                                                                               \r\n",
      "+-----------------------------------------------------------------------------+\r\n",
      "| Processes:                                                                  |\r\n",
      "|  GPU   GI   CI        PID   Type   Process name                  GPU Memory |\r\n",
      "|        ID   ID                                                   Usage      |\r\n",
      "|=============================================================================|\r\n",
      "|    0   N/A  N/A     27201      C   ...ska/anaconda3/bin/python3    15657MiB |\r\n",
      "|    1   N/A  N/A     27201      C   ...ska/anaconda3/bin/python3      453MiB |\r\n",
      "|    2   N/A  N/A     27201      C   ...ska/anaconda3/bin/python3      453MiB |\r\n",
      "|    3   N/A  N/A     27201      C   ...ska/anaconda3/bin/python3      453MiB |\r\n",
      "+-----------------------------------------------------------------------------+\r\n"
     ]
    }
   ],
   "source": [
    "!nvidia-smi"
   ]
  },
  {
   "cell_type": "code",
   "execution_count": 6,
   "id": "70bca828",
   "metadata": {
    "execution": {
     "iopub.execute_input": "2021-10-06T19:09:01.821843Z",
     "iopub.status.busy": "2021-10-06T19:09:01.821508Z",
     "iopub.status.idle": "2021-10-06T19:09:01.824818Z",
     "shell.execute_reply": "2021-10-06T19:09:01.824533Z"
    },
    "papermill": {
     "duration": 0.016583,
     "end_time": "2021-10-06T19:09:01.824896",
     "exception": false,
     "start_time": "2021-10-06T19:09:01.808313",
     "status": "completed"
    },
    "tags": []
   },
   "outputs": [
    {
     "name": "stdout",
     "output_type": "stream",
     "text": [
      "CVAE_2021-10-06 15:09:01.820789\n"
     ]
    }
   ],
   "source": [
    "import os\n",
    "from datetime import datetime; now = datetime.now\n",
    "\n",
    "analysis_name = 'CVAE_'+str(now())\n",
    "save_dir = os.path.join('../Assets/tf_weights',analysis_name)\n",
    "if not os.path.exists(save_dir):\n",
    "    os.mkdir(save_dir)\n",
    "    \n",
    "print(analysis_name)"
   ]
  },
  {
   "cell_type": "code",
   "execution_count": 7,
   "id": "4138f908",
   "metadata": {
    "execution": {
     "iopub.execute_input": "2021-10-06T19:09:01.849088Z",
     "iopub.status.busy": "2021-10-06T19:09:01.848747Z",
     "iopub.status.idle": "2021-10-06T19:09:01.868983Z",
     "shell.execute_reply": "2021-10-06T19:09:01.868699Z"
    },
    "papermill": {
     "duration": 0.033811,
     "end_time": "2021-10-06T19:09:01.869065",
     "exception": false,
     "start_time": "2021-10-06T19:09:01.835254",
     "status": "completed"
    },
    "tags": []
   },
   "outputs": [
    {
     "name": "stdout",
     "output_type": "stream",
     "text": [
      "Total memory: 15.78173828125\n",
      "Free memory: 0.48828125\n",
      "Used memory: 15.29345703125\n"
     ]
    }
   ],
   "source": [
    "# CHECK GPU\n",
    "import nvidia_smi\n",
    "try:\n",
    "    nvidia_smi.nvmlInit()\n",
    "\n",
    "    handle = nvidia_smi.nvmlDeviceGetHandleByIndex(0)\n",
    "    # card id 0 hardcoded here, there is also a call to get all available card ids, so we could iterate\n",
    "\n",
    "    info = nvidia_smi.nvmlDeviceGetMemoryInfo(handle)\n",
    "\n",
    "    print(\"Total memory:\", (info.total/1024/1024/1024))\n",
    "    print(\"Free memory:\", (info.free/1024/1024/1024))\n",
    "    print(\"Used memory:\", (info.used/1024/1024/1024))\n",
    "\n",
    "    nvidia_smi.nvmlShutdown()\n",
    "except:\n",
    "    pass"
   ]
  },
  {
   "cell_type": "code",
   "execution_count": 8,
   "id": "b50a6306",
   "metadata": {
    "execution": {
     "iopub.execute_input": "2021-10-06T19:09:01.895006Z",
     "iopub.status.busy": "2021-10-06T19:09:01.894692Z",
     "iopub.status.idle": "2021-10-06T19:09:01.896527Z",
     "shell.execute_reply": "2021-10-06T19:09:01.896274Z"
    },
    "papermill": {
     "duration": 0.014962,
     "end_time": "2021-10-06T19:09:01.896607",
     "exception": false,
     "start_time": "2021-10-06T19:09:01.881645",
     "status": "completed"
    },
    "tags": []
   },
   "outputs": [],
   "source": [
    "## SET UP"
   ]
  },
  {
   "cell_type": "code",
   "execution_count": 9,
   "id": "8dc28654",
   "metadata": {
    "execution": {
     "iopub.execute_input": "2021-10-06T19:09:01.919649Z",
     "iopub.status.busy": "2021-10-06T19:09:01.919324Z",
     "iopub.status.idle": "2021-10-06T19:09:19.685879Z",
     "shell.execute_reply": "2021-10-06T19:09:19.686195Z"
    },
    "papermill": {
     "duration": 17.779589,
     "end_time": "2021-10-06T19:09:19.686341",
     "exception": false,
     "start_time": "2021-10-06T19:09:01.906752",
     "status": "completed"
    },
    "tags": []
   },
   "outputs": [],
   "source": [
    "import numpy as np\n",
    "import pandas as pd\n",
    "from tqdm import tqdm\n",
    "from matplotlib import pyplot as plt\n",
    "\n",
    "from functools import partial\n",
    "from tqdm import tqdm\n",
    "from umap import UMAP\n",
    "tqdm = partial(tqdm, position=0, leave=True) "
   ]
  },
  {
   "cell_type": "code",
   "execution_count": 10,
   "id": "42db5e7d",
   "metadata": {
    "execution": {
     "iopub.execute_input": "2021-10-06T19:09:19.719057Z",
     "iopub.status.busy": "2021-10-06T19:09:19.718723Z",
     "iopub.status.idle": "2021-10-06T19:09:19.730823Z",
     "shell.execute_reply": "2021-10-06T19:09:19.730537Z"
    },
    "papermill": {
     "duration": 0.029094,
     "end_time": "2021-10-06T19:09:19.730901",
     "exception": false,
     "start_time": "2021-10-06T19:09:19.701807",
     "status": "completed"
    },
    "tags": []
   },
   "outputs": [],
   "source": [
    "df = pd.read_csv('../Data/ABIDE_df2.csv')\n",
    "df = df.iloc[~pd.isna(df['bids_folder']).values]\n",
    "data_dir = '../Assets/fc_mats_32smooth_new/'"
   ]
  },
  {
   "cell_type": "code",
   "execution_count": 11,
   "id": "ee4eb987",
   "metadata": {
    "execution": {
     "iopub.execute_input": "2021-10-06T19:09:19.754816Z",
     "iopub.status.busy": "2021-10-06T19:09:19.754487Z",
     "iopub.status.idle": "2021-10-06T19:09:19.758225Z",
     "shell.execute_reply": "2021-10-06T19:09:19.757919Z"
    },
    "papermill": {
     "duration": 0.016686,
     "end_time": "2021-10-06T19:09:19.758299",
     "exception": false,
     "start_time": "2021-10-06T19:09:19.741613",
     "status": "completed"
    },
    "tags": []
   },
   "outputs": [
    {
     "data": {
      "text/plain": [
       "['sub-CMUa0050642.npy',\n",
       " 'sub-CMUa0050646.npy',\n",
       " 'sub-CMUa0050647.npy',\n",
       " 'sub-CMUa0050649.npy',\n",
       " 'sub-CMUa0050653.npy']"
      ]
     },
     "execution_count": 11,
     "metadata": {},
     "output_type": "execute_result"
    }
   ],
   "source": [
    "files = [file for file in os.listdir(data_dir) if file.endswith('.npy')]\n",
    "files.sort()\n",
    "files[0:5]"
   ]
  },
  {
   "cell_type": "code",
   "execution_count": 12,
   "id": "09c2631b",
   "metadata": {
    "execution": {
     "iopub.execute_input": "2021-10-06T19:09:19.791497Z",
     "iopub.status.busy": "2021-10-06T19:09:19.791161Z",
     "iopub.status.idle": "2021-10-06T19:09:20.262129Z",
     "shell.execute_reply": "2021-10-06T19:09:20.261796Z"
    },
    "papermill": {
     "duration": 0.492933,
     "end_time": "2021-10-06T19:09:20.262231",
     "exception": false,
     "start_time": "2021-10-06T19:09:19.769298",
     "status": "completed"
    },
    "tags": []
   },
   "outputs": [
    {
     "name": "stdout",
     "output_type": "stream",
     "text": [
      "1048\n"
     ]
    },
    {
     "name": "stdout",
     "output_type": "stream",
     "text": [
      "1.0\n"
     ]
    }
   ],
   "source": [
    "subs_with_matFiles = [file.split('.')[0] for file in files]\n",
    "df = df.iloc[np.array([sub in subs_with_matFiles for sub in df['bids_folder'].values])]\n",
    "n_subs = len(df)\n",
    "print(n_subs)\n",
    "\n",
    "# Check if subject has .nii file\n",
    "has_file = np.array([os.path.exists(os.path.join(data_dir,sub + '.npy')) for sub in df['bids_folder'].values])\n",
    "print(has_file.mean())\n",
    "assert has_file.mean()==1.0, 'fuck'\n",
    "\n",
    "assert len(subs_with_matFiles)==len(df),'no'\n",
    "df = df.sort_values(by='bids_folder')\n",
    "assert all([subs_with_matFiles[i]==df['bids_folder'].values[i] for i in range(n_subs)]), 'out of order'\n",
    "\n",
    "df.index = np.arange(n_subs)"
   ]
  },
  {
   "cell_type": "code",
   "execution_count": 13,
   "id": "48c6ac08",
   "metadata": {
    "execution": {
     "iopub.execute_input": "2021-10-06T19:09:20.288566Z",
     "iopub.status.busy": "2021-10-06T19:09:20.288233Z",
     "iopub.status.idle": "2021-10-06T19:09:20.473075Z",
     "shell.execute_reply": "2021-10-06T19:09:20.472779Z"
    },
    "papermill": {
     "duration": 0.198961,
     "end_time": "2021-10-06T19:09:20.473155",
     "exception": false,
     "start_time": "2021-10-06T19:09:20.274194",
     "status": "completed"
    },
    "tags": []
   },
   "outputs": [
    {
     "name": "stdout",
     "output_type": "stream",
     "text": [
      "CPU times: user 55.3 ms, sys: 5.08 ms, total: 60.4 ms\n",
      "Wall time: 182 ms\n"
     ]
    },
    {
     "data": {
      "text/plain": [
       "<module 'tensorflow' from '/data/aglinska/anaconda3/lib/python3.8/site-packages/tensorflow/__init__.py'>"
      ]
     },
     "execution_count": 13,
     "metadata": {},
     "output_type": "execute_result"
    }
   ],
   "source": [
    "%%time\n",
    "from importlib import reload\n",
    "import helper_funcs;reload(helper_funcs);from helper_funcs import *\n",
    "del helper_funcs\n",
    "import make_models;reload(make_models);from make_models import *\n",
    "del make_models\n",
    "\n",
    "from IPython import display\n",
    "import sys\n",
    "from sklearn.decomposition import PCA\n",
    "import seaborn as sns\n",
    "\n",
    "import tensorflow as tf\n",
    "reload(tf)"
   ]
  },
  {
   "cell_type": "code",
   "execution_count": 14,
   "id": "1c0c9ae3",
   "metadata": {
    "execution": {
     "iopub.execute_input": "2021-10-06T19:09:21.044328Z",
     "iopub.status.busy": "2021-10-06T19:09:21.043909Z",
     "iopub.status.idle": "2021-10-06T19:09:21.045430Z",
     "shell.execute_reply": "2021-10-06T19:09:21.045681Z"
    },
    "papermill": {
     "duration": 0.56053,
     "end_time": "2021-10-06T19:09:21.045815",
     "exception": false,
     "start_time": "2021-10-06T19:09:20.485285",
     "status": "completed"
    },
    "tags": []
   },
   "outputs": [
    {
     "data": {
      "text/plain": [
       "'/device:GPU:0'"
      ]
     },
     "execution_count": 14,
     "metadata": {},
     "output_type": "execute_result"
    }
   ],
   "source": [
    "import tensorflow as tf\n",
    "tf.test.gpu_device_name()"
   ]
  },
  {
   "cell_type": "code",
   "execution_count": 15,
   "id": "3c5115bc",
   "metadata": {
    "execution": {
     "iopub.execute_input": "2021-10-06T19:09:21.080876Z",
     "iopub.status.busy": "2021-10-06T19:09:21.080497Z",
     "iopub.status.idle": "2021-10-06T19:09:22.365107Z",
     "shell.execute_reply": "2021-10-06T19:09:22.364698Z"
    },
    "papermill": {
     "duration": 1.306893,
     "end_time": "2021-10-06T19:09:22.365257",
     "exception": false,
     "start_time": "2021-10-06T19:09:21.058364",
     "status": "completed"
    },
    "tags": []
   },
   "outputs": [],
   "source": [
    "data_dir = '../Assets/fc_mats_32smooth_new'\n",
    "data_loader = cvae_data_loader(data_dir=data_dir, df=df, batch_size=32)\n",
    "batch_asd,batch_td,batch_df = data_loader.get_batch()"
   ]
  },
  {
   "cell_type": "code",
   "execution_count": 16,
   "id": "9e877876",
   "metadata": {
    "execution": {
     "iopub.execute_input": "2021-10-06T19:09:22.395439Z",
     "iopub.status.busy": "2021-10-06T19:09:22.395109Z",
     "iopub.status.idle": "2021-10-06T19:09:22.396672Z",
     "shell.execute_reply": "2021-10-06T19:09:22.396397Z"
    },
    "papermill": {
     "duration": 0.016595,
     "end_time": "2021-10-06T19:09:22.396746",
     "exception": false,
     "start_time": "2021-10-06T19:09:22.380151",
     "status": "completed"
    },
    "tags": []
   },
   "outputs": [],
   "source": [
    "data_size = np.hstack((n_subs,batch_asd.shape[1:]))"
   ]
  },
  {
   "cell_type": "code",
   "execution_count": 17,
   "id": "3805047b",
   "metadata": {
    "execution": {
     "iopub.execute_input": "2021-10-06T19:09:22.425003Z",
     "iopub.status.busy": "2021-10-06T19:09:22.424673Z",
     "iopub.status.idle": "2021-10-06T19:09:23.018700Z",
     "shell.execute_reply": "2021-10-06T19:09:23.018366Z"
    },
    "papermill": {
     "duration": 0.609888,
     "end_time": "2021-10-06T19:09:23.018795",
     "exception": false,
     "start_time": "2021-10-06T19:09:22.408907",
     "status": "completed"
    },
    "tags": []
   },
   "outputs": [],
   "source": [
    "import make_models;reload(make_models);from make_models import *\n",
    "batch_size = 16\n",
    "\n",
    "cvae, z_encoder, s_encoder, cvae_decoder = get_fMRI_CVAE_4D(input_shape=tuple(data_size[1::]),\n",
    "                                                             latent_dim=16,\n",
    "                                                             beta=1,\n",
    "                                                             gamma=1,\n",
    "                                                             disentangle=True,\n",
    "                                                             bias=True,\n",
    "                                                             batch_size = batch_size,\n",
    "                                                             kernel_size = 3,\n",
    "                                                             filters = 8,\n",
    "                                                             intermediate_dim = 128,\n",
    "                                                             nlayers = 5,\n",
    "                                                             learning_rate=0.001,\n",
    "                                                             opt=None)"
   ]
  },
  {
   "cell_type": "code",
   "execution_count": 18,
   "id": "babd52d0",
   "metadata": {
    "execution": {
     "iopub.execute_input": "2021-10-06T19:09:23.045821Z",
     "iopub.status.busy": "2021-10-06T19:09:23.045506Z",
     "iopub.status.idle": "2021-10-06T19:09:23.047475Z",
     "shell.execute_reply": "2021-10-06T19:09:23.047191Z"
    },
    "papermill": {
     "duration": 0.016204,
     "end_time": "2021-10-06T19:09:23.047549",
     "exception": false,
     "start_time": "2021-10-06T19:09:23.031345",
     "status": "completed"
    },
    "tags": []
   },
   "outputs": [
    {
     "data": {
      "text/plain": [
       "(1048, 32, 32, 32, 51)"
      ]
     },
     "execution_count": 18,
     "metadata": {},
     "output_type": "execute_result"
    }
   ],
   "source": [
    "tuple(data_size)"
   ]
  },
  {
   "cell_type": "code",
   "execution_count": 19,
   "id": "e438b60c",
   "metadata": {
    "execution": {
     "iopub.execute_input": "2021-10-06T19:09:23.074637Z",
     "iopub.status.busy": "2021-10-06T19:09:23.074316Z",
     "iopub.status.idle": "2021-10-06T19:09:23.075888Z",
     "shell.execute_reply": "2021-10-06T19:09:23.075612Z"
    },
    "papermill": {
     "duration": 0.016065,
     "end_time": "2021-10-06T19:09:23.075957",
     "exception": false,
     "start_time": "2021-10-06T19:09:23.059892",
     "status": "completed"
    },
    "tags": []
   },
   "outputs": [],
   "source": [
    "loss = list()\n",
    "c_sim = list()\n",
    "all_rsas = list()"
   ]
  },
  {
   "cell_type": "code",
   "execution_count": 20,
   "id": "b08cf742",
   "metadata": {
    "execution": {
     "iopub.execute_input": "2021-10-06T19:09:23.103457Z",
     "iopub.status.busy": "2021-10-06T19:09:23.103135Z",
     "iopub.status.idle": "2021-10-06T19:09:23.104712Z",
     "shell.execute_reply": "2021-10-06T19:09:23.104437Z"
    },
    "papermill": {
     "duration": 0.016254,
     "end_time": "2021-10-06T19:09:23.104781",
     "exception": false,
     "start_time": "2021-10-06T19:09:23.088527",
     "status": "completed"
    },
    "tags": []
   },
   "outputs": [],
   "source": [
    "data_loader = cvae_data_loader(data_dir=data_dir, df=df, batch_size=batch_size)"
   ]
  },
  {
   "cell_type": "code",
   "execution_count": 21,
   "id": "ac327f19",
   "metadata": {
    "execution": {
     "iopub.execute_input": "2021-10-06T19:09:23.135815Z",
     "iopub.status.busy": "2021-10-06T19:09:23.135481Z",
     "iopub.status.idle": "2021-10-07T09:13:25.874747Z",
     "shell.execute_reply": "2021-10-07T09:13:25.875138Z"
    },
    "papermill": {
     "duration": 50642.758646,
     "end_time": "2021-10-07T09:13:25.875334",
     "exception": false,
     "start_time": "2021-10-06T19:09:23.116688",
     "status": "completed"
    },
    "tags": []
   },
   "outputs": [
    {
     "data": {
      "text/plain": [
       "<Figure size 432x288 with 0 Axes>"
      ]
     },
     "metadata": {},
     "output_type": "display_data"
    },
    {
     "name": "stderr",
     "output_type": "stream",
     "text": [
      "/mmfs1/data/aglinska/BC-fMRI-AE/Notebooks/helper_funcs.py:190: MatplotlibDeprecationWarning: Passing non-integers as three-element position specification is deprecated since 3.3 and will be removed two minor releases later.\n",
      "  plt.subplot(nrows,ncols/2,1) # PLOT LOSS\n"
     ]
    },
    {
     "data": {
      "text/plain": [
       "<Figure size 432x288 with 0 Axes>"
      ]
     },
     "metadata": {},
     "output_type": "display_data"
    },
    {
     "data": {
      "image/png": "[encoded data removed]",
      "text/plain": [
       "<Figure size 1080x1080 with 21 Axes>"
      ]
     },
     "metadata": {
      "needs_background": "light"
     },
     "output_type": "display_data"
    },
    {
     "name": "stderr",
     "output_type": "stream",
     "text": [
      "\n"
     ]
    },
    {
     "name": "stderr",
     "output_type": "stream",
     "text": [
      "\r",
      "100%|██████████| 32/32 [28:05<00:00, 52.75s/it]"
     ]
    },
    {
     "name": "stderr",
     "output_type": "stream",
     "text": [
      "\u001b[A"
     ]
    },
    {
     "name": "stderr",
     "output_type": "stream",
     "text": [
      "\n"
     ]
    },
    {
     "name": "stderr",
     "output_type": "stream",
     "text": [
      "\r",
      "                                               "
     ]
    },
    {
     "name": "stderr",
     "output_type": "stream",
     "text": [
      "\u001b[A"
     ]
    },
    {
     "name": "stderr",
     "output_type": "stream",
     "text": [
      "\r",
      "100%|██████████| 100/100 [14:04:02<00:00, 1104.34s/it]"
     ]
    },
    {
     "name": "stderr",
     "output_type": "stream",
     "text": [
      "\r",
      "100%|██████████| 100/100 [14:04:02<00:00, 506.43s/it] "
     ]
    },
    {
     "name": "stderr",
     "output_type": "stream",
     "text": [
      "\n"
     ]
    }
   ],
   "source": [
    "import make_models;reload(make_models);from make_models import *\n",
    "import helper_funcs;reload(helper_funcs);from helper_funcs import *\n",
    "\n",
    "for epoch in tqdm(range(100),position=0, leave=True):\n",
    "    for i in tqdm(range(data_loader.n_batches),position=1, leave=False):\n",
    "        \n",
    "        patient_batch,control_batch,batch_df = data_loader.get_batch() # Get a batch\n",
    "        hist = cvae.train_on_batch([patient_batch,control_batch]) # pass a batch\n",
    "        assert not np.isnan(hist),'loss is NaN - you f**cked up'  # check nothing crashed\n",
    "        loss.append(hist) # keep track of loss\n",
    "        \n",
    "        cvae.save_weights(os.path.join(save_dir,'cvae_weights')) # SAVE WEIGHTS\n",
    "        np.save(os.path.join(save_dir,'cvae_loss.npy'),np.array(loss)) # Save loss\n",
    "        \n",
    "        if np.mod(i,10)==0:\n",
    "            batch_rsas = get_batch_rsas(data_dir,df,z_encoder,s_encoder,batch_size=(df['DX_GROUP'].values==1).sum())\n",
    "        \n",
    "        c_sim,all_rsas = cvae_dashboard(data_loader.epoch,\n",
    "                                        data_loader.b,\n",
    "                                        i,\n",
    "                                        cvae,z_encoder,\n",
    "                                        s_encoder,\n",
    "                                        loss,\n",
    "                                        all_rsas,\n",
    "                                        c_sim,\n",
    "                                        df,\n",
    "                                        patient_batch,\n",
    "                                        control_batch,\n",
    "                                        batch_rsas,\n",
    "                                        red='UMAP') # plot training progress\n",
    "        "
   ]
  },
  {
   "cell_type": "code",
   "execution_count": null,
   "id": "fa369dbc",
   "metadata": {
    "papermill": {
     "duration": 0.083066,
     "end_time": "2021-10-07T09:13:26.032399",
     "exception": false,
     "start_time": "2021-10-07T09:13:25.949333",
     "status": "completed"
    },
    "tags": []
   },
   "outputs": [],
   "source": []
  },
  {
   "cell_type": "code",
   "execution_count": 22,
   "id": "6e6ed7e5",
   "metadata": {
    "execution": {
     "iopub.execute_input": "2021-10-07T09:13:26.214240Z",
     "iopub.status.busy": "2021-10-07T09:13:26.213852Z",
     "iopub.status.idle": "2021-10-07T09:13:26.215194Z",
     "shell.execute_reply": "2021-10-07T09:13:26.215497Z"
    },
    "papermill": {
     "duration": 0.095095,
     "end_time": "2021-10-07T09:13:26.215615",
     "exception": false,
     "start_time": "2021-10-07T09:13:26.120520",
     "status": "completed"
    },
    "tags": []
   },
   "outputs": [
    {
     "name": "stdout",
     "output_type": "stream",
     "text": [
      "Model: \"z_encoder\"\n",
      "____________________________________________________________________________________________________\n",
      "Layer (type)                     Output Shape          Param #     Connected to                     \n",
      "====================================================================================================\n",
      "tg_inputs (InputLayer)           [(None, 32, 32, 32, 5 0                                            \n",
      "____________________________________________________________________________________________________\n",
      "conv3d (Conv3D)                  (None, 16, 16, 16, 16 22048       tg_inputs[0][0]                  \n",
      "____________________________________________________________________________________________________\n",
      "conv3d_1 (Conv3D)                (None, 8, 8, 8, 32)   13856       conv3d[0][0]                     \n",
      "____________________________________________________________________________________________________\n",
      "conv3d_2 (Conv3D)                (None, 4, 4, 4, 64)   55360       conv3d_1[0][0]                   \n",
      "____________________________________________________________________________________________________\n",
      "conv3d_3 (Conv3D)                (None, 2, 2, 2, 128)  221312      conv3d_2[0][0]                   \n",
      "____________________________________________________________________________________________________\n",
      "conv3d_4 (Conv3D)                (None, 1, 1, 1, 256)  884992      conv3d_3[0][0]                   \n",
      "____________________________________________________________________________________________________\n",
      "flatten (Flatten)                (None, 256)           0           conv3d_4[0][0]                   \n",
      "____________________________________________________________________________________________________\n",
      "dense (Dense)                    (None, 128)           32896       flatten[0][0]                    \n",
      "____________________________________________________________________________________________________\n",
      "z_mean (Dense)                   (None, 16)            2064        dense[0][0]                      \n",
      "____________________________________________________________________________________________________\n",
      "z_log_var (Dense)                (None, 16)            2064        dense[0][0]                      \n",
      "____________________________________________________________________________________________________\n",
      "z (Lambda)                       (None, 16)            0           z_mean[0][0]                     \n",
      "                                                                   z_log_var[0][0]                  \n",
      "====================================================================================================\n",
      "Total params: 1,234,592\n",
      "Trainable params: 1,234,592\n",
      "Non-trainable params: 0\n",
      "____________________________________________________________________________________________________\n"
     ]
    }
   ],
   "source": [
    "z_encoder.summary(line_length=100)"
   ]
  },
  {
   "cell_type": "code",
   "execution_count": 23,
   "id": "14c9039b",
   "metadata": {
    "execution": {
     "iopub.execute_input": "2021-10-07T09:13:26.403871Z",
     "iopub.status.busy": "2021-10-07T09:13:26.403499Z",
     "iopub.status.idle": "2021-10-07T09:13:26.405136Z",
     "shell.execute_reply": "2021-10-07T09:13:26.404797Z"
    },
    "papermill": {
     "duration": 0.097433,
     "end_time": "2021-10-07T09:13:26.405225",
     "exception": false,
     "start_time": "2021-10-07T09:13:26.307792",
     "status": "completed"
    },
    "tags": []
   },
   "outputs": [
    {
     "name": "stdout",
     "output_type": "stream",
     "text": [
      "Model: \"s_encoder\"\n",
      "____________________________________________________________________________________________________\n",
      "Layer (type)                     Output Shape          Param #     Connected to                     \n",
      "====================================================================================================\n",
      "tg_inputs (InputLayer)           [(None, 32, 32, 32, 5 0                                            \n",
      "____________________________________________________________________________________________________\n",
      "conv3d_5 (Conv3D)                (None, 16, 16, 16, 16 22048       tg_inputs[0][0]                  \n",
      "____________________________________________________________________________________________________\n",
      "conv3d_6 (Conv3D)                (None, 8, 8, 8, 32)   13856       conv3d_5[0][0]                   \n",
      "____________________________________________________________________________________________________\n",
      "conv3d_7 (Conv3D)                (None, 4, 4, 4, 64)   55360       conv3d_6[0][0]                   \n",
      "____________________________________________________________________________________________________\n",
      "conv3d_8 (Conv3D)                (None, 2, 2, 2, 128)  221312      conv3d_7[0][0]                   \n",
      "____________________________________________________________________________________________________\n",
      "conv3d_9 (Conv3D)                (None, 1, 1, 1, 256)  884992      conv3d_8[0][0]                   \n",
      "____________________________________________________________________________________________________\n",
      "flatten_1 (Flatten)              (None, 256)           0           conv3d_9[0][0]                   \n",
      "____________________________________________________________________________________________________\n",
      "dense_1 (Dense)                  (None, 128)           32896       flatten_1[0][0]                  \n",
      "____________________________________________________________________________________________________\n",
      "s_mean (Dense)                   (None, 16)            2064        dense_1[0][0]                    \n",
      "____________________________________________________________________________________________________\n",
      "s_log_var (Dense)                (None, 16)            2064        dense_1[0][0]                    \n",
      "____________________________________________________________________________________________________\n",
      "s (Lambda)                       (None, 16)            0           s_mean[0][0]                     \n",
      "                                                                   s_log_var[0][0]                  \n",
      "====================================================================================================\n",
      "Total params: 1,234,592\n",
      "Trainable params: 1,234,592\n",
      "Non-trainable params: 0\n",
      "____________________________________________________________________________________________________\n"
     ]
    }
   ],
   "source": [
    "s_encoder.summary(line_length=100)"
   ]
  },
  {
   "cell_type": "code",
   "execution_count": 24,
   "id": "14d305c3",
   "metadata": {
    "execution": {
     "iopub.execute_input": "2021-10-07T09:13:26.601865Z",
     "iopub.status.busy": "2021-10-07T09:13:26.601496Z",
     "iopub.status.idle": "2021-10-07T09:13:26.611083Z",
     "shell.execute_reply": "2021-10-07T09:13:26.610698Z"
    },
    "papermill": {
     "duration": 0.108933,
     "end_time": "2021-10-07T09:13:26.611168",
     "exception": false,
     "start_time": "2021-10-07T09:13:26.502235",
     "status": "completed"
    },
    "tags": []
   },
   "outputs": [
    {
     "name": "stdout",
     "output_type": "stream",
     "text": [
      "Model: \"contrastive_vae\"\n",
      "____________________________________________________________________________________________________\n",
      "Layer (type)                     Output Shape          Param #     Connected to                     \n",
      "====================================================================================================\n",
      "tg_inputs (InputLayer)           [(None, 32, 32, 32, 5 0                                            \n",
      "____________________________________________________________________________________________________\n",
      "conv3d (Conv3D)                  (None, 16, 16, 16, 16 22048       tg_inputs[0][0]                  \n",
      "____________________________________________________________________________________________________\n",
      "bg_inputs (InputLayer)           [(None, 32, 32, 32, 5 0                                            \n",
      "____________________________________________________________________________________________________\n",
      "conv3d_1 (Conv3D)                (None, 8, 8, 8, 32)   13856       conv3d[0][0]                     \n",
      "____________________________________________________________________________________________________\n",
      "conv3d_5 (Conv3D)                (None, 16, 16, 16, 16 22048       tg_inputs[0][0]                  \n",
      "____________________________________________________________________________________________________\n",
      "conv3d_10 (Conv3D)               (None, 16, 16, 16, 16 22048       bg_inputs[0][0]                  \n",
      "____________________________________________________________________________________________________\n",
      "conv3d_2 (Conv3D)                (None, 4, 4, 4, 64)   55360       conv3d_1[0][0]                   \n",
      "____________________________________________________________________________________________________\n",
      "conv3d_6 (Conv3D)                (None, 8, 8, 8, 32)   13856       conv3d_5[0][0]                   \n",
      "____________________________________________________________________________________________________\n",
      "conv3d_11 (Conv3D)               (None, 8, 8, 8, 32)   13856       conv3d_10[0][0]                  \n",
      "____________________________________________________________________________________________________\n",
      "conv3d_3 (Conv3D)                (None, 2, 2, 2, 128)  221312      conv3d_2[0][0]                   \n",
      "____________________________________________________________________________________________________\n",
      "conv3d_7 (Conv3D)                (None, 4, 4, 4, 64)   55360       conv3d_6[0][0]                   \n",
      "____________________________________________________________________________________________________\n",
      "conv3d_12 (Conv3D)               (None, 4, 4, 4, 64)   55360       conv3d_11[0][0]                  \n",
      "____________________________________________________________________________________________________\n",
      "conv3d_4 (Conv3D)                (None, 1, 1, 1, 256)  884992      conv3d_3[0][0]                   \n",
      "____________________________________________________________________________________________________\n",
      "conv3d_8 (Conv3D)                (None, 2, 2, 2, 128)  221312      conv3d_7[0][0]                   \n",
      "____________________________________________________________________________________________________\n",
      "conv3d_13 (Conv3D)               (None, 2, 2, 2, 128)  221312      conv3d_12[0][0]                  \n",
      "____________________________________________________________________________________________________\n",
      "flatten (Flatten)                (None, 256)           0           conv3d_4[0][0]                   \n",
      "____________________________________________________________________________________________________\n",
      "conv3d_9 (Conv3D)                (None, 1, 1, 1, 256)  884992      conv3d_8[0][0]                   \n",
      "____________________________________________________________________________________________________\n",
      "conv3d_14 (Conv3D)               (None, 1, 1, 1, 256)  884992      conv3d_13[0][0]                  \n",
      "____________________________________________________________________________________________________\n",
      "dense (Dense)                    (None, 128)           32896       flatten[0][0]                    \n",
      "                                                                   flatten_2[0][0]                  \n",
      "____________________________________________________________________________________________________\n",
      "flatten_1 (Flatten)              (None, 256)           0           conv3d_9[0][0]                   \n",
      "____________________________________________________________________________________________________\n",
      "flatten_2 (Flatten)              (None, 256)           0           conv3d_14[0][0]                  \n",
      "____________________________________________________________________________________________________\n",
      "z_mean (Dense)                   (None, 16)            2064        dense[0][0]                      \n",
      "                                                                   dense[1][0]                      \n",
      "____________________________________________________________________________________________________\n",
      "z_log_var (Dense)                (None, 16)            2064        dense[0][0]                      \n",
      "                                                                   dense[1][0]                      \n",
      "____________________________________________________________________________________________________\n",
      "dense_1 (Dense)                  (None, 128)           32896       flatten_1[0][0]                  \n",
      "____________________________________________________________________________________________________\n",
      "z (Lambda)                       (None, 16)            0           z_mean[0][0]                     \n",
      "                                                                   z_log_var[0][0]                  \n",
      "                                                                   z_mean[1][0]                     \n",
      "                                                                   z_log_var[1][0]                  \n",
      "____________________________________________________________________________________________________\n",
      "s_mean (Dense)                   (None, 16)            2064        dense_1[0][0]                    \n",
      "____________________________________________________________________________________________________\n",
      "s_log_var (Dense)                (None, 16)            2064        dense_1[0][0]                    \n",
      "____________________________________________________________________________________________________\n",
      "s (Lambda)                       (None, 16)            0           s_mean[0][0]                     \n",
      "                                                                   s_log_var[0][0]                  \n",
      "____________________________________________________________________________________________________\n",
      "lambda (Lambda)                  (None, 16)            0           z[0][0]                          \n",
      "____________________________________________________________________________________________________\n",
      "concatenate (Concatenate)        (None, 32)            0           z[0][0]                          \n",
      "                                                                   s[0][0]                          \n",
      "____________________________________________________________________________________________________\n",
      "concatenate_1 (Concatenate)      (None, 32)            0           z[1][0]                          \n",
      "                                                                   lambda[0][0]                     \n",
      "____________________________________________________________________________________________________\n",
      "decoder (Functional)             (None, 32, 32, 32, 51 1234611     concatenate[0][0]                \n",
      "                                                                   concatenate_1[0][0]              \n",
      "____________________________________________________________________________________________________\n",
      "lambda_3 (Lambda)                (None, 16)            0           s[0][0]                          \n",
      "____________________________________________________________________________________________________\n",
      "lambda_1 (Lambda)                (None, 16)            0           z[0][0]                          \n",
      "____________________________________________________________________________________________________\n",
      "lambda_4 (Lambda)                (None, 16)            0           s[0][0]                          \n",
      "____________________________________________________________________________________________________\n",
      "lambda_2 (Lambda)                (None, 16)            0           z[0][0]                          \n",
      "____________________________________________________________________________________________________\n",
      "tf_op_layer_AddV2_3 (TensorFlowO [(None, 16)]          0           z_log_var[0][0]                  \n",
      "____________________________________________________________________________________________________\n",
      "tf_op_layer_Square (TensorFlowOp [(None, 16)]          0           z_mean[0][0]                     \n",
      "____________________________________________________________________________________________________\n",
      "tf_op_layer_AddV2_4 (TensorFlowO [(None, 16)]          0           s_log_var[0][0]                  \n",
      "____________________________________________________________________________________________________\n",
      "tf_op_layer_Square_1 (TensorFlow [(None, 16)]          0           s_mean[0][0]                     \n",
      "____________________________________________________________________________________________________\n",
      "concatenate_5 (Concatenate)      (None, 32)            0           lambda_3[0][0]                   \n",
      "                                                                   lambda_1[0][0]                   \n",
      "____________________________________________________________________________________________________\n",
      "concatenate_6 (Concatenate)      (None, 32)            0           lambda_4[0][0]                   \n",
      "                                                                   lambda_2[0][0]                   \n",
      "____________________________________________________________________________________________________\n",
      "tf_op_layer_Sub_3 (TensorFlowOpL [(None, 16)]          0           tf_op_layer_AddV2_3[0][0]        \n",
      "                                                                   tf_op_layer_Square[0][0]         \n",
      "____________________________________________________________________________________________________\n",
      "tf_op_layer_Exp (TensorFlowOpLay [(None, 16)]          0           z_log_var[0][0]                  \n",
      "____________________________________________________________________________________________________\n",
      "tf_op_layer_Sub_5 (TensorFlowOpL [(None, 16)]          0           tf_op_layer_AddV2_4[0][0]        \n",
      "                                                                   tf_op_layer_Square_1[0][0]       \n",
      "____________________________________________________________________________________________________\n",
      "tf_op_layer_Exp_1 (TensorFlowOpL [(None, 16)]          0           s_log_var[0][0]                  \n",
      "____________________________________________________________________________________________________\n",
      "tf_op_layer_AddV2_6 (TensorFlowO [(None, 16)]          0           z_log_var[1][0]                  \n",
      "____________________________________________________________________________________________________\n",
      "tf_op_layer_Square_2 (TensorFlow [(None, 16)]          0           z_mean[1][0]                     \n",
      "____________________________________________________________________________________________________\n",
      "concatenate_7 (Concatenate)      (None, 32)            0           concatenate_5[0][0]              \n",
      "                                                                   concatenate_6[0][0]              \n",
      "____________________________________________________________________________________________________\n",
      "tf_op_layer_Sub_4 (TensorFlowOpL [(None, 16)]          0           tf_op_layer_Sub_3[0][0]          \n",
      "                                                                   tf_op_layer_Exp[0][0]            \n",
      "____________________________________________________________________________________________________\n",
      "tf_op_layer_Sub_6 (TensorFlowOpL [(None, 16)]          0           tf_op_layer_Sub_5[0][0]          \n",
      "                                                                   tf_op_layer_Exp_1[0][0]          \n",
      "____________________________________________________________________________________________________\n",
      "tf_op_layer_Sub_7 (TensorFlowOpL [(None, 16)]          0           tf_op_layer_AddV2_6[0][0]        \n",
      "                                                                   tf_op_layer_Square_2[0][0]       \n",
      "____________________________________________________________________________________________________\n",
      "tf_op_layer_Exp_2 (TensorFlowOpL [(None, 16)]          0           z_log_var[1][0]                  \n",
      "____________________________________________________________________________________________________\n",
      "dense_4 (Dense)                  (None, 1)             33          concatenate_4[0][0]              \n",
      "                                                                   concatenate_7[0][0]              \n",
      "____________________________________________________________________________________________________\n",
      "concatenate_2 (Concatenate)      (None, 32)            0           lambda_3[0][0]                   \n",
      "                                                                   lambda_2[0][0]                   \n",
      "____________________________________________________________________________________________________\n",
      "concatenate_3 (Concatenate)      (None, 32)            0           lambda_4[0][0]                   "
     ]
    },
    {
     "name": "stdout",
     "output_type": "stream",
     "text": [
      "\n",
      "                                                                   lambda_1[0][0]                   \n",
      "____________________________________________________________________________________________________\n",
      "tf_op_layer_Reshape_1 (TensorFlo [(None,)]             0           decoder[0][0]                    \n",
      "____________________________________________________________________________________________________\n",
      "tf_op_layer_Reshape (TensorFlowO [(None,)]             0           tg_inputs[0][0]                  \n",
      "____________________________________________________________________________________________________\n",
      "tf_op_layer_Reshape_3 (TensorFlo [(None,)]             0           decoder[1][0]                    \n",
      "____________________________________________________________________________________________________\n",
      "tf_op_layer_Reshape_2 (TensorFlo [(None,)]             0           bg_inputs[0][0]                  \n",
      "____________________________________________________________________________________________________\n",
      "tf_op_layer_AddV2_5 (TensorFlowO [(None, 16)]          0           tf_op_layer_Sub_4[0][0]          \n",
      "                                                                   tf_op_layer_Sub_6[0][0]          \n",
      "____________________________________________________________________________________________________\n",
      "tf_op_layer_Sub_8 (TensorFlowOpL [(None, 16)]          0           tf_op_layer_Sub_7[0][0]          \n",
      "                                                                   tf_op_layer_Exp_2[0][0]          \n",
      "____________________________________________________________________________________________________\n",
      "tf_op_layer_AddV2_1 (TensorFlowO [(None, 1)]           0           dense_4[1][0]                    \n",
      "____________________________________________________________________________________________________\n",
      "concatenate_4 (Concatenate)      (None, 32)            0           concatenate_2[0][0]              \n",
      "                                                                   concatenate_3[0][0]              \n",
      "____________________________________________________________________________________________________\n",
      "tf_op_layer_SquaredDifference (T [(None,)]             0           tf_op_layer_Reshape_1[0][0]      \n",
      "                                                                   tf_op_layer_Reshape[0][0]        \n",
      "____________________________________________________________________________________________________\n",
      "tf_op_layer_SquaredDifference_1  [(None,)]             0           tf_op_layer_Reshape_3[0][0]      \n",
      "                                                                   tf_op_layer_Reshape_2[0][0]      \n",
      "____________________________________________________________________________________________________\n",
      "tf_op_layer_AddV2_7 (TensorFlowO [(None, 16)]          0           tf_op_layer_AddV2_5[0][0]        \n",
      "                                                                   tf_op_layer_Sub_8[0][0]          \n",
      "____________________________________________________________________________________________________\n",
      "tf_op_layer_Mul_1 (TensorFlowOpL [(None, 1)]           0           tf_op_layer_AddV2_1[0][0]        \n",
      "____________________________________________________________________________________________________\n",
      "tf_op_layer_Mean (TensorFlowOpLa [()]                  0           tf_op_layer_SquaredDifference[0][\n",
      "____________________________________________________________________________________________________\n",
      "tf_op_layer_Mean_1 (TensorFlowOp [()]                  0           tf_op_layer_SquaredDifference_1[0\n",
      "____________________________________________________________________________________________________\n",
      "tf_op_layer_Sum (TensorFlowOpLay [(None,)]             0           tf_op_layer_AddV2_7[0][0]        \n",
      "____________________________________________________________________________________________________\n",
      "tf_op_layer_Sub (TensorFlowOpLay [(None, 1)]           0           tf_op_layer_Mul_1[0][0]          \n",
      "____________________________________________________________________________________________________\n",
      "tf_op_layer_AddV2 (TensorFlowOpL [(None, 1)]           0           dense_4[0][0]                    \n",
      "____________________________________________________________________________________________________\n",
      "tf_op_layer_AddV2_2 (TensorFlowO [()]                  0           tf_op_layer_Mean[0][0]           \n",
      "                                                                   tf_op_layer_Mean_1[0][0]         \n",
      "____________________________________________________________________________________________________\n",
      "tf_op_layer_Mul_3 (TensorFlowOpL [(None,)]             0           tf_op_layer_Sum[0][0]            \n",
      "____________________________________________________________________________________________________\n",
      "tf_op_layer_RealDiv (TensorFlowO [(None, 1)]           0           tf_op_layer_Mul_1[0][0]          \n",
      "                                                                   tf_op_layer_Sub[0][0]            \n",
      "____________________________________________________________________________________________________\n",
      "tf_op_layer_Mul (TensorFlowOpLay [(None, 1)]           0           tf_op_layer_AddV2[0][0]          \n",
      "____________________________________________________________________________________________________\n",
      "tf_op_layer_Mul_2 (TensorFlowOpL [()]                  0           tf_op_layer_AddV2_2[0][0]        \n",
      "____________________________________________________________________________________________________\n",
      "tf_op_layer_Mul_4 (TensorFlowOpL [(None,)]             0           tf_op_layer_Mul_3[0][0]          \n",
      "____________________________________________________________________________________________________\n",
      "tf_op_layer_Log (TensorFlowOpLay [(None, 1)]           0           tf_op_layer_RealDiv[0][0]        \n",
      "____________________________________________________________________________________________________\n",
      "tf_op_layer_Log_1 (TensorFlowOpL [(None, 1)]           0           tf_op_layer_Mul_1[0][0]          \n",
      "____________________________________________________________________________________________________\n",
      "tf_op_layer_Sub_1 (TensorFlowOpL [(None, 1)]           0           tf_op_layer_Mul[0][0]            \n",
      "____________________________________________________________________________________________________\n",
      "tf_op_layer_AddV2_8 (TensorFlowO [(None,)]             0           tf_op_layer_Mul_2[0][0]          \n",
      "                                                                   tf_op_layer_Mul_4[0][0]          \n",
      "____________________________________________________________________________________________________\n",
      "tf_op_layer_Mul_5 (TensorFlowOpL [(None, 1)]           0           tf_op_layer_Log[0][0]            \n",
      "____________________________________________________________________________________________________\n",
      "tf_op_layer_Neg (TensorFlowOpLay [(None, 1)]           0           tf_op_layer_Log_1[0][0]          \n",
      "____________________________________________________________________________________________________\n",
      "tf_op_layer_Log_2 (TensorFlowOpL [(None, 1)]           0           tf_op_layer_Sub_1[0][0]          \n",
      "____________________________________________________________________________________________________\n",
      "tf_op_layer_AddV2_9 (TensorFlowO [(None, None)]        0           tf_op_layer_AddV2_8[0][0]        \n",
      "                                                                   tf_op_layer_Mul_5[0][0]          \n",
      "____________________________________________________________________________________________________\n",
      "tf_op_layer_Sub_2 (TensorFlowOpL [(None, 1)]           0           tf_op_layer_Neg[0][0]            \n",
      "                                                                   tf_op_layer_Log_2[0][0]          \n",
      "____________________________________________________________________________________________________\n",
      "tf_op_layer_AddV2_10 (TensorFlow [(None, None)]        0           tf_op_layer_AddV2_9[0][0]        \n",
      "                                                                   tf_op_layer_Sub_2[0][0]          \n",
      "____________________________________________________________________________________________________\n",
      "tf_op_layer_Mean_2 (TensorFlowOp [()]                  0           tf_op_layer_AddV2_10[0][0]       \n",
      "____________________________________________________________________________________________________\n",
      "add_loss (AddLoss)               ()                    0           tf_op_layer_Mean_2[0][0]         \n",
      "====================================================================================================\n",
      "Total params: 4,901,396\n",
      "Trainable params: 4,901,396\n",
      "Non-trainable params: 0\n",
      "____________________________________________________________________________________________________\n"
     ]
    }
   ],
   "source": [
    "cvae.summary(line_length=100)"
   ]
  },
  {
   "cell_type": "code",
   "execution_count": 25,
   "id": "308b0d2d",
   "metadata": {
    "execution": {
     "iopub.execute_input": "2021-10-07T09:13:26.799833Z",
     "iopub.status.busy": "2021-10-07T09:13:26.799464Z",
     "iopub.status.idle": "2021-10-07T09:13:26.801111Z",
     "shell.execute_reply": "2021-10-07T09:13:26.800765Z"
    },
    "papermill": {
     "duration": 0.097258,
     "end_time": "2021-10-07T09:13:26.801197",
     "exception": false,
     "start_time": "2021-10-07T09:13:26.703939",
     "status": "completed"
    },
    "tags": []
   },
   "outputs": [
    {
     "name": "stdout",
     "output_type": "stream",
     "text": [
      "Model: \"decoder\"\n",
      "____________________________________________________________________________________________________\n",
      "Layer (type)                                 Output Shape                            Param #        \n",
      "====================================================================================================\n",
      "z_sampling (InputLayer)                      [(None, 32)]                            0              \n",
      "____________________________________________________________________________________________________\n",
      "dense_2 (Dense)                              (None, 128)                             4224           \n",
      "____________________________________________________________________________________________________\n",
      "dense_3 (Dense)                              (None, 256)                             33024          \n",
      "____________________________________________________________________________________________________\n",
      "reshape (Reshape)                            (None, 1, 1, 1, 256)                    0              \n",
      "____________________________________________________________________________________________________\n",
      "conv3d_transpose (Conv3DTranspose)           (None, 2, 2, 2, 128)                    884864         \n",
      "____________________________________________________________________________________________________\n",
      "conv3d_transpose_1 (Conv3DTranspose)         (None, 4, 4, 4, 64)                     221248         \n",
      "____________________________________________________________________________________________________\n",
      "conv3d_transpose_2 (Conv3DTranspose)         (None, 8, 8, 8, 32)                     55328          \n",
      "____________________________________________________________________________________________________\n",
      "conv3d_transpose_3 (Conv3DTranspose)         (None, 16, 16, 16, 16)                  13840          \n",
      "____________________________________________________________________________________________________\n",
      "decoder_output (Conv3DTranspose)             (None, 32, 32, 32, 51)                  22083          \n",
      "====================================================================================================\n",
      "Total params: 1,234,611\n",
      "Trainable params: 1,234,611\n",
      "Non-trainable params: 0\n",
      "____________________________________________________________________________________________________\n"
     ]
    }
   ],
   "source": [
    "cvae_decoder.summary(line_length=100)"
   ]
  }
 ],
 "metadata": {
  "kernelspec": {
   "display_name": "Python 3",
   "language": "python",
   "name": "python3"
  },
  "language_info": {
   "codemirror_mode": {
    "name": "ipython",
    "version": 3
   },
   "file_extension": ".py",
   "mimetype": "text/x-python",
   "name": "python",
   "nbconvert_exporter": "python",
   "pygments_lexer": "ipython3",
   "version": "3.8.5"
  },
  "papermill": {
   "default_parameters": {},
   "duration": 50676.149686,
   "end_time": "2021-10-07T09:13:35.336999",
   "environment_variables": {},
   "exception": null,
   "input_path": "01-train-CVAE.ipynb",
   "output_path": "./papermill/papermill|01-train-CVAE|2021-10-06-15-08-56.ipynb",
   "parameters": {},
   "start_time": "2021-10-06T19:08:59.187313",
   "version": "2.3.3"
  }
 },
 "nbformat": 4,
 "nbformat_minor": 5
}