{
 "cells": [
  {
   "cell_type": "code",
   "execution_count": 1,
   "id": "9610b8a5",
   "metadata": {
    "execution": {
     "iopub.execute_input": "2021-10-06T21:30:12.270646Z",
     "iopub.status.busy": "2021-10-06T21:30:12.270285Z",
     "iopub.status.idle": "2021-10-06T21:30:12.271878Z",
     "shell.execute_reply": "2021-10-06T21:30:12.272150Z"
    },
    "papermill": {
     "duration": 0.022354,
     "end_time": "2021-10-06T21:30:12.272324",
     "exception": false,
     "start_time": "2021-10-06T21:30:12.249970",
     "status": "completed"
    },
    "tags": []
   },
   "outputs": [
    {
     "data": {
      "text/plain": [
       "'/mmfs1/data/aglinska/BC-fMRI-AE/Notebooks'"
      ]
     },
     "execution_count": 1,
     "metadata": {},
     "output_type": "execute_result"
    }
   ],
   "source": [
    "pwd"
   ]
  },
  {
   "cell_type": "code",
   "execution_count": 2,
   "id": "64f79c98",
   "metadata": {
    "execution": {
     "iopub.execute_input": "2021-10-06T21:30:12.293708Z",
     "iopub.status.busy": "2021-10-06T21:30:12.293383Z",
     "iopub.status.idle": "2021-10-06T21:30:12.294883Z",
     "shell.execute_reply": "2021-10-06T21:30:12.294609Z"
    },
    "papermill": {
     "duration": 0.012694,
     "end_time": "2021-10-06T21:30:12.294954",
     "exception": false,
     "start_time": "2021-10-06T21:30:12.282260",
     "status": "completed"
    },
    "tags": []
   },
   "outputs": [],
   "source": [
    "import os\n",
    "os.environ['CUDA_VISIBLE_DEVICES']='1'"
   ]
  },
  {
   "cell_type": "code",
   "execution_count": 3,
   "id": "2efed4f1",
   "metadata": {
    "execution": {
     "iopub.execute_input": "2021-10-06T21:30:12.315510Z",
     "iopub.status.busy": "2021-10-06T21:30:12.315177Z",
     "iopub.status.idle": "2021-10-06T21:30:12.316903Z",
     "shell.execute_reply": "2021-10-06T21:30:12.317166Z"
    },
    "papermill": {
     "duration": 0.013104,
     "end_time": "2021-10-06T21:30:12.317249",
     "exception": false,
     "start_time": "2021-10-06T21:30:12.304145",
     "status": "completed"
    },
    "tags": []
   },
   "outputs": [
    {
     "name": "stdout",
     "output_type": "stream",
     "text": [
      "Variable   Type      Data/Info\n",
      "------------------------------\n",
      "os         module    <module 'os' from '/data/<...>da3/lib/python3.8/os.py'>\n"
     ]
    }
   ],
   "source": [
    "whos"
   ]
  },
  {
   "cell_type": "code",
   "execution_count": 4,
   "id": "92b9d98d",
   "metadata": {
    "execution": {
     "iopub.execute_input": "2021-10-06T21:30:12.339411Z",
     "iopub.status.busy": "2021-10-06T21:30:12.339081Z",
     "iopub.status.idle": "2021-10-06T21:30:12.461888Z",
     "shell.execute_reply": "2021-10-06T21:30:12.462159Z"
    },
    "papermill": {
     "duration": 0.135581,
     "end_time": "2021-10-06T21:30:12.462290",
     "exception": false,
     "start_time": "2021-10-06T21:30:12.326709",
     "status": "completed"
    },
    "tags": []
   },
   "outputs": [
    {
     "name": "stdout",
     "output_type": "stream",
     "text": [
      "              total        used        free      shared  buff/cache   available\r\n",
      "Mem:            187           9         170           4           7         172\r\n",
      "Swap:            11           0          11\r\n"
     ]
    }
   ],
   "source": [
    "!free -g"
   ]
  },
  {
   "cell_type": "code",
   "execution_count": 5,
   "id": "b9611fbf",
   "metadata": {
    "execution": {
     "iopub.execute_input": "2021-10-06T21:30:12.489329Z",
     "iopub.status.busy": "2021-10-06T21:30:12.486871Z",
     "iopub.status.idle": "2021-10-06T21:30:12.779045Z",
     "shell.execute_reply": "2021-10-06T21:30:12.778722Z"
    },
    "papermill": {
     "duration": 0.305664,
     "end_time": "2021-10-06T21:30:12.779143",
     "exception": false,
     "start_time": "2021-10-06T21:30:12.473479",
     "status": "completed"
    },
    "tags": []
   },
   "outputs": [
    {
     "name": "stdout",
     "output_type": "stream",
     "text": [
      "Wed Oct  6 17:30:12 2021       \r\n",
      "+-----------------------------------------------------------------------------+\r\n",
      "| NVIDIA-SMI 450.51.05    Driver Version: 450.51.05    CUDA Version: 11.0     |\r\n",
      "|-------------------------------+----------------------+----------------------+\r\n",
      "| GPU  Name        Persistence-M| Bus-Id        Disp.A | Volatile Uncorr. ECC |\r\n",
      "| Fan  Temp  Perf  Pwr:Usage/Cap|         Memory-Usage | GPU-Util  Compute M. |\r\n",
      "|                               |                      |               MIG M. |\r\n",
      "|===============================+======================+======================|\r\n",
      "|   0  Tesla V100-SXM2...  On   | 00000000:18:00.0 Off |                    0 |\r\n",
      "| N/A   52C    P0   112W / 300W |    318MiB / 16160MiB |     87%      Default |\r\n",
      "|                               |                      |                  N/A |\r\n",
      "+-------------------------------+----------------------+----------------------+\r\n",
      "|   1  Tesla V100-SXM2...  On   | 00000000:3B:00.0 Off |                    0 |\r\n",
      "| N/A   50C    P0   153W / 300W |   8374MiB / 16160MiB |     66%      Default |\r\n",
      "|                               |                      |                  N/A |\r\n",
      "+-------------------------------+----------------------+----------------------+\r\n",
      "|   2  Tesla V100-SXM2...  On   | 00000000:86:00.0 Off |                    0 |\r\n",
      "| N/A   29C    P0    42W / 300W |      3MiB / 16160MiB |      0%      Default |\r\n",
      "|                               |                      |                  N/A |\r\n",
      "+-------------------------------+----------------------+----------------------+\r\n",
      "|   3  Tesla V100-SXM2...  On   | 00000000:AF:00.0 Off |                    0 |\r\n",
      "| N/A   38C    P0    67W / 300W |      3MiB / 16160MiB |      0%      Default |\r\n",
      "|                               |                      |                  N/A |\r\n",
      "+-------------------------------+----------------------+----------------------+\r\n",
      "                                                                               \r\n",
      "+-----------------------------------------------------------------------------+\r\n",
      "| Processes:                                                                  |\r\n",
      "|  GPU   GI   CI        PID   Type   Process name                  GPU Memory |\r\n",
      "|        ID   ID                                                   Usage      |\r\n",
      "|=============================================================================|\r\n"
     ]
    },
    {
     "name": "stdout",
     "output_type": "stream",
     "text": [
      "|    0   N/A  N/A      9496      C   python3                           315MiB |\r\n",
      "|    1   N/A  N/A     46839      C   nnet-train-frmshuff              8371MiB |\r\n",
      "+-----------------------------------------------------------------------------+\r\n"
     ]
    }
   ],
   "source": [
    "!nvidia-smi"
   ]
  },
  {
   "cell_type": "code",
   "execution_count": 6,
   "id": "1783d05b",
   "metadata": {
    "execution": {
     "iopub.execute_input": "2021-10-06T21:30:12.803425Z",
     "iopub.status.busy": "2021-10-06T21:30:12.803086Z",
     "iopub.status.idle": "2021-10-06T21:30:12.853948Z",
     "shell.execute_reply": "2021-10-06T21:30:12.854264Z"
    },
    "papermill": {
     "duration": 0.064649,
     "end_time": "2021-10-06T21:30:12.854378",
     "exception": false,
     "start_time": "2021-10-06T21:30:12.789729",
     "status": "completed"
    },
    "tags": []
   },
   "outputs": [
    {
     "name": "stdout",
     "output_type": "stream",
     "text": [
      "CVAE_2021-10-06 17:30:12.802507\n"
     ]
    }
   ],
   "source": [
    "import os\n",
    "from datetime import datetime; now = datetime.now\n",
    "\n",
    "analysis_name = 'CVAE_'+str(now())\n",
    "save_dir = os.path.join('../Assets/tf_weights',analysis_name)\n",
    "if not os.path.exists(save_dir):\n",
    "    os.mkdir(save_dir)\n",
    "    \n",
    "print(analysis_name)"
   ]
  },
  {
   "cell_type": "code",
   "execution_count": 7,
   "id": "1c3537b5",
   "metadata": {
    "execution": {
     "iopub.execute_input": "2021-10-06T21:30:12.879054Z",
     "iopub.status.busy": "2021-10-06T21:30:12.878675Z",
     "iopub.status.idle": "2021-10-06T21:30:12.897202Z",
     "shell.execute_reply": "2021-10-06T21:30:12.896844Z"
    },
    "papermill": {
     "duration": 0.032194,
     "end_time": "2021-10-06T21:30:12.897284",
     "exception": false,
     "start_time": "2021-10-06T21:30:12.865090",
     "status": "completed"
    },
    "tags": []
   },
   "outputs": [
    {
     "name": "stdout",
     "output_type": "stream",
     "text": [
      "Total memory: 15.78173828125\n",
      "Free memory: 15.470703125\n",
      "Used memory: 0.31103515625\n"
     ]
    }
   ],
   "source": [
    "# CHECK GPU\n",
    "import nvidia_smi\n",
    "try:\n",
    "    nvidia_smi.nvmlInit()\n",
    "\n",
    "    handle = nvidia_smi.nvmlDeviceGetHandleByIndex(0)\n",
    "    # card id 0 hardcoded here, there is also a call to get all available card ids, so we could iterate\n",
    "\n",
    "    info = nvidia_smi.nvmlDeviceGetMemoryInfo(handle)\n",
    "\n",
    "    print(\"Total memory:\", (info.total/1024/1024/1024))\n",
    "    print(\"Free memory:\", (info.free/1024/1024/1024))\n",
    "    print(\"Used memory:\", (info.used/1024/1024/1024))\n",
    "\n",
    "    nvidia_smi.nvmlShutdown()\n",
    "except:\n",
    "    pass"
   ]
  },
  {
   "cell_type": "code",
   "execution_count": 8,
   "id": "536c9348",
   "metadata": {
    "execution": {
     "iopub.execute_input": "2021-10-06T21:30:12.920746Z",
     "iopub.status.busy": "2021-10-06T21:30:12.920422Z",
     "iopub.status.idle": "2021-10-06T21:30:12.922105Z",
     "shell.execute_reply": "2021-10-06T21:30:12.921828Z"
    },
    "papermill": {
     "duration": 0.014122,
     "end_time": "2021-10-06T21:30:12.922177",
     "exception": false,
     "start_time": "2021-10-06T21:30:12.908055",
     "status": "completed"
    },
    "tags": []
   },
   "outputs": [],
   "source": [
    "## SET UP"
   ]
  },
  {
   "cell_type": "code",
   "execution_count": 9,
   "id": "f06439a1",
   "metadata": {
    "execution": {
     "iopub.execute_input": "2021-10-06T21:30:12.946277Z",
     "iopub.status.busy": "2021-10-06T21:30:12.945911Z",
     "iopub.status.idle": "2021-10-06T21:30:33.717645Z",
     "shell.execute_reply": "2021-10-06T21:30:33.717298Z"
    },
    "papermill": {
     "duration": 20.784803,
     "end_time": "2021-10-06T21:30:33.717741",
     "exception": false,
     "start_time": "2021-10-06T21:30:12.932938",
     "status": "completed"
    },
    "tags": []
   },
   "outputs": [],
   "source": [
    "import numpy as np\n",
    "import pandas as pd\n",
    "from tqdm import tqdm\n",
    "from matplotlib import pyplot as plt\n",
    "\n",
    "from functools import partial\n",
    "from tqdm import tqdm\n",
    "from umap import UMAP\n",
    "tqdm = partial(tqdm, position=0, leave=True) "
   ]
  },
  {
   "cell_type": "code",
   "execution_count": 10,
   "id": "3ea728bd",
   "metadata": {
    "execution": {
     "iopub.execute_input": "2021-10-06T21:30:33.754876Z",
     "iopub.status.busy": "2021-10-06T21:30:33.754521Z",
     "iopub.status.idle": "2021-10-06T21:30:33.789372Z",
     "shell.execute_reply": "2021-10-06T21:30:33.789037Z"
    },
    "papermill": {
     "duration": 0.057106,
     "end_time": "2021-10-06T21:30:33.789475",
     "exception": false,
     "start_time": "2021-10-06T21:30:33.732369",
     "status": "completed"
    },
    "tags": []
   },
   "outputs": [],
   "source": [
    "df = pd.read_csv('../Data/ABIDE_df2.csv')\n",
    "df = df.iloc[~pd.isna(df['bids_folder']).values]\n",
    "data_dir = '../Assets/fc_mats_32smooth_new/'"
   ]
  },
  {
   "cell_type": "code",
   "execution_count": 11,
   "id": "54cdc78c",
   "metadata": {
    "execution": {
     "iopub.execute_input": "2021-10-06T21:30:33.814570Z",
     "iopub.status.busy": "2021-10-06T21:30:33.814186Z",
     "iopub.status.idle": "2021-10-06T21:30:33.821081Z",
     "shell.execute_reply": "2021-10-06T21:30:33.820790Z"
    },
    "papermill": {
     "duration": 0.020495,
     "end_time": "2021-10-06T21:30:33.821165",
     "exception": false,
     "start_time": "2021-10-06T21:30:33.800670",
     "status": "completed"
    },
    "tags": []
   },
   "outputs": [
    {
     "data": {
      "text/plain": [
       "['sub-CMUa0050642.npy',\n",
       " 'sub-CMUa0050646.npy',\n",
       " 'sub-CMUa0050647.npy',\n",
       " 'sub-CMUa0050649.npy',\n",
       " 'sub-CMUa0050653.npy']"
      ]
     },
     "execution_count": 11,
     "metadata": {},
     "output_type": "execute_result"
    }
   ],
   "source": [
    "files = [file for file in os.listdir(data_dir) if file.endswith('.npy')]\n",
    "files.sort()\n",
    "files[0:5]"
   ]
  },
  {
   "cell_type": "code",
   "execution_count": 12,
   "id": "2c9c22d4",
   "metadata": {
    "execution": {
     "iopub.execute_input": "2021-10-06T21:30:33.855814Z",
     "iopub.status.busy": "2021-10-06T21:30:33.855445Z",
     "iopub.status.idle": "2021-10-06T21:30:34.008029Z",
     "shell.execute_reply": "2021-10-06T21:30:34.008309Z"
    },
    "papermill": {
     "duration": 0.175631,
     "end_time": "2021-10-06T21:30:34.008428",
     "exception": false,
     "start_time": "2021-10-06T21:30:33.832797",
     "status": "completed"
    },
    "tags": []
   },
   "outputs": [
    {
     "name": "stdout",
     "output_type": "stream",
     "text": [
      "1048\n",
      "1.0\n"
     ]
    }
   ],
   "source": [
    "subs_with_matFiles = [file.split('.')[0] for file in files]\n",
    "df = df.iloc[np.array([sub in subs_with_matFiles for sub in df['bids_folder'].values])]\n",
    "n_subs = len(df)\n",
    "print(n_subs)\n",
    "\n",
    "# Check if subject has .nii file\n",
    "has_file = np.array([os.path.exists(os.path.join(data_dir,sub + '.npy')) for sub in df['bids_folder'].values])\n",
    "print(has_file.mean())\n",
    "assert has_file.mean()==1.0, 'fuck'\n",
    "\n",
    "assert len(subs_with_matFiles)==len(df),'no'\n",
    "df = df.sort_values(by='bids_folder')\n",
    "assert all([subs_with_matFiles[i]==df['bids_folder'].values[i] for i in range(n_subs)]), 'out of order'\n",
    "\n",
    "df.index = np.arange(n_subs)"
   ]
  },
  {
   "cell_type": "code",
   "execution_count": 13,
   "id": "9915940d",
   "metadata": {
    "execution": {
     "iopub.execute_input": "2021-10-06T21:30:34.037507Z",
     "iopub.status.busy": "2021-10-06T21:30:34.037158Z",
     "iopub.status.idle": "2021-10-06T21:30:34.292739Z",
     "shell.execute_reply": "2021-10-06T21:30:34.292434Z"
    },
    "papermill": {
     "duration": 0.270101,
     "end_time": "2021-10-06T21:30:34.292832",
     "exception": false,
     "start_time": "2021-10-06T21:30:34.022731",
     "status": "completed"
    },
    "tags": []
   },
   "outputs": [
    {
     "name": "stdout",
     "output_type": "stream",
     "text": [
      "CPU times: user 41.2 ms, sys: 10.1 ms, total: 51.3 ms\n",
      "Wall time: 250 ms\n"
     ]
    },
    {
     "data": {
      "text/plain": [
       "<module 'tensorflow' from '/data/aglinska/anaconda3/lib/python3.8/site-packages/tensorflow/__init__.py'>"
      ]
     },
     "execution_count": 13,
     "metadata": {},
     "output_type": "execute_result"
    }
   ],
   "source": [
    "%%time\n",
    "from importlib import reload\n",
    "import helper_funcs;reload(helper_funcs);from helper_funcs import *\n",
    "del helper_funcs\n",
    "import make_models;reload(make_models);from make_models import *\n",
    "del make_models\n",
    "\n",
    "from IPython import display\n",
    "import sys\n",
    "from sklearn.decomposition import PCA\n",
    "import seaborn as sns\n",
    "\n",
    "import tensorflow as tf\n",
    "reload(tf)"
   ]
  },
  {
   "cell_type": "code",
   "execution_count": 14,
   "id": "0be087aa",
   "metadata": {
    "execution": {
     "iopub.execute_input": "2021-10-06T21:30:35.264649Z",
     "iopub.status.busy": "2021-10-06T21:30:35.264268Z",
     "iopub.status.idle": "2021-10-06T21:30:35.266575Z",
     "shell.execute_reply": "2021-10-06T21:30:35.266851Z"
    },
    "papermill": {
     "duration": 0.961999,
     "end_time": "2021-10-06T21:30:35.266966",
     "exception": false,
     "start_time": "2021-10-06T21:30:34.304967",
     "status": "completed"
    },
    "tags": []
   },
   "outputs": [
    {
     "data": {
      "text/plain": [
       "'/device:GPU:0'"
      ]
     },
     "execution_count": 14,
     "metadata": {},
     "output_type": "execute_result"
    }
   ],
   "source": [
    "import tensorflow as tf\n",
    "tf.test.gpu_device_name()"
   ]
  },
  {
   "cell_type": "code",
   "execution_count": 15,
   "id": "fadd8451",
   "metadata": {
    "execution": {
     "iopub.execute_input": "2021-10-06T21:30:35.305307Z",
     "iopub.status.busy": "2021-10-06T21:30:35.304939Z",
     "iopub.status.idle": "2021-10-06T21:30:36.643189Z",
     "shell.execute_reply": "2021-10-06T21:30:36.642813Z"
    },
    "papermill": {
     "duration": 1.36383,
     "end_time": "2021-10-06T21:30:36.643306",
     "exception": false,
     "start_time": "2021-10-06T21:30:35.279476",
     "status": "completed"
    },
    "tags": []
   },
   "outputs": [],
   "source": [
    "data_dir = '../Assets/fc_mats_32smooth_new'\n",
    "data_loader = cvae_data_loader(data_dir=data_dir, df=df, batch_size=32)\n",
    "batch_asd,batch_td,batch_df = data_loader.get_batch()"
   ]
  },
  {
   "cell_type": "code",
   "execution_count": 16,
   "id": "e0d88d1e",
   "metadata": {
    "execution": {
     "iopub.execute_input": "2021-10-06T21:30:36.671463Z",
     "iopub.status.busy": "2021-10-06T21:30:36.671109Z",
     "iopub.status.idle": "2021-10-06T21:30:36.672859Z",
     "shell.execute_reply": "2021-10-06T21:30:36.672527Z"
    },
    "papermill": {
     "duration": 0.016879,
     "end_time": "2021-10-06T21:30:36.672943",
     "exception": false,
     "start_time": "2021-10-06T21:30:36.656064",
     "status": "completed"
    },
    "tags": []
   },
   "outputs": [],
   "source": [
    "data_size = np.hstack((n_subs,batch_asd.shape[1:]))"
   ]
  },
  {
   "cell_type": "code",
   "execution_count": 17,
   "id": "8fd6b4b4",
   "metadata": {
    "execution": {
     "iopub.execute_input": "2021-10-06T21:30:36.701314Z",
     "iopub.status.busy": "2021-10-06T21:30:36.700958Z",
     "iopub.status.idle": "2021-10-06T21:30:37.434880Z",
     "shell.execute_reply": "2021-10-06T21:30:37.435175Z"
    },
    "papermill": {
     "duration": 0.750032,
     "end_time": "2021-10-06T21:30:37.435309",
     "exception": false,
     "start_time": "2021-10-06T21:30:36.685277",
     "status": "completed"
    },
    "tags": []
   },
   "outputs": [],
   "source": [
    "import make_models;reload(make_models);from make_models import *\n",
    "batch_size = 16\n",
    "\n",
    "cvae, z_encoder, s_encoder, cvae_decoder = get_fMRI_CVAE_4D(input_shape=tuple(data_size[1::]),\n",
    "                                                             latent_dim=16,\n",
    "                                                             beta=1,\n",
    "                                                             gamma=1,\n",
    "                                                             disentangle=True,\n",
    "                                                             bias=True,\n",
    "                                                             batch_size = batch_size,\n",
    "                                                             kernel_size = 3,\n",
    "                                                             filters = 8,\n",
    "                                                             intermediate_dim = 128,\n",
    "                                                             nlayers = 5,\n",
    "                                                             learning_rate=0.001,\n",
    "                                                             opt=None)"
   ]
  },
  {
   "cell_type": "code",
   "execution_count": 18,
   "id": "0062982c",
   "metadata": {
    "execution": {
     "iopub.execute_input": "2021-10-06T21:30:37.463687Z",
     "iopub.status.busy": "2021-10-06T21:30:37.463327Z",
     "iopub.status.idle": "2021-10-06T21:30:37.465354Z",
     "shell.execute_reply": "2021-10-06T21:30:37.465619Z"
    },
    "papermill": {
     "duration": 0.017676,
     "end_time": "2021-10-06T21:30:37.465717",
     "exception": false,
     "start_time": "2021-10-06T21:30:37.448041",
     "status": "completed"
    },
    "tags": []
   },
   "outputs": [
    {
     "data": {
      "text/plain": [
       "(1048, 32, 32, 32, 51)"
      ]
     },
     "execution_count": 18,
     "metadata": {},
     "output_type": "execute_result"
    }
   ],
   "source": [
    "tuple(data_size)"
   ]
  },
  {
   "cell_type": "code",
   "execution_count": 19,
   "id": "2983bf81",
   "metadata": {
    "execution": {
     "iopub.execute_input": "2021-10-06T21:30:37.493184Z",
     "iopub.status.busy": "2021-10-06T21:30:37.492856Z",
     "iopub.status.idle": "2021-10-06T21:30:37.494612Z",
     "shell.execute_reply": "2021-10-06T21:30:37.494285Z"
    },
    "papermill": {
     "duration": 0.016689,
     "end_time": "2021-10-06T21:30:37.494690",
     "exception": false,
     "start_time": "2021-10-06T21:30:37.478001",
     "status": "completed"
    },
    "tags": []
   },
   "outputs": [],
   "source": [
    "loss = list()\n",
    "c_sim = list()\n",
    "all_rsas = list()"
   ]
  },
  {
   "cell_type": "code",
   "execution_count": 20,
   "id": "fd11cd4b",
   "metadata": {
    "execution": {
     "iopub.execute_input": "2021-10-06T21:30:37.522220Z",
     "iopub.status.busy": "2021-10-06T21:30:37.521896Z",
     "iopub.status.idle": "2021-10-06T21:30:37.523951Z",
     "shell.execute_reply": "2021-10-06T21:30:37.523676Z"
    },
    "papermill": {
     "duration": 0.016889,
     "end_time": "2021-10-06T21:30:37.524026",
     "exception": false,
     "start_time": "2021-10-06T21:30:37.507137",
     "status": "completed"
    },
    "tags": []
   },
   "outputs": [],
   "source": [
    "data_loader = cvae_data_loader(data_dir=data_dir, df=df, batch_size=batch_size)"
   ]
  },
  {
   "cell_type": "code",
   "execution_count": 21,
   "id": "85239bb2",
   "metadata": {
    "execution": {
     "iopub.execute_input": "2021-10-06T21:30:37.554747Z",
     "iopub.status.busy": "2021-10-06T21:30:37.554409Z",
     "iopub.status.idle": "2021-10-07T08:40:28.757051Z",
     "shell.execute_reply": "2021-10-07T08:40:28.755944Z"
    },
    "papermill": {
     "duration": 40191.220796,
     "end_time": "2021-10-07T08:40:28.757168",
     "exception": false,
     "start_time": "2021-10-06T21:30:37.536372",
     "status": "completed"
    },
    "tags": []
   },
   "outputs": [
    {
     "data": {
      "text/plain": [
       "<Figure size 432x288 with 0 Axes>"
      ]
     },
     "metadata": {},
     "output_type": "display_data"
    },
    {
     "name": "stderr",
     "output_type": "stream",
     "text": [
      "/mmfs1/data/aglinska/BC-fMRI-AE/Notebooks/helper_funcs.py:190: MatplotlibDeprecationWarning: Passing non-integers as three-element position specification is deprecated since 3.3 and will be removed two minor releases later.\n",
      "  plt.subplot(nrows,ncols/2,1) # PLOT LOSS\n"
     ]
    },
    {
     "data": {
      "text/plain": [
       "<Figure size 432x288 with 0 Axes>"
      ]
     },
     "metadata": {},
     "output_type": "display_data"
    },
    {
     "data": {
      "image/png": "[encoded data removed]",
      "text/plain": [
       "<Figure size 1080x1080 with 21 Axes>"
      ]
     },
     "metadata": {
      "needs_background": "light"
     },
     "output_type": "display_data"
    },
    {
     "name": "stderr",
     "output_type": "stream",
     "text": [
      "\n"
     ]
    },
    {
     "name": "stderr",
     "output_type": "stream",
     "text": [
      "\r",
      "100%|██████████| 32/32 [06:41<00:00, 13.96s/it]"
     ]
    },
    {
     "name": "stderr",
     "output_type": "stream",
     "text": [
      "\u001b[A"
     ]
    },
    {
     "name": "stderr",
     "output_type": "stream",
     "text": [
      "\n"
     ]
    },
    {
     "name": "stderr",
     "output_type": "stream",
     "text": [
      "\r",
      "                                               "
     ]
    },
    {
     "name": "stderr",
     "output_type": "stream",
     "text": [
      "\u001b[A"
     ]
    },
    {
     "name": "stderr",
     "output_type": "stream",
     "text": [
      "\r",
      "100%|██████████| 100/100 [11:09:51<00:00, 407.68s/it]"
     ]
    },
    {
     "name": "stderr",
     "output_type": "stream",
     "text": [
      "\r",
      "100%|██████████| 100/100 [11:09:51<00:00, 401.91s/it]"
     ]
    },
    {
     "name": "stderr",
     "output_type": "stream",
     "text": [
      "\n"
     ]
    }
   ],
   "source": [
    "import make_models;reload(make_models);from make_models import *\n",
    "import helper_funcs;reload(helper_funcs);from helper_funcs import *\n",
    "\n",
    "for epoch in tqdm(range(100),position=0, leave=True):\n",
    "    for i in tqdm(range(data_loader.n_batches),position=1, leave=False):\n",
    "        \n",
    "        patient_batch,control_batch,batch_df = data_loader.get_batch() # Get a batch\n",
    "        hist = cvae.train_on_batch([patient_batch,control_batch]) # pass a batch\n",
    "        assert not np.isnan(hist),'loss is NaN - you f**cked up'  # check nothing crashed\n",
    "        loss.append(hist) # keep track of loss\n",
    "        \n",
    "        cvae.save_weights(os.path.join(save_dir,'cvae_weights')) # SAVE WEIGHTS\n",
    "        np.save(os.path.join(save_dir,'cvae_loss.npy'),np.array(loss)) # Save loss\n",
    "        \n",
    "        if np.mod(i,10)==0:\n",
    "            batch_rsas = get_batch_rsas(data_dir,df,z_encoder,s_encoder,batch_size=(df['DX_GROUP'].values==1).sum())\n",
    "        \n",
    "        c_sim,all_rsas = cvae_dashboard(data_loader.epoch,\n",
    "                                        data_loader.b,\n",
    "                                        i,\n",
    "                                        cvae,z_encoder,\n",
    "                                        s_encoder,\n",
    "                                        loss,\n",
    "                                        all_rsas,\n",
    "                                        c_sim,\n",
    "                                        df,\n",
    "                                        patient_batch,\n",
    "                                        control_batch,\n",
    "                                        batch_rsas,\n",
    "                                        red='UMAP') # plot training progress\n",
    "        "
   ]
  },
  {
   "cell_type": "code",
   "execution_count": null,
   "id": "d85df864",
   "metadata": {
    "papermill": {
     "duration": 0.016642,
     "end_time": "2021-10-07T08:40:28.805282",
     "exception": false,
     "start_time": "2021-10-07T08:40:28.788640",
     "status": "completed"
    },
    "tags": []
   },
   "outputs": [],
   "source": []
  },
  {
   "cell_type": "code",
   "execution_count": 22,
   "id": "cf90d8fe",
   "metadata": {
    "execution": {
     "iopub.execute_input": "2021-10-07T08:40:28.842899Z",
     "iopub.status.busy": "2021-10-07T08:40:28.842585Z",
     "iopub.status.idle": "2021-10-07T08:40:28.845564Z",
     "shell.execute_reply": "2021-10-07T08:40:28.845290Z"
    },
    "papermill": {
     "duration": 0.02368,
     "end_time": "2021-10-07T08:40:28.845640",
     "exception": false,
     "start_time": "2021-10-07T08:40:28.821960",
     "status": "completed"
    },
    "tags": []
   },
   "outputs": [
    {
     "name": "stdout",
     "output_type": "stream",
     "text": [
      "Model: \"z_encoder\"\n",
      "____________________________________________________________________________________________________\n",
      "Layer (type)                     Output Shape          Param #     Connected to                     \n",
      "====================================================================================================\n",
      "tg_inputs (InputLayer)           [(None, 32, 32, 32, 5 0                                            \n",
      "____________________________________________________________________________________________________\n",
      "conv3d (Conv3D)                  (None, 16, 16, 16, 16 22048       tg_inputs[0][0]                  \n",
      "____________________________________________________________________________________________________\n",
      "conv3d_1 (Conv3D)                (None, 8, 8, 8, 32)   13856       conv3d[0][0]                     \n",
      "____________________________________________________________________________________________________\n",
      "conv3d_2 (Conv3D)                (None, 4, 4, 4, 64)   55360       conv3d_1[0][0]                   \n",
      "____________________________________________________________________________________________________\n",
      "conv3d_3 (Conv3D)                (None, 2, 2, 2, 128)  221312      conv3d_2[0][0]                   \n",
      "____________________________________________________________________________________________________\n",
      "conv3d_4 (Conv3D)                (None, 1, 1, 1, 256)  884992      conv3d_3[0][0]                   \n",
      "____________________________________________________________________________________________________\n",
      "flatten (Flatten)                (None, 256)           0           conv3d_4[0][0]                   \n",
      "____________________________________________________________________________________________________\n",
      "dense (Dense)                    (None, 128)           32896       flatten[0][0]                    \n",
      "____________________________________________________________________________________________________\n",
      "z_mean (Dense)                   (None, 16)            2064        dense[0][0]                      \n",
      "____________________________________________________________________________________________________\n",
      "z_log_var (Dense)                (None, 16)            2064        dense[0][0]                      \n",
      "____________________________________________________________________________________________________\n",
      "z (Lambda)                       (None, 16)            0           z_mean[0][0]                     \n",
      "                                                                   z_log_var[0][0]                  \n",
      "====================================================================================================\n",
      "Total params: 1,234,592\n",
      "Trainable params: 1,234,592\n",
      "Non-trainable params: 0\n",
      "____________________________________________________________________________________________________\n"
     ]
    }
   ],
   "source": [
    "z_encoder.summary(line_length=100)"
   ]
  },
  {
   "cell_type": "code",
   "execution_count": 23,
   "id": "2e64d583",
   "metadata": {
    "execution": {
     "iopub.execute_input": "2021-10-07T08:40:28.882641Z",
     "iopub.status.busy": "2021-10-07T08:40:28.882332Z",
     "iopub.status.idle": "2021-10-07T08:40:28.884782Z",
     "shell.execute_reply": "2021-10-07T08:40:28.885034Z"
    },
    "papermill": {
     "duration": 0.02289,
     "end_time": "2021-10-07T08:40:28.885118",
     "exception": false,
     "start_time": "2021-10-07T08:40:28.862228",
     "status": "completed"
    },
    "tags": []
   },
   "outputs": [
    {
     "name": "stdout",
     "output_type": "stream",
     "text": [
      "Model: \"s_encoder\"\n",
      "____________________________________________________________________________________________________\n",
      "Layer (type)                     Output Shape          Param #     Connected to                     \n",
      "====================================================================================================\n",
      "tg_inputs (InputLayer)           [(None, 32, 32, 32, 5 0                                            \n",
      "____________________________________________________________________________________________________\n",
      "conv3d_5 (Conv3D)                (None, 16, 16, 16, 16 22048       tg_inputs[0][0]                  \n",
      "____________________________________________________________________________________________________\n",
      "conv3d_6 (Conv3D)                (None, 8, 8, 8, 32)   13856       conv3d_5[0][0]                   \n",
      "____________________________________________________________________________________________________\n",
      "conv3d_7 (Conv3D)                (None, 4, 4, 4, 64)   55360       conv3d_6[0][0]                   \n",
      "____________________________________________________________________________________________________\n",
      "conv3d_8 (Conv3D)                (None, 2, 2, 2, 128)  221312      conv3d_7[0][0]                   \n",
      "____________________________________________________________________________________________________\n",
      "conv3d_9 (Conv3D)                (None, 1, 1, 1, 256)  884992      conv3d_8[0][0]                   \n",
      "____________________________________________________________________________________________________\n",
      "flatten_1 (Flatten)              (None, 256)           0           conv3d_9[0][0]                   \n",
      "____________________________________________________________________________________________________\n",
      "dense_1 (Dense)                  (None, 128)           32896       flatten_1[0][0]                  \n",
      "____________________________________________________________________________________________________\n",
      "s_mean (Dense)                   (None, 16)            2064        dense_1[0][0]                    \n",
      "____________________________________________________________________________________________________\n",
      "s_log_var (Dense)                (None, 16)            2064        dense_1[0][0]                    \n",
      "____________________________________________________________________________________________________\n",
      "s (Lambda)                       (None, 16)            0           s_mean[0][0]                     \n",
      "                                                                   s_log_var[0][0]                  \n",
      "====================================================================================================\n",
      "Total params: 1,234,592\n",
      "Trainable params: 1,234,592\n",
      "Non-trainable params: 0\n",
      "____________________________________________________________________________________________________\n"
     ]
    }
   ],
   "source": [
    "s_encoder.summary(line_length=100)"
   ]
  },
  {
   "cell_type": "code",
   "execution_count": 24,
   "id": "7e3d12a9",
   "metadata": {
    "execution": {
     "iopub.execute_input": "2021-10-07T08:40:28.929738Z",
     "iopub.status.busy": "2021-10-07T08:40:28.924273Z",
     "iopub.status.idle": "2021-10-07T08:40:28.939341Z",
     "shell.execute_reply": "2021-10-07T08:40:28.939586Z"
    },
    "papermill": {
     "duration": 0.037171,
     "end_time": "2021-10-07T08:40:28.939677",
     "exception": false,
     "start_time": "2021-10-07T08:40:28.902506",
     "status": "completed"
    },
    "tags": []
   },
   "outputs": [
    {
     "name": "stdout",
     "output_type": "stream",
     "text": [
      "Model: \"contrastive_vae\"\n",
      "____________________________________________________________________________________________________\n",
      "Layer (type)                     Output Shape          Param #     Connected to                     \n",
      "====================================================================================================\n",
      "tg_inputs (InputLayer)           [(None, 32, 32, 32, 5 0                                            \n",
      "____________________________________________________________________________________________________\n",
      "conv3d (Conv3D)                  (None, 16, 16, 16, 16 22048       tg_inputs[0][0]                  \n",
      "____________________________________________________________________________________________________\n",
      "bg_inputs (InputLayer)           [(None, 32, 32, 32, 5 0                                            \n",
      "____________________________________________________________________________________________________\n",
      "conv3d_1 (Conv3D)                (None, 8, 8, 8, 32)   13856       conv3d[0][0]                     \n",
      "____________________________________________________________________________________________________\n",
      "conv3d_5 (Conv3D)                (None, 16, 16, 16, 16 22048       tg_inputs[0][0]                  \n",
      "____________________________________________________________________________________________________\n",
      "conv3d_10 (Conv3D)               (None, 16, 16, 16, 16 22048       bg_inputs[0][0]                  \n",
      "____________________________________________________________________________________________________\n",
      "conv3d_2 (Conv3D)                (None, 4, 4, 4, 64)   55360       conv3d_1[0][0]                   \n",
      "____________________________________________________________________________________________________\n",
      "conv3d_6 (Conv3D)                (None, 8, 8, 8, 32)   13856       conv3d_5[0][0]                   \n",
      "____________________________________________________________________________________________________\n",
      "conv3d_11 (Conv3D)               (None, 8, 8, 8, 32)   13856       conv3d_10[0][0]                  \n",
      "____________________________________________________________________________________________________\n",
      "conv3d_3 (Conv3D)                (None, 2, 2, 2, 128)  221312      conv3d_2[0][0]                   \n",
      "____________________________________________________________________________________________________\n",
      "conv3d_7 (Conv3D)                (None, 4, 4, 4, 64)   55360       conv3d_6[0][0]                   \n",
      "____________________________________________________________________________________________________\n",
      "conv3d_12 (Conv3D)               (None, 4, 4, 4, 64)   55360       conv3d_11[0][0]                  \n",
      "____________________________________________________________________________________________________\n",
      "conv3d_4 (Conv3D)                (None, 1, 1, 1, 256)  884992      conv3d_3[0][0]                   \n",
      "____________________________________________________________________________________________________\n",
      "conv3d_8 (Conv3D)                (None, 2, 2, 2, 128)  221312      conv3d_7[0][0]                   \n",
      "____________________________________________________________________________________________________\n",
      "conv3d_13 (Conv3D)               (None, 2, 2, 2, 128)  221312      conv3d_12[0][0]                  \n",
      "____________________________________________________________________________________________________\n",
      "flatten (Flatten)                (None, 256)           0           conv3d_4[0][0]                   \n",
      "____________________________________________________________________________________________________\n",
      "conv3d_9 (Conv3D)                (None, 1, 1, 1, 256)  884992      conv3d_8[0][0]                   \n",
      "____________________________________________________________________________________________________\n",
      "conv3d_14 (Conv3D)               (None, 1, 1, 1, 256)  884992      conv3d_13[0][0]                  \n",
      "____________________________________________________________________________________________________\n",
      "dense (Dense)                    (None, 128)           32896       flatten[0][0]                    \n",
      "                                                                   flatten_2[0][0]                  \n",
      "____________________________________________________________________________________________________\n",
      "flatten_1 (Flatten)              (None, 256)           0           conv3d_9[0][0]                   \n",
      "____________________________________________________________________________________________________\n",
      "flatten_2 (Flatten)              (None, 256)           0           conv3d_14[0][0]                  \n",
      "____________________________________________________________________________________________________\n",
      "z_mean (Dense)                   (None, 16)            2064        dense[0][0]                      \n",
      "                                                                   dense[1][0]                      \n",
      "____________________________________________________________________________________________________\n",
      "z_log_var (Dense)                (None, 16)            2064        dense[0][0]                      \n",
      "                                                                   dense[1][0]                      \n",
      "____________________________________________________________________________________________________\n",
      "dense_1 (Dense)                  (None, 128)           32896       flatten_1[0][0]                  \n",
      "____________________________________________________________________________________________________\n",
      "z (Lambda)                       (None, 16)            0           z_mean[0][0]                     \n",
      "                                                                   z_log_var[0][0]                  \n",
      "                                                                   z_mean[1][0]                     \n",
      "                                                                   z_log_var[1][0]                  \n",
      "____________________________________________________________________________________________________\n",
      "s_mean (Dense)                   (None, 16)            2064        dense_1[0][0]                    \n",
      "____________________________________________________________________________________________________\n",
      "s_log_var (Dense)                (None, 16)            2064        dense_1[0][0]                    \n",
      "____________________________________________________________________________________________________\n",
      "s (Lambda)                       (None, 16)            0           s_mean[0][0]                     \n",
      "                                                                   s_log_var[0][0]                  \n",
      "____________________________________________________________________________________________________\n",
      "lambda (Lambda)                  (None, 16)            0           z[0][0]                          \n",
      "____________________________________________________________________________________________________\n",
      "concatenate (Concatenate)        (None, 32)            0           z[0][0]                          \n",
      "                                                                   s[0][0]                          \n",
      "____________________________________________________________________________________________________\n",
      "concatenate_1 (Concatenate)      (None, 32)            0           z[1][0]                          \n",
      "                                                                   lambda[0][0]                     \n",
      "____________________________________________________________________________________________________\n",
      "decoder (Functional)             (None, 32, 32, 32, 51 1234611     concatenate[0][0]                \n",
      "                                                                   concatenate_1[0][0]              \n",
      "____________________________________________________________________________________________________\n",
      "lambda_3 (Lambda)                (None, 16)            0           s[0][0]                          \n",
      "____________________________________________________________________________________________________\n",
      "lambda_1 (Lambda)                (None, 16)            0           z[0][0]                          \n",
      "____________________________________________________________________________________________________\n",
      "lambda_4 (Lambda)                (None, 16)            0           s[0][0]                          \n",
      "____________________________________________________________________________________________________\n",
      "lambda_2 (Lambda)                (None, 16)            0           z[0][0]                          \n",
      "____________________________________________________________________________________________________\n",
      "tf_op_layer_AddV2_3 (TensorFlowO [(None, 16)]          0           z_log_var[0][0]                  \n",
      "____________________________________________________________________________________________________\n",
      "tf_op_layer_Square (TensorFlowOp [(None, 16)]          0           z_mean[0][0]                     \n",
      "____________________________________________________________________________________________________\n",
      "tf_op_layer_AddV2_4 (TensorFlowO [(None, 16)]          0           s_log_var[0][0]                  \n",
      "____________________________________________________________________________________________________\n",
      "tf_op_layer_Square_1 (TensorFlow [(None, 16)]          0           s_mean[0][0]                     \n",
      "____________________________________________________________________________________________________\n",
      "concatenate_5 (Concatenate)      (None, 32)            0           lambda_3[0][0]                   \n",
      "                                                                   lambda_1[0][0]                   \n",
      "____________________________________________________________________________________________________\n",
      "concatenate_6 (Concatenate)      (None, 32)            0           lambda_4[0][0]                   \n",
      "                                                                   lambda_2[0][0]                   \n",
      "____________________________________________________________________________________________________\n",
      "tf_op_layer_Sub_3 (TensorFlowOpL [(None, 16)]          0           tf_op_layer_AddV2_3[0][0]        \n",
      "                                                                   tf_op_layer_Square[0][0]         \n",
      "____________________________________________________________________________________________________\n",
      "tf_op_layer_Exp (TensorFlowOpLay [(None, 16)]          0           z_log_var[0][0]                  \n",
      "____________________________________________________________________________________________________\n",
      "tf_op_layer_Sub_5 (TensorFlowOpL [(None, 16)]          0           tf_op_layer_AddV2_4[0][0]        \n",
      "                                                                   tf_op_layer_Square_1[0][0]       \n",
      "____________________________________________________________________________________________________\n",
      "tf_op_layer_Exp_1 (TensorFlowOpL [(None, 16)]          0           s_log_var[0][0]                  \n",
      "____________________________________________________________________________________________________\n",
      "tf_op_layer_AddV2_6 (TensorFlowO [(None, 16)]          0           z_log_var[1][0]                  \n",
      "____________________________________________________________________________________________________\n",
      "tf_op_layer_Square_2 (TensorFlow [(None, 16)]          0           z_mean[1][0]                     \n",
      "____________________________________________________________________________________________________\n",
      "concatenate_7 (Concatenate)      (None, 32)            0           concatenate_5[0][0]              \n",
      "                                                                   concatenate_6[0][0]              \n",
      "____________________________________________________________________________________________________\n",
      "tf_op_layer_Sub_4 (TensorFlowOpL [(None, 16)]          0           tf_op_layer_Sub_3[0][0]          \n",
      "                                                                   tf_op_layer_Exp[0][0]            \n",
      "____________________________________________________________________________________________________\n",
      "tf_op_layer_Sub_6 (TensorFlowOpL [(None, 16)]          0           tf_op_layer_Sub_5[0][0]          \n",
      "                                                                   tf_op_layer_Exp_1[0][0]          \n",
      "____________________________________________________________________________________________________\n",
      "tf_op_layer_Sub_7 (TensorFlowOpL [(None, 16)]          0           tf_op_layer_AddV2_6[0][0]        \n",
      "                                                                   tf_op_layer_Square_2[0][0]       \n",
      "____________________________________________________________________________________________________\n",
      "tf_op_layer_Exp_2 (TensorFlowOpL [(None, 16)]          0           z_log_var[1][0]                  \n",
      "____________________________________________________________________________________________________\n",
      "dense_4 (Dense)                  (None, 1)             33          concatenate_4[0][0]              \n",
      "                                                                   concatenate_7[0][0]              \n",
      "____________________________________________________________________________________________________\n",
      "concatenate_2 (Concatenate)      (None, 32)            0           lambda_3[0][0]                   \n",
      "                                                                   lambda_2[0][0]                   \n",
      "____________________________________________________________________________________________________\n",
      "concatenate_3 (Concatenate)      (None, 32)            0           lambda_4[0][0]                   \n",
      "                                                                   lambda_1[0][0]                   \n",
      "____________________________________________________________________________________________________\n",
      "tf_op_layer_Reshape_1 (TensorFlo [(None,)]             0           decoder[0][0]                    \n",
      "____________________________________________________________________________________________________\n",
      "tf_op_layer_Reshape (TensorFlowO [(None,)]             0           tg_inputs[0][0]                  \n",
      "____________________________________________________________________________________________________\n",
      "tf_op_layer_Reshape_3 (TensorFlo [(None,)]             0           decoder[1][0]                    \n",
      "____________________________________________________________________________________________________\n",
      "tf_op_layer_Reshape_2 (TensorFlo [(None,)]             0           bg_inputs[0][0]                  \n",
      "____________________________________________________________________________________________________\n",
      "tf_op_layer_AddV2_5 (TensorFlowO [(None, 16)]          0           tf_op_layer_Sub_4[0][0]          \n",
      "                                                                   tf_op_layer_Sub_6[0][0]          \n",
      "____________________________________________________________________________________________________\n",
      "tf_op_layer_Sub_8 (TensorFlowOpL [(None, 16)]          0           tf_op_layer_Sub_7[0][0]          \n",
      "                                                                   tf_op_layer_Exp_2[0][0]          \n",
      "____________________________________________________________________________________________________\n",
      "tf_op_layer_AddV2_1 (TensorFlowO [(None, 1)]           0           dense_4[1][0]                    \n",
      "____________________________________________________________________________________________________\n",
      "concatenate_4 (Concatenate)      (None, 32)            0           concatenate_2[0][0]              \n",
      "                                                                   concatenate_3[0][0]              \n",
      "____________________________________________________________________________________________________\n",
      "tf_op_layer_SquaredDifference (T [(None,)]             0           tf_op_layer_Reshape_1[0][0]      \n",
      "                                                                   tf_op_layer_Reshape[0][0]        \n",
      "____________________________________________________________________________________________________\n",
      "tf_op_layer_SquaredDifference_1  [(None,)]             0           tf_op_layer_Reshape_3[0][0]      \n",
      "                                                                   tf_op_layer_Reshape_2[0][0]      \n",
      "____________________________________________________________________________________________________\n",
      "tf_op_layer_AddV2_7 (TensorFlowO [(None, 16)]          0           tf_op_layer_AddV2_5[0][0]        \n",
      "                                                                   tf_op_layer_Sub_8[0][0]          \n",
      "____________________________________________________________________________________________________\n",
      "tf_op_layer_Mul_1 (TensorFlowOpL [(None, 1)]           0           tf_op_layer_AddV2_1[0][0]        \n",
      "____________________________________________________________________________________________________\n",
      "tf_op_layer_Mean (TensorFlowOpLa [()]                  0           tf_op_layer_SquaredDifference[0][\n",
      "____________________________________________________________________________________________________\n",
      "tf_op_layer_Mean_1 (TensorFlowOp [()]                  0           tf_op_layer_SquaredDifference_1[0\n",
      "____________________________________________________________________________________________________\n",
      "tf_op_layer_Sum (TensorFlowOpLay [(None,)]             0           tf_op_layer_AddV2_7[0][0]        \n",
      "____________________________________________________________________________________________________\n",
      "tf_op_layer_Sub (TensorFlowOpLay [(None, 1)]           0           tf_op_layer_Mul_1[0][0]          \n",
      "____________________________________________________________________________________________________\n",
      "tf_op_layer_AddV2 (TensorFlowOpL [(None, 1)]           0           dense_4[0][0]                    \n",
      "____________________________________________________________________________________________________\n",
      "tf_op_layer_AddV2_2 (TensorFlowO [()]                  0           tf_op_layer_Mean[0][0]           \n",
      "                                                                   tf_op_layer_Mean_1[0][0]         \n",
      "____________________________________________________________________________________________________\n",
      "tf_op_layer_Mul_3 (TensorFlowOpL [(None,)]             0           tf_op_layer_Sum[0][0]            \n",
      "____________________________________________________________________________________________________\n",
      "tf_op_layer_RealDiv (TensorFlowO [(None, 1)]           0           tf_op_layer_Mul_1[0][0]          \n",
      "                                                                   tf_op_layer_Sub[0][0]            \n",
      "____________________________________________________________________________________________________\n",
      "tf_op_layer_Mul (TensorFlowOpLay [(None, 1)]           0           tf_op_layer_AddV2[0][0]          \n",
      "____________________________________________________________________________________________________\n",
      "tf_op_layer_Mul_2 (TensorFlowOpL [()]                  0           tf_op_layer_AddV2_2[0][0]        \n",
      "____________________________________________________________________________________________________\n",
      "tf_op_layer_Mul_4 (TensorFlowOpL [(None,)]             0           tf_op_layer_Mul_3[0][0]          \n",
      "____________________________________________________________________________________________________\n",
      "tf_op_layer_Log (TensorFlowOpLay [(None, 1)]           0           tf_op_layer_RealDiv[0][0]        \n",
      "____________________________________________________________________________________________________\n",
      "tf_op_layer_Log_1 (TensorFlowOpL [(None, 1)]           0           tf_op_layer_Mul_1[0][0]          \n",
      "____________________________________________________________________________________________________\n",
      "tf_op_layer_Sub_1 (TensorFlowOpL [(None, 1)]           0           tf_op_layer_Mul[0][0]            \n",
      "____________________________________________________________________________________________________\n",
      "tf_op_layer_AddV2_8 (TensorFlowO [(None,)]             0           tf_op_layer_Mul_2[0][0]          \n",
      "                                                                   tf_op_layer_Mul_4[0][0]          \n",
      "____________________________________________________________________________________________________\n",
      "tf_op_layer_Mul_5 (TensorFlowOpL [(None, 1)]           0           tf_op_layer_Log[0][0]            \n",
      "____________________________________________________________________________________________________\n",
      "tf_op_layer_Neg (TensorFlowOpLay [(None, 1)]           0           tf_op_layer_Log_1[0][0]          \n",
      "____________________________________________________________________________________________________\n",
      "tf_op_layer_Log_2 (TensorFlowOpL [(None, 1)]           0           tf_op_layer_Sub_1[0][0]          \n",
      "____________________________________________________________________________________________________\n",
      "tf_op_layer_AddV2_9 (TensorFlowO [(None, None)]        0           tf_op_layer_AddV2_8[0][0]        \n",
      "                                                                   tf_op_layer_Mul_5[0][0]          \n",
      "____________________________________________________________________________________________________\n",
      "tf_op_layer_Sub_2 (TensorFlowOpL [(None, 1)]           0           tf_op_layer_Neg[0][0]            \n",
      "                                                                   tf_op_layer_Log_2[0][0]          \n",
      "____________________________________________________________________________________________________\n",
      "tf_op_layer_AddV2_10 (TensorFlow [(None, None)]        0           tf_op_layer_AddV2_9[0][0]        \n",
      "                                                                   tf_op_layer_Sub_2[0][0]          \n",
      "____________________________________________________________________________________________________\n",
      "tf_op_layer_Mean_2 (TensorFlowOp [()]                  0           tf_op_layer_AddV2_10[0][0]       \n",
      "____________________________________________________________________________________________________\n",
      "add_loss (AddLoss)               ()                    0           tf_op_layer_Mean_2[0][0]         \n",
      "====================================================================================================\n",
      "Total params: 4,901,396\n",
      "Trainable params: 4,901,396\n",
      "Non-trainable params: 0\n",
      "____________________________________________________________________________________________________\n"
     ]
    }
   ],
   "source": [
    "cvae.summary(line_length=100)"
   ]
  },
  {
   "cell_type": "code",
   "execution_count": 25,
   "id": "5437f57a",
   "metadata": {
    "execution": {
     "iopub.execute_input": "2021-10-07T08:40:28.978679Z",
     "iopub.status.busy": "2021-10-07T08:40:28.978356Z",
     "iopub.status.idle": "2021-10-07T08:40:28.980984Z",
     "shell.execute_reply": "2021-10-07T08:40:28.980715Z"
    },
    "papermill": {
     "duration": 0.023689,
     "end_time": "2021-10-07T08:40:28.981057",
     "exception": false,
     "start_time": "2021-10-07T08:40:28.957368",
     "status": "completed"
    },
    "tags": []
   },
   "outputs": [
    {
     "name": "stdout",
     "output_type": "stream",
     "text": [
      "Model: \"decoder\"\n",
      "____________________________________________________________________________________________________\n",
      "Layer (type)                                 Output Shape                            Param #        \n",
      "====================================================================================================\n",
      "z_sampling (InputLayer)                      [(None, 32)]                            0              \n",
      "____________________________________________________________________________________________________\n",
      "dense_2 (Dense)                              (None, 128)                             4224           \n",
      "____________________________________________________________________________________________________\n",
      "dense_3 (Dense)                              (None, 256)                             33024          \n",
      "____________________________________________________________________________________________________\n",
      "reshape (Reshape)                            (None, 1, 1, 1, 256)                    0              \n",
      "____________________________________________________________________________________________________\n",
      "conv3d_transpose (Conv3DTranspose)           (None, 2, 2, 2, 128)                    884864         \n",
      "____________________________________________________________________________________________________\n",
      "conv3d_transpose_1 (Conv3DTranspose)         (None, 4, 4, 4, 64)                     221248         \n",
      "____________________________________________________________________________________________________\n",
      "conv3d_transpose_2 (Conv3DTranspose)         (None, 8, 8, 8, 32)                     55328          \n",
      "____________________________________________________________________________________________________\n",
      "conv3d_transpose_3 (Conv3DTranspose)         (None, 16, 16, 16, 16)                  13840          \n",
      "____________________________________________________________________________________________________\n",
      "decoder_output (Conv3DTranspose)             (None, 32, 32, 32, 51)                  22083          \n",
      "====================================================================================================\n",
      "Total params: 1,234,611\n",
      "Trainable params: 1,234,611\n",
      "Non-trainable params: 0\n",
      "____________________________________________________________________________________________________\n"
     ]
    }
   ],
   "source": [
    "cvae_decoder.summary(line_length=100)"
   ]
  }
 ],
 "metadata": {
  "kernelspec": {
   "display_name": "Python 3",
   "language": "python",
   "name": "python3"
  },
  "language_info": {
   "codemirror_mode": {
    "name": "ipython",
    "version": 3
   },
   "file_extension": ".py",
   "mimetype": "text/x-python",
   "name": "python",
   "nbconvert_exporter": "python",
   "pygments_lexer": "ipython3",
   "version": "3.8.5"
  },
  "papermill": {
   "default_parameters": {},
   "duration": 40226.136963,
   "end_time": "2021-10-07T08:40:35.316708",
   "environment_variables": {},
   "exception": null,
   "input_path": "01-train-CVAE.ipynb",
   "output_path": "./papermill/papermill|01-train-CVAE|2021-10-06-17-30-06.ipynb",
   "parameters": {},
   "start_time": "2021-10-06T21:30:09.179745",
   "version": "2.3.3"
  }
 },
 "nbformat": 4,
 "nbformat_minor": 5
}