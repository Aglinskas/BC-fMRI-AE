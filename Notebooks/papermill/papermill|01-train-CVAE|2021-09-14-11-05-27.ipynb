{
 "cells": [
  {
   "cell_type": "markdown",
   "id": "7abe7f2f",
   "metadata": {
    "tags": [
     "papermill-error-cell-tag"
    ]
   },
   "source": [
    "<span style=\"color:red; font-family:Helvetica Neue, Helvetica, Arial, sans-serif; font-size:2em;\">An Exception was encountered at '<a href=\"#papermill-error-cell\">In [20]</a>'.</span>"
   ]
  },
  {
   "cell_type": "code",
   "execution_count": 1,
   "id": "35f3c25e",
   "metadata": {
    "execution": {
     "iopub.execute_input": "2021-09-14T15:05:31.615792Z",
     "iopub.status.busy": "2021-09-14T15:05:31.615454Z",
     "iopub.status.idle": "2021-09-14T15:05:31.617558Z",
     "shell.execute_reply": "2021-09-14T15:05:31.617218Z"
    },
    "papermill": {
     "duration": 0.025648,
     "end_time": "2021-09-14T15:05:31.617667",
     "exception": false,
     "start_time": "2021-09-14T15:05:31.592019",
     "status": "completed"
    },
    "tags": []
   },
   "outputs": [
    {
     "data": {
      "text/plain": [
       "'/mmfs1/data/aglinska/BC-fMRI-AE/Notebooks'"
      ]
     },
     "execution_count": 1,
     "metadata": {},
     "output_type": "execute_result"
    }
   ],
   "source": [
    "pwd"
   ]
  },
  {
   "cell_type": "code",
   "execution_count": 2,
   "id": "386fd47b",
   "metadata": {
    "execution": {
     "iopub.execute_input": "2021-09-14T15:05:31.648087Z",
     "iopub.status.busy": "2021-09-14T15:05:31.647767Z",
     "iopub.status.idle": "2021-09-14T15:05:31.649656Z",
     "shell.execute_reply": "2021-09-14T15:05:31.649363Z"
    },
    "papermill": {
     "duration": 0.017721,
     "end_time": "2021-09-14T15:05:31.649725",
     "exception": false,
     "start_time": "2021-09-14T15:05:31.632004",
     "status": "completed"
    },
    "tags": []
   },
   "outputs": [
    {
     "name": "stdout",
     "output_type": "stream",
     "text": [
      "Interactive namespace is empty.\n"
     ]
    }
   ],
   "source": [
    "whos"
   ]
  },
  {
   "cell_type": "code",
   "execution_count": 3,
   "id": "dfb92ff7",
   "metadata": {
    "execution": {
     "iopub.execute_input": "2021-09-14T15:05:31.681999Z",
     "iopub.status.busy": "2021-09-14T15:05:31.681679Z",
     "iopub.status.idle": "2021-09-14T15:05:31.803313Z",
     "shell.execute_reply": "2021-09-14T15:05:31.803025Z"
    },
    "papermill": {
     "duration": 0.138366,
     "end_time": "2021-09-14T15:05:31.803387",
     "exception": false,
     "start_time": "2021-09-14T15:05:31.665021",
     "status": "completed"
    },
    "tags": []
   },
   "outputs": [
    {
     "name": "stdout",
     "output_type": "stream",
     "text": [
      "              total        used        free      shared  buff/cache   available\r\n",
      "Mem:            187          12         170           3           4         170\r\n",
      "Swap:            11           1          10\r\n"
     ]
    }
   ],
   "source": [
    "!free -g"
   ]
  },
  {
   "cell_type": "code",
   "execution_count": 4,
   "id": "f922020f",
   "metadata": {
    "execution": {
     "iopub.execute_input": "2021-09-14T15:05:31.839659Z",
     "iopub.status.busy": "2021-09-14T15:05:31.837272Z",
     "iopub.status.idle": "2021-09-14T15:05:32.130538Z",
     "shell.execute_reply": "2021-09-14T15:05:32.130261Z"
    },
    "papermill": {
     "duration": 0.310281,
     "end_time": "2021-09-14T15:05:32.130615",
     "exception": false,
     "start_time": "2021-09-14T15:05:31.820334",
     "status": "completed"
    },
    "tags": []
   },
   "outputs": [
    {
     "name": "stdout",
     "output_type": "stream",
     "text": [
      "Tue Sep 14 11:05:31 2021       \r\n",
      "+-----------------------------------------------------------------------------+\r\n",
      "| NVIDIA-SMI 450.51.05    Driver Version: 450.51.05    CUDA Version: 11.0     |\r\n",
      "|-------------------------------+----------------------+----------------------+\r\n",
      "| GPU  Name        Persistence-M| Bus-Id        Disp.A | Volatile Uncorr. ECC |\r\n",
      "| Fan  Temp  Perf  Pwr:Usage/Cap|         Memory-Usage | GPU-Util  Compute M. |\r\n",
      "|                               |                      |               MIG M. |\r\n",
      "|===============================+======================+======================|\r\n",
      "|   0  Tesla V100-SXM2...  On   | 00000000:18:00.0 Off |                    0 |\r\n",
      "| N/A   41C    P0    66W / 300W |      3MiB / 16160MiB |      0%      Default |\r\n",
      "|                               |                      |                  N/A |\r\n",
      "+-------------------------------+----------------------+----------------------+\r\n",
      "|   1  Tesla V100-SXM2...  On   | 00000000:3B:00.0 Off |                    0 |\r\n",
      "| N/A   35C    P0    67W / 300W |      3MiB / 16160MiB |      0%      Default |\r\n",
      "|                               |                      |                  N/A |\r\n",
      "+-------------------------------+----------------------+----------------------+\r\n",
      "|   2  Tesla V100-SXM2...  On   | 00000000:86:00.0 Off |                    0 |\r\n",
      "| N/A   34C    P0    43W / 300W |      3MiB / 16160MiB |      0%      Default |\r\n",
      "|                               |                      |                  N/A |\r\n",
      "+-------------------------------+----------------------+----------------------+\r\n"
     ]
    },
    {
     "name": "stdout",
     "output_type": "stream",
     "text": [
      "|   3  Tesla V100-SXM2...  On   | 00000000:AF:00.0 Off |                    0 |\r\n",
      "| N/A   42C    P0    69W / 300W |      3MiB / 16160MiB |      0%      Default |\r\n",
      "|                               |                      |                  N/A |\r\n",
      "+-------------------------------+----------------------+----------------------+\r\n",
      "                                                                               \r\n",
      "+-----------------------------------------------------------------------------+\r\n",
      "| Processes:                                                                  |\r\n",
      "|  GPU   GI   CI        PID   Type   Process name                  GPU Memory |\r\n",
      "|        ID   ID                                                   Usage      |\r\n",
      "|=============================================================================|\r\n",
      "|  No running processes found                                                 |\r\n",
      "+-----------------------------------------------------------------------------+\r\n"
     ]
    }
   ],
   "source": [
    "!nvidia-smi"
   ]
  },
  {
   "cell_type": "code",
   "execution_count": 5,
   "id": "069a3cd8",
   "metadata": {
    "execution": {
     "iopub.execute_input": "2021-09-14T15:05:32.163878Z",
     "iopub.status.busy": "2021-09-14T15:05:32.163546Z",
     "iopub.status.idle": "2021-09-14T15:05:32.183066Z",
     "shell.execute_reply": "2021-09-14T15:05:32.182785Z"
    },
    "papermill": {
     "duration": 0.037476,
     "end_time": "2021-09-14T15:05:32.183136",
     "exception": false,
     "start_time": "2021-09-14T15:05:32.145660",
     "status": "completed"
    },
    "tags": []
   },
   "outputs": [
    {
     "name": "stdout",
     "output_type": "stream",
     "text": [
      "Total memory: 15.78173828125\n",
      "Free memory: 15.7783203125\n",
      "Used memory: 0.00341796875\n"
     ]
    }
   ],
   "source": [
    "import nvidia_smi\n",
    "try:\n",
    "    nvidia_smi.nvmlInit()\n",
    "\n",
    "    handle = nvidia_smi.nvmlDeviceGetHandleByIndex(0)\n",
    "    # card id 0 hardcoded here, there is also a call to get all available card ids, so we could iterate\n",
    "\n",
    "    info = nvidia_smi.nvmlDeviceGetMemoryInfo(handle)\n",
    "\n",
    "    print(\"Total memory:\", (info.total/1024/1024/1024))\n",
    "    print(\"Free memory:\", (info.free/1024/1024/1024))\n",
    "    print(\"Used memory:\", (info.used/1024/1024/1024))\n",
    "\n",
    "    nvidia_smi.nvmlShutdown()\n",
    "except:\n",
    "    pass"
   ]
  },
  {
   "cell_type": "code",
   "execution_count": 6,
   "id": "aa65113c",
   "metadata": {
    "execution": {
     "iopub.execute_input": "2021-09-14T15:05:32.215607Z",
     "iopub.status.busy": "2021-09-14T15:05:32.215281Z",
     "iopub.status.idle": "2021-09-14T15:05:50.776401Z",
     "shell.execute_reply": "2021-09-14T15:05:50.776071Z"
    },
    "papermill": {
     "duration": 18.578463,
     "end_time": "2021-09-14T15:05:50.776507",
     "exception": false,
     "start_time": "2021-09-14T15:05:32.198044",
     "status": "completed"
    },
    "tags": []
   },
   "outputs": [],
   "source": [
    "import numpy as np\n",
    "import pandas as pd\n",
    "import os\n",
    "from tqdm import tqdm\n",
    "from matplotlib import pyplot as plt\n",
    "\n",
    "from functools import partial\n",
    "from tqdm import tqdm\n",
    "from umap import UMAP\n",
    "tqdm = partial(tqdm, position=0, leave=True) "
   ]
  },
  {
   "cell_type": "code",
   "execution_count": 7,
   "id": "e1c09052",
   "metadata": {
    "execution": {
     "iopub.execute_input": "2021-09-14T15:05:50.814602Z",
     "iopub.status.busy": "2021-09-14T15:05:50.814276Z",
     "iopub.status.idle": "2021-09-14T15:05:50.826831Z",
     "shell.execute_reply": "2021-09-14T15:05:50.827084Z"
    },
    "papermill": {
     "duration": 0.033159,
     "end_time": "2021-09-14T15:05:50.827177",
     "exception": false,
     "start_time": "2021-09-14T15:05:50.794018",
     "status": "completed"
    },
    "tags": []
   },
   "outputs": [],
   "source": [
    "df = pd.read_csv('../Data/ABIDE_df2.csv')\n",
    "df = df.iloc[~pd.isna(df['bids_folder']).values]\n",
    "#data_dir = '../Assets/fc_mats/'\n",
    "#data_dir = '../Assets/fc_mats_32smooth/'\n",
    "data_dir = '../Assets/fc_mats_32smooth_new/'"
   ]
  },
  {
   "cell_type": "code",
   "execution_count": 8,
   "id": "7f57ad4a",
   "metadata": {
    "execution": {
     "iopub.execute_input": "2021-09-14T15:05:50.859787Z",
     "iopub.status.busy": "2021-09-14T15:05:50.859467Z",
     "iopub.status.idle": "2021-09-14T15:05:50.865489Z",
     "shell.execute_reply": "2021-09-14T15:05:50.865207Z"
    },
    "papermill": {
     "duration": 0.023504,
     "end_time": "2021-09-14T15:05:50.865561",
     "exception": false,
     "start_time": "2021-09-14T15:05:50.842057",
     "status": "completed"
    },
    "tags": []
   },
   "outputs": [
    {
     "data": {
      "text/plain": [
       "['sub-CMUa0050642.npy',\n",
       " 'sub-CMUa0050646.npy',\n",
       " 'sub-CMUa0050647.npy',\n",
       " 'sub-CMUa0050649.npy',\n",
       " 'sub-CMUa0050653.npy']"
      ]
     },
     "execution_count": 8,
     "metadata": {},
     "output_type": "execute_result"
    }
   ],
   "source": [
    "files = [file for file in os.listdir(data_dir) if file.endswith('.npy')]\n",
    "files.sort()\n",
    "files[0:5]"
   ]
  },
  {
   "cell_type": "code",
   "execution_count": 9,
   "id": "003c5c63",
   "metadata": {
    "execution": {
     "iopub.execute_input": "2021-09-14T15:05:50.906413Z",
     "iopub.status.busy": "2021-09-14T15:05:50.904554Z",
     "iopub.status.idle": "2021-09-14T15:05:50.908917Z",
     "shell.execute_reply": "2021-09-14T15:05:50.908640Z"
    },
    "papermill": {
     "duration": 0.027997,
     "end_time": "2021-09-14T15:05:50.908986",
     "exception": false,
     "start_time": "2021-09-14T15:05:50.880989",
     "status": "completed"
    },
    "tags": []
   },
   "outputs": [
    {
     "name": "stdout",
     "output_type": "stream",
     "text": [
      "1048\n"
     ]
    }
   ],
   "source": [
    "subs_with_matFiles = [file.split('.')[0] for file in files]\n",
    "df = df.iloc[np.array([sub in subs_with_matFiles for sub in df['bids_folder'].values])]\n",
    "n_subs = len(df)\n",
    "print(n_subs)"
   ]
  },
  {
   "cell_type": "code",
   "execution_count": 10,
   "id": "082ffe83",
   "metadata": {
    "execution": {
     "iopub.execute_input": "2021-09-14T15:05:50.944275Z",
     "iopub.status.busy": "2021-09-14T15:05:50.943945Z",
     "iopub.status.idle": "2021-09-14T15:05:51.352720Z",
     "shell.execute_reply": "2021-09-14T15:05:51.352428Z"
    },
    "papermill": {
     "duration": 0.427199,
     "end_time": "2021-09-14T15:05:51.352803",
     "exception": false,
     "start_time": "2021-09-14T15:05:50.925604",
     "status": "completed"
    },
    "tags": []
   },
   "outputs": [
    {
     "name": "stdout",
     "output_type": "stream",
     "text": [
      "1.0\n"
     ]
    }
   ],
   "source": [
    "# Check if subject has .nii file\n",
    "has_file = np.array([os.path.exists(os.path.join(data_dir,sub + '.npy')) for sub in df['bids_folder'].values])\n",
    "print(has_file.mean())\n",
    "assert has_file.mean()==1.0, 'fuck'"
   ]
  },
  {
   "cell_type": "code",
   "execution_count": 11,
   "id": "e7d1f7ac",
   "metadata": {
    "execution": {
     "iopub.execute_input": "2021-09-14T15:05:51.387154Z",
     "iopub.status.busy": "2021-09-14T15:05:51.386836Z",
     "iopub.status.idle": "2021-09-14T15:05:51.391495Z",
     "shell.execute_reply": "2021-09-14T15:05:51.391749Z"
    },
    "papermill": {
     "duration": 0.023006,
     "end_time": "2021-09-14T15:05:51.391834",
     "exception": false,
     "start_time": "2021-09-14T15:05:51.368828",
     "status": "completed"
    },
    "tags": []
   },
   "outputs": [],
   "source": [
    "assert len(subs_with_matFiles)==len(df),'no'\n",
    "df = df.sort_values(by='bids_folder')\n",
    "assert all([subs_with_matFiles[i]==df['bids_folder'].values[i] for i in range(n_subs)]), 'out of order'"
   ]
  },
  {
   "cell_type": "code",
   "execution_count": 12,
   "id": "a13d5b18",
   "metadata": {
    "execution": {
     "iopub.execute_input": "2021-09-14T15:05:51.425849Z",
     "iopub.status.busy": "2021-09-14T15:05:51.425529Z",
     "iopub.status.idle": "2021-09-14T15:05:51.426938Z",
     "shell.execute_reply": "2021-09-14T15:05:51.427198Z"
    },
    "papermill": {
     "duration": 0.019168,
     "end_time": "2021-09-14T15:05:51.427283",
     "exception": false,
     "start_time": "2021-09-14T15:05:51.408115",
     "status": "completed"
    },
    "tags": []
   },
   "outputs": [],
   "source": [
    "df.index = np.arange(n_subs)"
   ]
  },
  {
   "cell_type": "code",
   "execution_count": null,
   "id": "9fb13331",
   "metadata": {
    "papermill": {
     "duration": 0.015189,
     "end_time": "2021-09-14T15:05:51.458087",
     "exception": false,
     "start_time": "2021-09-14T15:05:51.442898",
     "status": "completed"
    },
    "tags": []
   },
   "outputs": [],
   "source": []
  },
  {
   "cell_type": "code",
   "execution_count": 13,
   "id": "1fbdf4da",
   "metadata": {
    "execution": {
     "iopub.execute_input": "2021-09-14T15:05:51.491299Z",
     "iopub.status.busy": "2021-09-14T15:05:51.490972Z",
     "iopub.status.idle": "2021-09-14T15:05:51.492326Z",
     "shell.execute_reply": "2021-09-14T15:05:51.492583Z"
    },
    "papermill": {
     "duration": 0.019023,
     "end_time": "2021-09-14T15:05:51.492662",
     "exception": false,
     "start_time": "2021-09-14T15:05:51.473639",
     "status": "completed"
    },
    "tags": []
   },
   "outputs": [],
   "source": [
    "# %%time \n",
    "# # LOAD DATA\n",
    "# n_subs = len(df)\n",
    "# data_size = np.hstack((n_subs,np.load(os.path.join(data_dir,df['bids_folder'].values[0] + '.npz'))['data'].shape))\n",
    "# data = np.zeros(data_size)\n",
    "# #for s in tqdm(range(len(df))):\n",
    "# for s in range(n_subs):\n",
    "#     sub = df['bids_folder'].values[s]\n",
    "#     datum = np.load(os.path.join(data_dir,sub + '.npz'))['data']\n",
    "#     data[s,:,:,:,:] = datum"
   ]
  },
  {
   "cell_type": "code",
   "execution_count": 14,
   "id": "90008a1e",
   "metadata": {
    "execution": {
     "iopub.execute_input": "2021-09-14T15:05:51.526337Z",
     "iopub.status.busy": "2021-09-14T15:05:51.526013Z",
     "iopub.status.idle": "2021-09-14T15:05:51.527444Z",
     "shell.execute_reply": "2021-09-14T15:05:51.527701Z"
    },
    "papermill": {
     "duration": 0.018775,
     "end_time": "2021-09-14T15:05:51.527780",
     "exception": false,
     "start_time": "2021-09-14T15:05:51.509005",
     "status": "completed"
    },
    "tags": []
   },
   "outputs": [],
   "source": [
    "# hasnans = np.array([np.isnan(data[s,:,:,:,:]).sum()!=0 for s in range(data.shape[0])])\n",
    "# df = df.iloc[~hasnans]\n",
    "# data = data[~hasnans,:,:,:,:]"
   ]
  },
  {
   "cell_type": "code",
   "execution_count": 15,
   "id": "c2e5558f",
   "metadata": {
    "execution": {
     "iopub.execute_input": "2021-09-14T15:05:51.561350Z",
     "iopub.status.busy": "2021-09-14T15:05:51.561026Z",
     "iopub.status.idle": "2021-09-14T15:05:51.562560Z",
     "shell.execute_reply": "2021-09-14T15:05:51.562286Z"
    },
    "papermill": {
     "duration": 0.019128,
     "end_time": "2021-09-14T15:05:51.562628",
     "exception": false,
     "start_time": "2021-09-14T15:05:51.543500",
     "status": "completed"
    },
    "tags": []
   },
   "outputs": [],
   "source": [
    "#data.shape"
   ]
  },
  {
   "cell_type": "code",
   "execution_count": 16,
   "id": "ff489b82",
   "metadata": {
    "execution": {
     "iopub.execute_input": "2021-09-14T15:05:51.596083Z",
     "iopub.status.busy": "2021-09-14T15:05:51.595766Z",
     "iopub.status.idle": "2021-09-14T15:05:51.597312Z",
     "shell.execute_reply": "2021-09-14T15:05:51.597034Z"
    },
    "papermill": {
     "duration": 0.018934,
     "end_time": "2021-09-14T15:05:51.597380",
     "exception": false,
     "start_time": "2021-09-14T15:05:51.578446",
     "status": "completed"
    },
    "tags": []
   },
   "outputs": [],
   "source": [
    "#assert np.isnan(data).mean()==0.0, 'you f****d up'"
   ]
  },
  {
   "cell_type": "code",
   "execution_count": 17,
   "id": "dc155852",
   "metadata": {
    "execution": {
     "iopub.execute_input": "2021-09-14T15:05:51.631586Z",
     "iopub.status.busy": "2021-09-14T15:05:51.631265Z",
     "iopub.status.idle": "2021-09-14T15:05:51.632687Z",
     "shell.execute_reply": "2021-09-14T15:05:51.632942Z"
    },
    "papermill": {
     "duration": 0.019287,
     "end_time": "2021-09-14T15:05:51.633020",
     "exception": false,
     "start_time": "2021-09-14T15:05:51.613733",
     "status": "completed"
    },
    "tags": []
   },
   "outputs": [],
   "source": [
    "# plt.figure(figsize=(20,4.9))\n",
    "# plt.subplot(1,4,1);plt.imshow(data[10,:,:,20,0]);plt.xticks([]);plt.yticks([]);\n",
    "# plt.subplot(1,4,2);plt.imshow(data[np.random.randint(0,data.shape[0]),:,:,20,0]);plt.xticks([]);plt.yticks([]);\n",
    "# plt.subplot(1,4,3);plt.imshow(data[np.random.randint(0,data.shape[0]),20,:,:,0]);plt.xticks([]);plt.yticks([]);\n",
    "# #plt.subplot(1,4,4);plt.imshow(data[np.random.randint(0,data.shape[0]),:,20,:,0]);plt.xticks([]);plt.yticks([]);\n",
    "# plt.subplot(1,4,4);plt.hist(data[0,:,:,:,:].flatten());"
   ]
  },
  {
   "cell_type": "code",
   "execution_count": 18,
   "id": "a5eaace4",
   "metadata": {
    "execution": {
     "iopub.execute_input": "2021-09-14T15:05:51.667370Z",
     "iopub.status.busy": "2021-09-14T15:05:51.667043Z",
     "iopub.status.idle": "2021-09-14T15:05:51.887307Z",
     "shell.execute_reply": "2021-09-14T15:05:51.887020Z"
    },
    "papermill": {
     "duration": 0.238474,
     "end_time": "2021-09-14T15:05:51.887377",
     "exception": false,
     "start_time": "2021-09-14T15:05:51.648903",
     "status": "completed"
    },
    "tags": []
   },
   "outputs": [
    {
     "name": "stdout",
     "output_type": "stream",
     "text": [
      "CPU times: user 50.3 ms, sys: 8.54 ms, total: 58.8 ms\n",
      "Wall time: 218 ms\n"
     ]
    },
    {
     "data": {
      "text/plain": [
       "<module 'tensorflow' from '/data/aglinska/anaconda3/lib/python3.8/site-packages/tensorflow/__init__.py'>"
      ]
     },
     "execution_count": 18,
     "metadata": {},
     "output_type": "execute_result"
    }
   ],
   "source": [
    "%%time\n",
    "from helper_funcs import *\n",
    "from importlib import reload\n",
    "import make_models\n",
    "reload(make_models)\n",
    "del make_models\n",
    "from make_models import *\n",
    "\n",
    "from IPython import display\n",
    "import sys\n",
    "from sklearn.decomposition import PCA\n",
    "import seaborn as sns\n",
    "\n",
    "import tensorflow as tf\n",
    "reload(tf)"
   ]
  },
  {
   "cell_type": "code",
   "execution_count": 19,
   "id": "03042d9f",
   "metadata": {
    "execution": {
     "iopub.execute_input": "2021-09-14T15:05:53.982820Z",
     "iopub.status.busy": "2021-09-14T15:05:53.982462Z",
     "iopub.status.idle": "2021-09-14T15:05:53.984180Z",
     "shell.execute_reply": "2021-09-14T15:05:53.984448Z"
    },
    "papermill": {
     "duration": 2.07982,
     "end_time": "2021-09-14T15:05:53.984563",
     "exception": false,
     "start_time": "2021-09-14T15:05:51.904743",
     "status": "completed"
    },
    "tags": []
   },
   "outputs": [
    {
     "data": {
      "text/plain": [
       "'/device:GPU:0'"
      ]
     },
     "execution_count": 19,
     "metadata": {},
     "output_type": "execute_result"
    }
   ],
   "source": [
    "import tensorflow as tf\n",
    "tf.test.gpu_device_name()"
   ]
  },
  {
   "cell_type": "markdown",
   "id": "9446be05",
   "metadata": {
    "tags": [
     "papermill-error-cell-tag"
    ]
   },
   "source": [
    "<span id=\"papermill-error-cell\" style=\"color:red; font-family:Helvetica Neue, Helvetica, Arial, sans-serif; font-size:2em;\">Execution using papermill encountered an exception here and stopped:</span>"
   ]
  },
  {
   "cell_type": "code",
   "execution_count": 20,
   "id": "2956dfb1",
   "metadata": {
    "execution": {
     "iopub.execute_input": "2021-09-14T15:05:54.021252Z",
     "iopub.status.busy": "2021-09-14T15:05:54.020934Z",
     "iopub.status.idle": "2021-09-14T15:05:56.534254Z",
     "shell.execute_reply": "2021-09-14T15:05:56.533709Z"
    },
    "papermill": {
     "duration": 2.532952,
     "end_time": "2021-09-14T15:05:56.534384",
     "exception": true,
     "start_time": "2021-09-14T15:05:54.001432",
     "status": "failed"
    },
    "tags": []
   },
   "outputs": [
    {
     "ename": "NameError",
     "evalue": "name 'cvae_data_loader' is not defined",
     "output_type": "error",
     "traceback": [
      "\u001b[0;31m---------------------------------------------------------------------------\u001b[0m",
      "\u001b[0;31mNameError\u001b[0m                                 Traceback (most recent call last)",
      "\u001b[0;32m<ipython-input-20-0640e92b74cb>\u001b[0m in \u001b[0;36m<module>\u001b[0;34m\u001b[0m\n\u001b[1;32m      1\u001b[0m \u001b[0mdata_dir\u001b[0m \u001b[0;34m=\u001b[0m \u001b[0;34m'../Assets/fc_mats_32smooth_new'\u001b[0m\u001b[0;34m\u001b[0m\u001b[0;34m\u001b[0m\u001b[0m\n\u001b[0;32m----> 2\u001b[0;31m \u001b[0mdata_loader\u001b[0m \u001b[0;34m=\u001b[0m \u001b[0mcvae_data_loader\u001b[0m\u001b[0;34m(\u001b[0m\u001b[0mdata_dir\u001b[0m\u001b[0;34m=\u001b[0m\u001b[0mdata_dir\u001b[0m\u001b[0;34m,\u001b[0m \u001b[0mdf\u001b[0m\u001b[0;34m=\u001b[0m\u001b[0mdf\u001b[0m\u001b[0;34m,\u001b[0m \u001b[0mbatch_size\u001b[0m\u001b[0;34m=\u001b[0m\u001b[0;36m32\u001b[0m\u001b[0;34m)\u001b[0m\u001b[0;34m\u001b[0m\u001b[0;34m\u001b[0m\u001b[0m\n\u001b[0m\u001b[1;32m      3\u001b[0m \u001b[0mbatch_asd\u001b[0m\u001b[0;34m,\u001b[0m\u001b[0mbatch_td\u001b[0m\u001b[0;34m,\u001b[0m\u001b[0mbatch_df\u001b[0m \u001b[0;34m=\u001b[0m \u001b[0mdata_loader\u001b[0m\u001b[0;34m.\u001b[0m\u001b[0mget_batch\u001b[0m\u001b[0;34m(\u001b[0m\u001b[0;34m)\u001b[0m\u001b[0;34m\u001b[0m\u001b[0;34m\u001b[0m\u001b[0m\n",
      "\u001b[0;31mNameError\u001b[0m: name 'cvae_data_loader' is not defined"
     ]
    }
   ],
   "source": [
    "data_dir = '../Assets/fc_mats_32smooth_new'\n",
    "data_loader = cvae_data_loader(data_dir=data_dir, df=df, batch_size=32)\n",
    "batch_asd,batch_td,batch_df = data_loader.get_batch()"
   ]
  },
  {
   "cell_type": "code",
   "execution_count": null,
   "id": "da840dce",
   "metadata": {
    "papermill": {
     "duration": null,
     "end_time": null,
     "exception": null,
     "start_time": null,
     "status": "pending"
    },
    "tags": []
   },
   "outputs": [],
   "source": [
    "data_size = np.hstack((n_subs,batch_asd.shape[1:]))"
   ]
  },
  {
   "cell_type": "code",
   "execution_count": null,
   "id": "c7270347",
   "metadata": {
    "papermill": {
     "duration": null,
     "end_time": null,
     "exception": null,
     "start_time": null,
     "status": "pending"
    },
    "tags": []
   },
   "outputs": [],
   "source": [
    "import make_models\n",
    "reload(make_models)\n",
    "from make_models import *\n",
    "batch_size = 32\n",
    "cvae, z_encoder, s_encoder, cvae_decoder = get_MRI_CCVAE_3D(input_shape=tuple(data_size[1::]),\n",
    "                   latent_dim = 8, \n",
    "                   batch_size = batch_size, \n",
    "                   disentangle = True, \n",
    "                   gamma = 1,\n",
    "                   kernel_size = 3,\n",
    "                   filters = 8,\n",
    "                   intermediate_dim = 128,\n",
    "                   nlayers = 2,\n",
    "                   learning_rate=0.001)"
   ]
  },
  {
   "cell_type": "code",
   "execution_count": null,
   "id": "2fbe2bc7",
   "metadata": {
    "papermill": {
     "duration": null,
     "end_time": null,
     "exception": null,
     "start_time": null,
     "status": "pending"
    },
    "tags": []
   },
   "outputs": [],
   "source": [
    "class cvae_data_loader():\n",
    "    ''' this is the info'''\n",
    "    def __init__(self,data_dir,df,batch_size=32):\n",
    "        #self.data = data\n",
    "        #self.n = data.shape[0]\n",
    "        self.n = len(df)\n",
    "        self.data_dir = data_dir\n",
    "        self.epoch = -1\n",
    "        self.batch_size = batch_size\n",
    "        self.df = df\n",
    "        \n",
    "        self.new_epoch()\n",
    "        self.n_batches = int(np.floor(min((len(self.asd_idxs),len(self.td_idxs)))/self.batch_size))\n",
    "        \n",
    "    def new_epoch(self):\n",
    "        self.df = self.df.iloc[np.random.permutation(np.arange(self.n))]\n",
    "        self.df.index = np.arange(self.n)\n",
    "        self.asd_idxs = np.nonzero((df['DX_GROUP'].values==1))[0]\n",
    "        self.td_idxs = np.nonzero((df['DX_GROUP'].values==2))[0]\n",
    "        self.epoch += 1\n",
    "        self.b = 0\n",
    "        \n",
    "        \n",
    "    def get_batch(self):\n",
    "        self.b += 1\n",
    "        \n",
    "        if self.b==self.n_batches:\n",
    "            self.new_epoch()\n",
    "        \n",
    "        \n",
    "        self.batch_asd_idx = self.asd_idxs[np.arange(self.b*self.batch_size,self.b*self.batch_size+self.batch_size)]\n",
    "        self.batch_td_idx = self.td_idxs[np.arange(self.b*self.batch_size,self.b*self.batch_size+self.batch_size)]\n",
    "        self.batch_asd = np.array([np.load(os.path.join(self.data_dir,val+'.npy')) for val in self.df['bids_folder'].values[self.batch_asd_idx]])\n",
    "        self.batch_td = np.array([np.load(os.path.join(self.data_dir,val+'.npy')) for val in self.df['bids_folder'].values[self.batch_td_idx]])\n",
    "        self.batch_df = self.df.iloc[np.hstack((self.batch_asd_idx,self.batch_td_idx)),:]\n",
    "        \n",
    "    \n",
    "        return self.batch_asd,self.batch_td,self.batch_df"
   ]
  },
  {
   "cell_type": "code",
   "execution_count": null,
   "id": "856722b0",
   "metadata": {
    "papermill": {
     "duration": null,
     "end_time": null,
     "exception": null,
     "start_time": null,
     "status": "pending"
    },
    "tags": []
   },
   "outputs": [],
   "source": []
  },
  {
   "cell_type": "code",
   "execution_count": null,
   "id": "3c7c6dda",
   "metadata": {
    "papermill": {
     "duration": null,
     "end_time": null,
     "exception": null,
     "start_time": null,
     "status": "pending"
    },
    "tags": []
   },
   "outputs": [],
   "source": []
  },
  {
   "cell_type": "code",
   "execution_count": null,
   "id": "9dab093b",
   "metadata": {
    "papermill": {
     "duration": null,
     "end_time": null,
     "exception": null,
     "start_time": null,
     "status": "pending"
    },
    "tags": []
   },
   "outputs": [],
   "source": [
    "tuple(data_size)"
   ]
  },
  {
   "cell_type": "code",
   "execution_count": null,
   "id": "79801264",
   "metadata": {
    "papermill": {
     "duration": null,
     "end_time": null,
     "exception": null,
     "start_time": null,
     "status": "pending"
    },
    "tags": []
   },
   "outputs": [],
   "source": [
    "patients = df['DX_GROUP'].values==1\n",
    "controls = df['DX_GROUP'].values==2"
   ]
  },
  {
   "cell_type": "code",
   "execution_count": null,
   "id": "9dc7f0eb",
   "metadata": {
    "papermill": {
     "duration": null,
     "end_time": null,
     "exception": null,
     "start_time": null,
     "status": "pending"
    },
    "tags": []
   },
   "outputs": [],
   "source": [
    "loss = list()\n",
    "c_sim = list()\n",
    "all_rsas = list()"
   ]
  },
  {
   "cell_type": "code",
   "execution_count": null,
   "id": "cf29de1c",
   "metadata": {
    "papermill": {
     "duration": null,
     "end_time": null,
     "exception": null,
     "start_time": null,
     "status": "pending"
    },
    "tags": []
   },
   "outputs": [],
   "source": []
  },
  {
   "cell_type": "code",
   "execution_count": null,
   "id": "67108cab",
   "metadata": {
    "papermill": {
     "duration": null,
     "end_time": null,
     "exception": null,
     "start_time": null,
     "status": "pending"
    },
    "tags": []
   },
   "outputs": [],
   "source": [
    "tf.__version__"
   ]
  },
  {
   "cell_type": "code",
   "execution_count": null,
   "id": "6b739fa9",
   "metadata": {
    "papermill": {
     "duration": null,
     "end_time": null,
     "exception": null,
     "start_time": null,
     "status": "pending"
    },
    "tags": []
   },
   "outputs": [],
   "source": [
    "def fit_rsa(rdm_data,rdm_model):\n",
    "    return np.corrcoef(get_triu(rdm_data),get_triu(rdm_model))[0,1]"
   ]
  },
  {
   "cell_type": "code",
   "execution_count": null,
   "id": "0f32497c",
   "metadata": {
    "papermill": {
     "duration": null,
     "end_time": null,
     "exception": null,
     "start_time": null,
     "status": "pending"
    },
    "tags": []
   },
   "outputs": [],
   "source": [
    "def get_batch_rsas(z_encoder,s_encoder,df,n=400):\n",
    "    \n",
    "    #patient_batch,control_batch\n",
    "\n",
    "    asd_idx = np.nonzero(~np.isnan(batch_df['DX_GROUP'].values==1))\n",
    "\n",
    "    #z_embedding = z_encoder.predict(data[patients,:,:,:,:][asd_idx,:,:,:,:])[2]\n",
    "    #s_embedding = s_encoder.predict(data[patients,:,:,:,:][asd_idx,:,:,:,:])[2]\n",
    "    \n",
    "    z_embedding = z_encoder.predict(patient_batch)[2]\n",
    "    s_embedding = s_encoder.predict(patient_batch)[2]\n",
    "\n",
    "    rdm_age = make_RDM(batch_df['AGE_AT_SCAN'].values[patients][asd_idx])\n",
    "    rdm_sex = make_RDM(batch_df['SEX'].values[patients][asd_idx],data_scale='ordinal')\n",
    "    rdm_fiq = make_RDM(batch_df['FIQ'].values[patients][asd_idx])\n",
    "    rdm_dsm = make_RDM(batch_df['DSM_IV_TR'].values[patients][asd_idx],data_scale='ordinal')\n",
    "    rdm_site = make_RDM(batch_df['site'].values[patients][asd_idx],data_scale='ordinal')\n",
    "    #rdm_adosTotal = make_RDM(batch_df['ADOS_TOTAL'].values[patients][asd_idx])\n",
    "\n",
    "    rdm_z = make_RDM(z_embedding)\n",
    "    rdm_s = make_RDM(s_embedding)\n",
    "\n",
    "    batch_rsas = list()\n",
    "\n",
    "    batch_rsas.append(fit_rsa(rdm_s,rdm_age))\n",
    "    batch_rsas.append(fit_rsa(rdm_s,rdm_sex))\n",
    "    batch_rsas.append(fit_rsa(rdm_s,rdm_fiq))\n",
    "    batch_rsas.append(fit_rsa(rdm_s,rdm_dsm))\n",
    "    batch_rsas.append(fit_rsa(rdm_s,rdm_site))\n",
    "    #batch_rsas.append(fit_rsa(rdm_s,rdm_adosTotal))\n",
    "\n",
    "    batch_rsas.append(fit_rsa(rdm_z,rdm_age))\n",
    "    batch_rsas.append(fit_rsa(rdm_z,rdm_sex))\n",
    "    batch_rsas.append(fit_rsa(rdm_z,rdm_fiq))\n",
    "    batch_rsas.append(fit_rsa(rdm_z,rdm_dsm))\n",
    "    batch_rsas.append(fit_rsa(rdm_z,rdm_site))\n",
    "    #batch_rsas.append(fit_rsa(rdm_z,rdm_adosTotal))\n",
    "    \n",
    "    return batch_rsas"
   ]
  },
  {
   "cell_type": "code",
   "execution_count": null,
   "id": "4cec0cc1",
   "metadata": {
    "papermill": {
     "duration": null,
     "end_time": null,
     "exception": null,
     "start_time": null,
     "status": "pending"
    },
    "tags": []
   },
   "outputs": [],
   "source": [
    "def cvae_dashboard(i,cvae,z_encoder,s_encoder,loss,all_rsas,c_sim,df,patient_batch,control_batch,red='UMAP'):\n",
    "    \n",
    "\n",
    "    if red=='PCA':\n",
    "        reducer = PCA\n",
    "    elif red=='UMAP':\n",
    "        reducer = UMAP\n",
    "    else:\n",
    "        reducer = UMAP\n",
    "        \n",
    "    #prediction = cvae.predict(patient_batch)    \n",
    "    predictions = cvae.predict([patient_batch,control_batch])\n",
    "    #predictions = np.concatenate((predictions[0],predictions[1]),axis=0)\n",
    "    prediction = predictions[0]\n",
    "    \n",
    "    if np.mod(i,1)==0:        \n",
    "        pc_s = reducer(n_components=2).fit_transform(s_encoder.predict(np.concatenate((patient_batch,control_batch),axis=0))[2])\n",
    "        pc_z = reducer(n_components=2).fit_transform(z_encoder.predict(np.concatenate((patient_batch,control_batch),axis=0))[2])\n",
    "        \n",
    "        global pc_s_asd, pc_s_td, pc_z_asd, pc_z_td\n",
    "\n",
    "        pc_s_asd = pc_s[0:patient_batch.shape[0],:]\n",
    "        pc_s_td = pc_s[patient_batch.shape[0]::,:]\n",
    "\n",
    "        pc_z_asd = pc_z[0:patient_batch.shape[0],:]\n",
    "        pc_z_td = pc_z[patient_batch.shape[0]::,:]\n",
    "        \n",
    "        #all_rsas.append(get_batch_rsas(z_encoder,s_encoder,df,n=50))\n",
    "        \n",
    "    cmat_actual = np.corrcoef(np.vstack((patient_batch.reshape(patient_batch.shape[0],-1),control_batch.reshape(control_batch.shape[0],-1))))\n",
    "    cmat_pred = np.corrcoef(np.vstack((predictions[0].reshape(predictions[0].shape[0],-1),predictions[1].reshape(predictions[1].shape[0],-1))))\n",
    "    c_sim.append(np.corrcoef(get_triu(cmat_pred),get_triu(cmat_actual))[0,1])\n",
    "\n",
    "    \n",
    "    ### PROGRESS PLOTTING\n",
    "    display.clear_output(wait=True);\n",
    "    display.display(plt.gcf());\n",
    "    #Organise figure\n",
    "    ncols = 4;nrows=5\n",
    "    if np.mod(i,5)==0:\n",
    "        plt.close()\n",
    "    plt.subplots(nrows,ncols,figsize=(15,15)); # MAKE THE FIGURE\n",
    "    \n",
    "    \n",
    "    ##### SUBPLOT 1 & 2 ##### \n",
    "\n",
    "    plt.subplot(nrows,ncols/2,1) # PLOT LOSS\n",
    "    xs = np.arange(len(loss))+1\n",
    "    m,b = np.polyfit(xs,loss,deg=1)\n",
    "    plt.plot(loss)\n",
    "    plt.plot(xs, m*xs + b)\n",
    "    plt.title(f'Loss {hist:.2f}, beta: {m:.4f}')\n",
    "    \n",
    "    ##### SUBPLOT 3 ##### \n",
    "    plt.subplot(nrows,ncols,3) # PLOT LOSS LAST 50\n",
    "    hb = 50\n",
    "    if len(loss)>hb:\n",
    "        plot_loss = loss[-hb::]\n",
    "        xs = np.arange(len(plot_loss))\n",
    "        m,b = np.polyfit(xs,plot_loss,deg=1)\n",
    "        plt.plot(plot_loss)\n",
    "        plt.plot(xs, m*xs + b)\n",
    "        #plt.title(hist)\n",
    "        plt.title(f'Loss last {hb} it, beta {m:.4f}')\n",
    "        \n",
    "    ##### SUBPLOT 4 ##### \n",
    "    plt.subplot(nrows,ncols,4)\n",
    "    plt.hist(prediction[0,:,:,:,0].flatten(),alpha=.5)\n",
    "    plt.hist(patient_batch[0,:,:,:,0].flatten(),alpha=.5)\n",
    "    plt.legend(['predicted','actual'])\n",
    "    plt.title('in/out histograms')\n",
    "    \n",
    "    ##### SUBPLOT 5 ##### \n",
    "    plt.subplot(nrows,ncols,5) #RSA over time\n",
    "    plt.plot(c_sim)\n",
    "    plt.title(f'in/out RSA: {c_sim[-1].round(2)}')\n",
    "    \n",
    "    if len(c_sim)>5: # PLOT LS LINE\n",
    "        xs = np.arange(len(c_sim))+1\n",
    "        m,b = np.polyfit(xs,c_sim,deg=1)\n",
    "        plt.plot(xs, m*xs + b)\n",
    "        plt.title(f'in/out RSA: {c_sim[-1].round(2)}, b={m:.4f}')\n",
    "        \n",
    "\n",
    "    ##### SUBPLOT 6 ##### \n",
    "    plt.subplot(nrows,ncols,6)\n",
    "    if len(c_sim)>hb:\n",
    "        #plot_loss = loss[-hb::]\n",
    "        xs = np.arange(len(c_sim[-hb::]))\n",
    "        m,b = np.polyfit(xs,c_sim[-hb::],deg=1)\n",
    "        plt.plot(c_sim[-hb::])\n",
    "        plt.plot(xs, m*xs + b)\n",
    "        #plt.title(hist)\n",
    "        plt.title(f'in/outRSA last {hb} it, b={m:.4f}')\n",
    "\n",
    "    ##### SUBPLOT 7 ##### \n",
    "    plt.subplot(nrows,ncols,7)\n",
    "    if len(all_rsas)>5:\n",
    "        ys = np.array(all_rsas)[:,np.array((2))]\n",
    "        plt.plot(ys,'-');\n",
    "        plt.legend(['FIQ'],loc=2)\n",
    "\n",
    "        xs = np.arange(len(ys))+1\n",
    "        m,b = np.polyfit(xs,ys,deg=1)\n",
    "        plt.plot(xs, m*xs + b)\n",
    "        plt.title(f'S RSA: {ys[-1]:2f},b={m:.4f}')\n",
    "    \n",
    "    ##### SUBPLOT 8 ##### \n",
    "    plt.subplot(nrows,ncols,8)\n",
    "    if len(all_rsas)>5:\n",
    "        ys = np.array(all_rsas)[:,np.array((5))]\n",
    "        plt.plot(ys,'-');\n",
    "        plt.legend(['Age'],loc=2)\n",
    "        xs = np.arange(len(ys))+1\n",
    "        m,b = np.polyfit(xs,ys,deg=1)\n",
    "        plt.plot(xs, m*xs + b)\n",
    "        plt.title(f'Z RSA: {ys[-1]:2f},b={m:.4f}')\n",
    "        \n",
    "    ##### SUBPLOT 9 ##### \n",
    "    plt.subplot(nrows,ncols,9)\n",
    "    plt.scatter(pc_s_asd[:,0],pc_s_asd[:,1],s=100,alpha=.5);plt.title(f'batch latent S rep. {red}')\n",
    "    plt.scatter(pc_s_td[:,0],pc_s_td[:,1],s=100,alpha=.5);plt.title(f'batch latent S rep. {red}')\n",
    "    plt.legend(['ASD','TD'])\n",
    "    \n",
    "    ##### SUBPLOT 10 ##### \n",
    "    plt.subplot(nrows,ncols,10)\n",
    "    plt.scatter(pc_z_asd[:,0],pc_z_asd[:,1],s=100,alpha=.5);plt.title(f'batch latent Z rep. {red}')\n",
    "    plt.scatter(pc_z_td[:,0],pc_z_td[:,1],s=100,alpha=.5);plt.title(f'batch latent Z rep. {red}')\n",
    "    plt.legend(['ASD','TD'])\n",
    "    \n",
    "    ##### SUBPLOT 11 ##### \n",
    "    plt.subplot(nrows,ncols,11)\n",
    "    sns.heatmap(cmat_actual,xticklabels=[],yticklabels=[])\n",
    "    plt.title('input RSA')\n",
    "        \n",
    "    ##### SUBPLOT 12 ##### \n",
    "    plt.subplot(nrows,ncols,12)\n",
    "    sns.heatmap(cmat_pred,xticklabels=[],yticklabels=[])\n",
    "    plt.title('output RSA')\n",
    "  \n",
    "    ##### SUBPLOT 13 #####     \n",
    "    plt.subplot(nrows,ncols,13)\n",
    "    plt.imshow(np.rot90(patient_batch[0,:,16,:,0]))\n",
    "    plt.xticks([]);plt.yticks([]);plt.title('actual')\n",
    "\n",
    "    ##### SUBPLOT 14 #####     \n",
    "    plt.subplot(nrows,ncols,14)\n",
    "    plt.imshow(np.rot90(prediction[0,:,16,:,0]))\n",
    "    plt.xticks([]);plt.yticks([]);plt.title('predicted')\n",
    "    ##### SUBPLOT 15 #####     \n",
    "    plt.subplot(nrows,ncols,15)\n",
    "    plt.imshow(np.rot90(patient_batch[0,16,:,:,0]))\n",
    "    plt.xticks([]);plt.yticks([]);plt.title('actual')\n",
    "    ##### SUBPLOT 16 #####                                             \n",
    "    plt.subplot(nrows,ncols,16)\n",
    "    plt.imshow(np.rot90(prediction[0,16,:,:,0]))\n",
    "    plt.xticks([]);plt.yticks([]);plt.title('predicted')\n",
    "    ##### SUBPLOT 17 #####     \n",
    "    plt.subplot(nrows,ncols,17)\n",
    "    plt.imshow(np.rot90(patient_batch[0,6,:,:,0]))\n",
    "    plt.xticks([]);plt.yticks([]);plt.title('actual')\n",
    "    ##### SUBPLOT 18 #####                                             \n",
    "    plt.subplot(nrows,ncols,18)\n",
    "    plt.imshow(np.rot90(prediction[0,6,:,:,0]))\n",
    "    plt.xticks([]);plt.yticks([]);plt.title('predicted')\n",
    "    ##### SUBPLOT 19 #####     \n",
    "    plt.subplot(nrows,ncols,19)\n",
    "    plt.imshow(patient_batch[0,:,:,16,0])\n",
    "    plt.xticks([]);plt.yticks([]);plt.title('actual')\n",
    "    ##### SUBPLOT 20 #####     \n",
    "    plt.subplot(nrows,ncols,20)\n",
    "    plt.imshow(prediction[0,:,:,16,0])\n",
    "    plt.xticks([]);plt.yticks([]);plt.title('predicted')\n",
    "    \n",
    "    plt.tight_layout()\n",
    "    plt.show()\n",
    "    #sys.stdout.flush()\n",
    "    \n",
    "    return c_sim,all_rsas"
   ]
  },
  {
   "cell_type": "code",
   "execution_count": null,
   "id": "cd28b04b",
   "metadata": {
    "papermill": {
     "duration": null,
     "end_time": null,
     "exception": null,
     "start_time": null,
     "status": "pending"
    },
    "tags": []
   },
   "outputs": [],
   "source": [
    "data_loader = cvae_data_loader(data_dir=data_dir, df=df, batch_size=32)"
   ]
  },
  {
   "cell_type": "code",
   "execution_count": null,
   "id": "6f23ee14",
   "metadata": {
    "papermill": {
     "duration": null,
     "end_time": null,
     "exception": null,
     "start_time": null,
     "status": "pending"
    },
    "tags": []
   },
   "outputs": [],
   "source": [
    "for epoch in range(5):\n",
    "    for i in tqdm(range(10000),position=0, leave=True):\n",
    "        #patient_batch = data[patients,:,:,:,:][np.random.randint(low=0,high=patients.sum(),size=batch_size),:,:,:,:]\n",
    "        #control_batch = data[controls,:,:,:,:][np.random.randint(low=0,high=controls.sum(),size=batch_size),:,:,:,:]\n",
    "        patient_batch,control_batch,batch_df = data_loader.get_batch()\n",
    "        hist = cvae.train_on_batch([patient_batch,control_batch])\n",
    "        assert not np.isnan(hist),'loss is NaN - you f**cked up'    \n",
    "        loss.append(hist)\n",
    "        \n",
    "        c_sim,all_rsas = cvae_dashboard(i,cvae,z_encoder,s_encoder,loss,all_rsas,c_sim,df,patient_batch,control_batch,red='UMAP')"
   ]
  },
  {
   "cell_type": "code",
   "execution_count": null,
   "id": "c79f260e",
   "metadata": {
    "papermill": {
     "duration": null,
     "end_time": null,
     "exception": null,
     "start_time": null,
     "status": "pending"
    },
    "tags": []
   },
   "outputs": [],
   "source": []
  },
  {
   "cell_type": "code",
   "execution_count": null,
   "id": "5e28033c",
   "metadata": {
    "papermill": {
     "duration": null,
     "end_time": null,
     "exception": null,
     "start_time": null,
     "status": "pending"
    },
    "tags": []
   },
   "outputs": [],
   "source": []
  },
  {
   "cell_type": "code",
   "execution_count": null,
   "id": "c8be9ff9",
   "metadata": {
    "papermill": {
     "duration": null,
     "end_time": null,
     "exception": null,
     "start_time": null,
     "status": "pending"
    },
    "tags": []
   },
   "outputs": [],
   "source": []
  },
  {
   "cell_type": "code",
   "execution_count": null,
   "id": "babdf90e",
   "metadata": {
    "papermill": {
     "duration": null,
     "end_time": null,
     "exception": null,
     "start_time": null,
     "status": "pending"
    },
    "tags": []
   },
   "outputs": [],
   "source": []
  },
  {
   "cell_type": "code",
   "execution_count": null,
   "id": "7f9a61fe",
   "metadata": {
    "papermill": {
     "duration": null,
     "end_time": null,
     "exception": null,
     "start_time": null,
     "status": "pending"
    },
    "tags": []
   },
   "outputs": [],
   "source": []
  },
  {
   "cell_type": "code",
   "execution_count": null,
   "id": "e622106a",
   "metadata": {
    "papermill": {
     "duration": null,
     "end_time": null,
     "exception": null,
     "start_time": null,
     "status": "pending"
    },
    "tags": []
   },
   "outputs": [],
   "source": []
  },
  {
   "cell_type": "code",
   "execution_count": null,
   "id": "9168c0d4",
   "metadata": {
    "papermill": {
     "duration": null,
     "end_time": null,
     "exception": null,
     "start_time": null,
     "status": "pending"
    },
    "tags": []
   },
   "outputs": [],
   "source": []
  }
 ],
 "metadata": {
  "kernelspec": {
   "display_name": "Python 3",
   "language": "python",
   "name": "python3"
  },
  "language_info": {
   "codemirror_mode": {
    "name": "ipython",
    "version": 3
   },
   "file_extension": ".py",
   "mimetype": "text/x-python",
   "name": "python",
   "nbconvert_exporter": "python",
   "pygments_lexer": "ipython3",
   "version": "3.8.5"
  },
  "papermill": {
   "default_parameters": {},
   "duration": 27.954781,
   "end_time": "2021-09-14T15:05:57.844033",
   "environment_variables": {},
   "exception": true,
   "input_path": "01-train-CVAE.ipynb",
   "output_path": "./papermill/papermill|01-train-CVAE|2021-09-14-11-05-27.ipynb",
   "parameters": {},
   "start_time": "2021-09-14T15:05:29.889252",
   "version": "2.3.3"
  }
 },
 "nbformat": 4,
 "nbformat_minor": 5
}