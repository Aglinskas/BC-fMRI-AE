{
 "cells": [
  {
   "cell_type": "code",
   "execution_count": 1,
   "id": "f5b7b49d",
   "metadata": {
    "execution": {
     "iopub.execute_input": "2021-10-20T10:24:23.888171Z",
     "iopub.status.busy": "2021-10-20T10:24:23.887809Z",
     "iopub.status.idle": "2021-10-20T10:24:23.889444Z",
     "shell.execute_reply": "2021-10-20T10:24:23.889725Z"
    },
    "papermill": {
     "duration": 0.027575,
     "end_time": "2021-10-20T10:24:23.889879",
     "exception": false,
     "start_time": "2021-10-20T10:24:23.862304",
     "status": "completed"
    },
    "tags": []
   },
   "outputs": [
    {
     "data": {
      "text/plain": [
       "'/mmfs1/data/aglinska/BC-fMRI-AE/Notebooks'"
      ]
     },
     "execution_count": 1,
     "metadata": {},
     "output_type": "execute_result"
    }
   ],
   "source": [
    "pwd"
   ]
  },
  {
   "cell_type": "code",
   "execution_count": 2,
   "id": "ff921c28",
   "metadata": {
    "execution": {
     "iopub.execute_input": "2021-10-20T10:24:23.921480Z",
     "iopub.status.busy": "2021-10-20T10:24:23.921144Z",
     "iopub.status.idle": "2021-10-20T10:24:23.922731Z",
     "shell.execute_reply": "2021-10-20T10:24:23.922441Z"
    },
    "papermill": {
     "duration": 0.017922,
     "end_time": "2021-10-20T10:24:23.922802",
     "exception": false,
     "start_time": "2021-10-20T10:24:23.904880",
     "status": "completed"
    },
    "tags": []
   },
   "outputs": [],
   "source": [
    "import os\n",
    "os.environ['CUDA_VISIBLE_DEVICES']='2'"
   ]
  },
  {
   "cell_type": "code",
   "execution_count": 3,
   "id": "19a7b449",
   "metadata": {
    "execution": {
     "iopub.execute_input": "2021-10-20T10:24:23.955224Z",
     "iopub.status.busy": "2021-10-20T10:24:23.954892Z",
     "iopub.status.idle": "2021-10-20T10:24:23.956815Z",
     "shell.execute_reply": "2021-10-20T10:24:23.956527Z"
    },
    "papermill": {
     "duration": 0.019942,
     "end_time": "2021-10-20T10:24:23.956884",
     "exception": false,
     "start_time": "2021-10-20T10:24:23.936942",
     "status": "completed"
    },
    "tags": []
   },
   "outputs": [
    {
     "name": "stdout",
     "output_type": "stream",
     "text": [
      "Variable   Type      Data/Info\n",
      "------------------------------\n",
      "os         module    <module 'os' from '/data/<...>da3/lib/python3.8/os.py'>\n"
     ]
    }
   ],
   "source": [
    "whos"
   ]
  },
  {
   "cell_type": "code",
   "execution_count": 4,
   "id": "79dfd58f",
   "metadata": {
    "execution": {
     "iopub.execute_input": "2021-10-20T10:24:23.990225Z",
     "iopub.status.busy": "2021-10-20T10:24:23.989895Z",
     "iopub.status.idle": "2021-10-20T10:24:24.111930Z",
     "shell.execute_reply": "2021-10-20T10:24:24.112187Z"
    },
    "papermill": {
     "duration": 0.140821,
     "end_time": "2021-10-20T10:24:24.112274",
     "exception": false,
     "start_time": "2021-10-20T10:24:23.971453",
     "status": "completed"
    },
    "tags": []
   },
   "outputs": [
    {
     "name": "stdout",
     "output_type": "stream",
     "text": [
      "              total        used        free      shared  buff/cache   available\r\n",
      "Mem:            187           9         175           0           2         175\r\n",
      "Swap:            11           0          11\r\n"
     ]
    }
   ],
   "source": [
    "!free -g"
   ]
  },
  {
   "cell_type": "code",
   "execution_count": 5,
   "id": "84a687a2",
   "metadata": {
    "execution": {
     "iopub.execute_input": "2021-10-20T10:24:24.148918Z",
     "iopub.status.busy": "2021-10-20T10:24:24.147044Z",
     "iopub.status.idle": "2021-10-20T10:24:24.450036Z",
     "shell.execute_reply": "2021-10-20T10:24:24.449757Z"
    },
    "papermill": {
     "duration": 0.319787,
     "end_time": "2021-10-20T10:24:24.450114",
     "exception": false,
     "start_time": "2021-10-20T10:24:24.130327",
     "status": "completed"
    },
    "tags": []
   },
   "outputs": [
    {
     "name": "stdout",
     "output_type": "stream",
     "text": [
      "Wed Oct 20 06:24:24 2021       \r\n",
      "+-----------------------------------------------------------------------------+\r\n",
      "| NVIDIA-SMI 450.51.05    Driver Version: 450.51.05    CUDA Version: 11.0     |\r\n",
      "|-------------------------------+----------------------+----------------------+\r\n",
      "| GPU  Name        Persistence-M| Bus-Id        Disp.A | Volatile Uncorr. ECC |\r\n",
      "| Fan  Temp  Perf  Pwr:Usage/Cap|         Memory-Usage | GPU-Util  Compute M. |\r\n",
      "|                               |                      |               MIG M. |\r\n",
      "|===============================+======================+======================|\r\n",
      "|   0  Tesla V100-SXM2...  On   | 00000000:18:00.0 Off |                    0 |\r\n",
      "| N/A   40C    P0    70W / 300W |      0MiB / 16160MiB |      0%      Default |\r\n",
      "|                               |                      |                  N/A |\r\n",
      "+-------------------------------+----------------------+----------------------+\r\n",
      "|   1  Tesla V100-SXM2...  On   | 00000000:3B:00.0 Off |                    0 |\r\n",
      "| N/A   32C    P0    41W / 300W |      0MiB / 16160MiB |      0%      Default |\r\n",
      "|                               |                      |                  N/A |\r\n",
      "+-------------------------------+----------------------+----------------------+\r\n",
      "|   2  Tesla V100-SXM2...  On   | 00000000:86:00.0 Off |                    0 |\r\n",
      "| N/A   33C    P0    43W / 300W |      0MiB / 16160MiB |      0%      Default |\r\n",
      "|                               |                      |                  N/A |\r\n",
      "+-------------------------------+----------------------+----------------------+\r\n"
     ]
    },
    {
     "name": "stdout",
     "output_type": "stream",
     "text": [
      "|   3  Tesla V100-SXM2...  On   | 00000000:AF:00.0 Off |                    0 |\r\n",
      "| N/A   39C    P0    57W / 300W |  15660MiB / 16160MiB |      0%      Default |\r\n",
      "|                               |                      |                  N/A |\r\n",
      "+-------------------------------+----------------------+----------------------+\r\n",
      "                                                                               \r\n",
      "+-----------------------------------------------------------------------------+\r\n",
      "| Processes:                                                                  |\r\n",
      "|  GPU   GI   CI        PID   Type   Process name                  GPU Memory |\r\n",
      "|        ID   ID                                                   Usage      |\r\n",
      "|=============================================================================|\r\n",
      "|    3   N/A  N/A      2433      C   ...a/anaconda3/bin/python3.8    15657MiB |\r\n",
      "+-----------------------------------------------------------------------------+\r\n"
     ]
    }
   ],
   "source": [
    "!nvidia-smi"
   ]
  },
  {
   "cell_type": "code",
   "execution_count": 6,
   "id": "ded509b6",
   "metadata": {
    "execution": {
     "iopub.execute_input": "2021-10-20T10:24:24.484850Z",
     "iopub.status.busy": "2021-10-20T10:24:24.484517Z",
     "iopub.status.idle": "2021-10-20T10:24:24.488111Z",
     "shell.execute_reply": "2021-10-20T10:24:24.488384Z"
    },
    "papermill": {
     "duration": 0.022226,
     "end_time": "2021-10-20T10:24:24.488473",
     "exception": false,
     "start_time": "2021-10-20T10:24:24.466247",
     "status": "completed"
    },
    "tags": []
   },
   "outputs": [
    {
     "name": "stdout",
     "output_type": "stream",
     "text": [
      "CVAE_2021-10-20 06:24:24.483826\n"
     ]
    }
   ],
   "source": [
    "import os\n",
    "from datetime import datetime; now = datetime.now\n",
    "\n",
    "analysis_name = 'CVAE_'+str(now())\n",
    "save_dir = os.path.join('../Assets/tf_weights',analysis_name)\n",
    "if not os.path.exists(save_dir):\n",
    "    os.mkdir(save_dir)\n",
    "    \n",
    "print(analysis_name)"
   ]
  },
  {
   "cell_type": "code",
   "execution_count": 7,
   "id": "b0d95e7a",
   "metadata": {
    "execution": {
     "iopub.execute_input": "2021-10-20T10:24:24.523236Z",
     "iopub.status.busy": "2021-10-20T10:24:24.522900Z",
     "iopub.status.idle": "2021-10-20T10:24:24.543286Z",
     "shell.execute_reply": "2021-10-20T10:24:24.542997Z"
    },
    "papermill": {
     "duration": 0.039439,
     "end_time": "2021-10-20T10:24:24.543357",
     "exception": false,
     "start_time": "2021-10-20T10:24:24.503918",
     "status": "completed"
    },
    "tags": []
   },
   "outputs": [
    {
     "name": "stdout",
     "output_type": "stream",
     "text": [
      "Total memory: 15.78173828125\n",
      "Free memory: 15.7816162109375\n",
      "Used memory: 0.0001220703125\n"
     ]
    }
   ],
   "source": [
    "# CHECK GPU\n",
    "import nvidia_smi\n",
    "try:\n",
    "    nvidia_smi.nvmlInit()\n",
    "\n",
    "    handle = nvidia_smi.nvmlDeviceGetHandleByIndex(0)\n",
    "    # card id 0 hardcoded here, there is also a call to get all available card ids, so we could iterate\n",
    "\n",
    "    info = nvidia_smi.nvmlDeviceGetMemoryInfo(handle)\n",
    "\n",
    "    print(\"Total memory:\", (info.total/1024/1024/1024))\n",
    "    print(\"Free memory:\", (info.free/1024/1024/1024))\n",
    "    print(\"Used memory:\", (info.used/1024/1024/1024))\n",
    "\n",
    "    nvidia_smi.nvmlShutdown()\n",
    "except:\n",
    "    pass"
   ]
  },
  {
   "cell_type": "code",
   "execution_count": 8,
   "id": "08871f8e",
   "metadata": {
    "execution": {
     "iopub.execute_input": "2021-10-20T10:24:24.578819Z",
     "iopub.status.busy": "2021-10-20T10:24:24.578482Z",
     "iopub.status.idle": "2021-10-20T10:24:24.580009Z",
     "shell.execute_reply": "2021-10-20T10:24:24.579716Z"
    },
    "papermill": {
     "duration": 0.020711,
     "end_time": "2021-10-20T10:24:24.580089",
     "exception": false,
     "start_time": "2021-10-20T10:24:24.559378",
     "status": "completed"
    },
    "tags": []
   },
   "outputs": [],
   "source": [
    "## SET UP"
   ]
  },
  {
   "cell_type": "code",
   "execution_count": 9,
   "id": "5a19491f",
   "metadata": {
    "execution": {
     "iopub.execute_input": "2021-10-20T10:24:24.614279Z",
     "iopub.status.busy": "2021-10-20T10:24:24.613947Z",
     "iopub.status.idle": "2021-10-20T10:24:44.279255Z",
     "shell.execute_reply": "2021-10-20T10:24:44.279541Z"
    },
    "papermill": {
     "duration": 19.683706,
     "end_time": "2021-10-20T10:24:44.279659",
     "exception": false,
     "start_time": "2021-10-20T10:24:24.595953",
     "status": "completed"
    },
    "tags": []
   },
   "outputs": [],
   "source": [
    "import numpy as np\n",
    "import pandas as pd\n",
    "from tqdm import tqdm\n",
    "from matplotlib import pyplot as plt\n",
    "\n",
    "from functools import partial\n",
    "from tqdm import tqdm\n",
    "from umap import UMAP\n",
    "tqdm = partial(tqdm, position=0, leave=True) "
   ]
  },
  {
   "cell_type": "code",
   "execution_count": 10,
   "id": "01ca9bae",
   "metadata": {
    "execution": {
     "iopub.execute_input": "2021-10-20T10:24:44.321046Z",
     "iopub.status.busy": "2021-10-20T10:24:44.320707Z",
     "iopub.status.idle": "2021-10-20T10:24:44.332577Z",
     "shell.execute_reply": "2021-10-20T10:24:44.332290Z"
    },
    "papermill": {
     "duration": 0.033689,
     "end_time": "2021-10-20T10:24:44.332656",
     "exception": false,
     "start_time": "2021-10-20T10:24:44.298967",
     "status": "completed"
    },
    "tags": []
   },
   "outputs": [],
   "source": [
    "df = pd.read_csv('../Data/ABIDE_df2.csv')\n",
    "df = df.iloc[~pd.isna(df['bids_folder']).values]\n",
    "data_dir = '../Assets/fc_mats_32smooth_new/'"
   ]
  },
  {
   "cell_type": "code",
   "execution_count": 11,
   "id": "51a12ed9",
   "metadata": {
    "execution": {
     "iopub.execute_input": "2021-10-20T10:24:44.367134Z",
     "iopub.status.busy": "2021-10-20T10:24:44.366801Z",
     "iopub.status.idle": "2021-10-20T10:24:44.369807Z",
     "shell.execute_reply": "2021-10-20T10:24:44.370081Z"
    },
    "papermill": {
     "duration": 0.021454,
     "end_time": "2021-10-20T10:24:44.370165",
     "exception": false,
     "start_time": "2021-10-20T10:24:44.348711",
     "status": "completed"
    },
    "tags": []
   },
   "outputs": [
    {
     "data": {
      "text/plain": [
       "['sub-CMUa0050642.npy',\n",
       " 'sub-CMUa0050646.npy',\n",
       " 'sub-CMUa0050647.npy',\n",
       " 'sub-CMUa0050649.npy',\n",
       " 'sub-CMUa0050653.npy']"
      ]
     },
     "execution_count": 11,
     "metadata": {},
     "output_type": "execute_result"
    }
   ],
   "source": [
    "files = [file for file in os.listdir(data_dir) if file.endswith('.npy')]\n",
    "files.sort()\n",
    "files[0:5]"
   ]
  },
  {
   "cell_type": "code",
   "execution_count": 12,
   "id": "ceb83bce",
   "metadata": {
    "execution": {
     "iopub.execute_input": "2021-10-20T10:24:44.414057Z",
     "iopub.status.busy": "2021-10-20T10:24:44.413718Z",
     "iopub.status.idle": "2021-10-20T10:24:45.152306Z",
     "shell.execute_reply": "2021-10-20T10:24:45.152017Z"
    },
    "papermill": {
     "duration": 0.765988,
     "end_time": "2021-10-20T10:24:45.152379",
     "exception": false,
     "start_time": "2021-10-20T10:24:44.386391",
     "status": "completed"
    },
    "tags": []
   },
   "outputs": [
    {
     "name": "stdout",
     "output_type": "stream",
     "text": [
      "1048\n"
     ]
    },
    {
     "name": "stdout",
     "output_type": "stream",
     "text": [
      "1.0\n"
     ]
    }
   ],
   "source": [
    "subs_with_matFiles = [file.split('.')[0] for file in files]\n",
    "df = df.iloc[np.array([sub in subs_with_matFiles for sub in df['bids_folder'].values])]\n",
    "n_subs = len(df)\n",
    "print(n_subs)\n",
    "\n",
    "# Check if subject has .nii file\n",
    "has_file = np.array([os.path.exists(os.path.join(data_dir,sub + '.npy')) for sub in df['bids_folder'].values])\n",
    "print(has_file.mean())\n",
    "assert has_file.mean()==1.0, 'fuck'\n",
    "\n",
    "assert len(subs_with_matFiles)==len(df),'no'\n",
    "df = df.sort_values(by='bids_folder')\n",
    "assert all([subs_with_matFiles[i]==df['bids_folder'].values[i] for i in range(n_subs)]), 'out of order'\n",
    "\n",
    "df.index = np.arange(n_subs)"
   ]
  },
  {
   "cell_type": "code",
   "execution_count": 13,
   "id": "de9b1e28",
   "metadata": {
    "execution": {
     "iopub.execute_input": "2021-10-20T10:24:45.188807Z",
     "iopub.status.busy": "2021-10-20T10:24:45.188472Z",
     "iopub.status.idle": "2021-10-20T10:24:45.446899Z",
     "shell.execute_reply": "2021-10-20T10:24:45.446611Z"
    },
    "papermill": {
     "duration": 0.277392,
     "end_time": "2021-10-20T10:24:45.446971",
     "exception": false,
     "start_time": "2021-10-20T10:24:45.169579",
     "status": "completed"
    },
    "tags": []
   },
   "outputs": [
    {
     "name": "stdout",
     "output_type": "stream",
     "text": [
      "CPU times: user 48.8 ms, sys: 10.6 ms, total: 59.4 ms\n",
      "Wall time: 256 ms\n"
     ]
    },
    {
     "data": {
      "text/plain": [
       "<module 'tensorflow' from '/data/aglinska/anaconda3/lib/python3.8/site-packages/tensorflow/__init__.py'>"
      ]
     },
     "execution_count": 13,
     "metadata": {},
     "output_type": "execute_result"
    }
   ],
   "source": [
    "%%time\n",
    "from importlib import reload\n",
    "import helper_funcs;reload(helper_funcs);from helper_funcs import *\n",
    "del helper_funcs\n",
    "import make_models;reload(make_models);from make_models import *\n",
    "del make_models\n",
    "\n",
    "from IPython import display\n",
    "import sys\n",
    "from sklearn.decomposition import PCA\n",
    "import seaborn as sns\n",
    "\n",
    "import tensorflow as tf\n",
    "reload(tf)"
   ]
  },
  {
   "cell_type": "code",
   "execution_count": 14,
   "id": "534cc4cf",
   "metadata": {
    "execution": {
     "iopub.execute_input": "2021-10-20T10:24:46.045973Z",
     "iopub.status.busy": "2021-10-20T10:24:46.045601Z",
     "iopub.status.idle": "2021-10-20T10:24:46.047221Z",
     "shell.execute_reply": "2021-10-20T10:24:46.047500Z"
    },
    "papermill": {
     "duration": 0.5832,
     "end_time": "2021-10-20T10:24:46.047611",
     "exception": false,
     "start_time": "2021-10-20T10:24:45.464411",
     "status": "completed"
    },
    "tags": []
   },
   "outputs": [
    {
     "data": {
      "text/plain": [
       "'/device:GPU:0'"
      ]
     },
     "execution_count": 14,
     "metadata": {},
     "output_type": "execute_result"
    }
   ],
   "source": [
    "import tensorflow as tf\n",
    "tf.test.gpu_device_name()"
   ]
  },
  {
   "cell_type": "code",
   "execution_count": 15,
   "id": "f66d95c8",
   "metadata": {
    "execution": {
     "iopub.execute_input": "2021-10-20T10:24:46.085806Z",
     "iopub.status.busy": "2021-10-20T10:24:46.085468Z",
     "iopub.status.idle": "2021-10-20T10:24:47.411718Z",
     "shell.execute_reply": "2021-10-20T10:24:47.411364Z"
    },
    "papermill": {
     "duration": 1.346353,
     "end_time": "2021-10-20T10:24:47.411811",
     "exception": false,
     "start_time": "2021-10-20T10:24:46.065458",
     "status": "completed"
    },
    "tags": []
   },
   "outputs": [],
   "source": [
    "data_dir = '../Assets/fc_mats_32smooth_new'\n",
    "data_loader = cvae_data_loader(data_dir=data_dir, df=df, batch_size=32)\n",
    "batch_asd,batch_td,batch_df = data_loader.get_batch()"
   ]
  },
  {
   "cell_type": "code",
   "execution_count": 16,
   "id": "61e7f0c5",
   "metadata": {
    "execution": {
     "iopub.execute_input": "2021-10-20T10:24:47.450103Z",
     "iopub.status.busy": "2021-10-20T10:24:47.449774Z",
     "iopub.status.idle": "2021-10-20T10:24:47.451319Z",
     "shell.execute_reply": "2021-10-20T10:24:47.451036Z"
    },
    "papermill": {
     "duration": 0.02179,
     "end_time": "2021-10-20T10:24:47.451393",
     "exception": false,
     "start_time": "2021-10-20T10:24:47.429603",
     "status": "completed"
    },
    "tags": []
   },
   "outputs": [],
   "source": [
    "data_size = np.hstack((n_subs,batch_asd.shape[1:]))"
   ]
  },
  {
   "cell_type": "code",
   "execution_count": 17,
   "id": "1c418c92",
   "metadata": {
    "execution": {
     "iopub.execute_input": "2021-10-20T10:24:47.509700Z",
     "iopub.status.busy": "2021-10-20T10:24:47.498563Z",
     "iopub.status.idle": "2021-10-20T10:24:47.510836Z",
     "shell.execute_reply": "2021-10-20T10:24:47.511105Z"
    },
    "papermill": {
     "duration": 0.041977,
     "end_time": "2021-10-20T10:24:47.511189",
     "exception": false,
     "start_time": "2021-10-20T10:24:47.469212",
     "status": "completed"
    },
    "tags": []
   },
   "outputs": [],
   "source": [
    "def cvae_dashboard(red='PCA'):\n",
    "    \n",
    "    if red=='PCA':\n",
    "        reducer = PCA\n",
    "    elif red=='UMAP':\n",
    "        reducer = UMAP\n",
    "    else:\n",
    "        reducer = UMAP\n",
    "        \n",
    "    #prediction = cvae.predict(patient_batch)    \n",
    "    predictions = cvae.predict([patient_batch,control_batch])\n",
    "    sigma = (np.e ** z_encoder.predict(patient_batch)[1]).mean()\n",
    "    sigmas.append(sigma)\n",
    "    \n",
    "    mu = z_encoder.predict(patient_batch)[0].mean()\n",
    "    mus.append(mu)\n",
    "    \n",
    "    #predictions = np.concatenate((predictions[0],predictions[1]),axis=0)\n",
    "    prediction = predictions[0]\n",
    "    \n",
    "#     if np.mod(i,1)==0:        \n",
    "#         pc_s = reducer(n_components=2).fit_transform(s_encoder.predict(np.concatenate((patient_batch,control_batch),axis=0))[2])\n",
    "#         pc_z = reducer(n_components=2).fit_transform(z_encoder.predict(np.concatenate((patient_batch,control_batch),axis=0))[2])\n",
    "        \n",
    "#         global pc_s_asd, pc_s_td, pc_z_asd, pc_z_td\n",
    "\n",
    "#         pc_s_asd = pc_s[0:patient_batch.shape[0],:]\n",
    "#         pc_s_td = pc_s[patient_batch.shape[0]::,:]\n",
    "\n",
    "#         pc_z_asd = pc_z[0:patient_batch.shape[0],:]\n",
    "#         pc_z_td = pc_z[patient_batch.shape[0]::,:]\n",
    "        \n",
    "        #all_rsas.append(get_batch_rsas(z_encoder,s_encoder,df,n=50))\n",
    "        \n",
    "    cmat_actual = np.corrcoef(np.vstack((patient_batch.reshape(patient_batch.shape[0],-1),control_batch.reshape(control_batch.shape[0],-1))))\n",
    "    cmat_pred = np.corrcoef(np.vstack((predictions[0].reshape(predictions[0].shape[0],-1),predictions[1].reshape(predictions[1].shape[0],-1))))\n",
    "    c_sim.append(np.corrcoef(get_triu(cmat_pred),get_triu(cmat_actual))[0,1])\n",
    "\n",
    "    \n",
    "    ### PROGRESS PLOTTING\n",
    "    display.clear_output(wait=True);\n",
    "    display.display(plt.gcf());\n",
    "    #Organise figure\n",
    "    ncols = 4;nrows=5\n",
    "    if np.mod(i,5)==0:\n",
    "        plt.close()\n",
    "    plt.subplots(nrows,ncols,figsize=(15,15)); # MAKE THE FIGURE\n",
    "    \n",
    "    \n",
    "    ##### SUBPLOT 1 & 2 ##### \n",
    "\n",
    "    plt.subplot(nrows,ncols/2,1) # PLOT LOSS\n",
    "    xs = np.arange(len(loss))+1\n",
    "    m,b = np.polyfit(xs,loss,deg=1)\n",
    "    plt.plot(loss)\n",
    "    plt.plot(xs, m*xs + b)\n",
    "    plt.title(f'Epoch {data_loader.epoch} batch {data_loader.b}/{data_loader.n_batches} | Loss {loss[-1]:.2f}, beta: {m:.4f}')\n",
    "    \n",
    "    ##### SUBPLOT 3 ##### \n",
    "    plt.subplot(nrows,ncols,3) # PLOT LOSS LAST 50\n",
    "    hb = 50\n",
    "    if len(loss)>hb:\n",
    "        plot_loss = loss[-hb::]\n",
    "        xs = np.arange(len(plot_loss))\n",
    "        m,b = np.polyfit(xs,plot_loss,deg=1)\n",
    "        plt.plot(plot_loss)\n",
    "        plt.plot(xs, m*xs + b)\n",
    "        #plt.title(hist)\n",
    "        plt.title(f'Loss last {hb} it, beta {m:.4f}')\n",
    "        \n",
    "    ##### SUBPLOT 4 ##### \n",
    "    plt.subplot(nrows,ncols,4)\n",
    "    plt.hist(prediction[0,:,:,:,0].flatten(),alpha=.5)\n",
    "    plt.hist(patient_batch[0,:,:,:,0].flatten(),alpha=.5)\n",
    "    plt.legend(['predicted','actual'])\n",
    "    plt.title('in/out histograms')\n",
    "    \n",
    "    ##### SUBPLOT 5 ##### \n",
    "    plt.subplot(nrows,ncols,5) #RSA over time\n",
    "    plt.plot(c_sim)\n",
    "    plt.title(f'in/out RSA: {c_sim[-1].round(2)}')\n",
    "    \n",
    "    if len(c_sim)>5: # PLOT LS LINE\n",
    "        xs = np.arange(len(c_sim))+1\n",
    "        m,b = np.polyfit(xs,c_sim,deg=1)\n",
    "        plt.plot(xs, m*xs + b)\n",
    "        plt.title(f'in/out RSA: {c_sim[-1].round(2)}, b={m:.4f}')\n",
    "        \n",
    "\n",
    "    ##### SUBPLOT 6 ##### \n",
    "    plt.subplot(nrows,ncols,6)\n",
    "    if len(c_sim)>hb:\n",
    "        #plot_loss = loss[-hb::]\n",
    "        xs = np.arange(len(c_sim[-hb::]))\n",
    "        m,b = np.polyfit(xs,c_sim[-hb::],deg=1)\n",
    "        plt.plot(c_sim[-hb::])\n",
    "        plt.plot(xs, m*xs + b)\n",
    "        #plt.title(hist)\n",
    "        plt.title(f'in/outRSA last {hb} it, b={m:.4f}')\n",
    "\n",
    "    ##### SUBPLOT 7 ##### \n",
    "    plt.subplot(nrows,ncols,7)\n",
    "    lbls = ['age','sex','fiq','dsm','site','ados'];\n",
    "    xs = np.arange(len(lbls));\n",
    "    plt.bar(xs,batch_rsas[0:6]);\n",
    "    plt.xticks(xs,labels=lbls);\n",
    "    plt.title('S RSA')\n",
    "    \n",
    "    ##### SUBPLOT 8 ##### \n",
    "    plt.subplot(nrows,ncols,8)\n",
    "    lbls = ['age','sex','fiq','dsm','site','ados'];\n",
    "    xs = np.arange(len(lbls));\n",
    "    plt.bar(xs,batch_rsas[6::]);\n",
    "    plt.xticks(xs,labels=lbls);\n",
    "    plt.title('Z RSA')\n",
    "\n",
    "        \n",
    "    ##### SUBPLOT 9 ##### \n",
    "    plt.subplot(nrows,ncols,9)\n",
    "    plt.plot(sigmas)\n",
    "    plt.title('sigmas')\n",
    "    #plt.scatter(pc_s_asd[:,0],pc_s_asd[:,1],s=100,alpha=.5);plt.title(f'batch latent S rep. {red}')\n",
    "    #plt.scatter(pc_s_td[:,0],pc_s_td[:,1],s=100,alpha=.5);plt.title(f'batch latent S rep. {red}')\n",
    "    #plt.legend(['ASD','TD'])\n",
    "    \n",
    "    ##### SUBPLOT 10 ##### \n",
    "    plt.subplot(nrows,ncols,10)\n",
    "    plt.plot(mus)\n",
    "    plt.title('mus')\n",
    "    #plt.scatter(pc_z_asd[:,0],pc_z_asd[:,1],s=100,alpha=.5);plt.title(f'batch latent Z rep. {red}')\n",
    "    #plt.scatter(pc_z_td[:,0],pc_z_td[:,1],s=100,alpha=.5);plt.title(f'batch latent Z rep. {red}')\n",
    "    #plt.legend(['ASD','TD'])\n",
    "    \n",
    "    ##### SUBPLOT 11 ##### \n",
    "    plt.subplot(nrows,ncols,11)\n",
    "    sns.heatmap(cmat_actual,xticklabels=[],yticklabels=[])\n",
    "    plt.title('input RSA')\n",
    "        \n",
    "    ##### SUBPLOT 12 ##### \n",
    "    plt.subplot(nrows,ncols,12)\n",
    "    sns.heatmap(cmat_pred,xticklabels=[],yticklabels=[])\n",
    "    plt.title('output RSA')\n",
    "  \n",
    "\n",
    "    #############################################\n",
    "    #############################################\n",
    "    \n",
    "    ##### SUBPLOT 13 #####     \n",
    "    plt.subplot(nrows,ncols,13)\n",
    "    rand_sub = np.random.randint(low=0,high=patient_batch.shape[0])\n",
    "    plt.imshow(np.rot90(patient_batch[rand_sub,:,16,:,0]))\n",
    "    plt.xticks([]);plt.yticks([]);plt.title('actual')\n",
    "    ##### SUBPLOT 14 #####     \n",
    "    plt.subplot(nrows,ncols,14)\n",
    "    plt.imshow(np.rot90(prediction[rand_sub,:,16,:,0]))\n",
    "    plt.xticks([]);plt.yticks([]);plt.title('predicted')\n",
    "    ##### SUBPLOT 15 #####     \n",
    "    plt.subplot(nrows,ncols,15)\n",
    "    plt.imshow(np.rot90(patient_batch[rand_sub,16,:,:,0]))\n",
    "    plt.xticks([]);plt.yticks([]);plt.title('actual')\n",
    "    ##### SUBPLOT 16 #####                                             \n",
    "    plt.subplot(nrows,ncols,16)\n",
    "    plt.imshow(np.rot90(prediction[rand_sub,16,:,:,0]))\n",
    "    plt.xticks([]);plt.yticks([]);plt.title('predicted')\n",
    "    ##### SUBPLOT 17 #####     \n",
    "    plt.subplot(nrows,ncols,17)\n",
    "    plt.imshow(np.rot90(patient_batch[rand_sub,6,:,:,0]))\n",
    "    plt.xticks([]);plt.yticks([]);plt.title('actual')\n",
    "    ##### SUBPLOT 18 #####                                             \n",
    "    plt.subplot(nrows,ncols,18)\n",
    "    plt.imshow(np.rot90(prediction[rand_sub,6,:,:,0]))\n",
    "    plt.xticks([]);plt.yticks([]);plt.title('predicted')\n",
    "    ##### SUBPLOT 19 #####     \n",
    "    plt.subplot(nrows,ncols,19)\n",
    "    plt.imshow(patient_batch[rand_sub,:,:,16,0])\n",
    "    plt.xticks([]);plt.yticks([]);plt.title('actual')\n",
    "    ##### SUBPLOT 20 #####     \n",
    "    plt.subplot(nrows,ncols,20)\n",
    "    plt.imshow(prediction[rand_sub,:,:,16,0])\n",
    "    plt.xticks([]);plt.yticks([]);plt.title('predicted')\n",
    "    \n",
    "    plt.tight_layout()\n",
    "    plt.show()\n",
    "    sys.stdout.flush()"
   ]
  },
  {
   "cell_type": "code",
   "execution_count": 18,
   "id": "bd21bc73",
   "metadata": {
    "execution": {
     "iopub.execute_input": "2021-10-20T10:24:47.564504Z",
     "iopub.status.busy": "2021-10-20T10:24:47.553944Z",
     "iopub.status.idle": "2021-10-20T10:24:47.572841Z",
     "shell.execute_reply": "2021-10-20T10:24:47.572566Z"
    },
    "papermill": {
     "duration": 0.044206,
     "end_time": "2021-10-20T10:24:47.572914",
     "exception": false,
     "start_time": "2021-10-20T10:24:47.528708",
     "status": "completed"
    },
    "tags": []
   },
   "outputs": [],
   "source": [
    "import tensorflow as tf\n",
    "import numpy as np\n",
    "import matplotlib.pyplot as plt\n",
    "#from scipy.special import expit\n",
    "from sklearn.metrics import silhouette_score\n",
    "from tensorflow.keras.layers import *\n",
    "from tensorflow.keras import backend as K\n",
    "from tensorflow.keras.models import Model\n",
    "from tensorflow.keras.losses import mse\n",
    "import os\n",
    "import pandas as pd\n",
    "\n",
    "def get_fMRI_CVAE_4D(input_shape=(48,48,48,51),\n",
    "                     latent_dim=2,\n",
    "                     beta=1,\n",
    "                     disentangle=False,\n",
    "                     gamma=1,\n",
    "                     bias=True,\n",
    "                     batch_size = 32,\n",
    "                     kernel_size = 3,\n",
    "                     filters = 16,\n",
    "                     intermediate_dim = 128,\n",
    "                     nlayers = 2,\n",
    "                     learning_rate=0.001,\n",
    "                     opt=None):\n",
    "    \n",
    "    image_size, _, _, channels = input_shape\n",
    "\n",
    "    kernel_regularizer=regularizers.l2(.01)\n",
    "\n",
    "    # build encoder model\n",
    "    tg_inputs = Input(shape=input_shape, name='tg_inputs')\n",
    "    bg_inputs = Input(shape=input_shape, name='bg_inputs')\n",
    "\n",
    "    # generate latent vector Q(z|X)\n",
    "    z_h_layer = Dense(intermediate_dim, activation='relu', use_bias=bias,kernel_regularizer=kernel_regularizer)\n",
    "    z_mean_layer = Dense(latent_dim, name='z_mean', use_bias=bias,kernel_regularizer=kernel_regularizer)\n",
    "    z_log_var_layer = Dense(latent_dim, name='z_log_var', use_bias=bias,kernel_regularizer=kernel_regularizer)\n",
    "    z_layer = Lambda(sampling, output_shape=(latent_dim,), name='z')\n",
    "\n",
    "    def z_encoder_func(inputs):\n",
    "        z_h = inputs\n",
    "        #z_h = z_conv1(z_h)\n",
    "        #z_h = z_conv2(z_h)\n",
    "        \n",
    "        these_filters = filters\n",
    "        for i in range(nlayers):\n",
    "            these_filters *= 2\n",
    "            #print(these_filters)\n",
    "            z_h = Conv3D(filters=these_filters,\n",
    "                    kernel_size=kernel_size,\n",
    "                    activation='relu',\n",
    "                    strides=2,\n",
    "                    padding='same',\n",
    "                    use_bias=bias,\n",
    "                    kernel_regularizer=kernel_regularizer)(z_h)\n",
    "        \n",
    "        # shape info needed to build decoder model\n",
    "        shape = K.int_shape(z_h)\n",
    "        z_h = Flatten()(z_h)\n",
    "        z_h = z_h_layer(z_h)\n",
    "        z_mean =  z_mean_layer(z_h)\n",
    "        z_log_var =  z_log_var_layer(z_h)\n",
    "        z = z_layer([z_mean, z_log_var])\n",
    "        return z_mean, z_log_var, z, shape\n",
    "\n",
    "    tg_z_mean, tg_z_log_var, tg_z, shape_z = z_encoder_func(tg_inputs)\n",
    "\n",
    "    # generate latent vector Q(z|X)\n",
    "    s_h_layer = Dense(intermediate_dim, activation='relu', use_bias=bias,kernel_regularizer=kernel_regularizer)\n",
    "    s_mean_layer = Dense(latent_dim, name='s_mean', use_bias=bias,kernel_regularizer=kernel_regularizer)\n",
    "    s_log_var_layer = Dense(latent_dim, name='s_log_var', use_bias=bias,kernel_regularizer=kernel_regularizer)\n",
    "    s_layer = Lambda(sampling, output_shape=(latent_dim,), name='s')\n",
    "\n",
    "    def s_encoder_func(inputs):\n",
    "        s_h = inputs\n",
    "\n",
    "        these_filters = filters\n",
    "        for i in range(nlayers):\n",
    "            these_filters *= 2\n",
    "            s_h = Conv3D(filters=these_filters,\n",
    "                    kernel_size=kernel_size,\n",
    "                    activation='relu',\n",
    "                    strides=2,\n",
    "                    use_bias=bias,\n",
    "                    kernel_regularizer=kernel_regularizer,\n",
    "                    padding='same')(s_h)\n",
    "        \n",
    "        # shape info needed to build decoder model\n",
    "        shape = K.int_shape(s_h)\n",
    "        s_h = Flatten()(s_h)\n",
    "        s_h = s_h_layer(s_h)\n",
    "        s_mean =  s_mean_layer(s_h)\n",
    "        s_log_var =  s_log_var_layer(s_h)\n",
    "        s = s_layer([s_mean, s_log_var])\n",
    "        return s_mean, s_log_var, s, shape\n",
    "\n",
    "    tg_s_mean, tg_s_log_var, tg_s, shape_s = s_encoder_func(tg_inputs)\n",
    "    #bg_s_mean, bg_s_log_var, bg_s, _ = s_encoder_func(bg_inputs) # this is what they had \n",
    "    bg_z_mean, bg_z_log_var, bg_z, _ = z_encoder_func(bg_inputs) # Aidas and Stefano team hax\n",
    "\n",
    "\n",
    "      # instantiate encoder models\n",
    "    z_encoder = tf.keras.models.Model(tg_inputs, [tg_z_mean, tg_z_log_var, tg_z], name='z_encoder')\n",
    "    s_encoder = tf.keras.models.Model(tg_inputs, [tg_s_mean, tg_s_log_var, tg_s], name='s_encoder')\n",
    "\n",
    "\n",
    "      # build decoder model\n",
    "    latent_inputs = Input(shape=(2*latent_dim,), name='z_sampling')\n",
    "\n",
    "    x = Dense(intermediate_dim, activation='relu', use_bias=bias,kernel_regularizer=kernel_regularizer)(latent_inputs)\n",
    "    x = Dense(shape_z[1] * shape_z[2] * shape_z[3] * shape_z[4], activation='relu', use_bias=bias,kernel_regularizer=kernel_regularizer)(x)\n",
    "    x = Reshape((shape_z[1], shape_z[2], shape_z[3],shape_z[4]))(x)\n",
    "\n",
    "    these_filters = filters*(2**nlayers)/2\n",
    "    for i in range(nlayers-1):\n",
    "        x = Conv3DTranspose(filters=these_filters,\n",
    "                          kernel_size=kernel_size,\n",
    "                          activation='relu',\n",
    "                          strides=2,\n",
    "                          use_bias=bias,\n",
    "                          kernel_regularizer=kernel_regularizer,\n",
    "                          padding='same')(x)\n",
    "        these_filters //= 2\n",
    "\n",
    "    outputs = Conv3DTranspose(filters=channels,\n",
    "                            kernel_size=kernel_size,\n",
    "                            activation='sigmoid',\n",
    "                            padding='same',\n",
    "                            strides=2,\n",
    "                            use_bias=bias,\n",
    "                            kernel_regularizer=kernel_regularizer,\n",
    "                            name='decoder_output')(x)\n",
    "\n",
    "    # instantiate decoder model\n",
    "    cvae_decoder = Model(latent_inputs, outputs, name='decoder')\n",
    "      # decoder.summary()\n",
    "\n",
    "    def zeros_like(x):\n",
    "        return tf.zeros_like(x)\n",
    "\n",
    "    tg_outputs = cvae_decoder(tf.keras.layers.concatenate([tg_z, tg_s], -1))\n",
    "    zeros = tf.keras.layers.Lambda(zeros_like)(tg_z)\n",
    "\n",
    "    bg_outputs = cvae_decoder(tf.keras.layers.concatenate([bg_z, zeros], -1)) # Aidas look into this, is this correct\n",
    "\n",
    " #   fg_outputs = cvae_decoder(tf.keras.layers.concatenate([tg_z, zeros], -1))\n",
    "\n",
    "    # instantiate VAE model\n",
    "    cvae = tf.keras.models.Model(inputs=[tg_inputs, bg_inputs], \n",
    "                              outputs=[tg_outputs, bg_outputs], \n",
    "                              name='contrastive_vae')\n",
    "\n",
    "#     cvae_fg = tf.keras.models.Model(inputs=tg_inputs, \n",
    "#                                   outputs=fg_outputs, \n",
    "#                                   name='contrastive_vae_fg')\n",
    "\n",
    "    if disentangle:\n",
    "        discriminator = Dense(1, activation='sigmoid')\n",
    "\n",
    "        z1 = Lambda(lambda x: x[:int(batch_size/2),:])(tg_z)\n",
    "        z2 = Lambda(lambda x: x[int(batch_size/2):,:])(tg_z)\n",
    "        s1 = Lambda(lambda x: x[:int(batch_size/2),:])(tg_s)\n",
    "        s2 = Lambda(lambda x: x[int(batch_size/2):,:])(tg_s)\n",
    "\n",
    "        q_bar = tf.keras.layers.concatenate(\n",
    "          [tf.keras.layers.concatenate([s1, z2], axis=1),\n",
    "          tf.keras.layers.concatenate([s2, z1], axis=1)],\n",
    "          axis=0)\n",
    "\n",
    "        q = tf.keras.layers.concatenate(\n",
    "          [tf.keras.layers.concatenate([s1, z1], axis=1),\n",
    "          tf.keras.layers.concatenate([s2, z2], axis=1)],\n",
    "          axis=0)\n",
    "\n",
    "        q_bar_score = (discriminator(q_bar)+.1) *.85 # +.1 * .85 so that it's 0<x<1\n",
    "        q_score = (discriminator(q)+.1) *.85 \n",
    "        tc_loss = K.log(q_score / (1 - q_score)) \n",
    "        discriminator_loss = - K.log(q_score) - K.log(1 - q_bar_score)\n",
    "    else:\n",
    "        tc_loss = 0\n",
    "        discriminator_loss = 0\n",
    "\n",
    "\n",
    "    reconstruction_loss = tf.keras.losses.mse(K.flatten(tg_inputs), K.flatten(tg_outputs)) \n",
    "    reconstruction_loss += tf.keras.losses.mse(K.flatten(bg_inputs), K.flatten(bg_outputs)) \n",
    "    reconstruction_loss *= input_shape[0] * input_shape[1] * input_shape[2] * input_shape[3]\n",
    "\n",
    "\n",
    "    kl_loss = 1 + tg_z_log_var - tf.keras.backend.square(tg_z_mean) - tf.keras.backend.exp(tg_z_log_var)\n",
    "    kl_loss += 1 + tg_s_log_var - tf.keras.backend.square(tg_s_mean) - tf.keras.backend.exp(tg_s_log_var)\n",
    "    kl_loss += 1 + bg_z_log_var - tf.keras.backend.square(bg_z_mean) - tf.keras.backend.exp(bg_z_log_var)\n",
    "    kl_loss = tf.keras.backend.sum(kl_loss, axis=-1)\n",
    "    kl_loss *= -0.5\n",
    "    \n",
    "    \n",
    "    #print(f'reconstruction loss {reconstruction_loss}')\n",
    "    #print(f'kl_loss loss {kl_loss}')\n",
    "    #print(f'tc_loss loss {tc_loss}')\n",
    "    #print(f'discriminator_loss loss {discriminator_loss}')\n",
    "    \n",
    "    cvae_loss = tf.keras.backend.mean(reconstruction_loss + beta*kl_loss + gamma*tc_loss + discriminator_loss)\n",
    "    cvae.add_loss(cvae_loss)\n",
    "    \n",
    "    if type(opt)==type(None):\n",
    "        #print('optimizer not specified using ADAM, wroom wroom')\n",
    "        opt = tf.keras.optimizers.Adam(learning_rate=learning_rate,beta_1=0.9,beta_2=0.999,epsilon=1e-07,amsgrad=False,name='Adam')\n",
    "    \n",
    "#     opt = tf.keras.optimizers.SGD(\n",
    "#     learning_rate=0.01, momentum=0.0, nesterov=False, name='SGD')\n",
    "\n",
    "    #opt = tf.keras.optimizers.RMSprop(learning_rate=0.001, rho=0.9, momentum=0.9, epsilon=1e-07, centered=False, name='RMSprop')\n",
    "    \n",
    "    #cvae.compile(optimizer='rmsprop',run_eagerly=True)\n",
    "    cvae.compile(optimizer=opt,run_eagerly=True)\n",
    "    \n",
    "\n",
    "    #return cvae, cvae_fg, z_encoder, s_encoder, cvae_decoder\n",
    "    return cvae, z_encoder, s_encoder, cvae_decoder"
   ]
  },
  {
   "cell_type": "code",
   "execution_count": 19,
   "id": "74a6c73d",
   "metadata": {
    "execution": {
     "iopub.execute_input": "2021-10-20T10:24:47.610994Z",
     "iopub.status.busy": "2021-10-20T10:24:47.610656Z",
     "iopub.status.idle": "2021-10-20T10:24:48.208380Z",
     "shell.execute_reply": "2021-10-20T10:24:48.208669Z"
    },
    "papermill": {
     "duration": 0.618738,
     "end_time": "2021-10-20T10:24:48.208790",
     "exception": false,
     "start_time": "2021-10-20T10:24:47.590052",
     "status": "completed"
    },
    "tags": []
   },
   "outputs": [],
   "source": [
    "#import make_models;reload(make_models);from make_models import *\n",
    "batch_size = 16\n",
    "\n",
    "cvae, z_encoder, s_encoder, cvae_decoder = get_fMRI_CVAE_4D(input_shape=tuple(data_size[1::]),\n",
    "                                                             latent_dim=32,\n",
    "                                                             beta=1,\n",
    "                                                             gamma=1,\n",
    "                                                             disentangle=True,\n",
    "                                                             bias=True,\n",
    "                                                             batch_size = batch_size,\n",
    "                                                             kernel_size = 3,\n",
    "                                                             filters = 8,\n",
    "                                                             intermediate_dim = 128,\n",
    "                                                             nlayers = 5,\n",
    "                                                             learning_rate=0.001,\n",
    "                                                             opt=None)"
   ]
  },
  {
   "cell_type": "code",
   "execution_count": 20,
   "id": "c2b26511",
   "metadata": {
    "execution": {
     "iopub.execute_input": "2021-10-20T10:24:48.247281Z",
     "iopub.status.busy": "2021-10-20T10:24:48.246951Z",
     "iopub.status.idle": "2021-10-20T10:24:48.248854Z",
     "shell.execute_reply": "2021-10-20T10:24:48.248564Z"
    },
    "papermill": {
     "duration": 0.021997,
     "end_time": "2021-10-20T10:24:48.248928",
     "exception": false,
     "start_time": "2021-10-20T10:24:48.226931",
     "status": "completed"
    },
    "tags": []
   },
   "outputs": [
    {
     "data": {
      "text/plain": [
       "(1048, 32, 32, 32, 51)"
      ]
     },
     "execution_count": 20,
     "metadata": {},
     "output_type": "execute_result"
    }
   ],
   "source": [
    "tuple(data_size)"
   ]
  },
  {
   "cell_type": "code",
   "execution_count": 21,
   "id": "214081bd",
   "metadata": {
    "execution": {
     "iopub.execute_input": "2021-10-20T10:24:48.287149Z",
     "iopub.status.busy": "2021-10-20T10:24:48.286816Z",
     "iopub.status.idle": "2021-10-20T10:24:48.288439Z",
     "shell.execute_reply": "2021-10-20T10:24:48.288147Z"
    },
    "papermill": {
     "duration": 0.02211,
     "end_time": "2021-10-20T10:24:48.288511",
     "exception": false,
     "start_time": "2021-10-20T10:24:48.266401",
     "status": "completed"
    },
    "tags": []
   },
   "outputs": [],
   "source": [
    "loss = list()\n",
    "c_sim = list()\n",
    "all_rsas = list()\n",
    "sigmas = list()\n",
    "mus = list()"
   ]
  },
  {
   "cell_type": "code",
   "execution_count": 22,
   "id": "6439ae8e",
   "metadata": {
    "execution": {
     "iopub.execute_input": "2021-10-20T10:24:48.327895Z",
     "iopub.status.busy": "2021-10-20T10:24:48.327564Z",
     "iopub.status.idle": "2021-10-20T10:24:48.329079Z",
     "shell.execute_reply": "2021-10-20T10:24:48.328795Z"
    },
    "papermill": {
     "duration": 0.021729,
     "end_time": "2021-10-20T10:24:48.329149",
     "exception": false,
     "start_time": "2021-10-20T10:24:48.307420",
     "status": "completed"
    },
    "tags": []
   },
   "outputs": [],
   "source": [
    "data_loader = cvae_data_loader(data_dir=data_dir, df=df, batch_size=batch_size)"
   ]
  },
  {
   "cell_type": "code",
   "execution_count": 23,
   "id": "dd67fbf9",
   "metadata": {
    "execution": {
     "iopub.execute_input": "2021-10-20T10:24:48.370773Z",
     "iopub.status.busy": "2021-10-20T10:24:48.370429Z"
    },
    "papermill": {
     "duration": null,
     "end_time": null,
     "exception": false,
     "start_time": "2021-10-20T10:24:48.347745",
     "status": "running"
    },
    "tags": []
   },
   "outputs": [
    {
     "data": {
      "text/plain": [
       "<Figure size 432x288 with 0 Axes>"
      ]
     },
     "metadata": {},
     "output_type": "display_data"
    },
    {
     "name": "stderr",
     "output_type": "stream",
     "text": [
      "<ipython-input-17-ea023cf9e37a>:52: MatplotlibDeprecationWarning: Passing non-integers as three-element position specification is deprecated since 3.3 and will be removed two minor releases later.\n",
      "  plt.subplot(nrows,ncols/2,1) # PLOT LOSS\n"
     ]
    },
    {
     "data": {
      "image/png": "[encoded data removed]",
      "text/plain": [
       "<Figure size 1080x1080 with 21 Axes>"
      ]
     },
     "metadata": {
      "needs_background": "light"
     },
     "output_type": "display_data"
    }
   ],
   "source": [
    "#import make_models;reload(make_models);from make_models import *\n",
    "#import helper_funcs;reload(helper_funcs);from helper_funcs import *\n",
    "\n",
    "for epoch in tqdm(range(100),position=0, leave=True):\n",
    "    for i in range(data_loader.n_batches):\n",
    "        \n",
    "        patient_batch,control_batch,batch_df = data_loader.get_batch() # Get a batch\n",
    "        hist = cvae.train_on_batch([patient_batch,control_batch]) # pass a batch\n",
    "        assert not np.isnan(hist),'loss is NaN - you f**cked up'  # check nothing crashed\n",
    "        loss.append(hist) # keep track of loss\n",
    "        \n",
    "        cvae.save_weights(os.path.join(save_dir,'cvae_weights')) # SAVE WEIGHTS\n",
    "        np.save(os.path.join(save_dir,'cvae_loss.npy'),np.array(loss)) # Save loss\n",
    "        \n",
    "        if np.mod(i,10)==0:\n",
    "            batch_rsas = get_batch_rsas(data_dir,df,z_encoder,s_encoder,batch_size=(df['DX_GROUP'].values==1).sum())\n",
    "            cvae_dashboard() # plot training progress\n",
    "        "
   ]
  },
  {
   "cell_type": "code",
   "execution_count": null,
   "id": "1340b36c",
   "metadata": {
    "papermill": {
     "duration": null,
     "end_time": null,
     "exception": null,
     "start_time": null,
     "status": "pending"
    },
    "tags": []
   },
   "outputs": [],
   "source": []
  },
  {
   "cell_type": "code",
   "execution_count": null,
   "id": "db681f72",
   "metadata": {
    "papermill": {
     "duration": null,
     "end_time": null,
     "exception": null,
     "start_time": null,
     "status": "pending"
    },
    "tags": []
   },
   "outputs": [],
   "source": []
  },
  {
   "cell_type": "code",
   "execution_count": null,
   "id": "9834dff9",
   "metadata": {
    "papermill": {
     "duration": null,
     "end_time": null,
     "exception": null,
     "start_time": null,
     "status": "pending"
    },
    "tags": []
   },
   "outputs": [],
   "source": []
  },
  {
   "cell_type": "code",
   "execution_count": null,
   "id": "f8f07637",
   "metadata": {
    "papermill": {
     "duration": null,
     "end_time": null,
     "exception": null,
     "start_time": null,
     "status": "pending"
    },
    "tags": []
   },
   "outputs": [],
   "source": []
  },
  {
   "cell_type": "code",
   "execution_count": null,
   "id": "fd1ab727",
   "metadata": {
    "papermill": {
     "duration": null,
     "end_time": null,
     "exception": null,
     "start_time": null,
     "status": "pending"
    },
    "tags": []
   },
   "outputs": [],
   "source": []
  },
  {
   "cell_type": "code",
   "execution_count": null,
   "id": "38e29032",
   "metadata": {
    "papermill": {
     "duration": null,
     "end_time": null,
     "exception": null,
     "start_time": null,
     "status": "pending"
    },
    "tags": []
   },
   "outputs": [],
   "source": []
  },
  {
   "cell_type": "code",
   "execution_count": null,
   "id": "968d78f8",
   "metadata": {
    "papermill": {
     "duration": null,
     "end_time": null,
     "exception": null,
     "start_time": null,
     "status": "pending"
    },
    "tags": []
   },
   "outputs": [],
   "source": []
  },
  {
   "cell_type": "code",
   "execution_count": null,
   "id": "31f45747",
   "metadata": {
    "papermill": {
     "duration": null,
     "end_time": null,
     "exception": null,
     "start_time": null,
     "status": "pending"
    },
    "tags": []
   },
   "outputs": [],
   "source": []
  },
  {
   "cell_type": "code",
   "execution_count": null,
   "id": "eb20decb",
   "metadata": {
    "papermill": {
     "duration": null,
     "end_time": null,
     "exception": null,
     "start_time": null,
     "status": "pending"
    },
    "tags": []
   },
   "outputs": [],
   "source": []
  },
  {
   "cell_type": "code",
   "execution_count": null,
   "id": "91085585",
   "metadata": {
    "papermill": {
     "duration": null,
     "end_time": null,
     "exception": null,
     "start_time": null,
     "status": "pending"
    },
    "tags": []
   },
   "outputs": [],
   "source": []
  },
  {
   "cell_type": "code",
   "execution_count": null,
   "id": "4df61d2c",
   "metadata": {
    "papermill": {
     "duration": null,
     "end_time": null,
     "exception": null,
     "start_time": null,
     "status": "pending"
    },
    "tags": []
   },
   "outputs": [],
   "source": [
    "z_encoder.summary(line_length=100)"
   ]
  },
  {
   "cell_type": "code",
   "execution_count": null,
   "id": "589accc9",
   "metadata": {
    "papermill": {
     "duration": null,
     "end_time": null,
     "exception": null,
     "start_time": null,
     "status": "pending"
    },
    "tags": []
   },
   "outputs": [],
   "source": [
    "s_encoder.summary(line_length=100)"
   ]
  },
  {
   "cell_type": "code",
   "execution_count": null,
   "id": "3cb505f7",
   "metadata": {
    "papermill": {
     "duration": null,
     "end_time": null,
     "exception": null,
     "start_time": null,
     "status": "pending"
    },
    "tags": []
   },
   "outputs": [],
   "source": [
    "cvae.summary(line_length=100)"
   ]
  },
  {
   "cell_type": "code",
   "execution_count": null,
   "id": "c296d1d9",
   "metadata": {
    "papermill": {
     "duration": null,
     "end_time": null,
     "exception": null,
     "start_time": null,
     "status": "pending"
    },
    "tags": []
   },
   "outputs": [],
   "source": [
    "cvae_decoder.summary(line_length=100)"
   ]
  }
 ],
 "metadata": {
  "kernelspec": {
   "display_name": "Python 3",
   "language": "python",
   "name": "python3"
  },
  "language_info": {
   "codemirror_mode": {
    "name": "ipython",
    "version": 3
   },
   "file_extension": ".py",
   "mimetype": "text/x-python",
   "name": "python",
   "nbconvert_exporter": "python",
   "pygments_lexer": "ipython3",
   "version": "3.8.5"
  },
  "papermill": {
   "default_parameters": {},
   "duration": null,
   "end_time": null,
   "environment_variables": {},
   "exception": null,
   "input_path": "01-train-CVAE.ipynb",
   "output_path": "./papermill/papermill|01-train-CVAE|2021-10-20-06-24-18.ipynb",
   "parameters": {},
   "start_time": "2021-10-20T10:24:21.513620",
   "version": "2.3.3"
  }
 },
 "nbformat": 4,
 "nbformat_minor": 5
}