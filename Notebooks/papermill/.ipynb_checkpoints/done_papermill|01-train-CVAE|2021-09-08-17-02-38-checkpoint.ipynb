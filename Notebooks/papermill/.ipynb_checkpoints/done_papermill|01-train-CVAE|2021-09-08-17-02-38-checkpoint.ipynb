{
 "cells": [
  {
   "cell_type": "code",
   "execution_count": 1,
   "id": "bb379167",
   "metadata": {
    "execution": {
     "iopub.execute_input": "2021-09-08T21:02:39.918673Z",
     "iopub.status.busy": "2021-09-08T21:02:39.918333Z",
     "iopub.status.idle": "2021-09-08T21:02:39.920321Z",
     "shell.execute_reply": "2021-09-08T21:02:39.919982Z"
    },
    "papermill": {
     "duration": 0.020027,
     "end_time": "2021-09-08T21:02:39.920434",
     "exception": false,
     "start_time": "2021-09-08T21:02:39.900407",
     "status": "completed"
    },
    "tags": []
   },
   "outputs": [
    {
     "data": {
      "text/plain": [
       "'/mmfs1/data/aglinska/BC-fMRI-AE/Notebooks'"
      ]
     },
     "execution_count": 1,
     "metadata": {},
     "output_type": "execute_result"
    }
   ],
   "source": [
    "pwd"
   ]
  },
  {
   "cell_type": "code",
   "execution_count": 2,
   "id": "1af66ab4",
   "metadata": {
    "execution": {
     "iopub.execute_input": "2021-09-08T21:02:39.939413Z",
     "iopub.status.busy": "2021-09-08T21:02:39.939086Z",
     "iopub.status.idle": "2021-09-08T21:02:39.940935Z",
     "shell.execute_reply": "2021-09-08T21:02:39.940655Z"
    },
    "papermill": {
     "duration": 0.012027,
     "end_time": "2021-09-08T21:02:39.941005",
     "exception": false,
     "start_time": "2021-09-08T21:02:39.928978",
     "status": "completed"
    },
    "tags": []
   },
   "outputs": [
    {
     "name": "stdout",
     "output_type": "stream",
     "text": [
      "Interactive namespace is empty.\n"
     ]
    }
   ],
   "source": [
    "whos"
   ]
  },
  {
   "cell_type": "code",
   "execution_count": 3,
   "id": "c992f1e0",
   "metadata": {
    "execution": {
     "iopub.execute_input": "2021-09-08T21:02:39.960398Z",
     "iopub.status.busy": "2021-09-08T21:02:39.960065Z",
     "iopub.status.idle": "2021-09-08T21:02:40.081712Z",
     "shell.execute_reply": "2021-09-08T21:02:40.081438Z"
    },
    "papermill": {
     "duration": 0.132216,
     "end_time": "2021-09-08T21:02:40.081785",
     "exception": false,
     "start_time": "2021-09-08T21:02:39.949569",
     "status": "completed"
    },
    "tags": []
   },
   "outputs": [
    {
     "name": "stdout",
     "output_type": "stream",
     "text": [
      "              total        used        free      shared  buff/cache   available\r\n",
      "Mem:            187          15         168           3           4         167\r\n",
      "Swap:            11          10           1\r\n"
     ]
    }
   ],
   "source": [
    "!free -g"
   ]
  },
  {
   "cell_type": "code",
   "execution_count": 4,
   "id": "d5b8e00a",
   "metadata": {
    "execution": {
     "iopub.execute_input": "2021-09-08T21:02:40.104194Z",
     "iopub.status.busy": "2021-09-08T21:02:40.103864Z",
     "iopub.status.idle": "2021-09-08T21:02:40.115650Z",
     "shell.execute_reply": "2021-09-08T21:02:40.115367Z"
    },
    "papermill": {
     "duration": 0.023503,
     "end_time": "2021-09-08T21:02:40.115719",
     "exception": false,
     "start_time": "2021-09-08T21:02:40.092216",
     "status": "completed"
    },
    "tags": []
   },
   "outputs": [
    {
     "name": "stdout",
     "output_type": "stream",
     "text": [
      "Total memory: 15.78173828125\n",
      "Free memory: 15.7783203125\n",
      "Used memory: 0.00341796875\n"
     ]
    }
   ],
   "source": [
    "import nvidia_smi\n",
    "\n",
    "nvidia_smi.nvmlInit()\n",
    "\n",
    "handle = nvidia_smi.nvmlDeviceGetHandleByIndex(0)\n",
    "# card id 0 hardcoded here, there is also a call to get all available card ids, so we could iterate\n",
    "\n",
    "info = nvidia_smi.nvmlDeviceGetMemoryInfo(handle)\n",
    "\n",
    "print(\"Total memory:\", (info.total/1024/1024/1024))\n",
    "print(\"Free memory:\", (info.free/1024/1024/1024))\n",
    "print(\"Used memory:\", (info.used/1024/1024/1024))\n",
    "\n",
    "nvidia_smi.nvmlShutdown()"
   ]
  },
  {
   "cell_type": "code",
   "execution_count": 5,
   "id": "3d05e8ff",
   "metadata": {
    "execution": {
     "iopub.execute_input": "2021-09-08T21:02:40.136038Z",
     "iopub.status.busy": "2021-09-08T21:02:40.135716Z",
     "iopub.status.idle": "2021-09-08T21:02:41.778177Z",
     "shell.execute_reply": "2021-09-08T21:02:41.777853Z"
    },
    "papermill": {
     "duration": 1.653691,
     "end_time": "2021-09-08T21:02:41.778272",
     "exception": false,
     "start_time": "2021-09-08T21:02:40.124581",
     "status": "completed"
    },
    "tags": []
   },
   "outputs": [],
   "source": [
    "import numpy as np\n",
    "import pandas as pd\n",
    "import os\n",
    "from tqdm import tqdm\n",
    "from matplotlib import pyplot as plt\n",
    "\n",
    "from functools import partial\n",
    "from tqdm import tqdm\n",
    "tqdm = partial(tqdm, position=0, leave=True) "
   ]
  },
  {
   "cell_type": "code",
   "execution_count": 6,
   "id": "460a5c6e",
   "metadata": {
    "execution": {
     "iopub.execute_input": "2021-09-08T21:02:41.805600Z",
     "iopub.status.busy": "2021-09-08T21:02:41.805249Z",
     "iopub.status.idle": "2021-09-08T21:02:41.817811Z",
     "shell.execute_reply": "2021-09-08T21:02:41.817517Z"
    },
    "papermill": {
     "duration": 0.028477,
     "end_time": "2021-09-08T21:02:41.817887",
     "exception": false,
     "start_time": "2021-09-08T21:02:41.789410",
     "status": "completed"
    },
    "tags": []
   },
   "outputs": [],
   "source": [
    "df = pd.read_csv('../Data/ABIDE_df2.csv')\n",
    "df = df.iloc[~pd.isna(df['bids_folder']).values]\n",
    "data_dir = '../Assets/fc_mats/'"
   ]
  },
  {
   "cell_type": "code",
   "execution_count": 7,
   "id": "bacff07f",
   "metadata": {
    "execution": {
     "iopub.execute_input": "2021-09-08T21:02:41.838419Z",
     "iopub.status.busy": "2021-09-08T21:02:41.838090Z",
     "iopub.status.idle": "2021-09-08T21:02:41.842130Z",
     "shell.execute_reply": "2021-09-08T21:02:41.841850Z"
    },
    "papermill": {
     "duration": 0.015142,
     "end_time": "2021-09-08T21:02:41.842204",
     "exception": false,
     "start_time": "2021-09-08T21:02:41.827062",
     "status": "completed"
    },
    "tags": []
   },
   "outputs": [],
   "source": [
    "files = [file for file in os.listdir(data_dir) if file.endswith('.npz')]\n",
    "files.sort()"
   ]
  },
  {
   "cell_type": "code",
   "execution_count": 8,
   "id": "d128204d",
   "metadata": {
    "execution": {
     "iopub.execute_input": "2021-09-08T21:02:41.863113Z",
     "iopub.status.busy": "2021-09-08T21:02:41.862791Z",
     "iopub.status.idle": "2021-09-08T21:02:42.395393Z",
     "shell.execute_reply": "2021-09-08T21:02:42.395099Z"
    },
    "papermill": {
     "duration": 0.544032,
     "end_time": "2021-09-08T21:02:42.395467",
     "exception": false,
     "start_time": "2021-09-08T21:02:41.851435",
     "status": "completed"
    },
    "tags": []
   },
   "outputs": [
    {
     "name": "stdout",
     "output_type": "stream",
     "text": [
      "1.0\n"
     ]
    }
   ],
   "source": [
    "has_file = np.array([os.path.exists(os.path.join(data_dir,sub + '.npz')) for sub in df['bids_folder'].values])\n",
    "print(has_file.mean())\n",
    "\n",
    "assert has_file.mean()==1.0, 'fuck'"
   ]
  },
  {
   "cell_type": "code",
   "execution_count": null,
   "id": "62534ee3",
   "metadata": {
    "papermill": {
     "duration": null,
     "end_time": null,
     "exception": false,
     "start_time": "2021-09-08T21:02:42.404770",
     "status": "running"
    },
    "tags": []
   },
   "outputs": [],
   "source": [
    "%time\n",
    "# LOAD DATA\n",
    "n_subs = len(df)\n",
    "#n_subs = 200\n",
    "data = np.zeros((n_subs,48, 48, 48, 51))\n",
    "#for s in tqdm(range(len(df))):\n",
    "for s in range(n_subs):\n",
    "    sub = df['bids_folder'].values[s]\n",
    "    datum = np.load(os.path.join(data_dir,sub + '.npz'))['data']\n",
    "    data[s,:,:,:,:] = datum"
   ]
  },
  {
   "cell_type": "code",
   "execution_count": null,
   "id": "6034abac",
   "metadata": {
    "papermill": {
     "duration": null,
     "end_time": null,
     "exception": null,
     "start_time": null,
     "status": "pending"
    },
    "tags": []
   },
   "outputs": [],
   "source": [
    "df = df.iloc[0:n_subs]"
   ]
  },
  {
   "cell_type": "code",
   "execution_count": null,
   "id": "859db518",
   "metadata": {
    "papermill": {
     "duration": null,
     "end_time": null,
     "exception": null,
     "start_time": null,
     "status": "pending"
    },
    "tags": []
   },
   "outputs": [],
   "source": [
    "data.shape"
   ]
  },
  {
   "cell_type": "code",
   "execution_count": null,
   "id": "db38b6ba",
   "metadata": {
    "papermill": {
     "duration": null,
     "end_time": null,
     "exception": null,
     "start_time": null,
     "status": "pending"
    },
    "tags": []
   },
   "outputs": [],
   "source": [
    "def norm(mat):\n",
    "    normed = (mat - mat.min()) / (mat.max()-mat.min())\n",
    "    return normed "
   ]
  },
  {
   "cell_type": "code",
   "execution_count": null,
   "id": "994ddce1",
   "metadata": {
    "papermill": {
     "duration": null,
     "end_time": null,
     "exception": null,
     "start_time": null,
     "status": "pending"
    },
    "tags": []
   },
   "outputs": [],
   "source": [
    "%time\n",
    "data = np.array([norm(data[i,:,:,:,:]) for i in range(data.shape[0])])\n",
    "data[np.isnan(data)]=0"
   ]
  },
  {
   "cell_type": "code",
   "execution_count": null,
   "id": "bff0f48f",
   "metadata": {
    "papermill": {
     "duration": null,
     "end_time": null,
     "exception": null,
     "start_time": null,
     "status": "pending"
    },
    "tags": []
   },
   "outputs": [],
   "source": [
    "assert np.isnan(data).mean()==0.0, 'you f****d up'"
   ]
  },
  {
   "cell_type": "code",
   "execution_count": null,
   "id": "7e21ed8d",
   "metadata": {
    "papermill": {
     "duration": null,
     "end_time": null,
     "exception": null,
     "start_time": null,
     "status": "pending"
    },
    "tags": []
   },
   "outputs": [],
   "source": [
    "plt.subplot(2,2,1);plt.imshow(data[10,:,:,20,0]);plt.xticks([]);plt.yticks([]);\n",
    "plt.subplot(2,2,2);plt.imshow(data[np.random.randint(0,data.shape[0]),:,:,20,0]);plt.xticks([]);plt.yticks([]);\n",
    "plt.subplot(2,2,3);plt.imshow(data[np.random.randint(0,data.shape[0]),20,:,:,0]);plt.xticks([]);plt.yticks([]);\n",
    "plt.subplot(2,2,4);plt.imshow(data[np.random.randint(0,data.shape[0]),:,20,:,0]);plt.xticks([]);plt.yticks([]);"
   ]
  },
  {
   "cell_type": "code",
   "execution_count": null,
   "id": "24338767",
   "metadata": {
    "papermill": {
     "duration": null,
     "end_time": null,
     "exception": null,
     "start_time": null,
     "status": "pending"
    },
    "tags": []
   },
   "outputs": [],
   "source": [
    "%time\n",
    "from helper_funcs import *\n",
    "from importlib import reload\n",
    "import make_models\n",
    "reload(make_models)\n",
    "del make_models\n",
    "from make_models import *\n",
    "\n",
    "from IPython import display\n",
    "import sys\n",
    "from sklearn.decomposition import PCA\n",
    "import seaborn as sns"
   ]
  },
  {
   "cell_type": "code",
   "execution_count": null,
   "id": "c1097907",
   "metadata": {
    "papermill": {
     "duration": null,
     "end_time": null,
     "exception": null,
     "start_time": null,
     "status": "pending"
    },
    "tags": []
   },
   "outputs": [],
   "source": [
    "import tensorflow as tf\n",
    "tf.test.gpu_device_name()"
   ]
  },
  {
   "cell_type": "code",
   "execution_count": null,
   "id": "85603aa6",
   "metadata": {
    "papermill": {
     "duration": null,
     "end_time": null,
     "exception": null,
     "start_time": null,
     "status": "pending"
    },
    "tags": []
   },
   "outputs": [],
   "source": [
    "import make_models\n",
    "reload(make_models)\n",
    "from make_models import *\n",
    "batch_size = 16\n",
    "cvae, z_encoder, s_encoder, cvae_decoder = get_MRI_CCVAE_3D(input_shape=(48,48,48,51),\n",
    "                   latent_dim = 8, \n",
    "                   batch_size = batch_size, \n",
    "                   disentangle = True, \n",
    "                   gamma = 1,\n",
    "                   kernel_size = 3,\n",
    "                   filters = 8,\n",
    "                   intermediate_dim = 128,\n",
    "                   nlayers = 2,\n",
    "                   learning_rate=0.001)"
   ]
  },
  {
   "cell_type": "code",
   "execution_count": null,
   "id": "4e2040e8",
   "metadata": {
    "papermill": {
     "duration": null,
     "end_time": null,
     "exception": null,
     "start_time": null,
     "status": "pending"
    },
    "tags": []
   },
   "outputs": [],
   "source": [
    "patients = df['DX_GROUP'].values==1\n",
    "controls = df['DX_GROUP'].values==2\n",
    "\n",
    "#patient_data = data[patients,:,:,:,:]\n",
    "#control_data = data[controls,:,:,:,:]\n",
    "\n",
    "#patient_batch = patient_data[np.random.randint(low=0,high=patient_data.shape[0],size=32),:,:,:,:]\n",
    "#control_batch = control_data[np.random.randint(low=0,high=control_data.shape[0],size=32),:,:,:,:]"
   ]
  },
  {
   "cell_type": "code",
   "execution_count": null,
   "id": "631b8897",
   "metadata": {
    "papermill": {
     "duration": null,
     "end_time": null,
     "exception": null,
     "start_time": null,
     "status": "pending"
    },
    "tags": []
   },
   "outputs": [],
   "source": [
    "loss = list()"
   ]
  },
  {
   "cell_type": "code",
   "execution_count": null,
   "id": "cd4dced4",
   "metadata": {
    "papermill": {
     "duration": null,
     "end_time": null,
     "exception": null,
     "start_time": null,
     "status": "pending"
    },
    "tags": []
   },
   "outputs": [],
   "source": [
    "for i in tqdm(range(10000),position=0, leave=True):\n",
    "    \n",
    "    patient_batch = data[patients,:,:,:,:][np.random.randint(low=0,high=patients.sum(),size=batch_size),:,:,:,:]\n",
    "    control_batch = data[controls,:,:,:,:][np.random.randint(low=0,high=controls.sum(),size=batch_size),:,:,:,:]\n",
    "    hist = cvae.train_on_batch([patient_batch,control_batch])\n",
    "    assert not np.isnan(hist),'loss is NaN - you f**cked up'\n",
    "    \n",
    "    loss.append(hist)\n",
    "    display.clear_output(wait=True);\n",
    "    display.display(plt.gcf());\n",
    "    \n",
    "    #Organise figure\n",
    "    ncols = 4;nrows=5\n",
    "    plt.subplots(nrows,ncols,figsize=(15,15));\n",
    "    \n",
    "    # Plot loss\n",
    "    plt.subplot(nrows,ncols/2,1)\n",
    "    xs = np.arange(len(loss))+1\n",
    "    m,b = np.polyfit(xs,loss,deg=1)\n",
    "    plt.plot(loss)\n",
    "    plt.plot(xs, m*xs + b)\n",
    "    plt.title(hist)\n",
    "    \n",
    "    plt.subplot(nrows,ncols,5)\n",
    "    hb = 50\n",
    "    if len(loss)>hb:\n",
    "        plot_loss = loss[-hb::]\n",
    "        xs = np.arange(len(plot_loss))\n",
    "        m,b = np.polyfit(xs,plot_loss,deg=1)\n",
    "        plt.plot(plot_loss)\n",
    "        plt.plot(xs, m*xs + b)\n",
    "        #plt.title(hist)\n",
    "    plt.title(f'loss last {hb} it')\n",
    "    \n",
    "    # Plot recon\n",
    "    #prediction = cvae.predict(patient_batch)    \n",
    "    prediction = cvae.predict([patient_batch,control_batch])[0]\n",
    "    \n",
    "    plt.subplot(nrows,ncols,3)\n",
    "    plt.imshow(patient_batch[0,:,:,20,0])\n",
    "    plt.xticks([]);plt.yticks([]);plt.title('actual')\n",
    "    \n",
    "    plt.subplot(nrows,ncols,4)\n",
    "    plt.imshow(prediction[0,:,:,20,0])\n",
    "    plt.xticks([]);plt.yticks([]);plt.title('predicted')\n",
    "    \n",
    "    plt.subplot(nrows,ncols,8)\n",
    "    plt.hist(prediction[0,:,:,:,0].flatten(),alpha=.5)\n",
    "    plt.hist(patient_batch[0,:,:,:,0].flatten(),alpha=.5)\n",
    "    plt.legend(['predicted','actual']);plt.title('predicted')\n",
    "    \n",
    "    plt.subplot(nrows,ncols,6)\n",
    "    pc = PCA(n_components=2).fit_transform(z_encoder.predict(patient_batch)[2])\n",
    "    plt.scatter(pc[:,0],pc[:,1],s=100,alpha=.5);plt.title('batch latent rep. PCA')\n",
    "    \n",
    "    plt.subplot(nrows,ncols,7)\n",
    "    sns.heatmap(np.corrcoef(prediction.reshape(32,-1)),xticklabels=[],yticklabels=[])\n",
    "    plt.title('batch latent rep. RSA')\n",
    "    \n",
    "    plt.tight_layout()\n",
    "    #sys.stdout.flush()"
   ]
  },
  {
   "cell_type": "code",
   "execution_count": null,
   "id": "d02668ee",
   "metadata": {
    "papermill": {
     "duration": null,
     "end_time": null,
     "exception": null,
     "start_time": null,
     "status": "pending"
    },
    "tags": []
   },
   "outputs": [],
   "source": []
  },
  {
   "cell_type": "code",
   "execution_count": null,
   "id": "412cdf43",
   "metadata": {
    "papermill": {
     "duration": null,
     "end_time": null,
     "exception": null,
     "start_time": null,
     "status": "pending"
    },
    "tags": []
   },
   "outputs": [],
   "source": []
  },
  {
   "cell_type": "code",
   "execution_count": null,
   "id": "12af5a53",
   "metadata": {
    "papermill": {
     "duration": null,
     "end_time": null,
     "exception": null,
     "start_time": null,
     "status": "pending"
    },
    "tags": []
   },
   "outputs": [],
   "source": []
  }
 ],
 "metadata": {
  "kernelspec": {
   "display_name": "Python 3",
   "language": "python",
   "name": "python3"
  },
  "language_info": {
   "codemirror_mode": {
    "name": "ipython",
    "version": 3
   },
   "file_extension": ".py",
   "mimetype": "text/x-python",
   "name": "python",
   "nbconvert_exporter": "python",
   "pygments_lexer": "ipython3",
   "version": "3.8.5"
  },
  "papermill": {
   "default_parameters": {},
   "duration": null,
   "end_time": null,
   "environment_variables": {},
   "exception": null,
   "input_path": "01-train-CVAE.ipynb",
   "output_path": "./papermill/papermill|01-train-CVAE|2021-09-08-17-02-38.ipynb",
   "parameters": {},
   "start_time": "2021-09-08T21:02:39.149495",
   "version": "2.3.3"
  }
 },
 "nbformat": 4,
 "nbformat_minor": 5
}