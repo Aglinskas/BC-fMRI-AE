{
 "cells": [
  {
   "cell_type": "code",
   "execution_count": 1,
   "id": "0764578d",
   "metadata": {
    "execution": {
     "iopub.execute_input": "2021-10-06T12:35:54.783674Z",
     "iopub.status.busy": "2021-10-06T12:35:54.783324Z",
     "iopub.status.idle": "2021-10-06T12:35:54.785302Z",
     "shell.execute_reply": "2021-10-06T12:35:54.784969Z"
    },
    "papermill": {
     "duration": 0.021797,
     "end_time": "2021-10-06T12:35:54.785409",
     "exception": false,
     "start_time": "2021-10-06T12:35:54.763612",
     "status": "completed"
    },
    "tags": []
   },
   "outputs": [
    {
     "data": {
      "text/plain": [
       "'/mmfs1/data/aglinska/BC-fMRI-AE/Notebooks'"
      ]
     },
     "execution_count": 1,
     "metadata": {},
     "output_type": "execute_result"
    }
   ],
   "source": [
    "pwd"
   ]
  },
  {
   "cell_type": "code",
   "execution_count": 2,
   "id": "8a2fdc86",
   "metadata": {
    "execution": {
     "iopub.execute_input": "2021-10-06T12:35:54.804380Z",
     "iopub.status.busy": "2021-10-06T12:35:54.804062Z",
     "iopub.status.idle": "2021-10-06T12:35:54.806000Z",
     "shell.execute_reply": "2021-10-06T12:35:54.805722Z"
    },
    "papermill": {
     "duration": 0.012042,
     "end_time": "2021-10-06T12:35:54.806075",
     "exception": false,
     "start_time": "2021-10-06T12:35:54.794033",
     "status": "completed"
    },
    "tags": []
   },
   "outputs": [
    {
     "name": "stdout",
     "output_type": "stream",
     "text": [
      "Interactive namespace is empty.\n"
     ]
    }
   ],
   "source": [
    "whos"
   ]
  },
  {
   "cell_type": "code",
   "execution_count": 3,
   "id": "250126c7",
   "metadata": {
    "execution": {
     "iopub.execute_input": "2021-10-06T12:35:54.827988Z",
     "iopub.status.busy": "2021-10-06T12:35:54.827669Z",
     "iopub.status.idle": "2021-10-06T12:35:54.957078Z",
     "shell.execute_reply": "2021-10-06T12:35:54.957330Z"
    },
    "papermill": {
     "duration": 0.142819,
     "end_time": "2021-10-06T12:35:54.957418",
     "exception": false,
     "start_time": "2021-10-06T12:35:54.814599",
     "status": "completed"
    },
    "tags": []
   },
   "outputs": [
    {
     "name": "stdout",
     "output_type": "stream",
     "text": [
      "              total        used        free      shared  buff/cache   available\r\n",
      "Mem:            187           2         183           0           1         183\r\n",
      "Swap:            11           0          11\r\n"
     ]
    }
   ],
   "source": [
    "!free -g"
   ]
  },
  {
   "cell_type": "code",
   "execution_count": 4,
   "id": "20b2cdb9",
   "metadata": {
    "execution": {
     "iopub.execute_input": "2021-10-06T12:35:54.981564Z",
     "iopub.status.busy": "2021-10-06T12:35:54.979894Z",
     "iopub.status.idle": "2021-10-06T12:35:55.288774Z",
     "shell.execute_reply": "2021-10-06T12:35:55.289035Z"
    },
    "papermill": {
     "duration": 0.32,
     "end_time": "2021-10-06T12:35:55.289125",
     "exception": false,
     "start_time": "2021-10-06T12:35:54.969125",
     "status": "completed"
    },
    "tags": []
   },
   "outputs": [
    {
     "name": "stdout",
     "output_type": "stream",
     "text": [
      "Wed Oct  6 08:35:55 2021       \r\n",
      "+-----------------------------------------------------------------------------+\r\n",
      "| NVIDIA-SMI 450.51.05    Driver Version: 450.51.05    CUDA Version: 11.0     |\r\n",
      "|-------------------------------+----------------------+----------------------+\r\n",
      "| GPU  Name        Persistence-M| Bus-Id        Disp.A | Volatile Uncorr. ECC |\r\n",
      "| Fan  Temp  Perf  Pwr:Usage/Cap|         Memory-Usage | GPU-Util  Compute M. |\r\n",
      "|                               |                      |               MIG M. |\r\n",
      "|===============================+======================+======================|\r\n",
      "|   0  Tesla V100-SXM2...  On   | 00000000:18:00.0 Off |                    0 |\r\n",
      "| N/A   34C    P0    43W / 300W |      0MiB / 16160MiB |      0%      Default |\r\n",
      "|                               |                      |                  N/A |\r\n",
      "+-------------------------------+----------------------+----------------------+\r\n"
     ]
    },
    {
     "name": "stdout",
     "output_type": "stream",
     "text": [
      "|   1  Tesla V100-SXM2...  On   | 00000000:3B:00.0 Off |                    0 |\r\n",
      "| N/A   31C    P0    41W / 300W |      0MiB / 16160MiB |      0%      Default |\r\n",
      "|                               |                      |                  N/A |\r\n",
      "+-------------------------------+----------------------+----------------------+\r\n",
      "|   2  Tesla V100-SXM2...  On   | 00000000:86:00.0 Off |                    0 |\r\n",
      "| N/A   32C    P0    43W / 300W |      0MiB / 16160MiB |      0%      Default |\r\n",
      "|                               |                      |                  N/A |\r\n",
      "+-------------------------------+----------------------+----------------------+\r\n",
      "|   3  Tesla V100-SXM2...  On   | 00000000:AF:00.0 Off |                    0 |\r\n",
      "| N/A   33C    P0    40W / 300W |      0MiB / 16160MiB |      0%      Default |\r\n",
      "|                               |                      |                  N/A |\r\n",
      "+-------------------------------+----------------------+----------------------+\r\n",
      "                                                                               \r\n",
      "+-----------------------------------------------------------------------------+\r\n",
      "| Processes:                                                                  |\r\n",
      "|  GPU   GI   CI        PID   Type   Process name                  GPU Memory |\r\n",
      "|        ID   ID                                                   Usage      |\r\n",
      "|=============================================================================|\r\n",
      "|  No running processes found                                                 |\r\n",
      "+-----------------------------------------------------------------------------+\r\n"
     ]
    }
   ],
   "source": [
    "!nvidia-smi"
   ]
  },
  {
   "cell_type": "code",
   "execution_count": 5,
   "id": "9b61fe59",
   "metadata": {
    "execution": {
     "iopub.execute_input": "2021-10-06T12:35:55.311151Z",
     "iopub.status.busy": "2021-10-06T12:35:55.310823Z",
     "iopub.status.idle": "2021-10-06T12:35:55.926591Z",
     "shell.execute_reply": "2021-10-06T12:35:55.926851Z"
    },
    "papermill": {
     "duration": 0.627752,
     "end_time": "2021-10-06T12:35:55.926934",
     "exception": false,
     "start_time": "2021-10-06T12:35:55.299182",
     "status": "completed"
    },
    "tags": []
   },
   "outputs": [
    {
     "name": "stdout",
     "output_type": "stream",
     "text": [
      "CVAE_2021-10-06 08:35:55.310173\n"
     ]
    }
   ],
   "source": [
    "import os\n",
    "from datetime import datetime; now = datetime.now\n",
    "\n",
    "analysis_name = 'CVAE_'+str(now())\n",
    "save_dir = os.path.join('../Assets/tf_weights',analysis_name)\n",
    "if not os.path.exists(save_dir):\n",
    "    os.mkdir(save_dir)\n",
    "    \n",
    "print(analysis_name)"
   ]
  },
  {
   "cell_type": "code",
   "execution_count": 6,
   "id": "15b8eceb",
   "metadata": {
    "execution": {
     "iopub.execute_input": "2021-10-06T12:35:55.948706Z",
     "iopub.status.busy": "2021-10-06T12:35:55.948382Z",
     "iopub.status.idle": "2021-10-06T12:35:55.967412Z",
     "shell.execute_reply": "2021-10-06T12:35:55.967129Z"
    },
    "papermill": {
     "duration": 0.031226,
     "end_time": "2021-10-06T12:35:55.967483",
     "exception": false,
     "start_time": "2021-10-06T12:35:55.936257",
     "status": "completed"
    },
    "tags": []
   },
   "outputs": [
    {
     "name": "stdout",
     "output_type": "stream",
     "text": [
      "Total memory: 15.78173828125\n",
      "Free memory: 15.7816162109375\n",
      "Used memory: 0.0001220703125\n"
     ]
    }
   ],
   "source": [
    "# CHECK GPU\n",
    "import nvidia_smi\n",
    "try:\n",
    "    nvidia_smi.nvmlInit()\n",
    "\n",
    "    handle = nvidia_smi.nvmlDeviceGetHandleByIndex(0)\n",
    "    # card id 0 hardcoded here, there is also a call to get all available card ids, so we could iterate\n",
    "\n",
    "    info = nvidia_smi.nvmlDeviceGetMemoryInfo(handle)\n",
    "\n",
    "    print(\"Total memory:\", (info.total/1024/1024/1024))\n",
    "    print(\"Free memory:\", (info.free/1024/1024/1024))\n",
    "    print(\"Used memory:\", (info.used/1024/1024/1024))\n",
    "\n",
    "    nvidia_smi.nvmlShutdown()\n",
    "except:\n",
    "    pass"
   ]
  },
  {
   "cell_type": "code",
   "execution_count": 7,
   "id": "4ee13742",
   "metadata": {
    "execution": {
     "iopub.execute_input": "2021-10-06T12:35:55.988485Z",
     "iopub.status.busy": "2021-10-06T12:35:55.988164Z",
     "iopub.status.idle": "2021-10-06T12:35:55.989854Z",
     "shell.execute_reply": "2021-10-06T12:35:55.989579Z"
    },
    "papermill": {
     "duration": 0.012683,
     "end_time": "2021-10-06T12:35:55.989923",
     "exception": false,
     "start_time": "2021-10-06T12:35:55.977240",
     "status": "completed"
    },
    "tags": []
   },
   "outputs": [],
   "source": [
    "## SET UP"
   ]
  },
  {
   "cell_type": "code",
   "execution_count": 8,
   "id": "7093f8a3",
   "metadata": {
    "execution": {
     "iopub.execute_input": "2021-10-06T12:35:56.011658Z",
     "iopub.status.busy": "2021-10-06T12:35:56.011336Z",
     "iopub.status.idle": "2021-10-06T12:36:15.158372Z",
     "shell.execute_reply": "2021-10-06T12:36:15.158057Z"
    },
    "papermill": {
     "duration": 19.158924,
     "end_time": "2021-10-06T12:36:15.158464",
     "exception": false,
     "start_time": "2021-10-06T12:35:55.999540",
     "status": "completed"
    },
    "tags": []
   },
   "outputs": [],
   "source": [
    "import numpy as np\n",
    "import pandas as pd\n",
    "from tqdm import tqdm\n",
    "from matplotlib import pyplot as plt\n",
    "\n",
    "from functools import partial\n",
    "from tqdm import tqdm\n",
    "from umap import UMAP\n",
    "tqdm = partial(tqdm, position=0, leave=True) "
   ]
  },
  {
   "cell_type": "code",
   "execution_count": 9,
   "id": "df523a8c",
   "metadata": {
    "execution": {
     "iopub.execute_input": "2021-10-06T12:36:15.187955Z",
     "iopub.status.busy": "2021-10-06T12:36:15.187631Z",
     "iopub.status.idle": "2021-10-06T12:36:15.199501Z",
     "shell.execute_reply": "2021-10-06T12:36:15.199754Z"
    },
    "papermill": {
     "duration": 0.027556,
     "end_time": "2021-10-06T12:36:15.199846",
     "exception": false,
     "start_time": "2021-10-06T12:36:15.172290",
     "status": "completed"
    },
    "tags": []
   },
   "outputs": [],
   "source": [
    "df = pd.read_csv('../Data/ABIDE_df2.csv')\n",
    "df = df.iloc[~pd.isna(df['bids_folder']).values]\n",
    "data_dir = '../Assets/fc_mats_32smooth_new/'"
   ]
  },
  {
   "cell_type": "code",
   "execution_count": 10,
   "id": "6603b01e",
   "metadata": {
    "execution": {
     "iopub.execute_input": "2021-10-06T12:36:15.221393Z",
     "iopub.status.busy": "2021-10-06T12:36:15.221070Z",
     "iopub.status.idle": "2021-10-06T12:36:15.226943Z",
     "shell.execute_reply": "2021-10-06T12:36:15.226620Z"
    },
    "papermill": {
     "duration": 0.0177,
     "end_time": "2021-10-06T12:36:15.227019",
     "exception": false,
     "start_time": "2021-10-06T12:36:15.209319",
     "status": "completed"
    },
    "tags": []
   },
   "outputs": [
    {
     "data": {
      "text/plain": [
       "['sub-CMUa0050642.npy',\n",
       " 'sub-CMUa0050646.npy',\n",
       " 'sub-CMUa0050647.npy',\n",
       " 'sub-CMUa0050649.npy',\n",
       " 'sub-CMUa0050653.npy']"
      ]
     },
     "execution_count": 10,
     "metadata": {},
     "output_type": "execute_result"
    }
   ],
   "source": [
    "files = [file for file in os.listdir(data_dir) if file.endswith('.npy')]\n",
    "files.sort()\n",
    "files[0:5]"
   ]
  },
  {
   "cell_type": "code",
   "execution_count": 11,
   "id": "ff938355",
   "metadata": {
    "execution": {
     "iopub.execute_input": "2021-10-06T12:36:15.257918Z",
     "iopub.status.busy": "2021-10-06T12:36:15.257588Z",
     "iopub.status.idle": "2021-10-06T12:36:15.960575Z",
     "shell.execute_reply": "2021-10-06T12:36:15.960292Z"
    },
    "papermill": {
     "duration": 0.72365,
     "end_time": "2021-10-06T12:36:15.960649",
     "exception": false,
     "start_time": "2021-10-06T12:36:15.236999",
     "status": "completed"
    },
    "tags": []
   },
   "outputs": [
    {
     "name": "stdout",
     "output_type": "stream",
     "text": [
      "1048\n"
     ]
    },
    {
     "name": "stdout",
     "output_type": "stream",
     "text": [
      "1.0\n"
     ]
    }
   ],
   "source": [
    "subs_with_matFiles = [file.split('.')[0] for file in files]\n",
    "df = df.iloc[np.array([sub in subs_with_matFiles for sub in df['bids_folder'].values])]\n",
    "n_subs = len(df)\n",
    "print(n_subs)\n",
    "\n",
    "# Check if subject has .nii file\n",
    "has_file = np.array([os.path.exists(os.path.join(data_dir,sub + '.npy')) for sub in df['bids_folder'].values])\n",
    "print(has_file.mean())\n",
    "assert has_file.mean()==1.0, 'fuck'\n",
    "\n",
    "assert len(subs_with_matFiles)==len(df),'no'\n",
    "df = df.sort_values(by='bids_folder')\n",
    "assert all([subs_with_matFiles[i]==df['bids_folder'].values[i] for i in range(n_subs)]), 'out of order'\n",
    "\n",
    "df.index = np.arange(n_subs)"
   ]
  },
  {
   "cell_type": "code",
   "execution_count": 12,
   "id": "148174c9",
   "metadata": {
    "execution": {
     "iopub.execute_input": "2021-10-06T12:36:15.983792Z",
     "iopub.status.busy": "2021-10-06T12:36:15.983463Z",
     "iopub.status.idle": "2021-10-06T12:36:16.172735Z",
     "shell.execute_reply": "2021-10-06T12:36:16.172454Z"
    },
    "papermill": {
     "duration": 0.20196,
     "end_time": "2021-10-06T12:36:16.172807",
     "exception": false,
     "start_time": "2021-10-06T12:36:15.970847",
     "status": "completed"
    },
    "tags": []
   },
   "outputs": [
    {
     "name": "stdout",
     "output_type": "stream",
     "text": [
      "CPU times: user 46.3 ms, sys: 9.04 ms, total: 55.4 ms\n",
      "Wall time: 187 ms\n"
     ]
    },
    {
     "data": {
      "text/plain": [
       "<module 'tensorflow' from '/data/aglinska/anaconda3/lib/python3.8/site-packages/tensorflow/__init__.py'>"
      ]
     },
     "execution_count": 12,
     "metadata": {},
     "output_type": "execute_result"
    }
   ],
   "source": [
    "%%time\n",
    "from importlib import reload\n",
    "import helper_funcs;reload(helper_funcs);from helper_funcs import *\n",
    "del helper_funcs\n",
    "import make_models;reload(make_models);from make_models import *\n",
    "del make_models\n",
    "\n",
    "from IPython import display\n",
    "import sys\n",
    "from sklearn.decomposition import PCA\n",
    "import seaborn as sns\n",
    "\n",
    "import tensorflow as tf\n",
    "reload(tf)"
   ]
  },
  {
   "cell_type": "code",
   "execution_count": 13,
   "id": "1ea34653",
   "metadata": {
    "execution": {
     "iopub.execute_input": "2021-10-06T12:36:18.800863Z",
     "iopub.status.busy": "2021-10-06T12:36:18.800491Z",
     "iopub.status.idle": "2021-10-06T12:36:18.802105Z",
     "shell.execute_reply": "2021-10-06T12:36:18.802371Z"
    },
    "papermill": {
     "duration": 2.618821,
     "end_time": "2021-10-06T12:36:18.802485",
     "exception": false,
     "start_time": "2021-10-06T12:36:16.183664",
     "status": "completed"
    },
    "tags": []
   },
   "outputs": [
    {
     "data": {
      "text/plain": [
       "'/device:GPU:0'"
      ]
     },
     "execution_count": 13,
     "metadata": {},
     "output_type": "execute_result"
    }
   ],
   "source": [
    "import tensorflow as tf\n",
    "tf.test.gpu_device_name()"
   ]
  },
  {
   "cell_type": "code",
   "execution_count": 14,
   "id": "34cba3c5",
   "metadata": {
    "execution": {
     "iopub.execute_input": "2021-10-06T12:36:18.829099Z",
     "iopub.status.busy": "2021-10-06T12:36:18.828766Z",
     "iopub.status.idle": "2021-10-06T12:36:20.193337Z",
     "shell.execute_reply": "2021-10-06T12:36:20.193614Z"
    },
    "papermill": {
     "duration": 1.378692,
     "end_time": "2021-10-06T12:36:20.193751",
     "exception": false,
     "start_time": "2021-10-06T12:36:18.815059",
     "status": "completed"
    },
    "tags": []
   },
   "outputs": [],
   "source": [
    "data_dir = '../Assets/fc_mats_32smooth_new'\n",
    "data_loader = cvae_data_loader(data_dir=data_dir, df=df, batch_size=32)\n",
    "batch_asd,batch_td,batch_df = data_loader.get_batch()"
   ]
  },
  {
   "cell_type": "code",
   "execution_count": 15,
   "id": "6008649f",
   "metadata": {
    "execution": {
     "iopub.execute_input": "2021-10-06T12:36:20.220066Z",
     "iopub.status.busy": "2021-10-06T12:36:20.219734Z",
     "iopub.status.idle": "2021-10-06T12:36:20.221018Z",
     "shell.execute_reply": "2021-10-06T12:36:20.221287Z"
    },
    "papermill": {
     "duration": 0.014926,
     "end_time": "2021-10-06T12:36:20.221378",
     "exception": false,
     "start_time": "2021-10-06T12:36:20.206452",
     "status": "completed"
    },
    "tags": []
   },
   "outputs": [],
   "source": [
    "data_size = np.hstack((n_subs,batch_asd.shape[1:]))"
   ]
  },
  {
   "cell_type": "code",
   "execution_count": 16,
   "id": "2fc0b889",
   "metadata": {
    "execution": {
     "iopub.execute_input": "2021-10-06T12:36:20.246600Z",
     "iopub.status.busy": "2021-10-06T12:36:20.246267Z",
     "iopub.status.idle": "2021-10-06T12:36:20.914063Z",
     "shell.execute_reply": "2021-10-06T12:36:20.914351Z"
    },
    "papermill": {
     "duration": 0.68207,
     "end_time": "2021-10-06T12:36:20.914485",
     "exception": false,
     "start_time": "2021-10-06T12:36:20.232415",
     "status": "completed"
    },
    "tags": []
   },
   "outputs": [],
   "source": [
    "import make_models;reload(make_models);from make_models import *\n",
    "batch_size = 16\n",
    "\n",
    "cvae, z_encoder, s_encoder, cvae_decoder = get_fMRI_CVAE_4D(input_shape=tuple(data_size[1::]),\n",
    "                                                             latent_dim=16,\n",
    "                                                             beta=1,\n",
    "                                                             gamma=1,\n",
    "                                                             disentangle=True,\n",
    "                                                             bias=True,\n",
    "                                                             batch_size = batch_size,\n",
    "                                                             kernel_size = 3,\n",
    "                                                             filters = 8,\n",
    "                                                             intermediate_dim = 128,\n",
    "                                                             nlayers = 5,\n",
    "                                                             learning_rate=0.001,\n",
    "                                                             opt=None)"
   ]
  },
  {
   "cell_type": "code",
   "execution_count": 17,
   "id": "698f5575",
   "metadata": {
    "execution": {
     "iopub.execute_input": "2021-10-06T12:36:20.939463Z",
     "iopub.status.busy": "2021-10-06T12:36:20.939139Z",
     "iopub.status.idle": "2021-10-06T12:36:20.940848Z",
     "shell.execute_reply": "2021-10-06T12:36:20.941116Z"
    },
    "papermill": {
     "duration": 0.01538,
     "end_time": "2021-10-06T12:36:20.941205",
     "exception": false,
     "start_time": "2021-10-06T12:36:20.925825",
     "status": "completed"
    },
    "tags": []
   },
   "outputs": [
    {
     "data": {
      "text/plain": [
       "(1048, 32, 32, 32, 51)"
      ]
     },
     "execution_count": 17,
     "metadata": {},
     "output_type": "execute_result"
    }
   ],
   "source": [
    "tuple(data_size)"
   ]
  },
  {
   "cell_type": "code",
   "execution_count": 18,
   "id": "17824174",
   "metadata": {
    "execution": {
     "iopub.execute_input": "2021-10-06T12:36:20.966022Z",
     "iopub.status.busy": "2021-10-06T12:36:20.965697Z",
     "iopub.status.idle": "2021-10-06T12:36:20.967219Z",
     "shell.execute_reply": "2021-10-06T12:36:20.966936Z"
    },
    "papermill": {
     "duration": 0.014482,
     "end_time": "2021-10-06T12:36:20.967291",
     "exception": false,
     "start_time": "2021-10-06T12:36:20.952809",
     "status": "completed"
    },
    "tags": []
   },
   "outputs": [],
   "source": [
    "loss = list()\n",
    "c_sim = list()\n",
    "all_rsas = list()"
   ]
  },
  {
   "cell_type": "code",
   "execution_count": 19,
   "id": "247d1ec9",
   "metadata": {
    "execution": {
     "iopub.execute_input": "2021-10-06T12:36:20.991752Z",
     "iopub.status.busy": "2021-10-06T12:36:20.991435Z",
     "iopub.status.idle": "2021-10-06T12:36:20.992913Z",
     "shell.execute_reply": "2021-10-06T12:36:20.993174Z"
    },
    "papermill": {
     "duration": 0.014864,
     "end_time": "2021-10-06T12:36:20.993258",
     "exception": false,
     "start_time": "2021-10-06T12:36:20.978394",
     "status": "completed"
    },
    "tags": []
   },
   "outputs": [],
   "source": [
    "data_loader = cvae_data_loader(data_dir=data_dir, df=df, batch_size=batch_size)"
   ]
  },
  {
   "cell_type": "code",
   "execution_count": 20,
   "id": "9f844bf8",
   "metadata": {
    "execution": {
     "iopub.execute_input": "2021-10-06T12:36:21.020658Z",
     "iopub.status.busy": "2021-10-06T12:36:21.020328Z"
    },
    "papermill": {
     "duration": null,
     "end_time": null,
     "exception": false,
     "start_time": "2021-10-06T12:36:21.004286",
     "status": "running"
    },
    "tags": []
   },
   "outputs": [
    {
     "name": "stderr",
     "output_type": "stream",
     "text": [
      "\r",
      "  0%|          | 0/100 [00:00<?, ?it/s]"
     ]
    },
    {
     "name": "stderr",
     "output_type": "stream",
     "text": [
      "\n"
     ]
    },
    {
     "name": "stderr",
     "output_type": "stream",
     "text": [
      "\r",
      "  0%|          | 0/32 [00:00<?, ?it/s]"
     ]
    },
    {
     "name": "stderr",
     "output_type": "stream",
     "text": [
      "\u001b[A"
     ]
    },
    {
     "name": "stderr",
     "output_type": "stream",
     "text": [
      "/data/aglinska/anaconda3/lib/python3.8/site-packages/numpy/lib/function_base.py:2534: RuntimeWarning: invalid value encountered in true_divide\n",
      "  c /= stddev[:, None]\n",
      "/data/aglinska/anaconda3/lib/python3.8/site-packages/numpy/lib/function_base.py:2535: RuntimeWarning: invalid value encountered in true_divide\n",
      "  c /= stddev[None, :]\n"
     ]
    }
   ],
   "source": [
    "import make_models;reload(make_models);from make_models import *\n",
    "import helper_funcs;reload(helper_funcs);from helper_funcs import *\n",
    "\n",
    "for epoch in tqdm(range(100),position=0, leave=True):\n",
    "    for i in tqdm(range(data_loader.n_batches),position=1, leave=False):\n",
    "        \n",
    "        patient_batch,control_batch,batch_df = data_loader.get_batch() # Get a batch\n",
    "        hist = cvae.train_on_batch([patient_batch,control_batch]) # pass a batch\n",
    "        assert not np.isnan(hist),'loss is NaN - you f**cked up'  # check nothing crashed\n",
    "        loss.append(hist) # keep track of loss\n",
    "        \n",
    "        cvae.save_weights(os.path.join(save_dir,'cvae_weights')) # SAVE WEIGHTS\n",
    "        np.save(os.path.join(save_dir,'cvae_loss.npy'),np.array(loss)) # Save loss\n",
    "        \n",
    "        if np.mod(i,10)==0:\n",
    "            batch_rsas = get_batch_rsas(data_dir,df,z_encoder,s_encoder,batch_size=(df['DX_GROUP'].values==1).sum())\n",
    "        \n",
    "        c_sim,all_rsas = cvae_dashboard(data_loader.epoch,\n",
    "                                        data_loader.b,\n",
    "                                        i,\n",
    "                                        cvae,z_encoder,\n",
    "                                        s_encoder,\n",
    "                                        loss,\n",
    "                                        all_rsas,\n",
    "                                        c_sim,\n",
    "                                        df,\n",
    "                                        patient_batch,\n",
    "                                        control_batch,\n",
    "                                        batch_rsas,\n",
    "                                        red='UMAP') # plot training progress\n",
    "        "
   ]
  },
  {
   "cell_type": "code",
   "execution_count": null,
   "id": "5220b32c",
   "metadata": {
    "papermill": {
     "duration": null,
     "end_time": null,
     "exception": null,
     "start_time": null,
     "status": "pending"
    },
    "tags": []
   },
   "outputs": [],
   "source": []
  },
  {
   "cell_type": "code",
   "execution_count": null,
   "id": "84c820b5",
   "metadata": {
    "papermill": {
     "duration": null,
     "end_time": null,
     "exception": null,
     "start_time": null,
     "status": "pending"
    },
    "tags": []
   },
   "outputs": [],
   "source": []
  },
  {
   "cell_type": "code",
   "execution_count": null,
   "id": "817bd2b3",
   "metadata": {
    "papermill": {
     "duration": null,
     "end_time": null,
     "exception": null,
     "start_time": null,
     "status": "pending"
    },
    "tags": []
   },
   "outputs": [],
   "source": []
  },
  {
   "cell_type": "code",
   "execution_count": null,
   "id": "8e59b156",
   "metadata": {
    "papermill": {
     "duration": null,
     "end_time": null,
     "exception": null,
     "start_time": null,
     "status": "pending"
    },
    "tags": []
   },
   "outputs": [],
   "source": []
  }
 ],
 "metadata": {
  "kernelspec": {
   "display_name": "Python 3",
   "language": "python",
   "name": "python3"
  },
  "language_info": {
   "codemirror_mode": {
    "name": "ipython",
    "version": 3
   },
   "file_extension": ".py",
   "mimetype": "text/x-python",
   "name": "python",
   "nbconvert_exporter": "python",
   "pygments_lexer": "ipython3",
   "version": "3.8.5"
  },
  "papermill": {
   "default_parameters": {},
   "duration": null,
   "end_time": null,
   "environment_variables": {},
   "exception": null,
   "input_path": "01-train-CVAE.ipynb",
   "output_path": "./papermill/papermill|01-train-CVAE|2021-10-06-08-35-49.ipynb",
   "parameters": {},
   "start_time": "2021-10-06T12:35:51.701632",
   "version": "2.3.3"
  }
 },
 "nbformat": 4,
 "nbformat_minor": 5
}