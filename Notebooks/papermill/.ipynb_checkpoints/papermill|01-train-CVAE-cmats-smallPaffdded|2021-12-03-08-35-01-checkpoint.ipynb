{
 "cells": [
  {
   "cell_type": "code",
   "execution_count": 1,
   "id": "44416e91",
   "metadata": {
    "execution": {
     "iopub.execute_input": "2021-12-03T13:35:05.863410Z",
     "iopub.status.busy": "2021-12-03T13:35:05.863066Z",
     "iopub.status.idle": "2021-12-03T13:35:05.864701Z",
     "shell.execute_reply": "2021-12-03T13:35:05.864977Z"
    },
    "papermill": {
     "duration": 0.027664,
     "end_time": "2021-12-03T13:35:05.865133",
     "exception": false,
     "start_time": "2021-12-03T13:35:05.837469",
     "status": "completed"
    },
    "tags": []
   },
   "outputs": [
    {
     "data": {
      "text/plain": [
       "'/mmfs1/data/aglinska/BC-fMRI-AE/Notebooks'"
      ]
     },
     "execution_count": 1,
     "metadata": {},
     "output_type": "execute_result"
    }
   ],
   "source": [
    "pwd"
   ]
  },
  {
   "cell_type": "code",
   "execution_count": 2,
   "id": "7004e97f",
   "metadata": {
    "execution": {
     "iopub.execute_input": "2021-12-03T13:35:05.901080Z",
     "iopub.status.busy": "2021-12-03T13:35:05.900749Z",
     "iopub.status.idle": "2021-12-03T13:35:05.902301Z",
     "shell.execute_reply": "2021-12-03T13:35:05.902022Z"
    },
    "papermill": {
     "duration": 0.019064,
     "end_time": "2021-12-03T13:35:05.902371",
     "exception": false,
     "start_time": "2021-12-03T13:35:05.883307",
     "status": "completed"
    },
    "tags": []
   },
   "outputs": [],
   "source": [
    "import os\n",
    "os.environ['CUDA_VISIBLE_DEVICES']='2'"
   ]
  },
  {
   "cell_type": "code",
   "execution_count": 3,
   "id": "829d4533",
   "metadata": {
    "execution": {
     "iopub.execute_input": "2021-12-03T13:35:05.936074Z",
     "iopub.status.busy": "2021-12-03T13:35:05.935747Z",
     "iopub.status.idle": "2021-12-03T13:35:06.057905Z",
     "shell.execute_reply": "2021-12-03T13:35:06.057611Z"
    },
    "papermill": {
     "duration": 0.139871,
     "end_time": "2021-12-03T13:35:06.057978",
     "exception": false,
     "start_time": "2021-12-03T13:35:05.918107",
     "status": "completed"
    },
    "tags": []
   },
   "outputs": [
    {
     "name": "stdout",
     "output_type": "stream",
     "text": [
      "              total        used        free      shared  buff/cache   available\r\n",
      "Mem:            187           6         178           1           3         178\r\n",
      "Swap:            11           0          11\r\n"
     ]
    }
   ],
   "source": [
    "!free -g"
   ]
  },
  {
   "cell_type": "code",
   "execution_count": 4,
   "id": "c2fc7ef1",
   "metadata": {
    "execution": {
     "iopub.execute_input": "2021-12-03T13:35:06.092523Z",
     "iopub.status.busy": "2021-12-03T13:35:06.092200Z",
     "iopub.status.idle": "2021-12-03T13:35:06.390758Z",
     "shell.execute_reply": "2021-12-03T13:35:06.390480Z"
    },
    "papermill": {
     "duration": 0.316863,
     "end_time": "2021-12-03T13:35:06.390843",
     "exception": false,
     "start_time": "2021-12-03T13:35:06.073980",
     "status": "completed"
    },
    "tags": []
   },
   "outputs": [
    {
     "name": "stdout",
     "output_type": "stream",
     "text": [
      "Fri Dec  3 08:35:06 2021       \r\n",
      "+-----------------------------------------------------------------------------+\r\n",
      "| NVIDIA-SMI 450.51.05    Driver Version: 450.51.05    CUDA Version: 11.0     |\r\n",
      "|-------------------------------+----------------------+----------------------+\r\n",
      "| GPU  Name        Persistence-M| Bus-Id        Disp.A | Volatile Uncorr. ECC |\r\n",
      "| Fan  Temp  Perf  Pwr:Usage/Cap|         Memory-Usage | GPU-Util  Compute M. |\r\n",
      "|                               |                      |               MIG M. |\r\n",
      "|===============================+======================+======================|\r\n",
      "|   0  Tesla V100-SXM2...  On   | 00000000:18:00.0 Off |                    0 |\r\n",
      "| N/A   35C    P0    44W / 300W |      0MiB / 16160MiB |      0%      Default |\r\n",
      "|                               |                      |                  N/A |\r\n",
      "+-------------------------------+----------------------+----------------------+\r\n",
      "|   1  Tesla V100-SXM2...  On   | 00000000:3B:00.0 Off |                    0 |\r\n",
      "| N/A   34C    P0    58W / 300W |    456MiB / 16160MiB |      0%      Default |\r\n",
      "|                               |                      |                  N/A |\r\n",
      "+-------------------------------+----------------------+----------------------+\r\n",
      "|   2  Tesla V100-SXM2...  On   | 00000000:86:00.0 Off |                    0 |\r\n",
      "| N/A   33C    P0    43W / 300W |      0MiB / 16160MiB |      0%      Default |\r\n",
      "|                               |                      |                  N/A |\r\n",
      "+-------------------------------+----------------------+----------------------+\r\n",
      "|   3  Tesla V100-SXM2...  On   | 00000000:AF:00.0 Off |                    0 |\r\n",
      "| N/A   37C    P0    41W / 300W |      0MiB / 16160MiB |      0%      Default |\r\n",
      "|                               |                      |                  N/A |\r\n",
      "+-------------------------------+----------------------+----------------------+\r\n",
      "                                                                               \r\n",
      "+-----------------------------------------------------------------------------+\r\n"
     ]
    },
    {
     "name": "stdout",
     "output_type": "stream",
     "text": [
      "| Processes:                                                                  |\r\n",
      "|  GPU   GI   CI        PID   Type   Process name                  GPU Memory |\r\n",
      "|        ID   ID                                                   Usage      |\r\n",
      "|=============================================================================|\r\n",
      "|    1   N/A  N/A     11329      C   ...a/anaconda3/bin/python3.8      453MiB |\r\n",
      "+-----------------------------------------------------------------------------+\r\n"
     ]
    }
   ],
   "source": [
    "!nvidia-smi"
   ]
  },
  {
   "cell_type": "code",
   "execution_count": 5,
   "id": "419df7b6",
   "metadata": {
    "execution": {
     "iopub.execute_input": "2021-12-03T13:35:06.429020Z",
     "iopub.status.busy": "2021-12-03T13:35:06.428686Z",
     "iopub.status.idle": "2021-12-03T13:35:06.432539Z",
     "shell.execute_reply": "2021-12-03T13:35:06.432802Z"
    },
    "papermill": {
     "duration": 0.023365,
     "end_time": "2021-12-03T13:35:06.432891",
     "exception": false,
     "start_time": "2021-12-03T13:35:06.409526",
     "status": "completed"
    },
    "tags": []
   },
   "outputs": [
    {
     "name": "stdout",
     "output_type": "stream",
     "text": [
      "CVAE_2021-12-03 08:35:06.428043\n"
     ]
    }
   ],
   "source": [
    "import os\n",
    "from datetime import datetime; now = datetime.now\n",
    "\n",
    "analysis_name = 'CVAE_'+str(now())\n",
    "save_dir = os.path.join('../Assets/tf_weights',analysis_name)\n",
    "if not os.path.exists(save_dir):\n",
    "    os.mkdir(save_dir)\n",
    "    \n",
    "print(analysis_name)"
   ]
  },
  {
   "cell_type": "code",
   "execution_count": 6,
   "id": "00afffc5",
   "metadata": {
    "execution": {
     "iopub.execute_input": "2021-12-03T13:35:06.469102Z",
     "iopub.status.busy": "2021-12-03T13:35:06.468765Z",
     "iopub.status.idle": "2021-12-03T13:35:06.487561Z",
     "shell.execute_reply": "2021-12-03T13:35:06.487830Z"
    },
    "papermill": {
     "duration": 0.038629,
     "end_time": "2021-12-03T13:35:06.487913",
     "exception": false,
     "start_time": "2021-12-03T13:35:06.449284",
     "status": "completed"
    },
    "tags": []
   },
   "outputs": [
    {
     "name": "stdout",
     "output_type": "stream",
     "text": [
      "Total memory: 15.78173828125\n",
      "Free memory: 15.7816162109375\n",
      "Used memory: 0.0001220703125\n"
     ]
    }
   ],
   "source": [
    "# CHECK GPU\n",
    "import nvidia_smi\n",
    "try:\n",
    "    nvidia_smi.nvmlInit()\n",
    "\n",
    "    handle = nvidia_smi.nvmlDeviceGetHandleByIndex(0)\n",
    "    # card id 0 hardcoded here, there is also a call to get all available card ids, so we could iterate\n",
    "\n",
    "    info = nvidia_smi.nvmlDeviceGetMemoryInfo(handle)\n",
    "\n",
    "    print(\"Total memory:\", (info.total/1024/1024/1024))\n",
    "    print(\"Free memory:\", (info.free/1024/1024/1024))\n",
    "    print(\"Used memory:\", (info.used/1024/1024/1024))\n",
    "\n",
    "    nvidia_smi.nvmlShutdown()\n",
    "except:\n",
    "    pass"
   ]
  },
  {
   "cell_type": "code",
   "execution_count": 7,
   "id": "1dffe130",
   "metadata": {
    "execution": {
     "iopub.execute_input": "2021-12-03T13:35:06.523970Z",
     "iopub.status.busy": "2021-12-03T13:35:06.523641Z",
     "iopub.status.idle": "2021-12-03T13:35:06.525283Z",
     "shell.execute_reply": "2021-12-03T13:35:06.525001Z"
    },
    "papermill": {
     "duration": 0.020386,
     "end_time": "2021-12-03T13:35:06.525353",
     "exception": false,
     "start_time": "2021-12-03T13:35:06.504967",
     "status": "completed"
    },
    "tags": []
   },
   "outputs": [],
   "source": [
    "## SET UP"
   ]
  },
  {
   "cell_type": "code",
   "execution_count": 8,
   "id": "fbfc5991",
   "metadata": {
    "execution": {
     "iopub.execute_input": "2021-12-03T13:35:06.563040Z",
     "iopub.status.busy": "2021-12-03T13:35:06.562702Z",
     "iopub.status.idle": "2021-12-03T13:35:23.295465Z",
     "shell.execute_reply": "2021-12-03T13:35:23.295140Z"
    },
    "papermill": {
     "duration": 16.753468,
     "end_time": "2021-12-03T13:35:23.295577",
     "exception": false,
     "start_time": "2021-12-03T13:35:06.542109",
     "status": "completed"
    },
    "tags": []
   },
   "outputs": [],
   "source": [
    "import numpy as np\n",
    "import pandas as pd\n",
    "from tqdm import tqdm\n",
    "from matplotlib import pyplot as plt\n",
    "\n",
    "from functools import partial\n",
    "from tqdm import tqdm\n",
    "from umap import UMAP\n",
    "tqdm = partial(tqdm, position=0, leave=True) "
   ]
  },
  {
   "cell_type": "code",
   "execution_count": 9,
   "id": "d071ab62",
   "metadata": {
    "execution": {
     "iopub.execute_input": "2021-12-03T13:35:23.335525Z",
     "iopub.status.busy": "2021-12-03T13:35:23.335196Z",
     "iopub.status.idle": "2021-12-03T13:35:23.337235Z",
     "shell.execute_reply": "2021-12-03T13:35:23.336952Z"
    },
    "papermill": {
     "duration": 0.021498,
     "end_time": "2021-12-03T13:35:23.337309",
     "exception": false,
     "start_time": "2021-12-03T13:35:23.315811",
     "status": "completed"
    },
    "tags": []
   },
   "outputs": [
    {
     "data": {
      "text/plain": [
       "'/mmfs1/data/aglinska/BC-fMRI-AE/Notebooks'"
      ]
     },
     "execution_count": 9,
     "metadata": {},
     "output_type": "execute_result"
    }
   ],
   "source": [
    "pwd"
   ]
  },
  {
   "cell_type": "code",
   "execution_count": null,
   "id": "6923222d",
   "metadata": {
    "papermill": {
     "duration": 0.016755,
     "end_time": "2021-12-03T13:35:23.370948",
     "exception": false,
     "start_time": "2021-12-03T13:35:23.354193",
     "status": "completed"
    },
    "tags": []
   },
   "outputs": [],
   "source": []
  },
  {
   "cell_type": "code",
   "execution_count": 10,
   "id": "0a814623",
   "metadata": {
    "execution": {
     "iopub.execute_input": "2021-12-03T13:35:23.409942Z",
     "iopub.status.busy": "2021-12-03T13:35:23.409608Z",
     "iopub.status.idle": "2021-12-03T13:35:23.421504Z",
     "shell.execute_reply": "2021-12-03T13:35:23.421769Z"
    },
    "papermill": {
     "duration": 0.034155,
     "end_time": "2021-12-03T13:35:23.421858",
     "exception": false,
     "start_time": "2021-12-03T13:35:23.387703",
     "status": "completed"
    },
    "tags": []
   },
   "outputs": [
    {
     "name": "stdout",
     "output_type": "stream",
     "text": [
      "1048\n"
     ]
    }
   ],
   "source": [
    "df = pd.read_csv('../Data/ABIDE_df2.csv')\n",
    "df = df.iloc[~pd.isna(df['bids_folder']).values]\n",
    "df = df.sort_values(by='bids_folder')\n",
    "print(len(df))\n",
    "#data_dir = '../Assets/fc_mats_32smooth_new/'\n",
    "data_dir = '../Assets/abide_1_cmats'"
   ]
  },
  {
   "cell_type": "code",
   "execution_count": 11,
   "id": "8612b675",
   "metadata": {
    "execution": {
     "iopub.execute_input": "2021-12-03T13:35:23.459265Z",
     "iopub.status.busy": "2021-12-03T13:35:23.458937Z",
     "iopub.status.idle": "2021-12-03T13:35:23.487181Z",
     "shell.execute_reply": "2021-12-03T13:35:23.487445Z"
    },
    "papermill": {
     "duration": 0.048534,
     "end_time": "2021-12-03T13:35:23.487526",
     "exception": false,
     "start_time": "2021-12-03T13:35:23.438992",
     "status": "completed"
    },
    "tags": []
   },
   "outputs": [
    {
     "name": "stdout",
     "output_type": "stream",
     "text": [
      "1048\n"
     ]
    },
    {
     "data": {
      "text/plain": [
       "array(['sub-CMUa0050642.npy', 'sub-CMUa0050646.npy',\n",
       "       'sub-CMUa0050647.npy', 'sub-CMUa0050649.npy',\n",
       "       'sub-CMUa0050653.npy'], dtype='<U23')"
      ]
     },
     "execution_count": 11,
     "metadata": {},
     "output_type": "execute_result"
    }
   ],
   "source": [
    "files = [file for file in os.listdir(data_dir) if file.endswith('.npy')]\n",
    "files = np.array(files)\n",
    "files.sort()\n",
    "is_inDF = np.array([file.replace('.npy','') in df['bids_folder'].values for file in files])\n",
    "files = files[is_inDF]\n",
    "\n",
    "print(len(files))\n",
    "files[0:5]"
   ]
  },
  {
   "cell_type": "code",
   "execution_count": 12,
   "id": "0186e417",
   "metadata": {
    "execution": {
     "iopub.execute_input": "2021-12-03T13:35:23.525356Z",
     "iopub.status.busy": "2021-12-03T13:35:23.525031Z",
     "iopub.status.idle": "2021-12-03T13:35:29.713621Z",
     "shell.execute_reply": "2021-12-03T13:35:29.713301Z"
    },
    "papermill": {
     "duration": 6.208702,
     "end_time": "2021-12-03T13:35:29.713712",
     "exception": false,
     "start_time": "2021-12-03T13:35:23.505010",
     "status": "completed"
    },
    "tags": []
   },
   "outputs": [],
   "source": [
    "cmats = np.array([np.load(os.path.join(data_dir,file)) for file in files])\n",
    "has_na = np.array([np.isnan(cmats[i,:,:]).sum()>0 for i in range(cmats.shape[0])])\n",
    "assert has_na.sum()==0, 'nans in cmats'"
   ]
  },
  {
   "cell_type": "code",
   "execution_count": 13,
   "id": "36e8b375",
   "metadata": {
    "execution": {
     "iopub.execute_input": "2021-12-03T13:35:29.754893Z",
     "iopub.status.busy": "2021-12-03T13:35:29.754560Z",
     "iopub.status.idle": "2021-12-03T13:35:29.756232Z",
     "shell.execute_reply": "2021-12-03T13:35:29.755907Z"
    },
    "papermill": {
     "duration": 0.024721,
     "end_time": "2021-12-03T13:35:29.756307",
     "exception": false,
     "start_time": "2021-12-03T13:35:29.731586",
     "status": "completed"
    },
    "tags": []
   },
   "outputs": [],
   "source": [
    "assert len(df)==len(files),'mismatch'\n",
    "assert all([df['bids_folder'].values[i]==files[i].replace('.npy','') for i in range(len(df))]), 'out of order'"
   ]
  },
  {
   "cell_type": "code",
   "execution_count": null,
   "id": "f8951f4b",
   "metadata": {
    "papermill": {
     "duration": 0.017346,
     "end_time": "2021-12-03T13:35:29.791465",
     "exception": false,
     "start_time": "2021-12-03T13:35:29.774119",
     "status": "completed"
    },
    "tags": []
   },
   "outputs": [],
   "source": []
  },
  {
   "cell_type": "code",
   "execution_count": 14,
   "id": "8ec12e71",
   "metadata": {
    "execution": {
     "iopub.execute_input": "2021-12-03T13:35:29.829376Z",
     "iopub.status.busy": "2021-12-03T13:35:29.829046Z",
     "iopub.status.idle": "2021-12-03T13:35:30.037066Z",
     "shell.execute_reply": "2021-12-03T13:35:30.036776Z"
    },
    "papermill": {
     "duration": 0.228149,
     "end_time": "2021-12-03T13:35:30.037141",
     "exception": false,
     "start_time": "2021-12-03T13:35:29.808992",
     "status": "completed"
    },
    "tags": []
   },
   "outputs": [
    {
     "name": "stdout",
     "output_type": "stream",
     "text": [
      "CPU times: user 46.2 ms, sys: 10.7 ms, total: 56.9 ms\n",
      "Wall time: 205 ms\n"
     ]
    },
    {
     "data": {
      "text/plain": [
       "<module 'tensorflow' from '/data/aglinska/anaconda3/lib/python3.8/site-packages/tensorflow/__init__.py'>"
      ]
     },
     "execution_count": 14,
     "metadata": {},
     "output_type": "execute_result"
    }
   ],
   "source": [
    "%%time\n",
    "from importlib import reload\n",
    "import helper_funcs;reload(helper_funcs);from helper_funcs import *\n",
    "del helper_funcs\n",
    "import make_models;reload(make_models);from make_models import *\n",
    "del make_models\n",
    "\n",
    "from IPython import display\n",
    "import sys\n",
    "from sklearn.decomposition import PCA\n",
    "import seaborn as sns\n",
    "\n",
    "import tensorflow as tf\n",
    "reload(tf)"
   ]
  },
  {
   "cell_type": "code",
   "execution_count": 15,
   "id": "677eb1ff",
   "metadata": {
    "execution": {
     "iopub.execute_input": "2021-12-03T13:35:30.082305Z",
     "iopub.status.busy": "2021-12-03T13:35:30.081960Z",
     "iopub.status.idle": "2021-12-03T13:35:30.083460Z",
     "shell.execute_reply": "2021-12-03T13:35:30.083185Z"
    },
    "papermill": {
     "duration": 0.028152,
     "end_time": "2021-12-03T13:35:30.083530",
     "exception": false,
     "start_time": "2021-12-03T13:35:30.055378",
     "status": "completed"
    },
    "tags": []
   },
   "outputs": [],
   "source": [
    "class cvae_data_loader():\n",
    "    ''' this is the info'''\n",
    "    def __init__(self,data_dir,df,batch_size=32):\n",
    "        #self.data = data\n",
    "        #self.n = data.shape[0]\n",
    "        self.n = len(df)\n",
    "        self.data_dir = data_dir\n",
    "        self.epoch = -1\n",
    "        self.batch_size = batch_size\n",
    "        self.df = df\n",
    "        \n",
    "        self.new_epoch()\n",
    "        self.n_batches = int(np.floor(min((len(self.asd_idxs),len(self.td_idxs)))/self.batch_size))\n",
    "        \n",
    "    def new_epoch(self):\n",
    "        #self.df = self.df.iloc[np.random.permutation(np.arange(self.n))]\n",
    "        #self.df.index = np.arange(self.n)\n",
    "        self.asd_idxs = np.nonzero((self.df['DX_GROUP'].values==1))[0]\n",
    "        self.td_idxs = np.nonzero((self.df['DX_GROUP'].values==2))[0]\n",
    "        \n",
    "        self.asd_idxs = np.random.permutation(self.asd_idxs)\n",
    "        self.td_idxs = np.random.permutation(self.td_idxs)\n",
    "        \n",
    "        self.epoch += 1\n",
    "        self.b = 0\n",
    "        \n",
    "        \n",
    "    def get_batch(self):\n",
    "        self.b += 1\n",
    "        \n",
    "        if self.b==self.n_batches:\n",
    "            self.new_epoch()\n",
    "        \n",
    "        \n",
    "        self.batch_asd_idx = self.asd_idxs[np.arange(self.b*self.batch_size,self.b*self.batch_size+self.batch_size)]\n",
    "        self.batch_td_idx = self.td_idxs[np.arange(self.b*self.batch_size,self.b*self.batch_size+self.batch_size)]\n",
    "        self.batch_asd = np.array([np.load(os.path.join(self.data_dir,val+'.npy')) for val in self.df['bids_folder'].values[self.batch_asd_idx]])\n",
    "        self.batch_td = np.array([np.load(os.path.join(self.data_dir,val+'.npy')) for val in self.df['bids_folder'].values[self.batch_td_idx]])\n",
    "        self.batch_df = self.df.iloc[np.hstack((self.batch_asd_idx,self.batch_td_idx)),:]\n",
    "        \n",
    "        self.batch_asd = (self.batch_asd+1)/2\n",
    "        self.batch_td = (self.batch_td)/2\n",
    "        \n",
    "    \n",
    "        return self.batch_asd,self.batch_td,self.batch_df"
   ]
  },
  {
   "cell_type": "code",
   "execution_count": 16,
   "id": "05932c3f",
   "metadata": {
    "execution": {
     "iopub.execute_input": "2021-12-03T13:35:30.671268Z",
     "iopub.status.busy": "2021-12-03T13:35:30.670870Z",
     "iopub.status.idle": "2021-12-03T13:35:30.672581Z",
     "shell.execute_reply": "2021-12-03T13:35:30.672854Z"
    },
    "papermill": {
     "duration": 0.571345,
     "end_time": "2021-12-03T13:35:30.672965",
     "exception": false,
     "start_time": "2021-12-03T13:35:30.101620",
     "status": "completed"
    },
    "tags": []
   },
   "outputs": [
    {
     "data": {
      "text/plain": [
       "'/device:GPU:0'"
      ]
     },
     "execution_count": 16,
     "metadata": {},
     "output_type": "execute_result"
    }
   ],
   "source": [
    "import tensorflow as tf\n",
    "tf.test.gpu_device_name()"
   ]
  },
  {
   "cell_type": "code",
   "execution_count": 17,
   "id": "eba5eed0",
   "metadata": {
    "execution": {
     "iopub.execute_input": "2021-12-03T13:35:30.713147Z",
     "iopub.status.busy": "2021-12-03T13:35:30.712823Z",
     "iopub.status.idle": "2021-12-03T13:35:30.720149Z",
     "shell.execute_reply": "2021-12-03T13:35:30.720410Z"
    },
    "papermill": {
     "duration": 0.028233,
     "end_time": "2021-12-03T13:35:30.720494",
     "exception": false,
     "start_time": "2021-12-03T13:35:30.692261",
     "status": "completed"
    },
    "tags": []
   },
   "outputs": [],
   "source": [
    "# PADDING\n",
    "pad2d = tf.keras.layers.ZeroPadding2D(padding=((6,7),(6,7))) #If tuple of 2 tuples of 2 ints: interpreted as ((top_pad, bottom_pad), (left_pad, right_pad))"
   ]
  },
  {
   "cell_type": "code",
   "execution_count": 18,
   "id": "7148c8d2",
   "metadata": {
    "execution": {
     "iopub.execute_input": "2021-12-03T13:35:30.759577Z",
     "iopub.status.busy": "2021-12-03T13:35:30.759254Z",
     "iopub.status.idle": "2021-12-03T13:35:30.779409Z",
     "shell.execute_reply": "2021-12-03T13:35:30.779663Z"
    },
    "papermill": {
     "duration": 0.041019,
     "end_time": "2021-12-03T13:35:30.779748",
     "exception": false,
     "start_time": "2021-12-03T13:35:30.738729",
     "status": "completed"
    },
    "tags": []
   },
   "outputs": [],
   "source": [
    "#data_dir = '../Assets/fc_mats_32smooth_new'\n",
    "data_loader = cvae_data_loader(data_dir=data_dir, df=df, batch_size=32)\n",
    "batch_asd,batch_td,batch_df = data_loader.get_batch()"
   ]
  },
  {
   "cell_type": "code",
   "execution_count": 19,
   "id": "705a2f5e",
   "metadata": {
    "execution": {
     "iopub.execute_input": "2021-12-03T13:35:30.818794Z",
     "iopub.status.busy": "2021-12-03T13:35:30.818473Z",
     "iopub.status.idle": "2021-12-03T13:35:30.820795Z",
     "shell.execute_reply": "2021-12-03T13:35:30.820515Z"
    },
    "papermill": {
     "duration": 0.022571,
     "end_time": "2021-12-03T13:35:30.820870",
     "exception": false,
     "start_time": "2021-12-03T13:35:30.798299",
     "status": "completed"
    },
    "tags": []
   },
   "outputs": [
    {
     "data": {
      "text/plain": [
       "(0.14941099110578582, 1.0)"
      ]
     },
     "execution_count": 19,
     "metadata": {},
     "output_type": "execute_result"
    }
   ],
   "source": [
    "(batch_asd.min(),batch_asd.max())"
   ]
  },
  {
   "cell_type": "code",
   "execution_count": 20,
   "id": "7df300a6",
   "metadata": {
    "execution": {
     "iopub.execute_input": "2021-12-03T13:35:30.860555Z",
     "iopub.status.busy": "2021-12-03T13:35:30.860234Z",
     "iopub.status.idle": "2021-12-03T13:35:30.862085Z",
     "shell.execute_reply": "2021-12-03T13:35:30.861800Z"
    },
    "papermill": {
     "duration": 0.022722,
     "end_time": "2021-12-03T13:35:30.862154",
     "exception": false,
     "start_time": "2021-12-03T13:35:30.839432",
     "status": "completed"
    },
    "tags": []
   },
   "outputs": [
    {
     "data": {
      "text/plain": [
       "array([1048,   51,   51])"
      ]
     },
     "execution_count": 20,
     "metadata": {},
     "output_type": "execute_result"
    }
   ],
   "source": [
    "data_size = np.hstack((len(df),batch_asd.shape[1:]))\n",
    "data_size"
   ]
  },
  {
   "cell_type": "code",
   "execution_count": null,
   "id": "dccee32e",
   "metadata": {
    "papermill": {
     "duration": 0.018629,
     "end_time": "2021-12-03T13:35:30.899469",
     "exception": false,
     "start_time": "2021-12-03T13:35:30.880840",
     "status": "completed"
    },
    "tags": []
   },
   "outputs": [],
   "source": []
  },
  {
   "cell_type": "code",
   "execution_count": 21,
   "id": "c46941d1",
   "metadata": {
    "execution": {
     "iopub.execute_input": "2021-12-03T13:35:30.944622Z",
     "iopub.status.busy": "2021-12-03T13:35:30.944287Z",
     "iopub.status.idle": "2021-12-03T13:35:31.178037Z",
     "shell.execute_reply": "2021-12-03T13:35:31.177698Z"
    },
    "papermill": {
     "duration": 0.259945,
     "end_time": "2021-12-03T13:35:31.178134",
     "exception": false,
     "start_time": "2021-12-03T13:35:30.918189",
     "status": "completed"
    },
    "tags": []
   },
   "outputs": [
    {
     "name": "stdout",
     "output_type": "stream",
     "text": [
      "WARNING:tensorflow:Layer zero_padding2d is casting an input tensor from dtype float64 to the layer's dtype of float32, which is new behavior in TensorFlow 2.  The layer has dtype float32 because its dtype defaults to floatx.\n",
      "\n",
      "If you intended to run this layer in float32, you can safely ignore this warning. If in doubt, this warning is likely only an issue if you are porting a TensorFlow 1.X model to TensorFlow 2.\n",
      "\n",
      "To change all layers to have dtype float64 by default, call `tf.keras.backend.set_floatx('float64')`. To change just this layer, pass dtype='float64' to the layer constructor. If you are the author of this layer, you can disable autocasting by passing autocast=False to the base Layer constructor.\n",
      "\n"
     ]
    }
   ],
   "source": [
    "# RSA\n",
    "patients = ~np.isnan(df['ADOS_TOTAL'].values) * (df['DX_GROUP'].values==1) * ~np.isnan(df['FIQ'].values)\n",
    "cdata = np.array([np.load(os.path.join(data_dir,sub+'.npy')) for sub in df['bids_folder'].values[patients]])\n",
    "cdata_pad = pad2d(cdata[:,:,:,np.newaxis]).numpy()[:,:,:,:]\n",
    "\n",
    "def get_batch_RSA():\n",
    "    Z = z_encoder.predict(cdata_pad)\n",
    "    S = s_encoder.predict(cdata_pad)\n",
    "\n",
    "    rdm_z = make_RDM(Z[2])\n",
    "    rdm_s = make_RDM(S[2])\n",
    "\n",
    "    rdm_age = make_RDM(df['AGE_AT_SCAN'].values[patients])\n",
    "    rdm_sex = make_RDM(df['SEX'].values[patients],data_scale='ordinal')\n",
    "    rdm_fiq = make_RDM(df['FIQ'].values[patients])\n",
    "    rdm_dsm = make_RDM(df['DSM_IV_TR'].values[patients],data_scale='ordinal')\n",
    "    rdm_site = make_RDM(df['site'].values[patients],data_scale='ordinal')\n",
    "    rdm_adosTotal = make_RDM(df['ADOS_TOTAL'].values[patients])\n",
    "    \n",
    "    \n",
    "    batch_rsas_s = dict()\n",
    "    batch_rsas_z = dict()\n",
    "    \n",
    "    \n",
    "    batch_rsas_s['Site'] = fit_rsa(rdm_s,rdm_site)\n",
    "    batch_rsas_s['Age'] = fit_rsa(rdm_s,rdm_age)\n",
    "    batch_rsas_s['Sex'] = fit_rsa(rdm_s,rdm_sex)\n",
    "    batch_rsas_s['DSM'] = fit_rsa(rdm_s,rdm_dsm)\n",
    "    batch_rsas_s['ADOS'] = fit_rsa(rdm_s,rdm_adosTotal)\n",
    "    batch_rsas_s['FIQ'] = fit_rsa(rdm_s,rdm_fiq)\n",
    "\n",
    "    batch_rsas_z['Site'] = fit_rsa(rdm_z,rdm_site)\n",
    "    batch_rsas_z['Age'] = fit_rsa(rdm_z,rdm_age)\n",
    "    batch_rsas_z['Sex'] = fit_rsa(rdm_z,rdm_sex)\n",
    "    batch_rsas_z['DSM'] = fit_rsa(rdm_z,rdm_dsm)\n",
    "    batch_rsas_z['ADOS'] = fit_rsa(rdm_z,rdm_adosTotal)\n",
    "    batch_rsas_z['FIQ'] = fit_rsa(rdm_z,rdm_fiq)\n",
    "    \n",
    "    batch_rsas = dict()\n",
    "    batch_rsas['batch_rsas_z'] = batch_rsas_z\n",
    "    batch_rsas['batch_rsas_s'] = batch_rsas_s\n",
    "    \n",
    "    return batch_rsas"
   ]
  },
  {
   "cell_type": "code",
   "execution_count": 22,
   "id": "e4ba28f1",
   "metadata": {
    "execution": {
     "iopub.execute_input": "2021-12-03T13:35:31.250436Z",
     "iopub.status.busy": "2021-12-03T13:35:31.238966Z",
     "iopub.status.idle": "2021-12-03T13:35:31.251840Z",
     "shell.execute_reply": "2021-12-03T13:35:31.251557Z"
    },
    "papermill": {
     "duration": 0.054303,
     "end_time": "2021-12-03T13:35:31.251914",
     "exception": false,
     "start_time": "2021-12-03T13:35:31.197611",
     "status": "completed"
    },
    "tags": []
   },
   "outputs": [],
   "source": [
    "def cvae_dashboard(red='PCA'):        \n",
    "    #prediction = cvae.predict(patient_batch)    \n",
    "    predictions = cvae.predict([patient_batch,control_batch])\n",
    "    sigma = (np.e ** z_encoder.predict(patient_batch)[1]).mean()\n",
    "    sigmas.append(sigma)\n",
    "\n",
    "    \n",
    "    ss = 6;ff=57\n",
    "    \n",
    "    mu = z_encoder.predict(patient_batch)[0]\n",
    "    mus.append(np.mean([mu[:,0].std() for i in range(mu.shape[1])]))\n",
    "\n",
    "    prediction = predictions[0]\n",
    "\n",
    "    cmat_actual = np.corrcoef(np.vstack((patient_batch[:,ss:ff,ss:ff].reshape(patient_batch.shape[0],-1),control_batch[:,ss:ff,ss:ff].reshape(control_batch.shape[0],-1))))\n",
    "    cmat_pred = np.corrcoef(np.vstack((predictions[0][:,ss:ff,ss:ff,:].reshape(predictions[0].shape[0],-1),predictions[1][:,ss:ff,ss:ff,:].reshape(predictions[1].shape[0],-1))))\n",
    "    c_sim.append(np.corrcoef(get_triu(cmat_pred),get_triu(cmat_actual))[0,1])\n",
    "\n",
    "\n",
    "    ### PROGRESS PLOTTING\n",
    "    display.clear_output(wait=True);\n",
    "    display.display(plt.gcf());\n",
    "    #Organise figure\n",
    "    ncols = 4;nrows=7\n",
    "    if np.mod(i,5)==0:\n",
    "        plt.close()\n",
    "    plt.subplots(nrows,ncols,figsize=(15,15)); # MAKE THE FIGURE\n",
    "\n",
    "\n",
    "    ##### SUBPLOT 1 & 2 ##### \n",
    "\n",
    "    plt.subplot(nrows,ncols/2,1) # PLOT LOSS\n",
    "    xs = np.arange(len(loss))+1\n",
    "    m,b = np.polyfit(xs,loss,deg=1)\n",
    "    plt.plot(loss)\n",
    "    plt.plot(xs, m*xs + b)\n",
    "    plt.title(f'Epoch {data_loader.epoch} batch {data_loader.b}/{data_loader.n_batches} | Loss {loss[-1]:.2f}, beta: {m:.4f}')\n",
    "\n",
    "    ##### SUBPLOT 3 ##### \n",
    "    plt.subplot(nrows,ncols,3) # PLOT LOSS LAST 50\n",
    "    hb = 50\n",
    "    if len(loss)>hb:\n",
    "        plot_loss = loss[-hb::]\n",
    "        xs = np.arange(len(plot_loss))\n",
    "        m,b = np.polyfit(xs,plot_loss,deg=1)\n",
    "        plt.plot(plot_loss)\n",
    "        plt.plot(xs, m*xs + b)\n",
    "        #plt.title(hist)\n",
    "        plt.title(f'Loss last {hb} it, beta {m:.4f}')\n",
    "\n",
    "    ##### SUBPLOT 4 ##### \n",
    "    plt.subplot(nrows,ncols,4)\n",
    "    plt.hist(prediction[0,ss:ff,ss:ff,0].flatten(),alpha=.5)\n",
    "    plt.hist(patient_batch[0,ss:ff,ss:ff].flatten(),alpha=.5)\n",
    "    plt.legend(['predicted','actual'])\n",
    "    plt.title('in/out histograms')\n",
    "\n",
    "    ##### SUBPLOT 5 ##### \n",
    "    plt.subplot(nrows,ncols,5) #RSA over time\n",
    "    plt.plot(c_sim)\n",
    "    plt.title(f'in/out RSA: {c_sim[-1].round(2)}')\n",
    "\n",
    "    if len(c_sim)>5: # PLOT LS LINE\n",
    "        xs = np.arange(len(c_sim))+1\n",
    "        m,b = np.polyfit(xs,c_sim,deg=1)\n",
    "        plt.plot(xs, m*xs + b)\n",
    "        plt.title(f'in/out RSA: {c_sim[-1].round(2)}, b={m:.4f}')\n",
    "\n",
    "\n",
    "    ##### SUBPLOT 6 ##### \n",
    "    plt.subplot(nrows,ncols,6)\n",
    "    if len(c_sim)>hb:\n",
    "        #plot_loss = loss[-hb::]\n",
    "        xs = np.arange(len(c_sim[-hb::]))\n",
    "        m,b = np.polyfit(xs,c_sim[-hb::],deg=1)\n",
    "        plt.plot(c_sim[-hb::])\n",
    "        plt.plot(xs, m*xs + b)\n",
    "        #plt.title(hist)\n",
    "        plt.title(f'in/outRSA last {hb} it, b={m:.4f}')\n",
    "        \n",
    "        \n",
    "        \n",
    "    batch_rsas = get_batch_RSA()\n",
    "    batch_rsas_z = batch_rsas['batch_rsas_z']\n",
    "    batch_rsas_s = batch_rsas['batch_rsas_s']\n",
    "    \n",
    "    # ##### SUBPLOT 7 ##### \n",
    "    plt.subplot(nrows,ncols,7)    \n",
    "    xlbls = list(batch_rsas_z.keys())\n",
    "    xs = np.arange(len(xlbls))\n",
    "    ys = np.array([batch_rsas_z[key] for key in xlbls])\n",
    "    plt.bar(xs,ys)\n",
    "    plt.xticks(xs,labels=xlbls);\n",
    "    plt.title('Z RSA')\n",
    "    \n",
    "    # ##### SUBPLOT 8 ##### \n",
    "    plt.subplot(nrows,ncols,8)    \n",
    "    xlbls = list(batch_rsas_s.keys())\n",
    "    xs = np.arange(len(xlbls))\n",
    "    ys = np.array([batch_rsas_s[key] for key in xlbls])\n",
    "    plt.bar(xs,ys)\n",
    "    plt.xticks(xs,labels=xlbls);\n",
    "    plt.title('S RSA')\n",
    "\n",
    "    ##### SUBPLOT 9 ##### \n",
    "    plt.subplot(nrows,ncols,9)\n",
    "    plt.plot(sigmas)\n",
    "    plt.title(f'sigmas | {sigmas[-1]:.4f}')\n",
    "\n",
    "\n",
    "    ##### SUBPLOT 10 ##### \n",
    "    plt.subplot(nrows,ncols,10)\n",
    "    plt.plot(mus)\n",
    "    plt.title(f'Mu variance {mus[-1]:.4f}')\n",
    "\n",
    "\n",
    "    ##### SUBPLOT 11 ##### \n",
    "    plt.subplot(nrows,ncols,11)\n",
    "    sns.heatmap(cmat_actual,xticklabels=[],yticklabels=[])\n",
    "    plt.title('input RSA')\n",
    "\n",
    "    ##### SUBPLOT 12 ##### \n",
    "    plt.subplot(nrows,ncols,12)\n",
    "    sns.heatmap(cmat_pred,xticklabels=[],yticklabels=[])\n",
    "    plt.title('output RSA')\n",
    "\n",
    "    # #############################################\n",
    "    # ###################Reconstructions###########\n",
    "    # #############################################\n",
    "\n",
    "    ##### SUBPLOT 13 #####     \n",
    "    rand_sub = np.random.randint(low=0,high=patient_batch.shape[0])\n",
    "\n",
    "    plt.subplot(nrows,ncols,13)\n",
    "    sns.heatmap(patient_batch[rand_sub,ss:ff,ss:ff])\n",
    "    plt.xticks([]);plt.yticks([]);plt.title('actual')\n",
    "    ##### SUBPLOT 14 #####     \n",
    "    plt.subplot(nrows,ncols,14)\n",
    "    sns.heatmap(prediction[rand_sub,ss:ff,ss:ff,0])\n",
    "    plt.xticks([]);plt.yticks([]);plt.title('predicted')\n",
    "    # ##### SUBPLOT 15 #####     \n",
    "    plt.subplot(nrows,ncols,15)\n",
    "    sns.heatmap(abs(patient_batch[rand_sub,ss:ff,ss:ff]-prediction[rand_sub,ss:ff,ss:ff,0]))\n",
    "    plt.xticks([]);plt.yticks([]);plt.title('difference')\n",
    "\n",
    "\n",
    "    # ##### SUBPLOT 16 #####                                             \n",
    "    # plt.subplot(nrows,ncols,16)\n",
    "    # plt.imshow(np.rot90(prediction[rand_sub,16,:,:,rand_map]))\n",
    "    # plt.xticks([]);plt.yticks([]);plt.title('predicted')\n",
    "    # ##### SUBPLOT 17 #####     \n",
    "    # plt.subplot(nrows,ncols,17)\n",
    "    # plt.imshow(np.rot90(patient_batch[rand_sub,6,:,:,rand_map]))\n",
    "    # plt.xticks([]);plt.yticks([]);plt.title('actual')\n",
    "    # ##### SUBPLOT 18 #####                                             \n",
    "    # plt.subplot(nrows,ncols,18)\n",
    "    # plt.imshow(np.rot90(prediction[rand_sub,6,:,:,rand_map]))\n",
    "    # plt.xticks([]);plt.yticks([]);plt.title('predicted')\n",
    "    # ##### SUBPLOT 19 #####     \n",
    "    # plt.subplot(nrows,ncols,19)\n",
    "    # plt.imshow(patient_batch[rand_sub,:,:,16,rand_map])\n",
    "    # plt.xticks([]);plt.yticks([]);plt.title('actual')\n",
    "    # ##### SUBPLOT 20 #####     \n",
    "    # plt.subplot(nrows,ncols,20)\n",
    "    # plt.imshow(prediction[rand_sub,:,:,16,rand_map])\n",
    "    # plt.xticks([]);plt.yticks([]);plt.title('predicted')\n",
    "\n",
    "\n",
    "    # #############################################\n",
    "    # ################### LOSSES ##################\n",
    "    # #############################################\n",
    "\n",
    "\n",
    "    predictions = cvae.predict([patient_batch,control_batch])\n",
    "    input_shape = data_size[1:]\n",
    "    reconstruction_loss = tf.keras.losses.mse(K.flatten(patient_batch[:,ss:ff,ss:ff]), K.flatten(predictions[0][:,ss:ff,ss:ff,0])) \n",
    "    reconstruction_loss += tf.keras.losses.mse(K.flatten(control_batch[:,ss:ff,ss:ff]), K.flatten(predictions[1][:,ss:ff,ss:ff,0])) \n",
    "    reconstruction_loss *= input_shape[0] * input_shape[1]\n",
    "\n",
    "\n",
    "    tg_z_mean, tg_z_log_var, tg_z = z_encoder.predict(patient_batch)\n",
    "    tg_s_mean, tg_s_log_var, tg_s = s_encoder.predict(patient_batch)\n",
    "    bg_z_mean, bg_z_log_var, bg_z = z_encoder.predict(control_batch)\n",
    "\n",
    "    kl_loss1 = 1 + tg_z_log_var - tf.keras.backend.square(tg_z_mean) - tf.keras.backend.exp(tg_z_log_var)\n",
    "    kl_loss2 = 1 + tg_s_log_var - tf.keras.backend.square(tg_s_mean) - tf.keras.backend.exp(tg_s_log_var)\n",
    "    kl_loss3 = 1 + bg_z_log_var - tf.keras.backend.square(bg_z_mean) - tf.keras.backend.exp(bg_z_log_var)\n",
    "\n",
    "    kl_loss1 = tf.keras.backend.sum(kl_loss1, axis=-1)\n",
    "    kl_loss2 = tf.keras.backend.sum(kl_loss2, axis=-1)\n",
    "    kl_loss3 = tf.keras.backend.sum(kl_loss3, axis=-1)\n",
    "    kl_loss = kl_loss1+kl_loss2+kl_loss3\n",
    "    kl_loss *= -0.5\n",
    "\n",
    "\n",
    "    discriminator = Dense(1, activation='sigmoid')\n",
    "    z1 = Lambda(lambda x: x[:int(batch_size/2),:])(tg_z)\n",
    "    z2 = Lambda(lambda x: x[int(batch_size/2):,:])(tg_z)\n",
    "    s1 = Lambda(lambda x: x[:int(batch_size/2),:])(tg_s)\n",
    "    s2 = Lambda(lambda x: x[int(batch_size/2):,:])(tg_s)\n",
    "\n",
    "    q_bar = tf.keras.layers.concatenate(\n",
    "      [tf.keras.layers.concatenate([s1, z2], axis=1),\n",
    "      tf.keras.layers.concatenate([s2, z1], axis=1)],\n",
    "      axis=0)\n",
    "\n",
    "    q = tf.keras.layers.concatenate(\n",
    "      [tf.keras.layers.concatenate([s1, z1], axis=1),\n",
    "      tf.keras.layers.concatenate([s2, z2], axis=1)],\n",
    "      axis=0)\n",
    "\n",
    "    q_bar_score = (discriminator(q_bar)+.1) *.85 # +.1 * .85 so that it's 0<x<1\n",
    "    q_score = (discriminator(q)+.1) *.85 \n",
    "    tc_loss = K.log(q_score / (1 - q_score)) \n",
    "    discriminator_loss = - K.log(q_score) - K.log(1 - q_bar_score)\n",
    "    discriminator_loss\n",
    "\n",
    "    loss_mse.append(reconstruction_loss.numpy())\n",
    "    loss_kl.append(kl_loss.numpy().mean())\n",
    "    loss_dc.append(tc_loss.numpy().mean())\n",
    "    loss_tc.append(discriminator_loss.numpy().mean())\n",
    "\n",
    "\n",
    "    plt.subplot(nrows,ncols,21) # MSE \n",
    "    plt.plot(loss_mse)\n",
    "    plt.title(f'MSE | {loss_mse[-1]:.4f}')\n",
    "\n",
    "    plt.subplot(nrows,ncols,22) # KL loss\n",
    "    plt.plot(loss_kl)\n",
    "    plt.title(f'KL | {loss_kl[-1]:.4f}')    \n",
    "\n",
    "\n",
    "    plt.subplot(nrows,ncols,23) # TC     \n",
    "    plt.plot(loss_tc)\n",
    "    plt.title(f'Total Correlation loss | {loss_tc[-1]:.4f}')    \n",
    "\n",
    "\n",
    "    plt.subplot(nrows,ncols,24) # Disc         \n",
    "    plt.plot(loss_dc)\n",
    "    plt.title(f'discriminator_loss | {loss_dc[-1]:.4f}')    \n",
    "\n",
    "\n",
    "    tg_s = s_encoder.predict(patient_batch)\n",
    "    tg_z = z_encoder.predict(patient_batch)\n",
    "    bg_z = z_encoder.predict(control_batch)\n",
    "\n",
    "    plt.subplot(nrows,ncols,25)\n",
    "    plt.hist(tg_s[2].flatten(),alpha=.5);\n",
    "    plt.hist(tg_z[2].flatten(),alpha=.5);\n",
    "    plt.hist(bg_z[2].flatten(),alpha=.5);\n",
    "    plt.legend(['tg_s','tg_z','bg_z'])\n",
    "    plt.title('Z')\n",
    "\n",
    "\n",
    "    plt.subplot(nrows,ncols,26)\n",
    "    plt.hist(tg_s[0].flatten(),alpha=.5);\n",
    "    plt.hist(tg_z[0].flatten(),alpha=.5);\n",
    "    plt.hist(bg_z[0].flatten(),alpha=.5);\n",
    "    plt.legend(['tg_s','tg_z','bg_z'])\n",
    "    plt.title('Mus')\n",
    "\n",
    "\n",
    "    plt.subplot(nrows,ncols,27)\n",
    "    plt.hist(tg_s[1].flatten(),alpha=.5);\n",
    "    plt.hist(tg_z[1].flatten(),alpha=.5);\n",
    "    plt.hist(bg_z[1].flatten(),alpha=.5);\n",
    "    plt.legend(['tg_s','tg_z','bg_z'])\n",
    "    plt.title('Sigmas')\n",
    "\n",
    "    plt.tight_layout()\n",
    "    plt.show()\n",
    "    sys.stdout.flush()"
   ]
  },
  {
   "cell_type": "code",
   "execution_count": 23,
   "id": "2c0a2d14",
   "metadata": {
    "execution": {
     "iopub.execute_input": "2021-12-03T13:35:31.317066Z",
     "iopub.status.busy": "2021-12-03T13:35:31.312747Z",
     "iopub.status.idle": "2021-12-03T13:35:31.318142Z",
     "shell.execute_reply": "2021-12-03T13:35:31.318404Z"
    },
    "papermill": {
     "duration": 0.047319,
     "end_time": "2021-12-03T13:35:31.318484",
     "exception": false,
     "start_time": "2021-12-03T13:35:31.271165",
     "status": "completed"
    },
    "tags": []
   },
   "outputs": [],
   "source": [
    "import tensorflow as tf\n",
    "import numpy as np\n",
    "import matplotlib.pyplot as plt\n",
    "from sklearn.metrics import silhouette_score\n",
    "from tensorflow.keras.layers import *\n",
    "from tensorflow.keras import backend as K\n",
    "from tensorflow.keras.models import Model\n",
    "from tensorflow.keras.losses import mse\n",
    "import os\n",
    "import pandas as pd\n",
    "\n",
    "def get_fMRI_CVAE_3D(input_shape=(51,51,1),\n",
    "                     latent_dim=[2,2],\n",
    "                     beta=1,\n",
    "                     disentangle=False,\n",
    "                     gamma=1,\n",
    "                     bias=True,\n",
    "                     batch_size = 32,\n",
    "                     kernel_size = 3,\n",
    "                     filters = 16,\n",
    "                     intermediate_dim = 128,\n",
    "                     nlayers = 2,\n",
    "                     learning_rate=0.001,\n",
    "                     opt=None):\n",
    "    \n",
    "    \n",
    "    ndim_bg = latent_dim[0]\n",
    "    ndim_sl = latent_dim[1]\n",
    "    \n",
    "    image_size, _, channels = input_shape\n",
    "\n",
    "    kernel_regularizer=regularizers.l2(.0001)\n",
    "\n",
    "    # build encoder model\n",
    "    tg_inputs = Input(shape=input_shape, name='tg_inputs')\n",
    "    bg_inputs = Input(shape=input_shape, name='bg_inputs')\n",
    "    \n",
    "    BatchNorm = tf.keras.layers.BatchNormalization(\n",
    "    axis=-1, momentum=0.99, epsilon=0.001, center=True, scale=True,\n",
    "    beta_initializer='zeros', gamma_initializer='ones',\n",
    "    moving_mean_initializer='zeros',\n",
    "    moving_variance_initializer='ones', beta_regularizer=None,\n",
    "    gamma_regularizer=None, beta_constraint=None, gamma_constraint=None)\n",
    "\n",
    "    #kernel_initializer = tf.keras.initializers.RandomNormal(mean=0.0,stddev=5)\n",
    "    kernel_initializer = tf.keras.initializers.RandomUniform()\n",
    "\n",
    "    # generate latent vector Q(z|X)\n",
    "    \n",
    "    \n",
    "    #z_h_layer = Dense(intermediate_dim,activation='relu', use_bias=bias,kernel_regularizer=kernel_regularizer)\n",
    "    z_h_layer = Dense(intermediate_dim, activation='relu', use_bias=bias,kernel_regularizer=kernel_regularizer,kernel_initializer=tf.keras.initializers.random_normal(mean=0.0, stddev=5),bias_initializer=tf.keras.initializers.random_normal(mean=0.0, stddev=5))\n",
    "    z_mean_layer = Dense(ndim_bg, name='z_mean', use_bias=bias,kernel_regularizer=kernel_regularizer)\n",
    "    z_log_var_layer = Dense(ndim_bg, name='z_log_var', use_bias=bias,kernel_regularizer=kernel_regularizer)\n",
    "    z_layer = Lambda(sampling, output_shape=(ndim_bg,), name='z')\n",
    "\n",
    "    def z_encoder_func(inputs):\n",
    "        z_h = inputs\n",
    "\n",
    "        these_filters = filters\n",
    "        for i in range(nlayers):\n",
    "            these_filters *= 2\n",
    "            #print(these_filters)\n",
    "            z_h = Conv2D(filters=these_filters,\n",
    "                    kernel_size=kernel_size,\n",
    "                    activation='relu',\n",
    "                    strides=2,\n",
    "                    padding='same',\n",
    "                    use_bias=bias,\n",
    "                    kernel_regularizer=kernel_regularizer)(z_h)\n",
    "        \n",
    "        # shape info needed to build decoder model\n",
    "        shape = K.int_shape(z_h)\n",
    "        z_h = Flatten()(z_h)\n",
    "        z_h = z_h_layer(z_h)\n",
    "        z_mean =  z_mean_layer(z_h)\n",
    "        #z_mean = BatchNorm(z_mean)\n",
    "        \n",
    "        z_log_var =  z_log_var_layer(z_h)\n",
    "        z = z_layer([z_mean, z_log_var])\n",
    "        return z_mean, z_log_var, z, shape\n",
    "\n",
    "    tg_z_mean, tg_z_log_var, tg_z, shape_z = z_encoder_func(tg_inputs)\n",
    "\n",
    "    # generate latent vector Q(z|X)\n",
    "    #s_h_layer = Dense(intermediate_dim, activation='relu', use_bias=bias,kernel_regularizer=kernel_regularizer)\n",
    "    s_h_layer = Dense(intermediate_dim, activation='relu', use_bias=bias,kernel_regularizer=kernel_regularizer,kernel_initializer=tf.keras.initializers.random_normal(mean=0.0, stddev=5),bias_initializer=tf.keras.initializers.random_normal(mean=0.0, stddev=5))\n",
    "    s_mean_layer = Dense(ndim_sl, name='s_mean', use_bias=bias,kernel_regularizer=kernel_regularizer)\n",
    "    s_log_var_layer = Dense(ndim_sl, name='s_log_var', use_bias=bias,kernel_regularizer=kernel_regularizer)\n",
    "    s_layer = Lambda(sampling, output_shape=(ndim_sl,), name='s')\n",
    "\n",
    "    def s_encoder_func(inputs):\n",
    "        s_h = inputs\n",
    "        these_filters = filters\n",
    "        for i in range(nlayers):\n",
    "            these_filters *= 2\n",
    "            s_h = Conv2D(filters=these_filters,\n",
    "                    kernel_size=kernel_size,\n",
    "                    activation='relu',\n",
    "                    strides=2,\n",
    "                    use_bias=bias,\n",
    "                    kernel_regularizer=kernel_regularizer,\n",
    "                    padding='same')(s_h)\n",
    "        \n",
    "        # shape info needed to build decoder model\n",
    "        shape = K.int_shape(s_h)\n",
    "        s_h = Flatten()(s_h)\n",
    "        s_h = s_h_layer(s_h)\n",
    "        s_mean =  s_mean_layer(s_h)\n",
    "        #s_mean = BatchNorm(s_mean)\n",
    "        \n",
    "        s_log_var =  s_log_var_layer(s_h)        \n",
    "        s = s_layer([s_mean, s_log_var])\n",
    "        \n",
    "        return s_mean, s_log_var, s, shape\n",
    "\n",
    "    tg_s_mean, tg_s_log_var, tg_s, shape_s = s_encoder_func(tg_inputs)\n",
    "    bg_z_mean, bg_z_log_var, bg_z, _ = z_encoder_func(bg_inputs) # Aidas and Stefano team hax\n",
    "    \n",
    "    \n",
    "    # instantiate encoder models\n",
    "    z_encoder = tf.keras.models.Model(tg_inputs, [tg_z_mean, tg_z_log_var, tg_z], name='z_encoder')\n",
    "    s_encoder = tf.keras.models.Model(tg_inputs, [tg_s_mean, tg_s_log_var, tg_s], name='s_encoder')\n",
    "\n",
    "\n",
    "    # build decoder model\n",
    "    latent_inputs = Input(shape=(ndim_bg+ndim_sl,), name='z_sampling')\n",
    "\n",
    "    x = Dense(intermediate_dim, activation='relu', use_bias=bias,kernel_regularizer=kernel_regularizer,kernel_initializer=kernel_initializer)(latent_inputs)\n",
    "    x = Dense(shape_z[1] * shape_z[2] * shape_z[3], activation='relu', use_bias=bias,kernel_regularizer=kernel_regularizer,kernel_initializer=kernel_initializer)(x)\n",
    "    x = Reshape((shape_z[1], shape_z[2], shape_z[3]))(x)\n",
    "\n",
    "    these_filters = filters*(2**nlayers)/2\n",
    "    for i in range(nlayers-1):\n",
    "        x = Conv2DTranspose(filters=these_filters,\n",
    "                          kernel_size=kernel_size,\n",
    "                          activation='relu',\n",
    "                          strides=2,\n",
    "                          use_bias=bias,\n",
    "                          kernel_regularizer=kernel_regularizer,\n",
    "                          padding='same')(x)\n",
    "        these_filters //= 2\n",
    "\n",
    "    outputs = Conv2DTranspose(filters=channels,\n",
    "                            kernel_size=kernel_size,\n",
    "                            activation='sigmoid',\n",
    "                            padding='same',\n",
    "                            strides=2,\n",
    "                            use_bias=bias,\n",
    "                            kernel_regularizer=kernel_regularizer,\n",
    "                            name='decoder_output')(x)\n",
    "\n",
    "    # instantiate decoder model\n",
    "    cvae_decoder = Model(latent_inputs, outputs, name='decoder')\n",
    "      # decoder.summary()\n",
    "\n",
    "    def zeros_like(x):\n",
    "        return tf.zeros_like(x)\n",
    "\n",
    "    tg_outputs = cvae_decoder(tf.keras.layers.concatenate([tg_z, tg_s], -1))\n",
    "    zeros = tf.keras.layers.Lambda(zeros_like)(tg_s)\n",
    "\n",
    "    bg_outputs = cvae_decoder(tf.keras.layers.concatenate([bg_z, zeros], -1)) # Aidas look into this, is this correct\n",
    "\n",
    "    cvae = tf.keras.models.Model(inputs=[tg_inputs, bg_inputs], \n",
    "                                  outputs=[tg_outputs, bg_outputs],\n",
    "                                  name='contrastive_vae')\n",
    "\n",
    "#     cvae_fg = tf.keras.models.Model(inputs=tg_inputs, \n",
    "#                                   outputs=fg_outputs, \n",
    "#                                   name='contrastive_vae_fg')\n",
    "\n",
    "    if disentangle:\n",
    "        discriminator = Dense(1, activation='sigmoid')\n",
    "\n",
    "        z1 = Lambda(lambda x: x[:int(batch_size/2),:])(tg_z)\n",
    "        z2 = Lambda(lambda x: x[int(batch_size/2):,:])(tg_z)\n",
    "        s1 = Lambda(lambda x: x[:int(batch_size/2),:])(tg_s)\n",
    "        s2 = Lambda(lambda x: x[int(batch_size/2):,:])(tg_s)\n",
    "\n",
    "        q_bar = tf.keras.layers.concatenate(\n",
    "          [tf.keras.layers.concatenate([s1, z2], axis=1),\n",
    "          tf.keras.layers.concatenate([s2, z1], axis=1)],\n",
    "          axis=0)\n",
    "\n",
    "        q = tf.keras.layers.concatenate(\n",
    "          [tf.keras.layers.concatenate([s1, z1], axis=1),\n",
    "          tf.keras.layers.concatenate([s2, z2], axis=1)],\n",
    "          axis=0)\n",
    "\n",
    "        q_bar_score = (discriminator(q_bar)+.1) *.85 # +.1 * .85 so that it's 0<x<1\n",
    "        q_score = (discriminator(q)+.1) *.85 \n",
    "        tc_loss = K.log(q_score / (1 - q_score)) \n",
    "        discriminator_loss = - K.log(q_score) - K.log(1 - q_bar_score)\n",
    "    else:\n",
    "        tc_loss = 0\n",
    "        discriminator_loss = 0\n",
    "\n",
    "\n",
    "    reconstruction_loss = tf.keras.losses.mse(K.flatten(tg_inputs[:,6:57,6:57,:]), K.flatten(tg_outputs[:,6:57,6:57,:])) \n",
    "    reconstruction_loss += tf.keras.losses.mse(K.flatten(bg_inputs[:,6:57,6:57,:]), K.flatten(bg_outputs[:,6:57,6:57,:])) \n",
    "    reconstruction_loss *= input_shape[0] * input_shape[1] * input_shape[2]\n",
    "\n",
    "    kl_loss1 = 1 + tg_z_log_var - tf.keras.backend.square(tg_z_mean) - tf.keras.backend.exp(tg_z_log_var)\n",
    "    kl_loss2 = 1 + tg_s_log_var - tf.keras.backend.square(tg_s_mean) - tf.keras.backend.exp(tg_s_log_var)\n",
    "    kl_loss3 = 1 + bg_z_log_var - tf.keras.backend.square(bg_z_mean) - tf.keras.backend.exp(bg_z_log_var)\n",
    "\n",
    "    kl_loss1 = tf.keras.backend.sum(kl_loss1, axis=-1)\n",
    "    kl_loss2 = tf.keras.backend.sum(kl_loss2, axis=-1)\n",
    "    kl_loss3 = tf.keras.backend.sum(kl_loss3, axis=-1)\n",
    "\n",
    "    kl_loss = kl_loss1+kl_loss2+kl_loss3\n",
    "    #kl_loss = tf.keras.backend.sum(kl_loss, axis=-1)\n",
    "    kl_loss *= -0.5\n",
    "    \n",
    "    cvae_loss = tf.keras.backend.mean(reconstruction_loss + beta*kl_loss + gamma*tc_loss + discriminator_loss)\n",
    "    cvae.add_loss(cvae_loss)\n",
    "    \n",
    "    if type(opt)==type(None):\n",
    "        #print('optimizer not specified using ADAM, wroom wroom')\n",
    "        opt = tf.keras.optimizers.Adam(learning_rate=learning_rate,beta_1=0.9,beta_2=0.999,epsilon=1e-07,amsgrad=False,name='Adam')\n",
    "        #opt = tf.keras.optimizers.RMSprop(learning_rate=0.001, rho=0.9, momentum=0.9, epsilon=1e-07, centered=False, name='RMSprop')\n",
    "        #opt = tf.keras.optimizers.SGD(learning_rate=0.001, momentum=0.1, nesterov=False, name='SGD')\n",
    "\n",
    "\n",
    "    cvae.compile(optimizer=opt,run_eagerly=True)\n",
    "    \n",
    "    return cvae, z_encoder, s_encoder, cvae_decoder"
   ]
  },
  {
   "cell_type": "code",
   "execution_count": 24,
   "id": "38718148",
   "metadata": {
    "execution": {
     "iopub.execute_input": "2021-12-03T13:35:31.361980Z",
     "iopub.status.busy": "2021-12-03T13:35:31.361643Z",
     "iopub.status.idle": "2021-12-03T13:35:31.801666Z",
     "shell.execute_reply": "2021-12-03T13:35:31.801379Z"
    },
    "papermill": {
     "duration": 0.463828,
     "end_time": "2021-12-03T13:35:31.801742",
     "exception": false,
     "start_time": "2021-12-03T13:35:31.337914",
     "status": "completed"
    },
    "tags": []
   },
   "outputs": [
    {
     "name": "stdout",
     "output_type": "stream",
     "text": [
      "# params| 403,538\n"
     ]
    }
   ],
   "source": [
    "batch_size = 32\n",
    "cvae, z_encoder, s_encoder, cvae_decoder = get_fMRI_CVAE_3D(input_shape=(64,64,1),\n",
    "                                                             latent_dim=[64,16],\n",
    "                                                             beta=.01,\n",
    "                                                             gamma=10,\n",
    "                                                             disentangle=True,\n",
    "                                                             bias=True,\n",
    "                                                             batch_size = batch_size,\n",
    "                                                             kernel_size = 2,\n",
    "                                                             filters = 4,\n",
    "                                                             intermediate_dim = 128,\n",
    "                                                             nlayers = 5,\n",
    "                                                             learning_rate=0.001,\n",
    "                                                             opt=None)\n",
    "\n",
    "num_params = np.sum([np.prod(val.get_shape()) for val in cvae.trainable_weights])\n",
    "print(f'# params| {num_params:,}')"
   ]
  },
  {
   "cell_type": "code",
   "execution_count": 25,
   "id": "ffa4bae0",
   "metadata": {
    "execution": {
     "iopub.execute_input": "2021-12-03T13:35:31.843573Z",
     "iopub.status.busy": "2021-12-03T13:35:31.843252Z",
     "iopub.status.idle": "2021-12-03T13:35:31.845295Z",
     "shell.execute_reply": "2021-12-03T13:35:31.845013Z"
    },
    "papermill": {
     "duration": 0.023633,
     "end_time": "2021-12-03T13:35:31.845364",
     "exception": false,
     "start_time": "2021-12-03T13:35:31.821731",
     "status": "completed"
    },
    "tags": []
   },
   "outputs": [
    {
     "data": {
      "text/plain": [
       "(1048, 51, 51)"
      ]
     },
     "execution_count": 25,
     "metadata": {},
     "output_type": "execute_result"
    }
   ],
   "source": [
    "tuple(data_size)"
   ]
  },
  {
   "cell_type": "code",
   "execution_count": 26,
   "id": "4ca5eb5d",
   "metadata": {
    "execution": {
     "iopub.execute_input": "2021-12-03T13:35:31.888098Z",
     "iopub.status.busy": "2021-12-03T13:35:31.887769Z",
     "iopub.status.idle": "2021-12-03T13:35:31.890759Z",
     "shell.execute_reply": "2021-12-03T13:35:31.890480Z"
    },
    "papermill": {
     "duration": 0.025831,
     "end_time": "2021-12-03T13:35:31.890832",
     "exception": false,
     "start_time": "2021-12-03T13:35:31.865001",
     "status": "completed"
    },
    "tags": []
   },
   "outputs": [
    {
     "name": "stdout",
     "output_type": "stream",
     "text": [
      "Model: \"z_encoder\"\n",
      "______________________________________________________________________________________________________________________________________________________\n",
      "Layer (type)                                     Output Shape                     Param #           Connected to                                      \n",
      "======================================================================================================================================================\n",
      "tg_inputs (InputLayer)                           [(None, 64, 64, 1)]              0                                                                   \n",
      "______________________________________________________________________________________________________________________________________________________\n",
      "conv2d (Conv2D)                                  (None, 32, 32, 8)                40                tg_inputs[0][0]                                   \n",
      "______________________________________________________________________________________________________________________________________________________\n",
      "conv2d_1 (Conv2D)                                (None, 16, 16, 16)               528               conv2d[0][0]                                      \n",
      "______________________________________________________________________________________________________________________________________________________\n",
      "conv2d_2 (Conv2D)                                (None, 8, 8, 32)                 2080              conv2d_1[0][0]                                    \n",
      "______________________________________________________________________________________________________________________________________________________\n",
      "conv2d_3 (Conv2D)                                (None, 4, 4, 64)                 8256              conv2d_2[0][0]                                    \n",
      "______________________________________________________________________________________________________________________________________________________\n",
      "conv2d_4 (Conv2D)                                (None, 2, 2, 128)                32896             conv2d_3[0][0]                                    \n",
      "______________________________________________________________________________________________________________________________________________________\n",
      "flatten (Flatten)                                (None, 512)                      0                 conv2d_4[0][0]                                    \n",
      "______________________________________________________________________________________________________________________________________________________\n",
      "dense (Dense)                                    (None, 128)                      65664             flatten[0][0]                                     \n",
      "______________________________________________________________________________________________________________________________________________________\n",
      "z_mean (Dense)                                   (None, 64)                       8256              dense[0][0]                                       \n",
      "______________________________________________________________________________________________________________________________________________________\n",
      "z_log_var (Dense)                                (None, 64)                       8256              dense[0][0]                                       \n",
      "______________________________________________________________________________________________________________________________________________________\n",
      "z (Lambda)                                       (None, 64)                       0                 z_mean[0][0]                                      \n",
      "                                                                                                    z_log_var[0][0]                                   \n",
      "======================================================================================================================================================\n",
      "Total params: 125,976\n",
      "Trainable params: 125,976\n",
      "Non-trainable params: 0\n",
      "______________________________________________________________________________________________________________________________________________________\n"
     ]
    }
   ],
   "source": [
    "z_encoder.summary(line_length=150)"
   ]
  },
  {
   "cell_type": "code",
   "execution_count": 27,
   "id": "ef8d7bee",
   "metadata": {
    "execution": {
     "iopub.execute_input": "2021-12-03T13:35:31.933409Z",
     "iopub.status.busy": "2021-12-03T13:35:31.932799Z",
     "iopub.status.idle": "2021-12-03T13:35:31.936530Z",
     "shell.execute_reply": "2021-12-03T13:35:31.936251Z"
    },
    "papermill": {
     "duration": 0.025958,
     "end_time": "2021-12-03T13:35:31.936598",
     "exception": false,
     "start_time": "2021-12-03T13:35:31.910640",
     "status": "completed"
    },
    "tags": []
   },
   "outputs": [
    {
     "name": "stdout",
     "output_type": "stream",
     "text": [
      "Model: \"s_encoder\"\n",
      "______________________________________________________________________________________________________________________________________________________\n",
      "Layer (type)                                     Output Shape                     Param #           Connected to                                      \n",
      "======================================================================================================================================================\n",
      "tg_inputs (InputLayer)                           [(None, 64, 64, 1)]              0                                                                   \n",
      "______________________________________________________________________________________________________________________________________________________\n",
      "conv2d_5 (Conv2D)                                (None, 32, 32, 8)                40                tg_inputs[0][0]                                   \n",
      "______________________________________________________________________________________________________________________________________________________\n",
      "conv2d_6 (Conv2D)                                (None, 16, 16, 16)               528               conv2d_5[0][0]                                    \n",
      "______________________________________________________________________________________________________________________________________________________\n",
      "conv2d_7 (Conv2D)                                (None, 8, 8, 32)                 2080              conv2d_6[0][0]                                    \n",
      "______________________________________________________________________________________________________________________________________________________\n",
      "conv2d_8 (Conv2D)                                (None, 4, 4, 64)                 8256              conv2d_7[0][0]                                    \n",
      "______________________________________________________________________________________________________________________________________________________\n",
      "conv2d_9 (Conv2D)                                (None, 2, 2, 128)                32896             conv2d_8[0][0]                                    \n",
      "______________________________________________________________________________________________________________________________________________________\n",
      "flatten_1 (Flatten)                              (None, 512)                      0                 conv2d_9[0][0]                                    \n",
      "______________________________________________________________________________________________________________________________________________________\n",
      "dense_1 (Dense)                                  (None, 128)                      65664             flatten_1[0][0]                                   \n",
      "______________________________________________________________________________________________________________________________________________________\n",
      "s_mean (Dense)                                   (None, 16)                       2064              dense_1[0][0]                                     \n",
      "______________________________________________________________________________________________________________________________________________________\n",
      "s_log_var (Dense)                                (None, 16)                       2064              dense_1[0][0]                                     \n",
      "______________________________________________________________________________________________________________________________________________________\n",
      "s (Lambda)                                       (None, 16)                       0                 s_mean[0][0]                                      \n",
      "                                                                                                    s_log_var[0][0]                                   \n",
      "======================================================================================================================================================\n",
      "Total params: 113,592\n",
      "Trainable params: 113,592\n",
      "Non-trainable params: 0\n",
      "______________________________________________________________________________________________________________________________________________________\n"
     ]
    }
   ],
   "source": [
    "s_encoder.summary(line_length=150)"
   ]
  },
  {
   "cell_type": "code",
   "execution_count": 28,
   "id": "a8ace06a",
   "metadata": {
    "execution": {
     "iopub.execute_input": "2021-12-03T13:35:31.980346Z",
     "iopub.status.busy": "2021-12-03T13:35:31.980024Z",
     "iopub.status.idle": "2021-12-03T13:35:31.983004Z",
     "shell.execute_reply": "2021-12-03T13:35:31.982719Z"
    },
    "papermill": {
     "duration": 0.026046,
     "end_time": "2021-12-03T13:35:31.983073",
     "exception": false,
     "start_time": "2021-12-03T13:35:31.957027",
     "status": "completed"
    },
    "tags": []
   },
   "outputs": [
    {
     "name": "stdout",
     "output_type": "stream",
     "text": [
      "Model: \"decoder\"\n",
      "______________________________________________________________________________________________________________________________________________________\n",
      "Layer (type)                                                       Output Shape                                                Param #                \n",
      "======================================================================================================================================================\n",
      "z_sampling (InputLayer)                                            [(None, 80)]                                                0                      \n",
      "______________________________________________________________________________________________________________________________________________________\n",
      "dense_2 (Dense)                                                    (None, 128)                                                 10368                  \n",
      "______________________________________________________________________________________________________________________________________________________\n",
      "dense_3 (Dense)                                                    (None, 512)                                                 66048                  \n",
      "______________________________________________________________________________________________________________________________________________________\n",
      "reshape (Reshape)                                                  (None, 2, 2, 128)                                           0                      \n",
      "______________________________________________________________________________________________________________________________________________________\n",
      "conv2d_transpose (Conv2DTranspose)                                 (None, 4, 4, 64)                                            32832                  \n",
      "______________________________________________________________________________________________________________________________________________________\n",
      "conv2d_transpose_1 (Conv2DTranspose)                               (None, 8, 8, 32)                                            8224                   \n",
      "______________________________________________________________________________________________________________________________________________________\n",
      "conv2d_transpose_2 (Conv2DTranspose)                               (None, 16, 16, 16)                                          2064                   \n",
      "______________________________________________________________________________________________________________________________________________________\n",
      "conv2d_transpose_3 (Conv2DTranspose)                               (None, 32, 32, 8)                                           520                    \n",
      "______________________________________________________________________________________________________________________________________________________\n",
      "decoder_output (Conv2DTranspose)                                   (None, 64, 64, 1)                                           33                     \n",
      "======================================================================================================================================================\n",
      "Total params: 120,089\n",
      "Trainable params: 120,089\n",
      "Non-trainable params: 0\n",
      "______________________________________________________________________________________________________________________________________________________\n"
     ]
    }
   ],
   "source": [
    "cvae_decoder.summary(line_length=150)"
   ]
  },
  {
   "cell_type": "code",
   "execution_count": 29,
   "id": "94eee21d",
   "metadata": {
    "execution": {
     "iopub.execute_input": "2021-12-03T13:35:32.026323Z",
     "iopub.status.busy": "2021-12-03T13:35:32.026000Z",
     "iopub.status.idle": "2021-12-03T13:35:32.027591Z",
     "shell.execute_reply": "2021-12-03T13:35:32.027316Z"
    },
    "papermill": {
     "duration": 0.023878,
     "end_time": "2021-12-03T13:35:32.027659",
     "exception": false,
     "start_time": "2021-12-03T13:35:32.003781",
     "status": "completed"
    },
    "tags": []
   },
   "outputs": [],
   "source": [
    "loss,all_rsas,sigmas,mus,c_sim = [],[],[],[],[]"
   ]
  },
  {
   "cell_type": "code",
   "execution_count": 30,
   "id": "a205d649",
   "metadata": {
    "execution": {
     "iopub.execute_input": "2021-12-03T13:35:32.072560Z",
     "iopub.status.busy": "2021-12-03T13:35:32.072239Z",
     "iopub.status.idle": "2021-12-03T13:35:32.073846Z",
     "shell.execute_reply": "2021-12-03T13:35:32.073567Z"
    },
    "papermill": {
     "duration": 0.023976,
     "end_time": "2021-12-03T13:35:32.073916",
     "exception": false,
     "start_time": "2021-12-03T13:35:32.049940",
     "status": "completed"
    },
    "tags": []
   },
   "outputs": [],
   "source": [
    "loss_mse,loss_kl,loss_dc,loss_tc = [],[],[],[]"
   ]
  },
  {
   "cell_type": "code",
   "execution_count": 31,
   "id": "390ac6e7",
   "metadata": {
    "execution": {
     "iopub.execute_input": "2021-12-03T13:35:32.117406Z",
     "iopub.status.busy": "2021-12-03T13:35:32.117084Z",
     "iopub.status.idle": "2021-12-03T13:35:32.118623Z",
     "shell.execute_reply": "2021-12-03T13:35:32.118886Z"
    },
    "papermill": {
     "duration": 0.024398,
     "end_time": "2021-12-03T13:35:32.118967",
     "exception": false,
     "start_time": "2021-12-03T13:35:32.094569",
     "status": "completed"
    },
    "tags": []
   },
   "outputs": [],
   "source": [
    "data_loader = cvae_data_loader(data_dir=data_dir, df=df, batch_size=batch_size)"
   ]
  },
  {
   "cell_type": "code",
   "execution_count": 32,
   "id": "f91a2957",
   "metadata": {
    "execution": {
     "iopub.execute_input": "2021-12-03T13:35:32.162859Z",
     "iopub.status.busy": "2021-12-03T13:35:32.162533Z",
     "iopub.status.idle": "2021-12-03T13:35:32.164270Z",
     "shell.execute_reply": "2021-12-03T13:35:32.164533Z"
    },
    "papermill": {
     "duration": 0.024958,
     "end_time": "2021-12-03T13:35:32.164613",
     "exception": false,
     "start_time": "2021-12-03T13:35:32.139655",
     "status": "completed"
    },
    "tags": []
   },
   "outputs": [
    {
     "data": {
      "text/plain": [
       "16"
      ]
     },
     "execution_count": 32,
     "metadata": {},
     "output_type": "execute_result"
    }
   ],
   "source": [
    "data_loader.n_batches"
   ]
  },
  {
   "cell_type": "code",
   "execution_count": 33,
   "id": "f6e106e3",
   "metadata": {
    "execution": {
     "iopub.execute_input": "2021-12-03T13:35:32.211335Z",
     "iopub.status.busy": "2021-12-03T13:35:32.211002Z"
    },
    "papermill": {
     "duration": null,
     "end_time": null,
     "exception": false,
     "start_time": "2021-12-03T13:35:32.185303",
     "status": "running"
    },
    "tags": []
   },
   "outputs": [
    {
     "data": {
      "text/plain": [
       "<Figure size 432x288 with 0 Axes>"
      ]
     },
     "metadata": {},
     "output_type": "display_data"
    },
    {
     "name": "stderr",
     "output_type": "stream",
     "text": [
      "<ipython-input-22-8b4cb46a7f77>:32: MatplotlibDeprecationWarning: Passing non-integers as three-element position specification is deprecated since 3.3 and will be removed two minor releases later.\n",
      "  plt.subplot(nrows,ncols/2,1) # PLOT LOSS\n"
     ]
    },
    {
     "data": {
      "image/png": "[encoded data removed]",
      "text/plain": [
       "<Figure size 1080x1080 with 32 Axes>"
      ]
     },
     "metadata": {
      "needs_background": "light"
     },
     "output_type": "display_data"
    },
    {
     "name": "stderr",
     "output_type": "stream",
     "text": [
      "\r",
      " 21%|██        | 1051/5001 [24:03<2:42:55,  2.47s/it]"
     ]
    },
    {
     "name": "stderr",
     "output_type": "stream",
     "text": [
      "\r",
      " 21%|██        | 1052/5001 [24:04<2:17:43,  2.09s/it]"
     ]
    },
    {
     "name": "stderr",
     "output_type": "stream",
     "text": [
      "\r",
      " 21%|██        | 1053/5001 [24:06<1:59:59,  1.82s/it]"
     ]
    },
    {
     "name": "stderr",
     "output_type": "stream",
     "text": [
      "\r",
      " 21%|██        | 1054/5001 [24:07<1:47:21,  1.63s/it]"
     ]
    },
    {
     "name": "stderr",
     "output_type": "stream",
     "text": [
      "\r",
      " 21%|██        | 1055/5001 [24:08<1:38:36,  1.50s/it]"
     ]
    },
    {
     "name": "stderr",
     "output_type": "stream",
     "text": [
      "\r",
      " 21%|██        | 1056/5001 [24:09<1:32:23,  1.41s/it]"
     ]
    },
    {
     "name": "stderr",
     "output_type": "stream",
     "text": [
      "\r",
      " 21%|██        | 1057/5001 [24:10<1:28:05,  1.34s/it]"
     ]
    },
    {
     "name": "stderr",
     "output_type": "stream",
     "text": [
      "\r",
      " 21%|██        | 1058/5001 [24:11<1:25:01,  1.29s/it]"
     ]
    },
    {
     "name": "stderr",
     "output_type": "stream",
     "text": [
      "\r",
      " 21%|██        | 1059/5001 [24:13<1:22:53,  1.26s/it]"
     ]
    },
    {
     "name": "stderr",
     "output_type": "stream",
     "text": [
      "\r",
      " 21%|██        | 1060/5001 [24:14<1:24:56,  1.29s/it]"
     ]
    },
    {
     "name": "stderr",
     "output_type": "stream",
     "text": [
      "\r",
      " 21%|██        | 1061/5001 [24:15<1:22:52,  1.26s/it]"
     ]
    },
    {
     "name": "stderr",
     "output_type": "stream",
     "text": [
      "\r",
      " 21%|██        | 1062/5001 [24:16<1:21:24,  1.24s/it]"
     ]
    },
    {
     "name": "stderr",
     "output_type": "stream",
     "text": [
      "\r",
      " 21%|██▏       | 1063/5001 [24:18<1:20:24,  1.23s/it]"
     ]
    },
    {
     "name": "stderr",
     "output_type": "stream",
     "text": [
      "\r",
      " 21%|██▏       | 1064/5001 [24:19<1:19:40,  1.21s/it]"
     ]
    },
    {
     "name": "stderr",
     "output_type": "stream",
     "text": [
      "\r",
      " 21%|██▏       | 1065/5001 [24:20<1:19:09,  1.21s/it]"
     ]
    },
    {
     "name": "stderr",
     "output_type": "stream",
     "text": [
      "\r",
      " 21%|██▏       | 1066/5001 [24:21<1:18:44,  1.20s/it]"
     ]
    },
    {
     "name": "stderr",
     "output_type": "stream",
     "text": [
      "\r",
      " 21%|██▏       | 1067/5001 [24:22<1:18:32,  1.20s/it]"
     ]
    },
    {
     "name": "stderr",
     "output_type": "stream",
     "text": [
      "\r",
      " 21%|██▏       | 1068/5001 [24:24<1:18:21,  1.20s/it]"
     ]
    },
    {
     "name": "stderr",
     "output_type": "stream",
     "text": [
      "\r",
      " 21%|██▏       | 1069/5001 [24:25<1:18:10,  1.19s/it]"
     ]
    },
    {
     "name": "stderr",
     "output_type": "stream",
     "text": [
      "\r",
      " 21%|██▏       | 1070/5001 [24:26<1:18:05,  1.19s/it]"
     ]
    },
    {
     "name": "stderr",
     "output_type": "stream",
     "text": [
      "\r",
      " 21%|██▏       | 1071/5001 [24:27<1:17:56,  1.19s/it]"
     ]
    },
    {
     "name": "stderr",
     "output_type": "stream",
     "text": [
      "\r",
      " 21%|██▏       | 1072/5001 [24:28<1:18:22,  1.20s/it]"
     ]
    }
   ],
   "source": [
    "for epoch in tqdm(range(5001)):\n",
    "    for i in range(data_loader.n_batches):\n",
    "        \n",
    "        patient_batch,control_batch,batch_df = data_loader.get_batch() # Get a batch\n",
    "        \n",
    "        # Pad the batches\n",
    "        patient_batch = pad2d(patient_batch[:,:,:,np.newaxis])\n",
    "        control_batch = pad2d(control_batch[:,:,:,np.newaxis])\n",
    "        \n",
    "        hist = cvae.train_on_batch([patient_batch[:,:,:],control_batch[:,:,:]]) # pass a batch\n",
    "        assert not np.isnan(hist),'loss is NaN - you f**cked up'  # check nothing crashed\n",
    "        loss.append(hist) # keep track of loss\n",
    "        \n",
    "        # Remove Padding\n",
    "        patient_batch = patient_batch.numpy()[:,:,:,0]\n",
    "        control_batch = control_batch.numpy()[:,:,:,0]\n",
    "        #patient_batch = patient_batch[:,6:57,6:57,:]\n",
    "        #control_batch = control_batch[:,6:57,6:57,:]\n",
    "        \n",
    "        if all((i==0,np.mod(epoch,25)==0)):\n",
    "            cvae_dashboard() # plot training progress\n",
    "            cvae.save_weights(os.path.join(save_dir,'cvae_weights')) # SAVE WEIGHTS\n",
    "            np.save(os.path.join(save_dir,'cvae_loss.npy'),np.array(loss)) # Save loss\n",
    "            #plt.show()"
   ]
  },
  {
   "cell_type": "code",
   "execution_count": null,
   "id": "7e9aa2b8",
   "metadata": {
    "papermill": {
     "duration": null,
     "end_time": null,
     "exception": null,
     "start_time": null,
     "status": "pending"
    },
    "tags": []
   },
   "outputs": [],
   "source": []
  },
  {
   "cell_type": "code",
   "execution_count": null,
   "id": "1ee501eb",
   "metadata": {
    "papermill": {
     "duration": null,
     "end_time": null,
     "exception": null,
     "start_time": null,
     "status": "pending"
    },
    "tags": []
   },
   "outputs": [],
   "source": []
  },
  {
   "cell_type": "code",
   "execution_count": null,
   "id": "7524b5ce",
   "metadata": {
    "papermill": {
     "duration": null,
     "end_time": null,
     "exception": null,
     "start_time": null,
     "status": "pending"
    },
    "tags": []
   },
   "outputs": [],
   "source": []
  },
  {
   "cell_type": "code",
   "execution_count": null,
   "id": "c29f48eb",
   "metadata": {
    "papermill": {
     "duration": null,
     "end_time": null,
     "exception": null,
     "start_time": null,
     "status": "pending"
    },
    "tags": []
   },
   "outputs": [],
   "source": []
  },
  {
   "cell_type": "code",
   "execution_count": null,
   "id": "902431f8",
   "metadata": {
    "papermill": {
     "duration": null,
     "end_time": null,
     "exception": null,
     "start_time": null,
     "status": "pending"
    },
    "tags": []
   },
   "outputs": [],
   "source": []
  },
  {
   "cell_type": "code",
   "execution_count": null,
   "id": "a898e782",
   "metadata": {
    "papermill": {
     "duration": null,
     "end_time": null,
     "exception": null,
     "start_time": null,
     "status": "pending"
    },
    "tags": []
   },
   "outputs": [],
   "source": []
  },
  {
   "cell_type": "code",
   "execution_count": null,
   "id": "d95ea07d",
   "metadata": {
    "papermill": {
     "duration": null,
     "end_time": null,
     "exception": null,
     "start_time": null,
     "status": "pending"
    },
    "tags": []
   },
   "outputs": [],
   "source": []
  },
  {
   "cell_type": "code",
   "execution_count": null,
   "id": "4c067248",
   "metadata": {
    "papermill": {
     "duration": null,
     "end_time": null,
     "exception": null,
     "start_time": null,
     "status": "pending"
    },
    "tags": []
   },
   "outputs": [],
   "source": []
  },
  {
   "cell_type": "code",
   "execution_count": null,
   "id": "f18ff366",
   "metadata": {
    "papermill": {
     "duration": null,
     "end_time": null,
     "exception": null,
     "start_time": null,
     "status": "pending"
    },
    "tags": []
   },
   "outputs": [],
   "source": []
  },
  {
   "cell_type": "code",
   "execution_count": null,
   "id": "ad8e84ec",
   "metadata": {
    "papermill": {
     "duration": null,
     "end_time": null,
     "exception": null,
     "start_time": null,
     "status": "pending"
    },
    "tags": []
   },
   "outputs": [],
   "source": [
    "cvae.summary(line_length=150)"
   ]
  },
  {
   "cell_type": "code",
   "execution_count": null,
   "id": "8d3a9851",
   "metadata": {
    "papermill": {
     "duration": null,
     "end_time": null,
     "exception": null,
     "start_time": null,
     "status": "pending"
    },
    "tags": []
   },
   "outputs": [],
   "source": []
  },
  {
   "cell_type": "code",
   "execution_count": null,
   "id": "a197b8ba",
   "metadata": {
    "papermill": {
     "duration": null,
     "end_time": null,
     "exception": null,
     "start_time": null,
     "status": "pending"
    },
    "tags": []
   },
   "outputs": [],
   "source": []
  }
 ],
 "metadata": {
  "kernelspec": {
   "display_name": "Python 3",
   "language": "python",
   "name": "python3"
  },
  "language_info": {
   "codemirror_mode": {
    "name": "ipython",
    "version": 3
   },
   "file_extension": ".py",
   "mimetype": "text/x-python",
   "name": "python",
   "nbconvert_exporter": "python",
   "pygments_lexer": "ipython3",
   "version": "3.8.5"
  },
  "papermill": {
   "default_parameters": {},
   "duration": null,
   "end_time": null,
   "environment_variables": {},
   "exception": null,
   "input_path": "01-train-CVAE-cmats-smallPaffdded.ipynb",
   "output_path": "./papermill/papermill|01-train-CVAE-cmats-smallPaffdded|2021-12-03-08-35-01.ipynb",
   "parameters": {},
   "start_time": "2021-12-03T13:35:04.010976",
   "version": "2.3.3"
  }
 },
 "nbformat": 4,
 "nbformat_minor": 5
}