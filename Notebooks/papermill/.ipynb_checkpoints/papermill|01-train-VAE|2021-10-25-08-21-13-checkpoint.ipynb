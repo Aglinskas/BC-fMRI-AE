{
 "cells": [
  {
   "cell_type": "code",
   "execution_count": 1,
   "id": "380d5d84",
   "metadata": {
    "execution": {
     "iopub.execute_input": "2021-10-25T12:21:18.955329Z",
     "iopub.status.busy": "2021-10-25T12:21:18.954950Z",
     "iopub.status.idle": "2021-10-25T12:21:19.077070Z",
     "shell.execute_reply": "2021-10-25T12:21:19.077368Z"
    },
    "papermill": {
     "duration": 0.144544,
     "end_time": "2021-10-25T12:21:19.077604",
     "exception": false,
     "start_time": "2021-10-25T12:21:18.933060",
     "status": "completed"
    },
    "tags": []
   },
   "outputs": [
    {
     "name": "stdout",
     "output_type": "stream",
     "text": [
      "Mon Oct 25 08:21:18 EDT 2021\r\n"
     ]
    }
   ],
   "source": [
    "!date"
   ]
  },
  {
   "cell_type": "code",
   "execution_count": 2,
   "id": "b93c835d",
   "metadata": {
    "execution": {
     "iopub.execute_input": "2021-10-25T12:21:19.109728Z",
     "iopub.status.busy": "2021-10-25T12:21:19.109394Z",
     "iopub.status.idle": "2021-10-25T12:21:19.111427Z",
     "shell.execute_reply": "2021-10-25T12:21:19.111090Z"
    },
    "papermill": {
     "duration": 0.020889,
     "end_time": "2021-10-25T12:21:19.111507",
     "exception": false,
     "start_time": "2021-10-25T12:21:19.090618",
     "status": "completed"
    },
    "tags": []
   },
   "outputs": [
    {
     "data": {
      "text/plain": [
       "'/mmfs1/data/aglinska/BC-fMRI-AE/Notebooks'"
      ]
     },
     "execution_count": 2,
     "metadata": {},
     "output_type": "execute_result"
    }
   ],
   "source": [
    "pwd"
   ]
  },
  {
   "cell_type": "code",
   "execution_count": 3,
   "id": "568638b7",
   "metadata": {
    "execution": {
     "iopub.execute_input": "2021-10-25T12:21:19.139682Z",
     "iopub.status.busy": "2021-10-25T12:21:19.139359Z",
     "iopub.status.idle": "2021-10-25T12:21:19.141189Z",
     "shell.execute_reply": "2021-10-25T12:21:19.140906Z"
    },
    "papermill": {
     "duration": 0.017392,
     "end_time": "2021-10-25T12:21:19.141269",
     "exception": false,
     "start_time": "2021-10-25T12:21:19.123877",
     "status": "completed"
    },
    "tags": []
   },
   "outputs": [
    {
     "name": "stdout",
     "output_type": "stream",
     "text": [
      "Interactive namespace is empty.\n"
     ]
    }
   ],
   "source": [
    "whos"
   ]
  },
  {
   "cell_type": "code",
   "execution_count": 4,
   "id": "79002ec0",
   "metadata": {
    "execution": {
     "iopub.execute_input": "2021-10-25T12:21:19.168565Z",
     "iopub.status.busy": "2021-10-25T12:21:19.168234Z",
     "iopub.status.idle": "2021-10-25T12:21:20.675142Z",
     "shell.execute_reply": "2021-10-25T12:21:20.675435Z"
    },
    "papermill": {
     "duration": 1.521841,
     "end_time": "2021-10-25T12:21:20.675559",
     "exception": false,
     "start_time": "2021-10-25T12:21:19.153718",
     "status": "completed"
    },
    "tags": []
   },
   "outputs": [],
   "source": [
    "import numpy as np\n",
    "import pandas as pd\n",
    "import os\n",
    "from tqdm import tqdm\n",
    "from matplotlib import pyplot as plt"
   ]
  },
  {
   "cell_type": "markdown",
   "id": "c3c62092",
   "metadata": {
    "papermill": {
     "duration": 0.012834,
     "end_time": "2021-10-25T12:21:20.708128",
     "exception": false,
     "start_time": "2021-10-25T12:21:20.695294",
     "status": "completed"
    },
    "tags": []
   },
   "source": [
    "### System set-up"
   ]
  },
  {
   "cell_type": "code",
   "execution_count": 5,
   "id": "4ee55e2b",
   "metadata": {
    "execution": {
     "iopub.execute_input": "2021-10-25T12:21:20.735831Z",
     "iopub.status.busy": "2021-10-25T12:21:20.735500Z",
     "iopub.status.idle": "2021-10-25T12:21:30.397400Z",
     "shell.execute_reply": "2021-10-25T12:21:30.397680Z"
    },
    "papermill": {
     "duration": 9.677165,
     "end_time": "2021-10-25T12:21:30.397792",
     "exception": false,
     "start_time": "2021-10-25T12:21:20.720627",
     "status": "completed"
    },
    "tags": []
   },
   "outputs": [
    {
     "data": {
      "text/plain": [
       "'/device:GPU:0'"
      ]
     },
     "execution_count": 5,
     "metadata": {},
     "output_type": "execute_result"
    }
   ],
   "source": [
    "import tensorflow as tf\n",
    "tf.test.gpu_device_name()"
   ]
  },
  {
   "cell_type": "code",
   "execution_count": 6,
   "id": "90563d5a",
   "metadata": {
    "execution": {
     "iopub.execute_input": "2021-10-25T12:21:30.428433Z",
     "iopub.status.busy": "2021-10-25T12:21:30.428091Z",
     "iopub.status.idle": "2021-10-25T12:21:30.429628Z",
     "shell.execute_reply": "2021-10-25T12:21:30.429891Z"
    },
    "papermill": {
     "duration": 0.019603,
     "end_time": "2021-10-25T12:21:30.429985",
     "exception": false,
     "start_time": "2021-10-25T12:21:30.410382",
     "status": "completed"
    },
    "tags": []
   },
   "outputs": [],
   "source": [
    "import os\n",
    "os.environ['CUDA_VISIBLE_DEVICES']='0'"
   ]
  },
  {
   "cell_type": "code",
   "execution_count": 7,
   "id": "80213159",
   "metadata": {
    "execution": {
     "iopub.execute_input": "2021-10-25T12:21:30.458978Z",
     "iopub.status.busy": "2021-10-25T12:21:30.458594Z",
     "iopub.status.idle": "2021-10-25T12:21:30.643603Z",
     "shell.execute_reply": "2021-10-25T12:21:30.643274Z"
    },
    "papermill": {
     "duration": 0.200917,
     "end_time": "2021-10-25T12:21:30.643702",
     "exception": false,
     "start_time": "2021-10-25T12:21:30.442785",
     "status": "completed"
    },
    "tags": []
   },
   "outputs": [
    {
     "name": "stdout",
     "output_type": "stream",
     "text": [
      "              total        used        free      shared  buff/cache   available\r\n",
      "Mem:            187          10         169           4           7         170\r\n",
      "Swap:            11           0          11\r\n"
     ]
    }
   ],
   "source": [
    "!free -g"
   ]
  },
  {
   "cell_type": "code",
   "execution_count": 8,
   "id": "a66f16bc",
   "metadata": {
    "execution": {
     "iopub.execute_input": "2021-10-25T12:21:30.697829Z",
     "iopub.status.busy": "2021-10-25T12:21:30.672865Z",
     "iopub.status.idle": "2021-10-25T12:21:31.011649Z",
     "shell.execute_reply": "2021-10-25T12:21:31.011313Z"
    },
    "papermill": {
     "duration": 0.354573,
     "end_time": "2021-10-25T12:21:31.011740",
     "exception": false,
     "start_time": "2021-10-25T12:21:30.657167",
     "status": "completed"
    },
    "tags": []
   },
   "outputs": [
    {
     "name": "stdout",
     "output_type": "stream",
     "text": [
      "Mon Oct 25 08:21:30 2021       \r\n",
      "+-----------------------------------------------------------------------------+\r\n",
      "| NVIDIA-SMI 450.51.05    Driver Version: 450.51.05    CUDA Version: 11.0     |\r\n",
      "|-------------------------------+----------------------+----------------------+\r\n",
      "| GPU  Name        Persistence-M| Bus-Id        Disp.A | Volatile Uncorr. ECC |\r\n",
      "| Fan  Temp  Perf  Pwr:Usage/Cap|         Memory-Usage | GPU-Util  Compute M. |\r\n",
      "|                               |                      |               MIG M. |\r\n",
      "|===============================+======================+======================|\r\n",
      "|   0  Tesla V100-SXM2...  On   | 00000000:18:00.0 Off |                    0 |\r\n",
      "| N/A   43C    P0    67W / 300W |    456MiB / 16160MiB |      0%      Default |\r\n",
      "|                               |                      |                  N/A |\r\n",
      "+-------------------------------+----------------------+----------------------+\r\n",
      "|   1  Tesla V100-SXM2...  On   | 00000000:3B:00.0 Off |                    0 |\r\n",
      "| N/A   37C    P0    68W / 300W |    456MiB / 16160MiB |      0%      Default |\r\n",
      "|                               |                      |                  N/A |\r\n",
      "+-------------------------------+----------------------+----------------------+\r\n",
      "|   2  Tesla V100-SXM2...  On   | 00000000:86:00.0 Off |                    0 |\r\n",
      "| N/A   33C    P0    57W / 300W |    456MiB / 16160MiB |      0%      Default |\r\n",
      "|                               |                      |                  N/A |\r\n",
      "+-------------------------------+----------------------+----------------------+\r\n"
     ]
    },
    {
     "name": "stdout",
     "output_type": "stream",
     "text": [
      "|   3  Tesla V100-SXM2...  On   | 00000000:AF:00.0 Off |                    0 |\r\n",
      "| N/A   42C    P0    69W / 300W |    456MiB / 16160MiB |      0%      Default |\r\n",
      "|                               |                      |                  N/A |\r\n",
      "+-------------------------------+----------------------+----------------------+\r\n",
      "                                                                               \r\n",
      "+-----------------------------------------------------------------------------+\r\n",
      "| Processes:                                                                  |\r\n",
      "|  GPU   GI   CI        PID   Type   Process name                  GPU Memory |\r\n",
      "|        ID   ID                                                   Usage      |\r\n",
      "|=============================================================================|\r\n",
      "|    0   N/A  N/A     19428      C   ...ska/anaconda3/bin/python3      453MiB |\r\n",
      "|    1   N/A  N/A     19428      C   ...ska/anaconda3/bin/python3      453MiB |\r\n",
      "|    2   N/A  N/A     19428      C   ...ska/anaconda3/bin/python3      453MiB |\r\n",
      "|    3   N/A  N/A     19428      C   ...ska/anaconda3/bin/python3      453MiB |\r\n",
      "+-----------------------------------------------------------------------------+\r\n"
     ]
    }
   ],
   "source": [
    "!nvidia-smi"
   ]
  },
  {
   "cell_type": "code",
   "execution_count": 9,
   "id": "878406f5",
   "metadata": {
    "execution": {
     "iopub.execute_input": "2021-10-25T12:21:31.172647Z",
     "iopub.status.busy": "2021-10-25T12:21:31.172268Z",
     "iopub.status.idle": "2021-10-25T12:21:31.196912Z",
     "shell.execute_reply": "2021-10-25T12:21:31.196618Z"
    },
    "papermill": {
     "duration": 0.171656,
     "end_time": "2021-10-25T12:21:31.196997",
     "exception": false,
     "start_time": "2021-10-25T12:21:31.025341",
     "status": "completed"
    },
    "tags": []
   },
   "outputs": [
    {
     "name": "stdout",
     "output_type": "stream",
     "text": [
      "Total GPU memory: 15.78 GB\n",
      "Free GPU memory: 15.34 GB\n",
      "Used GPU memory: 0.45 GB\n"
     ]
    }
   ],
   "source": [
    "# CHECK GPU\n",
    "import nvidia_smi\n",
    "try:\n",
    "    nvidia_smi.nvmlInit()\n",
    "\n",
    "    handle = nvidia_smi.nvmlDeviceGetHandleByIndex(0)\n",
    "    # card id 0 hardcoded here, there is also a call to get all available card ids, so we could iterate\n",
    "\n",
    "    info = nvidia_smi.nvmlDeviceGetMemoryInfo(handle)\n",
    "\n",
    "#     print(\"Total memory:\", (info.total/1024/1024/1024))\n",
    "#     print(\"Free memory:\", (info.free/1024/1024/1024))\n",
    "#     print(\"Used memory:\", (info.used/1024/1024/1024))\n",
    "\n",
    "    print(f\"Total GPU memory: {(info.total/1024/1024/1024):.2f} GB\")\n",
    "    print(f\"Free GPU memory: {(info.free/1024/1024/1024):.2f} GB\")\n",
    "    print(f\"Used GPU memory: {(info.used/1024/1024/1024):.2f} GB\")\n",
    "    \n",
    "    nvidia_smi.nvmlShutdown()\n",
    "except:\n",
    "    pass"
   ]
  },
  {
   "cell_type": "markdown",
   "id": "297178b4",
   "metadata": {
    "papermill": {
     "duration": 0.013653,
     "end_time": "2021-10-25T12:21:31.224263",
     "exception": false,
     "start_time": "2021-10-25T12:21:31.210610",
     "status": "completed"
    },
    "tags": []
   },
   "source": [
    "## Prep analysis"
   ]
  },
  {
   "cell_type": "code",
   "execution_count": 10,
   "id": "d60bc825",
   "metadata": {
    "execution": {
     "iopub.execute_input": "2021-10-25T12:21:31.254477Z",
     "iopub.status.busy": "2021-10-25T12:21:31.254138Z",
     "iopub.status.idle": "2021-10-25T12:21:31.261012Z",
     "shell.execute_reply": "2021-10-25T12:21:31.260728Z"
    },
    "papermill": {
     "duration": 0.023642,
     "end_time": "2021-10-25T12:21:31.261089",
     "exception": false,
     "start_time": "2021-10-25T12:21:31.237447",
     "status": "completed"
    },
    "tags": []
   },
   "outputs": [
    {
     "name": "stdout",
     "output_type": "stream",
     "text": [
      "VAE_test\n"
     ]
    }
   ],
   "source": [
    "import os\n",
    "from datetime import datetime; now = datetime.now\n",
    "\n",
    "#analysis_name = 'VAE_'+str(now())\n",
    "analysis_name = 'VAE_'+'test'\n",
    "save_dir = os.path.join('../Assets/tf_weights',analysis_name)\n",
    "if not os.path.exists(save_dir):\n",
    "    os.mkdir(save_dir)\n",
    "    \n",
    "print(analysis_name)"
   ]
  },
  {
   "cell_type": "code",
   "execution_count": 11,
   "id": "9d5f7cdd",
   "metadata": {
    "execution": {
     "iopub.execute_input": "2021-10-25T12:21:31.293355Z",
     "iopub.status.busy": "2021-10-25T12:21:31.293014Z",
     "iopub.status.idle": "2021-10-25T12:21:41.901900Z",
     "shell.execute_reply": "2021-10-25T12:21:41.902182Z"
    },
    "papermill": {
     "duration": 10.625949,
     "end_time": "2021-10-25T12:21:41.902319",
     "exception": false,
     "start_time": "2021-10-25T12:21:31.276370",
     "status": "completed"
    },
    "tags": []
   },
   "outputs": [
    {
     "name": "stdout",
     "output_type": "stream",
     "text": [
      "CPU times: user 7.84 s, sys: 345 ms, total: 8.18 s\n",
      "Wall time: 10.6 s\n"
     ]
    }
   ],
   "source": [
    "%%time\n",
    "import numpy as np\n",
    "import pandas as pd\n",
    "from tqdm import tqdm\n",
    "from matplotlib import pyplot as plt\n",
    "\n",
    "from functools import partial\n",
    "from tqdm import tqdm\n",
    "from umap import UMAP\n",
    "tqdm = partial(tqdm, position=0, leave=True) "
   ]
  },
  {
   "cell_type": "code",
   "execution_count": 12,
   "id": "01a444a1",
   "metadata": {
    "execution": {
     "iopub.execute_input": "2021-10-25T12:21:41.941476Z",
     "iopub.status.busy": "2021-10-25T12:21:41.941117Z",
     "iopub.status.idle": "2021-10-25T12:21:41.970357Z",
     "shell.execute_reply": "2021-10-25T12:21:41.970011Z"
    },
    "papermill": {
     "duration": 0.053791,
     "end_time": "2021-10-25T12:21:41.970466",
     "exception": false,
     "start_time": "2021-10-25T12:21:41.916675",
     "status": "completed"
    },
    "tags": []
   },
   "outputs": [],
   "source": [
    "df = pd.read_csv('../Data/ABIDE_df2.csv')\n",
    "df = df.iloc[~pd.isna(df['bids_folder']).values]\n",
    "data_dir = '../Assets/fc_mats_32smooth_new/'"
   ]
  },
  {
   "cell_type": "code",
   "execution_count": 13,
   "id": "9ea72018",
   "metadata": {
    "execution": {
     "iopub.execute_input": "2021-10-25T12:21:42.001235Z",
     "iopub.status.busy": "2021-10-25T12:21:42.000910Z",
     "iopub.status.idle": "2021-10-25T12:21:42.008809Z",
     "shell.execute_reply": "2021-10-25T12:21:42.008529Z"
    },
    "papermill": {
     "duration": 0.024298,
     "end_time": "2021-10-25T12:21:42.008884",
     "exception": false,
     "start_time": "2021-10-25T12:21:41.984586",
     "status": "completed"
    },
    "tags": []
   },
   "outputs": [
    {
     "data": {
      "text/plain": [
       "['sub-CMUa0050642.npy',\n",
       " 'sub-CMUa0050646.npy',\n",
       " 'sub-CMUa0050647.npy',\n",
       " 'sub-CMUa0050649.npy',\n",
       " 'sub-CMUa0050653.npy']"
      ]
     },
     "execution_count": 13,
     "metadata": {},
     "output_type": "execute_result"
    }
   ],
   "source": [
    "files = [file for file in os.listdir(data_dir) if file.endswith('.npy')]\n",
    "files.sort()\n",
    "files[0:5]"
   ]
  },
  {
   "cell_type": "code",
   "execution_count": 14,
   "id": "2aaa3ba3",
   "metadata": {
    "execution": {
     "iopub.execute_input": "2021-10-25T12:21:42.040269Z",
     "iopub.status.busy": "2021-10-25T12:21:42.039933Z",
     "iopub.status.idle": "2021-10-25T12:21:42.514436Z",
     "shell.execute_reply": "2021-10-25T12:21:42.514710Z"
    },
    "papermill": {
     "duration": 0.491674,
     "end_time": "2021-10-25T12:21:42.514816",
     "exception": false,
     "start_time": "2021-10-25T12:21:42.023142",
     "status": "completed"
    },
    "tags": []
   },
   "outputs": [
    {
     "name": "stdout",
     "output_type": "stream",
     "text": [
      "1.0\n"
     ]
    }
   ],
   "source": [
    "has_file = np.array([os.path.exists(os.path.join(data_dir,sub + '.npy')) for sub in df['bids_folder'].values])\n",
    "print(has_file.mean())\n",
    "\n",
    "assert has_file.mean()==1.0, 'fuck'"
   ]
  },
  {
   "cell_type": "code",
   "execution_count": 15,
   "id": "6cbbba63",
   "metadata": {
    "execution": {
     "iopub.execute_input": "2021-10-25T12:21:42.556753Z",
     "iopub.status.busy": "2021-10-25T12:21:42.556406Z",
     "iopub.status.idle": "2021-10-25T12:21:42.650012Z",
     "shell.execute_reply": "2021-10-25T12:21:42.649708Z"
    },
    "papermill": {
     "duration": 0.11971,
     "end_time": "2021-10-25T12:21:42.650097",
     "exception": false,
     "start_time": "2021-10-25T12:21:42.530387",
     "status": "completed"
    },
    "tags": []
   },
   "outputs": [
    {
     "name": "stdout",
     "output_type": "stream",
     "text": [
      "1048\n",
      "1.0\n"
     ]
    }
   ],
   "source": [
    "subs_with_matFiles = [file.split('.')[0] for file in files]\n",
    "df = df.iloc[np.array([sub in subs_with_matFiles for sub in df['bids_folder'].values])]\n",
    "n_subs = len(df)\n",
    "print(n_subs)\n",
    "\n",
    "# Check if subject has .nii file\n",
    "has_file = np.array([os.path.exists(os.path.join(data_dir,sub + '.npy')) for sub in df['bids_folder'].values])\n",
    "print(has_file.mean())\n",
    "assert has_file.mean()==1.0, 'fuck'\n",
    "\n",
    "assert len(subs_with_matFiles)==len(df),'no'\n",
    "df = df.sort_values(by='bids_folder')\n",
    "assert all([subs_with_matFiles[i]==df['bids_folder'].values[i] for i in range(n_subs)]), 'out of order'\n",
    "\n",
    "df.index = np.arange(n_subs)"
   ]
  },
  {
   "cell_type": "code",
   "execution_count": 16,
   "id": "307319bb",
   "metadata": {
    "execution": {
     "iopub.execute_input": "2021-10-25T12:21:42.686750Z",
     "iopub.status.busy": "2021-10-25T12:21:42.686402Z",
     "iopub.status.idle": "2021-10-25T12:21:42.687955Z",
     "shell.execute_reply": "2021-10-25T12:21:42.687675Z"
    },
    "papermill": {
     "duration": 0.023206,
     "end_time": "2021-10-25T12:21:42.688041",
     "exception": false,
     "start_time": "2021-10-25T12:21:42.664835",
     "status": "completed"
    },
    "tags": []
   },
   "outputs": [],
   "source": [
    "## DATA LOADER\n",
    "class vae_data_loader():\n",
    "    ''' this is the info'''\n",
    "    def __init__(self,data_dir,df,batch_size=32):\n",
    "        #self.data = data\n",
    "        #self.n = data.shape[0]\n",
    "        self.n = len(df)\n",
    "        self.data_dir = data_dir\n",
    "        self.epoch = -1\n",
    "        self.batch_size = batch_size\n",
    "        self.df = df\n",
    "        \n",
    "        self.new_epoch()\n",
    "        self.n_batches = int(self.n/self.batch_size)\n",
    "        \n",
    "    def new_epoch(self):\n",
    "        #self.df = self.df.iloc[np.random.permutation(np.arange(self.n))]\n",
    "        #self.df.index = np.arange(self.n)\n",
    "        self.idxs = np.arange(self.n)\n",
    "        \n",
    "        #self.asd_idxs = np.random.permutation(self.asd_idxs)\n",
    "        self.idxs = np.random.permutation(self.idxs)\n",
    "        self.df = self.df.iloc[self.idxs]\n",
    "        \n",
    "        self.epoch += 1\n",
    "        self.b = 0\n",
    "        \n",
    "        \n",
    "    def get_batch(self):\n",
    "        self.b += 1\n",
    "        \n",
    "        if self.b==self.n_batches:\n",
    "            self.new_epoch()\n",
    "        \n",
    "       # self.batch_asd_idx = self.asd_idxs[np.arange(self.b*self.batch_size,self.b*self.batch_size+self.batch_size)]\n",
    "        self.batch_idx = self.idxs[np.arange(self.b*self.batch_size,self.b*self.batch_size+self.batch_size)]\n",
    "        #self.batch_asd = np.array([np.load(os.path.join(self.data_dir,val+'.npy')) for val in self.df['bids_folder'].values[self.batch_asd_idx]])\n",
    "        self.batch = np.array([np.load(os.path.join(self.data_dir,val+'.npy')) for val in self.df['bids_folder'].values[self.batch_idx]])\n",
    "        self.batch_df = self.df.iloc[self.batch_idx,:]\n",
    "        \n",
    "        self.batch = self.batch/2\n",
    "        #self.batch_td = self.batch_td/2\n",
    "        \n",
    "    \n",
    "        return self.batch,self.batch_df"
   ]
  },
  {
   "cell_type": "code",
   "execution_count": 17,
   "id": "acaf006d",
   "metadata": {
    "execution": {
     "iopub.execute_input": "2021-10-25T12:21:42.728131Z",
     "iopub.status.busy": "2021-10-25T12:21:42.727794Z",
     "iopub.status.idle": "2021-10-25T12:21:43.433114Z",
     "shell.execute_reply": "2021-10-25T12:21:43.432782Z"
    },
    "papermill": {
     "duration": 0.7306,
     "end_time": "2021-10-25T12:21:43.433225",
     "exception": false,
     "start_time": "2021-10-25T12:21:42.702625",
     "status": "completed"
    },
    "tags": []
   },
   "outputs": [],
   "source": [
    "data_loader = vae_data_loader(data_dir=data_dir, df=df, batch_size=32)\n",
    "data_batch,batch_df = data_loader.get_batch()\n",
    "assert all(( data_batch.min()>0 , data_batch.max()<1 )), 'range not 0-1'"
   ]
  },
  {
   "cell_type": "code",
   "execution_count": 18,
   "id": "aecbf6b5",
   "metadata": {
    "execution": {
     "iopub.execute_input": "2021-10-25T12:21:43.466121Z",
     "iopub.status.busy": "2021-10-25T12:21:43.465796Z",
     "iopub.status.idle": "2021-10-25T12:21:43.467587Z",
     "shell.execute_reply": "2021-10-25T12:21:43.467317Z"
    },
    "papermill": {
     "duration": 0.019357,
     "end_time": "2021-10-25T12:21:43.467659",
     "exception": false,
     "start_time": "2021-10-25T12:21:43.448302",
     "status": "completed"
    },
    "tags": []
   },
   "outputs": [
    {
     "name": "stdout",
     "output_type": "stream",
     "text": [
      "n_batches : 32\n"
     ]
    }
   ],
   "source": [
    "print(f'n_batches : {data_loader.n_batches}')"
   ]
  },
  {
   "cell_type": "code",
   "execution_count": 19,
   "id": "6b6ca414",
   "metadata": {
    "execution": {
     "iopub.execute_input": "2021-10-25T12:21:43.515812Z",
     "iopub.status.busy": "2021-10-25T12:21:43.515432Z",
     "iopub.status.idle": "2021-10-25T12:21:43.516922Z",
     "shell.execute_reply": "2021-10-25T12:21:43.516637Z"
    },
    "papermill": {
     "duration": 0.034649,
     "end_time": "2021-10-25T12:21:43.516994",
     "exception": false,
     "start_time": "2021-10-25T12:21:43.482345",
     "status": "completed"
    },
    "tags": []
   },
   "outputs": [],
   "source": [
    "import tensorflow as tf\n",
    "from tensorflow.keras.layers import *\n",
    "from tensorflow.keras import backend as K\n",
    "from tensorflow.keras.models import Model\n",
    "from tensorflow.keras.losses import mse\n",
    "\n",
    "def sampling(args):\n",
    "    \"\"\"Reparameterization trick by sampling fr an isotropic unit Gaussian.\n",
    "    # Arguments:\n",
    "      args (tensor): mean and log of variance of Q(z|X)\n",
    "    # Returns:\n",
    "      z (tensor): sampled latent vector\n",
    "    \"\"\"\n",
    "\n",
    "    z_mean, z_log_var = args\n",
    "    batch = K.shape(z_mean)[0]\n",
    "    dim = K.int_shape(z_mean)[1]\n",
    "    # by default, random_normal has mean=0 and std=1.0\n",
    "    epsilon = K.random_normal(shape=(batch, dim))\n",
    "    return z_mean + K.exp(0.5 * z_log_var) * epsilon\n",
    "\n",
    "\n",
    "def get_fMRI_VAE_4D(input_shape=(48,48,48,51),\n",
    "                   latent_dim=2, \n",
    "                   batch_size = 32, \n",
    "                   disentangle=False, \n",
    "                   gamma=1,\n",
    "                   kernel_size = 3,\n",
    "                   filters = 16,\n",
    "                   bias=True,\n",
    "                   intermediate_dim = 128,\n",
    "                   nlayers = 2,\n",
    "                   learning_rate=0.001,\n",
    "                   opt=None):\n",
    "\n",
    "\n",
    "    image_size, _, _, channels = input_shape\n",
    "    \n",
    "    inputs = Input(shape=input_shape, name='encoder_input')\n",
    "    x = inputs\n",
    "    for i in range(nlayers):\n",
    "        filters *= 2\n",
    "        x = Conv3D(filters=filters,\n",
    "                kernel_size=kernel_size,\n",
    "                activation='relu',\n",
    "                strides=2,\n",
    "                use_bias=bias,\n",
    "                padding='same')(x)\n",
    "\n",
    "    # shape info needed to build decoder model\n",
    "    shape = K.int_shape(x)\n",
    "\n",
    "    # generate latent vector Q(z|X)\n",
    "    x = Flatten()(x)\n",
    "    x = Dense(intermediate_dim, activation='relu',use_bias=bias)(x)\n",
    "    z_mean = Dense(latent_dim, name='z_mean',use_bias=bias)(x)\n",
    "    z_log_var = Dense(latent_dim, name='z_log_var',use_bias=bias)(x)\n",
    "\n",
    "    # use reparameterization trick to push the sampling out as input\n",
    "    # note that \"output_shape\" isn't necessary with the TensorFlow backend\n",
    "    z = Lambda(sampling, output_shape=(latent_dim,), name='z')([z_mean, z_log_var])\n",
    "\n",
    "    # instantiate encoder model\n",
    "    encoder = Model(inputs, [z_mean, z_log_var, z], name='encoder')\n",
    "\n",
    "    # build decoder model\n",
    "    latent_inputs = Input(shape=(latent_dim,), name='z_sampling')\n",
    "    x = Dense(intermediate_dim, activation='relu',use_bias=bias)(latent_inputs)\n",
    "    x = Dense(shape[1] * shape[2] * shape[3] * shape[4], activation='relu',use_bias=bias)(x)\n",
    "    x = Reshape((shape[1], shape[2], shape[3],shape[4]))(x)\n",
    "\n",
    "    for i in range(nlayers):\n",
    "        x = Conv3DTranspose(filters=filters,\n",
    "                          kernel_size=kernel_size,\n",
    "                          activation='relu',\n",
    "                          strides=2,\n",
    "                          use_bias=bias,\n",
    "                          padding='same')(x)\n",
    "        filters //= 2\n",
    "\n",
    "    outputs = Conv3DTranspose(filters=channels,\n",
    "                            kernel_size=kernel_size,\n",
    "                            activation='sigmoid',\n",
    "                            padding='same',\n",
    "                            use_bias=bias,\n",
    "                            name='decoder_output')(x)\n",
    "\n",
    "    # instantiate decoder model\n",
    "    decoder = Model(latent_inputs, outputs, name='decoder')\n",
    "\n",
    "    #     decoder.summary()\n",
    "\n",
    "    # instantiate VAE model\n",
    "    outputs = decoder(encoder(inputs)[2])\n",
    "    vae = Model(inputs, outputs, name='vae')\n",
    "\n",
    "    if disentangle:\n",
    "        discriminator = Dense(1, activation='sigmoid')\n",
    "\n",
    "        z1 = Lambda(lambda x: x[:int(batch_size/2),:int(latent_dim/2)])(z)\n",
    "        z2 = Lambda(lambda x: x[int(batch_size/2):,:int(latent_dim/2)])(z)\n",
    "        s1 = Lambda(lambda x: x[:int(batch_size/2),int(latent_dim/2):])(z)\n",
    "        s2 = Lambda(lambda x: x[int(batch_size/2):,int(latent_dim/2):])(z)\n",
    "        \n",
    "        q_bar = tf.keras.layers.concatenate(\n",
    "          [tf.keras.layers.concatenate([s1, z2], axis=1),\n",
    "          tf.keras.layers.concatenate([s2, z1], axis=1)],\n",
    "          axis=0)\n",
    "        q = tf.keras.layers.concatenate(\n",
    "          [tf.keras.layers.concatenate([s1, z1], axis=1),\n",
    "          tf.keras.layers.concatenate([s2, z2], axis=1)],\n",
    "          axis=0)\n",
    "        \n",
    "#         q_bar_score = discriminator(q_bar)\n",
    "#         q_score = discriminator(q)        \n",
    "#         tc_loss = K.log(q_score / (1 - q_score)) \n",
    "\n",
    "        q_bar_score = (discriminator(q_bar)+.1) *.85 # +.1 * .85 so that it's 0<x<1\n",
    "        q_score = (discriminator(q)+.1) *.85 \n",
    "        tc_loss = K.log(q_score / (1 - q_score)) \n",
    "\n",
    "        discriminator_loss = - K.log(q_score) - K.log(1 - q_bar_score)\n",
    "\n",
    "    reconstruction_loss = mse(K.flatten(inputs), K.flatten(outputs))\n",
    "    \n",
    "#     brain_idx = abs(K.flatten(inputs))>1e-3\n",
    "#     reconstruction_loss_brain = mse(K.flatten(inputs)[brain_idx], K.flatten(outputs)[brain_idx])\n",
    "#     reconstruction_loss_notbrain = mse(K.flatten(inputs)[~brain_idx], K.flatten(outputs)[~brain_idx])\n",
    "#     reconstruction_loss = reconstruction_loss_brain*10 + reconstruction_loss_notbrain*1\n",
    "#     reconstruction_loss *= image_size * image_size * image_size\n",
    "\n",
    "\n",
    "    kl_loss = 1 + z_log_var - K.square(z_mean) - K.exp(z_log_var)\n",
    "    kl_loss = K.sum(kl_loss, axis=-1)\n",
    "    kl_loss *= -0.5\n",
    "    if disentangle:\n",
    "        vae_loss = K.mean(reconstruction_loss) + K.mean(kl_loss) + gamma * K.mean(tc_loss) + K.mean(discriminator_loss)\n",
    "    else:\n",
    "        vae_loss = K.mean(reconstruction_loss) + K.mean(kl_loss)\n",
    "    vae.add_loss(vae_loss)\n",
    "\n",
    "    if type(opt)==type(None):\n",
    "        opt = tf.keras.optimizers.Adam(learning_rate=learning_rate,beta_1=0.9,beta_2=0.999,epsilon=1e-07,amsgrad=False,name='Adam')\n",
    "        \n",
    "    vae.compile(optimizer=opt)\n",
    "    \n",
    "\n",
    "    if disentangle:\n",
    "        vae.metrics_tensors = [reconstruction_loss, kl_loss, tc_loss, discriminator_loss]\n",
    "        #     vae.summary()\n",
    "    return encoder, decoder, vae"
   ]
  },
  {
   "cell_type": "code",
   "execution_count": 20,
   "id": "70ba149a",
   "metadata": {
    "execution": {
     "iopub.execute_input": "2021-10-25T12:21:43.575774Z",
     "iopub.status.busy": "2021-10-25T12:21:43.575382Z",
     "iopub.status.idle": "2021-10-25T12:21:43.576469Z",
     "shell.execute_reply": "2021-10-25T12:21:43.576730Z"
    },
    "papermill": {
     "duration": 0.045118,
     "end_time": "2021-10-25T12:21:43.576815",
     "exception": false,
     "start_time": "2021-10-25T12:21:43.531697",
     "status": "completed"
    },
    "tags": []
   },
   "outputs": [],
   "source": [
    "def vae_dashboard():\n",
    "    predictions = vae.predict(data_batch)\n",
    "    sigma = (np.e ** encoder.predict(data_batch)[1]).mean()\n",
    "    sigmas.append(sigma)\n",
    "\n",
    "    mu = encoder.predict(data_batch)[0]\n",
    "    mus.append(np.mean([mu[:,0].std() for i in range(mu.shape[1])]))\n",
    "\n",
    "    prediction = predictions\n",
    "\n",
    "    cmat_actual = np.corrcoef(data_batch.reshape(data_batch.shape[0],-1))\n",
    "    cmat_pred = np.corrcoef(prediction.reshape(prediction.shape[0],-1))\n",
    "    c_sim.append(np.corrcoef(get_triu(cmat_pred),get_triu(cmat_actual))[0,1])\n",
    "\n",
    "\n",
    "    ### PROGRESS PLOTTING\n",
    "    display.clear_output(wait=True);\n",
    "    display.display(plt.gcf());\n",
    "    #Organise figure\n",
    "    ncols = 4;nrows=7\n",
    "    if np.mod(i,5)==0:\n",
    "        plt.close()\n",
    "    plt.subplots(nrows,ncols,figsize=(15,15)); # MAKE THE FIGURE\n",
    "\n",
    "\n",
    "    # ##### SUBPLOT 1 & 2 ##### \n",
    "\n",
    "    plt.subplot(nrows,ncols/2,1) # PLOT LOSS\n",
    "    xs = np.arange(len(loss))+1\n",
    "    m,b = np.polyfit(xs,loss,deg=1)\n",
    "    plt.plot(loss)\n",
    "    plt.plot(xs, m*xs + b)\n",
    "    plt.title(f'Epoch {data_loader.epoch} batch {data_loader.b}/{data_loader.n_batches} | Loss {loss[-1]:.2f}, beta: {m:.4f}')\n",
    "\n",
    "    ##### SUBPLOT 3 ##### \n",
    "    plt.subplot(nrows,ncols,3) # PLOT LOSS LAST 50\n",
    "    hb = 50\n",
    "    if len(loss)>hb:\n",
    "        plot_loss = loss[-hb::]\n",
    "        xs = np.arange(len(plot_loss))\n",
    "        m,b = np.polyfit(xs,plot_loss,deg=1)\n",
    "        plt.plot(plot_loss)\n",
    "        plt.plot(xs, m*xs + b)\n",
    "        #plt.title(hist)\n",
    "        plt.title(f'Loss last {hb} it, beta {m:.4f}')\n",
    "\n",
    "    ##### SUBPLOT 4 ##### \n",
    "    plt.subplot(nrows,ncols,4)\n",
    "    plt.hist(prediction[0,:,:,:,0].flatten(),alpha=.5)\n",
    "    plt.hist(data_batch[0,:,:,:,0].flatten(),alpha=.5)\n",
    "    plt.legend(['predicted','actual'])\n",
    "    plt.title('in/out histograms')\n",
    "\n",
    "    ##### SUBPLOT 5 ##### \n",
    "    plt.subplot(nrows,ncols,5) #RSA over time\n",
    "    plt.plot(c_sim)\n",
    "    plt.title(f'in/out RSA: {c_sim[-1].round(2)}')\n",
    "\n",
    "    if len(c_sim)>5: # PLOT LS LINE\n",
    "        xs = np.arange(len(c_sim))+1\n",
    "        m,b = np.polyfit(xs,c_sim,deg=1)\n",
    "        plt.plot(xs, m*xs + b)\n",
    "        plt.title(f'in/out RSA: {c_sim[-1].round(2)}, b={m:.4f}')\n",
    "\n",
    "\n",
    "    ##### SUBPLOT 6 ##### \n",
    "    plt.subplot(nrows,ncols,6)\n",
    "    if len(c_sim)>hb:\n",
    "        #plot_loss = loss[-hb::]\n",
    "        xs = np.arange(len(c_sim[-hb::]))\n",
    "        m,b = np.polyfit(xs,c_sim[-hb::],deg=1)\n",
    "        plt.plot(c_sim[-hb::])\n",
    "        plt.plot(xs, m*xs + b)\n",
    "        #plt.title(hist)\n",
    "        plt.title(f'in/outRSA last {hb} it, b={m:.4f}')\n",
    "\n",
    "    # ##### SUBPLOT 7 ##### \n",
    "    # plt.subplot(nrows,ncols,7)\n",
    "    # lbls = ['age','sex','fiq','dsm','site','ados'];\n",
    "    # xs = np.arange(len(lbls));\n",
    "    # plt.bar(xs,batch_rsas[0:6]);\n",
    "    # plt.xticks(xs,labels=lbls);\n",
    "    # plt.title('S RSA')\n",
    "\n",
    "    # ##### SUBPLOT 8 ##### \n",
    "    # plt.subplot(nrows,ncols,8)\n",
    "    # lbls = ['age','sex','fiq','dsm','site','ados'];\n",
    "    # xs = np.arange(len(lbls));\n",
    "    # plt.bar(xs,batch_rsas[6::]);\n",
    "    # plt.xticks(xs,labels=lbls);\n",
    "    # plt.title('Z RSA')\n",
    "\n",
    "\n",
    "    ##### SUBPLOT 9 ##### \n",
    "    plt.subplot(nrows,ncols,9)\n",
    "    plt.plot(sigmas)\n",
    "    plt.title(f'sigmas | {sigmas[-1]:.4f}')\n",
    "\n",
    "\n",
    "    ##### SUBPLOT 10 ##### \n",
    "    plt.subplot(nrows,ncols,10)\n",
    "    plt.plot(mus)\n",
    "    plt.title(f'Mu variance {mus[-1]:.4f}')\n",
    "\n",
    "\n",
    "    ##### SUBPLOT 11 ##### \n",
    "    plt.subplot(nrows,ncols,11)\n",
    "    sns.heatmap(cmat_actual,xticklabels=[],yticklabels=[])\n",
    "    plt.title('input RSA')\n",
    "\n",
    "    ##### SUBPLOT 12 ##### \n",
    "    plt.subplot(nrows,ncols,12)\n",
    "    sns.heatmap(cmat_pred,xticklabels=[],yticklabels=[])\n",
    "    plt.title('output RSA')\n",
    "\n",
    "    #############################################\n",
    "    ###################Reconstructions###########\n",
    "    #############################################\n",
    "\n",
    "    ##### SUBPLOT 13 #####     \n",
    "    plt.subplot(nrows,ncols,13)\n",
    "    rand_sub = np.random.randint(low=0,high=data_batch.shape[0])\n",
    "    rand_map = np.random.randint(low=0,high=data_batch.shape[4])\n",
    "\n",
    "    plt.imshow(np.rot90(data_batch[rand_sub,:,16,:,rand_map]))\n",
    "    plt.xticks([]);plt.yticks([]);plt.title('actual')\n",
    "    ##### SUBPLOT 14 #####     \n",
    "    plt.subplot(nrows,ncols,14)\n",
    "    plt.imshow(np.rot90(prediction[rand_sub,:,16,:,rand_map]))\n",
    "    plt.xticks([]);plt.yticks([]);plt.title('predicted')\n",
    "    ##### SUBPLOT 15 #####     \n",
    "    plt.subplot(nrows,ncols,15)\n",
    "    plt.imshow(np.rot90(data_batch[rand_sub,16,:,:,rand_map]))\n",
    "    plt.xticks([]);plt.yticks([]);plt.title('actual')\n",
    "    ##### SUBPLOT 16 #####                                             \n",
    "    plt.subplot(nrows,ncols,16)\n",
    "    plt.imshow(np.rot90(prediction[rand_sub,16,:,:,rand_map]))\n",
    "    plt.xticks([]);plt.yticks([]);plt.title('predicted')\n",
    "    ##### SUBPLOT 17 #####     \n",
    "    plt.subplot(nrows,ncols,17)\n",
    "    plt.imshow(np.rot90(data_batch[rand_sub,6,:,:,rand_map]))\n",
    "    plt.xticks([]);plt.yticks([]);plt.title('actual')\n",
    "    ##### SUBPLOT 18 #####                                             \n",
    "    plt.subplot(nrows,ncols,18)\n",
    "    plt.imshow(np.rot90(prediction[rand_sub,6,:,:,rand_map]))\n",
    "    plt.xticks([]);plt.yticks([]);plt.title('predicted')\n",
    "    ##### SUBPLOT 19 #####     \n",
    "    plt.subplot(nrows,ncols,19)\n",
    "    plt.imshow(data_batch[rand_sub,:,:,16,rand_map])\n",
    "    plt.xticks([]);plt.yticks([]);plt.title('actual')\n",
    "    ##### SUBPLOT 20 #####     \n",
    "    plt.subplot(nrows,ncols,20)\n",
    "    plt.imshow(prediction[rand_sub,:,:,16,rand_map])\n",
    "    plt.xticks([]);plt.yticks([]);plt.title('predicted')\n",
    "\n",
    "\n",
    "    # #############################################\n",
    "    # ################### LOSSES ##################\n",
    "    # #############################################\n",
    "\n",
    "\n",
    "    # predictions = cvae.predict([patient_batch,control_batch])\n",
    "    input_shape = data_shape[1:]\n",
    "\n",
    "    reconstruction_loss = tf.keras.losses.mse(K.flatten(data_batch), K.flatten(predictions)) \n",
    "    reconstruction_loss *= input_shape[0] * input_shape[1] * input_shape[2] * input_shape[3]\n",
    "\n",
    "    z_mean, z_log_var, z = encoder.predict(data_batch)\n",
    "\n",
    "    kl_loss = 1 + z_log_var - K.square(z_mean) - K.exp(z_log_var)\n",
    "    kl_loss = K.sum(kl_loss, axis=-1)\n",
    "    kl_loss *= -0.5\n",
    "\n",
    "\n",
    "    discriminator = Dense(1, activation='sigmoid')\n",
    "\n",
    "    z1 = Lambda(lambda x: x[:int(batch_size/2),:int(latent_dim/2)])(z)\n",
    "    z2 = Lambda(lambda x: x[int(batch_size/2):,:int(latent_dim/2)])(z)\n",
    "    s1 = Lambda(lambda x: x[:int(batch_size/2),int(latent_dim/2):])(z)\n",
    "    s2 = Lambda(lambda x: x[int(batch_size/2):,int(latent_dim/2):])(z)\n",
    "\n",
    "    q_bar = tf.keras.layers.concatenate(\n",
    "      [tf.keras.layers.concatenate([s1, z2], axis=1),\n",
    "      tf.keras.layers.concatenate([s2, z1], axis=1)],\n",
    "      axis=0)\n",
    "    q = tf.keras.layers.concatenate(\n",
    "      [tf.keras.layers.concatenate([s1, z1], axis=1),\n",
    "      tf.keras.layers.concatenate([s2, z2], axis=1)],\n",
    "      axis=0)\n",
    "\n",
    "\n",
    "    q_bar_score = (discriminator(q_bar)+.1) *.85 # +.1 * .85 so that it's 0<x<1\n",
    "    q_score = (discriminator(q)+.1) *.85 \n",
    "    tc_loss = K.log(q_score / (1 - q_score)) \n",
    "\n",
    "    discriminator_loss = - K.log(q_score) - K.log(1 - q_bar_score)\n",
    "\n",
    "    loss_mse.append(reconstruction_loss.numpy())\n",
    "    loss_kl.append(kl_loss.numpy().mean())\n",
    "    loss_dc.append(tc_loss.numpy().mean())\n",
    "    loss_tc.append(discriminator_loss.numpy().mean())\n",
    "\n",
    "\n",
    "    plt.subplot(nrows,ncols,21) # MSE \n",
    "    plt.plot(loss_mse)\n",
    "    plt.title(f'MSE | {loss_mse[-1]:.4f}')\n",
    "\n",
    "    plt.subplot(nrows,ncols,22) # KL loss\n",
    "    plt.plot(loss_kl)\n",
    "    plt.title(f'KL | {loss_kl[-1]:.4f}')    \n",
    "\n",
    "\n",
    "    plt.subplot(nrows,ncols,23) # TC     \n",
    "    plt.plot(loss_tc)\n",
    "    plt.title(f'Total Correlation loss | {loss_tc[-1]:.4f}')    \n",
    "\n",
    "\n",
    "    plt.subplot(nrows,ncols,24) # Disc         \n",
    "    plt.plot(loss_dc)\n",
    "    plt.title(f'discriminator_loss | {loss_dc[-1]:.4f}')    \n",
    "\n",
    "\n",
    "    Z = encoder.predict(data_batch)\n",
    "\n",
    "    plt.subplot(nrows,ncols,25)\n",
    "    plt.hist(Z[2].flatten(),alpha=.5);\n",
    "    plt.title('Z')\n",
    "\n",
    "\n",
    "    plt.subplot(nrows,ncols,26)\n",
    "    plt.hist(Z[0].flatten(),alpha=.5);\n",
    "    plt.title('Mus')\n",
    "\n",
    "\n",
    "    plt.subplot(nrows,ncols,27)\n",
    "    plt.hist(Z[1].flatten(),alpha=.5);\n",
    "    plt.title('Sigmas')\n",
    "\n",
    "\n",
    "    plt.tight_layout()\n",
    "    plt.show()\n",
    "    sys.stdout.flush()"
   ]
  },
  {
   "cell_type": "code",
   "execution_count": null,
   "id": "d523f523",
   "metadata": {
    "papermill": {
     "duration": 0.014611,
     "end_time": "2021-10-25T12:21:43.606589",
     "exception": false,
     "start_time": "2021-10-25T12:21:43.591978",
     "status": "completed"
    },
    "tags": []
   },
   "outputs": [],
   "source": []
  },
  {
   "cell_type": "code",
   "execution_count": null,
   "id": "0a0ed91b",
   "metadata": {
    "papermill": {
     "duration": 0.014749,
     "end_time": "2021-10-25T12:21:43.636393",
     "exception": false,
     "start_time": "2021-10-25T12:21:43.621644",
     "status": "completed"
    },
    "tags": []
   },
   "outputs": [],
   "source": []
  },
  {
   "cell_type": "code",
   "execution_count": 21,
   "id": "2d3223bc",
   "metadata": {
    "execution": {
     "iopub.execute_input": "2021-10-25T12:21:43.670021Z",
     "iopub.status.busy": "2021-10-25T12:21:43.669691Z",
     "iopub.status.idle": "2021-10-25T12:21:43.898975Z",
     "shell.execute_reply": "2021-10-25T12:21:43.898667Z"
    },
    "papermill": {
     "duration": 0.247607,
     "end_time": "2021-10-25T12:21:43.899071",
     "exception": false,
     "start_time": "2021-10-25T12:21:43.651464",
     "status": "completed"
    },
    "tags": []
   },
   "outputs": [
    {
     "name": "stdout",
     "output_type": "stream",
     "text": [
      "CPU times: user 4 µs, sys: 2 µs, total: 6 µs\n",
      "Wall time: 10.5 µs\n"
     ]
    }
   ],
   "source": [
    "%time\n",
    "from helper_funcs import *\n",
    "from IPython import display\n",
    "import sys\n",
    "from sklearn.decomposition import PCA\n",
    "import seaborn as sns\n",
    "from matplotlib import pyplot as plt"
   ]
  },
  {
   "cell_type": "code",
   "execution_count": 22,
   "id": "74e02b26",
   "metadata": {
    "execution": {
     "iopub.execute_input": "2021-10-25T12:21:43.934153Z",
     "iopub.status.busy": "2021-10-25T12:21:43.933829Z",
     "iopub.status.idle": "2021-10-25T12:21:43.935239Z",
     "shell.execute_reply": "2021-10-25T12:21:43.935509Z"
    },
    "papermill": {
     "duration": 0.020368,
     "end_time": "2021-10-25T12:21:43.935602",
     "exception": false,
     "start_time": "2021-10-25T12:21:43.915234",
     "status": "completed"
    },
    "tags": []
   },
   "outputs": [
    {
     "name": "stdout",
     "output_type": "stream",
     "text": [
      "[1048   32   32   32   51]\n"
     ]
    }
   ],
   "source": [
    "data_shape = np.hstack((n_subs,data_batch.shape[1::]))\n",
    "print(data_shape)"
   ]
  },
  {
   "cell_type": "code",
   "execution_count": 23,
   "id": "20733fef",
   "metadata": {
    "execution": {
     "iopub.execute_input": "2021-10-25T12:21:43.970067Z",
     "iopub.status.busy": "2021-10-25T12:21:43.969740Z",
     "iopub.status.idle": "2021-10-25T12:21:44.733385Z",
     "shell.execute_reply": "2021-10-25T12:21:44.733036Z"
    },
    "papermill": {
     "duration": 0.782113,
     "end_time": "2021-10-25T12:21:44.733492",
     "exception": false,
     "start_time": "2021-10-25T12:21:43.951379",
     "status": "completed"
    },
    "tags": []
   },
   "outputs": [],
   "source": [
    "batch_size = 32\n",
    "latent_dim = 8\n",
    "\n",
    "encoder, decoder, vae = get_fMRI_VAE_4D(input_shape=data_shape[1::],\n",
    "                   latent_dim = latent_dim, \n",
    "                   batch_size = batch_size, \n",
    "                   disentangle = True, \n",
    "                   gamma = 1,\n",
    "                   kernel_size = 3,\n",
    "                   filters = 8,\n",
    "                   intermediate_dim = 512,\n",
    "                   nlayers = 2,\n",
    "                   learning_rate=0.001)"
   ]
  },
  {
   "cell_type": "code",
   "execution_count": 24,
   "id": "7c00c528",
   "metadata": {
    "execution": {
     "iopub.execute_input": "2021-10-25T12:21:44.769542Z",
     "iopub.status.busy": "2021-10-25T12:21:44.769195Z",
     "iopub.status.idle": "2021-10-25T12:21:44.770473Z",
     "shell.execute_reply": "2021-10-25T12:21:44.770726Z"
    },
    "papermill": {
     "duration": 0.019751,
     "end_time": "2021-10-25T12:21:44.770815",
     "exception": false,
     "start_time": "2021-10-25T12:21:44.751064",
     "status": "completed"
    },
    "tags": []
   },
   "outputs": [],
   "source": [
    "data_loader = vae_data_loader(data_dir=data_dir, df=df, batch_size=32)"
   ]
  },
  {
   "cell_type": "code",
   "execution_count": 25,
   "id": "4db4790b",
   "metadata": {
    "execution": {
     "iopub.execute_input": "2021-10-25T12:21:44.804978Z",
     "iopub.status.busy": "2021-10-25T12:21:44.804655Z",
     "iopub.status.idle": "2021-10-25T12:21:44.806182Z",
     "shell.execute_reply": "2021-10-25T12:21:44.805914Z"
    },
    "papermill": {
     "duration": 0.019596,
     "end_time": "2021-10-25T12:21:44.806253",
     "exception": false,
     "start_time": "2021-10-25T12:21:44.786657",
     "status": "completed"
    },
    "tags": []
   },
   "outputs": [],
   "source": [
    "loss = list()"
   ]
  },
  {
   "cell_type": "code",
   "execution_count": 26,
   "id": "744cbb8e",
   "metadata": {
    "execution": {
     "iopub.execute_input": "2021-10-25T12:21:44.840140Z",
     "iopub.status.busy": "2021-10-25T12:21:44.839824Z",
     "iopub.status.idle": "2021-10-25T12:21:44.841332Z",
     "shell.execute_reply": "2021-10-25T12:21:44.841052Z"
    },
    "papermill": {
     "duration": 0.01981,
     "end_time": "2021-10-25T12:21:44.841406",
     "exception": false,
     "start_time": "2021-10-25T12:21:44.821596",
     "status": "completed"
    },
    "tags": []
   },
   "outputs": [],
   "source": [
    "all_rsas,sigmas,mus,c_sim = [],[],[],[]\n",
    "loss_mse,loss_kl,loss_dc,loss_tc = [],[],[],[]"
   ]
  },
  {
   "cell_type": "code",
   "execution_count": 27,
   "id": "4abb4323",
   "metadata": {
    "execution": {
     "iopub.execute_input": "2021-10-25T12:21:44.876929Z",
     "iopub.status.busy": "2021-10-25T12:21:44.876601Z"
    },
    "papermill": {
     "duration": null,
     "end_time": null,
     "exception": false,
     "start_time": "2021-10-25T12:21:44.857427",
     "status": "running"
    },
    "tags": []
   },
   "outputs": [
    {
     "data": {
      "text/plain": [
       "<Figure size 432x288 with 0 Axes>"
      ]
     },
     "metadata": {},
     "output_type": "display_data"
    },
    {
     "name": "stderr",
     "output_type": "stream",
     "text": [
      "<ipython-input-20-40740a239a95>:28: MatplotlibDeprecationWarning: Passing non-integers as three-element position specification is deprecated since 3.3 and will be removed two minor releases later.\n",
      "  plt.subplot(nrows,ncols/2,1) # PLOT LOSS\n"
     ]
    },
    {
     "data": {
      "image/png": "[encoded data removed]",
      "text/plain": [
       "<Figure size 1080x1080 with 29 Axes>"
      ]
     },
     "metadata": {
      "needs_background": "light"
     },
     "output_type": "display_data"
    }
   ],
   "source": [
    "for epoch in tqdm(range(100),position=1, leave=True):\n",
    "    for i in range(data_loader.n_batches):\n",
    "        data_batch,batch_df = data_loader.get_batch()\n",
    "        hist = vae.train_on_batch(data_batch) # pass a batch\n",
    "        assert not np.isnan(hist),'loss is NaN - you f**cked up'  # check nothing crashed\n",
    "        loss.append(hist) # keep track of loss\n",
    "        \n",
    "        if np.mod(i,16)==0:\n",
    "            vae.save_weights(os.path.join(save_dir,'vae_weights')) # SAVE WEIGHTS\n",
    "            np.save(os.path.join(save_dir,'vae_loss.npy'),np.array(loss)) # Save loss\n",
    "            vae_dashboard()"
   ]
  },
  {
   "cell_type": "code",
   "execution_count": null,
   "id": "171b1235",
   "metadata": {
    "papermill": {
     "duration": null,
     "end_time": null,
     "exception": null,
     "start_time": null,
     "status": "pending"
    },
    "tags": []
   },
   "outputs": [],
   "source": []
  },
  {
   "cell_type": "code",
   "execution_count": null,
   "id": "def71854",
   "metadata": {
    "papermill": {
     "duration": null,
     "end_time": null,
     "exception": null,
     "start_time": null,
     "status": "pending"
    },
    "tags": []
   },
   "outputs": [],
   "source": []
  },
  {
   "cell_type": "code",
   "execution_count": null,
   "id": "46047e17",
   "metadata": {
    "papermill": {
     "duration": null,
     "end_time": null,
     "exception": null,
     "start_time": null,
     "status": "pending"
    },
    "tags": []
   },
   "outputs": [],
   "source": []
  },
  {
   "cell_type": "code",
   "execution_count": null,
   "id": "16f41d57",
   "metadata": {
    "papermill": {
     "duration": null,
     "end_time": null,
     "exception": null,
     "start_time": null,
     "status": "pending"
    },
    "tags": []
   },
   "outputs": [],
   "source": []
  },
  {
   "cell_type": "code",
   "execution_count": null,
   "id": "62c3c645",
   "metadata": {
    "papermill": {
     "duration": null,
     "end_time": null,
     "exception": null,
     "start_time": null,
     "status": "pending"
    },
    "tags": []
   },
   "outputs": [],
   "source": []
  }
 ],
 "metadata": {
  "kernelspec": {
   "display_name": "Python 3",
   "language": "python",
   "name": "python3"
  },
  "language_info": {
   "codemirror_mode": {
    "name": "ipython",
    "version": 3
   },
   "file_extension": ".py",
   "mimetype": "text/x-python",
   "name": "python",
   "nbconvert_exporter": "python",
   "pygments_lexer": "ipython3",
   "version": "3.8.5"
  },
  "papermill": {
   "default_parameters": {},
   "duration": null,
   "end_time": null,
   "environment_variables": {},
   "exception": null,
   "input_path": "01-train-VAE.ipynb",
   "output_path": "./papermill/papermill|01-train-VAE|2021-10-25-08-21-13.ipynb",
   "parameters": {},
   "start_time": "2021-10-25T12:21:16.578228",
   "version": "2.3.3"
  }
 },
 "nbformat": 4,
 "nbformat_minor": 5
}