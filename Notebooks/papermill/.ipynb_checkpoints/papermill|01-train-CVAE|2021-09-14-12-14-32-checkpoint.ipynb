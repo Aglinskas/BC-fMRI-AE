{
 "cells": [
  {
   "cell_type": "code",
   "execution_count": 1,
   "id": "6940bc73",
   "metadata": {
    "execution": {
     "iopub.execute_input": "2021-09-14T16:14:36.516997Z",
     "iopub.status.busy": "2021-09-14T16:14:36.516659Z",
     "iopub.status.idle": "2021-09-14T16:14:36.518422Z",
     "shell.execute_reply": "2021-09-14T16:14:36.518691Z"
    },
    "papermill": {
     "duration": 0.026797,
     "end_time": "2021-09-14T16:14:36.518855",
     "exception": false,
     "start_time": "2021-09-14T16:14:36.492058",
     "status": "completed"
    },
    "tags": []
   },
   "outputs": [
    {
     "data": {
      "text/plain": [
       "'/mmfs1/data/aglinska/BC-fMRI-AE/Notebooks'"
      ]
     },
     "execution_count": 1,
     "metadata": {},
     "output_type": "execute_result"
    }
   ],
   "source": [
    "pwd"
   ]
  },
  {
   "cell_type": "code",
   "execution_count": 2,
   "id": "cf118b0a",
   "metadata": {
    "execution": {
     "iopub.execute_input": "2021-09-14T16:14:36.549761Z",
     "iopub.status.busy": "2021-09-14T16:14:36.549441Z",
     "iopub.status.idle": "2021-09-14T16:14:36.551028Z",
     "shell.execute_reply": "2021-09-14T16:14:36.551292Z"
    },
    "papermill": {
     "duration": 0.017746,
     "end_time": "2021-09-14T16:14:36.551374",
     "exception": false,
     "start_time": "2021-09-14T16:14:36.533628",
     "status": "completed"
    },
    "tags": []
   },
   "outputs": [
    {
     "name": "stdout",
     "output_type": "stream",
     "text": [
      "Interactive namespace is empty.\n"
     ]
    }
   ],
   "source": [
    "whos"
   ]
  },
  {
   "cell_type": "code",
   "execution_count": 3,
   "id": "019666e2",
   "metadata": {
    "execution": {
     "iopub.execute_input": "2021-09-14T16:14:36.583813Z",
     "iopub.status.busy": "2021-09-14T16:14:36.583490Z",
     "iopub.status.idle": "2021-09-14T16:14:36.705071Z",
     "shell.execute_reply": "2021-09-14T16:14:36.704799Z"
    },
    "papermill": {
     "duration": 0.137882,
     "end_time": "2021-09-14T16:14:36.705143",
     "exception": false,
     "start_time": "2021-09-14T16:14:36.567261",
     "status": "completed"
    },
    "tags": []
   },
   "outputs": [
    {
     "name": "stdout",
     "output_type": "stream",
     "text": [
      "              total        used        free      shared  buff/cache   available\r\n",
      "Mem:            187          12         170           3           4         170\r\n",
      "Swap:            11           1          10\r\n"
     ]
    }
   ],
   "source": [
    "!free -g"
   ]
  },
  {
   "cell_type": "code",
   "execution_count": 4,
   "id": "73feedba",
   "metadata": {
    "execution": {
     "iopub.execute_input": "2021-09-14T16:14:36.740375Z",
     "iopub.status.busy": "2021-09-14T16:14:36.738497Z",
     "iopub.status.idle": "2021-09-14T16:14:37.026862Z",
     "shell.execute_reply": "2021-09-14T16:14:37.026574Z"
    },
    "papermill": {
     "duration": 0.305436,
     "end_time": "2021-09-14T16:14:37.026937",
     "exception": false,
     "start_time": "2021-09-14T16:14:36.721501",
     "status": "completed"
    },
    "tags": []
   },
   "outputs": [
    {
     "name": "stdout",
     "output_type": "stream",
     "text": [
      "Tue Sep 14 12:14:36 2021       \r\n",
      "+-----------------------------------------------------------------------------+\r\n",
      "| NVIDIA-SMI 450.51.05    Driver Version: 450.51.05    CUDA Version: 11.0     |\r\n",
      "|-------------------------------+----------------------+----------------------+\r\n",
      "| GPU  Name        Persistence-M| Bus-Id        Disp.A | Volatile Uncorr. ECC |\r\n",
      "| Fan  Temp  Perf  Pwr:Usage/Cap|         Memory-Usage | GPU-Util  Compute M. |\r\n",
      "|                               |                      |               MIG M. |\r\n",
      "|===============================+======================+======================|\r\n",
      "|   0  Tesla V100-SXM2...  On   | 00000000:18:00.0 Off |                    0 |\r\n",
      "| N/A   40C    P0    66W / 300W |      3MiB / 16160MiB |      0%      Default |\r\n",
      "|                               |                      |                  N/A |\r\n",
      "+-------------------------------+----------------------+----------------------+\r\n",
      "|   1  Tesla V100-SXM2...  On   | 00000000:3B:00.0 Off |                    0 |\r\n",
      "| N/A   35C    P0    67W / 300W |      3MiB / 16160MiB |      0%      Default |\r\n",
      "|                               |                      |                  N/A |\r\n",
      "+-------------------------------+----------------------+----------------------+\r\n",
      "|   2  Tesla V100-SXM2...  On   | 00000000:86:00.0 Off |                    0 |\r\n",
      "| N/A   31C    P0    43W / 300W |      3MiB / 16160MiB |      0%      Default |\r\n",
      "|                               |                      |                  N/A |\r\n",
      "+-------------------------------+----------------------+----------------------+\r\n",
      "|   3  Tesla V100-SXM2...  On   | 00000000:AF:00.0 Off |                    0 |\r\n",
      "| N/A   40C    P0    68W / 300W |      3MiB / 16160MiB |      0%      Default |\r\n",
      "|                               |                      |                  N/A |\r\n",
      "+-------------------------------+----------------------+----------------------+\r\n",
      "                                                                               \r\n",
      "+-----------------------------------------------------------------------------+\r\n",
      "| Processes:                                                                  |\r\n",
      "|  GPU   GI   CI        PID   Type   Process name                  GPU Memory |\r\n",
      "|        ID   ID                                                   Usage      |\r\n",
      "|=============================================================================|\r\n"
     ]
    },
    {
     "name": "stdout",
     "output_type": "stream",
     "text": [
      "|  No running processes found                                                 |\r\n",
      "+-----------------------------------------------------------------------------+\r\n"
     ]
    }
   ],
   "source": [
    "!nvidia-smi"
   ]
  },
  {
   "cell_type": "code",
   "execution_count": 5,
   "id": "dc2f9fbd",
   "metadata": {
    "execution": {
     "iopub.execute_input": "2021-09-14T16:14:37.060728Z",
     "iopub.status.busy": "2021-09-14T16:14:37.060387Z",
     "iopub.status.idle": "2021-09-14T16:14:37.079311Z",
     "shell.execute_reply": "2021-09-14T16:14:37.079577Z"
    },
    "papermill": {
     "duration": 0.037651,
     "end_time": "2021-09-14T16:14:37.079661",
     "exception": false,
     "start_time": "2021-09-14T16:14:37.042010",
     "status": "completed"
    },
    "tags": []
   },
   "outputs": [
    {
     "name": "stdout",
     "output_type": "stream",
     "text": [
      "Total memory: 15.78173828125\n",
      "Free memory: 15.7783203125\n",
      "Used memory: 0.00341796875\n"
     ]
    }
   ],
   "source": [
    "import nvidia_smi\n",
    "try:\n",
    "    nvidia_smi.nvmlInit()\n",
    "\n",
    "    handle = nvidia_smi.nvmlDeviceGetHandleByIndex(0)\n",
    "    # card id 0 hardcoded here, there is also a call to get all available card ids, so we could iterate\n",
    "\n",
    "    info = nvidia_smi.nvmlDeviceGetMemoryInfo(handle)\n",
    "\n",
    "    print(\"Total memory:\", (info.total/1024/1024/1024))\n",
    "    print(\"Free memory:\", (info.free/1024/1024/1024))\n",
    "    print(\"Used memory:\", (info.used/1024/1024/1024))\n",
    "\n",
    "    nvidia_smi.nvmlShutdown()\n",
    "except:\n",
    "    pass"
   ]
  },
  {
   "cell_type": "code",
   "execution_count": 6,
   "id": "a62d9ed4",
   "metadata": {
    "execution": {
     "iopub.execute_input": "2021-09-14T16:14:37.112796Z",
     "iopub.status.busy": "2021-09-14T16:14:37.112469Z",
     "iopub.status.idle": "2021-09-14T16:14:54.976979Z",
     "shell.execute_reply": "2021-09-14T16:14:54.977266Z"
    },
    "papermill": {
     "duration": 17.882643,
     "end_time": "2021-09-14T16:14:54.977390",
     "exception": false,
     "start_time": "2021-09-14T16:14:37.094747",
     "status": "completed"
    },
    "tags": []
   },
   "outputs": [],
   "source": [
    "import numpy as np\n",
    "import pandas as pd\n",
    "import os\n",
    "from tqdm import tqdm\n",
    "from matplotlib import pyplot as plt\n",
    "\n",
    "from functools import partial\n",
    "from tqdm import tqdm\n",
    "from umap import UMAP\n",
    "tqdm = partial(tqdm, position=0, leave=True) "
   ]
  },
  {
   "cell_type": "code",
   "execution_count": 7,
   "id": "ef0869a2",
   "metadata": {
    "execution": {
     "iopub.execute_input": "2021-09-14T16:14:55.016682Z",
     "iopub.status.busy": "2021-09-14T16:14:55.016348Z",
     "iopub.status.idle": "2021-09-14T16:14:55.029039Z",
     "shell.execute_reply": "2021-09-14T16:14:55.028726Z"
    },
    "papermill": {
     "duration": 0.03276,
     "end_time": "2021-09-14T16:14:55.029116",
     "exception": false,
     "start_time": "2021-09-14T16:14:54.996356",
     "status": "completed"
    },
    "tags": []
   },
   "outputs": [],
   "source": [
    "df = pd.read_csv('../Data/ABIDE_df2.csv')\n",
    "df = df.iloc[~pd.isna(df['bids_folder']).values]\n",
    "#data_dir = '../Assets/fc_mats/'\n",
    "#data_dir = '../Assets/fc_mats_32smooth/'\n",
    "data_dir = '../Assets/fc_mats_32smooth_new/'"
   ]
  },
  {
   "cell_type": "code",
   "execution_count": 8,
   "id": "e1a133cb",
   "metadata": {
    "execution": {
     "iopub.execute_input": "2021-09-14T16:14:55.062603Z",
     "iopub.status.busy": "2021-09-14T16:14:55.062275Z",
     "iopub.status.idle": "2021-09-14T16:14:55.067393Z",
     "shell.execute_reply": "2021-09-14T16:14:55.067661Z"
    },
    "papermill": {
     "duration": 0.023138,
     "end_time": "2021-09-14T16:14:55.067745",
     "exception": false,
     "start_time": "2021-09-14T16:14:55.044607",
     "status": "completed"
    },
    "tags": []
   },
   "outputs": [
    {
     "data": {
      "text/plain": [
       "['sub-CMUa0050642.npy',\n",
       " 'sub-CMUa0050646.npy',\n",
       " 'sub-CMUa0050647.npy',\n",
       " 'sub-CMUa0050649.npy',\n",
       " 'sub-CMUa0050653.npy']"
      ]
     },
     "execution_count": 8,
     "metadata": {},
     "output_type": "execute_result"
    }
   ],
   "source": [
    "files = [file for file in os.listdir(data_dir) if file.endswith('.npy')]\n",
    "files.sort()\n",
    "files[0:5]"
   ]
  },
  {
   "cell_type": "code",
   "execution_count": 9,
   "id": "96206bfe",
   "metadata": {
    "execution": {
     "iopub.execute_input": "2021-09-14T16:14:55.111481Z",
     "iopub.status.busy": "2021-09-14T16:14:55.111133Z",
     "iopub.status.idle": "2021-09-14T16:14:55.112990Z",
     "shell.execute_reply": "2021-09-14T16:14:55.112698Z"
    },
    "papermill": {
     "duration": 0.029722,
     "end_time": "2021-09-14T16:14:55.113071",
     "exception": false,
     "start_time": "2021-09-14T16:14:55.083349",
     "status": "completed"
    },
    "tags": []
   },
   "outputs": [
    {
     "name": "stdout",
     "output_type": "stream",
     "text": [
      "1048\n"
     ]
    }
   ],
   "source": [
    "subs_with_matFiles = [file.split('.')[0] for file in files]\n",
    "df = df.iloc[np.array([sub in subs_with_matFiles for sub in df['bids_folder'].values])]\n",
    "n_subs = len(df)\n",
    "print(n_subs)"
   ]
  },
  {
   "cell_type": "code",
   "execution_count": 10,
   "id": "ca18d1cf",
   "metadata": {
    "execution": {
     "iopub.execute_input": "2021-09-14T16:14:55.147449Z",
     "iopub.status.busy": "2021-09-14T16:14:55.147115Z",
     "iopub.status.idle": "2021-09-14T16:14:55.601341Z",
     "shell.execute_reply": "2021-09-14T16:14:55.601608Z"
    },
    "papermill": {
     "duration": 0.472624,
     "end_time": "2021-09-14T16:14:55.601694",
     "exception": false,
     "start_time": "2021-09-14T16:14:55.129070",
     "status": "completed"
    },
    "tags": []
   },
   "outputs": [
    {
     "name": "stdout",
     "output_type": "stream",
     "text": [
      "1.0\n"
     ]
    }
   ],
   "source": [
    "# Check if subject has .nii file\n",
    "has_file = np.array([os.path.exists(os.path.join(data_dir,sub + '.npy')) for sub in df['bids_folder'].values])\n",
    "print(has_file.mean())\n",
    "assert has_file.mean()==1.0, 'fuck'"
   ]
  },
  {
   "cell_type": "code",
   "execution_count": 11,
   "id": "1bc97755",
   "metadata": {
    "execution": {
     "iopub.execute_input": "2021-09-14T16:14:55.636723Z",
     "iopub.status.busy": "2021-09-14T16:14:55.636396Z",
     "iopub.status.idle": "2021-09-14T16:14:55.641282Z",
     "shell.execute_reply": "2021-09-14T16:14:55.640987Z"
    },
    "papermill": {
     "duration": 0.023223,
     "end_time": "2021-09-14T16:14:55.641354",
     "exception": false,
     "start_time": "2021-09-14T16:14:55.618131",
     "status": "completed"
    },
    "tags": []
   },
   "outputs": [],
   "source": [
    "assert len(subs_with_matFiles)==len(df),'no'\n",
    "df = df.sort_values(by='bids_folder')\n",
    "assert all([subs_with_matFiles[i]==df['bids_folder'].values[i] for i in range(n_subs)]), 'out of order'"
   ]
  },
  {
   "cell_type": "code",
   "execution_count": 12,
   "id": "d81c5f17",
   "metadata": {
    "execution": {
     "iopub.execute_input": "2021-09-14T16:14:55.675345Z",
     "iopub.status.busy": "2021-09-14T16:14:55.675016Z",
     "iopub.status.idle": "2021-09-14T16:14:55.676632Z",
     "shell.execute_reply": "2021-09-14T16:14:55.676354Z"
    },
    "papermill": {
     "duration": 0.019291,
     "end_time": "2021-09-14T16:14:55.676701",
     "exception": false,
     "start_time": "2021-09-14T16:14:55.657410",
     "status": "completed"
    },
    "tags": []
   },
   "outputs": [],
   "source": [
    "df.index = np.arange(n_subs)"
   ]
  },
  {
   "cell_type": "code",
   "execution_count": null,
   "id": "54f590ee",
   "metadata": {
    "papermill": {
     "duration": 0.015849,
     "end_time": "2021-09-14T16:14:55.709077",
     "exception": false,
     "start_time": "2021-09-14T16:14:55.693228",
     "status": "completed"
    },
    "tags": []
   },
   "outputs": [],
   "source": []
  },
  {
   "cell_type": "code",
   "execution_count": 13,
   "id": "e8f38ba9",
   "metadata": {
    "execution": {
     "iopub.execute_input": "2021-09-14T16:14:55.742596Z",
     "iopub.status.busy": "2021-09-14T16:14:55.742263Z",
     "iopub.status.idle": "2021-09-14T16:14:55.743925Z",
     "shell.execute_reply": "2021-09-14T16:14:55.743646Z"
    },
    "papermill": {
     "duration": 0.019109,
     "end_time": "2021-09-14T16:14:55.743995",
     "exception": false,
     "start_time": "2021-09-14T16:14:55.724886",
     "status": "completed"
    },
    "tags": []
   },
   "outputs": [],
   "source": [
    "# %%time \n",
    "# # LOAD DATA\n",
    "# n_subs = len(df)\n",
    "# data_size = np.hstack((n_subs,np.load(os.path.join(data_dir,df['bids_folder'].values[0] + '.npz'))['data'].shape))\n",
    "# data = np.zeros(data_size)\n",
    "# #for s in tqdm(range(len(df))):\n",
    "# for s in range(n_subs):\n",
    "#     sub = df['bids_folder'].values[s]\n",
    "#     datum = np.load(os.path.join(data_dir,sub + '.npz'))['data']\n",
    "#     data[s,:,:,:,:] = datum"
   ]
  },
  {
   "cell_type": "code",
   "execution_count": 14,
   "id": "7c96b400",
   "metadata": {
    "execution": {
     "iopub.execute_input": "2021-09-14T16:14:55.777706Z",
     "iopub.status.busy": "2021-09-14T16:14:55.777381Z",
     "iopub.status.idle": "2021-09-14T16:14:55.778812Z",
     "shell.execute_reply": "2021-09-14T16:14:55.779071Z"
    },
    "papermill": {
     "duration": 0.019113,
     "end_time": "2021-09-14T16:14:55.779153",
     "exception": false,
     "start_time": "2021-09-14T16:14:55.760040",
     "status": "completed"
    },
    "tags": []
   },
   "outputs": [],
   "source": [
    "# hasnans = np.array([np.isnan(data[s,:,:,:,:]).sum()!=0 for s in range(data.shape[0])])\n",
    "# df = df.iloc[~hasnans]\n",
    "# data = data[~hasnans,:,:,:,:]"
   ]
  },
  {
   "cell_type": "code",
   "execution_count": 15,
   "id": "b8e46af2",
   "metadata": {
    "execution": {
     "iopub.execute_input": "2021-09-14T16:14:55.814286Z",
     "iopub.status.busy": "2021-09-14T16:14:55.813955Z",
     "iopub.status.idle": "2021-09-14T16:14:55.815472Z",
     "shell.execute_reply": "2021-09-14T16:14:55.815187Z"
    },
    "papermill": {
     "duration": 0.019431,
     "end_time": "2021-09-14T16:14:55.815542",
     "exception": false,
     "start_time": "2021-09-14T16:14:55.796111",
     "status": "completed"
    },
    "tags": []
   },
   "outputs": [],
   "source": [
    "#data.shape"
   ]
  },
  {
   "cell_type": "code",
   "execution_count": 16,
   "id": "5bb879e6",
   "metadata": {
    "execution": {
     "iopub.execute_input": "2021-09-14T16:14:55.849605Z",
     "iopub.status.busy": "2021-09-14T16:14:55.849279Z",
     "iopub.status.idle": "2021-09-14T16:14:55.850910Z",
     "shell.execute_reply": "2021-09-14T16:14:55.850633Z"
    },
    "papermill": {
     "duration": 0.019229,
     "end_time": "2021-09-14T16:14:55.850980",
     "exception": false,
     "start_time": "2021-09-14T16:14:55.831751",
     "status": "completed"
    },
    "tags": []
   },
   "outputs": [],
   "source": [
    "#assert np.isnan(data).mean()==0.0, 'you f****d up'"
   ]
  },
  {
   "cell_type": "code",
   "execution_count": 17,
   "id": "3848f69f",
   "metadata": {
    "execution": {
     "iopub.execute_input": "2021-09-14T16:14:55.885344Z",
     "iopub.status.busy": "2021-09-14T16:14:55.885011Z",
     "iopub.status.idle": "2021-09-14T16:14:55.886473Z",
     "shell.execute_reply": "2021-09-14T16:14:55.886733Z"
    },
    "papermill": {
     "duration": 0.01962,
     "end_time": "2021-09-14T16:14:55.886815",
     "exception": false,
     "start_time": "2021-09-14T16:14:55.867195",
     "status": "completed"
    },
    "tags": []
   },
   "outputs": [],
   "source": [
    "# plt.figure(figsize=(20,4.9))\n",
    "# plt.subplot(1,4,1);plt.imshow(data[10,:,:,20,0]);plt.xticks([]);plt.yticks([]);\n",
    "# plt.subplot(1,4,2);plt.imshow(data[np.random.randint(0,data.shape[0]),:,:,20,0]);plt.xticks([]);plt.yticks([]);\n",
    "# plt.subplot(1,4,3);plt.imshow(data[np.random.randint(0,data.shape[0]),20,:,:,0]);plt.xticks([]);plt.yticks([]);\n",
    "# #plt.subplot(1,4,4);plt.imshow(data[np.random.randint(0,data.shape[0]),:,20,:,0]);plt.xticks([]);plt.yticks([]);\n",
    "# plt.subplot(1,4,4);plt.hist(data[0,:,:,:,:].flatten());"
   ]
  },
  {
   "cell_type": "code",
   "execution_count": 18,
   "id": "faeb5329",
   "metadata": {
    "execution": {
     "iopub.execute_input": "2021-09-14T16:14:55.922522Z",
     "iopub.status.busy": "2021-09-14T16:14:55.922188Z",
     "iopub.status.idle": "2021-09-14T16:14:56.141044Z",
     "shell.execute_reply": "2021-09-14T16:14:56.141315Z"
    },
    "papermill": {
     "duration": 0.237846,
     "end_time": "2021-09-14T16:14:56.141404",
     "exception": false,
     "start_time": "2021-09-14T16:14:55.903558",
     "status": "completed"
    },
    "tags": []
   },
   "outputs": [
    {
     "name": "stdout",
     "output_type": "stream",
     "text": [
      "CPU times: user 46 ms, sys: 14.3 ms, total: 60.2 ms\n",
      "Wall time: 216 ms\n"
     ]
    },
    {
     "data": {
      "text/plain": [
       "<module 'tensorflow' from '/data/aglinska/anaconda3/lib/python3.8/site-packages/tensorflow/__init__.py'>"
      ]
     },
     "execution_count": 18,
     "metadata": {},
     "output_type": "execute_result"
    }
   ],
   "source": [
    "%%time\n",
    "from helper_funcs import *\n",
    "from importlib import reload\n",
    "import make_models\n",
    "reload(make_models)\n",
    "del make_models\n",
    "from make_models import *\n",
    "\n",
    "from IPython import display\n",
    "import sys\n",
    "from sklearn.decomposition import PCA\n",
    "import seaborn as sns\n",
    "\n",
    "import tensorflow as tf\n",
    "reload(tf)"
   ]
  },
  {
   "cell_type": "code",
   "execution_count": 19,
   "id": "41867f60",
   "metadata": {
    "execution": {
     "iopub.execute_input": "2021-09-14T16:14:58.211589Z",
     "iopub.status.busy": "2021-09-14T16:14:58.211199Z",
     "iopub.status.idle": "2021-09-14T16:14:58.212896Z",
     "shell.execute_reply": "2021-09-14T16:14:58.213165Z"
    },
    "papermill": {
     "duration": 2.05474,
     "end_time": "2021-09-14T16:14:58.213280",
     "exception": false,
     "start_time": "2021-09-14T16:14:56.158540",
     "status": "completed"
    },
    "tags": []
   },
   "outputs": [
    {
     "data": {
      "text/plain": [
       "'/device:GPU:0'"
      ]
     },
     "execution_count": 19,
     "metadata": {},
     "output_type": "execute_result"
    }
   ],
   "source": [
    "import tensorflow as tf\n",
    "tf.test.gpu_device_name()"
   ]
  },
  {
   "cell_type": "code",
   "execution_count": 20,
   "id": "a87e5ffd",
   "metadata": {
    "execution": {
     "iopub.execute_input": "2021-09-14T16:14:58.256548Z",
     "iopub.status.busy": "2021-09-14T16:14:58.256192Z",
     "iopub.status.idle": "2021-09-14T16:14:58.257456Z",
     "shell.execute_reply": "2021-09-14T16:14:58.257717Z"
    },
    "papermill": {
     "duration": 0.026579,
     "end_time": "2021-09-14T16:14:58.257803",
     "exception": false,
     "start_time": "2021-09-14T16:14:58.231224",
     "status": "completed"
    },
    "tags": []
   },
   "outputs": [],
   "source": [
    "class cvae_data_loader():\n",
    "    ''' this is the info'''\n",
    "    def __init__(self,data_dir,df,batch_size=32):\n",
    "        #self.data = data\n",
    "        #self.n = data.shape[0]\n",
    "        self.n = len(df)\n",
    "        self.data_dir = data_dir\n",
    "        self.epoch = -1\n",
    "        self.batch_size = batch_size\n",
    "        self.df = df\n",
    "        \n",
    "        self.new_epoch()\n",
    "        self.n_batches = int(np.floor(min((len(self.asd_idxs),len(self.td_idxs)))/self.batch_size))\n",
    "        \n",
    "    def new_epoch(self):\n",
    "        self.df = self.df.iloc[np.random.permutation(np.arange(self.n))]\n",
    "        self.df.index = np.arange(self.n)\n",
    "        self.asd_idxs = np.nonzero((df['DX_GROUP'].values==1))[0]\n",
    "        self.td_idxs = np.nonzero((df['DX_GROUP'].values==2))[0]\n",
    "        self.epoch += 1\n",
    "        self.b = 0\n",
    "        \n",
    "        \n",
    "    def get_batch(self):\n",
    "        self.b += 1\n",
    "        \n",
    "        if self.b==self.n_batches:\n",
    "            self.new_epoch()\n",
    "        \n",
    "        \n",
    "        self.batch_asd_idx = self.asd_idxs[np.arange(self.b*self.batch_size,self.b*self.batch_size+self.batch_size)]\n",
    "        self.batch_td_idx = self.td_idxs[np.arange(self.b*self.batch_size,self.b*self.batch_size+self.batch_size)]\n",
    "        self.batch_asd = np.array([np.load(os.path.join(self.data_dir,val+'.npy')) for val in self.df['bids_folder'].values[self.batch_asd_idx]])\n",
    "        self.batch_td = np.array([np.load(os.path.join(self.data_dir,val+'.npy')) for val in self.df['bids_folder'].values[self.batch_td_idx]])\n",
    "        self.batch_df = self.df.iloc[np.hstack((self.batch_asd_idx,self.batch_td_idx)),:]\n",
    "        \n",
    "    \n",
    "        return self.batch_asd,self.batch_td,self.batch_df"
   ]
  },
  {
   "cell_type": "code",
   "execution_count": 21,
   "id": "77394d62",
   "metadata": {
    "execution": {
     "iopub.execute_input": "2021-09-14T16:14:58.294379Z",
     "iopub.status.busy": "2021-09-14T16:14:58.294045Z",
     "iopub.status.idle": "2021-09-14T16:14:59.609283Z",
     "shell.execute_reply": "2021-09-14T16:14:59.608941Z"
    },
    "papermill": {
     "duration": 1.334467,
     "end_time": "2021-09-14T16:14:59.609382",
     "exception": false,
     "start_time": "2021-09-14T16:14:58.274915",
     "status": "completed"
    },
    "tags": []
   },
   "outputs": [],
   "source": [
    "data_dir = '../Assets/fc_mats_32smooth_new'\n",
    "data_loader = cvae_data_loader(data_dir=data_dir, df=df, batch_size=32)\n",
    "batch_asd,batch_td,batch_df = data_loader.get_batch()"
   ]
  },
  {
   "cell_type": "code",
   "execution_count": 22,
   "id": "4ba10ece",
   "metadata": {
    "execution": {
     "iopub.execute_input": "2021-09-14T16:14:59.646503Z",
     "iopub.status.busy": "2021-09-14T16:14:59.646170Z",
     "iopub.status.idle": "2021-09-14T16:14:59.647421Z",
     "shell.execute_reply": "2021-09-14T16:14:59.647682Z"
    },
    "papermill": {
     "duration": 0.021231,
     "end_time": "2021-09-14T16:14:59.647769",
     "exception": false,
     "start_time": "2021-09-14T16:14:59.626538",
     "status": "completed"
    },
    "tags": []
   },
   "outputs": [],
   "source": [
    "data_size = np.hstack((n_subs,batch_asd.shape[1:]))"
   ]
  },
  {
   "cell_type": "code",
   "execution_count": 23,
   "id": "8ff2e9fc",
   "metadata": {
    "execution": {
     "iopub.execute_input": "2021-09-14T16:14:59.685399Z",
     "iopub.status.busy": "2021-09-14T16:14:59.685063Z",
     "iopub.status.idle": "2021-09-14T16:15:00.279570Z",
     "shell.execute_reply": "2021-09-14T16:15:00.279233Z"
    },
    "papermill": {
     "duration": 0.614329,
     "end_time": "2021-09-14T16:15:00.279668",
     "exception": false,
     "start_time": "2021-09-14T16:14:59.665339",
     "status": "completed"
    },
    "tags": []
   },
   "outputs": [],
   "source": [
    "import make_models\n",
    "reload(make_models)\n",
    "from make_models import *\n",
    "batch_size = 32\n",
    "cvae, z_encoder, s_encoder, cvae_decoder = get_MRI_CCVAE_3D(input_shape=tuple(data_size[1::]),\n",
    "                   latent_dim = 8, \n",
    "                   batch_size = batch_size, \n",
    "                   disentangle = True, \n",
    "                   gamma = 1,\n",
    "                   kernel_size = 3,\n",
    "                   filters = 8,\n",
    "                   intermediate_dim = 128,\n",
    "                   nlayers = 2,\n",
    "                   learning_rate=0.001)"
   ]
  },
  {
   "cell_type": "code",
   "execution_count": null,
   "id": "555822d5",
   "metadata": {
    "papermill": {
     "duration": 0.01776,
     "end_time": "2021-09-14T16:15:00.315144",
     "exception": false,
     "start_time": "2021-09-14T16:15:00.297384",
     "status": "completed"
    },
    "tags": []
   },
   "outputs": [],
   "source": []
  },
  {
   "cell_type": "code",
   "execution_count": null,
   "id": "6d56714a",
   "metadata": {
    "papermill": {
     "duration": 0.016987,
     "end_time": "2021-09-14T16:15:00.349885",
     "exception": false,
     "start_time": "2021-09-14T16:15:00.332898",
     "status": "completed"
    },
    "tags": []
   },
   "outputs": [],
   "source": []
  },
  {
   "cell_type": "code",
   "execution_count": null,
   "id": "2cf548c4",
   "metadata": {
    "papermill": {
     "duration": 0.017072,
     "end_time": "2021-09-14T16:15:00.383984",
     "exception": false,
     "start_time": "2021-09-14T16:15:00.366912",
     "status": "completed"
    },
    "tags": []
   },
   "outputs": [],
   "source": []
  },
  {
   "cell_type": "code",
   "execution_count": 24,
   "id": "42f72240",
   "metadata": {
    "execution": {
     "iopub.execute_input": "2021-09-14T16:15:00.421667Z",
     "iopub.status.busy": "2021-09-14T16:15:00.421340Z",
     "iopub.status.idle": "2021-09-14T16:15:00.423309Z",
     "shell.execute_reply": "2021-09-14T16:15:00.423022Z"
    },
    "papermill": {
     "duration": 0.0216,
     "end_time": "2021-09-14T16:15:00.423382",
     "exception": false,
     "start_time": "2021-09-14T16:15:00.401782",
     "status": "completed"
    },
    "tags": []
   },
   "outputs": [
    {
     "data": {
      "text/plain": [
       "(1048, 32, 32, 32, 51)"
      ]
     },
     "execution_count": 24,
     "metadata": {},
     "output_type": "execute_result"
    }
   ],
   "source": [
    "tuple(data_size)"
   ]
  },
  {
   "cell_type": "code",
   "execution_count": 25,
   "id": "13b5d33d",
   "metadata": {
    "execution": {
     "iopub.execute_input": "2021-09-14T16:15:00.460445Z",
     "iopub.status.busy": "2021-09-14T16:15:00.460113Z",
     "iopub.status.idle": "2021-09-14T16:15:00.461434Z",
     "shell.execute_reply": "2021-09-14T16:15:00.461694Z"
    },
    "papermill": {
     "duration": 0.020855,
     "end_time": "2021-09-14T16:15:00.461776",
     "exception": false,
     "start_time": "2021-09-14T16:15:00.440921",
     "status": "completed"
    },
    "tags": []
   },
   "outputs": [],
   "source": [
    "patients = df['DX_GROUP'].values==1\n",
    "controls = df['DX_GROUP'].values==2"
   ]
  },
  {
   "cell_type": "code",
   "execution_count": 26,
   "id": "51ff2b80",
   "metadata": {
    "execution": {
     "iopub.execute_input": "2021-09-14T16:15:00.498765Z",
     "iopub.status.busy": "2021-09-14T16:15:00.498442Z",
     "iopub.status.idle": "2021-09-14T16:15:00.499789Z",
     "shell.execute_reply": "2021-09-14T16:15:00.500049Z"
    },
    "papermill": {
     "duration": 0.021002,
     "end_time": "2021-09-14T16:15:00.500130",
     "exception": false,
     "start_time": "2021-09-14T16:15:00.479128",
     "status": "completed"
    },
    "tags": []
   },
   "outputs": [],
   "source": [
    "loss = list()\n",
    "c_sim = list()\n",
    "all_rsas = list()"
   ]
  },
  {
   "cell_type": "code",
   "execution_count": null,
   "id": "b6601878",
   "metadata": {
    "papermill": {
     "duration": 0.017151,
     "end_time": "2021-09-14T16:15:00.535021",
     "exception": false,
     "start_time": "2021-09-14T16:15:00.517870",
     "status": "completed"
    },
    "tags": []
   },
   "outputs": [],
   "source": []
  },
  {
   "cell_type": "code",
   "execution_count": 27,
   "id": "8a6503c0",
   "metadata": {
    "execution": {
     "iopub.execute_input": "2021-09-14T16:15:00.571910Z",
     "iopub.status.busy": "2021-09-14T16:15:00.571588Z",
     "iopub.status.idle": "2021-09-14T16:15:00.573264Z",
     "shell.execute_reply": "2021-09-14T16:15:00.573528Z"
    },
    "papermill": {
     "duration": 0.021317,
     "end_time": "2021-09-14T16:15:00.573610",
     "exception": false,
     "start_time": "2021-09-14T16:15:00.552293",
     "status": "completed"
    },
    "tags": []
   },
   "outputs": [
    {
     "data": {
      "text/plain": [
       "'2.3.1'"
      ]
     },
     "execution_count": 27,
     "metadata": {},
     "output_type": "execute_result"
    }
   ],
   "source": [
    "tf.__version__"
   ]
  },
  {
   "cell_type": "code",
   "execution_count": 28,
   "id": "c523c243",
   "metadata": {
    "execution": {
     "iopub.execute_input": "2021-09-14T16:15:00.611885Z",
     "iopub.status.busy": "2021-09-14T16:15:00.611564Z",
     "iopub.status.idle": "2021-09-14T16:15:00.613151Z",
     "shell.execute_reply": "2021-09-14T16:15:00.612861Z"
    },
    "papermill": {
     "duration": 0.022117,
     "end_time": "2021-09-14T16:15:00.613221",
     "exception": false,
     "start_time": "2021-09-14T16:15:00.591104",
     "status": "completed"
    },
    "tags": []
   },
   "outputs": [],
   "source": [
    "def fit_rsa(rdm_data,rdm_model):\n",
    "    return np.corrcoef(get_triu(rdm_data),get_triu(rdm_model))[0,1]"
   ]
  },
  {
   "cell_type": "code",
   "execution_count": 29,
   "id": "275c2ff7",
   "metadata": {
    "execution": {
     "iopub.execute_input": "2021-09-14T16:15:00.655290Z",
     "iopub.status.busy": "2021-09-14T16:15:00.654947Z",
     "iopub.status.idle": "2021-09-14T16:15:00.656533Z",
     "shell.execute_reply": "2021-09-14T16:15:00.656248Z"
    },
    "papermill": {
     "duration": 0.025265,
     "end_time": "2021-09-14T16:15:00.656603",
     "exception": false,
     "start_time": "2021-09-14T16:15:00.631338",
     "status": "completed"
    },
    "tags": []
   },
   "outputs": [],
   "source": [
    "def get_batch_rsas(z_encoder,s_encoder,df,n=400):\n",
    "    \n",
    "    #patient_batch,control_batch\n",
    "\n",
    "    asd_idx = np.nonzero(~np.isnan(batch_df['DX_GROUP'].values==1))\n",
    "\n",
    "    #z_embedding = z_encoder.predict(data[patients,:,:,:,:][asd_idx,:,:,:,:])[2]\n",
    "    #s_embedding = s_encoder.predict(data[patients,:,:,:,:][asd_idx,:,:,:,:])[2]\n",
    "    \n",
    "    z_embedding = z_encoder.predict(patient_batch)[2]\n",
    "    s_embedding = s_encoder.predict(patient_batch)[2]\n",
    "\n",
    "    rdm_age = make_RDM(batch_df['AGE_AT_SCAN'].values[patients][asd_idx])\n",
    "    rdm_sex = make_RDM(batch_df['SEX'].values[patients][asd_idx],data_scale='ordinal')\n",
    "    rdm_fiq = make_RDM(batch_df['FIQ'].values[patients][asd_idx])\n",
    "    rdm_dsm = make_RDM(batch_df['DSM_IV_TR'].values[patients][asd_idx],data_scale='ordinal')\n",
    "    rdm_site = make_RDM(batch_df['site'].values[patients][asd_idx],data_scale='ordinal')\n",
    "    #rdm_adosTotal = make_RDM(batch_df['ADOS_TOTAL'].values[patients][asd_idx])\n",
    "\n",
    "    rdm_z = make_RDM(z_embedding)\n",
    "    rdm_s = make_RDM(s_embedding)\n",
    "\n",
    "    batch_rsas = list()\n",
    "\n",
    "    batch_rsas.append(fit_rsa(rdm_s,rdm_age))\n",
    "    batch_rsas.append(fit_rsa(rdm_s,rdm_sex))\n",
    "    batch_rsas.append(fit_rsa(rdm_s,rdm_fiq))\n",
    "    batch_rsas.append(fit_rsa(rdm_s,rdm_dsm))\n",
    "    batch_rsas.append(fit_rsa(rdm_s,rdm_site))\n",
    "    #batch_rsas.append(fit_rsa(rdm_s,rdm_adosTotal))\n",
    "\n",
    "    batch_rsas.append(fit_rsa(rdm_z,rdm_age))\n",
    "    batch_rsas.append(fit_rsa(rdm_z,rdm_sex))\n",
    "    batch_rsas.append(fit_rsa(rdm_z,rdm_fiq))\n",
    "    batch_rsas.append(fit_rsa(rdm_z,rdm_dsm))\n",
    "    batch_rsas.append(fit_rsa(rdm_z,rdm_site))\n",
    "    #batch_rsas.append(fit_rsa(rdm_z,rdm_adosTotal))\n",
    "    \n",
    "    return batch_rsas"
   ]
  },
  {
   "cell_type": "code",
   "execution_count": 30,
   "id": "967c81de",
   "metadata": {
    "execution": {
     "iopub.execute_input": "2021-09-14T16:15:00.718827Z",
     "iopub.status.busy": "2021-09-14T16:15:00.702399Z",
     "iopub.status.idle": "2021-09-14T16:15:00.720046Z",
     "shell.execute_reply": "2021-09-14T16:15:00.720314Z"
    },
    "papermill": {
     "duration": 0.04559,
     "end_time": "2021-09-14T16:15:00.720398",
     "exception": false,
     "start_time": "2021-09-14T16:15:00.674808",
     "status": "completed"
    },
    "tags": []
   },
   "outputs": [],
   "source": [
    "def cvae_dashboard(i,cvae,z_encoder,s_encoder,loss,all_rsas,c_sim,df,patient_batch,control_batch,red='UMAP'):\n",
    "    \n",
    "\n",
    "    if red=='PCA':\n",
    "        reducer = PCA\n",
    "    elif red=='UMAP':\n",
    "        reducer = UMAP\n",
    "    else:\n",
    "        reducer = UMAP\n",
    "        \n",
    "    #prediction = cvae.predict(patient_batch)    \n",
    "    predictions = cvae.predict([patient_batch,control_batch])\n",
    "    #predictions = np.concatenate((predictions[0],predictions[1]),axis=0)\n",
    "    prediction = predictions[0]\n",
    "    \n",
    "    if np.mod(i,1)==0:        \n",
    "        pc_s = reducer(n_components=2).fit_transform(s_encoder.predict(np.concatenate((patient_batch,control_batch),axis=0))[2])\n",
    "        pc_z = reducer(n_components=2).fit_transform(z_encoder.predict(np.concatenate((patient_batch,control_batch),axis=0))[2])\n",
    "        \n",
    "        global pc_s_asd, pc_s_td, pc_z_asd, pc_z_td\n",
    "\n",
    "        pc_s_asd = pc_s[0:patient_batch.shape[0],:]\n",
    "        pc_s_td = pc_s[patient_batch.shape[0]::,:]\n",
    "\n",
    "        pc_z_asd = pc_z[0:patient_batch.shape[0],:]\n",
    "        pc_z_td = pc_z[patient_batch.shape[0]::,:]\n",
    "        \n",
    "        #all_rsas.append(get_batch_rsas(z_encoder,s_encoder,df,n=50))\n",
    "        \n",
    "    cmat_actual = np.corrcoef(np.vstack((patient_batch.reshape(patient_batch.shape[0],-1),control_batch.reshape(control_batch.shape[0],-1))))\n",
    "    cmat_pred = np.corrcoef(np.vstack((predictions[0].reshape(predictions[0].shape[0],-1),predictions[1].reshape(predictions[1].shape[0],-1))))\n",
    "    c_sim.append(np.corrcoef(get_triu(cmat_pred),get_triu(cmat_actual))[0,1])\n",
    "\n",
    "    \n",
    "    ### PROGRESS PLOTTING\n",
    "    display.clear_output(wait=True);\n",
    "    display.display(plt.gcf());\n",
    "    #Organise figure\n",
    "    ncols = 4;nrows=5\n",
    "    if np.mod(i,5)==0:\n",
    "        plt.close()\n",
    "    plt.subplots(nrows,ncols,figsize=(15,15)); # MAKE THE FIGURE\n",
    "    \n",
    "    \n",
    "    ##### SUBPLOT 1 & 2 ##### \n",
    "\n",
    "    plt.subplot(nrows,ncols/2,1) # PLOT LOSS\n",
    "    xs = np.arange(len(loss))+1\n",
    "    m,b = np.polyfit(xs,loss,deg=1)\n",
    "    plt.plot(loss)\n",
    "    plt.plot(xs, m*xs + b)\n",
    "    plt.title(f'Loss {hist:.2f}, beta: {m:.4f}')\n",
    "    \n",
    "    ##### SUBPLOT 3 ##### \n",
    "    plt.subplot(nrows,ncols,3) # PLOT LOSS LAST 50\n",
    "    hb = 50\n",
    "    if len(loss)>hb:\n",
    "        plot_loss = loss[-hb::]\n",
    "        xs = np.arange(len(plot_loss))\n",
    "        m,b = np.polyfit(xs,plot_loss,deg=1)\n",
    "        plt.plot(plot_loss)\n",
    "        plt.plot(xs, m*xs + b)\n",
    "        #plt.title(hist)\n",
    "        plt.title(f'Loss last {hb} it, beta {m:.4f}')\n",
    "        \n",
    "    ##### SUBPLOT 4 ##### \n",
    "    plt.subplot(nrows,ncols,4)\n",
    "    plt.hist(prediction[0,:,:,:,0].flatten(),alpha=.5)\n",
    "    plt.hist(patient_batch[0,:,:,:,0].flatten(),alpha=.5)\n",
    "    plt.legend(['predicted','actual'])\n",
    "    plt.title('in/out histograms')\n",
    "    \n",
    "    ##### SUBPLOT 5 ##### \n",
    "    plt.subplot(nrows,ncols,5) #RSA over time\n",
    "    plt.plot(c_sim)\n",
    "    plt.title(f'in/out RSA: {c_sim[-1].round(2)}')\n",
    "    \n",
    "    if len(c_sim)>5: # PLOT LS LINE\n",
    "        xs = np.arange(len(c_sim))+1\n",
    "        m,b = np.polyfit(xs,c_sim,deg=1)\n",
    "        plt.plot(xs, m*xs + b)\n",
    "        plt.title(f'in/out RSA: {c_sim[-1].round(2)}, b={m:.4f}')\n",
    "        \n",
    "\n",
    "    ##### SUBPLOT 6 ##### \n",
    "    plt.subplot(nrows,ncols,6)\n",
    "    if len(c_sim)>hb:\n",
    "        #plot_loss = loss[-hb::]\n",
    "        xs = np.arange(len(c_sim[-hb::]))\n",
    "        m,b = np.polyfit(xs,c_sim[-hb::],deg=1)\n",
    "        plt.plot(c_sim[-hb::])\n",
    "        plt.plot(xs, m*xs + b)\n",
    "        #plt.title(hist)\n",
    "        plt.title(f'in/outRSA last {hb} it, b={m:.4f}')\n",
    "\n",
    "    ##### SUBPLOT 7 ##### \n",
    "    plt.subplot(nrows,ncols,7)\n",
    "    if len(all_rsas)>5:\n",
    "        ys = np.array(all_rsas)[:,np.array((2))]\n",
    "        plt.plot(ys,'-');\n",
    "        plt.legend(['FIQ'],loc=2)\n",
    "\n",
    "        xs = np.arange(len(ys))+1\n",
    "        m,b = np.polyfit(xs,ys,deg=1)\n",
    "        plt.plot(xs, m*xs + b)\n",
    "        plt.title(f'S RSA: {ys[-1]:2f},b={m:.4f}')\n",
    "    \n",
    "    ##### SUBPLOT 8 ##### \n",
    "    plt.subplot(nrows,ncols,8)\n",
    "    if len(all_rsas)>5:\n",
    "        ys = np.array(all_rsas)[:,np.array((5))]\n",
    "        plt.plot(ys,'-');\n",
    "        plt.legend(['Age'],loc=2)\n",
    "        xs = np.arange(len(ys))+1\n",
    "        m,b = np.polyfit(xs,ys,deg=1)\n",
    "        plt.plot(xs, m*xs + b)\n",
    "        plt.title(f'Z RSA: {ys[-1]:2f},b={m:.4f}')\n",
    "        \n",
    "    ##### SUBPLOT 9 ##### \n",
    "    plt.subplot(nrows,ncols,9)\n",
    "    plt.scatter(pc_s_asd[:,0],pc_s_asd[:,1],s=100,alpha=.5);plt.title(f'batch latent S rep. {red}')\n",
    "    plt.scatter(pc_s_td[:,0],pc_s_td[:,1],s=100,alpha=.5);plt.title(f'batch latent S rep. {red}')\n",
    "    plt.legend(['ASD','TD'])\n",
    "    \n",
    "    ##### SUBPLOT 10 ##### \n",
    "    plt.subplot(nrows,ncols,10)\n",
    "    plt.scatter(pc_z_asd[:,0],pc_z_asd[:,1],s=100,alpha=.5);plt.title(f'batch latent Z rep. {red}')\n",
    "    plt.scatter(pc_z_td[:,0],pc_z_td[:,1],s=100,alpha=.5);plt.title(f'batch latent Z rep. {red}')\n",
    "    plt.legend(['ASD','TD'])\n",
    "    \n",
    "    ##### SUBPLOT 11 ##### \n",
    "    plt.subplot(nrows,ncols,11)\n",
    "    sns.heatmap(cmat_actual,xticklabels=[],yticklabels=[])\n",
    "    plt.title('input RSA')\n",
    "        \n",
    "    ##### SUBPLOT 12 ##### \n",
    "    plt.subplot(nrows,ncols,12)\n",
    "    sns.heatmap(cmat_pred,xticklabels=[],yticklabels=[])\n",
    "    plt.title('output RSA')\n",
    "  \n",
    "    ##### SUBPLOT 13 #####     \n",
    "    plt.subplot(nrows,ncols,13)\n",
    "    plt.imshow(np.rot90(patient_batch[0,:,16,:,0]))\n",
    "    plt.xticks([]);plt.yticks([]);plt.title('actual')\n",
    "\n",
    "    ##### SUBPLOT 14 #####     \n",
    "    plt.subplot(nrows,ncols,14)\n",
    "    plt.imshow(np.rot90(prediction[0,:,16,:,0]))\n",
    "    plt.xticks([]);plt.yticks([]);plt.title('predicted')\n",
    "    ##### SUBPLOT 15 #####     \n",
    "    plt.subplot(nrows,ncols,15)\n",
    "    plt.imshow(np.rot90(patient_batch[0,16,:,:,0]))\n",
    "    plt.xticks([]);plt.yticks([]);plt.title('actual')\n",
    "    ##### SUBPLOT 16 #####                                             \n",
    "    plt.subplot(nrows,ncols,16)\n",
    "    plt.imshow(np.rot90(prediction[0,16,:,:,0]))\n",
    "    plt.xticks([]);plt.yticks([]);plt.title('predicted')\n",
    "    ##### SUBPLOT 17 #####     \n",
    "    plt.subplot(nrows,ncols,17)\n",
    "    plt.imshow(np.rot90(patient_batch[0,6,:,:,0]))\n",
    "    plt.xticks([]);plt.yticks([]);plt.title('actual')\n",
    "    ##### SUBPLOT 18 #####                                             \n",
    "    plt.subplot(nrows,ncols,18)\n",
    "    plt.imshow(np.rot90(prediction[0,6,:,:,0]))\n",
    "    plt.xticks([]);plt.yticks([]);plt.title('predicted')\n",
    "    ##### SUBPLOT 19 #####     \n",
    "    plt.subplot(nrows,ncols,19)\n",
    "    plt.imshow(patient_batch[0,:,:,16,0])\n",
    "    plt.xticks([]);plt.yticks([]);plt.title('actual')\n",
    "    ##### SUBPLOT 20 #####     \n",
    "    plt.subplot(nrows,ncols,20)\n",
    "    plt.imshow(prediction[0,:,:,16,0])\n",
    "    plt.xticks([]);plt.yticks([]);plt.title('predicted')\n",
    "    \n",
    "    plt.tight_layout()\n",
    "    plt.show()\n",
    "    #sys.stdout.flush()\n",
    "    \n",
    "    return c_sim,all_rsas"
   ]
  },
  {
   "cell_type": "code",
   "execution_count": 31,
   "id": "821fb4e9",
   "metadata": {
    "execution": {
     "iopub.execute_input": "2021-09-14T16:15:00.758499Z",
     "iopub.status.busy": "2021-09-14T16:15:00.758172Z",
     "iopub.status.idle": "2021-09-14T16:15:00.760289Z",
     "shell.execute_reply": "2021-09-14T16:15:00.760551Z"
    },
    "papermill": {
     "duration": 0.022279,
     "end_time": "2021-09-14T16:15:00.760633",
     "exception": false,
     "start_time": "2021-09-14T16:15:00.738354",
     "status": "completed"
    },
    "tags": []
   },
   "outputs": [],
   "source": [
    "data_loader = cvae_data_loader(data_dir=data_dir, df=df, batch_size=32)"
   ]
  },
  {
   "cell_type": "code",
   "execution_count": 32,
   "id": "659cc7f4",
   "metadata": {
    "execution": {
     "iopub.execute_input": "2021-09-14T16:15:00.799925Z",
     "iopub.status.busy": "2021-09-14T16:15:00.799596Z"
    },
    "papermill": {
     "duration": null,
     "end_time": null,
     "exception": false,
     "start_time": "2021-09-14T16:15:00.778593",
     "status": "running"
    },
    "tags": []
   },
   "outputs": [
    {
     "data": {
      "text/plain": [
       "<Figure size 432x288 with 0 Axes>"
      ]
     },
     "metadata": {},
     "output_type": "display_data"
    },
    {
     "name": "stderr",
     "output_type": "stream",
     "text": [
      "<ipython-input-30-6101d3b1b3b9>:47: MatplotlibDeprecationWarning: Passing non-integers as three-element position specification is deprecated since 3.3 and will be removed two minor releases later.\n",
      "  plt.subplot(nrows,ncols/2,1) # PLOT LOSS\n"
     ]
    },
    {
     "data": {
      "text/plain": [
       "<Figure size 432x288 with 0 Axes>"
      ]
     },
     "metadata": {},
     "output_type": "display_data"
    },
    {
     "data": {
      "image/png": "[encoded data removed]",
      "text/plain": [
       "<Figure size 1080x1080 with 21 Axes>"
      ]
     },
     "metadata": {
      "needs_background": "light"
     },
     "output_type": "display_data"
    },
    {
     "name": "stderr",
     "output_type": "stream",
     "text": [
      "\r",
      "  0%|          | 2/10000 [00:28<42:30:56, 15.31s/it]"
     ]
    }
   ],
   "source": [
    "for epoch in range(5):\n",
    "    for i in tqdm(range(10000),position=0, leave=True):\n",
    "        #patient_batch = data[patients,:,:,:,:][np.random.randint(low=0,high=patients.sum(),size=batch_size),:,:,:,:]\n",
    "        #control_batch = data[controls,:,:,:,:][np.random.randint(low=0,high=controls.sum(),size=batch_size),:,:,:,:]\n",
    "        patient_batch,control_batch,batch_df = data_loader.get_batch()\n",
    "        hist = cvae.train_on_batch([patient_batch,control_batch])\n",
    "        assert not np.isnan(hist),'loss is NaN - you f**cked up'    \n",
    "        loss.append(hist)\n",
    "        \n",
    "        c_sim,all_rsas = cvae_dashboard(i,cvae,z_encoder,s_encoder,loss,all_rsas,c_sim,df,patient_batch,control_batch,red='UMAP')"
   ]
  },
  {
   "cell_type": "code",
   "execution_count": null,
   "id": "7d1f184c",
   "metadata": {
    "papermill": {
     "duration": null,
     "end_time": null,
     "exception": null,
     "start_time": null,
     "status": "pending"
    },
    "tags": []
   },
   "outputs": [],
   "source": []
  },
  {
   "cell_type": "code",
   "execution_count": null,
   "id": "6498ac6f",
   "metadata": {
    "papermill": {
     "duration": null,
     "end_time": null,
     "exception": null,
     "start_time": null,
     "status": "pending"
    },
    "tags": []
   },
   "outputs": [],
   "source": []
  },
  {
   "cell_type": "code",
   "execution_count": null,
   "id": "95e5b76a",
   "metadata": {
    "papermill": {
     "duration": null,
     "end_time": null,
     "exception": null,
     "start_time": null,
     "status": "pending"
    },
    "tags": []
   },
   "outputs": [],
   "source": []
  },
  {
   "cell_type": "code",
   "execution_count": null,
   "id": "8c52b94c",
   "metadata": {
    "papermill": {
     "duration": null,
     "end_time": null,
     "exception": null,
     "start_time": null,
     "status": "pending"
    },
    "tags": []
   },
   "outputs": [],
   "source": []
  },
  {
   "cell_type": "code",
   "execution_count": null,
   "id": "493cbf4a",
   "metadata": {
    "papermill": {
     "duration": null,
     "end_time": null,
     "exception": null,
     "start_time": null,
     "status": "pending"
    },
    "tags": []
   },
   "outputs": [],
   "source": []
  },
  {
   "cell_type": "code",
   "execution_count": null,
   "id": "c6c98ddd",
   "metadata": {
    "papermill": {
     "duration": null,
     "end_time": null,
     "exception": null,
     "start_time": null,
     "status": "pending"
    },
    "tags": []
   },
   "outputs": [],
   "source": []
  },
  {
   "cell_type": "code",
   "execution_count": null,
   "id": "ff368d37",
   "metadata": {
    "papermill": {
     "duration": null,
     "end_time": null,
     "exception": null,
     "start_time": null,
     "status": "pending"
    },
    "tags": []
   },
   "outputs": [],
   "source": []
  }
 ],
 "metadata": {
  "kernelspec": {
   "display_name": "Python 3",
   "language": "python",
   "name": "python3"
  },
  "language_info": {
   "codemirror_mode": {
    "name": "ipython",
    "version": 3
   },
   "file_extension": ".py",
   "mimetype": "text/x-python",
   "name": "python",
   "nbconvert_exporter": "python",
   "pygments_lexer": "ipython3",
   "version": "3.8.5"
  },
  "papermill": {
   "default_parameters": {},
   "duration": null,
   "end_time": null,
   "environment_variables": {},
   "exception": null,
   "input_path": "01-train-CVAE.ipynb",
   "output_path": "./papermill/papermill|01-train-CVAE|2021-09-14-12-14-32.ipynb",
   "parameters": {},
   "start_time": "2021-09-14T16:14:34.474477",
   "version": "2.3.3"
  }
 },
 "nbformat": 4,
 "nbformat_minor": 5
}