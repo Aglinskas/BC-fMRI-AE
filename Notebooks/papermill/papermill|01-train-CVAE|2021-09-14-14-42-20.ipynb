{
 "cells": [
  {
   "cell_type": "code",
   "execution_count": 1,
   "id": "04653978",
   "metadata": {
    "execution": {
     "iopub.execute_input": "2021-09-14T18:42:25.355484Z",
     "iopub.status.busy": "2021-09-14T18:42:25.355117Z",
     "iopub.status.idle": "2021-09-14T18:42:25.357159Z",
     "shell.execute_reply": "2021-09-14T18:42:25.356833Z"
    },
    "papermill": {
     "duration": 0.027803,
     "end_time": "2021-09-14T18:42:25.357273",
     "exception": false,
     "start_time": "2021-09-14T18:42:25.329470",
     "status": "completed"
    },
    "tags": []
   },
   "outputs": [
    {
     "data": {
      "text/plain": [
       "'/mmfs1/data/aglinska/BC-fMRI-AE/Notebooks'"
      ]
     },
     "execution_count": 1,
     "metadata": {},
     "output_type": "execute_result"
    }
   ],
   "source": [
    "pwd"
   ]
  },
  {
   "cell_type": "code",
   "execution_count": 2,
   "id": "5bb00d23",
   "metadata": {
    "execution": {
     "iopub.execute_input": "2021-09-14T18:42:25.386759Z",
     "iopub.status.busy": "2021-09-14T18:42:25.386437Z",
     "iopub.status.idle": "2021-09-14T18:42:25.388367Z",
     "shell.execute_reply": "2021-09-14T18:42:25.388038Z"
    },
    "papermill": {
     "duration": 0.017255,
     "end_time": "2021-09-14T18:42:25.388437",
     "exception": false,
     "start_time": "2021-09-14T18:42:25.371182",
     "status": "completed"
    },
    "tags": []
   },
   "outputs": [
    {
     "name": "stdout",
     "output_type": "stream",
     "text": [
      "Interactive namespace is empty.\n"
     ]
    }
   ],
   "source": [
    "whos"
   ]
  },
  {
   "cell_type": "code",
   "execution_count": 3,
   "id": "239001c6",
   "metadata": {
    "execution": {
     "iopub.execute_input": "2021-09-14T18:42:25.419024Z",
     "iopub.status.busy": "2021-09-14T18:42:25.418701Z",
     "iopub.status.idle": "2021-09-14T18:42:25.540172Z",
     "shell.execute_reply": "2021-09-14T18:42:25.539898Z"
    },
    "papermill": {
     "duration": 0.138236,
     "end_time": "2021-09-14T18:42:25.540245",
     "exception": false,
     "start_time": "2021-09-14T18:42:25.402009",
     "status": "completed"
    },
    "tags": []
   },
   "outputs": [
    {
     "name": "stdout",
     "output_type": "stream",
     "text": [
      "              total        used        free      shared  buff/cache   available\r\n",
      "Mem:            187          10         172           3           4         172\r\n",
      "Swap:            11           1          10\r\n"
     ]
    }
   ],
   "source": [
    "!free -g"
   ]
  },
  {
   "cell_type": "code",
   "execution_count": 4,
   "id": "0033fe20",
   "metadata": {
    "execution": {
     "iopub.execute_input": "2021-09-14T18:42:25.574850Z",
     "iopub.status.busy": "2021-09-14T18:42:25.574523Z",
     "iopub.status.idle": "2021-09-14T18:42:25.865119Z",
     "shell.execute_reply": "2021-09-14T18:42:25.864845Z"
    },
    "papermill": {
     "duration": 0.306774,
     "end_time": "2021-09-14T18:42:25.865196",
     "exception": false,
     "start_time": "2021-09-14T18:42:25.558422",
     "status": "completed"
    },
    "tags": []
   },
   "outputs": [
    {
     "name": "stdout",
     "output_type": "stream",
     "text": [
      "Tue Sep 14 14:42:25 2021       \r\n",
      "+-----------------------------------------------------------------------------+\r\n",
      "| NVIDIA-SMI 450.51.05    Driver Version: 450.51.05    CUDA Version: 11.0     |\r\n",
      "|-------------------------------+----------------------+----------------------+\r\n",
      "| GPU  Name        Persistence-M| Bus-Id        Disp.A | Volatile Uncorr. ECC |\r\n",
      "| Fan  Temp  Perf  Pwr:Usage/Cap|         Memory-Usage | GPU-Util  Compute M. |\r\n",
      "|                               |                      |               MIG M. |\r\n",
      "|===============================+======================+======================|\r\n",
      "|   0  Tesla V100-SXM2...  On   | 00000000:18:00.0 Off |                    0 |\r\n",
      "| N/A   40C    P0    66W / 300W |      3MiB / 16160MiB |      0%      Default |\r\n",
      "|                               |                      |                  N/A |\r\n",
      "+-------------------------------+----------------------+----------------------+\r\n",
      "|   1  Tesla V100-SXM2...  On   | 00000000:3B:00.0 Off |                    0 |\r\n",
      "| N/A   34C    P0    67W / 300W |      3MiB / 16160MiB |      0%      Default |\r\n",
      "|                               |                      |                  N/A |\r\n",
      "+-------------------------------+----------------------+----------------------+\r\n",
      "|   2  Tesla V100-SXM2...  On   | 00000000:86:00.0 Off |                    0 |\r\n",
      "| N/A   30C    P0    42W / 300W |      3MiB / 16160MiB |      0%      Default |\r\n",
      "|                               |                      |                  N/A |\r\n",
      "+-------------------------------+----------------------+----------------------+\r\n"
     ]
    },
    {
     "name": "stdout",
     "output_type": "stream",
     "text": [
      "|   3  Tesla V100-SXM2...  On   | 00000000:AF:00.0 Off |                    0 |\r\n",
      "| N/A   40C    P0    68W / 300W |      3MiB / 16160MiB |      0%      Default |\r\n",
      "|                               |                      |                  N/A |\r\n",
      "+-------------------------------+----------------------+----------------------+\r\n",
      "                                                                               \r\n",
      "+-----------------------------------------------------------------------------+\r\n",
      "| Processes:                                                                  |\r\n",
      "|  GPU   GI   CI        PID   Type   Process name                  GPU Memory |\r\n",
      "|        ID   ID                                                   Usage      |\r\n",
      "|=============================================================================|\r\n",
      "|  No running processes found                                                 |\r\n",
      "+-----------------------------------------------------------------------------+\r\n"
     ]
    }
   ],
   "source": [
    "!nvidia-smi"
   ]
  },
  {
   "cell_type": "code",
   "execution_count": 5,
   "id": "aaa05c09",
   "metadata": {
    "execution": {
     "iopub.execute_input": "2021-09-14T18:42:25.900099Z",
     "iopub.status.busy": "2021-09-14T18:42:25.899769Z",
     "iopub.status.idle": "2021-09-14T18:42:25.920542Z",
     "shell.execute_reply": "2021-09-14T18:42:25.920254Z"
    },
    "papermill": {
     "duration": 0.038253,
     "end_time": "2021-09-14T18:42:25.920613",
     "exception": false,
     "start_time": "2021-09-14T18:42:25.882360",
     "status": "completed"
    },
    "tags": []
   },
   "outputs": [
    {
     "name": "stdout",
     "output_type": "stream",
     "text": [
      "Total memory: 15.78173828125\n",
      "Free memory: 15.7783203125\n",
      "Used memory: 0.00341796875\n"
     ]
    }
   ],
   "source": [
    "import nvidia_smi\n",
    "try:\n",
    "    nvidia_smi.nvmlInit()\n",
    "\n",
    "    handle = nvidia_smi.nvmlDeviceGetHandleByIndex(0)\n",
    "    # card id 0 hardcoded here, there is also a call to get all available card ids, so we could iterate\n",
    "\n",
    "    info = nvidia_smi.nvmlDeviceGetMemoryInfo(handle)\n",
    "\n",
    "    print(\"Total memory:\", (info.total/1024/1024/1024))\n",
    "    print(\"Free memory:\", (info.free/1024/1024/1024))\n",
    "    print(\"Used memory:\", (info.used/1024/1024/1024))\n",
    "\n",
    "    nvidia_smi.nvmlShutdown()\n",
    "except:\n",
    "    pass"
   ]
  },
  {
   "cell_type": "code",
   "execution_count": 6,
   "id": "40e57968",
   "metadata": {
    "execution": {
     "iopub.execute_input": "2021-09-14T18:42:25.951868Z",
     "iopub.status.busy": "2021-09-14T18:42:25.951542Z",
     "iopub.status.idle": "2021-09-14T18:42:44.502832Z",
     "shell.execute_reply": "2021-09-14T18:42:44.503116Z"
    },
    "papermill": {
     "duration": 18.56846,
     "end_time": "2021-09-14T18:42:44.503239",
     "exception": false,
     "start_time": "2021-09-14T18:42:25.934779",
     "status": "completed"
    },
    "tags": []
   },
   "outputs": [],
   "source": [
    "import numpy as np\n",
    "import pandas as pd\n",
    "import os\n",
    "from tqdm import tqdm\n",
    "from matplotlib import pyplot as plt\n",
    "\n",
    "from functools import partial\n",
    "from tqdm import tqdm\n",
    "from umap import UMAP\n",
    "tqdm = partial(tqdm, position=0, leave=True) "
   ]
  },
  {
   "cell_type": "code",
   "execution_count": 7,
   "id": "2b09b55f",
   "metadata": {
    "execution": {
     "iopub.execute_input": "2021-09-14T18:42:44.543603Z",
     "iopub.status.busy": "2021-09-14T18:42:44.543267Z",
     "iopub.status.idle": "2021-09-14T18:42:44.556310Z",
     "shell.execute_reply": "2021-09-14T18:42:44.556023Z"
    },
    "papermill": {
     "duration": 0.032638,
     "end_time": "2021-09-14T18:42:44.556390",
     "exception": false,
     "start_time": "2021-09-14T18:42:44.523752",
     "status": "completed"
    },
    "tags": []
   },
   "outputs": [],
   "source": [
    "df = pd.read_csv('../Data/ABIDE_df2.csv')\n",
    "df = df.iloc[~pd.isna(df['bids_folder']).values]\n",
    "#data_dir = '../Assets/fc_mats/'\n",
    "#data_dir = '../Assets/fc_mats_32smooth/'\n",
    "data_dir = '../Assets/fc_mats_32smooth_new/'"
   ]
  },
  {
   "cell_type": "code",
   "execution_count": 8,
   "id": "57af40b4",
   "metadata": {
    "execution": {
     "iopub.execute_input": "2021-09-14T18:42:44.588142Z",
     "iopub.status.busy": "2021-09-14T18:42:44.587815Z",
     "iopub.status.idle": "2021-09-14T18:42:44.593763Z",
     "shell.execute_reply": "2021-09-14T18:42:44.593484Z"
    },
    "papermill": {
     "duration": 0.022724,
     "end_time": "2021-09-14T18:42:44.593834",
     "exception": false,
     "start_time": "2021-09-14T18:42:44.571110",
     "status": "completed"
    },
    "tags": []
   },
   "outputs": [
    {
     "data": {
      "text/plain": [
       "['sub-CMUa0050642.npy',\n",
       " 'sub-CMUa0050646.npy',\n",
       " 'sub-CMUa0050647.npy',\n",
       " 'sub-CMUa0050649.npy',\n",
       " 'sub-CMUa0050653.npy']"
      ]
     },
     "execution_count": 8,
     "metadata": {},
     "output_type": "execute_result"
    }
   ],
   "source": [
    "files = [file for file in os.listdir(data_dir) if file.endswith('.npy')]\n",
    "files.sort()\n",
    "files[0:5]"
   ]
  },
  {
   "cell_type": "code",
   "execution_count": 9,
   "id": "00851126",
   "metadata": {
    "execution": {
     "iopub.execute_input": "2021-09-14T18:42:44.635352Z",
     "iopub.status.busy": "2021-09-14T18:42:44.635004Z",
     "iopub.status.idle": "2021-09-14T18:42:44.637188Z",
     "shell.execute_reply": "2021-09-14T18:42:44.637462Z"
    },
    "papermill": {
     "duration": 0.028819,
     "end_time": "2021-09-14T18:42:44.637566",
     "exception": false,
     "start_time": "2021-09-14T18:42:44.608747",
     "status": "completed"
    },
    "tags": []
   },
   "outputs": [
    {
     "name": "stdout",
     "output_type": "stream",
     "text": [
      "1048\n"
     ]
    }
   ],
   "source": [
    "subs_with_matFiles = [file.split('.')[0] for file in files]\n",
    "df = df.iloc[np.array([sub in subs_with_matFiles for sub in df['bids_folder'].values])]\n",
    "n_subs = len(df)\n",
    "print(n_subs)"
   ]
  },
  {
   "cell_type": "code",
   "execution_count": 10,
   "id": "e277df76",
   "metadata": {
    "execution": {
     "iopub.execute_input": "2021-09-14T18:42:44.670230Z",
     "iopub.status.busy": "2021-09-14T18:42:44.669905Z",
     "iopub.status.idle": "2021-09-14T18:42:45.155089Z",
     "shell.execute_reply": "2021-09-14T18:42:45.154806Z"
    },
    "papermill": {
     "duration": 0.502452,
     "end_time": "2021-09-14T18:42:45.155161",
     "exception": false,
     "start_time": "2021-09-14T18:42:44.652709",
     "status": "completed"
    },
    "tags": []
   },
   "outputs": [
    {
     "name": "stdout",
     "output_type": "stream",
     "text": [
      "1.0\n"
     ]
    }
   ],
   "source": [
    "# Check if subject has .nii file\n",
    "has_file = np.array([os.path.exists(os.path.join(data_dir,sub + '.npy')) for sub in df['bids_folder'].values])\n",
    "print(has_file.mean())\n",
    "assert has_file.mean()==1.0, 'fuck'"
   ]
  },
  {
   "cell_type": "code",
   "execution_count": 11,
   "id": "25b310cc",
   "metadata": {
    "execution": {
     "iopub.execute_input": "2021-09-14T18:42:45.189904Z",
     "iopub.status.busy": "2021-09-14T18:42:45.189576Z",
     "iopub.status.idle": "2021-09-14T18:42:45.194113Z",
     "shell.execute_reply": "2021-09-14T18:42:45.194371Z"
    },
    "papermill": {
     "duration": 0.022324,
     "end_time": "2021-09-14T18:42:45.194457",
     "exception": false,
     "start_time": "2021-09-14T18:42:45.172133",
     "status": "completed"
    },
    "tags": []
   },
   "outputs": [],
   "source": [
    "assert len(subs_with_matFiles)==len(df),'no'\n",
    "df = df.sort_values(by='bids_folder')\n",
    "assert all([subs_with_matFiles[i]==df['bids_folder'].values[i] for i in range(n_subs)]), 'out of order'"
   ]
  },
  {
   "cell_type": "code",
   "execution_count": 12,
   "id": "10785247",
   "metadata": {
    "execution": {
     "iopub.execute_input": "2021-09-14T18:42:45.227609Z",
     "iopub.status.busy": "2021-09-14T18:42:45.227278Z",
     "iopub.status.idle": "2021-09-14T18:42:45.228868Z",
     "shell.execute_reply": "2021-09-14T18:42:45.228597Z"
    },
    "papermill": {
     "duration": 0.018879,
     "end_time": "2021-09-14T18:42:45.228938",
     "exception": false,
     "start_time": "2021-09-14T18:42:45.210059",
     "status": "completed"
    },
    "tags": []
   },
   "outputs": [],
   "source": [
    "df.index = np.arange(n_subs)"
   ]
  },
  {
   "cell_type": "code",
   "execution_count": null,
   "id": "9e738ccd",
   "metadata": {
    "papermill": {
     "duration": 0.014761,
     "end_time": "2021-09-14T18:42:45.258959",
     "exception": false,
     "start_time": "2021-09-14T18:42:45.244198",
     "status": "completed"
    },
    "tags": []
   },
   "outputs": [],
   "source": []
  },
  {
   "cell_type": "code",
   "execution_count": 13,
   "id": "3b16b685",
   "metadata": {
    "execution": {
     "iopub.execute_input": "2021-09-14T18:42:45.290622Z",
     "iopub.status.busy": "2021-09-14T18:42:45.290294Z",
     "iopub.status.idle": "2021-09-14T18:42:45.291681Z",
     "shell.execute_reply": "2021-09-14T18:42:45.291940Z"
    },
    "papermill": {
     "duration": 0.018201,
     "end_time": "2021-09-14T18:42:45.292021",
     "exception": false,
     "start_time": "2021-09-14T18:42:45.273820",
     "status": "completed"
    },
    "tags": []
   },
   "outputs": [],
   "source": [
    "# %%time \n",
    "# # LOAD DATA\n",
    "# n_subs = len(df)\n",
    "# data_size = np.hstack((n_subs,np.load(os.path.join(data_dir,df['bids_folder'].values[0] + '.npz'))['data'].shape))\n",
    "# data = np.zeros(data_size)\n",
    "# #for s in tqdm(range(len(df))):\n",
    "# for s in range(n_subs):\n",
    "#     sub = df['bids_folder'].values[s]\n",
    "#     datum = np.load(os.path.join(data_dir,sub + '.npz'))['data']\n",
    "#     data[s,:,:,:,:] = datum"
   ]
  },
  {
   "cell_type": "code",
   "execution_count": 14,
   "id": "548d8f98",
   "metadata": {
    "execution": {
     "iopub.execute_input": "2021-09-14T18:42:45.324609Z",
     "iopub.status.busy": "2021-09-14T18:42:45.324282Z",
     "iopub.status.idle": "2021-09-14T18:42:45.325978Z",
     "shell.execute_reply": "2021-09-14T18:42:45.325704Z"
    },
    "papermill": {
     "duration": 0.01843,
     "end_time": "2021-09-14T18:42:45.326046",
     "exception": false,
     "start_time": "2021-09-14T18:42:45.307616",
     "status": "completed"
    },
    "tags": []
   },
   "outputs": [],
   "source": [
    "# hasnans = np.array([np.isnan(data[s,:,:,:,:]).sum()!=0 for s in range(data.shape[0])])\n",
    "# df = df.iloc[~hasnans]\n",
    "# data = data[~hasnans,:,:,:,:]"
   ]
  },
  {
   "cell_type": "code",
   "execution_count": 15,
   "id": "d6de4145",
   "metadata": {
    "execution": {
     "iopub.execute_input": "2021-09-14T18:42:45.358731Z",
     "iopub.status.busy": "2021-09-14T18:42:45.358407Z",
     "iopub.status.idle": "2021-09-14T18:42:45.359696Z",
     "shell.execute_reply": "2021-09-14T18:42:45.359952Z"
    },
    "papermill": {
     "duration": 0.018589,
     "end_time": "2021-09-14T18:42:45.360033",
     "exception": false,
     "start_time": "2021-09-14T18:42:45.341444",
     "status": "completed"
    },
    "tags": []
   },
   "outputs": [],
   "source": [
    "#data.shape"
   ]
  },
  {
   "cell_type": "code",
   "execution_count": 16,
   "id": "a2f4a626",
   "metadata": {
    "execution": {
     "iopub.execute_input": "2021-09-14T18:42:45.392619Z",
     "iopub.status.busy": "2021-09-14T18:42:45.392294Z",
     "iopub.status.idle": "2021-09-14T18:42:45.393472Z",
     "shell.execute_reply": "2021-09-14T18:42:45.393731Z"
    },
    "papermill": {
     "duration": 0.018434,
     "end_time": "2021-09-14T18:42:45.393813",
     "exception": false,
     "start_time": "2021-09-14T18:42:45.375379",
     "status": "completed"
    },
    "tags": []
   },
   "outputs": [],
   "source": [
    "#assert np.isnan(data).mean()==0.0, 'you f****d up'"
   ]
  },
  {
   "cell_type": "code",
   "execution_count": 17,
   "id": "767deb5f",
   "metadata": {
    "execution": {
     "iopub.execute_input": "2021-09-14T18:42:45.426942Z",
     "iopub.status.busy": "2021-09-14T18:42:45.426617Z",
     "iopub.status.idle": "2021-09-14T18:42:45.427959Z",
     "shell.execute_reply": "2021-09-14T18:42:45.428215Z"
    },
    "papermill": {
     "duration": 0.018716,
     "end_time": "2021-09-14T18:42:45.428302",
     "exception": false,
     "start_time": "2021-09-14T18:42:45.409586",
     "status": "completed"
    },
    "tags": []
   },
   "outputs": [],
   "source": [
    "# plt.figure(figsize=(20,4.9))\n",
    "# plt.subplot(1,4,1);plt.imshow(data[10,:,:,20,0]);plt.xticks([]);plt.yticks([]);\n",
    "# plt.subplot(1,4,2);plt.imshow(data[np.random.randint(0,data.shape[0]),:,:,20,0]);plt.xticks([]);plt.yticks([]);\n",
    "# plt.subplot(1,4,3);plt.imshow(data[np.random.randint(0,data.shape[0]),20,:,:,0]);plt.xticks([]);plt.yticks([]);\n",
    "# #plt.subplot(1,4,4);plt.imshow(data[np.random.randint(0,data.shape[0]),:,20,:,0]);plt.xticks([]);plt.yticks([]);\n",
    "# plt.subplot(1,4,4);plt.hist(data[0,:,:,:,:].flatten());"
   ]
  },
  {
   "cell_type": "code",
   "execution_count": 18,
   "id": "c3df34f9",
   "metadata": {
    "execution": {
     "iopub.execute_input": "2021-09-14T18:42:45.461857Z",
     "iopub.status.busy": "2021-09-14T18:42:45.461530Z",
     "iopub.status.idle": "2021-09-14T18:42:45.682673Z",
     "shell.execute_reply": "2021-09-14T18:42:45.682385Z"
    },
    "papermill": {
     "duration": 0.238963,
     "end_time": "2021-09-14T18:42:45.682750",
     "exception": false,
     "start_time": "2021-09-14T18:42:45.443787",
     "status": "completed"
    },
    "tags": []
   },
   "outputs": [
    {
     "name": "stdout",
     "output_type": "stream",
     "text": [
      "CPU times: user 52.2 ms, sys: 9.07 ms, total: 61.2 ms\n",
      "Wall time: 218 ms\n"
     ]
    },
    {
     "data": {
      "text/plain": [
       "<module 'tensorflow' from '/data/aglinska/anaconda3/lib/python3.8/site-packages/tensorflow/__init__.py'>"
      ]
     },
     "execution_count": 18,
     "metadata": {},
     "output_type": "execute_result"
    }
   ],
   "source": [
    "%%time\n",
    "from helper_funcs import *\n",
    "from importlib import reload\n",
    "import make_models\n",
    "reload(make_models)\n",
    "del make_models\n",
    "from make_models import *\n",
    "\n",
    "from IPython import display\n",
    "import sys\n",
    "from sklearn.decomposition import PCA\n",
    "import seaborn as sns\n",
    "\n",
    "import tensorflow as tf\n",
    "reload(tf)"
   ]
  },
  {
   "cell_type": "code",
   "execution_count": 19,
   "id": "91cde239",
   "metadata": {
    "execution": {
     "iopub.execute_input": "2021-09-14T18:42:47.764537Z",
     "iopub.status.busy": "2021-09-14T18:42:47.764137Z",
     "iopub.status.idle": "2021-09-14T18:42:47.765960Z",
     "shell.execute_reply": "2021-09-14T18:42:47.765662Z"
    },
    "papermill": {
     "duration": 2.066773,
     "end_time": "2021-09-14T18:42:47.766050",
     "exception": false,
     "start_time": "2021-09-14T18:42:45.699277",
     "status": "completed"
    },
    "tags": []
   },
   "outputs": [
    {
     "data": {
      "text/plain": [
       "'/device:GPU:0'"
      ]
     },
     "execution_count": 19,
     "metadata": {},
     "output_type": "execute_result"
    }
   ],
   "source": [
    "import tensorflow as tf\n",
    "tf.test.gpu_device_name()"
   ]
  },
  {
   "cell_type": "code",
   "execution_count": 20,
   "id": "d5538326",
   "metadata": {
    "execution": {
     "iopub.execute_input": "2021-09-14T18:42:47.808881Z",
     "iopub.status.busy": "2021-09-14T18:42:47.806655Z",
     "iopub.status.idle": "2021-09-14T18:42:47.810428Z",
     "shell.execute_reply": "2021-09-14T18:42:47.810145Z"
    },
    "papermill": {
     "duration": 0.027213,
     "end_time": "2021-09-14T18:42:47.810499",
     "exception": false,
     "start_time": "2021-09-14T18:42:47.783286",
     "status": "completed"
    },
    "tags": []
   },
   "outputs": [],
   "source": [
    "class cvae_data_loader():\n",
    "    ''' this is the info'''\n",
    "    def __init__(self,data_dir,df,batch_size=32):\n",
    "        #self.data = data\n",
    "        #self.n = data.shape[0]\n",
    "        self.n = len(df)\n",
    "        self.data_dir = data_dir\n",
    "        self.epoch = -1\n",
    "        self.batch_size = batch_size\n",
    "        self.df = df\n",
    "        \n",
    "        self.new_epoch()\n",
    "        self.n_batches = int(np.floor(min((len(self.asd_idxs),len(self.td_idxs)))/self.batch_size))\n",
    "        \n",
    "    def new_epoch(self):\n",
    "        self.df = self.df.iloc[np.random.permutation(np.arange(self.n))]\n",
    "        self.df.index = np.arange(self.n)\n",
    "        self.asd_idxs = np.nonzero((df['DX_GROUP'].values==1))[0]\n",
    "        self.td_idxs = np.nonzero((df['DX_GROUP'].values==2))[0]\n",
    "        self.epoch += 1\n",
    "        self.b = 0\n",
    "        \n",
    "        \n",
    "    def get_batch(self):\n",
    "        self.b += 1\n",
    "        \n",
    "        if self.b==self.n_batches:\n",
    "            self.new_epoch()\n",
    "        \n",
    "        \n",
    "        self.batch_asd_idx = self.asd_idxs[np.arange(self.b*self.batch_size,self.b*self.batch_size+self.batch_size)]\n",
    "        self.batch_td_idx = self.td_idxs[np.arange(self.b*self.batch_size,self.b*self.batch_size+self.batch_size)]\n",
    "        self.batch_asd = np.array([np.load(os.path.join(self.data_dir,val+'.npy')) for val in self.df['bids_folder'].values[self.batch_asd_idx]])\n",
    "        self.batch_td = np.array([np.load(os.path.join(self.data_dir,val+'.npy')) for val in self.df['bids_folder'].values[self.batch_td_idx]])\n",
    "        self.batch_df = self.df.iloc[np.hstack((self.batch_asd_idx,self.batch_td_idx)),:]\n",
    "        \n",
    "        self.batch_asd = self.batch_asd/2\n",
    "        self.batch_td = self.batch_td/2\n",
    "        \n",
    "    \n",
    "        return self.batch_asd,self.batch_td,self.batch_df"
   ]
  },
  {
   "cell_type": "code",
   "execution_count": 21,
   "id": "d7a84d11",
   "metadata": {
    "execution": {
     "iopub.execute_input": "2021-09-14T18:42:47.854537Z",
     "iopub.status.busy": "2021-09-14T18:42:47.854087Z",
     "iopub.status.idle": "2021-09-14T18:42:49.288488Z",
     "shell.execute_reply": "2021-09-14T18:42:49.288775Z"
    },
    "papermill": {
     "duration": 1.461965,
     "end_time": "2021-09-14T18:42:49.288913",
     "exception": false,
     "start_time": "2021-09-14T18:42:47.826948",
     "status": "completed"
    },
    "tags": []
   },
   "outputs": [],
   "source": [
    "data_dir = '../Assets/fc_mats_32smooth_new'\n",
    "data_loader = cvae_data_loader(data_dir=data_dir, df=df, batch_size=32)\n",
    "batch_asd,batch_td,batch_df = data_loader.get_batch()"
   ]
  },
  {
   "cell_type": "code",
   "execution_count": 22,
   "id": "4064ad4c",
   "metadata": {
    "execution": {
     "iopub.execute_input": "2021-09-14T18:42:49.324917Z",
     "iopub.status.busy": "2021-09-14T18:42:49.324592Z",
     "iopub.status.idle": "2021-09-14T18:42:49.325865Z",
     "shell.execute_reply": "2021-09-14T18:42:49.326122Z"
    },
    "papermill": {
     "duration": 0.020666,
     "end_time": "2021-09-14T18:42:49.326210",
     "exception": false,
     "start_time": "2021-09-14T18:42:49.305544",
     "status": "completed"
    },
    "tags": []
   },
   "outputs": [],
   "source": [
    "data_size = np.hstack((n_subs,batch_asd.shape[1:]))"
   ]
  },
  {
   "cell_type": "code",
   "execution_count": 23,
   "id": "28266fb6",
   "metadata": {
    "execution": {
     "iopub.execute_input": "2021-09-14T18:42:49.361892Z",
     "iopub.status.busy": "2021-09-14T18:42:49.361558Z",
     "iopub.status.idle": "2021-09-14T18:42:50.056934Z",
     "shell.execute_reply": "2021-09-14T18:42:50.056617Z"
    },
    "papermill": {
     "duration": 0.714489,
     "end_time": "2021-09-14T18:42:50.057030",
     "exception": false,
     "start_time": "2021-09-14T18:42:49.342541",
     "status": "completed"
    },
    "tags": []
   },
   "outputs": [],
   "source": [
    "import make_models\n",
    "reload(make_models)\n",
    "from make_models import *\n",
    "batch_size = 32\n",
    "cvae, z_encoder, s_encoder, cvae_decoder = get_MRI_CCVAE_3D(input_shape=tuple(data_size[1::]),\n",
    "                   latent_dim = 8, \n",
    "                   batch_size = batch_size, \n",
    "                   disentangle = True, \n",
    "                   gamma = 1,\n",
    "                   kernel_size = 3,\n",
    "                   filters = 8,\n",
    "                   intermediate_dim = 128,\n",
    "                   nlayers = 2,\n",
    "                   learning_rate=0.001)"
   ]
  },
  {
   "cell_type": "code",
   "execution_count": 24,
   "id": "8fbd47db",
   "metadata": {
    "execution": {
     "iopub.execute_input": "2021-09-14T18:42:50.095208Z",
     "iopub.status.busy": "2021-09-14T18:42:50.094880Z",
     "iopub.status.idle": "2021-09-14T18:42:50.096760Z",
     "shell.execute_reply": "2021-09-14T18:42:50.096461Z"
    },
    "papermill": {
     "duration": 0.020461,
     "end_time": "2021-09-14T18:42:50.096834",
     "exception": false,
     "start_time": "2021-09-14T18:42:50.076373",
     "status": "completed"
    },
    "tags": []
   },
   "outputs": [
    {
     "data": {
      "text/plain": [
       "(1048, 32, 32, 32, 51)"
      ]
     },
     "execution_count": 24,
     "metadata": {},
     "output_type": "execute_result"
    }
   ],
   "source": [
    "tuple(data_size)"
   ]
  },
  {
   "cell_type": "code",
   "execution_count": 25,
   "id": "3c073018",
   "metadata": {
    "execution": {
     "iopub.execute_input": "2021-09-14T18:42:50.133222Z",
     "iopub.status.busy": "2021-09-14T18:42:50.132898Z",
     "iopub.status.idle": "2021-09-14T18:42:50.134489Z",
     "shell.execute_reply": "2021-09-14T18:42:50.134210Z"
    },
    "papermill": {
     "duration": 0.020598,
     "end_time": "2021-09-14T18:42:50.134561",
     "exception": false,
     "start_time": "2021-09-14T18:42:50.113963",
     "status": "completed"
    },
    "tags": []
   },
   "outputs": [],
   "source": [
    "patients = df['DX_GROUP'].values==1\n",
    "controls = df['DX_GROUP'].values==2"
   ]
  },
  {
   "cell_type": "code",
   "execution_count": 26,
   "id": "26f417ff",
   "metadata": {
    "execution": {
     "iopub.execute_input": "2021-09-14T18:42:50.169791Z",
     "iopub.status.busy": "2021-09-14T18:42:50.169472Z",
     "iopub.status.idle": "2021-09-14T18:42:50.171008Z",
     "shell.execute_reply": "2021-09-14T18:42:50.170734Z"
    },
    "papermill": {
     "duration": 0.019856,
     "end_time": "2021-09-14T18:42:50.171078",
     "exception": false,
     "start_time": "2021-09-14T18:42:50.151222",
     "status": "completed"
    },
    "tags": []
   },
   "outputs": [],
   "source": [
    "loss = list()\n",
    "c_sim = list()\n",
    "all_rsas = list()"
   ]
  },
  {
   "cell_type": "code",
   "execution_count": null,
   "id": "af80d051",
   "metadata": {
    "papermill": {
     "duration": 0.016476,
     "end_time": "2021-09-14T18:42:50.205620",
     "exception": false,
     "start_time": "2021-09-14T18:42:50.189144",
     "status": "completed"
    },
    "tags": []
   },
   "outputs": [],
   "source": []
  },
  {
   "cell_type": "code",
   "execution_count": 27,
   "id": "85736d58",
   "metadata": {
    "execution": {
     "iopub.execute_input": "2021-09-14T18:42:50.241558Z",
     "iopub.status.busy": "2021-09-14T18:42:50.241228Z",
     "iopub.status.idle": "2021-09-14T18:42:50.243213Z",
     "shell.execute_reply": "2021-09-14T18:42:50.242937Z"
    },
    "papermill": {
     "duration": 0.020547,
     "end_time": "2021-09-14T18:42:50.243288",
     "exception": false,
     "start_time": "2021-09-14T18:42:50.222741",
     "status": "completed"
    },
    "tags": []
   },
   "outputs": [
    {
     "data": {
      "text/plain": [
       "'2.3.1'"
      ]
     },
     "execution_count": 27,
     "metadata": {},
     "output_type": "execute_result"
    }
   ],
   "source": [
    "tf.__version__"
   ]
  },
  {
   "cell_type": "code",
   "execution_count": 28,
   "id": "fca4383c",
   "metadata": {
    "execution": {
     "iopub.execute_input": "2021-09-14T18:42:50.279268Z",
     "iopub.status.busy": "2021-09-14T18:42:50.278939Z",
     "iopub.status.idle": "2021-09-14T18:42:50.280236Z",
     "shell.execute_reply": "2021-09-14T18:42:50.280499Z"
    },
    "papermill": {
     "duration": 0.020449,
     "end_time": "2021-09-14T18:42:50.280581",
     "exception": false,
     "start_time": "2021-09-14T18:42:50.260132",
     "status": "completed"
    },
    "tags": []
   },
   "outputs": [],
   "source": [
    "def fit_rsa(rdm_data,rdm_model):\n",
    "    return np.corrcoef(get_triu(rdm_data),get_triu(rdm_model))[0,1]"
   ]
  },
  {
   "cell_type": "code",
   "execution_count": 29,
   "id": "cbbb682c",
   "metadata": {
    "execution": {
     "iopub.execute_input": "2021-09-14T18:42:50.320957Z",
     "iopub.status.busy": "2021-09-14T18:42:50.320621Z",
     "iopub.status.idle": "2021-09-14T18:42:50.322152Z",
     "shell.execute_reply": "2021-09-14T18:42:50.321875Z"
    },
    "papermill": {
     "duration": 0.024905,
     "end_time": "2021-09-14T18:42:50.322221",
     "exception": false,
     "start_time": "2021-09-14T18:42:50.297316",
     "status": "completed"
    },
    "tags": []
   },
   "outputs": [],
   "source": [
    "def get_batch_rsas(z_encoder,s_encoder,df,n=400):\n",
    "    \n",
    "    #patient_batch,control_batch\n",
    "\n",
    "    asd_idx = np.nonzero(~np.isnan(batch_df['DX_GROUP'].values==1))\n",
    "\n",
    "    #z_embedding = z_encoder.predict(data[patients,:,:,:,:][asd_idx,:,:,:,:])[2]\n",
    "    #s_embedding = s_encoder.predict(data[patients,:,:,:,:][asd_idx,:,:,:,:])[2]\n",
    "    \n",
    "    z_embedding = z_encoder.predict(patient_batch)[2]\n",
    "    s_embedding = s_encoder.predict(patient_batch)[2]\n",
    "\n",
    "    rdm_age = make_RDM(batch_df['AGE_AT_SCAN'].values[patients][asd_idx])\n",
    "    rdm_sex = make_RDM(batch_df['SEX'].values[patients][asd_idx],data_scale='ordinal')\n",
    "    rdm_fiq = make_RDM(batch_df['FIQ'].values[patients][asd_idx])\n",
    "    rdm_dsm = make_RDM(batch_df['DSM_IV_TR'].values[patients][asd_idx],data_scale='ordinal')\n",
    "    rdm_site = make_RDM(batch_df['site'].values[patients][asd_idx],data_scale='ordinal')\n",
    "    #rdm_adosTotal = make_RDM(batch_df['ADOS_TOTAL'].values[patients][asd_idx])\n",
    "\n",
    "    rdm_z = make_RDM(z_embedding)\n",
    "    rdm_s = make_RDM(s_embedding)\n",
    "\n",
    "    batch_rsas = list()\n",
    "\n",
    "    batch_rsas.append(fit_rsa(rdm_s,rdm_age))\n",
    "    batch_rsas.append(fit_rsa(rdm_s,rdm_sex))\n",
    "    batch_rsas.append(fit_rsa(rdm_s,rdm_fiq))\n",
    "    batch_rsas.append(fit_rsa(rdm_s,rdm_dsm))\n",
    "    batch_rsas.append(fit_rsa(rdm_s,rdm_site))\n",
    "    #batch_rsas.append(fit_rsa(rdm_s,rdm_adosTotal))\n",
    "\n",
    "    batch_rsas.append(fit_rsa(rdm_z,rdm_age))\n",
    "    batch_rsas.append(fit_rsa(rdm_z,rdm_sex))\n",
    "    batch_rsas.append(fit_rsa(rdm_z,rdm_fiq))\n",
    "    batch_rsas.append(fit_rsa(rdm_z,rdm_dsm))\n",
    "    batch_rsas.append(fit_rsa(rdm_z,rdm_site))\n",
    "    #batch_rsas.append(fit_rsa(rdm_z,rdm_adosTotal))\n",
    "    \n",
    "    return batch_rsas"
   ]
  },
  {
   "cell_type": "code",
   "execution_count": 30,
   "id": "41be641d",
   "metadata": {
    "execution": {
     "iopub.execute_input": "2021-09-14T18:42:50.382433Z",
     "iopub.status.busy": "2021-09-14T18:42:50.357542Z",
     "iopub.status.idle": "2021-09-14T18:42:50.383855Z",
     "shell.execute_reply": "2021-09-14T18:42:50.383579Z"
    },
    "papermill": {
     "duration": 0.044682,
     "end_time": "2021-09-14T18:42:50.383925",
     "exception": false,
     "start_time": "2021-09-14T18:42:50.339243",
     "status": "completed"
    },
    "tags": []
   },
   "outputs": [],
   "source": [
    "def cvae_dashboard(i,cvae,z_encoder,s_encoder,loss,all_rsas,c_sim,df,patient_batch,control_batch,red='UMAP'):\n",
    "    \n",
    "\n",
    "    if red=='PCA':\n",
    "        reducer = PCA\n",
    "    elif red=='UMAP':\n",
    "        reducer = UMAP\n",
    "    else:\n",
    "        reducer = UMAP\n",
    "        \n",
    "    #prediction = cvae.predict(patient_batch)    \n",
    "    predictions = cvae.predict([patient_batch,control_batch])\n",
    "    #predictions = np.concatenate((predictions[0],predictions[1]),axis=0)\n",
    "    prediction = predictions[0]\n",
    "    \n",
    "    if np.mod(i,1)==0:        \n",
    "        pc_s = reducer(n_components=2).fit_transform(s_encoder.predict(np.concatenate((patient_batch,control_batch),axis=0))[2])\n",
    "        pc_z = reducer(n_components=2).fit_transform(z_encoder.predict(np.concatenate((patient_batch,control_batch),axis=0))[2])\n",
    "        \n",
    "        global pc_s_asd, pc_s_td, pc_z_asd, pc_z_td\n",
    "\n",
    "        pc_s_asd = pc_s[0:patient_batch.shape[0],:]\n",
    "        pc_s_td = pc_s[patient_batch.shape[0]::,:]\n",
    "\n",
    "        pc_z_asd = pc_z[0:patient_batch.shape[0],:]\n",
    "        pc_z_td = pc_z[patient_batch.shape[0]::,:]\n",
    "        \n",
    "        #all_rsas.append(get_batch_rsas(z_encoder,s_encoder,df,n=50))\n",
    "        \n",
    "    cmat_actual = np.corrcoef(np.vstack((patient_batch.reshape(patient_batch.shape[0],-1),control_batch.reshape(control_batch.shape[0],-1))))\n",
    "    cmat_pred = np.corrcoef(np.vstack((predictions[0].reshape(predictions[0].shape[0],-1),predictions[1].reshape(predictions[1].shape[0],-1))))\n",
    "    c_sim.append(np.corrcoef(get_triu(cmat_pred),get_triu(cmat_actual))[0,1])\n",
    "\n",
    "    \n",
    "    ### PROGRESS PLOTTING\n",
    "    display.clear_output(wait=True);\n",
    "    display.display(plt.gcf());\n",
    "    #Organise figure\n",
    "    ncols = 4;nrows=5\n",
    "    if np.mod(i,5)==0:\n",
    "        plt.close()\n",
    "    plt.subplots(nrows,ncols,figsize=(15,15)); # MAKE THE FIGURE\n",
    "    \n",
    "    \n",
    "    ##### SUBPLOT 1 & 2 ##### \n",
    "\n",
    "    plt.subplot(nrows,ncols/2,1) # PLOT LOSS\n",
    "    xs = np.arange(len(loss))+1\n",
    "    m,b = np.polyfit(xs,loss,deg=1)\n",
    "    plt.plot(loss)\n",
    "    plt.plot(xs, m*xs + b)\n",
    "    plt.title(f'Loss {hist:.2f}, beta: {m:.4f}')\n",
    "    \n",
    "    ##### SUBPLOT 3 ##### \n",
    "    plt.subplot(nrows,ncols,3) # PLOT LOSS LAST 50\n",
    "    hb = 50\n",
    "    if len(loss)>hb:\n",
    "        plot_loss = loss[-hb::]\n",
    "        xs = np.arange(len(plot_loss))\n",
    "        m,b = np.polyfit(xs,plot_loss,deg=1)\n",
    "        plt.plot(plot_loss)\n",
    "        plt.plot(xs, m*xs + b)\n",
    "        #plt.title(hist)\n",
    "        plt.title(f'Loss last {hb} it, beta {m:.4f}')\n",
    "        \n",
    "    ##### SUBPLOT 4 ##### \n",
    "    plt.subplot(nrows,ncols,4)\n",
    "    plt.hist(prediction[0,:,:,:,0].flatten(),alpha=.5)\n",
    "    plt.hist(patient_batch[0,:,:,:,0].flatten(),alpha=.5)\n",
    "    plt.legend(['predicted','actual'])\n",
    "    plt.title('in/out histograms')\n",
    "    \n",
    "    ##### SUBPLOT 5 ##### \n",
    "    plt.subplot(nrows,ncols,5) #RSA over time\n",
    "    plt.plot(c_sim)\n",
    "    plt.title(f'in/out RSA: {c_sim[-1].round(2)}')\n",
    "    \n",
    "    if len(c_sim)>5: # PLOT LS LINE\n",
    "        xs = np.arange(len(c_sim))+1\n",
    "        m,b = np.polyfit(xs,c_sim,deg=1)\n",
    "        plt.plot(xs, m*xs + b)\n",
    "        plt.title(f'in/out RSA: {c_sim[-1].round(2)}, b={m:.4f}')\n",
    "        \n",
    "\n",
    "    ##### SUBPLOT 6 ##### \n",
    "    plt.subplot(nrows,ncols,6)\n",
    "    if len(c_sim)>hb:\n",
    "        #plot_loss = loss[-hb::]\n",
    "        xs = np.arange(len(c_sim[-hb::]))\n",
    "        m,b = np.polyfit(xs,c_sim[-hb::],deg=1)\n",
    "        plt.plot(c_sim[-hb::])\n",
    "        plt.plot(xs, m*xs + b)\n",
    "        #plt.title(hist)\n",
    "        plt.title(f'in/outRSA last {hb} it, b={m:.4f}')\n",
    "\n",
    "    ##### SUBPLOT 7 ##### \n",
    "    plt.subplot(nrows,ncols,7)\n",
    "    if len(all_rsas)>5:\n",
    "        ys = np.array(all_rsas)[:,np.array((2))]\n",
    "        plt.plot(ys,'-');\n",
    "        plt.legend(['FIQ'],loc=2)\n",
    "\n",
    "        xs = np.arange(len(ys))+1\n",
    "        m,b = np.polyfit(xs,ys,deg=1)\n",
    "        plt.plot(xs, m*xs + b)\n",
    "        plt.title(f'S RSA: {ys[-1]:2f},b={m:.4f}')\n",
    "    \n",
    "    ##### SUBPLOT 8 ##### \n",
    "    plt.subplot(nrows,ncols,8)\n",
    "    if len(all_rsas)>5:\n",
    "        ys = np.array(all_rsas)[:,np.array((5))]\n",
    "        plt.plot(ys,'-');\n",
    "        plt.legend(['Age'],loc=2)\n",
    "        xs = np.arange(len(ys))+1\n",
    "        m,b = np.polyfit(xs,ys,deg=1)\n",
    "        plt.plot(xs, m*xs + b)\n",
    "        plt.title(f'Z RSA: {ys[-1]:2f},b={m:.4f}')\n",
    "        \n",
    "    ##### SUBPLOT 9 ##### \n",
    "    plt.subplot(nrows,ncols,9)\n",
    "    plt.scatter(pc_s_asd[:,0],pc_s_asd[:,1],s=100,alpha=.5);plt.title(f'batch latent S rep. {red}')\n",
    "    plt.scatter(pc_s_td[:,0],pc_s_td[:,1],s=100,alpha=.5);plt.title(f'batch latent S rep. {red}')\n",
    "    plt.legend(['ASD','TD'])\n",
    "    \n",
    "    ##### SUBPLOT 10 ##### \n",
    "    plt.subplot(nrows,ncols,10)\n",
    "    plt.scatter(pc_z_asd[:,0],pc_z_asd[:,1],s=100,alpha=.5);plt.title(f'batch latent Z rep. {red}')\n",
    "    plt.scatter(pc_z_td[:,0],pc_z_td[:,1],s=100,alpha=.5);plt.title(f'batch latent Z rep. {red}')\n",
    "    plt.legend(['ASD','TD'])\n",
    "    \n",
    "    ##### SUBPLOT 11 ##### \n",
    "    plt.subplot(nrows,ncols,11)\n",
    "    sns.heatmap(cmat_actual,xticklabels=[],yticklabels=[])\n",
    "    plt.title('input RSA')\n",
    "        \n",
    "    ##### SUBPLOT 12 ##### \n",
    "    plt.subplot(nrows,ncols,12)\n",
    "    sns.heatmap(cmat_pred,xticklabels=[],yticklabels=[])\n",
    "    plt.title('output RSA')\n",
    "  \n",
    "    ##### SUBPLOT 13 #####     \n",
    "    plt.subplot(nrows,ncols,13)\n",
    "    plt.imshow(np.rot90(patient_batch[0,:,16,:,0]))\n",
    "    plt.xticks([]);plt.yticks([]);plt.title('actual')\n",
    "\n",
    "    ##### SUBPLOT 14 #####     \n",
    "    plt.subplot(nrows,ncols,14)\n",
    "    plt.imshow(np.rot90(prediction[0,:,16,:,0]))\n",
    "    plt.xticks([]);plt.yticks([]);plt.title('predicted')\n",
    "    ##### SUBPLOT 15 #####     \n",
    "    plt.subplot(nrows,ncols,15)\n",
    "    plt.imshow(np.rot90(patient_batch[0,16,:,:,0]))\n",
    "    plt.xticks([]);plt.yticks([]);plt.title('actual')\n",
    "    ##### SUBPLOT 16 #####                                             \n",
    "    plt.subplot(nrows,ncols,16)\n",
    "    plt.imshow(np.rot90(prediction[0,16,:,:,0]))\n",
    "    plt.xticks([]);plt.yticks([]);plt.title('predicted')\n",
    "    ##### SUBPLOT 17 #####     \n",
    "    plt.subplot(nrows,ncols,17)\n",
    "    plt.imshow(np.rot90(patient_batch[0,6,:,:,0]))\n",
    "    plt.xticks([]);plt.yticks([]);plt.title('actual')\n",
    "    ##### SUBPLOT 18 #####                                             \n",
    "    plt.subplot(nrows,ncols,18)\n",
    "    plt.imshow(np.rot90(prediction[0,6,:,:,0]))\n",
    "    plt.xticks([]);plt.yticks([]);plt.title('predicted')\n",
    "    ##### SUBPLOT 19 #####     \n",
    "    plt.subplot(nrows,ncols,19)\n",
    "    plt.imshow(patient_batch[0,:,:,16,0])\n",
    "    plt.xticks([]);plt.yticks([]);plt.title('actual')\n",
    "    ##### SUBPLOT 20 #####     \n",
    "    plt.subplot(nrows,ncols,20)\n",
    "    plt.imshow(prediction[0,:,:,16,0])\n",
    "    plt.xticks([]);plt.yticks([]);plt.title('predicted')\n",
    "    \n",
    "    plt.tight_layout()\n",
    "    plt.show()\n",
    "    #sys.stdout.flush()\n",
    "    \n",
    "    return c_sim,all_rsas"
   ]
  },
  {
   "cell_type": "code",
   "execution_count": 31,
   "id": "1e1d4e83",
   "metadata": {
    "execution": {
     "iopub.execute_input": "2021-09-14T18:42:50.420700Z",
     "iopub.status.busy": "2021-09-14T18:42:50.420379Z",
     "iopub.status.idle": "2021-09-14T18:42:50.422765Z",
     "shell.execute_reply": "2021-09-14T18:42:50.422494Z"
    },
    "papermill": {
     "duration": 0.022012,
     "end_time": "2021-09-14T18:42:50.422834",
     "exception": false,
     "start_time": "2021-09-14T18:42:50.400822",
     "status": "completed"
    },
    "tags": []
   },
   "outputs": [],
   "source": [
    "data_loader = cvae_data_loader(data_dir=data_dir, df=df, batch_size=32)"
   ]
  },
  {
   "cell_type": "code",
   "execution_count": 32,
   "id": "83eb8e0b",
   "metadata": {
    "execution": {
     "iopub.execute_input": "2021-09-14T18:42:50.460514Z",
     "iopub.status.busy": "2021-09-14T18:42:50.460168Z"
    },
    "papermill": {
     "duration": null,
     "end_time": null,
     "exception": false,
     "start_time": "2021-09-14T18:42:50.439842",
     "status": "running"
    },
    "tags": []
   },
   "outputs": [
    {
     "data": {
      "text/plain": [
       "<Figure size 432x288 with 0 Axes>"
      ]
     },
     "metadata": {},
     "output_type": "display_data"
    },
    {
     "name": "stderr",
     "output_type": "stream",
     "text": [
      "<ipython-input-30-6101d3b1b3b9>:47: MatplotlibDeprecationWarning: Passing non-integers as three-element position specification is deprecated since 3.3 and will be removed two minor releases later.\n",
      "  plt.subplot(nrows,ncols/2,1) # PLOT LOSS\n"
     ]
    },
    {
     "data": {
      "text/plain": [
       "<Figure size 432x288 with 0 Axes>"
      ]
     },
     "metadata": {},
     "output_type": "display_data"
    },
    {
     "data": {
      "image/png": "[encoded data removed]",
      "text/plain": [
       "<Figure size 1080x1080 with 21 Axes>"
      ]
     },
     "metadata": {
      "needs_background": "light"
     },
     "output_type": "display_data"
    },
    {
     "name": "stderr",
     "output_type": "stream",
     "text": [
      "\r",
      " 42%|████▏     | 4215/10000 [14:13:12<18:56:50, 11.79s/it]"
     ]
    }
   ],
   "source": [
    "for epoch in range(5):\n",
    "    for i in tqdm(range(10000),position=0, leave=True):\n",
    "        #patient_batch = data[patients,:,:,:,:][np.random.randint(low=0,high=patients.sum(),size=batch_size),:,:,:,:]\n",
    "        #control_batch = data[controls,:,:,:,:][np.random.randint(low=0,high=controls.sum(),size=batch_size),:,:,:,:]\n",
    "        patient_batch,control_batch,batch_df = data_loader.get_batch()\n",
    "        hist = cvae.train_on_batch([patient_batch,control_batch])\n",
    "        assert not np.isnan(hist),'loss is NaN - you f**cked up'    \n",
    "        loss.append(hist)\n",
    "        \n",
    "        c_sim,all_rsas = cvae_dashboard(i,cvae,z_encoder,s_encoder,loss,all_rsas,c_sim,df,patient_batch,control_batch,red='UMAP')"
   ]
  },
  {
   "cell_type": "code",
   "execution_count": null,
   "id": "9b958e2c",
   "metadata": {
    "papermill": {
     "duration": null,
     "end_time": null,
     "exception": null,
     "start_time": null,
     "status": "pending"
    },
    "tags": []
   },
   "outputs": [],
   "source": []
  },
  {
   "cell_type": "code",
   "execution_count": null,
   "id": "fab4b8b4",
   "metadata": {
    "papermill": {
     "duration": null,
     "end_time": null,
     "exception": null,
     "start_time": null,
     "status": "pending"
    },
    "tags": []
   },
   "outputs": [],
   "source": []
  },
  {
   "cell_type": "code",
   "execution_count": null,
   "id": "380c4734",
   "metadata": {
    "papermill": {
     "duration": null,
     "end_time": null,
     "exception": null,
     "start_time": null,
     "status": "pending"
    },
    "tags": []
   },
   "outputs": [],
   "source": []
  },
  {
   "cell_type": "code",
   "execution_count": null,
   "id": "793b7e8e",
   "metadata": {
    "papermill": {
     "duration": null,
     "end_time": null,
     "exception": null,
     "start_time": null,
     "status": "pending"
    },
    "tags": []
   },
   "outputs": [],
   "source": []
  },
  {
   "cell_type": "code",
   "execution_count": null,
   "id": "116ed50e",
   "metadata": {
    "papermill": {
     "duration": null,
     "end_time": null,
     "exception": null,
     "start_time": null,
     "status": "pending"
    },
    "tags": []
   },
   "outputs": [],
   "source": []
  },
  {
   "cell_type": "code",
   "execution_count": null,
   "id": "d4c55a69",
   "metadata": {
    "papermill": {
     "duration": null,
     "end_time": null,
     "exception": null,
     "start_time": null,
     "status": "pending"
    },
    "tags": []
   },
   "outputs": [],
   "source": []
  },
  {
   "cell_type": "code",
   "execution_count": null,
   "id": "05cbc98c",
   "metadata": {
    "papermill": {
     "duration": null,
     "end_time": null,
     "exception": null,
     "start_time": null,
     "status": "pending"
    },
    "tags": []
   },
   "outputs": [],
   "source": []
  }
 ],
 "metadata": {
  "kernelspec": {
   "display_name": "Python 3",
   "language": "python",
   "name": "python3"
  },
  "language_info": {
   "codemirror_mode": {
    "name": "ipython",
    "version": 3
   },
   "file_extension": ".py",
   "mimetype": "text/x-python",
   "name": "python",
   "nbconvert_exporter": "python",
   "pygments_lexer": "ipython3",
   "version": "3.8.5"
  },
  "papermill": {
   "default_parameters": {},
   "duration": null,
   "end_time": null,
   "environment_variables": {},
   "exception": null,
   "input_path": "01-train-CVAE.ipynb",
   "output_path": "./papermill/papermill|01-train-CVAE|2021-09-14-14-42-20.ipynb",
   "parameters": {},
   "start_time": "2021-09-14T18:42:23.309603",
   "version": "2.3.3"
  }
 },
 "nbformat": 4,
 "nbformat_minor": 5
}