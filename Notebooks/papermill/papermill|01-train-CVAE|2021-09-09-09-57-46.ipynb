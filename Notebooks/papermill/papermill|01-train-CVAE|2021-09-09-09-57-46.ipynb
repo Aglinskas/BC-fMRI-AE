{
 "cells": [
  {
   "cell_type": "code",
   "execution_count": 1,
   "id": "a66ad84b",
   "metadata": {
    "execution": {
     "iopub.execute_input": "2021-09-09T13:57:51.251316Z",
     "iopub.status.busy": "2021-09-09T13:57:51.250940Z",
     "iopub.status.idle": "2021-09-09T13:57:51.252749Z",
     "shell.execute_reply": "2021-09-09T13:57:51.253022Z"
    },
    "papermill": {
     "duration": 0.025323,
     "end_time": "2021-09-09T13:57:51.253210",
     "exception": false,
     "start_time": "2021-09-09T13:57:51.227887",
     "status": "completed"
    },
    "tags": []
   },
   "outputs": [
    {
     "data": {
      "text/plain": [
       "'/mmfs1/data/aglinska/BC-fMRI-AE/Notebooks'"
      ]
     },
     "execution_count": 1,
     "metadata": {},
     "output_type": "execute_result"
    }
   ],
   "source": [
    "pwd"
   ]
  },
  {
   "cell_type": "markdown",
   "id": "21b3d445",
   "metadata": {
    "papermill": {
     "duration": 0.010221,
     "end_time": "2021-09-09T13:57:51.274330",
     "exception": false,
     "start_time": "2021-09-09T13:57:51.264109",
     "status": "completed"
    },
    "tags": []
   },
   "source": [
    "# test play"
   ]
  },
  {
   "cell_type": "code",
   "execution_count": 2,
   "id": "fd72b1ab",
   "metadata": {
    "execution": {
     "iopub.execute_input": "2021-09-09T13:57:51.298393Z",
     "iopub.status.busy": "2021-09-09T13:57:51.298048Z",
     "iopub.status.idle": "2021-09-09T13:57:51.299935Z",
     "shell.execute_reply": "2021-09-09T13:57:51.299648Z"
    },
    "papermill": {
     "duration": 0.015572,
     "end_time": "2021-09-09T13:57:51.300017",
     "exception": false,
     "start_time": "2021-09-09T13:57:51.284445",
     "status": "completed"
    },
    "tags": []
   },
   "outputs": [
    {
     "name": "stdout",
     "output_type": "stream",
     "text": [
      "Interactive namespace is empty.\n"
     ]
    }
   ],
   "source": [
    "whos"
   ]
  },
  {
   "cell_type": "code",
   "execution_count": 3,
   "id": "44803d14",
   "metadata": {
    "execution": {
     "iopub.execute_input": "2021-09-09T13:57:51.325340Z",
     "iopub.status.busy": "2021-09-09T13:57:51.324997Z",
     "iopub.status.idle": "2021-09-09T13:57:51.453029Z",
     "shell.execute_reply": "2021-09-09T13:57:51.453319Z"
    },
    "papermill": {
     "duration": 0.142854,
     "end_time": "2021-09-09T13:57:51.453441",
     "exception": false,
     "start_time": "2021-09-09T13:57:51.310587",
     "status": "completed"
    },
    "tags": []
   },
   "outputs": [
    {
     "name": "stdout",
     "output_type": "stream",
     "text": [
      "              total        used        free      shared  buff/cache   available\r\n",
      "Mem:            187          10         170           4           7         171\r\n",
      "Swap:            11           0          11\r\n"
     ]
    }
   ],
   "source": [
    "!free -g"
   ]
  },
  {
   "cell_type": "code",
   "execution_count": 4,
   "id": "2460e899",
   "metadata": {
    "execution": {
     "iopub.execute_input": "2021-09-09T13:57:51.481001Z",
     "iopub.status.busy": "2021-09-09T13:57:51.480669Z",
     "iopub.status.idle": "2021-09-09T13:57:51.501970Z",
     "shell.execute_reply": "2021-09-09T13:57:51.502235Z"
    },
    "papermill": {
     "duration": 0.036004,
     "end_time": "2021-09-09T13:57:51.502334",
     "exception": false,
     "start_time": "2021-09-09T13:57:51.466330",
     "status": "completed"
    },
    "tags": []
   },
   "outputs": [
    {
     "name": "stdout",
     "output_type": "stream",
     "text": [
      "Total memory: 15.78173828125\n",
      "Free memory: 15.0234375\n",
      "Used memory: 0.75830078125\n"
     ]
    }
   ],
   "source": [
    "import nvidia_smi\n",
    "\n",
    "nvidia_smi.nvmlInit()\n",
    "\n",
    "handle = nvidia_smi.nvmlDeviceGetHandleByIndex(0)\n",
    "# card id 0 hardcoded here, there is also a call to get all available card ids, so we could iterate\n",
    "\n",
    "info = nvidia_smi.nvmlDeviceGetMemoryInfo(handle)\n",
    "\n",
    "print(\"Total memory:\", (info.total/1024/1024/1024))\n",
    "print(\"Free memory:\", (info.free/1024/1024/1024))\n",
    "print(\"Used memory:\", (info.used/1024/1024/1024))\n",
    "\n",
    "nvidia_smi.nvmlShutdown()"
   ]
  },
  {
   "cell_type": "code",
   "execution_count": 5,
   "id": "a96ca377",
   "metadata": {
    "execution": {
     "iopub.execute_input": "2021-09-09T13:57:51.526802Z",
     "iopub.status.busy": "2021-09-09T13:57:51.526476Z",
     "iopub.status.idle": "2021-09-09T13:57:53.211361Z",
     "shell.execute_reply": "2021-09-09T13:57:53.211030Z"
    },
    "papermill": {
     "duration": 1.698344,
     "end_time": "2021-09-09T13:57:53.211456",
     "exception": false,
     "start_time": "2021-09-09T13:57:51.513112",
     "status": "completed"
    },
    "tags": []
   },
   "outputs": [],
   "source": [
    "import numpy as np\n",
    "import pandas as pd\n",
    "import os\n",
    "from tqdm import tqdm\n",
    "from matplotlib import pyplot as plt\n",
    "\n",
    "from functools import partial\n",
    "from tqdm import tqdm\n",
    "tqdm = partial(tqdm, position=0, leave=True) "
   ]
  },
  {
   "cell_type": "code",
   "execution_count": 6,
   "id": "e8dcf861",
   "metadata": {
    "execution": {
     "iopub.execute_input": "2021-09-09T13:57:53.241146Z",
     "iopub.status.busy": "2021-09-09T13:57:53.240806Z",
     "iopub.status.idle": "2021-09-09T13:57:53.254276Z",
     "shell.execute_reply": "2021-09-09T13:57:53.253990Z"
    },
    "papermill": {
     "duration": 0.029617,
     "end_time": "2021-09-09T13:57:53.254358",
     "exception": false,
     "start_time": "2021-09-09T13:57:53.224741",
     "status": "completed"
    },
    "tags": []
   },
   "outputs": [],
   "source": [
    "df = pd.read_csv('../Data/ABIDE_df2.csv')\n",
    "df = df.iloc[~pd.isna(df['bids_folder']).values]\n",
    "#data_dir = '../Assets/fc_mats/'\n",
    "data_dir = '../Assets/fc_mats_32smooth/'"
   ]
  },
  {
   "cell_type": "code",
   "execution_count": 7,
   "id": "7a6b22bb",
   "metadata": {
    "execution": {
     "iopub.execute_input": "2021-09-09T13:57:53.278504Z",
     "iopub.status.busy": "2021-09-09T13:57:53.278182Z",
     "iopub.status.idle": "2021-09-09T13:57:53.282639Z",
     "shell.execute_reply": "2021-09-09T13:57:53.282900Z"
    },
    "papermill": {
     "duration": 0.01783,
     "end_time": "2021-09-09T13:57:53.282986",
     "exception": false,
     "start_time": "2021-09-09T13:57:53.265156",
     "status": "completed"
    },
    "tags": []
   },
   "outputs": [],
   "source": [
    "files = [file for file in os.listdir(data_dir) if file.endswith('.npz')]\n",
    "files.sort()"
   ]
  },
  {
   "cell_type": "code",
   "execution_count": 8,
   "id": "382e206d",
   "metadata": {
    "execution": {
     "iopub.execute_input": "2021-09-09T13:57:53.307725Z",
     "iopub.status.busy": "2021-09-09T13:57:53.307397Z",
     "iopub.status.idle": "2021-09-09T13:57:53.827772Z",
     "shell.execute_reply": "2021-09-09T13:57:53.828044Z"
    },
    "papermill": {
     "duration": 0.534189,
     "end_time": "2021-09-09T13:57:53.828166",
     "exception": false,
     "start_time": "2021-09-09T13:57:53.293977",
     "status": "completed"
    },
    "tags": []
   },
   "outputs": [
    {
     "name": "stdout",
     "output_type": "stream",
     "text": [
      "1.0\n"
     ]
    }
   ],
   "source": [
    "# Check if subject has .nii file\n",
    "has_file = np.array([os.path.exists(os.path.join(data_dir,sub + '.npz')) for sub in df['bids_folder'].values])\n",
    "print(has_file.mean())\n",
    "assert has_file.mean()==1.0, 'fuck'"
   ]
  },
  {
   "cell_type": "code",
   "execution_count": 9,
   "id": "0e5deb0f",
   "metadata": {
    "execution": {
     "iopub.execute_input": "2021-09-09T13:57:53.857284Z",
     "iopub.status.busy": "2021-09-09T13:57:53.856935Z",
     "iopub.status.idle": "2021-09-09T13:58:46.483353Z",
     "shell.execute_reply": "2021-09-09T13:58:46.483013Z"
    },
    "papermill": {
     "duration": 52.643604,
     "end_time": "2021-09-09T13:58:46.483454",
     "exception": false,
     "start_time": "2021-09-09T13:57:53.839850",
     "status": "completed"
    },
    "tags": []
   },
   "outputs": [
    {
     "name": "stdout",
     "output_type": "stream",
     "text": [
      "CPU times: user 1e+03 ns, sys: 2 µs, total: 3 µs\n",
      "Wall time: 5.01 µs\n"
     ]
    }
   ],
   "source": [
    "%time\n",
    "# LOAD DATA\n",
    "n_subs = len(df)\n",
    "#n_subs = 200\n",
    "data_size = np.hstack((n_subs,np.load(os.path.join(data_dir,df['bids_folder'].values[0] + '.npz'))['data'].shape))\n",
    "data = np.zeros(data_size)\n",
    "#for s in tqdm(range(len(df))):\n",
    "for s in range(n_subs):\n",
    "    sub = df['bids_folder'].values[s]\n",
    "    datum = np.load(os.path.join(data_dir,sub + '.npz'))['data']\n",
    "    data[s,:,:,:,:] = datum"
   ]
  },
  {
   "cell_type": "code",
   "execution_count": 10,
   "id": "606a67ae",
   "metadata": {
    "execution": {
     "iopub.execute_input": "2021-09-09T13:58:46.511791Z",
     "iopub.status.busy": "2021-09-09T13:58:46.511455Z",
     "iopub.status.idle": "2021-09-09T13:58:46.512730Z",
     "shell.execute_reply": "2021-09-09T13:58:46.512994Z"
    },
    "papermill": {
     "duration": 0.015989,
     "end_time": "2021-09-09T13:58:46.513096",
     "exception": false,
     "start_time": "2021-09-09T13:58:46.497107",
     "status": "completed"
    },
    "tags": []
   },
   "outputs": [],
   "source": [
    "df = df.iloc[0:n_subs]"
   ]
  },
  {
   "cell_type": "code",
   "execution_count": 11,
   "id": "7f664a8a",
   "metadata": {
    "execution": {
     "iopub.execute_input": "2021-09-09T13:58:46.538742Z",
     "iopub.status.busy": "2021-09-09T13:58:46.538418Z",
     "iopub.status.idle": "2021-09-09T13:58:52.960188Z",
     "shell.execute_reply": "2021-09-09T13:58:52.960478Z"
    },
    "papermill": {
     "duration": 6.436042,
     "end_time": "2021-09-09T13:58:52.960608",
     "exception": false,
     "start_time": "2021-09-09T13:58:46.524566",
     "status": "completed"
    },
    "tags": []
   },
   "outputs": [],
   "source": [
    "hasnans = np.array([np.isnan(data[s,:,:,:,:]).sum()!=0 for s in range(data.shape[0])])\n",
    "df = df.iloc[~hasnans]\n",
    "data = data[~hasnans,:,:,:,:]"
   ]
  },
  {
   "cell_type": "code",
   "execution_count": 12,
   "id": "a5423300",
   "metadata": {
    "execution": {
     "iopub.execute_input": "2021-09-09T13:58:52.989113Z",
     "iopub.status.busy": "2021-09-09T13:58:52.988767Z",
     "iopub.status.idle": "2021-09-09T13:58:52.990479Z",
     "shell.execute_reply": "2021-09-09T13:58:52.990746Z"
    },
    "papermill": {
     "duration": 0.01675,
     "end_time": "2021-09-09T13:58:52.990849",
     "exception": false,
     "start_time": "2021-09-09T13:58:52.974099",
     "status": "completed"
    },
    "tags": []
   },
   "outputs": [
    {
     "data": {
      "text/plain": [
       "(1048, 32, 32, 32, 51)"
      ]
     },
     "execution_count": 12,
     "metadata": {},
     "output_type": "execute_result"
    }
   ],
   "source": [
    "data.shape"
   ]
  },
  {
   "cell_type": "code",
   "execution_count": 13,
   "id": "beaca91b",
   "metadata": {
    "execution": {
     "iopub.execute_input": "2021-09-09T13:58:53.017081Z",
     "iopub.status.busy": "2021-09-09T13:58:53.016744Z",
     "iopub.status.idle": "2021-09-09T13:58:53.018310Z",
     "shell.execute_reply": "2021-09-09T13:58:53.018024Z"
    },
    "papermill": {
     "duration": 0.01558,
     "end_time": "2021-09-09T13:58:53.018392",
     "exception": false,
     "start_time": "2021-09-09T13:58:53.002812",
     "status": "completed"
    },
    "tags": []
   },
   "outputs": [],
   "source": [
    "# def norm(mat):\n",
    "#     normed = (mat - mat.min()) / (mat.max()-mat.min())\n",
    "#     return normed "
   ]
  },
  {
   "cell_type": "code",
   "execution_count": 14,
   "id": "98492e10",
   "metadata": {
    "execution": {
     "iopub.execute_input": "2021-09-09T13:58:53.045774Z",
     "iopub.status.busy": "2021-09-09T13:58:53.045415Z",
     "iopub.status.idle": "2021-09-09T13:58:53.046527Z",
     "shell.execute_reply": "2021-09-09T13:58:53.046795Z"
    },
    "papermill": {
     "duration": 0.016702,
     "end_time": "2021-09-09T13:58:53.046934",
     "exception": false,
     "start_time": "2021-09-09T13:58:53.030232",
     "status": "completed"
    },
    "tags": []
   },
   "outputs": [],
   "source": [
    "# %time\n",
    "# data = np.array([norm(data[i,:,:,:,:]) for i in range(data.shape[0])])\n",
    "# data[np.isnan(data)]=0"
   ]
  },
  {
   "cell_type": "code",
   "execution_count": 15,
   "id": "a9112300",
   "metadata": {
    "execution": {
     "iopub.execute_input": "2021-09-09T13:58:53.073798Z",
     "iopub.status.busy": "2021-09-09T13:58:53.073468Z",
     "iopub.status.idle": "2021-09-09T13:58:56.632795Z",
     "shell.execute_reply": "2021-09-09T13:58:56.632463Z"
    },
    "papermill": {
     "duration": 3.573592,
     "end_time": "2021-09-09T13:58:56.632894",
     "exception": false,
     "start_time": "2021-09-09T13:58:53.059302",
     "status": "completed"
    },
    "tags": []
   },
   "outputs": [],
   "source": [
    "assert np.isnan(data).mean()==0.0, 'you f****d up'"
   ]
  },
  {
   "cell_type": "code",
   "execution_count": 16,
   "id": "fd75f863",
   "metadata": {
    "execution": {
     "iopub.execute_input": "2021-09-09T13:58:56.674899Z",
     "iopub.status.busy": "2021-09-09T13:58:56.674549Z",
     "iopub.status.idle": "2021-09-09T13:58:56.790677Z",
     "shell.execute_reply": "2021-09-09T13:58:56.790345Z"
    },
    "papermill": {
     "duration": 0.143894,
     "end_time": "2021-09-09T13:58:56.790766",
     "exception": false,
     "start_time": "2021-09-09T13:58:56.646872",
     "status": "completed"
    },
    "tags": []
   },
   "outputs": [
    {
     "data": {
      "image/png": "[encoded data removed]",
      "text/plain": [
       "<Figure size 432x288 with 4 Axes>"
      ]
     },
     "metadata": {},
     "output_type": "display_data"
    }
   ],
   "source": [
    "plt.subplot(2,2,1);plt.imshow(data[10,:,:,20,0]);plt.xticks([]);plt.yticks([]);\n",
    "plt.subplot(2,2,2);plt.imshow(data[np.random.randint(0,data.shape[0]),:,:,20,0]);plt.xticks([]);plt.yticks([]);\n",
    "plt.subplot(2,2,3);plt.imshow(data[np.random.randint(0,data.shape[0]),20,:,:,0]);plt.xticks([]);plt.yticks([]);\n",
    "plt.subplot(2,2,4);plt.imshow(data[np.random.randint(0,data.shape[0]),:,20,:,0]);plt.xticks([]);plt.yticks([]);"
   ]
  },
  {
   "cell_type": "code",
   "execution_count": 17,
   "id": "6c39b210",
   "metadata": {
    "execution": {
     "iopub.execute_input": "2021-09-09T13:58:56.820736Z",
     "iopub.status.busy": "2021-09-09T13:58:56.820395Z",
     "iopub.status.idle": "2021-09-09T13:59:15.055857Z",
     "shell.execute_reply": "2021-09-09T13:59:15.056147Z"
    },
    "papermill": {
     "duration": 18.252653,
     "end_time": "2021-09-09T13:59:15.056269",
     "exception": false,
     "start_time": "2021-09-09T13:58:56.803616",
     "status": "completed"
    },
    "tags": []
   },
   "outputs": [
    {
     "name": "stdout",
     "output_type": "stream",
     "text": [
      "CPU times: user 3 µs, sys: 0 ns, total: 3 µs\n",
      "Wall time: 7.39 µs\n"
     ]
    }
   ],
   "source": [
    "%time\n",
    "from helper_funcs import *\n",
    "from importlib import reload\n",
    "import make_models\n",
    "reload(make_models)\n",
    "del make_models\n",
    "from make_models import *\n",
    "\n",
    "from IPython import display\n",
    "import sys\n",
    "from sklearn.decomposition import PCA\n",
    "import seaborn as sns"
   ]
  },
  {
   "cell_type": "code",
   "execution_count": 18,
   "id": "e7c136b8",
   "metadata": {
    "execution": {
     "iopub.execute_input": "2021-09-09T13:59:17.934942Z",
     "iopub.status.busy": "2021-09-09T13:59:17.934563Z",
     "iopub.status.idle": "2021-09-09T13:59:17.936266Z",
     "shell.execute_reply": "2021-09-09T13:59:17.936534Z"
    },
    "papermill": {
     "duration": 2.86369,
     "end_time": "2021-09-09T13:59:17.936646",
     "exception": false,
     "start_time": "2021-09-09T13:59:15.072956",
     "status": "completed"
    },
    "tags": []
   },
   "outputs": [
    {
     "data": {
      "text/plain": [
       "'/device:GPU:0'"
      ]
     },
     "execution_count": 18,
     "metadata": {},
     "output_type": "execute_result"
    }
   ],
   "source": [
    "import tensorflow as tf\n",
    "tf.test.gpu_device_name()"
   ]
  },
  {
   "cell_type": "code",
   "execution_count": 19,
   "id": "d6acd8c9",
   "metadata": {
    "execution": {
     "iopub.execute_input": "2021-09-09T13:59:17.969464Z",
     "iopub.status.busy": "2021-09-09T13:59:17.969118Z",
     "iopub.status.idle": "2021-09-09T13:59:18.562668Z",
     "shell.execute_reply": "2021-09-09T13:59:18.562348Z"
    },
    "papermill": {
     "duration": 0.61023,
     "end_time": "2021-09-09T13:59:18.562765",
     "exception": false,
     "start_time": "2021-09-09T13:59:17.952535",
     "status": "completed"
    },
    "tags": []
   },
   "outputs": [],
   "source": [
    "import make_models\n",
    "reload(make_models)\n",
    "from make_models import *\n",
    "batch_size = 16\n",
    "cvae, z_encoder, s_encoder, cvae_decoder = get_MRI_CCVAE_3D(input_shape=tuple(data_size[1::]),\n",
    "                   latent_dim = 8, \n",
    "                   batch_size = batch_size, \n",
    "                   disentangle = True, \n",
    "                   gamma = 1,\n",
    "                   kernel_size = 3,\n",
    "                   filters = 8,\n",
    "                   intermediate_dim = 128,\n",
    "                   nlayers = 2,\n",
    "                   learning_rate=0.001)"
   ]
  },
  {
   "cell_type": "code",
   "execution_count": 20,
   "id": "c7314007",
   "metadata": {
    "execution": {
     "iopub.execute_input": "2021-09-09T13:59:18.592192Z",
     "iopub.status.busy": "2021-09-09T13:59:18.591855Z",
     "iopub.status.idle": "2021-09-09T13:59:18.593157Z",
     "shell.execute_reply": "2021-09-09T13:59:18.593423Z"
    },
    "papermill": {
     "duration": 0.017293,
     "end_time": "2021-09-09T13:59:18.593512",
     "exception": false,
     "start_time": "2021-09-09T13:59:18.576219",
     "status": "completed"
    },
    "tags": []
   },
   "outputs": [],
   "source": [
    "patients = df['DX_GROUP'].values==1\n",
    "controls = df['DX_GROUP'].values==2\n",
    "\n",
    "#patient_data = data[patients,:,:,:,:]\n",
    "#control_data = data[controls,:,:,:,:]\n",
    "\n",
    "#patient_batch = patient_data[np.random.randint(low=0,high=patient_data.shape[0],size=32),:,:,:,:]\n",
    "#control_batch = control_data[np.random.randint(low=0,high=control_data.shape[0],size=32),:,:,:,:]"
   ]
  },
  {
   "cell_type": "code",
   "execution_count": 21,
   "id": "45a8a3a8",
   "metadata": {
    "execution": {
     "iopub.execute_input": "2021-09-09T13:59:18.622665Z",
     "iopub.status.busy": "2021-09-09T13:59:18.622328Z",
     "iopub.status.idle": "2021-09-09T13:59:18.623668Z",
     "shell.execute_reply": "2021-09-09T13:59:18.623931Z"
    },
    "papermill": {
     "duration": 0.017277,
     "end_time": "2021-09-09T13:59:18.624030",
     "exception": false,
     "start_time": "2021-09-09T13:59:18.606753",
     "status": "completed"
    },
    "tags": []
   },
   "outputs": [],
   "source": [
    "loss = list()"
   ]
  },
  {
   "cell_type": "code",
   "execution_count": 22,
   "id": "1190cc10",
   "metadata": {
    "execution": {
     "iopub.execute_input": "2021-09-09T13:59:18.653596Z",
     "iopub.status.busy": "2021-09-09T13:59:18.653266Z",
     "iopub.status.idle": "2021-09-09T13:59:18.654849Z",
     "shell.execute_reply": "2021-09-09T13:59:18.654566Z"
    },
    "papermill": {
     "duration": 0.01757,
     "end_time": "2021-09-09T13:59:18.654928",
     "exception": false,
     "start_time": "2021-09-09T13:59:18.637358",
     "status": "completed"
    },
    "tags": []
   },
   "outputs": [],
   "source": [
    "from umap import UMAP"
   ]
  },
  {
   "cell_type": "code",
   "execution_count": 23,
   "id": "dc761b34",
   "metadata": {
    "execution": {
     "iopub.execute_input": "2021-09-09T13:59:18.684939Z",
     "iopub.status.busy": "2021-09-09T13:59:18.684600Z",
     "iopub.status.idle": "2021-09-09T13:59:18.685916Z",
     "shell.execute_reply": "2021-09-09T13:59:18.686182Z"
    },
    "papermill": {
     "duration": 0.018019,
     "end_time": "2021-09-09T13:59:18.686282",
     "exception": false,
     "start_time": "2021-09-09T13:59:18.668263",
     "status": "completed"
    },
    "tags": []
   },
   "outputs": [],
   "source": [
    "red = 'UMAP'\n",
    "if red=='PCA':\n",
    "    reducer = PCA\n",
    "elif red=='UMAP':\n",
    "    reducer = UMAP\n",
    "else:\n",
    "    reducer = UMAP"
   ]
  },
  {
   "cell_type": "code",
   "execution_count": 24,
   "id": "ded8c2e8",
   "metadata": {
    "execution": {
     "iopub.execute_input": "2021-09-09T13:59:18.736206Z",
     "iopub.status.busy": "2021-09-09T13:59:18.735806Z"
    },
    "papermill": {
     "duration": null,
     "end_time": null,
     "exception": false,
     "start_time": "2021-09-09T13:59:18.699761",
     "status": "running"
    },
    "tags": []
   },
   "outputs": [
    {
     "data": {
      "image/png": "[encoded data removed]",
      "text/plain": [
       "<Figure size 1080x1080 with 21 Axes>"
      ]
     },
     "metadata": {},
     "output_type": "display_data"
    },
    {
     "name": "stderr",
     "output_type": "stream",
     "text": [
      "<ipython-input-24-1278293b4455>:20: MatplotlibDeprecationWarning: Passing non-integers as three-element position specification is deprecated since 3.3 and will be removed two minor releases later.\n",
      "  plt.subplot(nrows,ncols/2,1)\n"
     ]
    },
    {
     "name": "stderr",
     "output_type": "stream",
     "text": [
      "\r",
      " 35%|███▌      | 3541/10000 [8:54:24<20:16:40, 11.30s/it]"
     ]
    }
   ],
   "source": [
    "for i in tqdm(range(10000),position=0, leave=True):\n",
    "    \n",
    "    patient_batch = data[patients,:,:,:,:][np.random.randint(low=0,high=patients.sum(),size=batch_size),:,:,:,:]\n",
    "    control_batch = data[controls,:,:,:,:][np.random.randint(low=0,high=controls.sum(),size=batch_size),:,:,:,:]\n",
    "    hist = cvae.train_on_batch([patient_batch,control_batch])\n",
    "    assert not np.isnan(hist),'loss is NaN - you f**cked up'\n",
    "    \n",
    "    loss.append(hist)\n",
    "    display.clear_output(wait=True);\n",
    "    display.display(plt.gcf());\n",
    "    \n",
    "    #Organise figure\n",
    "    ncols = 4;nrows=5\n",
    "    if np.mod(i,5)==0:\n",
    "        plt.close()\n",
    "        \n",
    "    plt.subplots(nrows,ncols,figsize=(15,15));\n",
    "    \n",
    "    # Plot loss\n",
    "    plt.subplot(nrows,ncols/2,1)\n",
    "    xs = np.arange(len(loss))+1\n",
    "    m,b = np.polyfit(xs,loss,deg=1)\n",
    "    plt.plot(loss)\n",
    "    plt.plot(xs, m*xs + b)\n",
    "    plt.title(hist)\n",
    "    \n",
    "    plt.subplot(nrows,ncols,5)\n",
    "    hb = 50\n",
    "    if len(loss)>hb:\n",
    "        plot_loss = loss[-hb::]\n",
    "        xs = np.arange(len(plot_loss))\n",
    "        m,b = np.polyfit(xs,plot_loss,deg=1)\n",
    "        plt.plot(plot_loss)\n",
    "        plt.plot(xs, m*xs + b)\n",
    "        #plt.title(hist)\n",
    "    plt.title(f'loss last {hb} it')\n",
    "    \n",
    "    # Plot recon\n",
    "    #prediction = cvae.predict(patient_batch)    \n",
    "    predictions = cvae.predict([patient_batch,control_batch])\n",
    "    prediction = predictions[0]\n",
    "    plt.subplot(nrows,ncols,3)\n",
    "    plt.imshow(patient_batch[0,:,:,16,0])\n",
    "    plt.xticks([]);plt.yticks([]);plt.title('actual')\n",
    "    \n",
    "    plt.subplot(nrows,ncols,4)\n",
    "    plt.imshow(prediction[0,:,:,16,0])\n",
    "    plt.xticks([]);plt.yticks([]);plt.title('predicted')\n",
    "    \n",
    "    plt.subplot(nrows,ncols,6)\n",
    "    pc = PCA(n_components=2).fit_transform(z_encoder.predict(patient_batch)[2])\n",
    "    plt.scatter(pc[:,0],pc[:,1],s=100,alpha=.5);plt.title('batch latent rep. PCA')\n",
    "    \n",
    "    if np.mod(i,5)==0:\n",
    "        cmat_actual = np.corrcoef(np.vstack((patient_batch.reshape(patient_batch.shape[0],-1),control_batch.reshape(control_batch.shape[0],-1))))\n",
    "        cmat_pred = np.corrcoef(np.vstack((predictions[0].reshape(predictions[0].shape[0],-1),predictions[1].reshape(predictions[1].shape[0],-1))))\n",
    "        \n",
    "\n",
    "    plt.subplot(nrows,ncols,7)\n",
    "    sns.heatmap(cmat_pred,xticklabels=[],yticklabels=[])\n",
    "    plt.title('output RSA')\n",
    "    \n",
    "    plt.subplot(nrows,ncols,11)\n",
    "    sns.heatmap(cmat_actual,xticklabels=[],yticklabels=[])\n",
    "    plt.title('input RSA')\n",
    "    \n",
    "    plt.subplot(nrows,ncols,8)\n",
    "    plt.hist(prediction[0,:,:,:,0].flatten(),alpha=.5)\n",
    "    plt.hist(patient_batch[0,:,:,:,0].flatten(),alpha=.5)\n",
    "    plt.legend(['predicted','actual']);plt.title('predicted')\n",
    "    \n",
    "    if np.mod(i,5)==0:        \n",
    "        pc_s_asd = reducer(n_components=2).fit_transform(s_encoder.predict(patient_batch)[2])\n",
    "        pc_s_td = reducer(n_components=2).fit_transform(s_encoder.predict(control_batch)[2])\n",
    "        pc_z_asd = reducer(n_components=2).fit_transform(z_encoder.predict(patient_batch)[2])\n",
    "        pc_z_td = reducer(n_components=2).fit_transform(z_encoder.predict(control_batch)[2])\n",
    "    \n",
    "    plt.subplot(nrows,ncols,9)\n",
    "    plt.scatter(pc_s_asd[:,0],pc_s_asd[:,1],s=100,alpha=.5);plt.title(f'batch latent S rep. {red}')\n",
    "    plt.scatter(pc_s_td[:,0],pc_s_td[:,1],s=100,alpha=.5);plt.title(f'batch latent S rep. {red}')\n",
    "    plt.legend(['ASD','TD'])\n",
    "    \n",
    "    plt.subplot(nrows,ncols,10)\n",
    "    plt.scatter(pc_z_asd[:,0],pc_z_asd[:,1],s=100,alpha=.5);plt.title(f'batch latent Z rep. {red}')\n",
    "    plt.scatter(pc_z_td[:,0],pc_z_td[:,1],s=100,alpha=.5);plt.title(f'batch latent Z rep. {red}')\n",
    "    plt.legend(['ASD','TD'])\n",
    "    \n",
    "    plt.subplot(nrows,ncols,13)\n",
    "    plt.imshow(np.rot90(patient_batch[0,:,16,:,0]))\n",
    "    plt.xticks([]);plt.yticks([]);plt.title('actual')\n",
    "    \n",
    "    plt.subplot(nrows,ncols,14)\n",
    "    plt.imshow(np.rot90(prediction[0,:,16,:,0]))\n",
    "    plt.xticks([]);plt.yticks([]);plt.title('predicted')\n",
    "    \n",
    "    plt.subplot(nrows,ncols,15)\n",
    "    plt.imshow(np.rot90(patient_batch[0,16,:,:,0]))\n",
    "    plt.xticks([]);plt.yticks([]);plt.title('actual')\n",
    "                                            \n",
    "    plt.subplot(nrows,ncols,16)\n",
    "    plt.imshow(np.rot90(prediction[0,16,:,:,0]))\n",
    "    plt.xticks([]);plt.yticks([]);plt.title('predicted')\n",
    "    \n",
    "    plt.subplot(nrows,ncols,17)\n",
    "    plt.imshow(np.rot90(patient_batch[0,6,:,:,0]))\n",
    "    plt.xticks([]);plt.yticks([]);plt.title('actual')\n",
    "                                            \n",
    "    plt.subplot(nrows,ncols,18)\n",
    "    plt.imshow(np.rot90(prediction[0,6,:,:,0]))\n",
    "    plt.xticks([]);plt.yticks([]);plt.title('predicted')\n",
    "    \n",
    "    plt.tight_layout()\n",
    "    #sys.stdout.flush()"
   ]
  },
  {
   "cell_type": "code",
   "execution_count": null,
   "id": "039cb309",
   "metadata": {
    "papermill": {
     "duration": null,
     "end_time": null,
     "exception": null,
     "start_time": null,
     "status": "pending"
    },
    "tags": []
   },
   "outputs": [],
   "source": []
  },
  {
   "cell_type": "code",
   "execution_count": null,
   "id": "bfed7b02",
   "metadata": {
    "papermill": {
     "duration": null,
     "end_time": null,
     "exception": null,
     "start_time": null,
     "status": "pending"
    },
    "tags": []
   },
   "outputs": [],
   "source": []
  },
  {
   "cell_type": "code",
   "execution_count": null,
   "id": "0a2f4a2f",
   "metadata": {
    "papermill": {
     "duration": null,
     "end_time": null,
     "exception": null,
     "start_time": null,
     "status": "pending"
    },
    "tags": []
   },
   "outputs": [],
   "source": []
  },
  {
   "cell_type": "code",
   "execution_count": null,
   "id": "8743387e",
   "metadata": {
    "papermill": {
     "duration": null,
     "end_time": null,
     "exception": null,
     "start_time": null,
     "status": "pending"
    },
    "tags": []
   },
   "outputs": [],
   "source": []
  }
 ],
 "metadata": {
  "kernelspec": {
   "display_name": "Python 3",
   "language": "python",
   "name": "python3"
  },
  "language_info": {
   "codemirror_mode": {
    "name": "ipython",
    "version": 3
   },
   "file_extension": ".py",
   "mimetype": "text/x-python",
   "name": "python",
   "nbconvert_exporter": "python",
   "pygments_lexer": "ipython3",
   "version": "3.8.5"
  },
  "papermill": {
   "default_parameters": {},
   "duration": null,
   "end_time": null,
   "environment_variables": {},
   "exception": null,
   "input_path": "01-train-CVAE.ipynb",
   "output_path": "./papermill/papermill|01-train-CVAE|2021-09-09-09-57-46.ipynb",
   "parameters": {},
   "start_time": "2021-09-09T13:57:49.410220",
   "version": "2.3.3"
  }
 },
 "nbformat": 4,
 "nbformat_minor": 5
}