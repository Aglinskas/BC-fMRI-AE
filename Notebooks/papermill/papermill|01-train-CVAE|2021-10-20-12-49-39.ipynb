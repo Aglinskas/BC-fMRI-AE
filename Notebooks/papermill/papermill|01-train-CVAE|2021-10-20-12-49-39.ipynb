{
 "cells": [
  {
   "cell_type": "code",
   "execution_count": 1,
   "id": "6fe17903",
   "metadata": {
    "execution": {
     "iopub.execute_input": "2021-10-20T16:49:44.015544Z",
     "iopub.status.busy": "2021-10-20T16:49:44.015100Z",
     "iopub.status.idle": "2021-10-20T16:49:44.017081Z",
     "shell.execute_reply": "2021-10-20T16:49:44.017441Z"
    },
    "papermill": {
     "duration": 0.032606,
     "end_time": "2021-10-20T16:49:44.017662",
     "exception": false,
     "start_time": "2021-10-20T16:49:43.985056",
     "status": "completed"
    },
    "tags": []
   },
   "outputs": [
    {
     "data": {
      "text/plain": [
       "'/mmfs1/data/aglinska/BC-fMRI-AE/Notebooks'"
      ]
     },
     "execution_count": 1,
     "metadata": {},
     "output_type": "execute_result"
    }
   ],
   "source": [
    "pwd"
   ]
  },
  {
   "cell_type": "code",
   "execution_count": 2,
   "id": "33160e3e",
   "metadata": {
    "execution": {
     "iopub.execute_input": "2021-10-20T16:49:44.078250Z",
     "iopub.status.busy": "2021-10-20T16:49:44.077836Z",
     "iopub.status.idle": "2021-10-20T16:49:44.079256Z",
     "shell.execute_reply": "2021-10-20T16:49:44.079599Z"
    },
    "papermill": {
     "duration": 0.031121,
     "end_time": "2021-10-20T16:49:44.079710",
     "exception": false,
     "start_time": "2021-10-20T16:49:44.048589",
     "status": "completed"
    },
    "tags": []
   },
   "outputs": [],
   "source": [
    "import os\n",
    "os.environ['CUDA_VISIBLE_DEVICES']='0'"
   ]
  },
  {
   "cell_type": "code",
   "execution_count": 3,
   "id": "0f47c9ee",
   "metadata": {
    "execution": {
     "iopub.execute_input": "2021-10-20T16:49:44.152324Z",
     "iopub.status.busy": "2021-10-20T16:49:44.151911Z",
     "iopub.status.idle": "2021-10-20T16:49:44.300851Z",
     "shell.execute_reply": "2021-10-20T16:49:44.300418Z"
    },
    "papermill": {
     "duration": 0.187029,
     "end_time": "2021-10-20T16:49:44.300947",
     "exception": false,
     "start_time": "2021-10-20T16:49:44.113918",
     "status": "completed"
    },
    "tags": []
   },
   "outputs": [
    {
     "name": "stdout",
     "output_type": "stream",
     "text": [
      "              total        used        free      shared  buff/cache   available\r\n",
      "Mem:            187          19         165           0           2         165\r\n",
      "Swap:            11           0          11\r\n"
     ]
    }
   ],
   "source": [
    "!free -g"
   ]
  },
  {
   "cell_type": "code",
   "execution_count": 4,
   "id": "7845723e",
   "metadata": {
    "execution": {
     "iopub.execute_input": "2021-10-20T16:49:44.362606Z",
     "iopub.status.busy": "2021-10-20T16:49:44.362175Z",
     "iopub.status.idle": "2021-10-20T16:49:44.800444Z",
     "shell.execute_reply": "2021-10-20T16:49:44.799998Z"
    },
    "papermill": {
     "duration": 0.477066,
     "end_time": "2021-10-20T16:49:44.800550",
     "exception": false,
     "start_time": "2021-10-20T16:49:44.323484",
     "status": "completed"
    },
    "tags": []
   },
   "outputs": [
    {
     "name": "stdout",
     "output_type": "stream",
     "text": [
      "Wed Oct 20 12:49:44 2021       \r\n",
      "+-----------------------------------------------------------------------------+\r\n",
      "| NVIDIA-SMI 450.51.05    Driver Version: 450.51.05    CUDA Version: 11.0     |\r\n",
      "|-------------------------------+----------------------+----------------------+\r\n",
      "| GPU  Name        Persistence-M| Bus-Id        Disp.A | Volatile Uncorr. ECC |\r\n",
      "| Fan  Temp  Perf  Pwr:Usage/Cap|         Memory-Usage | GPU-Util  Compute M. |\r\n",
      "|                               |                      |               MIG M. |\r\n",
      "|===============================+======================+======================|\r\n",
      "|   0  Tesla V100-SXM2...  On   | 00000000:18:00.0 Off |                    0 |\r\n",
      "| N/A   45C    P0   105W / 300W |   2883MiB / 16160MiB |     36%      Default |\r\n",
      "|                               |                      |                  N/A |\r\n",
      "+-------------------------------+----------------------+----------------------+\r\n"
     ]
    },
    {
     "name": "stdout",
     "output_type": "stream",
     "text": [
      "|   1  Tesla V100-SXM2...  On   | 00000000:3B:00.0 Off |                    0 |\r\n",
      "| N/A   29C    P0    41W / 300W |      3MiB / 16160MiB |      0%      Default |\r\n",
      "|                               |                      |                  N/A |\r\n",
      "+-------------------------------+----------------------+----------------------+\r\n",
      "|   2  Tesla V100-SXM2...  On   | 00000000:86:00.0 Off |                    0 |\r\n",
      "| N/A   30C    P0    42W / 300W |      3MiB / 16160MiB |      0%      Default |\r\n",
      "|                               |                      |                  N/A |\r\n",
      "+-------------------------------+----------------------+----------------------+\r\n",
      "|   3  Tesla V100-SXM2...  On   | 00000000:AF:00.0 Off |                    0 |\r\n",
      "| N/A   35C    P0    56W / 300W |  15660MiB / 16160MiB |      0%      Default |\r\n",
      "|                               |                      |                  N/A |\r\n",
      "+-------------------------------+----------------------+----------------------+\r\n",
      "                                                                               \r\n",
      "+-----------------------------------------------------------------------------+\r\n",
      "| Processes:                                                                  |\r\n",
      "|  GPU   GI   CI        PID   Type   Process name                  GPU Memory |\r\n",
      "|        ID   ID                                                   Usage      |\r\n",
      "|=============================================================================|\r\n",
      "|    0   N/A  N/A     46122      C   python3                          1441MiB |\r\n",
      "|    0   N/A  N/A     46461      C   python3                          1439MiB |\r\n",
      "|    3   N/A  N/A     23208      C   ...ska/anaconda3/bin/python3    15657MiB |\r\n",
      "+-----------------------------------------------------------------------------+\r\n"
     ]
    }
   ],
   "source": [
    "!nvidia-smi"
   ]
  },
  {
   "cell_type": "code",
   "execution_count": 5,
   "id": "8f52869a",
   "metadata": {
    "execution": {
     "iopub.execute_input": "2021-10-20T16:49:44.870776Z",
     "iopub.status.busy": "2021-10-20T16:49:44.869878Z",
     "iopub.status.idle": "2021-10-20T16:49:44.873675Z",
     "shell.execute_reply": "2021-10-20T16:49:44.873261Z"
    },
    "papermill": {
     "duration": 0.049298,
     "end_time": "2021-10-20T16:49:44.873810",
     "exception": false,
     "start_time": "2021-10-20T16:49:44.824512",
     "status": "completed"
    },
    "tags": []
   },
   "outputs": [
    {
     "name": "stdout",
     "output_type": "stream",
     "text": [
      "CVAE_2021-10-20 12:49:44.866590\n"
     ]
    }
   ],
   "source": [
    "import os\n",
    "from datetime import datetime; now = datetime.now\n",
    "\n",
    "analysis_name = 'CVAE_'+str(now())\n",
    "save_dir = os.path.join('../Assets/tf_weights',analysis_name)\n",
    "if not os.path.exists(save_dir):\n",
    "    os.mkdir(save_dir)\n",
    "    \n",
    "print(analysis_name)"
   ]
  },
  {
   "cell_type": "code",
   "execution_count": 6,
   "id": "0fe1742f",
   "metadata": {
    "execution": {
     "iopub.execute_input": "2021-10-20T16:49:44.948775Z",
     "iopub.status.busy": "2021-10-20T16:49:44.948347Z",
     "iopub.status.idle": "2021-10-20T16:49:44.966267Z",
     "shell.execute_reply": "2021-10-20T16:49:44.965860Z"
    },
    "papermill": {
     "duration": 0.06125,
     "end_time": "2021-10-20T16:49:44.966356",
     "exception": false,
     "start_time": "2021-10-20T16:49:44.905106",
     "status": "completed"
    },
    "tags": []
   },
   "outputs": [
    {
     "name": "stdout",
     "output_type": "stream",
     "text": [
      "Total memory: 15.78173828125\n",
      "Free memory: 12.9658203125\n",
      "Used memory: 2.81591796875\n"
     ]
    }
   ],
   "source": [
    "# CHECK GPU\n",
    "import nvidia_smi\n",
    "try:\n",
    "    nvidia_smi.nvmlInit()\n",
    "\n",
    "    handle = nvidia_smi.nvmlDeviceGetHandleByIndex(0)\n",
    "    # card id 0 hardcoded here, there is also a call to get all available card ids, so we could iterate\n",
    "\n",
    "    info = nvidia_smi.nvmlDeviceGetMemoryInfo(handle)\n",
    "\n",
    "    print(\"Total memory:\", (info.total/1024/1024/1024))\n",
    "    print(\"Free memory:\", (info.free/1024/1024/1024))\n",
    "    print(\"Used memory:\", (info.used/1024/1024/1024))\n",
    "\n",
    "    nvidia_smi.nvmlShutdown()\n",
    "except:\n",
    "    pass"
   ]
  },
  {
   "cell_type": "code",
   "execution_count": 7,
   "id": "20c40d3b",
   "metadata": {
    "execution": {
     "iopub.execute_input": "2021-10-20T16:49:45.030577Z",
     "iopub.status.busy": "2021-10-20T16:49:45.030147Z",
     "iopub.status.idle": "2021-10-20T16:49:45.031958Z",
     "shell.execute_reply": "2021-10-20T16:49:45.031538Z"
    },
    "papermill": {
     "duration": 0.04086,
     "end_time": "2021-10-20T16:49:45.032051",
     "exception": false,
     "start_time": "2021-10-20T16:49:44.991191",
     "status": "completed"
    },
    "tags": []
   },
   "outputs": [],
   "source": [
    "## SET UP"
   ]
  },
  {
   "cell_type": "code",
   "execution_count": 8,
   "id": "48854e15",
   "metadata": {
    "execution": {
     "iopub.execute_input": "2021-10-20T16:49:45.102340Z",
     "iopub.status.busy": "2021-10-20T16:49:45.101917Z",
     "iopub.status.idle": "2021-10-20T16:50:08.660777Z",
     "shell.execute_reply": "2021-10-20T16:50:08.660371Z"
    },
    "papermill": {
     "duration": 23.592561,
     "end_time": "2021-10-20T16:50:08.660894",
     "exception": false,
     "start_time": "2021-10-20T16:49:45.068333",
     "status": "completed"
    },
    "tags": []
   },
   "outputs": [],
   "source": [
    "import numpy as np\n",
    "import pandas as pd\n",
    "from tqdm import tqdm\n",
    "from matplotlib import pyplot as plt\n",
    "\n",
    "from functools import partial\n",
    "from tqdm import tqdm\n",
    "from umap import UMAP\n",
    "tqdm = partial(tqdm, position=0, leave=True) "
   ]
  },
  {
   "cell_type": "code",
   "execution_count": 9,
   "id": "a745e479",
   "metadata": {
    "execution": {
     "iopub.execute_input": "2021-10-20T16:50:08.720597Z",
     "iopub.status.busy": "2021-10-20T16:50:08.720172Z",
     "iopub.status.idle": "2021-10-20T16:50:08.734905Z",
     "shell.execute_reply": "2021-10-20T16:50:08.735240Z"
    },
    "papermill": {
     "duration": 0.052257,
     "end_time": "2021-10-20T16:50:08.735350",
     "exception": false,
     "start_time": "2021-10-20T16:50:08.683093",
     "status": "completed"
    },
    "tags": []
   },
   "outputs": [],
   "source": [
    "df = pd.read_csv('../Data/ABIDE_df2.csv')\n",
    "df = df.iloc[~pd.isna(df['bids_folder']).values]\n",
    "data_dir = '../Assets/fc_mats_32smooth_new/'"
   ]
  },
  {
   "cell_type": "code",
   "execution_count": 10,
   "id": "7810d640",
   "metadata": {
    "execution": {
     "iopub.execute_input": "2021-10-20T16:50:08.790431Z",
     "iopub.status.busy": "2021-10-20T16:50:08.790037Z",
     "iopub.status.idle": "2021-10-20T16:50:08.794075Z",
     "shell.execute_reply": "2021-10-20T16:50:08.793648Z"
    },
    "papermill": {
     "duration": 0.039888,
     "end_time": "2021-10-20T16:50:08.794167",
     "exception": false,
     "start_time": "2021-10-20T16:50:08.754279",
     "status": "completed"
    },
    "tags": []
   },
   "outputs": [
    {
     "data": {
      "text/plain": [
       "['sub-CMUa0050642.npy',\n",
       " 'sub-CMUa0050646.npy',\n",
       " 'sub-CMUa0050647.npy',\n",
       " 'sub-CMUa0050649.npy',\n",
       " 'sub-CMUa0050653.npy']"
      ]
     },
     "execution_count": 10,
     "metadata": {},
     "output_type": "execute_result"
    }
   ],
   "source": [
    "files = [file for file in os.listdir(data_dir) if file.endswith('.npy')]\n",
    "files.sort()\n",
    "files[0:5]"
   ]
  },
  {
   "cell_type": "code",
   "execution_count": 11,
   "id": "561be306",
   "metadata": {
    "execution": {
     "iopub.execute_input": "2021-10-20T16:50:08.876641Z",
     "iopub.status.busy": "2021-10-20T16:50:08.876203Z",
     "iopub.status.idle": "2021-10-20T16:50:08.996831Z",
     "shell.execute_reply": "2021-10-20T16:50:08.996478Z"
    },
    "papermill": {
     "duration": 0.170065,
     "end_time": "2021-10-20T16:50:08.996944",
     "exception": false,
     "start_time": "2021-10-20T16:50:08.826879",
     "status": "completed"
    },
    "tags": []
   },
   "outputs": [
    {
     "name": "stdout",
     "output_type": "stream",
     "text": [
      "1048\n",
      "1.0\n"
     ]
    }
   ],
   "source": [
    "subs_with_matFiles = [file.split('.')[0] for file in files]\n",
    "df = df.iloc[np.array([sub in subs_with_matFiles for sub in df['bids_folder'].values])]\n",
    "n_subs = len(df)\n",
    "print(n_subs)\n",
    "\n",
    "# Check if subject has .nii file\n",
    "has_file = np.array([os.path.exists(os.path.join(data_dir,sub + '.npy')) for sub in df['bids_folder'].values])\n",
    "print(has_file.mean())\n",
    "assert has_file.mean()==1.0, 'fuck'\n",
    "\n",
    "assert len(subs_with_matFiles)==len(df),'no'\n",
    "df = df.sort_values(by='bids_folder')\n",
    "assert all([subs_with_matFiles[i]==df['bids_folder'].values[i] for i in range(n_subs)]), 'out of order'\n",
    "\n",
    "df.index = np.arange(n_subs)"
   ]
  },
  {
   "cell_type": "code",
   "execution_count": 12,
   "id": "e725ac88",
   "metadata": {
    "execution": {
     "iopub.execute_input": "2021-10-20T16:50:09.056260Z",
     "iopub.status.busy": "2021-10-20T16:50:09.055833Z",
     "iopub.status.idle": "2021-10-20T16:50:09.265943Z",
     "shell.execute_reply": "2021-10-20T16:50:09.266331Z"
    },
    "papermill": {
     "duration": 0.247621,
     "end_time": "2021-10-20T16:50:09.266474",
     "exception": false,
     "start_time": "2021-10-20T16:50:09.018853",
     "status": "completed"
    },
    "tags": []
   },
   "outputs": [
    {
     "name": "stdout",
     "output_type": "stream",
     "text": [
      "CPU times: user 61.6 ms, sys: 9.31 ms, total: 70.9 ms\n",
      "Wall time: 206 ms\n"
     ]
    },
    {
     "data": {
      "text/plain": [
       "<module 'tensorflow' from '/data/aglinska/anaconda3/lib/python3.8/site-packages/tensorflow/__init__.py'>"
      ]
     },
     "execution_count": 12,
     "metadata": {},
     "output_type": "execute_result"
    }
   ],
   "source": [
    "%%time\n",
    "from importlib import reload\n",
    "import helper_funcs;reload(helper_funcs);from helper_funcs import *\n",
    "del helper_funcs\n",
    "import make_models;reload(make_models);from make_models import *\n",
    "del make_models\n",
    "\n",
    "from IPython import display\n",
    "import sys\n",
    "from sklearn.decomposition import PCA\n",
    "import seaborn as sns\n",
    "\n",
    "import tensorflow as tf\n",
    "reload(tf)"
   ]
  },
  {
   "cell_type": "code",
   "execution_count": 13,
   "id": "ccf26e9d",
   "metadata": {
    "execution": {
     "iopub.execute_input": "2021-10-20T16:50:10.284747Z",
     "iopub.status.busy": "2021-10-20T16:50:10.284295Z",
     "iopub.status.idle": "2021-10-20T16:50:10.287515Z",
     "shell.execute_reply": "2021-10-20T16:50:10.287075Z"
    },
    "papermill": {
     "duration": 1.001397,
     "end_time": "2021-10-20T16:50:10.287627",
     "exception": false,
     "start_time": "2021-10-20T16:50:09.286230",
     "status": "completed"
    },
    "tags": []
   },
   "outputs": [
    {
     "data": {
      "text/plain": [
       "'/device:GPU:0'"
      ]
     },
     "execution_count": 13,
     "metadata": {},
     "output_type": "execute_result"
    }
   ],
   "source": [
    "import tensorflow as tf\n",
    "tf.test.gpu_device_name()"
   ]
  },
  {
   "cell_type": "code",
   "execution_count": 14,
   "id": "caaaf923",
   "metadata": {
    "execution": {
     "iopub.execute_input": "2021-10-20T16:50:10.366059Z",
     "iopub.status.busy": "2021-10-20T16:50:10.365633Z",
     "iopub.status.idle": "2021-10-20T16:50:11.905880Z",
     "shell.execute_reply": "2021-10-20T16:50:11.906243Z"
    },
    "papermill": {
     "duration": 1.575645,
     "end_time": "2021-10-20T16:50:11.906381",
     "exception": false,
     "start_time": "2021-10-20T16:50:10.330736",
     "status": "completed"
    },
    "tags": []
   },
   "outputs": [],
   "source": [
    "data_dir = '../Assets/fc_mats_32smooth_new'\n",
    "data_loader = cvae_data_loader(data_dir=data_dir, df=df, batch_size=32)\n",
    "batch_asd,batch_td,batch_df = data_loader.get_batch()"
   ]
  },
  {
   "cell_type": "code",
   "execution_count": 15,
   "id": "91503ab7",
   "metadata": {
    "execution": {
     "iopub.execute_input": "2021-10-20T16:50:11.952330Z",
     "iopub.status.busy": "2021-10-20T16:50:11.951913Z",
     "iopub.status.idle": "2021-10-20T16:50:11.954494Z",
     "shell.execute_reply": "2021-10-20T16:50:11.954071Z"
    },
    "papermill": {
     "duration": 0.027598,
     "end_time": "2021-10-20T16:50:11.954591",
     "exception": false,
     "start_time": "2021-10-20T16:50:11.926993",
     "status": "completed"
    },
    "tags": []
   },
   "outputs": [],
   "source": [
    "data_size = np.hstack((n_subs,batch_asd.shape[1:]))"
   ]
  },
  {
   "cell_type": "code",
   "execution_count": 16,
   "id": "2b7bfcf0",
   "metadata": {
    "execution": {
     "iopub.execute_input": "2021-10-20T16:50:12.007079Z",
     "iopub.status.busy": "2021-10-20T16:50:12.006589Z",
     "iopub.status.idle": "2021-10-20T16:50:12.025752Z",
     "shell.execute_reply": "2021-10-20T16:50:12.026120Z"
    },
    "papermill": {
     "duration": 0.051925,
     "end_time": "2021-10-20T16:50:12.026248",
     "exception": false,
     "start_time": "2021-10-20T16:50:11.974323",
     "status": "completed"
    },
    "tags": []
   },
   "outputs": [],
   "source": [
    "def cvae_dashboard(red='PCA'):\n",
    "    \n",
    "    if red=='PCA':\n",
    "        reducer = PCA\n",
    "    elif red=='UMAP':\n",
    "        reducer = UMAP\n",
    "    else:\n",
    "        reducer = UMAP\n",
    "        \n",
    "    #prediction = cvae.predict(patient_batch)    \n",
    "    predictions = cvae.predict([patient_batch,control_batch])\n",
    "    sigma = (np.e ** z_encoder.predict(patient_batch)[1]).mean()\n",
    "    sigmas.append(sigma)\n",
    "    \n",
    "    mu = z_encoder.predict(patient_batch)[0].mean()\n",
    "    mus.append(mu)\n",
    "    \n",
    "    #predictions = np.concatenate((predictions[0],predictions[1]),axis=0)\n",
    "    prediction = predictions[0]\n",
    "    \n",
    "#     if np.mod(i,1)==0:        \n",
    "#         pc_s = reducer(n_components=2).fit_transform(s_encoder.predict(np.concatenate((patient_batch,control_batch),axis=0))[2])\n",
    "#         pc_z = reducer(n_components=2).fit_transform(z_encoder.predict(np.concatenate((patient_batch,control_batch),axis=0))[2])\n",
    "        \n",
    "#         global pc_s_asd, pc_s_td, pc_z_asd, pc_z_td\n",
    "\n",
    "#         pc_s_asd = pc_s[0:patient_batch.shape[0],:]\n",
    "#         pc_s_td = pc_s[patient_batch.shape[0]::,:]\n",
    "\n",
    "#         pc_z_asd = pc_z[0:patient_batch.shape[0],:]\n",
    "#         pc_z_td = pc_z[patient_batch.shape[0]::,:]\n",
    "        \n",
    "        #all_rsas.append(get_batch_rsas(z_encoder,s_encoder,df,n=50))\n",
    "        \n",
    "    cmat_actual = np.corrcoef(np.vstack((patient_batch.reshape(patient_batch.shape[0],-1),control_batch.reshape(control_batch.shape[0],-1))))\n",
    "    cmat_pred = np.corrcoef(np.vstack((predictions[0].reshape(predictions[0].shape[0],-1),predictions[1].reshape(predictions[1].shape[0],-1))))\n",
    "    c_sim.append(np.corrcoef(get_triu(cmat_pred),get_triu(cmat_actual))[0,1])\n",
    "\n",
    "    \n",
    "    ### PROGRESS PLOTTING\n",
    "    display.clear_output(wait=True);\n",
    "    display.display(plt.gcf());\n",
    "    #Organise figure\n",
    "    ncols = 4;nrows=5\n",
    "    if np.mod(i,5)==0:\n",
    "        plt.close()\n",
    "    plt.subplots(nrows,ncols,figsize=(15,15)); # MAKE THE FIGURE\n",
    "    \n",
    "    \n",
    "    ##### SUBPLOT 1 & 2 ##### \n",
    "\n",
    "    plt.subplot(nrows,ncols/2,1) # PLOT LOSS\n",
    "    xs = np.arange(len(loss))+1\n",
    "    m,b = np.polyfit(xs,loss,deg=1)\n",
    "    plt.plot(loss)\n",
    "    plt.plot(xs, m*xs + b)\n",
    "    plt.title(f'Epoch {data_loader.epoch} batch {data_loader.b}/{data_loader.n_batches} | Loss {loss[-1]:.2f}, beta: {m:.4f}')\n",
    "    \n",
    "    ##### SUBPLOT 3 ##### \n",
    "    plt.subplot(nrows,ncols,3) # PLOT LOSS LAST 50\n",
    "    hb = 50\n",
    "    if len(loss)>hb:\n",
    "        plot_loss = loss[-hb::]\n",
    "        xs = np.arange(len(plot_loss))\n",
    "        m,b = np.polyfit(xs,plot_loss,deg=1)\n",
    "        plt.plot(plot_loss)\n",
    "        plt.plot(xs, m*xs + b)\n",
    "        #plt.title(hist)\n",
    "        plt.title(f'Loss last {hb} it, beta {m:.4f}')\n",
    "        \n",
    "    ##### SUBPLOT 4 ##### \n",
    "    plt.subplot(nrows,ncols,4)\n",
    "    plt.hist(prediction[0,:,:,:,0].flatten(),alpha=.5)\n",
    "    plt.hist(patient_batch[0,:,:,:,0].flatten(),alpha=.5)\n",
    "    plt.legend(['predicted','actual'])\n",
    "    plt.title('in/out histograms')\n",
    "    \n",
    "    ##### SUBPLOT 5 ##### \n",
    "    plt.subplot(nrows,ncols,5) #RSA over time\n",
    "    plt.plot(c_sim)\n",
    "    plt.title(f'in/out RSA: {c_sim[-1].round(2)}')\n",
    "    \n",
    "    if len(c_sim)>5: # PLOT LS LINE\n",
    "        xs = np.arange(len(c_sim))+1\n",
    "        m,b = np.polyfit(xs,c_sim,deg=1)\n",
    "        plt.plot(xs, m*xs + b)\n",
    "        plt.title(f'in/out RSA: {c_sim[-1].round(2)}, b={m:.4f}')\n",
    "        \n",
    "\n",
    "    ##### SUBPLOT 6 ##### \n",
    "    plt.subplot(nrows,ncols,6)\n",
    "    if len(c_sim)>hb:\n",
    "        #plot_loss = loss[-hb::]\n",
    "        xs = np.arange(len(c_sim[-hb::]))\n",
    "        m,b = np.polyfit(xs,c_sim[-hb::],deg=1)\n",
    "        plt.plot(c_sim[-hb::])\n",
    "        plt.plot(xs, m*xs + b)\n",
    "        #plt.title(hist)\n",
    "        plt.title(f'in/outRSA last {hb} it, b={m:.4f}')\n",
    "\n",
    "    ##### SUBPLOT 7 ##### \n",
    "    plt.subplot(nrows,ncols,7)\n",
    "    lbls = ['age','sex','fiq','dsm','site','ados'];\n",
    "    xs = np.arange(len(lbls));\n",
    "    plt.bar(xs,batch_rsas[0:6]);\n",
    "    plt.xticks(xs,labels=lbls);\n",
    "    plt.title('S RSA')\n",
    "    \n",
    "    ##### SUBPLOT 8 ##### \n",
    "    plt.subplot(nrows,ncols,8)\n",
    "    lbls = ['age','sex','fiq','dsm','site','ados'];\n",
    "    xs = np.arange(len(lbls));\n",
    "    plt.bar(xs,batch_rsas[6::]);\n",
    "    plt.xticks(xs,labels=lbls);\n",
    "    plt.title('Z RSA')\n",
    "\n",
    "        \n",
    "    ##### SUBPLOT 9 ##### \n",
    "    plt.subplot(nrows,ncols,9)\n",
    "    plt.plot(sigmas)\n",
    "    plt.title('sigmas')\n",
    "    #plt.scatter(pc_s_asd[:,0],pc_s_asd[:,1],s=100,alpha=.5);plt.title(f'batch latent S rep. {red}')\n",
    "    #plt.scatter(pc_s_td[:,0],pc_s_td[:,1],s=100,alpha=.5);plt.title(f'batch latent S rep. {red}')\n",
    "    #plt.legend(['ASD','TD'])\n",
    "    \n",
    "    ##### SUBPLOT 10 ##### \n",
    "    plt.subplot(nrows,ncols,10)\n",
    "    plt.plot(mus)\n",
    "    plt.title('mus')\n",
    "    #plt.scatter(pc_z_asd[:,0],pc_z_asd[:,1],s=100,alpha=.5);plt.title(f'batch latent Z rep. {red}')\n",
    "    #plt.scatter(pc_z_td[:,0],pc_z_td[:,1],s=100,alpha=.5);plt.title(f'batch latent Z rep. {red}')\n",
    "    #plt.legend(['ASD','TD'])\n",
    "    \n",
    "    ##### SUBPLOT 11 ##### \n",
    "    plt.subplot(nrows,ncols,11)\n",
    "    sns.heatmap(cmat_actual,xticklabels=[],yticklabels=[])\n",
    "    plt.title('input RSA')\n",
    "        \n",
    "    ##### SUBPLOT 12 ##### \n",
    "    plt.subplot(nrows,ncols,12)\n",
    "    sns.heatmap(cmat_pred,xticklabels=[],yticklabels=[])\n",
    "    plt.title('output RSA')\n",
    "  \n",
    "\n",
    "    #############################################\n",
    "    #############################################\n",
    "    \n",
    "    ##### SUBPLOT 13 #####     \n",
    "    plt.subplot(nrows,ncols,13)\n",
    "    rand_sub = np.random.randint(low=0,high=patient_batch.shape[0])\n",
    "    rand_map = np.random.randint(low=0,high=patient_batch.shape[4])\n",
    "    plt.imshow(np.rot90(patient_batch[rand_sub,:,16,:,rand_map]))\n",
    "    plt.xticks([]);plt.yticks([]);plt.title('actual')\n",
    "    ##### SUBPLOT 14 #####     \n",
    "    plt.subplot(nrows,ncols,14)\n",
    "    plt.imshow(np.rot90(prediction[rand_sub,:,16,:,rand_map]))\n",
    "    plt.xticks([]);plt.yticks([]);plt.title('predicted')\n",
    "    ##### SUBPLOT 15 #####     \n",
    "    plt.subplot(nrows,ncols,15)\n",
    "    plt.imshow(np.rot90(patient_batch[rand_sub,16,:,:,rand_map]))\n",
    "    plt.xticks([]);plt.yticks([]);plt.title('actual')\n",
    "    ##### SUBPLOT 16 #####                                             \n",
    "    plt.subplot(nrows,ncols,16)\n",
    "    plt.imshow(np.rot90(prediction[rand_sub,16,:,:,rand_map]))\n",
    "    plt.xticks([]);plt.yticks([]);plt.title('predicted')\n",
    "    ##### SUBPLOT 17 #####     \n",
    "    plt.subplot(nrows,ncols,17)\n",
    "    plt.imshow(np.rot90(patient_batch[rand_sub,6,:,:,rand_map]))\n",
    "    plt.xticks([]);plt.yticks([]);plt.title('actual')\n",
    "    ##### SUBPLOT 18 #####                                             \n",
    "    plt.subplot(nrows,ncols,18)\n",
    "    plt.imshow(np.rot90(prediction[rand_sub,6,:,:,rand_map]))\n",
    "    plt.xticks([]);plt.yticks([]);plt.title('predicted')\n",
    "    ##### SUBPLOT 19 #####     \n",
    "    plt.subplot(nrows,ncols,19)\n",
    "    plt.imshow(patient_batch[rand_sub,:,:,16,rand_map])\n",
    "    plt.xticks([]);plt.yticks([]);plt.title('actual')\n",
    "    ##### SUBPLOT 20 #####     \n",
    "    plt.subplot(nrows,ncols,20)\n",
    "    plt.imshow(prediction[rand_sub,:,:,16,rand_map])\n",
    "    plt.xticks([]);plt.yticks([]);plt.title('predicted')\n",
    "    \n",
    "    plt.tight_layout()\n",
    "    plt.show()\n",
    "    sys.stdout.flush()"
   ]
  },
  {
   "cell_type": "code",
   "execution_count": 17,
   "id": "2538f24e",
   "metadata": {
    "execution": {
     "iopub.execute_input": "2021-10-20T16:50:12.078463Z",
     "iopub.status.busy": "2021-10-20T16:50:12.069088Z",
     "iopub.status.idle": "2021-10-20T16:50:12.100578Z",
     "shell.execute_reply": "2021-10-20T16:50:12.100965Z"
    },
    "papermill": {
     "duration": 0.054641,
     "end_time": "2021-10-20T16:50:12.101099",
     "exception": false,
     "start_time": "2021-10-20T16:50:12.046458",
     "status": "completed"
    },
    "tags": []
   },
   "outputs": [],
   "source": [
    "import tensorflow as tf\n",
    "import numpy as np\n",
    "import matplotlib.pyplot as plt\n",
    "#from scipy.special import expit\n",
    "from sklearn.metrics import silhouette_score\n",
    "from tensorflow.keras.layers import *\n",
    "from tensorflow.keras import backend as K\n",
    "from tensorflow.keras.models import Model\n",
    "from tensorflow.keras.losses import mse\n",
    "import os\n",
    "import pandas as pd\n",
    "\n",
    "def get_fMRI_CVAE_4D(input_shape=(48,48,48,51),\n",
    "                     latent_dim=[2,2],\n",
    "                     beta=1,\n",
    "                     disentangle=False,\n",
    "                     gamma=1,\n",
    "                     bias=True,\n",
    "                     batch_size = 32,\n",
    "                     kernel_size = 3,\n",
    "                     filters = 16,\n",
    "                     intermediate_dim = 128,\n",
    "                     nlayers = 2,\n",
    "                     learning_rate=0.001,\n",
    "                     opt=None):\n",
    "    \n",
    "    \n",
    "    ndim_bg = latent_dim[0]\n",
    "    ndim_sl = latent_dim[1]\n",
    "    \n",
    "    image_size, _, _, channels = input_shape\n",
    "\n",
    "    kernel_regularizer=regularizers.l2(.0001)\n",
    "\n",
    "    # build encoder model\n",
    "    tg_inputs = Input(shape=input_shape, name='tg_inputs')\n",
    "    bg_inputs = Input(shape=input_shape, name='bg_inputs')\n",
    "\n",
    "    # generate latent vector Q(z|X)\n",
    "    z_h_layer = Dense(intermediate_dim, activation='relu', use_bias=bias,kernel_regularizer=kernel_regularizer)\n",
    "    z_mean_layer = Dense(ndim_bg, name='z_mean', use_bias=bias,kernel_regularizer=kernel_regularizer)\n",
    "    z_log_var_layer = Dense(ndim_bg, name='z_log_var', use_bias=bias,kernel_regularizer=kernel_regularizer)\n",
    "    z_layer = Lambda(sampling, output_shape=(ndim_bg,), name='z')\n",
    "\n",
    "    def z_encoder_func(inputs):\n",
    "        z_h = inputs\n",
    "        #z_h = z_conv1(z_h)\n",
    "        #z_h = z_conv2(z_h)\n",
    "        \n",
    "        these_filters = filters\n",
    "        for i in range(nlayers):\n",
    "            these_filters *= 2\n",
    "            #print(these_filters)\n",
    "            z_h = Conv3D(filters=these_filters,\n",
    "                    kernel_size=kernel_size,\n",
    "                    activation='relu',\n",
    "                    strides=2,\n",
    "                    padding='same',\n",
    "                    use_bias=bias,\n",
    "                    kernel_regularizer=kernel_regularizer)(z_h)\n",
    "        \n",
    "        # shape info needed to build decoder model\n",
    "        shape = K.int_shape(z_h)\n",
    "        z_h = Flatten()(z_h)\n",
    "        z_h = z_h_layer(z_h)\n",
    "        z_mean =  z_mean_layer(z_h)\n",
    "        z_log_var =  z_log_var_layer(z_h)\n",
    "        z = z_layer([z_mean, z_log_var])\n",
    "        return z_mean, z_log_var, z, shape\n",
    "\n",
    "    tg_z_mean, tg_z_log_var, tg_z, shape_z = z_encoder_func(tg_inputs)\n",
    "\n",
    "    # generate latent vector Q(z|X)\n",
    "    s_h_layer = Dense(intermediate_dim, activation='relu', use_bias=bias,kernel_regularizer=kernel_regularizer)\n",
    "    s_mean_layer = Dense(ndim_sl, name='s_mean', use_bias=bias,kernel_regularizer=kernel_regularizer)\n",
    "    s_log_var_layer = Dense(ndim_sl, name='s_log_var', use_bias=bias,kernel_regularizer=kernel_regularizer)\n",
    "    s_layer = Lambda(sampling, output_shape=(ndim_sl,), name='s')\n",
    "\n",
    "    def s_encoder_func(inputs):\n",
    "        s_h = inputs\n",
    "\n",
    "        these_filters = filters\n",
    "        for i in range(nlayers):\n",
    "            these_filters *= 2\n",
    "            s_h = Conv3D(filters=these_filters,\n",
    "                    kernel_size=kernel_size,\n",
    "                    activation='relu',\n",
    "                    strides=2,\n",
    "                    use_bias=bias,\n",
    "                    kernel_regularizer=kernel_regularizer,\n",
    "                    padding='same')(s_h)\n",
    "        \n",
    "        # shape info needed to build decoder model\n",
    "        shape = K.int_shape(s_h)\n",
    "        s_h = Flatten()(s_h)\n",
    "        s_h = s_h_layer(s_h)\n",
    "        s_mean =  s_mean_layer(s_h)\n",
    "        s_log_var =  s_log_var_layer(s_h)\n",
    "        s = s_layer([s_mean, s_log_var])\n",
    "        return s_mean, s_log_var, s, shape\n",
    "\n",
    "    tg_s_mean, tg_s_log_var, tg_s, shape_s = s_encoder_func(tg_inputs)\n",
    "    #bg_s_mean, bg_s_log_var, bg_s, _ = s_encoder_func(bg_inputs) # this is what they had \n",
    "    bg_z_mean, bg_z_log_var, bg_z, _ = z_encoder_func(bg_inputs) # Aidas and Stefano team hax\n",
    "\n",
    "\n",
    "      # instantiate encoder models\n",
    "    z_encoder = tf.keras.models.Model(tg_inputs, [tg_z_mean, tg_z_log_var, tg_z], name='z_encoder')\n",
    "    s_encoder = tf.keras.models.Model(tg_inputs, [tg_s_mean, tg_s_log_var, tg_s], name='s_encoder')\n",
    "\n",
    "\n",
    "      # build decoder model\n",
    "    latent_inputs = Input(shape=(ndim_bg+ndim_sl,), name='z_sampling')\n",
    "\n",
    "    x = Dense(intermediate_dim, activation='relu', use_bias=bias,kernel_regularizer=kernel_regularizer)(latent_inputs)\n",
    "    x = Dense(shape_z[1] * shape_z[2] * shape_z[3] * shape_z[4], activation='relu', use_bias=bias,kernel_regularizer=kernel_regularizer)(x)\n",
    "    x = Reshape((shape_z[1], shape_z[2], shape_z[3],shape_z[4]))(x)\n",
    "\n",
    "    these_filters = filters*(2**nlayers)/2\n",
    "    for i in range(nlayers-1):\n",
    "        x = Conv3DTranspose(filters=these_filters,\n",
    "                          kernel_size=kernel_size,\n",
    "                          activation='relu',\n",
    "                          strides=2,\n",
    "                          use_bias=bias,\n",
    "                          kernel_regularizer=kernel_regularizer,\n",
    "                          padding='same')(x)\n",
    "        these_filters //= 2\n",
    "\n",
    "    outputs = Conv3DTranspose(filters=channels,\n",
    "                            kernel_size=kernel_size,\n",
    "                            activation='sigmoid',\n",
    "                            padding='same',\n",
    "                            strides=2,\n",
    "                            use_bias=bias,\n",
    "                            kernel_regularizer=kernel_regularizer,\n",
    "                            name='decoder_output')(x)\n",
    "\n",
    "    # instantiate decoder model\n",
    "    cvae_decoder = Model(latent_inputs, outputs, name='decoder')\n",
    "      # decoder.summary()\n",
    "\n",
    "    def zeros_like(x):\n",
    "        return tf.zeros_like(x)\n",
    "\n",
    "    tg_outputs = cvae_decoder(tf.keras.layers.concatenate([tg_z, tg_s], -1))\n",
    "    zeros = tf.keras.layers.Lambda(zeros_like)(tg_s)\n",
    "\n",
    "    bg_outputs = cvae_decoder(tf.keras.layers.concatenate([bg_z, zeros], -1)) # Aidas look into this, is this correct\n",
    "\n",
    " #   fg_outputs = cvae_decoder(tf.keras.layers.concatenate([tg_z, zeros], -1))\n",
    "\n",
    "    # instantiate VAE model\n",
    "    cvae = tf.keras.models.Model(inputs=[tg_inputs, bg_inputs], \n",
    "                              outputs=[tg_outputs, bg_outputs], \n",
    "                              name='contrastive_vae')\n",
    "\n",
    "#     cvae_fg = tf.keras.models.Model(inputs=tg_inputs, \n",
    "#                                   outputs=fg_outputs, \n",
    "#                                   name='contrastive_vae_fg')\n",
    "\n",
    "    if disentangle:\n",
    "        discriminator = Dense(1, activation='sigmoid')\n",
    "\n",
    "        z1 = Lambda(lambda x: x[:int(batch_size/2),:])(tg_z)\n",
    "        z2 = Lambda(lambda x: x[int(batch_size/2):,:])(tg_z)\n",
    "        s1 = Lambda(lambda x: x[:int(batch_size/2),:])(tg_s)\n",
    "        s2 = Lambda(lambda x: x[int(batch_size/2):,:])(tg_s)\n",
    "\n",
    "        q_bar = tf.keras.layers.concatenate(\n",
    "          [tf.keras.layers.concatenate([s1, z2], axis=1),\n",
    "          tf.keras.layers.concatenate([s2, z1], axis=1)],\n",
    "          axis=0)\n",
    "\n",
    "        q = tf.keras.layers.concatenate(\n",
    "          [tf.keras.layers.concatenate([s1, z1], axis=1),\n",
    "          tf.keras.layers.concatenate([s2, z2], axis=1)],\n",
    "          axis=0)\n",
    "\n",
    "        q_bar_score = (discriminator(q_bar)+.1) *.85 # +.1 * .85 so that it's 0<x<1\n",
    "        q_score = (discriminator(q)+.1) *.85 \n",
    "        tc_loss = K.log(q_score / (1 - q_score)) \n",
    "        discriminator_loss = - K.log(q_score) - K.log(1 - q_bar_score)\n",
    "    else:\n",
    "        tc_loss = 0\n",
    "        discriminator_loss = 0\n",
    "\n",
    "\n",
    "    reconstruction_loss = tf.keras.losses.mse(K.flatten(tg_inputs), K.flatten(tg_outputs)) \n",
    "    reconstruction_loss += tf.keras.losses.mse(K.flatten(bg_inputs), K.flatten(bg_outputs)) \n",
    "    reconstruction_loss *= input_shape[0] * input_shape[1] * input_shape[2] * input_shape[3]\n",
    "\n",
    "\n",
    "\n",
    "    kl_loss1 = 1 + tg_z_log_var - tf.keras.backend.square(tg_z_mean) - tf.keras.backend.exp(tg_z_log_var)\n",
    "    kl_loss2 = 1 + tg_s_log_var - tf.keras.backend.square(tg_s_mean) - tf.keras.backend.exp(tg_s_log_var)\n",
    "    kl_loss3 = 1 + bg_z_log_var - tf.keras.backend.square(bg_z_mean) - tf.keras.backend.exp(bg_z_log_var)\n",
    "\n",
    "    kl_loss1 = tf.keras.backend.sum(kl_loss1, axis=-1)\n",
    "    kl_loss2 = tf.keras.backend.sum(kl_loss2, axis=-1)\n",
    "    kl_loss3 = tf.keras.backend.sum(kl_loss3, axis=-1)\n",
    "\n",
    "    kl_loss = kl_loss1+kl_loss2+kl_loss3\n",
    "    #kl_loss = tf.keras.backend.sum(kl_loss, axis=-1)\n",
    "    kl_loss *= -0.5\n",
    "\n",
    "    # kl_loss = 1 + tg_z_log_var - tf.keras.backend.square(tg_z_mean) - tf.keras.backend.exp(tg_z_log_var)\n",
    "    # kl_loss += 1 + tg_s_log_var - tf.keras.backend.square(tg_s_mean) - tf.keras.backend.exp(tg_s_log_var)\n",
    "    # kl_loss += 1 + bg_z_log_var - tf.keras.backend.square(bg_z_mean) - tf.keras.backend.exp(bg_z_log_var)\n",
    "    # kl_loss = tf.keras.backend.sum(kl_loss, axis=-1)\n",
    "    # kl_loss *= -0.5\n",
    "    \n",
    "    \n",
    "    #print(f'reconstruction loss {reconstruction_loss}')\n",
    "    #print(f'kl_loss loss {kl_loss}')\n",
    "    #print(f'tc_loss loss {tc_loss}')\n",
    "    #print(f'discriminator_loss loss {discriminator_loss}')\n",
    "    \n",
    "    cvae_loss = tf.keras.backend.mean(reconstruction_loss + beta*kl_loss + gamma*tc_loss + discriminator_loss)\n",
    "    cvae.add_loss(cvae_loss)\n",
    "    \n",
    "    if type(opt)==type(None):\n",
    "        #print('optimizer not specified using ADAM, wroom wroom')\n",
    "        opt = tf.keras.optimizers.Adam(learning_rate=learning_rate,beta_1=0.9,beta_2=0.999,epsilon=1e-07,amsgrad=False,name='Adam')\n",
    "    \n",
    "#     opt = tf.keras.optimizers.SGD(\n",
    "#     learning_rate=0.01, momentum=0.0, nesterov=False, name='SGD')\n",
    "\n",
    "    #opt = tf.keras.optimizers.RMSprop(learning_rate=0.001, rho=0.9, momentum=0.9, epsilon=1e-07, centered=False, name='RMSprop')\n",
    "    \n",
    "    #cvae.compile(optimizer='rmsprop',run_eagerly=True)\n",
    "    cvae.compile(optimizer=opt,run_eagerly=True)\n",
    "    \n",
    "\n",
    "    #return cvae, cvae_fg, z_encoder, s_encoder, cvae_decoder\n",
    "    return cvae, z_encoder, s_encoder, cvae_decoder"
   ]
  },
  {
   "cell_type": "code",
   "execution_count": 18,
   "id": "08f6d9f1",
   "metadata": {
    "execution": {
     "iopub.execute_input": "2021-10-20T16:50:12.160784Z",
     "iopub.status.busy": "2021-10-20T16:50:12.160319Z",
     "iopub.status.idle": "2021-10-20T16:50:13.594445Z",
     "shell.execute_reply": "2021-10-20T16:50:13.594794Z"
    },
    "papermill": {
     "duration": 1.473044,
     "end_time": "2021-10-20T16:50:13.594923",
     "exception": false,
     "start_time": "2021-10-20T16:50:12.121879",
     "status": "completed"
    },
    "tags": []
   },
   "outputs": [
    {
     "name": "stdout",
     "output_type": "stream",
     "text": [
      "# params| 4,944,740\n"
     ]
    }
   ],
   "source": [
    "#import make_models;reload(make_models);from make_models import *\n",
    "batch_size = 16\n",
    "\n",
    "cvae, z_encoder, s_encoder, cvae_decoder = get_fMRI_CVAE_4D(input_shape=tuple(data_size[1::]),\n",
    "                                                             latent_dim=[128,16],\n",
    "                                                             beta=.001,\n",
    "                                                             gamma=1,\n",
    "                                                             disentangle=True,\n",
    "                                                             bias=True,\n",
    "                                                             batch_size = batch_size,\n",
    "                                                             kernel_size = 3,\n",
    "                                                             filters = 8,\n",
    "                                                             intermediate_dim = 128,\n",
    "                                                             nlayers = 5,\n",
    "                                                             learning_rate=0.001,\n",
    "                                                             opt=None)\n",
    "\n",
    "num_params = np.sum([np.prod(val.get_shape()) for val in cvae.trainable_weights])\n",
    "print(f'# params| {num_params:,}')"
   ]
  },
  {
   "cell_type": "code",
   "execution_count": 19,
   "id": "b8c8cf10",
   "metadata": {
    "execution": {
     "iopub.execute_input": "2021-10-20T16:50:13.670150Z",
     "iopub.status.busy": "2021-10-20T16:50:13.669741Z",
     "iopub.status.idle": "2021-10-20T16:50:13.672114Z",
     "shell.execute_reply": "2021-10-20T16:50:13.671791Z"
    },
    "papermill": {
     "duration": 0.04456,
     "end_time": "2021-10-20T16:50:13.672208",
     "exception": false,
     "start_time": "2021-10-20T16:50:13.627648",
     "status": "completed"
    },
    "tags": []
   },
   "outputs": [
    {
     "data": {
      "text/plain": [
       "(1048, 32, 32, 32, 51)"
      ]
     },
     "execution_count": 19,
     "metadata": {},
     "output_type": "execute_result"
    }
   ],
   "source": [
    "tuple(data_size)"
   ]
  },
  {
   "cell_type": "code",
   "execution_count": 20,
   "id": "c1de5079",
   "metadata": {
    "execution": {
     "iopub.execute_input": "2021-10-20T16:50:13.734135Z",
     "iopub.status.busy": "2021-10-20T16:50:13.733711Z",
     "iopub.status.idle": "2021-10-20T16:50:13.735206Z",
     "shell.execute_reply": "2021-10-20T16:50:13.735549Z"
    },
    "papermill": {
     "duration": 0.029021,
     "end_time": "2021-10-20T16:50:13.735670",
     "exception": false,
     "start_time": "2021-10-20T16:50:13.706649",
     "status": "completed"
    },
    "tags": []
   },
   "outputs": [
    {
     "name": "stdout",
     "output_type": "stream",
     "text": [
      "Model: \"z_encoder\"\n",
      "______________________________________________________________________________________________________________________________________________________\n",
      "Layer (type)                                     Output Shape                     Param #           Connected to                                      \n",
      "======================================================================================================================================================\n",
      "tg_inputs (InputLayer)                           [(None, 32, 32, 32, 51)]         0                                                                   \n",
      "______________________________________________________________________________________________________________________________________________________\n",
      "conv3d (Conv3D)                                  (None, 16, 16, 16, 16)           22048             tg_inputs[0][0]                                   \n",
      "______________________________________________________________________________________________________________________________________________________\n",
      "conv3d_1 (Conv3D)                                (None, 8, 8, 8, 32)              13856             conv3d[0][0]                                      \n",
      "______________________________________________________________________________________________________________________________________________________\n",
      "conv3d_2 (Conv3D)                                (None, 4, 4, 4, 64)              55360             conv3d_1[0][0]                                    \n",
      "______________________________________________________________________________________________________________________________________________________\n",
      "conv3d_3 (Conv3D)                                (None, 2, 2, 2, 128)             221312            conv3d_2[0][0]                                    \n",
      "______________________________________________________________________________________________________________________________________________________\n",
      "conv3d_4 (Conv3D)                                (None, 1, 1, 1, 256)             884992            conv3d_3[0][0]                                    \n",
      "______________________________________________________________________________________________________________________________________________________\n",
      "flatten (Flatten)                                (None, 256)                      0                 conv3d_4[0][0]                                    \n",
      "______________________________________________________________________________________________________________________________________________________\n",
      "dense (Dense)                                    (None, 128)                      32896             flatten[0][0]                                     \n",
      "______________________________________________________________________________________________________________________________________________________\n",
      "z_mean (Dense)                                   (None, 128)                      16512             dense[0][0]                                       \n",
      "______________________________________________________________________________________________________________________________________________________\n",
      "z_log_var (Dense)                                (None, 128)                      16512             dense[0][0]                                       \n",
      "______________________________________________________________________________________________________________________________________________________\n",
      "z (Lambda)                                       (None, 128)                      0                 z_mean[0][0]                                      \n",
      "                                                                                                    z_log_var[0][0]                                   \n",
      "======================================================================================================================================================\n",
      "Total params: 1,263,488\n",
      "Trainable params: 1,263,488\n",
      "Non-trainable params: 0\n",
      "______________________________________________________________________________________________________________________________________________________\n"
     ]
    }
   ],
   "source": [
    "z_encoder.summary(line_length=150)"
   ]
  },
  {
   "cell_type": "code",
   "execution_count": 21,
   "id": "dab173e8",
   "metadata": {
    "execution": {
     "iopub.execute_input": "2021-10-20T16:50:13.787400Z",
     "iopub.status.busy": "2021-10-20T16:50:13.786982Z",
     "iopub.status.idle": "2021-10-20T16:50:13.790463Z",
     "shell.execute_reply": "2021-10-20T16:50:13.790055Z"
    },
    "papermill": {
     "duration": 0.030107,
     "end_time": "2021-10-20T16:50:13.790564",
     "exception": false,
     "start_time": "2021-10-20T16:50:13.760457",
     "status": "completed"
    },
    "tags": []
   },
   "outputs": [
    {
     "name": "stdout",
     "output_type": "stream",
     "text": [
      "Model: \"s_encoder\"\n",
      "______________________________________________________________________________________________________________________________________________________\n",
      "Layer (type)                                     Output Shape                     Param #           Connected to                                      \n",
      "======================================================================================================================================================\n",
      "tg_inputs (InputLayer)                           [(None, 32, 32, 32, 51)]         0                                                                   \n",
      "______________________________________________________________________________________________________________________________________________________\n",
      "conv3d_5 (Conv3D)                                (None, 16, 16, 16, 16)           22048             tg_inputs[0][0]                                   \n",
      "______________________________________________________________________________________________________________________________________________________\n",
      "conv3d_6 (Conv3D)                                (None, 8, 8, 8, 32)              13856             conv3d_5[0][0]                                    \n",
      "______________________________________________________________________________________________________________________________________________________\n",
      "conv3d_7 (Conv3D)                                (None, 4, 4, 4, 64)              55360             conv3d_6[0][0]                                    \n",
      "______________________________________________________________________________________________________________________________________________________\n",
      "conv3d_8 (Conv3D)                                (None, 2, 2, 2, 128)             221312            conv3d_7[0][0]                                    \n",
      "______________________________________________________________________________________________________________________________________________________\n",
      "conv3d_9 (Conv3D)                                (None, 1, 1, 1, 256)             884992            conv3d_8[0][0]                                    \n",
      "______________________________________________________________________________________________________________________________________________________\n",
      "flatten_1 (Flatten)                              (None, 256)                      0                 conv3d_9[0][0]                                    \n",
      "______________________________________________________________________________________________________________________________________________________\n",
      "dense_1 (Dense)                                  (None, 128)                      32896             flatten_1[0][0]                                   \n",
      "______________________________________________________________________________________________________________________________________________________\n",
      "s_mean (Dense)                                   (None, 16)                       2064              dense_1[0][0]                                     \n",
      "______________________________________________________________________________________________________________________________________________________\n",
      "s_log_var (Dense)                                (None, 16)                       2064              dense_1[0][0]                                     \n",
      "______________________________________________________________________________________________________________________________________________________\n",
      "s (Lambda)                                       (None, 16)                       0                 s_mean[0][0]                                      \n",
      "                                                                                                    s_log_var[0][0]                                   \n",
      "======================================================================================================================================================\n",
      "Total params: 1,234,592\n",
      "Trainable params: 1,234,592\n",
      "Non-trainable params: 0\n",
      "______________________________________________________________________________________________________________________________________________________\n"
     ]
    }
   ],
   "source": [
    "s_encoder.summary(line_length=150)"
   ]
  },
  {
   "cell_type": "code",
   "execution_count": 22,
   "id": "8d5101aa",
   "metadata": {
    "execution": {
     "iopub.execute_input": "2021-10-20T16:50:13.838634Z",
     "iopub.status.busy": "2021-10-20T16:50:13.837948Z",
     "iopub.status.idle": "2021-10-20T16:50:13.841324Z",
     "shell.execute_reply": "2021-10-20T16:50:13.840946Z"
    },
    "papermill": {
     "duration": 0.029597,
     "end_time": "2021-10-20T16:50:13.841428",
     "exception": false,
     "start_time": "2021-10-20T16:50:13.811831",
     "status": "completed"
    },
    "tags": []
   },
   "outputs": [
    {
     "name": "stdout",
     "output_type": "stream",
     "text": [
      "Model: \"decoder\"\n",
      "______________________________________________________________________________________________________________________________________________________\n",
      "Layer (type)                                                       Output Shape                                                Param #                \n",
      "======================================================================================================================================================\n",
      "z_sampling (InputLayer)                                            [(None, 144)]                                               0                      \n",
      "______________________________________________________________________________________________________________________________________________________\n",
      "dense_2 (Dense)                                                    (None, 128)                                                 18560                  \n",
      "______________________________________________________________________________________________________________________________________________________\n",
      "dense_3 (Dense)                                                    (None, 256)                                                 33024                  \n",
      "______________________________________________________________________________________________________________________________________________________\n",
      "reshape (Reshape)                                                  (None, 1, 1, 1, 256)                                        0                      \n",
      "______________________________________________________________________________________________________________________________________________________\n",
      "conv3d_transpose (Conv3DTranspose)                                 (None, 2, 2, 2, 128)                                        884864                 \n",
      "______________________________________________________________________________________________________________________________________________________\n",
      "conv3d_transpose_1 (Conv3DTranspose)                               (None, 4, 4, 4, 64)                                         221248                 \n",
      "______________________________________________________________________________________________________________________________________________________\n",
      "conv3d_transpose_2 (Conv3DTranspose)                               (None, 8, 8, 8, 32)                                         55328                  \n",
      "______________________________________________________________________________________________________________________________________________________\n",
      "conv3d_transpose_3 (Conv3DTranspose)                               (None, 16, 16, 16, 16)                                      13840                  \n",
      "______________________________________________________________________________________________________________________________________________________\n",
      "decoder_output (Conv3DTranspose)                                   (None, 32, 32, 32, 51)                                      22083                  \n",
      "======================================================================================================================================================\n",
      "Total params: 1,248,947\n",
      "Trainable params: 1,248,947\n",
      "Non-trainable params: 0\n",
      "______________________________________________________________________________________________________________________________________________________\n"
     ]
    }
   ],
   "source": [
    "cvae_decoder.summary(line_length=150)"
   ]
  },
  {
   "cell_type": "code",
   "execution_count": 23,
   "id": "f7409139",
   "metadata": {
    "execution": {
     "iopub.execute_input": "2021-10-20T16:50:13.891530Z",
     "iopub.status.busy": "2021-10-20T16:50:13.891030Z",
     "iopub.status.idle": "2021-10-20T16:50:13.892267Z",
     "shell.execute_reply": "2021-10-20T16:50:13.891914Z"
    },
    "papermill": {
     "duration": 0.027959,
     "end_time": "2021-10-20T16:50:13.892366",
     "exception": false,
     "start_time": "2021-10-20T16:50:13.864407",
     "status": "completed"
    },
    "tags": []
   },
   "outputs": [],
   "source": [
    "loss = list()\n",
    "c_sim = list()\n",
    "all_rsas = list()\n",
    "sigmas = list()\n",
    "mus = list()"
   ]
  },
  {
   "cell_type": "code",
   "execution_count": 24,
   "id": "4feda31d",
   "metadata": {
    "execution": {
     "iopub.execute_input": "2021-10-20T16:50:13.941949Z",
     "iopub.status.busy": "2021-10-20T16:50:13.941456Z",
     "iopub.status.idle": "2021-10-20T16:50:13.942688Z",
     "shell.execute_reply": "2021-10-20T16:50:13.942328Z"
    },
    "papermill": {
     "duration": 0.028168,
     "end_time": "2021-10-20T16:50:13.942787",
     "exception": false,
     "start_time": "2021-10-20T16:50:13.914619",
     "status": "completed"
    },
    "tags": []
   },
   "outputs": [],
   "source": [
    "data_loader = cvae_data_loader(data_dir=data_dir, df=df, batch_size=batch_size)"
   ]
  },
  {
   "cell_type": "code",
   "execution_count": 25,
   "id": "bfd395ca",
   "metadata": {
    "execution": {
     "iopub.execute_input": "2021-10-20T16:50:14.013206Z",
     "iopub.status.busy": "2021-10-20T16:50:14.011921Z",
     "iopub.status.idle": "2021-10-20T20:55:04.662520Z",
     "shell.execute_reply": "2021-10-20T20:55:04.662791Z"
    },
    "papermill": {
     "duration": 14690.698021,
     "end_time": "2021-10-20T20:55:04.662930",
     "exception": false,
     "start_time": "2021-10-20T16:50:13.964909",
     "status": "completed"
    },
    "tags": []
   },
   "outputs": [
    {
     "data": {
      "text/plain": [
       "<Figure size 432x288 with 0 Axes>"
      ]
     },
     "metadata": {},
     "output_type": "display_data"
    },
    {
     "name": "stderr",
     "output_type": "stream",
     "text": [
      "<ipython-input-16-d442e9520a4d>:52: MatplotlibDeprecationWarning: Passing non-integers as three-element position specification is deprecated since 3.3 and will be removed two minor releases later.\n",
      "  plt.subplot(nrows,ncols/2,1) # PLOT LOSS\n"
     ]
    },
    {
     "data": {
      "image/png": "[encoded data removed]",
      "text/plain": [
       "<Figure size 1080x1080 with 21 Axes>"
      ]
     },
     "metadata": {
      "needs_background": "light"
     },
     "output_type": "display_data"
    },
    {
     "name": "stderr",
     "output_type": "stream",
     "text": [
      "\n"
     ]
    },
    {
     "name": "stderr",
     "output_type": "stream",
     "text": [
      "\r",
      "100%|██████████| 100/100 [4:04:50<00:00, 144.54s/it]"
     ]
    },
    {
     "name": "stderr",
     "output_type": "stream",
     "text": [
      "\u001b[A"
     ]
    },
    {
     "name": "stderr",
     "output_type": "stream",
     "text": [
      "\r",
      "100%|██████████| 100/100 [4:04:50<00:00, 146.91s/it]"
     ]
    },
    {
     "name": "stderr",
     "output_type": "stream",
     "text": [
      "\n"
     ]
    }
   ],
   "source": [
    "#import make_models;reload(make_models);from make_models import *\n",
    "#import helper_funcs;reload(helper_funcs);from helper_funcs import *\n",
    "\n",
    "for epoch in tqdm(range(100),position=1, leave=True):\n",
    "    for i in range(data_loader.n_batches):\n",
    "        \n",
    "        patient_batch,control_batch,batch_df = data_loader.get_batch() # Get a batch\n",
    "        hist = cvae.train_on_batch([patient_batch,control_batch]) # pass a batch\n",
    "        assert not np.isnan(hist),'loss is NaN - you f**cked up'  # check nothing crashed\n",
    "        loss.append(hist) # keep track of loss\n",
    "        \n",
    "        cvae.save_weights(os.path.join(save_dir,'cvae_weights')) # SAVE WEIGHTS\n",
    "        np.save(os.path.join(save_dir,'cvae_loss.npy'),np.array(loss)) # Save loss\n",
    "        \n",
    "        if np.mod(i,10)==0:\n",
    "            batch_rsas = get_batch_rsas(data_dir,df,z_encoder,s_encoder,batch_size=(df['DX_GROUP'].values==1).sum())\n",
    "            cvae_dashboard() # plot training progress\n",
    "        "
   ]
  },
  {
   "cell_type": "code",
   "execution_count": null,
   "id": "97d0e7ea",
   "metadata": {
    "papermill": {
     "duration": 0.021612,
     "end_time": "2021-10-20T20:55:04.709352",
     "exception": false,
     "start_time": "2021-10-20T20:55:04.687740",
     "status": "completed"
    },
    "tags": []
   },
   "outputs": [],
   "source": []
  },
  {
   "cell_type": "code",
   "execution_count": null,
   "id": "9d886251",
   "metadata": {
    "papermill": {
     "duration": 0.021589,
     "end_time": "2021-10-20T20:55:04.753366",
     "exception": false,
     "start_time": "2021-10-20T20:55:04.731777",
     "status": "completed"
    },
    "tags": []
   },
   "outputs": [],
   "source": []
  },
  {
   "cell_type": "code",
   "execution_count": null,
   "id": "746aec72",
   "metadata": {
    "papermill": {
     "duration": 0.021326,
     "end_time": "2021-10-20T20:55:04.795554",
     "exception": false,
     "start_time": "2021-10-20T20:55:04.774228",
     "status": "completed"
    },
    "tags": []
   },
   "outputs": [],
   "source": []
  },
  {
   "cell_type": "code",
   "execution_count": null,
   "id": "561b63a6",
   "metadata": {
    "papermill": {
     "duration": 0.021591,
     "end_time": "2021-10-20T20:55:04.838814",
     "exception": false,
     "start_time": "2021-10-20T20:55:04.817223",
     "status": "completed"
    },
    "tags": []
   },
   "outputs": [],
   "source": []
  },
  {
   "cell_type": "code",
   "execution_count": null,
   "id": "5e4bef75",
   "metadata": {
    "papermill": {
     "duration": 0.02249,
     "end_time": "2021-10-20T20:55:04.882711",
     "exception": false,
     "start_time": "2021-10-20T20:55:04.860221",
     "status": "completed"
    },
    "tags": []
   },
   "outputs": [],
   "source": []
  },
  {
   "cell_type": "code",
   "execution_count": null,
   "id": "a8b67e7e",
   "metadata": {
    "papermill": {
     "duration": 0.022484,
     "end_time": "2021-10-20T20:55:04.926852",
     "exception": false,
     "start_time": "2021-10-20T20:55:04.904368",
     "status": "completed"
    },
    "tags": []
   },
   "outputs": [],
   "source": []
  },
  {
   "cell_type": "code",
   "execution_count": 26,
   "id": "f94bb17b",
   "metadata": {
    "execution": {
     "iopub.execute_input": "2021-10-20T20:55:04.982069Z",
     "iopub.status.busy": "2021-10-20T20:55:04.975448Z",
     "iopub.status.idle": "2021-10-20T20:55:04.991555Z",
     "shell.execute_reply": "2021-10-20T20:55:04.991293Z"
    },
    "papermill": {
     "duration": 0.042323,
     "end_time": "2021-10-20T20:55:04.991622",
     "exception": false,
     "start_time": "2021-10-20T20:55:04.949299",
     "status": "completed"
    },
    "tags": []
   },
   "outputs": [
    {
     "name": "stdout",
     "output_type": "stream",
     "text": [
      "Model: \"contrastive_vae\"\n",
      "______________________________________________________________________________________________________________________________________________________\n",
      "Layer (type)                                     Output Shape                     Param #           Connected to                                      \n",
      "======================================================================================================================================================\n",
      "tg_inputs (InputLayer)                           [(None, 32, 32, 32, 51)]         0                                                                   \n",
      "______________________________________________________________________________________________________________________________________________________\n",
      "conv3d_5 (Conv3D)                                (None, 16, 16, 16, 16)           22048             tg_inputs[0][0]                                   \n",
      "______________________________________________________________________________________________________________________________________________________\n",
      "bg_inputs (InputLayer)                           [(None, 32, 32, 32, 51)]         0                                                                   \n",
      "______________________________________________________________________________________________________________________________________________________\n",
      "conv3d (Conv3D)                                  (None, 16, 16, 16, 16)           22048             tg_inputs[0][0]                                   \n",
      "______________________________________________________________________________________________________________________________________________________\n",
      "conv3d_6 (Conv3D)                                (None, 8, 8, 8, 32)              13856             conv3d_5[0][0]                                    \n",
      "______________________________________________________________________________________________________________________________________________________\n",
      "conv3d_10 (Conv3D)                               (None, 16, 16, 16, 16)           22048             bg_inputs[0][0]                                   \n",
      "______________________________________________________________________________________________________________________________________________________\n",
      "conv3d_1 (Conv3D)                                (None, 8, 8, 8, 32)              13856             conv3d[0][0]                                      \n",
      "______________________________________________________________________________________________________________________________________________________\n",
      "conv3d_7 (Conv3D)                                (None, 4, 4, 4, 64)              55360             conv3d_6[0][0]                                    \n",
      "______________________________________________________________________________________________________________________________________________________\n",
      "conv3d_11 (Conv3D)                               (None, 8, 8, 8, 32)              13856             conv3d_10[0][0]                                   \n",
      "______________________________________________________________________________________________________________________________________________________\n",
      "conv3d_2 (Conv3D)                                (None, 4, 4, 4, 64)              55360             conv3d_1[0][0]                                    \n",
      "______________________________________________________________________________________________________________________________________________________\n",
      "conv3d_8 (Conv3D)                                (None, 2, 2, 2, 128)             221312            conv3d_7[0][0]                                    \n",
      "______________________________________________________________________________________________________________________________________________________\n",
      "conv3d_12 (Conv3D)                               (None, 4, 4, 4, 64)              55360             conv3d_11[0][0]                                   \n",
      "______________________________________________________________________________________________________________________________________________________\n",
      "conv3d_3 (Conv3D)                                (None, 2, 2, 2, 128)             221312            conv3d_2[0][0]                                    \n",
      "______________________________________________________________________________________________________________________________________________________\n",
      "conv3d_9 (Conv3D)                                (None, 1, 1, 1, 256)             884992            conv3d_8[0][0]                                    \n",
      "______________________________________________________________________________________________________________________________________________________\n",
      "conv3d_13 (Conv3D)                               (None, 2, 2, 2, 128)             221312            conv3d_12[0][0]                                   \n",
      "______________________________________________________________________________________________________________________________________________________\n",
      "conv3d_4 (Conv3D)                                (None, 1, 1, 1, 256)             884992            conv3d_3[0][0]                                    \n",
      "______________________________________________________________________________________________________________________________________________________\n",
      "flatten_1 (Flatten)                              (None, 256)                      0                 conv3d_9[0][0]                                    \n",
      "______________________________________________________________________________________________________________________________________________________\n",
      "conv3d_14 (Conv3D)                               (None, 1, 1, 1, 256)             884992            conv3d_13[0][0]                                   \n",
      "______________________________________________________________________________________________________________________________________________________\n",
      "flatten (Flatten)                                (None, 256)                      0                 conv3d_4[0][0]                                    \n",
      "______________________________________________________________________________________________________________________________________________________\n",
      "dense_1 (Dense)                                  (None, 128)                      32896             flatten_1[0][0]                                   \n",
      "______________________________________________________________________________________________________________________________________________________\n",
      "flatten_2 (Flatten)                              (None, 256)                      0                 conv3d_14[0][0]                                   \n",
      "______________________________________________________________________________________________________________________________________________________\n",
      "dense (Dense)                                    (None, 128)                      32896             flatten[0][0]                                     \n",
      "                                                                                                    flatten_2[0][0]                                   \n",
      "______________________________________________________________________________________________________________________________________________________\n",
      "s_mean (Dense)                                   (None, 16)                       2064              dense_1[0][0]                                     \n",
      "______________________________________________________________________________________________________________________________________________________\n",
      "s_log_var (Dense)                                (None, 16)                       2064              dense_1[0][0]                                     \n",
      "______________________________________________________________________________________________________________________________________________________\n",
      "z_mean (Dense)                                   (None, 128)                      16512             dense[0][0]                                       \n",
      "                                                                                                    dense[1][0]                                       \n",
      "______________________________________________________________________________________________________________________________________________________\n",
      "z_log_var (Dense)                                (None, 128)                      16512             dense[0][0]                                       \n",
      "                                                                                                    dense[1][0]                                       \n",
      "______________________________________________________________________________________________________________________________________________________\n",
      "s (Lambda)                                       (None, 16)                       0                 s_mean[0][0]                                      \n",
      "                                                                                                    s_log_var[0][0]                                   \n",
      "______________________________________________________________________________________________________________________________________________________\n",
      "z (Lambda)                                       (None, 128)                      0                 z_mean[0][0]                                      \n",
      "                                                                                                    z_log_var[0][0]                                   \n",
      "                                                                                                    z_mean[1][0]                                      \n",
      "                                                                                                    z_log_var[1][0]                                   \n",
      "______________________________________________________________________________________________________________________________________________________\n",
      "lambda (Lambda)                                  (None, 16)                       0                 s[0][0]                                           \n",
      "______________________________________________________________________________________________________________________________________________________\n",
      "concatenate (Concatenate)                        (None, 144)                      0                 z[0][0]                                           \n",
      "                                                                                                    s[0][0]                                           \n",
      "______________________________________________________________________________________________________________________________________________________\n",
      "concatenate_1 (Concatenate)                      (None, 144)                      0                 z[1][0]                                           \n",
      "                                                                                                    lambda[0][0]                                      \n",
      "______________________________________________________________________________________________________________________________________________________\n",
      "decoder (Functional)                             (None, 32, 32, 32, 51)           1248947           concatenate[0][0]                                 \n",
      "                                                                                                    concatenate_1[0][0]                               \n",
      "______________________________________________________________________________________________________________________________________________________\n",
      "lambda_3 (Lambda)                                (None, 16)                       0                 s[0][0]                                           \n",
      "______________________________________________________________________________________________________________________________________________________\n",
      "lambda_1 (Lambda)                                (None, 128)                      0                 z[0][0]                                           \n",
      "______________________________________________________________________________________________________________________________________________________\n",
      "lambda_4 (Lambda)                                (None, 16)                       0                 s[0][0]                                           \n",
      "______________________________________________________________________________________________________________________________________________________\n",
      "lambda_2 (Lambda)                                (None, 128)                      0                 z[0][0]                                           \n",
      "______________________________________________________________________________________________________________________________________________________\n",
      "tf_op_layer_AddV2_3 (TensorFlowOpLayer)          [(None, 128)]                    0                 z_log_var[0][0]                                   \n",
      "______________________________________________________________________________________________________________________________________________________\n",
      "tf_op_layer_Square (TensorFlowOpLayer)           [(None, 128)]                    0                 z_mean[0][0]                                      \n",
      "______________________________________________________________________________________________________________________________________________________\n",
      "tf_op_layer_AddV2_4 (TensorFlowOpLayer)          [(None, 16)]                     0                 s_log_var[0][0]                                   \n",
      "______________________________________________________________________________________________________________________________________________________\n",
      "tf_op_layer_Square_1 (TensorFlowOpLayer)         [(None, 16)]                     0                 s_mean[0][0]                                      \n",
      "______________________________________________________________________________________________________________________________________________________\n",
      "concatenate_5 (Concatenate)                      (None, 144)                      0                 lambda_3[0][0]                                    \n",
      "                                                                                                    lambda_1[0][0]                                    \n",
      "______________________________________________________________________________________________________________________________________________________\n",
      "concatenate_6 (Concatenate)                      (None, 144)                      0                 lambda_4[0][0]                                    \n",
      "                                                                                                    lambda_2[0][0]                                    \n",
      "______________________________________________________________________________________________________________________________________________________\n",
      "tf_op_layer_Sub_3 (TensorFlowOpLayer)            [(None, 128)]                    0                 tf_op_layer_AddV2_3[0][0]                         \n",
      "                                                                                                    tf_op_layer_Square[0][0]                          \n",
      "______________________________________________________________________________________________________________________________________________________\n",
      "tf_op_layer_Exp (TensorFlowOpLayer)              [(None, 128)]                    0                 z_log_var[0][0]                                   \n",
      "______________________________________________________________________________________________________________________________________________________\n",
      "tf_op_layer_Sub_5 (TensorFlowOpLayer)            [(None, 16)]                     0                 tf_op_layer_AddV2_4[0][0]                         \n",
      "                                                                                                    tf_op_layer_Square_1[0][0]                        \n",
      "______________________________________________________________________________________________________________________________________________________\n",
      "tf_op_layer_Exp_1 (TensorFlowOpLayer)            [(None, 16)]                     0                 s_log_var[0][0]                                   \n",
      "______________________________________________________________________________________________________________________________________________________\n",
      "tf_op_layer_AddV2_5 (TensorFlowOpLayer)          [(None, 128)]                    0                 z_log_var[1][0]                                   \n",
      "______________________________________________________________________________________________________________________________________________________\n",
      "tf_op_layer_Square_2 (TensorFlowOpLayer)         [(None, 128)]                    0                 z_mean[1][0]                                      \n",
      "______________________________________________________________________________________________________________________________________________________\n",
      "concatenate_7 (Concatenate)                      (None, 144)                      0                 concatenate_5[0][0]                               \n",
      "                                                                                                    concatenate_6[0][0]                               \n",
      "______________________________________________________________________________________________________________________________________________________\n",
      "tf_op_layer_Sub_4 (TensorFlowOpLayer)            [(None, 128)]                    0                 tf_op_layer_Sub_3[0][0]                           \n",
      "                                                                                                    tf_op_layer_Exp[0][0]                             \n",
      "______________________________________________________________________________________________________________________________________________________\n",
      "tf_op_layer_Sub_6 (TensorFlowOpLayer)            [(None, 16)]                     0                 tf_op_layer_Sub_5[0][0]                           \n",
      "                                                                                                    tf_op_layer_Exp_1[0][0]                           \n",
      "______________________________________________________________________________________________________________________________________________________\n",
      "tf_op_layer_Sub_7 (TensorFlowOpLayer)            [(None, 128)]                    0                 tf_op_layer_AddV2_5[0][0]                         \n",
      "                                                                                                    tf_op_layer_Square_2[0][0]                        \n",
      "______________________________________________________________________________________________________________________________________________________\n",
      "tf_op_layer_Exp_2 (TensorFlowOpLayer)            [(None, 128)]                    0                 z_log_var[1][0]                                   \n",
      "______________________________________________________________________________________________________________________________________________________\n",
      "dense_4 (Dense)                                  (None, 1)                        145               concatenate_4[0][0]                               \n",
      "                                                                                                    concatenate_7[0][0]                               \n",
      "______________________________________________________________________________________________________________________________________________________\n",
      "concatenate_2 (Concatenate)                      (None, 144)                      0                 lambda_3[0][0]                                    \n",
      "                                                                                                    lambda_2[0][0]                                    \n",
      "______________________________________________________________________________________________________________________________________________________\n",
      "concatenate_3 (Concatenate)                      (None, 144)                      0                 lambda_4[0][0]                                    \n",
      "                                                                                                    lambda_1[0][0]                                    \n",
      "______________________________________________________________________________________________________________________________________________________\n",
      "tf_op_layer_Reshape_1 (TensorFlowOpLayer)        [(None,)]                        0                 decoder[0][0]                                     \n",
      "______________________________________________________________________________________________________________________________________________________\n",
      "tf_op_layer_Reshape (TensorFlowOpLayer)          [(None,)]                        0                 tg_inputs[0][0]                                   \n",
      "______________________________________________________________________________________________________________________________________________________\n",
      "tf_op_layer_Reshape_3 (TensorFlowOpLayer)        [(None,)]                        0                 decoder[1][0]                                     \n",
      "______________________________________________________________________________________________________________________________________________________\n",
      "tf_op_layer_Reshape_2 (TensorFlowOpLayer)        [(None,)]                        0                 bg_inputs[0][0]                                   \n",
      "______________________________________________________________________________________________________________________________________________________\n",
      "tf_op_layer_Sum (TensorFlowOpLayer)              [(None,)]                        0                 tf_op_layer_Sub_4[0][0]                           \n",
      "______________________________________________________________________________________________________________________________________________________\n",
      "tf_op_layer_Sum_1 (TensorFlowOpLayer)            [(None,)]                        0                 tf_op_layer_Sub_6[0][0]                           \n",
      "______________________________________________________________________________________________________________________________________________________\n",
      "tf_op_layer_Sub_8 (TensorFlowOpLayer)            [(None, 128)]                    0                 tf_op_layer_Sub_7[0][0]                           \n",
      "                                                                                                    tf_op_layer_Exp_2[0][0]                           \n",
      "______________________________________________________________________________________________________________________________________________________\n",
      "tf_op_layer_AddV2_1 (TensorFlowOpLayer)          [(None, 1)]                      0                 dense_4[1][0]                                     \n",
      "______________________________________________________________________________________________________________________________________________________\n",
      "concatenate_4 (Concatenate)                      (None, 144)                      0                 concatenate_2[0][0]                               \n",
      "                                                                                                    concatenate_3[0][0]                               \n",
      "______________________________________________________________________________________________________________________________________________________\n",
      "tf_op_layer_SquaredDifference (TensorFlowOpLayer [(None,)]                        0                 tf_op_layer_Reshape_1[0][0]                       \n",
      "                                                                                                    tf_op_layer_Reshape[0][0]                         \n",
      "______________________________________________________________________________________________________________________________________________________\n",
      "tf_op_layer_SquaredDifference_1 (TensorFlowOpLay [(None,)]                        0                 tf_op_layer_Reshape_3[0][0]                       \n",
      "                                                                                                    tf_op_layer_Reshape_2[0][0]                       \n",
      "______________________________________________________________________________________________________________________________________________________\n",
      "tf_op_layer_AddV2_6 (TensorFlowOpLayer)          [(None,)]                        0                 tf_op_layer_Sum[0][0]                             \n",
      "                                                                                                    tf_op_layer_Sum_1[0][0]                           \n",
      "______________________________________________________________________________________________________________________________________________________\n",
      "tf_op_layer_Sum_2 (TensorFlowOpLayer)            [(None,)]                        0                 tf_op_layer_Sub_8[0][0]                           \n",
      "______________________________________________________________________________________________________________________________________________________\n",
      "tf_op_layer_Mul_1 (TensorFlowOpLayer)            [(None, 1)]                      0                 tf_op_layer_AddV2_1[0][0]                         \n",
      "______________________________________________________________________________________________________________________________________________________\n",
      "tf_op_layer_Mean (TensorFlowOpLayer)             [()]                             0                 tf_op_layer_SquaredDifference[0][0]               \n",
      "______________________________________________________________________________________________________________________________________________________\n",
      "tf_op_layer_Mean_1 (TensorFlowOpLayer)           [()]                             0                 tf_op_layer_SquaredDifference_1[0][0]             \n",
      "______________________________________________________________________________________________________________________________________________________\n",
      "tf_op_layer_AddV2_7 (TensorFlowOpLayer)          [(None,)]                        0                 tf_op_layer_AddV2_6[0][0]                         \n",
      "                                                                                                    tf_op_layer_Sum_2[0][0]                           \n",
      "______________________________________________________________________________________________________________________________________________________\n",
      "tf_op_layer_Sub (TensorFlowOpLayer)              [(None, 1)]                      0                 tf_op_layer_Mul_1[0][0]                           \n",
      "______________________________________________________________________________________________________________________________________________________\n",
      "tf_op_layer_AddV2 (TensorFlowOpLayer)            [(None, 1)]                      0                 dense_4[0][0]                                     \n",
      "______________________________________________________________________________________________________________________________________________________\n",
      "tf_op_layer_AddV2_2 (TensorFlowOpLayer)          [()]                             0                 tf_op_layer_Mean[0][0]                            \n",
      "                                                                                                    tf_op_layer_Mean_1[0][0]                          \n",
      "______________________________________________________________________________________________________________________________________________________\n",
      "tf_op_layer_Mul_3 (TensorFlowOpLayer)            [(None,)]                        0                 tf_op_layer_AddV2_7[0][0]                         \n",
      "______________________________________________________________________________________________________________________________________________________\n",
      "tf_op_layer_RealDiv (TensorFlowOpLayer)          [(None, 1)]                      0                 tf_op_layer_Mul_1[0][0]                           \n",
      "                                                                                                    tf_op_layer_Sub[0][0]                             \n",
      "______________________________________________________________________________________________________________________________________________________\n",
      "tf_op_layer_Mul (TensorFlowOpLayer)              [(None, 1)]                      0                 tf_op_layer_AddV2[0][0]                           \n",
      "______________________________________________________________________________________________________________________________________________________\n",
      "tf_op_layer_Mul_2 (TensorFlowOpLayer)            [()]                             0                 tf_op_layer_AddV2_2[0][0]                         \n",
      "______________________________________________________________________________________________________________________________________________________\n",
      "tf_op_layer_Mul_4 (TensorFlowOpLayer)            [(None,)]                        0                 tf_op_layer_Mul_3[0][0]                           \n",
      "______________________________________________________________________________________________________________________________________________________\n",
      "tf_op_layer_Log (TensorFlowOpLayer)              [(None, 1)]                      0                 tf_op_layer_RealDiv[0][0]                         \n",
      "______________________________________________________________________________________________________________________________________________________\n",
      "tf_op_layer_Log_1 (TensorFlowOpLayer)            [(None, 1)]                      0                 tf_op_layer_Mul_1[0][0]                           \n",
      "______________________________________________________________________________________________________________________________________________________\n",
      "tf_op_layer_Sub_1 (TensorFlowOpLayer)            [(None, 1)]                      0                 tf_op_layer_Mul[0][0]                             \n",
      "______________________________________________________________________________________________________________________________________________________\n",
      "tf_op_layer_AddV2_8 (TensorFlowOpLayer)          [(None,)]                        0                 tf_op_layer_Mul_2[0][0]                           \n",
      "                                                                                                    tf_op_layer_Mul_4[0][0]                           \n",
      "______________________________________________________________________________________________________________________________________________________\n",
      "tf_op_layer_Mul_5 (TensorFlowOpLayer)            [(None, 1)]                      0                 tf_op_layer_Log[0][0]                             \n",
      "______________________________________________________________________________________________________________________________________________________\n",
      "tf_op_layer_Neg (TensorFlowOpLayer)              [(None, 1)]                      0                 tf_op_layer_Log_1[0][0]                           \n",
      "______________________________________________________________________________________________________________________________________________________\n",
      "tf_op_layer_Log_2 (TensorFlowOpLayer)            [(None, 1)]                      0                 tf_op_layer_Sub_1[0][0]                           \n",
      "______________________________________________________________________________________________________________________________________________________\n",
      "tf_op_layer_AddV2_9 (TensorFlowOpLayer)          [(None, None)]                   0                 tf_op_layer_AddV2_8[0][0]                         \n",
      "                                                                                                    tf_op_layer_Mul_5[0][0]                           \n",
      "______________________________________________________________________________________________________________________________________________________\n",
      "tf_op_layer_Sub_2 (TensorFlowOpLayer)            [(None, 1)]                      0                 tf_op_layer_Neg[0][0]                             \n",
      "                                                                                                    tf_op_layer_Log_2[0][0]                           \n",
      "______________________________________________________________________________________________________________________________________________________\n",
      "tf_op_layer_AddV2_10 (TensorFlowOpLayer)         [(None, None)]                   0                 tf_op_layer_AddV2_9[0][0]                         \n",
      "                                                                                                    tf_op_layer_Sub_2[0][0]                           \n",
      "______________________________________________________________________________________________________________________________________________________\n",
      "tf_op_layer_Mean_2 (TensorFlowOpLayer)           [()]                             0                 tf_op_layer_AddV2_10[0][0]                        \n",
      "______________________________________________________________________________________________________________________________________________________\n",
      "add_loss (AddLoss)                               ()                               0                 tf_op_layer_Mean_2[0][0]                          \n",
      "======================================================================================================================================================\n",
      "Total params: 4,944,740\n",
      "Trainable params: 4,944,740\n",
      "Non-trainable params: 0\n",
      "______________________________________________________________________________________________________________________________________________________\n"
     ]
    }
   ],
   "source": [
    "cvae.summary(line_length=150)"
   ]
  },
  {
   "cell_type": "code",
   "execution_count": null,
   "id": "c9f7058e",
   "metadata": {
    "papermill": {
     "duration": 0.022394,
     "end_time": "2021-10-20T20:55:05.035924",
     "exception": false,
     "start_time": "2021-10-20T20:55:05.013530",
     "status": "completed"
    },
    "tags": []
   },
   "outputs": [],
   "source": []
  },
  {
   "cell_type": "code",
   "execution_count": null,
   "id": "9a4683d8",
   "metadata": {
    "papermill": {
     "duration": 0.023015,
     "end_time": "2021-10-20T20:55:05.081067",
     "exception": false,
     "start_time": "2021-10-20T20:55:05.058052",
     "status": "completed"
    },
    "tags": []
   },
   "outputs": [],
   "source": []
  }
 ],
 "metadata": {
  "kernelspec": {
   "display_name": "Python 3",
   "language": "python",
   "name": "python3"
  },
  "language_info": {
   "codemirror_mode": {
    "name": "ipython",
    "version": 3
   },
   "file_extension": ".py",
   "mimetype": "text/x-python",
   "name": "python",
   "nbconvert_exporter": "python",
   "pygments_lexer": "ipython3",
   "version": "3.8.5"
  },
  "papermill": {
   "default_parameters": {},
   "duration": 14725.651947,
   "end_time": "2021-10-20T20:55:07.274023",
   "environment_variables": {},
   "exception": null,
   "input_path": "01-train-CVAE.ipynb",
   "output_path": "./papermill/papermill|01-train-CVAE|2021-10-20-12-49-39.ipynb",
   "parameters": {},
   "start_time": "2021-10-20T16:49:41.622076",
   "version": "2.3.3"
  }
 },
 "nbformat": 4,
 "nbformat_minor": 5
}