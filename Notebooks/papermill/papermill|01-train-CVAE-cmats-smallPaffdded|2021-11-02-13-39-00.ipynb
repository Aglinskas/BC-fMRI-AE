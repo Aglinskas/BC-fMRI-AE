{
 "cells": [
  {
   "cell_type": "code",
   "execution_count": 1,
   "id": "cfc0abd3",
   "metadata": {
    "execution": {
     "iopub.execute_input": "2021-11-02T17:39:05.235040Z",
     "iopub.status.busy": "2021-11-02T17:39:05.234696Z",
     "iopub.status.idle": "2021-11-02T17:39:05.236704Z",
     "shell.execute_reply": "2021-11-02T17:39:05.236365Z"
    },
    "papermill": {
     "duration": 0.030762,
     "end_time": "2021-11-02T17:39:05.236814",
     "exception": false,
     "start_time": "2021-11-02T17:39:05.206052",
     "status": "completed"
    },
    "tags": []
   },
   "outputs": [
    {
     "data": {
      "text/plain": [
       "'/mmfs1/data/aglinska/BC-fMRI-AE/Notebooks'"
      ]
     },
     "execution_count": 1,
     "metadata": {},
     "output_type": "execute_result"
    }
   ],
   "source": [
    "pwd"
   ]
  },
  {
   "cell_type": "code",
   "execution_count": 2,
   "id": "4eb35fae",
   "metadata": {
    "execution": {
     "iopub.execute_input": "2021-11-02T17:39:05.273266Z",
     "iopub.status.busy": "2021-11-02T17:39:05.272946Z",
     "iopub.status.idle": "2021-11-02T17:39:05.274520Z",
     "shell.execute_reply": "2021-11-02T17:39:05.274236Z"
    },
    "papermill": {
     "duration": 0.019566,
     "end_time": "2021-11-02T17:39:05.274592",
     "exception": false,
     "start_time": "2021-11-02T17:39:05.255026",
     "status": "completed"
    },
    "tags": []
   },
   "outputs": [],
   "source": [
    "import os\n",
    "os.environ['CUDA_VISIBLE_DEVICES']='3'"
   ]
  },
  {
   "cell_type": "code",
   "execution_count": 3,
   "id": "6c93eddb",
   "metadata": {
    "execution": {
     "iopub.execute_input": "2021-11-02T17:39:05.308736Z",
     "iopub.status.busy": "2021-11-02T17:39:05.308409Z",
     "iopub.status.idle": "2021-11-02T17:39:05.429954Z",
     "shell.execute_reply": "2021-11-02T17:39:05.429682Z"
    },
    "papermill": {
     "duration": 0.139313,
     "end_time": "2021-11-02T17:39:05.430028",
     "exception": false,
     "start_time": "2021-11-02T17:39:05.290715",
     "status": "completed"
    },
    "tags": []
   },
   "outputs": [
    {
     "name": "stdout",
     "output_type": "stream",
     "text": [
      "              total        used        free      shared  buff/cache   available\r\n",
      "Mem:            187           5         178           0           2         179\r\n",
      "Swap:            11           0          11\r\n"
     ]
    }
   ],
   "source": [
    "!free -g"
   ]
  },
  {
   "cell_type": "code",
   "execution_count": 4,
   "id": "c0043ebf",
   "metadata": {
    "execution": {
     "iopub.execute_input": "2021-11-02T17:39:05.464238Z",
     "iopub.status.busy": "2021-11-02T17:39:05.463915Z",
     "iopub.status.idle": "2021-11-02T17:39:05.754774Z",
     "shell.execute_reply": "2021-11-02T17:39:05.755024Z"
    },
    "papermill": {
     "duration": 0.30912,
     "end_time": "2021-11-02T17:39:05.755114",
     "exception": false,
     "start_time": "2021-11-02T17:39:05.445994",
     "status": "completed"
    },
    "tags": []
   },
   "outputs": [
    {
     "name": "stdout",
     "output_type": "stream",
     "text": [
      "Tue Nov  2 13:39:05 2021       \r\n",
      "+-----------------------------------------------------------------------------+\r\n",
      "| NVIDIA-SMI 450.51.05    Driver Version: 450.51.05    CUDA Version: 11.0     |\r\n",
      "|-------------------------------+----------------------+----------------------+\r\n",
      "| GPU  Name        Persistence-M| Bus-Id        Disp.A | Volatile Uncorr. ECC |\r\n",
      "| Fan  Temp  Perf  Pwr:Usage/Cap|         Memory-Usage | GPU-Util  Compute M. |\r\n",
      "|                               |                      |               MIG M. |\r\n",
      "|===============================+======================+======================|\r\n",
      "|   0  Tesla V100-SXM2...  On   | 00000000:18:00.0 Off |                    0 |\r\n",
      "| N/A   40C    P0    70W / 300W |      0MiB / 16160MiB |      0%      Default |\r\n",
      "|                               |                      |                  N/A |\r\n",
      "+-------------------------------+----------------------+----------------------+\r\n",
      "|   1  Tesla V100-SXM2...  On   | 00000000:3B:00.0 Off |                    0 |\r\n",
      "| N/A   32C    P0    41W / 300W |      0MiB / 16160MiB |      0%      Default |\r\n",
      "|                               |                      |                  N/A |\r\n",
      "+-------------------------------+----------------------+----------------------+\r\n",
      "|   2  Tesla V100-SXM2...  On   | 00000000:86:00.0 Off |                    0 |\r\n",
      "| N/A   33C    P0    42W / 300W |      0MiB / 16160MiB |      0%      Default |\r\n",
      "|                               |                      |                  N/A |\r\n",
      "+-------------------------------+----------------------+----------------------+\r\n",
      "|   3  Tesla V100-SXM2...  On   | 00000000:AF:00.0 Off |                    0 |\r\n",
      "| N/A   37C    P0    57W / 300W |  15220MiB / 16160MiB |      0%      Default |\r\n",
      "|                               |                      |                  N/A |\r\n",
      "+-------------------------------+----------------------+----------------------+\r\n",
      "                                                                               \r\n",
      "+-----------------------------------------------------------------------------+\r\n",
      "| Processes:                                                                  |\r\n",
      "|  GPU   GI   CI        PID   Type   Process name                  GPU Memory |\r\n",
      "|        ID   ID                                                   Usage      |\r\n",
      "|=============================================================================|\r\n"
     ]
    },
    {
     "name": "stdout",
     "output_type": "stream",
     "text": [
      "|    3   N/A  N/A      9115      C   ...a/anaconda3/bin/python3.8    15217MiB |\r\n",
      "+-----------------------------------------------------------------------------+\r\n"
     ]
    }
   ],
   "source": [
    "!nvidia-smi"
   ]
  },
  {
   "cell_type": "code",
   "execution_count": 5,
   "id": "e61550ef",
   "metadata": {
    "execution": {
     "iopub.execute_input": "2021-11-02T17:39:05.792120Z",
     "iopub.status.busy": "2021-11-02T17:39:05.791794Z",
     "iopub.status.idle": "2021-11-02T17:39:05.798966Z",
     "shell.execute_reply": "2021-11-02T17:39:05.798685Z"
    },
    "papermill": {
     "duration": 0.026545,
     "end_time": "2021-11-02T17:39:05.799038",
     "exception": false,
     "start_time": "2021-11-02T17:39:05.772493",
     "status": "completed"
    },
    "tags": []
   },
   "outputs": [
    {
     "name": "stdout",
     "output_type": "stream",
     "text": [
      "CVAE_2021-11-02 13:39:05.791169\n"
     ]
    }
   ],
   "source": [
    "import os\n",
    "from datetime import datetime; now = datetime.now\n",
    "\n",
    "analysis_name = 'CVAE_'+str(now())\n",
    "save_dir = os.path.join('../Assets/tf_weights',analysis_name)\n",
    "if not os.path.exists(save_dir):\n",
    "    os.mkdir(save_dir)\n",
    "    \n",
    "print(analysis_name)"
   ]
  },
  {
   "cell_type": "code",
   "execution_count": 6,
   "id": "5032caf3",
   "metadata": {
    "execution": {
     "iopub.execute_input": "2021-11-02T17:39:05.835367Z",
     "iopub.status.busy": "2021-11-02T17:39:05.835042Z",
     "iopub.status.idle": "2021-11-02T17:39:05.853859Z",
     "shell.execute_reply": "2021-11-02T17:39:05.853536Z"
    },
    "papermill": {
     "duration": 0.038306,
     "end_time": "2021-11-02T17:39:05.853930",
     "exception": false,
     "start_time": "2021-11-02T17:39:05.815624",
     "status": "completed"
    },
    "tags": []
   },
   "outputs": [
    {
     "name": "stdout",
     "output_type": "stream",
     "text": [
      "Total memory: 15.78173828125\n",
      "Free memory: 15.7816162109375\n",
      "Used memory: 0.0001220703125\n"
     ]
    }
   ],
   "source": [
    "# CHECK GPU\n",
    "import nvidia_smi\n",
    "try:\n",
    "    nvidia_smi.nvmlInit()\n",
    "\n",
    "    handle = nvidia_smi.nvmlDeviceGetHandleByIndex(0)\n",
    "    # card id 0 hardcoded here, there is also a call to get all available card ids, so we could iterate\n",
    "\n",
    "    info = nvidia_smi.nvmlDeviceGetMemoryInfo(handle)\n",
    "\n",
    "    print(\"Total memory:\", (info.total/1024/1024/1024))\n",
    "    print(\"Free memory:\", (info.free/1024/1024/1024))\n",
    "    print(\"Used memory:\", (info.used/1024/1024/1024))\n",
    "\n",
    "    nvidia_smi.nvmlShutdown()\n",
    "except:\n",
    "    pass"
   ]
  },
  {
   "cell_type": "code",
   "execution_count": 7,
   "id": "04f56cf1",
   "metadata": {
    "execution": {
     "iopub.execute_input": "2021-11-02T17:39:05.890273Z",
     "iopub.status.busy": "2021-11-02T17:39:05.889953Z",
     "iopub.status.idle": "2021-11-02T17:39:05.891565Z",
     "shell.execute_reply": "2021-11-02T17:39:05.891283Z"
    },
    "papermill": {
     "duration": 0.020498,
     "end_time": "2021-11-02T17:39:05.891635",
     "exception": false,
     "start_time": "2021-11-02T17:39:05.871137",
     "status": "completed"
    },
    "tags": []
   },
   "outputs": [],
   "source": [
    "## SET UP"
   ]
  },
  {
   "cell_type": "code",
   "execution_count": 8,
   "id": "e8d99513",
   "metadata": {
    "execution": {
     "iopub.execute_input": "2021-11-02T17:39:05.930700Z",
     "iopub.status.busy": "2021-11-02T17:39:05.930355Z",
     "iopub.status.idle": "2021-11-02T17:39:23.992815Z",
     "shell.execute_reply": "2021-11-02T17:39:23.993081Z"
    },
    "papermill": {
     "duration": 18.082777,
     "end_time": "2021-11-02T17:39:23.993209",
     "exception": false,
     "start_time": "2021-11-02T17:39:05.910432",
     "status": "completed"
    },
    "tags": []
   },
   "outputs": [],
   "source": [
    "import numpy as np\n",
    "import pandas as pd\n",
    "from tqdm import tqdm\n",
    "from matplotlib import pyplot as plt\n",
    "\n",
    "from functools import partial\n",
    "from tqdm import tqdm\n",
    "from umap import UMAP\n",
    "tqdm = partial(tqdm, position=0, leave=True) "
   ]
  },
  {
   "cell_type": "code",
   "execution_count": 9,
   "id": "2df0b013",
   "metadata": {
    "execution": {
     "iopub.execute_input": "2021-11-02T17:39:24.033465Z",
     "iopub.status.busy": "2021-11-02T17:39:24.033126Z",
     "iopub.status.idle": "2021-11-02T17:39:24.035413Z",
     "shell.execute_reply": "2021-11-02T17:39:24.035090Z"
    },
    "papermill": {
     "duration": 0.022384,
     "end_time": "2021-11-02T17:39:24.035489",
     "exception": false,
     "start_time": "2021-11-02T17:39:24.013105",
     "status": "completed"
    },
    "tags": []
   },
   "outputs": [
    {
     "data": {
      "text/plain": [
       "'/mmfs1/data/aglinska/BC-fMRI-AE/Notebooks'"
      ]
     },
     "execution_count": 9,
     "metadata": {},
     "output_type": "execute_result"
    }
   ],
   "source": [
    "pwd"
   ]
  },
  {
   "cell_type": "code",
   "execution_count": null,
   "id": "83fb80bf",
   "metadata": {
    "papermill": {
     "duration": 0.016871,
     "end_time": "2021-11-02T17:39:24.069173",
     "exception": false,
     "start_time": "2021-11-02T17:39:24.052302",
     "status": "completed"
    },
    "tags": []
   },
   "outputs": [],
   "source": []
  },
  {
   "cell_type": "code",
   "execution_count": 10,
   "id": "e6aa8949",
   "metadata": {
    "execution": {
     "iopub.execute_input": "2021-11-02T17:39:24.108549Z",
     "iopub.status.busy": "2021-11-02T17:39:24.108221Z",
     "iopub.status.idle": "2021-11-02T17:39:24.121226Z",
     "shell.execute_reply": "2021-11-02T17:39:24.120950Z"
    },
    "papermill": {
     "duration": 0.035472,
     "end_time": "2021-11-02T17:39:24.121296",
     "exception": false,
     "start_time": "2021-11-02T17:39:24.085824",
     "status": "completed"
    },
    "tags": []
   },
   "outputs": [
    {
     "name": "stdout",
     "output_type": "stream",
     "text": [
      "1048\n"
     ]
    }
   ],
   "source": [
    "df = pd.read_csv('../Data/ABIDE_df2.csv')\n",
    "df = df.iloc[~pd.isna(df['bids_folder']).values]\n",
    "df = df.sort_values(by='bids_folder')\n",
    "print(len(df))\n",
    "#data_dir = '../Assets/fc_mats_32smooth_new/'\n",
    "data_dir = '../Assets/abide_1_cmats'"
   ]
  },
  {
   "cell_type": "code",
   "execution_count": 11,
   "id": "8efd2e4a",
   "metadata": {
    "execution": {
     "iopub.execute_input": "2021-11-02T17:39:24.160283Z",
     "iopub.status.busy": "2021-11-02T17:39:24.159957Z",
     "iopub.status.idle": "2021-11-02T17:39:24.188762Z",
     "shell.execute_reply": "2021-11-02T17:39:24.188489Z"
    },
    "papermill": {
     "duration": 0.04894,
     "end_time": "2021-11-02T17:39:24.188832",
     "exception": false,
     "start_time": "2021-11-02T17:39:24.139892",
     "status": "completed"
    },
    "tags": []
   },
   "outputs": [
    {
     "name": "stdout",
     "output_type": "stream",
     "text": [
      "1048\n"
     ]
    },
    {
     "data": {
      "text/plain": [
       "array(['sub-CMUa0050642.npy', 'sub-CMUa0050646.npy',\n",
       "       'sub-CMUa0050647.npy', 'sub-CMUa0050649.npy',\n",
       "       'sub-CMUa0050653.npy'], dtype='<U23')"
      ]
     },
     "execution_count": 11,
     "metadata": {},
     "output_type": "execute_result"
    }
   ],
   "source": [
    "files = [file for file in os.listdir(data_dir) if file.endswith('.npy')]\n",
    "files = np.array(files)\n",
    "files.sort()\n",
    "is_inDF = np.array([file.replace('.npy','') in df['bids_folder'].values for file in files])\n",
    "files = files[is_inDF]\n",
    "\n",
    "print(len(files))\n",
    "files[0:5]"
   ]
  },
  {
   "cell_type": "code",
   "execution_count": 12,
   "id": "cba32a01",
   "metadata": {
    "execution": {
     "iopub.execute_input": "2021-11-02T17:39:24.228535Z",
     "iopub.status.busy": "2021-11-02T17:39:24.228206Z",
     "iopub.status.idle": "2021-11-02T17:39:26.189560Z",
     "shell.execute_reply": "2021-11-02T17:39:26.189259Z"
    },
    "papermill": {
     "duration": 1.981712,
     "end_time": "2021-11-02T17:39:26.189633",
     "exception": false,
     "start_time": "2021-11-02T17:39:24.207921",
     "status": "completed"
    },
    "tags": []
   },
   "outputs": [],
   "source": [
    "cmats = np.array([np.load(os.path.join(data_dir,file)) for file in files])\n",
    "has_na = np.array([np.isnan(cmats[i,:,:]).sum()>0 for i in range(cmats.shape[0])])\n",
    "assert has_na.sum()==0, 'nans in cmats'"
   ]
  },
  {
   "cell_type": "code",
   "execution_count": 13,
   "id": "1deee4a5",
   "metadata": {
    "execution": {
     "iopub.execute_input": "2021-11-02T17:39:26.231740Z",
     "iopub.status.busy": "2021-11-02T17:39:26.231417Z",
     "iopub.status.idle": "2021-11-02T17:39:26.233148Z",
     "shell.execute_reply": "2021-11-02T17:39:26.232879Z"
    },
    "papermill": {
     "duration": 0.024759,
     "end_time": "2021-11-02T17:39:26.233217",
     "exception": false,
     "start_time": "2021-11-02T17:39:26.208458",
     "status": "completed"
    },
    "tags": []
   },
   "outputs": [],
   "source": [
    "assert len(df)==len(files),'mismatch'\n",
    "assert all([df['bids_folder'].values[i]==files[i].replace('.npy','') for i in range(len(df))]), 'out of order'"
   ]
  },
  {
   "cell_type": "code",
   "execution_count": null,
   "id": "4ba140cd",
   "metadata": {
    "papermill": {
     "duration": 0.017336,
     "end_time": "2021-11-02T17:39:26.268101",
     "exception": false,
     "start_time": "2021-11-02T17:39:26.250765",
     "status": "completed"
    },
    "tags": []
   },
   "outputs": [],
   "source": []
  },
  {
   "cell_type": "code",
   "execution_count": 14,
   "id": "db2ec5c8",
   "metadata": {
    "execution": {
     "iopub.execute_input": "2021-11-02T17:39:26.305931Z",
     "iopub.status.busy": "2021-11-02T17:39:26.305605Z",
     "iopub.status.idle": "2021-11-02T17:39:26.537589Z",
     "shell.execute_reply": "2021-11-02T17:39:26.537250Z"
    },
    "papermill": {
     "duration": 0.252147,
     "end_time": "2021-11-02T17:39:26.537661",
     "exception": false,
     "start_time": "2021-11-02T17:39:26.285514",
     "status": "completed"
    },
    "tags": []
   },
   "outputs": [
    {
     "name": "stdout",
     "output_type": "stream",
     "text": [
      "CPU times: user 49.1 ms, sys: 13.2 ms, total: 62.4 ms\n",
      "Wall time: 229 ms\n"
     ]
    },
    {
     "data": {
      "text/plain": [
       "<module 'tensorflow' from '/data/aglinska/anaconda3/lib/python3.8/site-packages/tensorflow/__init__.py'>"
      ]
     },
     "execution_count": 14,
     "metadata": {},
     "output_type": "execute_result"
    }
   ],
   "source": [
    "%%time\n",
    "from importlib import reload\n",
    "import helper_funcs;reload(helper_funcs);from helper_funcs import *\n",
    "del helper_funcs\n",
    "import make_models;reload(make_models);from make_models import *\n",
    "del make_models\n",
    "\n",
    "from IPython import display\n",
    "import sys\n",
    "from sklearn.decomposition import PCA\n",
    "import seaborn as sns\n",
    "\n",
    "import tensorflow as tf\n",
    "reload(tf)"
   ]
  },
  {
   "cell_type": "code",
   "execution_count": 15,
   "id": "61a18d36",
   "metadata": {
    "execution": {
     "iopub.execute_input": "2021-11-02T17:39:26.583154Z",
     "iopub.status.busy": "2021-11-02T17:39:26.582814Z",
     "iopub.status.idle": "2021-11-02T17:39:26.584628Z",
     "shell.execute_reply": "2021-11-02T17:39:26.584321Z"
    },
    "papermill": {
     "duration": 0.029094,
     "end_time": "2021-11-02T17:39:26.584699",
     "exception": false,
     "start_time": "2021-11-02T17:39:26.555605",
     "status": "completed"
    },
    "tags": []
   },
   "outputs": [],
   "source": [
    "class cvae_data_loader():\n",
    "    ''' this is the info'''\n",
    "    def __init__(self,data_dir,df,batch_size=32):\n",
    "        #self.data = data\n",
    "        #self.n = data.shape[0]\n",
    "        self.n = len(df)\n",
    "        self.data_dir = data_dir\n",
    "        self.epoch = -1\n",
    "        self.batch_size = batch_size\n",
    "        self.df = df\n",
    "        \n",
    "        self.new_epoch()\n",
    "        self.n_batches = int(np.floor(min((len(self.asd_idxs),len(self.td_idxs)))/self.batch_size))\n",
    "        \n",
    "    def new_epoch(self):\n",
    "        #self.df = self.df.iloc[np.random.permutation(np.arange(self.n))]\n",
    "        #self.df.index = np.arange(self.n)\n",
    "        self.asd_idxs = np.nonzero((self.df['DX_GROUP'].values==1))[0]\n",
    "        self.td_idxs = np.nonzero((self.df['DX_GROUP'].values==2))[0]\n",
    "        \n",
    "        self.asd_idxs = np.random.permutation(self.asd_idxs)\n",
    "        self.td_idxs = np.random.permutation(self.td_idxs)\n",
    "        \n",
    "        self.epoch += 1\n",
    "        self.b = 0\n",
    "        \n",
    "        \n",
    "    def get_batch(self):\n",
    "        self.b += 1\n",
    "        \n",
    "        if self.b==self.n_batches:\n",
    "            self.new_epoch()\n",
    "        \n",
    "        \n",
    "        self.batch_asd_idx = self.asd_idxs[np.arange(self.b*self.batch_size,self.b*self.batch_size+self.batch_size)]\n",
    "        self.batch_td_idx = self.td_idxs[np.arange(self.b*self.batch_size,self.b*self.batch_size+self.batch_size)]\n",
    "        self.batch_asd = np.array([np.load(os.path.join(self.data_dir,val+'.npy')) for val in self.df['bids_folder'].values[self.batch_asd_idx]])\n",
    "        self.batch_td = np.array([np.load(os.path.join(self.data_dir,val+'.npy')) for val in self.df['bids_folder'].values[self.batch_td_idx]])\n",
    "        self.batch_df = self.df.iloc[np.hstack((self.batch_asd_idx,self.batch_td_idx)),:]\n",
    "        \n",
    "        self.batch_asd = (self.batch_asd+1)/2\n",
    "        self.batch_td = (self.batch_td)/2\n",
    "        \n",
    "    \n",
    "        return self.batch_asd,self.batch_td,self.batch_df"
   ]
  },
  {
   "cell_type": "code",
   "execution_count": 16,
   "id": "88d85b98",
   "metadata": {
    "execution": {
     "iopub.execute_input": "2021-11-02T17:39:27.197133Z",
     "iopub.status.busy": "2021-11-02T17:39:27.196766Z",
     "iopub.status.idle": "2021-11-02T17:39:27.198767Z",
     "shell.execute_reply": "2021-11-02T17:39:27.199024Z"
    },
    "papermill": {
     "duration": 0.596447,
     "end_time": "2021-11-02T17:39:27.199136",
     "exception": false,
     "start_time": "2021-11-02T17:39:26.602689",
     "status": "completed"
    },
    "tags": []
   },
   "outputs": [
    {
     "data": {
      "text/plain": [
       "'/device:GPU:0'"
      ]
     },
     "execution_count": 16,
     "metadata": {},
     "output_type": "execute_result"
    }
   ],
   "source": [
    "import tensorflow as tf\n",
    "tf.test.gpu_device_name()"
   ]
  },
  {
   "cell_type": "code",
   "execution_count": 17,
   "id": "2eb326be",
   "metadata": {
    "execution": {
     "iopub.execute_input": "2021-11-02T17:39:27.239191Z",
     "iopub.status.busy": "2021-11-02T17:39:27.238870Z",
     "iopub.status.idle": "2021-11-02T17:39:27.246396Z",
     "shell.execute_reply": "2021-11-02T17:39:27.246133Z"
    },
    "papermill": {
     "duration": 0.028581,
     "end_time": "2021-11-02T17:39:27.246475",
     "exception": false,
     "start_time": "2021-11-02T17:39:27.217894",
     "status": "completed"
    },
    "tags": []
   },
   "outputs": [],
   "source": [
    "# PADDING\n",
    "pad2d = tf.keras.layers.ZeroPadding2D(padding=((6,7),(6,7))) #If tuple of 2 tuples of 2 ints: interpreted as ((top_pad, bottom_pad), (left_pad, right_pad))"
   ]
  },
  {
   "cell_type": "code",
   "execution_count": 18,
   "id": "a72ab4a7",
   "metadata": {
    "execution": {
     "iopub.execute_input": "2021-11-02T17:39:27.287702Z",
     "iopub.status.busy": "2021-11-02T17:39:27.287381Z",
     "iopub.status.idle": "2021-11-02T17:39:27.312775Z",
     "shell.execute_reply": "2021-11-02T17:39:27.312513Z"
    },
    "papermill": {
     "duration": 0.046539,
     "end_time": "2021-11-02T17:39:27.312847",
     "exception": false,
     "start_time": "2021-11-02T17:39:27.266308",
     "status": "completed"
    },
    "tags": []
   },
   "outputs": [],
   "source": [
    "#data_dir = '../Assets/fc_mats_32smooth_new'\n",
    "data_loader = cvae_data_loader(data_dir=data_dir, df=df, batch_size=32)\n",
    "batch_asd,batch_td,batch_df = data_loader.get_batch()"
   ]
  },
  {
   "cell_type": "code",
   "execution_count": 19,
   "id": "71fd9fd3",
   "metadata": {
    "execution": {
     "iopub.execute_input": "2021-11-02T17:39:27.352217Z",
     "iopub.status.busy": "2021-11-02T17:39:27.351904Z",
     "iopub.status.idle": "2021-11-02T17:39:27.354542Z",
     "shell.execute_reply": "2021-11-02T17:39:27.354207Z"
    },
    "papermill": {
     "duration": 0.023275,
     "end_time": "2021-11-02T17:39:27.354613",
     "exception": false,
     "start_time": "2021-11-02T17:39:27.331338",
     "status": "completed"
    },
    "tags": []
   },
   "outputs": [
    {
     "data": {
      "text/plain": [
       "(0.12835973784347487, 1.0)"
      ]
     },
     "execution_count": 19,
     "metadata": {},
     "output_type": "execute_result"
    }
   ],
   "source": [
    "(batch_asd.min(),batch_asd.max())"
   ]
  },
  {
   "cell_type": "code",
   "execution_count": 20,
   "id": "3f8ca05f",
   "metadata": {
    "execution": {
     "iopub.execute_input": "2021-11-02T17:39:27.394296Z",
     "iopub.status.busy": "2021-11-02T17:39:27.393977Z",
     "iopub.status.idle": "2021-11-02T17:39:27.395876Z",
     "shell.execute_reply": "2021-11-02T17:39:27.396134Z"
    },
    "papermill": {
     "duration": 0.023033,
     "end_time": "2021-11-02T17:39:27.396217",
     "exception": false,
     "start_time": "2021-11-02T17:39:27.373184",
     "status": "completed"
    },
    "tags": []
   },
   "outputs": [
    {
     "data": {
      "text/plain": [
       "array([1048,   51,   51])"
      ]
     },
     "execution_count": 20,
     "metadata": {},
     "output_type": "execute_result"
    }
   ],
   "source": [
    "data_size = np.hstack((len(df),batch_asd.shape[1:]))\n",
    "data_size"
   ]
  },
  {
   "cell_type": "code",
   "execution_count": null,
   "id": "17c384e4",
   "metadata": {
    "papermill": {
     "duration": 0.01845,
     "end_time": "2021-11-02T17:39:27.433656",
     "exception": false,
     "start_time": "2021-11-02T17:39:27.415206",
     "status": "completed"
    },
    "tags": []
   },
   "outputs": [],
   "source": []
  },
  {
   "cell_type": "code",
   "execution_count": 21,
   "id": "6700ec05",
   "metadata": {
    "execution": {
     "iopub.execute_input": "2021-11-02T17:39:27.479243Z",
     "iopub.status.busy": "2021-11-02T17:39:27.478911Z",
     "iopub.status.idle": "2021-11-02T17:39:27.731822Z",
     "shell.execute_reply": "2021-11-02T17:39:27.732064Z"
    },
    "papermill": {
     "duration": 0.279792,
     "end_time": "2021-11-02T17:39:27.732147",
     "exception": false,
     "start_time": "2021-11-02T17:39:27.452355",
     "status": "completed"
    },
    "tags": []
   },
   "outputs": [
    {
     "name": "stdout",
     "output_type": "stream",
     "text": [
      "WARNING:tensorflow:Layer zero_padding2d is casting an input tensor from dtype float64 to the layer's dtype of float32, which is new behavior in TensorFlow 2.  The layer has dtype float32 because its dtype defaults to floatx.\n",
      "\n",
      "If you intended to run this layer in float32, you can safely ignore this warning. If in doubt, this warning is likely only an issue if you are porting a TensorFlow 1.X model to TensorFlow 2.\n",
      "\n",
      "To change all layers to have dtype float64 by default, call `tf.keras.backend.set_floatx('float64')`. To change just this layer, pass dtype='float64' to the layer constructor. If you are the author of this layer, you can disable autocasting by passing autocast=False to the base Layer constructor.\n",
      "\n"
     ]
    }
   ],
   "source": [
    "# RSA\n",
    "patients = ~np.isnan(df['ADOS_TOTAL'].values) * (df['DX_GROUP'].values==1) * ~np.isnan(df['FIQ'].values)\n",
    "cdata = np.array([np.load(os.path.join(data_dir,sub+'.npy')) for sub in df['bids_folder'].values[patients]])\n",
    "cdata_pad = pad2d(cdata[:,:,:,np.newaxis]).numpy()[:,:,:,:]\n",
    "\n",
    "def get_batch_RSA():\n",
    "    Z = z_encoder.predict(cdata_pad)\n",
    "    S = s_encoder.predict(cdata_pad)\n",
    "\n",
    "    rdm_z = make_RDM(Z[2])\n",
    "    rdm_s = make_RDM(S[2])\n",
    "\n",
    "    rdm_age = make_RDM(df['AGE_AT_SCAN'].values[patients])\n",
    "    rdm_sex = make_RDM(df['SEX'].values[patients],data_scale='ordinal')\n",
    "    rdm_fiq = make_RDM(df['FIQ'].values[patients])\n",
    "    rdm_dsm = make_RDM(df['DSM_IV_TR'].values[patients],data_scale='ordinal')\n",
    "    rdm_site = make_RDM(df['site'].values[patients],data_scale='ordinal')\n",
    "    rdm_adosTotal = make_RDM(df['ADOS_TOTAL'].values[patients])\n",
    "    \n",
    "    \n",
    "    batch_rsas_s = dict()\n",
    "    batch_rsas_z = dict()\n",
    "    \n",
    "    \n",
    "    batch_rsas_s['Site'] = fit_rsa(rdm_s,rdm_site)\n",
    "    batch_rsas_s['Age'] = fit_rsa(rdm_s,rdm_age)\n",
    "    batch_rsas_s['Sex'] = fit_rsa(rdm_s,rdm_sex)\n",
    "    batch_rsas_s['DSM'] = fit_rsa(rdm_s,rdm_dsm)\n",
    "    batch_rsas_s['ADOS'] = fit_rsa(rdm_s,rdm_adosTotal)\n",
    "    batch_rsas_s['FIQ'] = fit_rsa(rdm_s,rdm_fiq)\n",
    "\n",
    "    batch_rsas_z['Site'] = fit_rsa(rdm_z,rdm_site)\n",
    "    batch_rsas_z['Age'] = fit_rsa(rdm_z,rdm_age)\n",
    "    batch_rsas_z['Sex'] = fit_rsa(rdm_z,rdm_sex)\n",
    "    batch_rsas_z['DSM'] = fit_rsa(rdm_z,rdm_dsm)\n",
    "    batch_rsas_z['ADOS'] = fit_rsa(rdm_z,rdm_adosTotal)\n",
    "    batch_rsas_z['FIQ'] = fit_rsa(rdm_z,rdm_fiq)\n",
    "    \n",
    "    batch_rsas = dict()\n",
    "    batch_rsas['batch_rsas_z'] = batch_rsas_z\n",
    "    batch_rsas['batch_rsas_s'] = batch_rsas_s\n",
    "    \n",
    "    return batch_rsas"
   ]
  },
  {
   "cell_type": "code",
   "execution_count": 22,
   "id": "98289eb0",
   "metadata": {
    "execution": {
     "iopub.execute_input": "2021-11-02T17:39:27.804614Z",
     "iopub.status.busy": "2021-11-02T17:39:27.782388Z",
     "iopub.status.idle": "2021-11-02T17:39:27.806351Z",
     "shell.execute_reply": "2021-11-02T17:39:27.806040Z"
    },
    "papermill": {
     "duration": 0.055123,
     "end_time": "2021-11-02T17:39:27.806421",
     "exception": false,
     "start_time": "2021-11-02T17:39:27.751298",
     "status": "completed"
    },
    "tags": []
   },
   "outputs": [],
   "source": [
    "def cvae_dashboard(red='PCA'):        \n",
    "    #prediction = cvae.predict(patient_batch)    \n",
    "    predictions = cvae.predict([patient_batch,control_batch])\n",
    "    sigma = (np.e ** z_encoder.predict(patient_batch)[1]).mean()\n",
    "    sigmas.append(sigma)\n",
    "\n",
    "    \n",
    "    ss = 6;ff=57\n",
    "    \n",
    "    mu = z_encoder.predict(patient_batch)[0]\n",
    "    mus.append(np.mean([mu[:,0].std() for i in range(mu.shape[1])]))\n",
    "\n",
    "    prediction = predictions[0]\n",
    "\n",
    "    cmat_actual = np.corrcoef(np.vstack((patient_batch[:,ss:ff,ss:ff].reshape(patient_batch.shape[0],-1),control_batch[:,ss:ff,ss:ff].reshape(control_batch.shape[0],-1))))\n",
    "    cmat_pred = np.corrcoef(np.vstack((predictions[0][:,ss:ff,ss:ff,:].reshape(predictions[0].shape[0],-1),predictions[1][:,ss:ff,ss:ff,:].reshape(predictions[1].shape[0],-1))))\n",
    "    c_sim.append(np.corrcoef(get_triu(cmat_pred),get_triu(cmat_actual))[0,1])\n",
    "\n",
    "\n",
    "    ### PROGRESS PLOTTING\n",
    "    display.clear_output(wait=True);\n",
    "    display.display(plt.gcf());\n",
    "    #Organise figure\n",
    "    ncols = 4;nrows=7\n",
    "    if np.mod(i,5)==0:\n",
    "        plt.close()\n",
    "    plt.subplots(nrows,ncols,figsize=(15,15)); # MAKE THE FIGURE\n",
    "\n",
    "\n",
    "    ##### SUBPLOT 1 & 2 ##### \n",
    "\n",
    "    plt.subplot(nrows,ncols/2,1) # PLOT LOSS\n",
    "    xs = np.arange(len(loss))+1\n",
    "    m,b = np.polyfit(xs,loss,deg=1)\n",
    "    plt.plot(loss)\n",
    "    plt.plot(xs, m*xs + b)\n",
    "    plt.title(f'Epoch {data_loader.epoch} batch {data_loader.b}/{data_loader.n_batches} | Loss {loss[-1]:.2f}, beta: {m:.4f}')\n",
    "\n",
    "    ##### SUBPLOT 3 ##### \n",
    "    plt.subplot(nrows,ncols,3) # PLOT LOSS LAST 50\n",
    "    hb = 50\n",
    "    if len(loss)>hb:\n",
    "        plot_loss = loss[-hb::]\n",
    "        xs = np.arange(len(plot_loss))\n",
    "        m,b = np.polyfit(xs,plot_loss,deg=1)\n",
    "        plt.plot(plot_loss)\n",
    "        plt.plot(xs, m*xs + b)\n",
    "        #plt.title(hist)\n",
    "        plt.title(f'Loss last {hb} it, beta {m:.4f}')\n",
    "\n",
    "    ##### SUBPLOT 4 ##### \n",
    "    plt.subplot(nrows,ncols,4)\n",
    "    plt.hist(prediction[0,ss:ff,ss:ff,0].flatten(),alpha=.5)\n",
    "    plt.hist(patient_batch[0,ss:ff,ss:ff].flatten(),alpha=.5)\n",
    "    plt.legend(['predicted','actual'])\n",
    "    plt.title('in/out histograms')\n",
    "\n",
    "    ##### SUBPLOT 5 ##### \n",
    "    plt.subplot(nrows,ncols,5) #RSA over time\n",
    "    plt.plot(c_sim)\n",
    "    plt.title(f'in/out RSA: {c_sim[-1].round(2)}')\n",
    "\n",
    "    if len(c_sim)>5: # PLOT LS LINE\n",
    "        xs = np.arange(len(c_sim))+1\n",
    "        m,b = np.polyfit(xs,c_sim,deg=1)\n",
    "        plt.plot(xs, m*xs + b)\n",
    "        plt.title(f'in/out RSA: {c_sim[-1].round(2)}, b={m:.4f}')\n",
    "\n",
    "\n",
    "    ##### SUBPLOT 6 ##### \n",
    "    plt.subplot(nrows,ncols,6)\n",
    "    if len(c_sim)>hb:\n",
    "        #plot_loss = loss[-hb::]\n",
    "        xs = np.arange(len(c_sim[-hb::]))\n",
    "        m,b = np.polyfit(xs,c_sim[-hb::],deg=1)\n",
    "        plt.plot(c_sim[-hb::])\n",
    "        plt.plot(xs, m*xs + b)\n",
    "        #plt.title(hist)\n",
    "        plt.title(f'in/outRSA last {hb} it, b={m:.4f}')\n",
    "        \n",
    "        \n",
    "        \n",
    "    batch_rsas = get_batch_RSA()\n",
    "    batch_rsas_z = batch_rsas['batch_rsas_z']\n",
    "    batch_rsas_s = batch_rsas['batch_rsas_s']\n",
    "    \n",
    "    # ##### SUBPLOT 7 ##### \n",
    "    plt.subplot(nrows,ncols,7)    \n",
    "    xlbls = list(batch_rsas_z.keys())\n",
    "    xs = np.arange(len(xlbls))\n",
    "    ys = np.array([batch_rsas_z[key] for key in xlbls])\n",
    "    plt.bar(xs,ys)\n",
    "    plt.xticks(xs,labels=xlbls);\n",
    "    plt.title('Z RSA')\n",
    "    \n",
    "    # ##### SUBPLOT 8 ##### \n",
    "    plt.subplot(nrows,ncols,8)    \n",
    "    xlbls = list(batch_rsas_s.keys())\n",
    "    xs = np.arange(len(xlbls))\n",
    "    ys = np.array([batch_rsas_s[key] for key in xlbls])\n",
    "    plt.bar(xs,ys)\n",
    "    plt.xticks(xs,labels=xlbls);\n",
    "    plt.title('S RSA')\n",
    "\n",
    "    ##### SUBPLOT 9 ##### \n",
    "    plt.subplot(nrows,ncols,9)\n",
    "    plt.plot(sigmas)\n",
    "    plt.title(f'sigmas | {sigmas[-1]:.4f}')\n",
    "\n",
    "\n",
    "    ##### SUBPLOT 10 ##### \n",
    "    plt.subplot(nrows,ncols,10)\n",
    "    plt.plot(mus)\n",
    "    plt.title(f'Mu variance {mus[-1]:.4f}')\n",
    "\n",
    "\n",
    "    ##### SUBPLOT 11 ##### \n",
    "    plt.subplot(nrows,ncols,11)\n",
    "    sns.heatmap(cmat_actual,xticklabels=[],yticklabels=[])\n",
    "    plt.title('input RSA')\n",
    "\n",
    "    ##### SUBPLOT 12 ##### \n",
    "    plt.subplot(nrows,ncols,12)\n",
    "    sns.heatmap(cmat_pred,xticklabels=[],yticklabels=[])\n",
    "    plt.title('output RSA')\n",
    "\n",
    "    # #############################################\n",
    "    # ###################Reconstructions###########\n",
    "    # #############################################\n",
    "\n",
    "    ##### SUBPLOT 13 #####     \n",
    "    rand_sub = np.random.randint(low=0,high=patient_batch.shape[0])\n",
    "\n",
    "    plt.subplot(nrows,ncols,13)\n",
    "    sns.heatmap(patient_batch[rand_sub,ss:ff,ss:ff])\n",
    "    plt.xticks([]);plt.yticks([]);plt.title('actual')\n",
    "    ##### SUBPLOT 14 #####     \n",
    "    plt.subplot(nrows,ncols,14)\n",
    "    sns.heatmap(prediction[rand_sub,ss:ff,ss:ff,0])\n",
    "    plt.xticks([]);plt.yticks([]);plt.title('predicted')\n",
    "    # ##### SUBPLOT 15 #####     \n",
    "    plt.subplot(nrows,ncols,15)\n",
    "    sns.heatmap(abs(patient_batch[rand_sub,ss:ff,ss:ff]-prediction[rand_sub,ss:ff,ss:ff,0]))\n",
    "    plt.xticks([]);plt.yticks([]);plt.title('difference')\n",
    "\n",
    "\n",
    "    # ##### SUBPLOT 16 #####                                             \n",
    "    # plt.subplot(nrows,ncols,16)\n",
    "    # plt.imshow(np.rot90(prediction[rand_sub,16,:,:,rand_map]))\n",
    "    # plt.xticks([]);plt.yticks([]);plt.title('predicted')\n",
    "    # ##### SUBPLOT 17 #####     \n",
    "    # plt.subplot(nrows,ncols,17)\n",
    "    # plt.imshow(np.rot90(patient_batch[rand_sub,6,:,:,rand_map]))\n",
    "    # plt.xticks([]);plt.yticks([]);plt.title('actual')\n",
    "    # ##### SUBPLOT 18 #####                                             \n",
    "    # plt.subplot(nrows,ncols,18)\n",
    "    # plt.imshow(np.rot90(prediction[rand_sub,6,:,:,rand_map]))\n",
    "    # plt.xticks([]);plt.yticks([]);plt.title('predicted')\n",
    "    # ##### SUBPLOT 19 #####     \n",
    "    # plt.subplot(nrows,ncols,19)\n",
    "    # plt.imshow(patient_batch[rand_sub,:,:,16,rand_map])\n",
    "    # plt.xticks([]);plt.yticks([]);plt.title('actual')\n",
    "    # ##### SUBPLOT 20 #####     \n",
    "    # plt.subplot(nrows,ncols,20)\n",
    "    # plt.imshow(prediction[rand_sub,:,:,16,rand_map])\n",
    "    # plt.xticks([]);plt.yticks([]);plt.title('predicted')\n",
    "\n",
    "\n",
    "    # #############################################\n",
    "    # ################### LOSSES ##################\n",
    "    # #############################################\n",
    "\n",
    "\n",
    "    predictions = cvae.predict([patient_batch,control_batch])\n",
    "    input_shape = data_size[1:]\n",
    "    reconstruction_loss = tf.keras.losses.mse(K.flatten(patient_batch[:,ss:ff,ss:ff]), K.flatten(predictions[0][:,ss:ff,ss:ff,0])) \n",
    "    reconstruction_loss += tf.keras.losses.mse(K.flatten(control_batch[:,ss:ff,ss:ff]), K.flatten(predictions[1][:,ss:ff,ss:ff,0])) \n",
    "    reconstruction_loss *= input_shape[0] * input_shape[1]\n",
    "\n",
    "\n",
    "    tg_z_mean, tg_z_log_var, tg_z = z_encoder.predict(patient_batch)\n",
    "    tg_s_mean, tg_s_log_var, tg_s = s_encoder.predict(patient_batch)\n",
    "    bg_z_mean, bg_z_log_var, bg_z = z_encoder.predict(control_batch)\n",
    "\n",
    "    kl_loss1 = 1 + tg_z_log_var - tf.keras.backend.square(tg_z_mean) - tf.keras.backend.exp(tg_z_log_var)\n",
    "    kl_loss2 = 1 + tg_s_log_var - tf.keras.backend.square(tg_s_mean) - tf.keras.backend.exp(tg_s_log_var)\n",
    "    kl_loss3 = 1 + bg_z_log_var - tf.keras.backend.square(bg_z_mean) - tf.keras.backend.exp(bg_z_log_var)\n",
    "\n",
    "    kl_loss1 = tf.keras.backend.sum(kl_loss1, axis=-1)\n",
    "    kl_loss2 = tf.keras.backend.sum(kl_loss2, axis=-1)\n",
    "    kl_loss3 = tf.keras.backend.sum(kl_loss3, axis=-1)\n",
    "    kl_loss = kl_loss1+kl_loss2+kl_loss3\n",
    "    kl_loss *= -0.5\n",
    "\n",
    "\n",
    "    discriminator = Dense(1, activation='sigmoid')\n",
    "    z1 = Lambda(lambda x: x[:int(batch_size/2),:])(tg_z)\n",
    "    z2 = Lambda(lambda x: x[int(batch_size/2):,:])(tg_z)\n",
    "    s1 = Lambda(lambda x: x[:int(batch_size/2),:])(tg_s)\n",
    "    s2 = Lambda(lambda x: x[int(batch_size/2):,:])(tg_s)\n",
    "\n",
    "    q_bar = tf.keras.layers.concatenate(\n",
    "      [tf.keras.layers.concatenate([s1, z2], axis=1),\n",
    "      tf.keras.layers.concatenate([s2, z1], axis=1)],\n",
    "      axis=0)\n",
    "\n",
    "    q = tf.keras.layers.concatenate(\n",
    "      [tf.keras.layers.concatenate([s1, z1], axis=1),\n",
    "      tf.keras.layers.concatenate([s2, z2], axis=1)],\n",
    "      axis=0)\n",
    "\n",
    "    q_bar_score = (discriminator(q_bar)+.1) *.85 # +.1 * .85 so that it's 0<x<1\n",
    "    q_score = (discriminator(q)+.1) *.85 \n",
    "    tc_loss = K.log(q_score / (1 - q_score)) \n",
    "    discriminator_loss = - K.log(q_score) - K.log(1 - q_bar_score)\n",
    "    discriminator_loss\n",
    "\n",
    "    loss_mse.append(reconstruction_loss.numpy())\n",
    "    loss_kl.append(kl_loss.numpy().mean())\n",
    "    loss_dc.append(tc_loss.numpy().mean())\n",
    "    loss_tc.append(discriminator_loss.numpy().mean())\n",
    "\n",
    "\n",
    "    plt.subplot(nrows,ncols,21) # MSE \n",
    "    plt.plot(loss_mse)\n",
    "    plt.title(f'MSE | {loss_mse[-1]:.4f}')\n",
    "\n",
    "    plt.subplot(nrows,ncols,22) # KL loss\n",
    "    plt.plot(loss_kl)\n",
    "    plt.title(f'KL | {loss_kl[-1]:.4f}')    \n",
    "\n",
    "\n",
    "    plt.subplot(nrows,ncols,23) # TC     \n",
    "    plt.plot(loss_tc)\n",
    "    plt.title(f'Total Correlation loss | {loss_tc[-1]:.4f}')    \n",
    "\n",
    "\n",
    "    plt.subplot(nrows,ncols,24) # Disc         \n",
    "    plt.plot(loss_dc)\n",
    "    plt.title(f'discriminator_loss | {loss_dc[-1]:.4f}')    \n",
    "\n",
    "\n",
    "    tg_s = s_encoder.predict(patient_batch)\n",
    "    tg_z = z_encoder.predict(patient_batch)\n",
    "    bg_z = z_encoder.predict(control_batch)\n",
    "\n",
    "    plt.subplot(nrows,ncols,25)\n",
    "    plt.hist(tg_s[2].flatten(),alpha=.5);\n",
    "    plt.hist(tg_z[2].flatten(),alpha=.5);\n",
    "    plt.hist(bg_z[2].flatten(),alpha=.5);\n",
    "    plt.legend(['tg_s','tg_z','bg_z'])\n",
    "    plt.title('Z')\n",
    "\n",
    "\n",
    "    plt.subplot(nrows,ncols,26)\n",
    "    plt.hist(tg_s[0].flatten(),alpha=.5);\n",
    "    plt.hist(tg_z[0].flatten(),alpha=.5);\n",
    "    plt.hist(bg_z[0].flatten(),alpha=.5);\n",
    "    plt.legend(['tg_s','tg_z','bg_z'])\n",
    "    plt.title('Mus')\n",
    "\n",
    "\n",
    "    plt.subplot(nrows,ncols,27)\n",
    "    plt.hist(tg_s[1].flatten(),alpha=.5);\n",
    "    plt.hist(tg_z[1].flatten(),alpha=.5);\n",
    "    plt.hist(bg_z[1].flatten(),alpha=.5);\n",
    "    plt.legend(['tg_s','tg_z','bg_z'])\n",
    "    plt.title('Sigmas')\n",
    "\n",
    "    plt.tight_layout()\n",
    "    plt.show()\n",
    "    sys.stdout.flush()"
   ]
  },
  {
   "cell_type": "code",
   "execution_count": 23,
   "id": "9f9bc0cf",
   "metadata": {
    "execution": {
     "iopub.execute_input": "2021-11-02T17:39:27.870662Z",
     "iopub.status.busy": "2021-11-02T17:39:27.856817Z",
     "iopub.status.idle": "2021-11-02T17:39:27.872428Z",
     "shell.execute_reply": "2021-11-02T17:39:27.872107Z"
    },
    "papermill": {
     "duration": 0.046992,
     "end_time": "2021-11-02T17:39:27.872504",
     "exception": false,
     "start_time": "2021-11-02T17:39:27.825512",
     "status": "completed"
    },
    "tags": []
   },
   "outputs": [],
   "source": [
    "import tensorflow as tf\n",
    "import numpy as np\n",
    "import matplotlib.pyplot as plt\n",
    "from sklearn.metrics import silhouette_score\n",
    "from tensorflow.keras.layers import *\n",
    "from tensorflow.keras import backend as K\n",
    "from tensorflow.keras.models import Model\n",
    "from tensorflow.keras.losses import mse\n",
    "import os\n",
    "import pandas as pd\n",
    "\n",
    "def get_fMRI_CVAE_3D(input_shape=(51,51,1),\n",
    "                     latent_dim=[2,2],\n",
    "                     beta=1,\n",
    "                     disentangle=False,\n",
    "                     gamma=1,\n",
    "                     bias=True,\n",
    "                     batch_size = 32,\n",
    "                     kernel_size = 3,\n",
    "                     filters = 16,\n",
    "                     intermediate_dim = 128,\n",
    "                     nlayers = 2,\n",
    "                     learning_rate=0.001,\n",
    "                     opt=None):\n",
    "    \n",
    "    \n",
    "    ndim_bg = latent_dim[0]\n",
    "    ndim_sl = latent_dim[1]\n",
    "    \n",
    "    image_size, _, channels = input_shape\n",
    "\n",
    "    kernel_regularizer=regularizers.l2(.0001)\n",
    "\n",
    "    # build encoder model\n",
    "    tg_inputs = Input(shape=input_shape, name='tg_inputs')\n",
    "    bg_inputs = Input(shape=input_shape, name='bg_inputs')\n",
    "    \n",
    "    BatchNorm = tf.keras.layers.BatchNormalization(\n",
    "    axis=-1, momentum=0.99, epsilon=0.001, center=True, scale=True,\n",
    "    beta_initializer='zeros', gamma_initializer='ones',\n",
    "    moving_mean_initializer='zeros',\n",
    "    moving_variance_initializer='ones', beta_regularizer=None,\n",
    "    gamma_regularizer=None, beta_constraint=None, gamma_constraint=None)\n",
    "\n",
    "    #kernel_initializer = tf.keras.initializers.RandomNormal(mean=0.0,stddev=5)\n",
    "    kernel_initializer = tf.keras.initializers.RandomUniform()\n",
    "\n",
    "    # generate latent vector Q(z|X)\n",
    "    \n",
    "    \n",
    "    z_h_layer = Dense(intermediate_dim,activation='relu', use_bias=bias,kernel_regularizer=kernel_regularizer)\n",
    "    z_mean_layer = Dense(ndim_bg, name='z_mean', use_bias=bias,kernel_regularizer=kernel_regularizer)\n",
    "    z_log_var_layer = Dense(ndim_bg, name='z_log_var', use_bias=bias,kernel_regularizer=kernel_regularizer)\n",
    "    z_layer = Lambda(sampling, output_shape=(ndim_bg,), name='z')\n",
    "\n",
    "    def z_encoder_func(inputs):\n",
    "        z_h = inputs\n",
    "\n",
    "        these_filters = filters\n",
    "        for i in range(nlayers):\n",
    "            these_filters *= 2\n",
    "            #print(these_filters)\n",
    "            z_h = Conv2D(filters=these_filters,\n",
    "                    kernel_size=kernel_size,\n",
    "                    activation='relu',\n",
    "                    strides=2,\n",
    "                    padding='same',\n",
    "                    use_bias=bias,\n",
    "                    kernel_regularizer=kernel_regularizer)(z_h)\n",
    "        \n",
    "        # shape info needed to build decoder model\n",
    "        shape = K.int_shape(z_h)\n",
    "        z_h = Flatten()(z_h)\n",
    "        z_h = z_h_layer(z_h)\n",
    "        z_mean =  z_mean_layer(z_h)\n",
    "        #z_mean = BatchNorm(z_mean)\n",
    "        \n",
    "        z_log_var =  z_log_var_layer(z_h)\n",
    "        z = z_layer([z_mean, z_log_var])\n",
    "        return z_mean, z_log_var, z, shape\n",
    "\n",
    "    tg_z_mean, tg_z_log_var, tg_z, shape_z = z_encoder_func(tg_inputs)\n",
    "\n",
    "    # generate latent vector Q(z|X)\n",
    "    s_h_layer = Dense(intermediate_dim, activation='relu', use_bias=bias,kernel_regularizer=kernel_regularizer)\n",
    "    s_mean_layer = Dense(ndim_sl, name='s_mean', use_bias=bias,kernel_regularizer=kernel_regularizer)\n",
    "    s_log_var_layer = Dense(ndim_sl, name='s_log_var', use_bias=bias,kernel_regularizer=kernel_regularizer)\n",
    "    s_layer = Lambda(sampling, output_shape=(ndim_sl,), name='s')\n",
    "\n",
    "    def s_encoder_func(inputs):\n",
    "        s_h = inputs\n",
    "        these_filters = filters\n",
    "        for i in range(nlayers):\n",
    "            these_filters *= 2\n",
    "            s_h = Conv2D(filters=these_filters,\n",
    "                    kernel_size=kernel_size,\n",
    "                    activation='relu',\n",
    "                    strides=2,\n",
    "                    use_bias=bias,\n",
    "                    kernel_regularizer=kernel_regularizer,\n",
    "                    padding='same')(s_h)\n",
    "        \n",
    "        # shape info needed to build decoder model\n",
    "        shape = K.int_shape(s_h)\n",
    "        s_h = Flatten()(s_h)\n",
    "        s_h = s_h_layer(s_h)\n",
    "        s_mean =  s_mean_layer(s_h)\n",
    "        #s_mean = BatchNorm(s_mean)\n",
    "        \n",
    "        s_log_var =  s_log_var_layer(s_h)        \n",
    "        s = s_layer([s_mean, s_log_var])\n",
    "        \n",
    "        return s_mean, s_log_var, s, shape\n",
    "\n",
    "    tg_s_mean, tg_s_log_var, tg_s, shape_s = s_encoder_func(tg_inputs)\n",
    "    bg_z_mean, bg_z_log_var, bg_z, _ = z_encoder_func(bg_inputs) # Aidas and Stefano team hax\n",
    "    \n",
    "    \n",
    "    # instantiate encoder models\n",
    "    z_encoder = tf.keras.models.Model(tg_inputs, [tg_z_mean, tg_z_log_var, tg_z], name='z_encoder')\n",
    "    s_encoder = tf.keras.models.Model(tg_inputs, [tg_s_mean, tg_s_log_var, tg_s], name='s_encoder')\n",
    "\n",
    "\n",
    "    # build decoder model\n",
    "    latent_inputs = Input(shape=(ndim_bg+ndim_sl,), name='z_sampling')\n",
    "\n",
    "    x = Dense(intermediate_dim, activation='relu', use_bias=bias,kernel_regularizer=kernel_regularizer,kernel_initializer=kernel_initializer)(latent_inputs)\n",
    "    x = Dense(shape_z[1] * shape_z[2] * shape_z[3], activation='relu', use_bias=bias,kernel_regularizer=kernel_regularizer,kernel_initializer=kernel_initializer)(x)\n",
    "    x = Reshape((shape_z[1], shape_z[2], shape_z[3]))(x)\n",
    "\n",
    "    these_filters = filters*(2**nlayers)/2\n",
    "    for i in range(nlayers-1):\n",
    "        x = Conv2DTranspose(filters=these_filters,\n",
    "                          kernel_size=kernel_size,\n",
    "                          activation='relu',\n",
    "                          strides=2,\n",
    "                          use_bias=bias,\n",
    "                          kernel_regularizer=kernel_regularizer,\n",
    "                          padding='same')(x)\n",
    "        these_filters //= 2\n",
    "\n",
    "    outputs = Conv2DTranspose(filters=channels,\n",
    "                            kernel_size=kernel_size,\n",
    "                            activation='sigmoid',\n",
    "                            padding='same',\n",
    "                            strides=2,\n",
    "                            use_bias=bias,\n",
    "                            kernel_regularizer=kernel_regularizer,\n",
    "                            name='decoder_output')(x)\n",
    "\n",
    "    # instantiate decoder model\n",
    "    cvae_decoder = Model(latent_inputs, outputs, name='decoder')\n",
    "      # decoder.summary()\n",
    "\n",
    "    def zeros_like(x):\n",
    "        return tf.zeros_like(x)\n",
    "\n",
    "    tg_outputs = cvae_decoder(tf.keras.layers.concatenate([tg_z, tg_s], -1))\n",
    "    zeros = tf.keras.layers.Lambda(zeros_like)(tg_s)\n",
    "\n",
    "    bg_outputs = cvae_decoder(tf.keras.layers.concatenate([bg_z, zeros], -1)) # Aidas look into this, is this correct\n",
    "\n",
    "    cvae = tf.keras.models.Model(inputs=[tg_inputs, bg_inputs], \n",
    "                                  outputs=[tg_outputs, bg_outputs],\n",
    "                                  name='contrastive_vae')\n",
    "\n",
    "#     cvae_fg = tf.keras.models.Model(inputs=tg_inputs, \n",
    "#                                   outputs=fg_outputs, \n",
    "#                                   name='contrastive_vae_fg')\n",
    "\n",
    "    if disentangle:\n",
    "        discriminator = Dense(1, activation='sigmoid')\n",
    "\n",
    "        z1 = Lambda(lambda x: x[:int(batch_size/2),:])(tg_z)\n",
    "        z2 = Lambda(lambda x: x[int(batch_size/2):,:])(tg_z)\n",
    "        s1 = Lambda(lambda x: x[:int(batch_size/2),:])(tg_s)\n",
    "        s2 = Lambda(lambda x: x[int(batch_size/2):,:])(tg_s)\n",
    "\n",
    "        q_bar = tf.keras.layers.concatenate(\n",
    "          [tf.keras.layers.concatenate([s1, z2], axis=1),\n",
    "          tf.keras.layers.concatenate([s2, z1], axis=1)],\n",
    "          axis=0)\n",
    "\n",
    "        q = tf.keras.layers.concatenate(\n",
    "          [tf.keras.layers.concatenate([s1, z1], axis=1),\n",
    "          tf.keras.layers.concatenate([s2, z2], axis=1)],\n",
    "          axis=0)\n",
    "\n",
    "        q_bar_score = (discriminator(q_bar)+.1) *.85 # +.1 * .85 so that it's 0<x<1\n",
    "        q_score = (discriminator(q)+.1) *.85 \n",
    "        tc_loss = K.log(q_score / (1 - q_score)) \n",
    "        discriminator_loss = - K.log(q_score) - K.log(1 - q_bar_score)\n",
    "    else:\n",
    "        tc_loss = 0\n",
    "        discriminator_loss = 0\n",
    "\n",
    "\n",
    "    reconstruction_loss = tf.keras.losses.mse(K.flatten(tg_inputs[:,6:57,6:57,:]), K.flatten(tg_outputs[:,6:57,6:57,:])) \n",
    "    reconstruction_loss += tf.keras.losses.mse(K.flatten(bg_inputs[:,6:57,6:57,:]), K.flatten(bg_outputs[:,6:57,6:57,:])) \n",
    "    reconstruction_loss *= input_shape[0] * input_shape[1] * input_shape[2]\n",
    "\n",
    "    kl_loss1 = 1 + tg_z_log_var - tf.keras.backend.square(tg_z_mean) - tf.keras.backend.exp(tg_z_log_var)\n",
    "    kl_loss2 = 1 + tg_s_log_var - tf.keras.backend.square(tg_s_mean) - tf.keras.backend.exp(tg_s_log_var)\n",
    "    kl_loss3 = 1 + bg_z_log_var - tf.keras.backend.square(bg_z_mean) - tf.keras.backend.exp(bg_z_log_var)\n",
    "\n",
    "    kl_loss1 = tf.keras.backend.sum(kl_loss1, axis=-1)\n",
    "    kl_loss2 = tf.keras.backend.sum(kl_loss2, axis=-1)\n",
    "    kl_loss3 = tf.keras.backend.sum(kl_loss3, axis=-1)\n",
    "\n",
    "    kl_loss = kl_loss1+kl_loss2+kl_loss3\n",
    "    #kl_loss = tf.keras.backend.sum(kl_loss, axis=-1)\n",
    "    kl_loss *= -0.5\n",
    "    \n",
    "    cvae_loss = tf.keras.backend.mean(reconstruction_loss + beta*kl_loss + gamma*tc_loss + discriminator_loss)\n",
    "    cvae.add_loss(cvae_loss)\n",
    "    \n",
    "    if type(opt)==type(None):\n",
    "        #print('optimizer not specified using ADAM, wroom wroom')\n",
    "        opt = tf.keras.optimizers.Adam(learning_rate=learning_rate,beta_1=0.9,beta_2=0.999,epsilon=1e-07,amsgrad=False,name='Adam')\n",
    "        #opt = tf.keras.optimizers.RMSprop(learning_rate=0.001, rho=0.9, momentum=0.9, epsilon=1e-07, centered=False, name='RMSprop')\n",
    "        #opt = tf.keras.optimizers.SGD(learning_rate=0.001, momentum=0.1, nesterov=False, name='SGD')\n",
    "\n",
    "\n",
    "    cvae.compile(optimizer=opt,run_eagerly=True)\n",
    "    \n",
    "    return cvae, z_encoder, s_encoder, cvae_decoder"
   ]
  },
  {
   "cell_type": "code",
   "execution_count": 24,
   "id": "f6282a6f",
   "metadata": {
    "execution": {
     "iopub.execute_input": "2021-11-02T17:39:27.916400Z",
     "iopub.status.busy": "2021-11-02T17:39:27.916071Z",
     "iopub.status.idle": "2021-11-02T17:39:28.321073Z",
     "shell.execute_reply": "2021-11-02T17:39:28.320806Z"
    },
    "papermill": {
     "duration": 0.429162,
     "end_time": "2021-11-02T17:39:28.321157",
     "exception": false,
     "start_time": "2021-11-02T17:39:27.891995",
     "status": "completed"
    },
    "tags": []
   },
   "outputs": [
    {
     "name": "stdout",
     "output_type": "stream",
     "text": [
      "# params| 4,128,770\n"
     ]
    }
   ],
   "source": [
    "batch_size = 32\n",
    "cvae, z_encoder, s_encoder, cvae_decoder = get_fMRI_CVAE_3D(input_shape=(64,64,1),\n",
    "                                                             latent_dim=[256,128],\n",
    "                                                             beta=.0001,\n",
    "                                                             gamma=100,\n",
    "                                                             disentangle=True,\n",
    "                                                             bias=True,\n",
    "                                                             batch_size = batch_size,\n",
    "                                                             kernel_size = 3,\n",
    "                                                             filters = 8,\n",
    "                                                             intermediate_dim = 512,\n",
    "                                                             nlayers = 4,\n",
    "                                                             learning_rate=0.001,\n",
    "                                                             opt=None)\n",
    "\n",
    "num_params = np.sum([np.prod(val.get_shape()) for val in cvae.trainable_weights])\n",
    "print(f'# params| {num_params:,}')"
   ]
  },
  {
   "cell_type": "code",
   "execution_count": 25,
   "id": "7dec3517",
   "metadata": {
    "execution": {
     "iopub.execute_input": "2021-11-02T17:39:28.362640Z",
     "iopub.status.busy": "2021-11-02T17:39:28.362303Z",
     "iopub.status.idle": "2021-11-02T17:39:28.364611Z",
     "shell.execute_reply": "2021-11-02T17:39:28.364315Z"
    },
    "papermill": {
     "duration": 0.023964,
     "end_time": "2021-11-02T17:39:28.364680",
     "exception": false,
     "start_time": "2021-11-02T17:39:28.340716",
     "status": "completed"
    },
    "tags": []
   },
   "outputs": [
    {
     "data": {
      "text/plain": [
       "(1048, 51, 51)"
      ]
     },
     "execution_count": 25,
     "metadata": {},
     "output_type": "execute_result"
    }
   ],
   "source": [
    "tuple(data_size)"
   ]
  },
  {
   "cell_type": "code",
   "execution_count": 26,
   "id": "c346e712",
   "metadata": {
    "execution": {
     "iopub.execute_input": "2021-11-02T17:39:28.406527Z",
     "iopub.status.busy": "2021-11-02T17:39:28.406203Z",
     "iopub.status.idle": "2021-11-02T17:39:28.410321Z",
     "shell.execute_reply": "2021-11-02T17:39:28.410598Z"
    },
    "papermill": {
     "duration": 0.026515,
     "end_time": "2021-11-02T17:39:28.410682",
     "exception": false,
     "start_time": "2021-11-02T17:39:28.384167",
     "status": "completed"
    },
    "tags": []
   },
   "outputs": [
    {
     "name": "stdout",
     "output_type": "stream",
     "text": [
      "Model: \"z_encoder\"\n",
      "______________________________________________________________________________________________________________________________________________________\n",
      "Layer (type)                                     Output Shape                     Param #           Connected to                                      \n",
      "======================================================================================================================================================\n",
      "tg_inputs (InputLayer)                           [(None, 64, 64, 1)]              0                                                                   \n",
      "______________________________________________________________________________________________________________________________________________________\n",
      "conv2d (Conv2D)                                  (None, 32, 32, 16)               160               tg_inputs[0][0]                                   \n",
      "______________________________________________________________________________________________________________________________________________________\n",
      "conv2d_1 (Conv2D)                                (None, 16, 16, 32)               4640              conv2d[0][0]                                      \n",
      "______________________________________________________________________________________________________________________________________________________\n",
      "conv2d_2 (Conv2D)                                (None, 8, 8, 64)                 18496             conv2d_1[0][0]                                    \n",
      "______________________________________________________________________________________________________________________________________________________\n",
      "conv2d_3 (Conv2D)                                (None, 4, 4, 128)                73856             conv2d_2[0][0]                                    \n",
      "______________________________________________________________________________________________________________________________________________________\n",
      "flatten (Flatten)                                (None, 2048)                     0                 conv2d_3[0][0]                                    \n",
      "______________________________________________________________________________________________________________________________________________________\n",
      "dense (Dense)                                    (None, 512)                      1049088           flatten[0][0]                                     \n",
      "______________________________________________________________________________________________________________________________________________________\n",
      "z_mean (Dense)                                   (None, 256)                      131328            dense[0][0]                                       \n",
      "______________________________________________________________________________________________________________________________________________________\n",
      "z_log_var (Dense)                                (None, 256)                      131328            dense[0][0]                                       \n",
      "______________________________________________________________________________________________________________________________________________________\n",
      "z (Lambda)                                       (None, 256)                      0                 z_mean[0][0]                                      \n",
      "                                                                                                    z_log_var[0][0]                                   \n",
      "======================================================================================================================================================\n",
      "Total params: 1,408,896\n",
      "Trainable params: 1,408,896\n",
      "Non-trainable params: 0\n",
      "______________________________________________________________________________________________________________________________________________________\n"
     ]
    }
   ],
   "source": [
    "z_encoder.summary(line_length=150)"
   ]
  },
  {
   "cell_type": "code",
   "execution_count": 27,
   "id": "94715828",
   "metadata": {
    "execution": {
     "iopub.execute_input": "2021-11-02T17:39:28.453528Z",
     "iopub.status.busy": "2021-11-02T17:39:28.453205Z",
     "iopub.status.idle": "2021-11-02T17:39:28.456747Z",
     "shell.execute_reply": "2021-11-02T17:39:28.456427Z"
    },
    "papermill": {
     "duration": 0.0264,
     "end_time": "2021-11-02T17:39:28.456817",
     "exception": false,
     "start_time": "2021-11-02T17:39:28.430417",
     "status": "completed"
    },
    "tags": []
   },
   "outputs": [
    {
     "name": "stdout",
     "output_type": "stream",
     "text": [
      "Model: \"s_encoder\"\n",
      "______________________________________________________________________________________________________________________________________________________\n",
      "Layer (type)                                     Output Shape                     Param #           Connected to                                      \n",
      "======================================================================================================================================================\n",
      "tg_inputs (InputLayer)                           [(None, 64, 64, 1)]              0                                                                   \n",
      "______________________________________________________________________________________________________________________________________________________\n",
      "conv2d_4 (Conv2D)                                (None, 32, 32, 16)               160               tg_inputs[0][0]                                   \n",
      "______________________________________________________________________________________________________________________________________________________\n",
      "conv2d_5 (Conv2D)                                (None, 16, 16, 32)               4640              conv2d_4[0][0]                                    \n",
      "______________________________________________________________________________________________________________________________________________________\n",
      "conv2d_6 (Conv2D)                                (None, 8, 8, 64)                 18496             conv2d_5[0][0]                                    \n",
      "______________________________________________________________________________________________________________________________________________________\n",
      "conv2d_7 (Conv2D)                                (None, 4, 4, 128)                73856             conv2d_6[0][0]                                    \n",
      "______________________________________________________________________________________________________________________________________________________\n",
      "flatten_1 (Flatten)                              (None, 2048)                     0                 conv2d_7[0][0]                                    \n",
      "______________________________________________________________________________________________________________________________________________________\n",
      "dense_1 (Dense)                                  (None, 512)                      1049088           flatten_1[0][0]                                   \n",
      "______________________________________________________________________________________________________________________________________________________\n",
      "s_mean (Dense)                                   (None, 128)                      65664             dense_1[0][0]                                     \n",
      "______________________________________________________________________________________________________________________________________________________\n",
      "s_log_var (Dense)                                (None, 128)                      65664             dense_1[0][0]                                     \n",
      "______________________________________________________________________________________________________________________________________________________\n",
      "s (Lambda)                                       (None, 128)                      0                 s_mean[0][0]                                      \n",
      "                                                                                                    s_log_var[0][0]                                   \n",
      "======================================================================================================================================================\n",
      "Total params: 1,277,568\n",
      "Trainable params: 1,277,568\n",
      "Non-trainable params: 0\n",
      "______________________________________________________________________________________________________________________________________________________\n"
     ]
    }
   ],
   "source": [
    "s_encoder.summary(line_length=150)"
   ]
  },
  {
   "cell_type": "code",
   "execution_count": 28,
   "id": "f2c0f638",
   "metadata": {
    "execution": {
     "iopub.execute_input": "2021-11-02T17:39:28.500481Z",
     "iopub.status.busy": "2021-11-02T17:39:28.500148Z",
     "iopub.status.idle": "2021-11-02T17:39:28.503468Z",
     "shell.execute_reply": "2021-11-02T17:39:28.503185Z"
    },
    "papermill": {
     "duration": 0.026593,
     "end_time": "2021-11-02T17:39:28.503540",
     "exception": false,
     "start_time": "2021-11-02T17:39:28.476947",
     "status": "completed"
    },
    "tags": []
   },
   "outputs": [
    {
     "name": "stdout",
     "output_type": "stream",
     "text": [
      "Model: \"decoder\"\n",
      "______________________________________________________________________________________________________________________________________________________\n",
      "Layer (type)                                                       Output Shape                                                Param #                \n",
      "======================================================================================================================================================\n",
      "z_sampling (InputLayer)                                            [(None, 384)]                                               0                      \n",
      "______________________________________________________________________________________________________________________________________________________\n",
      "dense_2 (Dense)                                                    (None, 512)                                                 197120                 \n",
      "______________________________________________________________________________________________________________________________________________________\n",
      "dense_3 (Dense)                                                    (None, 2048)                                                1050624                \n",
      "______________________________________________________________________________________________________________________________________________________\n",
      "reshape (Reshape)                                                  (None, 4, 4, 128)                                           0                      \n",
      "______________________________________________________________________________________________________________________________________________________\n",
      "conv2d_transpose (Conv2DTranspose)                                 (None, 8, 8, 64)                                            73792                  \n",
      "______________________________________________________________________________________________________________________________________________________\n",
      "conv2d_transpose_1 (Conv2DTranspose)                               (None, 16, 16, 32)                                          18464                  \n",
      "______________________________________________________________________________________________________________________________________________________\n",
      "conv2d_transpose_2 (Conv2DTranspose)                               (None, 32, 32, 16)                                          4624                   \n",
      "______________________________________________________________________________________________________________________________________________________\n",
      "decoder_output (Conv2DTranspose)                                   (None, 64, 64, 1)                                           145                    \n",
      "======================================================================================================================================================\n",
      "Total params: 1,344,769\n",
      "Trainable params: 1,344,769\n",
      "Non-trainable params: 0\n",
      "______________________________________________________________________________________________________________________________________________________\n"
     ]
    }
   ],
   "source": [
    "cvae_decoder.summary(line_length=150)"
   ]
  },
  {
   "cell_type": "code",
   "execution_count": 29,
   "id": "f66c52d8",
   "metadata": {
    "execution": {
     "iopub.execute_input": "2021-11-02T17:39:28.546447Z",
     "iopub.status.busy": "2021-11-02T17:39:28.546130Z",
     "iopub.status.idle": "2021-11-02T17:39:28.547886Z",
     "shell.execute_reply": "2021-11-02T17:39:28.547578Z"
    },
    "papermill": {
     "duration": 0.024167,
     "end_time": "2021-11-02T17:39:28.547955",
     "exception": false,
     "start_time": "2021-11-02T17:39:28.523788",
     "status": "completed"
    },
    "tags": []
   },
   "outputs": [],
   "source": [
    "loss,all_rsas,sigmas,mus,c_sim = [],[],[],[],[]"
   ]
  },
  {
   "cell_type": "code",
   "execution_count": 30,
   "id": "a054a788",
   "metadata": {
    "execution": {
     "iopub.execute_input": "2021-11-02T17:39:28.591735Z",
     "iopub.status.busy": "2021-11-02T17:39:28.591418Z",
     "iopub.status.idle": "2021-11-02T17:39:28.593473Z",
     "shell.execute_reply": "2021-11-02T17:39:28.593195Z"
    },
    "papermill": {
     "duration": 0.02506,
     "end_time": "2021-11-02T17:39:28.593543",
     "exception": false,
     "start_time": "2021-11-02T17:39:28.568483",
     "status": "completed"
    },
    "tags": []
   },
   "outputs": [],
   "source": [
    "loss_mse,loss_kl,loss_dc,loss_tc = [],[],[],[]"
   ]
  },
  {
   "cell_type": "code",
   "execution_count": 31,
   "id": "3ff4b226",
   "metadata": {
    "execution": {
     "iopub.execute_input": "2021-11-02T17:39:28.636884Z",
     "iopub.status.busy": "2021-11-02T17:39:28.636571Z",
     "iopub.status.idle": "2021-11-02T17:39:28.638319Z",
     "shell.execute_reply": "2021-11-02T17:39:28.638051Z"
    },
    "papermill": {
     "duration": 0.024474,
     "end_time": "2021-11-02T17:39:28.638388",
     "exception": false,
     "start_time": "2021-11-02T17:39:28.613914",
     "status": "completed"
    },
    "tags": []
   },
   "outputs": [],
   "source": [
    "data_loader = cvae_data_loader(data_dir=data_dir, df=df, batch_size=batch_size)"
   ]
  },
  {
   "cell_type": "code",
   "execution_count": 32,
   "id": "7b62becf",
   "metadata": {
    "execution": {
     "iopub.execute_input": "2021-11-02T17:39:28.681623Z",
     "iopub.status.busy": "2021-11-02T17:39:28.681304Z",
     "iopub.status.idle": "2021-11-02T17:39:28.683776Z",
     "shell.execute_reply": "2021-11-02T17:39:28.683505Z"
    },
    "papermill": {
     "duration": 0.024998,
     "end_time": "2021-11-02T17:39:28.683845",
     "exception": false,
     "start_time": "2021-11-02T17:39:28.658847",
     "status": "completed"
    },
    "tags": []
   },
   "outputs": [
    {
     "data": {
      "text/plain": [
       "16"
      ]
     },
     "execution_count": 32,
     "metadata": {},
     "output_type": "execute_result"
    }
   ],
   "source": [
    "data_loader.n_batches"
   ]
  },
  {
   "cell_type": "code",
   "execution_count": 33,
   "id": "735db666",
   "metadata": {
    "execution": {
     "iopub.execute_input": "2021-11-02T17:39:28.730762Z",
     "iopub.status.busy": "2021-11-02T17:39:28.730402Z",
     "iopub.status.idle": "2021-11-02T19:27:26.835261Z",
     "shell.execute_reply": "2021-11-02T19:27:26.835531Z"
    },
    "papermill": {
     "duration": 6478.131025,
     "end_time": "2021-11-02T19:27:26.835683",
     "exception": false,
     "start_time": "2021-11-02T17:39:28.704658",
     "status": "completed"
    },
    "tags": []
   },
   "outputs": [
    {
     "data": {
      "text/plain": [
       "<Figure size 432x288 with 0 Axes>"
      ]
     },
     "metadata": {},
     "output_type": "display_data"
    },
    {
     "name": "stderr",
     "output_type": "stream",
     "text": [
      "<ipython-input-22-8b4cb46a7f77>:32: MatplotlibDeprecationWarning: Passing non-integers as three-element position specification is deprecated since 3.3 and will be removed two minor releases later.\n",
      "  plt.subplot(nrows,ncols/2,1) # PLOT LOSS\n"
     ]
    },
    {
     "data": {
      "image/png": "[encoded data removed]",
      "text/plain": [
       "<Figure size 1080x1080 with 32 Axes>"
      ]
     },
     "metadata": {
      "needs_background": "light"
     },
     "output_type": "display_data"
    },
    {
     "name": "stderr",
     "output_type": "stream",
     "text": [
      "\r",
      "100%|██████████| 5001/5001 [1:47:58<00:00,  2.45s/it]"
     ]
    },
    {
     "name": "stderr",
     "output_type": "stream",
     "text": [
      "\r",
      "100%|██████████| 5001/5001 [1:47:58<00:00,  1.30s/it]"
     ]
    },
    {
     "name": "stderr",
     "output_type": "stream",
     "text": [
      "\n"
     ]
    }
   ],
   "source": [
    "for epoch in tqdm(range(5001)):\n",
    "    for i in range(data_loader.n_batches):\n",
    "        \n",
    "        patient_batch,control_batch,batch_df = data_loader.get_batch() # Get a batch\n",
    "        \n",
    "        # Pad the batches\n",
    "        patient_batch = pad2d(patient_batch[:,:,:,np.newaxis])\n",
    "        control_batch = pad2d(control_batch[:,:,:,np.newaxis])\n",
    "        \n",
    "        hist = cvae.train_on_batch([patient_batch[:,:,:],control_batch[:,:,:]]) # pass a batch\n",
    "        assert not np.isnan(hist),'loss is NaN - you f**cked up'  # check nothing crashed\n",
    "        loss.append(hist) # keep track of loss\n",
    "        \n",
    "        # Remove Padding\n",
    "        patient_batch = patient_batch.numpy()[:,:,:,0]\n",
    "        control_batch = control_batch.numpy()[:,:,:,0]\n",
    "        #patient_batch = patient_batch[:,6:57,6:57,:]\n",
    "        #control_batch = control_batch[:,6:57,6:57,:]\n",
    "        \n",
    "        if all((i==0,np.mod(epoch,25)==0)):\n",
    "            cvae_dashboard() # plot training progress\n",
    "            cvae.save_weights(os.path.join(save_dir,'cvae_weights')) # SAVE WEIGHTS\n",
    "            np.save(os.path.join(save_dir,'cvae_loss.npy'),np.array(loss)) # Save loss\n",
    "            #plt.show()"
   ]
  },
  {
   "cell_type": "code",
   "execution_count": null,
   "id": "1d59dbd0",
   "metadata": {
    "papermill": {
     "duration": 0.026313,
     "end_time": "2021-11-02T19:27:26.911603",
     "exception": false,
     "start_time": "2021-11-02T19:27:26.885290",
     "status": "completed"
    },
    "tags": []
   },
   "outputs": [],
   "source": []
  },
  {
   "cell_type": "code",
   "execution_count": null,
   "id": "2e6324cb",
   "metadata": {
    "papermill": {
     "duration": 0.025586,
     "end_time": "2021-11-02T19:27:26.963106",
     "exception": false,
     "start_time": "2021-11-02T19:27:26.937520",
     "status": "completed"
    },
    "tags": []
   },
   "outputs": [],
   "source": []
  },
  {
   "cell_type": "code",
   "execution_count": null,
   "id": "de9c1518",
   "metadata": {
    "papermill": {
     "duration": 0.025745,
     "end_time": "2021-11-02T19:27:27.014763",
     "exception": false,
     "start_time": "2021-11-02T19:27:26.989018",
     "status": "completed"
    },
    "tags": []
   },
   "outputs": [],
   "source": []
  },
  {
   "cell_type": "code",
   "execution_count": null,
   "id": "9ad0e387",
   "metadata": {
    "papermill": {
     "duration": 0.026099,
     "end_time": "2021-11-02T19:27:27.066771",
     "exception": false,
     "start_time": "2021-11-02T19:27:27.040672",
     "status": "completed"
    },
    "tags": []
   },
   "outputs": [],
   "source": []
  },
  {
   "cell_type": "code",
   "execution_count": null,
   "id": "65d8590e",
   "metadata": {
    "papermill": {
     "duration": 0.025716,
     "end_time": "2021-11-02T19:27:27.118300",
     "exception": false,
     "start_time": "2021-11-02T19:27:27.092584",
     "status": "completed"
    },
    "tags": []
   },
   "outputs": [],
   "source": []
  },
  {
   "cell_type": "code",
   "execution_count": null,
   "id": "4966aed8",
   "metadata": {
    "papermill": {
     "duration": 0.025655,
     "end_time": "2021-11-02T19:27:27.169819",
     "exception": false,
     "start_time": "2021-11-02T19:27:27.144164",
     "status": "completed"
    },
    "tags": []
   },
   "outputs": [],
   "source": []
  },
  {
   "cell_type": "code",
   "execution_count": null,
   "id": "9c71e9f8",
   "metadata": {
    "papermill": {
     "duration": 0.025964,
     "end_time": "2021-11-02T19:27:27.221583",
     "exception": false,
     "start_time": "2021-11-02T19:27:27.195619",
     "status": "completed"
    },
    "tags": []
   },
   "outputs": [],
   "source": []
  },
  {
   "cell_type": "code",
   "execution_count": null,
   "id": "1de3e9ee",
   "metadata": {
    "papermill": {
     "duration": 0.025856,
     "end_time": "2021-11-02T19:27:27.273147",
     "exception": false,
     "start_time": "2021-11-02T19:27:27.247291",
     "status": "completed"
    },
    "tags": []
   },
   "outputs": [],
   "source": []
  },
  {
   "cell_type": "code",
   "execution_count": null,
   "id": "41b050f1",
   "metadata": {
    "papermill": {
     "duration": 0.025598,
     "end_time": "2021-11-02T19:27:27.324589",
     "exception": false,
     "start_time": "2021-11-02T19:27:27.298991",
     "status": "completed"
    },
    "tags": []
   },
   "outputs": [],
   "source": []
  },
  {
   "cell_type": "code",
   "execution_count": 34,
   "id": "ef106b04",
   "metadata": {
    "execution": {
     "iopub.execute_input": "2021-11-02T19:27:27.387022Z",
     "iopub.status.busy": "2021-11-02T19:27:27.386705Z",
     "iopub.status.idle": "2021-11-02T19:27:27.396735Z",
     "shell.execute_reply": "2021-11-02T19:27:27.396462Z"
    },
    "papermill": {
     "duration": 0.046421,
     "end_time": "2021-11-02T19:27:27.396813",
     "exception": false,
     "start_time": "2021-11-02T19:27:27.350392",
     "status": "completed"
    },
    "tags": []
   },
   "outputs": [
    {
     "name": "stdout",
     "output_type": "stream",
     "text": [
      "Model: \"contrastive_vae\"\n",
      "______________________________________________________________________________________________________________________________________________________\n",
      "Layer (type)                                     Output Shape                     Param #           Connected to                                      \n",
      "======================================================================================================================================================\n",
      "tg_inputs (InputLayer)                           [(None, 64, 64, 1)]              0                                                                   \n",
      "______________________________________________________________________________________________________________________________________________________\n",
      "conv2d_4 (Conv2D)                                (None, 32, 32, 16)               160               tg_inputs[0][0]                                   \n",
      "______________________________________________________________________________________________________________________________________________________\n",
      "bg_inputs (InputLayer)                           [(None, 64, 64, 1)]              0                                                                   \n",
      "______________________________________________________________________________________________________________________________________________________\n",
      "conv2d (Conv2D)                                  (None, 32, 32, 16)               160               tg_inputs[0][0]                                   \n",
      "______________________________________________________________________________________________________________________________________________________\n",
      "conv2d_5 (Conv2D)                                (None, 16, 16, 32)               4640              conv2d_4[0][0]                                    \n",
      "______________________________________________________________________________________________________________________________________________________\n",
      "conv2d_8 (Conv2D)                                (None, 32, 32, 16)               160               bg_inputs[0][0]                                   \n",
      "______________________________________________________________________________________________________________________________________________________\n",
      "conv2d_1 (Conv2D)                                (None, 16, 16, 32)               4640              conv2d[0][0]                                      \n",
      "______________________________________________________________________________________________________________________________________________________\n",
      "conv2d_6 (Conv2D)                                (None, 8, 8, 64)                 18496             conv2d_5[0][0]                                    \n",
      "______________________________________________________________________________________________________________________________________________________\n",
      "conv2d_9 (Conv2D)                                (None, 16, 16, 32)               4640              conv2d_8[0][0]                                    \n",
      "______________________________________________________________________________________________________________________________________________________\n",
      "conv2d_2 (Conv2D)                                (None, 8, 8, 64)                 18496             conv2d_1[0][0]                                    \n",
      "______________________________________________________________________________________________________________________________________________________\n",
      "conv2d_7 (Conv2D)                                (None, 4, 4, 128)                73856             conv2d_6[0][0]                                    \n",
      "______________________________________________________________________________________________________________________________________________________\n",
      "conv2d_10 (Conv2D)                               (None, 8, 8, 64)                 18496             conv2d_9[0][0]                                    \n",
      "______________________________________________________________________________________________________________________________________________________\n",
      "conv2d_3 (Conv2D)                                (None, 4, 4, 128)                73856             conv2d_2[0][0]                                    \n",
      "______________________________________________________________________________________________________________________________________________________\n",
      "flatten_1 (Flatten)                              (None, 2048)                     0                 conv2d_7[0][0]                                    \n",
      "______________________________________________________________________________________________________________________________________________________\n",
      "conv2d_11 (Conv2D)                               (None, 4, 4, 128)                73856             conv2d_10[0][0]                                   \n",
      "______________________________________________________________________________________________________________________________________________________\n",
      "flatten (Flatten)                                (None, 2048)                     0                 conv2d_3[0][0]                                    \n",
      "______________________________________________________________________________________________________________________________________________________\n",
      "dense_1 (Dense)                                  (None, 512)                      1049088           flatten_1[0][0]                                   \n",
      "______________________________________________________________________________________________________________________________________________________\n",
      "flatten_2 (Flatten)                              (None, 2048)                     0                 conv2d_11[0][0]                                   \n",
      "______________________________________________________________________________________________________________________________________________________\n",
      "dense (Dense)                                    (None, 512)                      1049088           flatten[0][0]                                     \n",
      "                                                                                                    flatten_2[0][0]                                   \n",
      "______________________________________________________________________________________________________________________________________________________\n",
      "s_mean (Dense)                                   (None, 128)                      65664             dense_1[0][0]                                     \n",
      "______________________________________________________________________________________________________________________________________________________\n",
      "s_log_var (Dense)                                (None, 128)                      65664             dense_1[0][0]                                     \n",
      "______________________________________________________________________________________________________________________________________________________\n",
      "z_mean (Dense)                                   (None, 256)                      131328            dense[0][0]                                       \n",
      "                                                                                                    dense[1][0]                                       \n",
      "______________________________________________________________________________________________________________________________________________________\n",
      "z_log_var (Dense)                                (None, 256)                      131328            dense[0][0]                                       \n",
      "                                                                                                    dense[1][0]                                       \n",
      "______________________________________________________________________________________________________________________________________________________\n",
      "s (Lambda)                                       (None, 128)                      0                 s_mean[0][0]                                      \n",
      "                                                                                                    s_log_var[0][0]                                   \n",
      "______________________________________________________________________________________________________________________________________________________\n",
      "z (Lambda)                                       (None, 256)                      0                 z_mean[0][0]                                      \n",
      "                                                                                                    z_log_var[0][0]                                   \n",
      "                                                                                                    z_mean[1][0]                                      \n",
      "                                                                                                    z_log_var[1][0]                                   \n",
      "______________________________________________________________________________________________________________________________________________________\n",
      "lambda (Lambda)                                  (None, 128)                      0                 s[0][0]                                           \n",
      "______________________________________________________________________________________________________________________________________________________\n",
      "concatenate (Concatenate)                        (None, 384)                      0                 z[0][0]                                           \n",
      "                                                                                                    s[0][0]                                           \n",
      "______________________________________________________________________________________________________________________________________________________\n",
      "concatenate_1 (Concatenate)                      (None, 384)                      0                 z[1][0]                                           \n",
      "                                                                                                    lambda[0][0]                                      \n",
      "______________________________________________________________________________________________________________________________________________________\n",
      "decoder (Functional)                             (None, 64, 64, 1)                1344769           concatenate[0][0]                                 \n",
      "                                                                                                    concatenate_1[0][0]                               \n",
      "______________________________________________________________________________________________________________________________________________________\n",
      "lambda_3 (Lambda)                                (None, 128)                      0                 s[0][0]                                           \n",
      "______________________________________________________________________________________________________________________________________________________\n",
      "lambda_1 (Lambda)                                (None, 256)                      0                 z[0][0]                                           \n",
      "______________________________________________________________________________________________________________________________________________________\n",
      "lambda_4 (Lambda)                                (None, 128)                      0                 s[0][0]                                           \n",
      "______________________________________________________________________________________________________________________________________________________\n",
      "lambda_2 (Lambda)                                (None, 256)                      0                 z[0][0]                                           \n",
      "______________________________________________________________________________________________________________________________________________________\n",
      "tf_op_layer_AddV2_3 (TensorFlowOpLayer)          [(None, 256)]                    0                 z_log_var[0][0]                                   \n",
      "______________________________________________________________________________________________________________________________________________________\n",
      "tf_op_layer_Square (TensorFlowOpLayer)           [(None, 256)]                    0                 z_mean[0][0]                                      \n",
      "______________________________________________________________________________________________________________________________________________________\n",
      "tf_op_layer_AddV2_4 (TensorFlowOpLayer)          [(None, 128)]                    0                 s_log_var[0][0]                                   \n",
      "______________________________________________________________________________________________________________________________________________________\n",
      "tf_op_layer_Square_1 (TensorFlowOpLayer)         [(None, 128)]                    0                 s_mean[0][0]                                      \n",
      "______________________________________________________________________________________________________________________________________________________\n",
      "concatenate_5 (Concatenate)                      (None, 384)                      0                 lambda_3[0][0]                                    \n",
      "                                                                                                    lambda_1[0][0]                                    \n",
      "______________________________________________________________________________________________________________________________________________________\n",
      "concatenate_6 (Concatenate)                      (None, 384)                      0                 lambda_4[0][0]                                    \n",
      "                                                                                                    lambda_2[0][0]                                    \n",
      "______________________________________________________________________________________________________________________________________________________\n",
      "tf_op_layer_Sub_3 (TensorFlowOpLayer)            [(None, 256)]                    0                 tf_op_layer_AddV2_3[0][0]                         \n",
      "                                                                                                    tf_op_layer_Square[0][0]                          \n",
      "______________________________________________________________________________________________________________________________________________________\n",
      "tf_op_layer_Exp (TensorFlowOpLayer)              [(None, 256)]                    0                 z_log_var[0][0]                                   \n",
      "______________________________________________________________________________________________________________________________________________________\n",
      "tf_op_layer_Sub_5 (TensorFlowOpLayer)            [(None, 128)]                    0                 tf_op_layer_AddV2_4[0][0]                         \n",
      "                                                                                                    tf_op_layer_Square_1[0][0]                        \n",
      "______________________________________________________________________________________________________________________________________________________\n",
      "tf_op_layer_Exp_1 (TensorFlowOpLayer)            [(None, 128)]                    0                 s_log_var[0][0]                                   \n",
      "______________________________________________________________________________________________________________________________________________________\n",
      "tf_op_layer_AddV2_5 (TensorFlowOpLayer)          [(None, 256)]                    0                 z_log_var[1][0]                                   \n",
      "______________________________________________________________________________________________________________________________________________________\n",
      "tf_op_layer_Square_2 (TensorFlowOpLayer)         [(None, 256)]                    0                 z_mean[1][0]                                      \n",
      "______________________________________________________________________________________________________________________________________________________\n",
      "concatenate_7 (Concatenate)                      (None, 384)                      0                 concatenate_5[0][0]                               \n",
      "                                                                                                    concatenate_6[0][0]                               \n",
      "______________________________________________________________________________________________________________________________________________________\n",
      "tf_op_layer_strided_slice_1 (TensorFlowOpLayer)  [(None, 51, 51, 1)]              0                 decoder[0][0]                                     \n",
      "______________________________________________________________________________________________________________________________________________________\n",
      "tf_op_layer_strided_slice (TensorFlowOpLayer)    [(None, 51, 51, 1)]              0                 tg_inputs[0][0]                                   \n",
      "______________________________________________________________________________________________________________________________________________________\n",
      "tf_op_layer_strided_slice_3 (TensorFlowOpLayer)  [(None, 51, 51, 1)]              0                 decoder[1][0]                                     \n",
      "______________________________________________________________________________________________________________________________________________________\n",
      "tf_op_layer_strided_slice_2 (TensorFlowOpLayer)  [(None, 51, 51, 1)]              0                 bg_inputs[0][0]                                   \n",
      "______________________________________________________________________________________________________________________________________________________\n",
      "tf_op_layer_Sub_4 (TensorFlowOpLayer)            [(None, 256)]                    0                 tf_op_layer_Sub_3[0][0]                           \n",
      "                                                                                                    tf_op_layer_Exp[0][0]                             \n",
      "______________________________________________________________________________________________________________________________________________________\n",
      "tf_op_layer_Sub_6 (TensorFlowOpLayer)            [(None, 128)]                    0                 tf_op_layer_Sub_5[0][0]                           \n",
      "                                                                                                    tf_op_layer_Exp_1[0][0]                           \n",
      "______________________________________________________________________________________________________________________________________________________\n",
      "tf_op_layer_Sub_7 (TensorFlowOpLayer)            [(None, 256)]                    0                 tf_op_layer_AddV2_5[0][0]                         \n",
      "                                                                                                    tf_op_layer_Square_2[0][0]                        \n",
      "______________________________________________________________________________________________________________________________________________________\n",
      "tf_op_layer_Exp_2 (TensorFlowOpLayer)            [(None, 256)]                    0                 z_log_var[1][0]                                   \n",
      "______________________________________________________________________________________________________________________________________________________\n",
      "dense_4 (Dense)                                  (None, 1)                        385               concatenate_4[0][0]                               \n",
      "                                                                                                    concatenate_7[0][0]                               \n",
      "______________________________________________________________________________________________________________________________________________________\n",
      "concatenate_2 (Concatenate)                      (None, 384)                      0                 lambda_3[0][0]                                    \n",
      "                                                                                                    lambda_2[0][0]                                    \n",
      "______________________________________________________________________________________________________________________________________________________\n",
      "concatenate_3 (Concatenate)                      (None, 384)                      0                 lambda_4[0][0]                                    \n",
      "                                                                                                    lambda_1[0][0]                                    \n",
      "______________________________________________________________________________________________________________________________________________________\n",
      "tf_op_layer_Reshape_1 (TensorFlowOpLayer)        [(None,)]                        0                 tf_op_layer_strided_slice_1[0][0]                 \n",
      "______________________________________________________________________________________________________________________________________________________\n",
      "tf_op_layer_Reshape (TensorFlowOpLayer)          [(None,)]                        0                 tf_op_layer_strided_slice[0][0]                   \n",
      "______________________________________________________________________________________________________________________________________________________\n",
      "tf_op_layer_Reshape_3 (TensorFlowOpLayer)        [(None,)]                        0                 tf_op_layer_strided_slice_3[0][0]                 \n",
      "______________________________________________________________________________________________________________________________________________________\n",
      "tf_op_layer_Reshape_2 (TensorFlowOpLayer)        [(None,)]                        0                 tf_op_layer_strided_slice_2[0][0]                 \n",
      "______________________________________________________________________________________________________________________________________________________\n",
      "tf_op_layer_Sum (TensorFlowOpLayer)              [(None,)]                        0                 tf_op_layer_Sub_4[0][0]                           \n",
      "______________________________________________________________________________________________________________________________________________________\n",
      "tf_op_layer_Sum_1 (TensorFlowOpLayer)            [(None,)]                        0                 tf_op_layer_Sub_6[0][0]                           \n",
      "______________________________________________________________________________________________________________________________________________________\n",
      "tf_op_layer_Sub_8 (TensorFlowOpLayer)            [(None, 256)]                    0                 tf_op_layer_Sub_7[0][0]                           \n",
      "                                                                                                    tf_op_layer_Exp_2[0][0]                           \n",
      "______________________________________________________________________________________________________________________________________________________\n",
      "tf_op_layer_AddV2_1 (TensorFlowOpLayer)          [(None, 1)]                      0                 dense_4[1][0]                                     \n",
      "______________________________________________________________________________________________________________________________________________________\n",
      "concatenate_4 (Concatenate)                      (None, 384)                      0                 concatenate_2[0][0]                               \n",
      "                                                                                                    concatenate_3[0][0]                               \n",
      "______________________________________________________________________________________________________________________________________________________\n",
      "tf_op_layer_SquaredDifference (TensorFlowOpLayer [(None,)]                        0                 tf_op_layer_Reshape_1[0][0]                       \n",
      "                                                                                                    tf_op_layer_Reshape[0][0]                         \n",
      "______________________________________________________________________________________________________________________________________________________\n",
      "tf_op_layer_SquaredDifference_1 (TensorFlowOpLay [(None,)]                        0                 tf_op_layer_Reshape_3[0][0]                       \n",
      "                                                                                                    tf_op_layer_Reshape_2[0][0]                       \n",
      "______________________________________________________________________________________________________________________________________________________\n",
      "tf_op_layer_AddV2_6 (TensorFlowOpLayer)          [(None,)]                        0                 tf_op_layer_Sum[0][0]                             \n",
      "                                                                                                    tf_op_layer_Sum_1[0][0]                           \n",
      "______________________________________________________________________________________________________________________________________________________\n",
      "tf_op_layer_Sum_2 (TensorFlowOpLayer)            [(None,)]                        0                 tf_op_layer_Sub_8[0][0]                           \n",
      "______________________________________________________________________________________________________________________________________________________\n",
      "tf_op_layer_Mul_1 (TensorFlowOpLayer)            [(None, 1)]                      0                 tf_op_layer_AddV2_1[0][0]                         \n",
      "______________________________________________________________________________________________________________________________________________________\n",
      "tf_op_layer_Mean (TensorFlowOpLayer)             [()]                             0                 tf_op_layer_SquaredDifference[0][0]               \n",
      "______________________________________________________________________________________________________________________________________________________\n",
      "tf_op_layer_Mean_1 (TensorFlowOpLayer)           [()]                             0                 tf_op_layer_SquaredDifference_1[0][0]             \n",
      "______________________________________________________________________________________________________________________________________________________\n",
      "tf_op_layer_AddV2_7 (TensorFlowOpLayer)          [(None,)]                        0                 tf_op_layer_AddV2_6[0][0]                         \n",
      "                                                                                                    tf_op_layer_Sum_2[0][0]                           \n",
      "______________________________________________________________________________________________________________________________________________________\n",
      "tf_op_layer_Sub (TensorFlowOpLayer)              [(None, 1)]                      0                 tf_op_layer_Mul_1[0][0]                           \n",
      "______________________________________________________________________________________________________________________________________________________\n",
      "tf_op_layer_AddV2 (TensorFlowOpLayer)            [(None, 1)]                      0                 dense_4[0][0]                                     \n",
      "______________________________________________________________________________________________________________________________________________________\n",
      "tf_op_layer_AddV2_2 (TensorFlowOpLayer)          [()]                             0                 tf_op_layer_Mean[0][0]                            \n",
      "                                                                                                    tf_op_layer_Mean_1[0][0]                          \n",
      "______________________________________________________________________________________________________________________________________________________\n",
      "tf_op_layer_Mul_3 (TensorFlowOpLayer)            [(None,)]                        0                 tf_op_layer_AddV2_7[0][0]                         \n",
      "______________________________________________________________________________________________________________________________________________________\n",
      "tf_op_layer_RealDiv (TensorFlowOpLayer)          [(None, 1)]                      0                 tf_op_layer_Mul_1[0][0]                           \n",
      "                                                                                                    tf_op_layer_Sub[0][0]                             \n",
      "______________________________________________________________________________________________________________________________________________________\n",
      "tf_op_layer_Mul (TensorFlowOpLayer)              [(None, 1)]                      0                 tf_op_layer_AddV2[0][0]                           \n",
      "______________________________________________________________________________________________________________________________________________________\n",
      "tf_op_layer_Mul_2 (TensorFlowOpLayer)            [()]                             0                 tf_op_layer_AddV2_2[0][0]                         \n",
      "______________________________________________________________________________________________________________________________________________________\n",
      "tf_op_layer_Mul_4 (TensorFlowOpLayer)            [(None,)]                        0                 tf_op_layer_Mul_3[0][0]                           \n",
      "______________________________________________________________________________________________________________________________________________________\n",
      "tf_op_layer_Log (TensorFlowOpLayer)              [(None, 1)]                      0                 tf_op_layer_RealDiv[0][0]                         \n",
      "______________________________________________________________________________________________________________________________________________________\n",
      "tf_op_layer_Log_1 (TensorFlowOpLayer)            [(None, 1)]                      0                 tf_op_layer_Mul_1[0][0]                           \n",
      "______________________________________________________________________________________________________________________________________________________\n",
      "tf_op_layer_Sub_1 (TensorFlowOpLayer)            [(None, 1)]                      0                 tf_op_layer_Mul[0][0]                             \n",
      "______________________________________________________________________________________________________________________________________________________\n",
      "tf_op_layer_AddV2_8 (TensorFlowOpLayer)          [(None,)]                        0                 tf_op_layer_Mul_2[0][0]                           \n",
      "                                                                                                    tf_op_layer_Mul_4[0][0]                           \n",
      "______________________________________________________________________________________________________________________________________________________\n",
      "tf_op_layer_Mul_5 (TensorFlowOpLayer)            [(None, 1)]                      0                 tf_op_layer_Log[0][0]                             \n",
      "______________________________________________________________________________________________________________________________________________________\n",
      "tf_op_layer_Neg (TensorFlowOpLayer)              [(None, 1)]                      0                 tf_op_layer_Log_1[0][0]                           \n",
      "______________________________________________________________________________________________________________________________________________________\n",
      "tf_op_layer_Log_2 (TensorFlowOpLayer)            [(None, 1)]                      0                 tf_op_layer_Sub_1[0][0]                           \n",
      "______________________________________________________________________________________________________________________________________________________\n",
      "tf_op_layer_AddV2_9 (TensorFlowOpLayer)          [(None, None)]                   0                 tf_op_layer_AddV2_8[0][0]                         \n",
      "                                                                                                    tf_op_layer_Mul_5[0][0]                           \n",
      "______________________________________________________________________________________________________________________________________________________\n",
      "tf_op_layer_Sub_2 (TensorFlowOpLayer)            [(None, 1)]                      0                 tf_op_layer_Neg[0][0]                             \n",
      "                                                                                                    tf_op_layer_Log_2[0][0]                           \n",
      "______________________________________________________________________________________________________________________________________________________\n",
      "tf_op_layer_AddV2_10 (TensorFlowOpLayer)         [(None, None)]                   0                 tf_op_layer_AddV2_9[0][0]                         \n",
      "                                                                                                    tf_op_layer_Sub_2[0][0]                           \n",
      "______________________________________________________________________________________________________________________________________________________\n",
      "tf_op_layer_Mean_2 (TensorFlowOpLayer)           [()]                             0                 tf_op_layer_AddV2_10[0][0]                        \n",
      "______________________________________________________________________________________________________________________________________________________\n",
      "add_loss (AddLoss)                               ()                               0                 tf_op_layer_Mean_2[0][0]                          \n",
      "======================================================================================================================================================\n",
      "Total params: 4,128,770\n",
      "Trainable params: 4,128,770\n",
      "Non-trainable params: 0\n",
      "______________________________________________________________________________________________________________________________________________________\n"
     ]
    }
   ],
   "source": [
    "cvae.summary(line_length=150)"
   ]
  },
  {
   "cell_type": "code",
   "execution_count": null,
   "id": "8182ce46",
   "metadata": {
    "papermill": {
     "duration": 0.026627,
     "end_time": "2021-11-02T19:27:27.450148",
     "exception": false,
     "start_time": "2021-11-02T19:27:27.423521",
     "status": "completed"
    },
    "tags": []
   },
   "outputs": [],
   "source": []
  },
  {
   "cell_type": "code",
   "execution_count": null,
   "id": "6135ddbf",
   "metadata": {
    "papermill": {
     "duration": 0.026436,
     "end_time": "2021-11-02T19:27:27.502997",
     "exception": false,
     "start_time": "2021-11-02T19:27:27.476561",
     "status": "completed"
    },
    "tags": []
   },
   "outputs": [],
   "source": []
  }
 ],
 "metadata": {
  "kernelspec": {
   "display_name": "Python 3",
   "language": "python",
   "name": "python3"
  },
  "language_info": {
   "codemirror_mode": {
    "name": "ipython",
    "version": 3
   },
   "file_extension": ".py",
   "mimetype": "text/x-python",
   "name": "python",
   "nbconvert_exporter": "python",
   "pygments_lexer": "ipython3",
   "version": "3.8.5"
  },
  "papermill": {
   "default_parameters": {},
   "duration": 6507.88831,
   "end_time": "2021-11-02T19:27:31.059738",
   "environment_variables": {},
   "exception": null,
   "input_path": "01-train-CVAE-cmats-smallPaffdded.ipynb",
   "output_path": "./papermill/papermill|01-train-CVAE-cmats-smallPaffdded|2021-11-02-13-39-00.ipynb",
   "parameters": {},
   "start_time": "2021-11-02T17:39:03.171428",
   "version": "2.3.3"
  }
 },
 "nbformat": 4,
 "nbformat_minor": 5
}