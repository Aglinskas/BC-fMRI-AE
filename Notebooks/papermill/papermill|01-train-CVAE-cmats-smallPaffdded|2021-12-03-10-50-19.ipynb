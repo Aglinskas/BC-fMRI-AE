{
 "cells": [
  {
   "cell_type": "code",
   "execution_count": 1,
   "id": "19013874",
   "metadata": {
    "execution": {
     "iopub.execute_input": "2021-12-03T15:50:23.957645Z",
     "iopub.status.busy": "2021-12-03T15:50:23.957300Z",
     "iopub.status.idle": "2021-12-03T15:50:23.959021Z",
     "shell.execute_reply": "2021-12-03T15:50:23.959290Z"
    },
    "papermill": {
     "duration": 0.027924,
     "end_time": "2021-12-03T15:50:23.959452",
     "exception": false,
     "start_time": "2021-12-03T15:50:23.931528",
     "status": "completed"
    },
    "tags": []
   },
   "outputs": [
    {
     "data": {
      "text/plain": [
       "'/mmfs1/data/aglinska/BC-fMRI-AE/Notebooks'"
      ]
     },
     "execution_count": 1,
     "metadata": {},
     "output_type": "execute_result"
    }
   ],
   "source": [
    "pwd"
   ]
  },
  {
   "cell_type": "code",
   "execution_count": 2,
   "id": "83c1fcd0",
   "metadata": {
    "execution": {
     "iopub.execute_input": "2021-12-03T15:50:23.995712Z",
     "iopub.status.busy": "2021-12-03T15:50:23.995387Z",
     "iopub.status.idle": "2021-12-03T15:50:23.996686Z",
     "shell.execute_reply": "2021-12-03T15:50:23.996953Z"
    },
    "papermill": {
     "duration": 0.019451,
     "end_time": "2021-12-03T15:50:23.997038",
     "exception": false,
     "start_time": "2021-12-03T15:50:23.977587",
     "status": "completed"
    },
    "tags": []
   },
   "outputs": [],
   "source": [
    "import os\n",
    "os.environ['CUDA_VISIBLE_DEVICES']='2'"
   ]
  },
  {
   "cell_type": "code",
   "execution_count": 3,
   "id": "3c05d5b9",
   "metadata": {
    "execution": {
     "iopub.execute_input": "2021-12-03T15:50:24.030982Z",
     "iopub.status.busy": "2021-12-03T15:50:24.030652Z",
     "iopub.status.idle": "2021-12-03T15:50:24.152548Z",
     "shell.execute_reply": "2021-12-03T15:50:24.152271Z"
    },
    "papermill": {
     "duration": 0.139697,
     "end_time": "2021-12-03T15:50:24.152622",
     "exception": false,
     "start_time": "2021-12-03T15:50:24.012925",
     "status": "completed"
    },
    "tags": []
   },
   "outputs": [
    {
     "name": "stdout",
     "output_type": "stream",
     "text": [
      "              total        used        free      shared  buff/cache   available\r\n",
      "Mem:            187          17         166           1           3         167\r\n",
      "Swap:            11           0          11\r\n"
     ]
    }
   ],
   "source": [
    "!free -g"
   ]
  },
  {
   "cell_type": "code",
   "execution_count": 4,
   "id": "d81629bf",
   "metadata": {
    "execution": {
     "iopub.execute_input": "2021-12-03T15:50:24.188613Z",
     "iopub.status.busy": "2021-12-03T15:50:24.186947Z",
     "iopub.status.idle": "2021-12-03T15:50:24.476754Z",
     "shell.execute_reply": "2021-12-03T15:50:24.477019Z"
    },
    "papermill": {
     "duration": 0.308478,
     "end_time": "2021-12-03T15:50:24.477110",
     "exception": false,
     "start_time": "2021-12-03T15:50:24.168632",
     "status": "completed"
    },
    "tags": []
   },
   "outputs": [
    {
     "name": "stdout",
     "output_type": "stream",
     "text": [
      "Fri Dec  3 10:50:24 2021       \r\n",
      "+-----------------------------------------------------------------------------+\r\n",
      "| NVIDIA-SMI 450.51.05    Driver Version: 450.51.05    CUDA Version: 11.0     |\r\n",
      "|-------------------------------+----------------------+----------------------+\r\n",
      "| GPU  Name        Persistence-M| Bus-Id        Disp.A | Volatile Uncorr. ECC |\r\n",
      "| Fan  Temp  Perf  Pwr:Usage/Cap|         Memory-Usage | GPU-Util  Compute M. |\r\n",
      "|                               |                      |               MIG M. |\r\n",
      "|===============================+======================+======================|\r\n",
      "|   0  Tesla V100-SXM2...  On   | 00000000:18:00.0 Off |                    0 |\r\n",
      "| N/A   38C    P0    59W / 300W |    456MiB / 16160MiB |      0%      Default |\r\n",
      "|                               |                      |                  N/A |\r\n",
      "+-------------------------------+----------------------+----------------------+\r\n",
      "|   1  Tesla V100-SXM2...  On   | 00000000:3B:00.0 Off |                    0 |\r\n",
      "| N/A   32C    P0    41W / 300W |      0MiB / 16160MiB |      0%      Default |\r\n",
      "|                               |                      |                  N/A |\r\n",
      "+-------------------------------+----------------------+----------------------+\r\n",
      "|   2  Tesla V100-SXM2...  On   | 00000000:86:00.0 Off |                    0 |\r\n",
      "| N/A   33C    P0    43W / 300W |      0MiB / 16160MiB |      0%      Default |\r\n",
      "|                               |                      |                  N/A |\r\n",
      "+-------------------------------+----------------------+----------------------+\r\n",
      "|   3  Tesla V100-SXM2...  On   | 00000000:AF:00.0 Off |                    0 |\r\n",
      "| N/A   34C    P0    41W / 300W |      0MiB / 16160MiB |      0%      Default |\r\n",
      "|                               |                      |                  N/A |\r\n",
      "+-------------------------------+----------------------+----------------------+\r\n",
      "                                                                               \r\n",
      "+-----------------------------------------------------------------------------+\r\n",
      "| Processes:                                                                  |\r\n",
      "|  GPU   GI   CI        PID   Type   Process name                  GPU Memory |\r\n",
      "|        ID   ID                                                   Usage      |\r\n",
      "|=============================================================================|\r\n",
      "|    0   N/A  N/A     14815      C   ...a/anaconda3/bin/python3.8      453MiB |\r\n"
     ]
    },
    {
     "name": "stdout",
     "output_type": "stream",
     "text": [
      "+-----------------------------------------------------------------------------+\r\n"
     ]
    }
   ],
   "source": [
    "!nvidia-smi"
   ]
  },
  {
   "cell_type": "code",
   "execution_count": 5,
   "id": "3af2b607",
   "metadata": {
    "execution": {
     "iopub.execute_input": "2021-12-03T15:50:24.514042Z",
     "iopub.status.busy": "2021-12-03T15:50:24.513699Z",
     "iopub.status.idle": "2021-12-03T15:50:24.517833Z",
     "shell.execute_reply": "2021-12-03T15:50:24.517547Z"
    },
    "papermill": {
     "duration": 0.02349,
     "end_time": "2021-12-03T15:50:24.517905",
     "exception": false,
     "start_time": "2021-12-03T15:50:24.494415",
     "status": "completed"
    },
    "tags": []
   },
   "outputs": [
    {
     "name": "stdout",
     "output_type": "stream",
     "text": [
      "CVAE_2021-12-03 10:50:24.513025\n"
     ]
    }
   ],
   "source": [
    "import os\n",
    "from datetime import datetime; now = datetime.now\n",
    "\n",
    "analysis_name = 'CVAE_'+str(now())\n",
    "save_dir = os.path.join('../Assets/tf_weights',analysis_name)\n",
    "if not os.path.exists(save_dir):\n",
    "    os.mkdir(save_dir)\n",
    "    \n",
    "print(analysis_name)"
   ]
  },
  {
   "cell_type": "code",
   "execution_count": 6,
   "id": "d2f43427",
   "metadata": {
    "execution": {
     "iopub.execute_input": "2021-12-03T15:50:24.554744Z",
     "iopub.status.busy": "2021-12-03T15:50:24.554416Z",
     "iopub.status.idle": "2021-12-03T15:50:24.574880Z",
     "shell.execute_reply": "2021-12-03T15:50:24.574590Z"
    },
    "papermill": {
     "duration": 0.040279,
     "end_time": "2021-12-03T15:50:24.574951",
     "exception": false,
     "start_time": "2021-12-03T15:50:24.534672",
     "status": "completed"
    },
    "tags": []
   },
   "outputs": [
    {
     "name": "stdout",
     "output_type": "stream",
     "text": [
      "Total memory: 15.78173828125\n",
      "Free memory: 15.3359375\n",
      "Used memory: 0.44580078125\n"
     ]
    }
   ],
   "source": [
    "# CHECK GPU\n",
    "import nvidia_smi\n",
    "try:\n",
    "    nvidia_smi.nvmlInit()\n",
    "\n",
    "    handle = nvidia_smi.nvmlDeviceGetHandleByIndex(0)\n",
    "    # card id 0 hardcoded here, there is also a call to get all available card ids, so we could iterate\n",
    "\n",
    "    info = nvidia_smi.nvmlDeviceGetMemoryInfo(handle)\n",
    "\n",
    "    print(\"Total memory:\", (info.total/1024/1024/1024))\n",
    "    print(\"Free memory:\", (info.free/1024/1024/1024))\n",
    "    print(\"Used memory:\", (info.used/1024/1024/1024))\n",
    "\n",
    "    nvidia_smi.nvmlShutdown()\n",
    "except:\n",
    "    pass"
   ]
  },
  {
   "cell_type": "code",
   "execution_count": 7,
   "id": "7e6907d0",
   "metadata": {
    "execution": {
     "iopub.execute_input": "2021-12-03T15:50:24.611302Z",
     "iopub.status.busy": "2021-12-03T15:50:24.610976Z",
     "iopub.status.idle": "2021-12-03T15:50:24.612605Z",
     "shell.execute_reply": "2021-12-03T15:50:24.612293Z"
    },
    "papermill": {
     "duration": 0.020631,
     "end_time": "2021-12-03T15:50:24.612674",
     "exception": false,
     "start_time": "2021-12-03T15:50:24.592043",
     "status": "completed"
    },
    "tags": []
   },
   "outputs": [],
   "source": [
    "## SET UP"
   ]
  },
  {
   "cell_type": "code",
   "execution_count": 8,
   "id": "ffc6ce4a",
   "metadata": {
    "execution": {
     "iopub.execute_input": "2021-12-03T15:50:24.651379Z",
     "iopub.status.busy": "2021-12-03T15:50:24.651046Z",
     "iopub.status.idle": "2021-12-03T15:50:43.410386Z",
     "shell.execute_reply": "2021-12-03T15:50:43.410679Z"
    },
    "papermill": {
     "duration": 18.779329,
     "end_time": "2021-12-03T15:50:43.410842",
     "exception": false,
     "start_time": "2021-12-03T15:50:24.631513",
     "status": "completed"
    },
    "tags": []
   },
   "outputs": [],
   "source": [
    "import numpy as np\n",
    "import pandas as pd\n",
    "from tqdm import tqdm\n",
    "from matplotlib import pyplot as plt\n",
    "\n",
    "from functools import partial\n",
    "from tqdm import tqdm\n",
    "from umap import UMAP\n",
    "tqdm = partial(tqdm, position=0, leave=True) "
   ]
  },
  {
   "cell_type": "code",
   "execution_count": 9,
   "id": "9ddf38f6",
   "metadata": {
    "execution": {
     "iopub.execute_input": "2021-12-03T15:50:43.451954Z",
     "iopub.status.busy": "2021-12-03T15:50:43.451610Z",
     "iopub.status.idle": "2021-12-03T15:50:43.453275Z",
     "shell.execute_reply": "2021-12-03T15:50:43.453544Z"
    },
    "papermill": {
     "duration": 0.022183,
     "end_time": "2021-12-03T15:50:43.453644",
     "exception": false,
     "start_time": "2021-12-03T15:50:43.431461",
     "status": "completed"
    },
    "tags": []
   },
   "outputs": [
    {
     "data": {
      "text/plain": [
       "'/mmfs1/data/aglinska/BC-fMRI-AE/Notebooks'"
      ]
     },
     "execution_count": 9,
     "metadata": {},
     "output_type": "execute_result"
    }
   ],
   "source": [
    "pwd"
   ]
  },
  {
   "cell_type": "code",
   "execution_count": null,
   "id": "2978d6eb",
   "metadata": {
    "papermill": {
     "duration": 0.017102,
     "end_time": "2021-12-03T15:50:43.489245",
     "exception": false,
     "start_time": "2021-12-03T15:50:43.472143",
     "status": "completed"
    },
    "tags": []
   },
   "outputs": [],
   "source": []
  },
  {
   "cell_type": "code",
   "execution_count": 10,
   "id": "0a799625",
   "metadata": {
    "execution": {
     "iopub.execute_input": "2021-12-03T15:50:43.531729Z",
     "iopub.status.busy": "2021-12-03T15:50:43.531394Z",
     "iopub.status.idle": "2021-12-03T15:50:43.543097Z",
     "shell.execute_reply": "2021-12-03T15:50:43.543358Z"
    },
    "papermill": {
     "duration": 0.036999,
     "end_time": "2021-12-03T15:50:43.543445",
     "exception": false,
     "start_time": "2021-12-03T15:50:43.506446",
     "status": "completed"
    },
    "tags": []
   },
   "outputs": [
    {
     "name": "stdout",
     "output_type": "stream",
     "text": [
      "1048\n"
     ]
    }
   ],
   "source": [
    "df = pd.read_csv('../Data/ABIDE_df2.csv')\n",
    "df = df.iloc[~pd.isna(df['bids_folder']).values]\n",
    "df = df.sort_values(by='bids_folder')\n",
    "print(len(df))\n",
    "#data_dir = '../Assets/fc_mats_32smooth_new/'\n",
    "data_dir = '../Assets/abide_1_cmats'"
   ]
  },
  {
   "cell_type": "code",
   "execution_count": 11,
   "id": "2b79d73c",
   "metadata": {
    "execution": {
     "iopub.execute_input": "2021-12-03T15:50:43.581713Z",
     "iopub.status.busy": "2021-12-03T15:50:43.581383Z",
     "iopub.status.idle": "2021-12-03T15:50:43.610319Z",
     "shell.execute_reply": "2021-12-03T15:50:43.610038Z"
    },
    "papermill": {
     "duration": 0.049392,
     "end_time": "2021-12-03T15:50:43.610391",
     "exception": false,
     "start_time": "2021-12-03T15:50:43.560999",
     "status": "completed"
    },
    "tags": []
   },
   "outputs": [
    {
     "name": "stdout",
     "output_type": "stream",
     "text": [
      "1048\n"
     ]
    },
    {
     "data": {
      "text/plain": [
       "array(['sub-CMUa0050642.npy', 'sub-CMUa0050646.npy',\n",
       "       'sub-CMUa0050647.npy', 'sub-CMUa0050649.npy',\n",
       "       'sub-CMUa0050653.npy'], dtype='<U23')"
      ]
     },
     "execution_count": 11,
     "metadata": {},
     "output_type": "execute_result"
    }
   ],
   "source": [
    "files = [file for file in os.listdir(data_dir) if file.endswith('.npy')]\n",
    "files = np.array(files)\n",
    "files.sort()\n",
    "is_inDF = np.array([file.replace('.npy','') in df['bids_folder'].values for file in files])\n",
    "files = files[is_inDF]\n",
    "\n",
    "print(len(files))\n",
    "files[0:5]"
   ]
  },
  {
   "cell_type": "code",
   "execution_count": 12,
   "id": "3d707278",
   "metadata": {
    "execution": {
     "iopub.execute_input": "2021-12-03T15:50:43.650992Z",
     "iopub.status.busy": "2021-12-03T15:50:43.650648Z",
     "iopub.status.idle": "2021-12-03T15:50:51.228935Z",
     "shell.execute_reply": "2021-12-03T15:50:51.228634Z"
    },
    "papermill": {
     "duration": 7.600292,
     "end_time": "2021-12-03T15:50:51.229020",
     "exception": false,
     "start_time": "2021-12-03T15:50:43.628728",
     "status": "completed"
    },
    "tags": []
   },
   "outputs": [],
   "source": [
    "cmats = np.array([np.load(os.path.join(data_dir,file)) for file in files])\n",
    "has_na = np.array([np.isnan(cmats[i,:,:]).sum()>0 for i in range(cmats.shape[0])])\n",
    "assert has_na.sum()==0, 'nans in cmats'"
   ]
  },
  {
   "cell_type": "code",
   "execution_count": 13,
   "id": "ca7d0da1",
   "metadata": {
    "execution": {
     "iopub.execute_input": "2021-12-03T15:50:51.272717Z",
     "iopub.status.busy": "2021-12-03T15:50:51.272398Z",
     "iopub.status.idle": "2021-12-03T15:50:51.273736Z",
     "shell.execute_reply": "2021-12-03T15:50:51.273467Z"
    },
    "papermill": {
     "duration": 0.024879,
     "end_time": "2021-12-03T15:50:51.273806",
     "exception": false,
     "start_time": "2021-12-03T15:50:51.248927",
     "status": "completed"
    },
    "tags": []
   },
   "outputs": [],
   "source": [
    "assert len(df)==len(files),'mismatch'\n",
    "assert all([df['bids_folder'].values[i]==files[i].replace('.npy','') for i in range(len(df))]), 'out of order'"
   ]
  },
  {
   "cell_type": "code",
   "execution_count": null,
   "id": "0c79d1aa",
   "metadata": {
    "papermill": {
     "duration": 0.017834,
     "end_time": "2021-12-03T15:50:51.309428",
     "exception": false,
     "start_time": "2021-12-03T15:50:51.291594",
     "status": "completed"
    },
    "tags": []
   },
   "outputs": [],
   "source": []
  },
  {
   "cell_type": "code",
   "execution_count": 14,
   "id": "9d1f0697",
   "metadata": {
    "execution": {
     "iopub.execute_input": "2021-12-03T15:50:51.347948Z",
     "iopub.status.busy": "2021-12-03T15:50:51.347611Z",
     "iopub.status.idle": "2021-12-03T15:50:51.601952Z",
     "shell.execute_reply": "2021-12-03T15:50:51.602214Z"
    },
    "papermill": {
     "duration": 0.275225,
     "end_time": "2021-12-03T15:50:51.602300",
     "exception": false,
     "start_time": "2021-12-03T15:50:51.327075",
     "status": "completed"
    },
    "tags": []
   },
   "outputs": [
    {
     "name": "stdout",
     "output_type": "stream",
     "text": [
      "CPU times: user 49.1 ms, sys: 12.7 ms, total: 61.8 ms\n",
      "Wall time: 252 ms\n"
     ]
    },
    {
     "data": {
      "text/plain": [
       "<module 'tensorflow' from '/data/aglinska/anaconda3/lib/python3.8/site-packages/tensorflow/__init__.py'>"
      ]
     },
     "execution_count": 14,
     "metadata": {},
     "output_type": "execute_result"
    }
   ],
   "source": [
    "%%time\n",
    "from importlib import reload\n",
    "import helper_funcs;reload(helper_funcs);from helper_funcs import *\n",
    "del helper_funcs\n",
    "import make_models;reload(make_models);from make_models import *\n",
    "del make_models\n",
    "\n",
    "from IPython import display\n",
    "import sys\n",
    "from sklearn.decomposition import PCA\n",
    "import seaborn as sns\n",
    "\n",
    "import tensorflow as tf\n",
    "reload(tf)"
   ]
  },
  {
   "cell_type": "code",
   "execution_count": 15,
   "id": "53ed25c8",
   "metadata": {
    "execution": {
     "iopub.execute_input": "2021-12-03T15:50:51.647324Z",
     "iopub.status.busy": "2021-12-03T15:50:51.646987Z",
     "iopub.status.idle": "2021-12-03T15:50:51.648295Z",
     "shell.execute_reply": "2021-12-03T15:50:51.648549Z"
    },
    "papermill": {
     "duration": 0.028112,
     "end_time": "2021-12-03T15:50:51.648631",
     "exception": false,
     "start_time": "2021-12-03T15:50:51.620519",
     "status": "completed"
    },
    "tags": []
   },
   "outputs": [],
   "source": [
    "class cvae_data_loader():\n",
    "    ''' this is the info'''\n",
    "    def __init__(self,data_dir,df,batch_size=32):\n",
    "        #self.data = data\n",
    "        #self.n = data.shape[0]\n",
    "        self.n = len(df)\n",
    "        self.data_dir = data_dir\n",
    "        self.epoch = -1\n",
    "        self.batch_size = batch_size\n",
    "        self.df = df\n",
    "        \n",
    "        self.new_epoch()\n",
    "        self.n_batches = int(np.floor(min((len(self.asd_idxs),len(self.td_idxs)))/self.batch_size))\n",
    "        \n",
    "    def new_epoch(self):\n",
    "        #self.df = self.df.iloc[np.random.permutation(np.arange(self.n))]\n",
    "        #self.df.index = np.arange(self.n)\n",
    "        self.asd_idxs = np.nonzero((self.df['DX_GROUP'].values==1))[0]\n",
    "        self.td_idxs = np.nonzero((self.df['DX_GROUP'].values==2))[0]\n",
    "        \n",
    "        self.asd_idxs = np.random.permutation(self.asd_idxs)\n",
    "        self.td_idxs = np.random.permutation(self.td_idxs)\n",
    "        \n",
    "        self.epoch += 1\n",
    "        self.b = 0\n",
    "        \n",
    "        \n",
    "    def get_batch(self):\n",
    "        self.b += 1\n",
    "        \n",
    "        if self.b==self.n_batches:\n",
    "            self.new_epoch()\n",
    "        \n",
    "        \n",
    "        self.batch_asd_idx = self.asd_idxs[np.arange(self.b*self.batch_size,self.b*self.batch_size+self.batch_size)]\n",
    "        self.batch_td_idx = self.td_idxs[np.arange(self.b*self.batch_size,self.b*self.batch_size+self.batch_size)]\n",
    "        self.batch_asd = np.array([np.load(os.path.join(self.data_dir,val+'.npy')) for val in self.df['bids_folder'].values[self.batch_asd_idx]])\n",
    "        self.batch_td = np.array([np.load(os.path.join(self.data_dir,val+'.npy')) for val in self.df['bids_folder'].values[self.batch_td_idx]])\n",
    "        self.batch_df = self.df.iloc[np.hstack((self.batch_asd_idx,self.batch_td_idx)),:]\n",
    "        \n",
    "        self.batch_asd = (self.batch_asd+1)/2\n",
    "        self.batch_td = (self.batch_td)/2\n",
    "        \n",
    "    \n",
    "        return self.batch_asd,self.batch_td,self.batch_df"
   ]
  },
  {
   "cell_type": "code",
   "execution_count": 16,
   "id": "75c33eb6",
   "metadata": {
    "execution": {
     "iopub.execute_input": "2021-12-03T15:50:52.242673Z",
     "iopub.status.busy": "2021-12-03T15:50:52.242320Z",
     "iopub.status.idle": "2021-12-03T15:50:52.244006Z",
     "shell.execute_reply": "2021-12-03T15:50:52.244265Z"
    },
    "papermill": {
     "duration": 0.577473,
     "end_time": "2021-12-03T15:50:52.244375",
     "exception": false,
     "start_time": "2021-12-03T15:50:51.666902",
     "status": "completed"
    },
    "tags": []
   },
   "outputs": [
    {
     "data": {
      "text/plain": [
       "'/device:GPU:0'"
      ]
     },
     "execution_count": 16,
     "metadata": {},
     "output_type": "execute_result"
    }
   ],
   "source": [
    "import tensorflow as tf\n",
    "tf.test.gpu_device_name()"
   ]
  },
  {
   "cell_type": "code",
   "execution_count": 17,
   "id": "e56ee41b",
   "metadata": {
    "execution": {
     "iopub.execute_input": "2021-12-03T15:50:52.284744Z",
     "iopub.status.busy": "2021-12-03T15:50:52.284419Z",
     "iopub.status.idle": "2021-12-03T15:50:52.291898Z",
     "shell.execute_reply": "2021-12-03T15:50:52.291626Z"
    },
    "papermill": {
     "duration": 0.028635,
     "end_time": "2021-12-03T15:50:52.291972",
     "exception": false,
     "start_time": "2021-12-03T15:50:52.263337",
     "status": "completed"
    },
    "tags": []
   },
   "outputs": [],
   "source": [
    "# PADDING\n",
    "pad2d = tf.keras.layers.ZeroPadding2D(padding=((6,7),(6,7))) #If tuple of 2 tuples of 2 ints: interpreted as ((top_pad, bottom_pad), (left_pad, right_pad))"
   ]
  },
  {
   "cell_type": "code",
   "execution_count": 18,
   "id": "065d6435",
   "metadata": {
    "execution": {
     "iopub.execute_input": "2021-12-03T15:50:52.331955Z",
     "iopub.status.busy": "2021-12-03T15:50:52.331620Z",
     "iopub.status.idle": "2021-12-03T15:50:52.353304Z",
     "shell.execute_reply": "2021-12-03T15:50:52.353040Z"
    },
    "papermill": {
     "duration": 0.042947,
     "end_time": "2021-12-03T15:50:52.353376",
     "exception": false,
     "start_time": "2021-12-03T15:50:52.310429",
     "status": "completed"
    },
    "tags": []
   },
   "outputs": [],
   "source": [
    "#data_dir = '../Assets/fc_mats_32smooth_new'\n",
    "data_loader = cvae_data_loader(data_dir=data_dir, df=df, batch_size=32)\n",
    "batch_asd,batch_td,batch_df = data_loader.get_batch()"
   ]
  },
  {
   "cell_type": "code",
   "execution_count": 19,
   "id": "a79fdac7",
   "metadata": {
    "execution": {
     "iopub.execute_input": "2021-12-03T15:50:52.392566Z",
     "iopub.status.busy": "2021-12-03T15:50:52.392252Z",
     "iopub.status.idle": "2021-12-03T15:50:52.394670Z",
     "shell.execute_reply": "2021-12-03T15:50:52.394399Z"
    },
    "papermill": {
     "duration": 0.022877,
     "end_time": "2021-12-03T15:50:52.394739",
     "exception": false,
     "start_time": "2021-12-03T15:50:52.371862",
     "status": "completed"
    },
    "tags": []
   },
   "outputs": [
    {
     "data": {
      "text/plain": [
       "(0.15395283629444367, 1.0)"
      ]
     },
     "execution_count": 19,
     "metadata": {},
     "output_type": "execute_result"
    }
   ],
   "source": [
    "(batch_asd.min(),batch_asd.max())"
   ]
  },
  {
   "cell_type": "code",
   "execution_count": 20,
   "id": "0839bdc9",
   "metadata": {
    "execution": {
     "iopub.execute_input": "2021-12-03T15:50:52.435076Z",
     "iopub.status.busy": "2021-12-03T15:50:52.434752Z",
     "iopub.status.idle": "2021-12-03T15:50:52.436364Z",
     "shell.execute_reply": "2021-12-03T15:50:52.436620Z"
    },
    "papermill": {
     "duration": 0.02314,
     "end_time": "2021-12-03T15:50:52.436700",
     "exception": false,
     "start_time": "2021-12-03T15:50:52.413560",
     "status": "completed"
    },
    "tags": []
   },
   "outputs": [
    {
     "data": {
      "text/plain": [
       "array([1048,   51,   51])"
      ]
     },
     "execution_count": 20,
     "metadata": {},
     "output_type": "execute_result"
    }
   ],
   "source": [
    "data_size = np.hstack((len(df),batch_asd.shape[1:]))\n",
    "data_size"
   ]
  },
  {
   "cell_type": "code",
   "execution_count": null,
   "id": "daaadbf6",
   "metadata": {
    "papermill": {
     "duration": 0.018815,
     "end_time": "2021-12-03T15:50:52.474449",
     "exception": false,
     "start_time": "2021-12-03T15:50:52.455634",
     "status": "completed"
    },
    "tags": []
   },
   "outputs": [],
   "source": []
  },
  {
   "cell_type": "code",
   "execution_count": 21,
   "id": "9b253625",
   "metadata": {
    "execution": {
     "iopub.execute_input": "2021-12-03T15:50:52.520451Z",
     "iopub.status.busy": "2021-12-03T15:50:52.520122Z",
     "iopub.status.idle": "2021-12-03T15:50:52.760638Z",
     "shell.execute_reply": "2021-12-03T15:50:52.760361Z"
    },
    "papermill": {
     "duration": 0.267294,
     "end_time": "2021-12-03T15:50:52.760709",
     "exception": false,
     "start_time": "2021-12-03T15:50:52.493415",
     "status": "completed"
    },
    "tags": []
   },
   "outputs": [
    {
     "name": "stdout",
     "output_type": "stream",
     "text": [
      "WARNING:tensorflow:Layer zero_padding2d is casting an input tensor from dtype float64 to the layer's dtype of float32, which is new behavior in TensorFlow 2.  The layer has dtype float32 because its dtype defaults to floatx.\n",
      "\n",
      "If you intended to run this layer in float32, you can safely ignore this warning. If in doubt, this warning is likely only an issue if you are porting a TensorFlow 1.X model to TensorFlow 2.\n",
      "\n",
      "To change all layers to have dtype float64 by default, call `tf.keras.backend.set_floatx('float64')`. To change just this layer, pass dtype='float64' to the layer constructor. If you are the author of this layer, you can disable autocasting by passing autocast=False to the base Layer constructor.\n",
      "\n"
     ]
    }
   ],
   "source": [
    "# RSA\n",
    "patients = ~np.isnan(df['ADOS_TOTAL'].values) * (df['DX_GROUP'].values==1) * ~np.isnan(df['FIQ'].values)\n",
    "cdata = np.array([np.load(os.path.join(data_dir,sub+'.npy')) for sub in df['bids_folder'].values[patients]])\n",
    "cdata_pad = pad2d(cdata[:,:,:,np.newaxis]).numpy()[:,:,:,:]\n",
    "\n",
    "def get_batch_RSA():\n",
    "    Z = z_encoder.predict(cdata_pad)\n",
    "    S = s_encoder.predict(cdata_pad)\n",
    "\n",
    "    rdm_z = make_RDM(Z[2])\n",
    "    rdm_s = make_RDM(S[2])\n",
    "\n",
    "    rdm_age = make_RDM(df['AGE_AT_SCAN'].values[patients])\n",
    "    rdm_sex = make_RDM(df['SEX'].values[patients],data_scale='ordinal')\n",
    "    rdm_fiq = make_RDM(df['FIQ'].values[patients])\n",
    "    rdm_dsm = make_RDM(df['DSM_IV_TR'].values[patients],data_scale='ordinal')\n",
    "    rdm_site = make_RDM(df['site'].values[patients],data_scale='ordinal')\n",
    "    rdm_adosTotal = make_RDM(df['ADOS_TOTAL'].values[patients])\n",
    "    \n",
    "    \n",
    "    batch_rsas_s = dict()\n",
    "    batch_rsas_z = dict()\n",
    "    \n",
    "    \n",
    "    batch_rsas_s['Site'] = fit_rsa(rdm_s,rdm_site)\n",
    "    batch_rsas_s['Age'] = fit_rsa(rdm_s,rdm_age)\n",
    "    batch_rsas_s['Sex'] = fit_rsa(rdm_s,rdm_sex)\n",
    "    batch_rsas_s['DSM'] = fit_rsa(rdm_s,rdm_dsm)\n",
    "    batch_rsas_s['ADOS'] = fit_rsa(rdm_s,rdm_adosTotal)\n",
    "    batch_rsas_s['FIQ'] = fit_rsa(rdm_s,rdm_fiq)\n",
    "\n",
    "    batch_rsas_z['Site'] = fit_rsa(rdm_z,rdm_site)\n",
    "    batch_rsas_z['Age'] = fit_rsa(rdm_z,rdm_age)\n",
    "    batch_rsas_z['Sex'] = fit_rsa(rdm_z,rdm_sex)\n",
    "    batch_rsas_z['DSM'] = fit_rsa(rdm_z,rdm_dsm)\n",
    "    batch_rsas_z['ADOS'] = fit_rsa(rdm_z,rdm_adosTotal)\n",
    "    batch_rsas_z['FIQ'] = fit_rsa(rdm_z,rdm_fiq)\n",
    "    \n",
    "    batch_rsas = dict()\n",
    "    batch_rsas['batch_rsas_z'] = batch_rsas_z\n",
    "    batch_rsas['batch_rsas_s'] = batch_rsas_s\n",
    "    \n",
    "    return batch_rsas"
   ]
  },
  {
   "cell_type": "code",
   "execution_count": 22,
   "id": "360dc2f5",
   "metadata": {
    "execution": {
     "iopub.execute_input": "2021-12-03T15:50:52.832641Z",
     "iopub.status.busy": "2021-12-03T15:50:52.821566Z",
     "iopub.status.idle": "2021-12-03T15:50:52.834111Z",
     "shell.execute_reply": "2021-12-03T15:50:52.833836Z"
    },
    "papermill": {
     "duration": 0.054381,
     "end_time": "2021-12-03T15:50:52.834180",
     "exception": false,
     "start_time": "2021-12-03T15:50:52.779799",
     "status": "completed"
    },
    "tags": []
   },
   "outputs": [],
   "source": [
    "def cvae_dashboard(red='PCA'):        \n",
    "    #prediction = cvae.predict(patient_batch)    \n",
    "    predictions = cvae.predict([patient_batch,control_batch])\n",
    "    sigma = (np.e ** z_encoder.predict(patient_batch)[1]).mean()\n",
    "    sigmas.append(sigma)\n",
    "\n",
    "    \n",
    "    ss = 6;ff=57\n",
    "    \n",
    "    mu = z_encoder.predict(patient_batch)[0]\n",
    "    mus.append(np.mean([mu[:,0].std() for i in range(mu.shape[1])]))\n",
    "\n",
    "    prediction = predictions[0]\n",
    "\n",
    "    cmat_actual = np.corrcoef(np.vstack((patient_batch[:,ss:ff,ss:ff].reshape(patient_batch.shape[0],-1),control_batch[:,ss:ff,ss:ff].reshape(control_batch.shape[0],-1))))\n",
    "    cmat_pred = np.corrcoef(np.vstack((predictions[0][:,ss:ff,ss:ff,:].reshape(predictions[0].shape[0],-1),predictions[1][:,ss:ff,ss:ff,:].reshape(predictions[1].shape[0],-1))))\n",
    "    c_sim.append(np.corrcoef(get_triu(cmat_pred),get_triu(cmat_actual))[0,1])\n",
    "\n",
    "\n",
    "    ### PROGRESS PLOTTING\n",
    "    display.clear_output(wait=True);\n",
    "    display.display(plt.gcf());\n",
    "    #Organise figure\n",
    "    ncols = 4;nrows=7\n",
    "    if np.mod(i,5)==0:\n",
    "        plt.close()\n",
    "    plt.subplots(nrows,ncols,figsize=(15,15)); # MAKE THE FIGURE\n",
    "\n",
    "\n",
    "    ##### SUBPLOT 1 & 2 ##### \n",
    "\n",
    "    plt.subplot(nrows,ncols/2,1) # PLOT LOSS\n",
    "    xs = np.arange(len(loss))+1\n",
    "    m,b = np.polyfit(xs,loss,deg=1)\n",
    "    plt.plot(loss)\n",
    "    plt.plot(xs, m*xs + b)\n",
    "    plt.title(f'Epoch {data_loader.epoch} batch {data_loader.b}/{data_loader.n_batches} | Loss {loss[-1]:.2f}, beta: {m:.4f}')\n",
    "\n",
    "    ##### SUBPLOT 3 ##### \n",
    "    plt.subplot(nrows,ncols,3) # PLOT LOSS LAST 50\n",
    "    hb = 50\n",
    "    if len(loss)>hb:\n",
    "        plot_loss = loss[-hb::]\n",
    "        xs = np.arange(len(plot_loss))\n",
    "        m,b = np.polyfit(xs,plot_loss,deg=1)\n",
    "        plt.plot(plot_loss)\n",
    "        plt.plot(xs, m*xs + b)\n",
    "        #plt.title(hist)\n",
    "        plt.title(f'Loss last {hb} it, beta {m:.4f}')\n",
    "\n",
    "    ##### SUBPLOT 4 ##### \n",
    "    plt.subplot(nrows,ncols,4)\n",
    "    plt.hist(prediction[0,ss:ff,ss:ff,0].flatten(),alpha=.5)\n",
    "    plt.hist(patient_batch[0,ss:ff,ss:ff].flatten(),alpha=.5)\n",
    "    plt.legend(['predicted','actual'])\n",
    "    plt.title('in/out histograms')\n",
    "\n",
    "    ##### SUBPLOT 5 ##### \n",
    "    plt.subplot(nrows,ncols,5) #RSA over time\n",
    "    plt.plot(c_sim)\n",
    "    plt.title(f'in/out RSA: {c_sim[-1].round(2)}')\n",
    "\n",
    "    if len(c_sim)>5: # PLOT LS LINE\n",
    "        xs = np.arange(len(c_sim))+1\n",
    "        m,b = np.polyfit(xs,c_sim,deg=1)\n",
    "        plt.plot(xs, m*xs + b)\n",
    "        plt.title(f'in/out RSA: {c_sim[-1].round(2)}, b={m:.4f}')\n",
    "\n",
    "\n",
    "    ##### SUBPLOT 6 ##### \n",
    "    plt.subplot(nrows,ncols,6)\n",
    "    if len(c_sim)>hb:\n",
    "        #plot_loss = loss[-hb::]\n",
    "        xs = np.arange(len(c_sim[-hb::]))\n",
    "        m,b = np.polyfit(xs,c_sim[-hb::],deg=1)\n",
    "        plt.plot(c_sim[-hb::])\n",
    "        plt.plot(xs, m*xs + b)\n",
    "        #plt.title(hist)\n",
    "        plt.title(f'in/outRSA last {hb} it, b={m:.4f}')\n",
    "        \n",
    "        \n",
    "        \n",
    "    batch_rsas = get_batch_RSA()\n",
    "    batch_rsas_z = batch_rsas['batch_rsas_z']\n",
    "    batch_rsas_s = batch_rsas['batch_rsas_s']\n",
    "    \n",
    "    # ##### SUBPLOT 7 ##### \n",
    "    plt.subplot(nrows,ncols,7)    \n",
    "    xlbls = list(batch_rsas_z.keys())\n",
    "    xs = np.arange(len(xlbls))\n",
    "    ys = np.array([batch_rsas_z[key] for key in xlbls])\n",
    "    plt.bar(xs,ys)\n",
    "    plt.xticks(xs,labels=xlbls);\n",
    "    plt.title('Z RSA')\n",
    "    \n",
    "    # ##### SUBPLOT 8 ##### \n",
    "    plt.subplot(nrows,ncols,8)    \n",
    "    xlbls = list(batch_rsas_s.keys())\n",
    "    xs = np.arange(len(xlbls))\n",
    "    ys = np.array([batch_rsas_s[key] for key in xlbls])\n",
    "    plt.bar(xs,ys)\n",
    "    plt.xticks(xs,labels=xlbls);\n",
    "    plt.title('S RSA')\n",
    "\n",
    "    ##### SUBPLOT 9 ##### \n",
    "    plt.subplot(nrows,ncols,9)\n",
    "    plt.plot(sigmas)\n",
    "    plt.title(f'sigmas | {sigmas[-1]:.4f}')\n",
    "\n",
    "\n",
    "    ##### SUBPLOT 10 ##### \n",
    "    plt.subplot(nrows,ncols,10)\n",
    "    plt.plot(mus)\n",
    "    plt.title(f'Mu variance {mus[-1]:.4f}')\n",
    "\n",
    "\n",
    "    ##### SUBPLOT 11 ##### \n",
    "    plt.subplot(nrows,ncols,11)\n",
    "    sns.heatmap(cmat_actual,xticklabels=[],yticklabels=[])\n",
    "    plt.title('input RSA')\n",
    "\n",
    "    ##### SUBPLOT 12 ##### \n",
    "    plt.subplot(nrows,ncols,12)\n",
    "    sns.heatmap(cmat_pred,xticklabels=[],yticklabels=[])\n",
    "    plt.title('output RSA')\n",
    "\n",
    "    # #############################################\n",
    "    # ###################Reconstructions###########\n",
    "    # #############################################\n",
    "\n",
    "    ##### SUBPLOT 13 #####     \n",
    "    rand_sub = np.random.randint(low=0,high=patient_batch.shape[0])\n",
    "\n",
    "    plt.subplot(nrows,ncols,13)\n",
    "    sns.heatmap(patient_batch[rand_sub,ss:ff,ss:ff])\n",
    "    plt.xticks([]);plt.yticks([]);plt.title('actual')\n",
    "    ##### SUBPLOT 14 #####     \n",
    "    plt.subplot(nrows,ncols,14)\n",
    "    sns.heatmap(prediction[rand_sub,ss:ff,ss:ff,0])\n",
    "    plt.xticks([]);plt.yticks([]);plt.title('predicted')\n",
    "    # ##### SUBPLOT 15 #####     \n",
    "    plt.subplot(nrows,ncols,15)\n",
    "    sns.heatmap(abs(patient_batch[rand_sub,ss:ff,ss:ff]-prediction[rand_sub,ss:ff,ss:ff,0]))\n",
    "    plt.xticks([]);plt.yticks([]);plt.title('difference')\n",
    "\n",
    "\n",
    "    # ##### SUBPLOT 16 #####                                             \n",
    "    # plt.subplot(nrows,ncols,16)\n",
    "    # plt.imshow(np.rot90(prediction[rand_sub,16,:,:,rand_map]))\n",
    "    # plt.xticks([]);plt.yticks([]);plt.title('predicted')\n",
    "    # ##### SUBPLOT 17 #####     \n",
    "    # plt.subplot(nrows,ncols,17)\n",
    "    # plt.imshow(np.rot90(patient_batch[rand_sub,6,:,:,rand_map]))\n",
    "    # plt.xticks([]);plt.yticks([]);plt.title('actual')\n",
    "    # ##### SUBPLOT 18 #####                                             \n",
    "    # plt.subplot(nrows,ncols,18)\n",
    "    # plt.imshow(np.rot90(prediction[rand_sub,6,:,:,rand_map]))\n",
    "    # plt.xticks([]);plt.yticks([]);plt.title('predicted')\n",
    "    # ##### SUBPLOT 19 #####     \n",
    "    # plt.subplot(nrows,ncols,19)\n",
    "    # plt.imshow(patient_batch[rand_sub,:,:,16,rand_map])\n",
    "    # plt.xticks([]);plt.yticks([]);plt.title('actual')\n",
    "    # ##### SUBPLOT 20 #####     \n",
    "    # plt.subplot(nrows,ncols,20)\n",
    "    # plt.imshow(prediction[rand_sub,:,:,16,rand_map])\n",
    "    # plt.xticks([]);plt.yticks([]);plt.title('predicted')\n",
    "\n",
    "\n",
    "    # #############################################\n",
    "    # ################### LOSSES ##################\n",
    "    # #############################################\n",
    "\n",
    "\n",
    "    predictions = cvae.predict([patient_batch,control_batch])\n",
    "    input_shape = data_size[1:]\n",
    "    reconstruction_loss = tf.keras.losses.mse(K.flatten(patient_batch[:,ss:ff,ss:ff]), K.flatten(predictions[0][:,ss:ff,ss:ff,0])) \n",
    "    reconstruction_loss += tf.keras.losses.mse(K.flatten(control_batch[:,ss:ff,ss:ff]), K.flatten(predictions[1][:,ss:ff,ss:ff,0])) \n",
    "    reconstruction_loss *= input_shape[0] * input_shape[1]\n",
    "\n",
    "\n",
    "    tg_z_mean, tg_z_log_var, tg_z = z_encoder.predict(patient_batch)\n",
    "    tg_s_mean, tg_s_log_var, tg_s = s_encoder.predict(patient_batch)\n",
    "    bg_z_mean, bg_z_log_var, bg_z = z_encoder.predict(control_batch)\n",
    "\n",
    "    kl_loss1 = 1 + tg_z_log_var - tf.keras.backend.square(tg_z_mean) - tf.keras.backend.exp(tg_z_log_var)\n",
    "    kl_loss2 = 1 + tg_s_log_var - tf.keras.backend.square(tg_s_mean) - tf.keras.backend.exp(tg_s_log_var)\n",
    "    kl_loss3 = 1 + bg_z_log_var - tf.keras.backend.square(bg_z_mean) - tf.keras.backend.exp(bg_z_log_var)\n",
    "\n",
    "    kl_loss1 = tf.keras.backend.sum(kl_loss1, axis=-1)\n",
    "    kl_loss2 = tf.keras.backend.sum(kl_loss2, axis=-1)\n",
    "    kl_loss3 = tf.keras.backend.sum(kl_loss3, axis=-1)\n",
    "    kl_loss = kl_loss1+kl_loss2+kl_loss3\n",
    "    kl_loss *= -0.5\n",
    "\n",
    "\n",
    "    discriminator = Dense(1, activation='sigmoid')\n",
    "    z1 = Lambda(lambda x: x[:int(batch_size/2),:])(tg_z)\n",
    "    z2 = Lambda(lambda x: x[int(batch_size/2):,:])(tg_z)\n",
    "    s1 = Lambda(lambda x: x[:int(batch_size/2),:])(tg_s)\n",
    "    s2 = Lambda(lambda x: x[int(batch_size/2):,:])(tg_s)\n",
    "\n",
    "    q_bar = tf.keras.layers.concatenate(\n",
    "      [tf.keras.layers.concatenate([s1, z2], axis=1),\n",
    "      tf.keras.layers.concatenate([s2, z1], axis=1)],\n",
    "      axis=0)\n",
    "\n",
    "    q = tf.keras.layers.concatenate(\n",
    "      [tf.keras.layers.concatenate([s1, z1], axis=1),\n",
    "      tf.keras.layers.concatenate([s2, z2], axis=1)],\n",
    "      axis=0)\n",
    "\n",
    "    q_bar_score = (discriminator(q_bar)+.1) *.85 # +.1 * .85 so that it's 0<x<1\n",
    "    q_score = (discriminator(q)+.1) *.85 \n",
    "    tc_loss = K.log(q_score / (1 - q_score)) \n",
    "    discriminator_loss = - K.log(q_score) - K.log(1 - q_bar_score)\n",
    "    discriminator_loss\n",
    "\n",
    "    loss_mse.append(reconstruction_loss.numpy())\n",
    "    loss_kl.append(kl_loss.numpy().mean())\n",
    "    loss_dc.append(tc_loss.numpy().mean())\n",
    "    loss_tc.append(discriminator_loss.numpy().mean())\n",
    "\n",
    "\n",
    "    plt.subplot(nrows,ncols,21) # MSE \n",
    "    plt.plot(loss_mse)\n",
    "    plt.title(f'MSE | {loss_mse[-1]:.4f}')\n",
    "\n",
    "    plt.subplot(nrows,ncols,22) # KL loss\n",
    "    plt.plot(loss_kl)\n",
    "    plt.title(f'KL | {loss_kl[-1]:.4f}')    \n",
    "\n",
    "\n",
    "    plt.subplot(nrows,ncols,23) # TC     \n",
    "    plt.plot(loss_tc)\n",
    "    plt.title(f'Total Correlation loss | {loss_tc[-1]:.4f}')    \n",
    "\n",
    "\n",
    "    plt.subplot(nrows,ncols,24) # Disc         \n",
    "    plt.plot(loss_dc)\n",
    "    plt.title(f'discriminator_loss | {loss_dc[-1]:.4f}')    \n",
    "\n",
    "\n",
    "    tg_s = s_encoder.predict(patient_batch)\n",
    "    tg_z = z_encoder.predict(patient_batch)\n",
    "    bg_z = z_encoder.predict(control_batch)\n",
    "\n",
    "    plt.subplot(nrows,ncols,25)\n",
    "    plt.hist(tg_s[2].flatten(),alpha=.5);\n",
    "    plt.hist(tg_z[2].flatten(),alpha=.5);\n",
    "    plt.hist(bg_z[2].flatten(),alpha=.5);\n",
    "    plt.legend(['tg_s','tg_z','bg_z'])\n",
    "    plt.title('Z')\n",
    "\n",
    "\n",
    "    plt.subplot(nrows,ncols,26)\n",
    "    plt.hist(tg_s[0].flatten(),alpha=.5);\n",
    "    plt.hist(tg_z[0].flatten(),alpha=.5);\n",
    "    plt.hist(bg_z[0].flatten(),alpha=.5);\n",
    "    plt.legend(['tg_s','tg_z','bg_z'])\n",
    "    plt.title('Mus')\n",
    "\n",
    "\n",
    "    plt.subplot(nrows,ncols,27)\n",
    "    plt.hist(tg_s[1].flatten(),alpha=.5);\n",
    "    plt.hist(tg_z[1].flatten(),alpha=.5);\n",
    "    plt.hist(bg_z[1].flatten(),alpha=.5);\n",
    "    plt.legend(['tg_s','tg_z','bg_z'])\n",
    "    plt.title('Sigmas')\n",
    "\n",
    "    plt.tight_layout()\n",
    "    plt.show()\n",
    "    sys.stdout.flush()"
   ]
  },
  {
   "cell_type": "code",
   "execution_count": 23,
   "id": "521d6234",
   "metadata": {
    "execution": {
     "iopub.execute_input": "2021-12-03T15:50:52.898929Z",
     "iopub.status.busy": "2021-12-03T15:50:52.895980Z",
     "iopub.status.idle": "2021-12-03T15:50:52.899914Z",
     "shell.execute_reply": "2021-12-03T15:50:52.900171Z"
    },
    "papermill": {
     "duration": 0.046788,
     "end_time": "2021-12-03T15:50:52.900252",
     "exception": false,
     "start_time": "2021-12-03T15:50:52.853464",
     "status": "completed"
    },
    "tags": []
   },
   "outputs": [],
   "source": [
    "import tensorflow as tf\n",
    "import numpy as np\n",
    "import matplotlib.pyplot as plt\n",
    "from sklearn.metrics import silhouette_score\n",
    "from tensorflow.keras.layers import *\n",
    "from tensorflow.keras import backend as K\n",
    "from tensorflow.keras.models import Model\n",
    "from tensorflow.keras.losses import mse\n",
    "import os\n",
    "import pandas as pd\n",
    "\n",
    "def get_fMRI_CVAE_3D(input_shape=(51,51,1),\n",
    "                     latent_dim=[2,2],\n",
    "                     beta=1,\n",
    "                     disentangle=False,\n",
    "                     gamma=1,\n",
    "                     bias=True,\n",
    "                     batch_size = 32,\n",
    "                     kernel_size = 3,\n",
    "                     filters = 16,\n",
    "                     intermediate_dim = 128,\n",
    "                     nlayers = 2,\n",
    "                     learning_rate=0.001,\n",
    "                     opt=None):\n",
    "    \n",
    "    \n",
    "    ndim_bg = latent_dim[0]\n",
    "    ndim_sl = latent_dim[1]\n",
    "    \n",
    "    image_size, _, channels = input_shape\n",
    "\n",
    "    kernel_regularizer=regularizers.l2(.0001)\n",
    "\n",
    "    # build encoder model\n",
    "    tg_inputs = Input(shape=input_shape, name='tg_inputs')\n",
    "    bg_inputs = Input(shape=input_shape, name='bg_inputs')\n",
    "    \n",
    "    BatchNorm = tf.keras.layers.BatchNormalization(\n",
    "    axis=-1, momentum=0.99, epsilon=0.001, center=True, scale=True,\n",
    "    beta_initializer='zeros', gamma_initializer='ones',\n",
    "    moving_mean_initializer='zeros',\n",
    "    moving_variance_initializer='ones', beta_regularizer=None,\n",
    "    gamma_regularizer=None, beta_constraint=None, gamma_constraint=None)\n",
    "\n",
    "    #kernel_initializer = tf.keras.initializers.RandomNormal(mean=0.0,stddev=5)\n",
    "    kernel_initializer = tf.keras.initializers.RandomUniform()\n",
    "\n",
    "    # generate latent vector Q(z|X)\n",
    "    \n",
    "    \n",
    "    #z_h_layer = Dense(intermediate_dim,activation='relu', use_bias=bias,kernel_regularizer=kernel_regularizer)\n",
    "    z_h_layer = Dense(intermediate_dim, activation='relu', use_bias=bias,kernel_regularizer=kernel_regularizer,kernel_initializer=tf.keras.initializers.random_normal(mean=0.0, stddev=5),bias_initializer=tf.keras.initializers.random_normal(mean=0.0, stddev=5))\n",
    "    z_mean_layer = Dense(ndim_bg, name='z_mean', use_bias=bias,kernel_regularizer=kernel_regularizer)\n",
    "    z_log_var_layer = Dense(ndim_bg, name='z_log_var', use_bias=bias,kernel_regularizer=kernel_regularizer)\n",
    "    z_layer = Lambda(sampling, output_shape=(ndim_bg,), name='z')\n",
    "\n",
    "    def z_encoder_func(inputs):\n",
    "        z_h = inputs\n",
    "\n",
    "        these_filters = filters\n",
    "        for i in range(nlayers):\n",
    "            these_filters *= 2\n",
    "            #print(these_filters)\n",
    "            z_h = Conv2D(filters=these_filters,\n",
    "                    kernel_size=kernel_size,\n",
    "                    activation='relu',\n",
    "                    strides=2,\n",
    "                    padding='same',\n",
    "                    use_bias=bias,\n",
    "                    kernel_regularizer=kernel_regularizer)(z_h)\n",
    "        \n",
    "        # shape info needed to build decoder model\n",
    "        shape = K.int_shape(z_h)\n",
    "        z_h = Flatten()(z_h)\n",
    "        z_h = z_h_layer(z_h)\n",
    "        z_mean =  z_mean_layer(z_h)\n",
    "        #z_mean = BatchNorm(z_mean)\n",
    "        \n",
    "        z_log_var =  z_log_var_layer(z_h)\n",
    "        z = z_layer([z_mean, z_log_var])\n",
    "        return z_mean, z_log_var, z, shape\n",
    "\n",
    "    tg_z_mean, tg_z_log_var, tg_z, shape_z = z_encoder_func(tg_inputs)\n",
    "\n",
    "    # generate latent vector Q(z|X)\n",
    "    #s_h_layer = Dense(intermediate_dim, activation='relu', use_bias=bias,kernel_regularizer=kernel_regularizer)\n",
    "    s_h_layer = Dense(intermediate_dim, activation='relu', use_bias=bias,kernel_regularizer=kernel_regularizer,kernel_initializer=tf.keras.initializers.random_normal(mean=0.0, stddev=5),bias_initializer=tf.keras.initializers.random_normal(mean=0.0, stddev=5))\n",
    "    s_mean_layer = Dense(ndim_sl, name='s_mean', use_bias=bias,kernel_regularizer=kernel_regularizer)\n",
    "    s_log_var_layer = Dense(ndim_sl, name='s_log_var', use_bias=bias,kernel_regularizer=kernel_regularizer)\n",
    "    s_layer = Lambda(sampling, output_shape=(ndim_sl,), name='s')\n",
    "\n",
    "    def s_encoder_func(inputs):\n",
    "        s_h = inputs\n",
    "        these_filters = filters\n",
    "        for i in range(nlayers):\n",
    "            these_filters *= 2\n",
    "            s_h = Conv2D(filters=these_filters,\n",
    "                    kernel_size=kernel_size,\n",
    "                    activation='relu',\n",
    "                    strides=2,\n",
    "                    use_bias=bias,\n",
    "                    kernel_regularizer=kernel_regularizer,\n",
    "                    padding='same')(s_h)\n",
    "        \n",
    "        # shape info needed to build decoder model\n",
    "        shape = K.int_shape(s_h)\n",
    "        s_h = Flatten()(s_h)\n",
    "        s_h = s_h_layer(s_h)\n",
    "        s_mean =  s_mean_layer(s_h)\n",
    "        #s_mean = BatchNorm(s_mean)\n",
    "        \n",
    "        s_log_var =  s_log_var_layer(s_h)        \n",
    "        s = s_layer([s_mean, s_log_var])\n",
    "        \n",
    "        return s_mean, s_log_var, s, shape\n",
    "\n",
    "    tg_s_mean, tg_s_log_var, tg_s, shape_s = s_encoder_func(tg_inputs)\n",
    "    bg_z_mean, bg_z_log_var, bg_z, _ = z_encoder_func(bg_inputs) # Aidas and Stefano team hax\n",
    "    \n",
    "    \n",
    "    # instantiate encoder models\n",
    "    z_encoder = tf.keras.models.Model(tg_inputs, [tg_z_mean, tg_z_log_var, tg_z], name='z_encoder')\n",
    "    s_encoder = tf.keras.models.Model(tg_inputs, [tg_s_mean, tg_s_log_var, tg_s], name='s_encoder')\n",
    "\n",
    "\n",
    "    # build decoder model\n",
    "    latent_inputs = Input(shape=(ndim_bg+ndim_sl,), name='z_sampling')\n",
    "\n",
    "    x = Dense(intermediate_dim, activation='relu', use_bias=bias,kernel_regularizer=kernel_regularizer,kernel_initializer=kernel_initializer)(latent_inputs)\n",
    "    x = Dense(shape_z[1] * shape_z[2] * shape_z[3], activation='relu', use_bias=bias,kernel_regularizer=kernel_regularizer,kernel_initializer=kernel_initializer)(x)\n",
    "    x = Reshape((shape_z[1], shape_z[2], shape_z[3]))(x)\n",
    "\n",
    "    these_filters = filters*(2**nlayers)/2\n",
    "    for i in range(nlayers-1):\n",
    "        x = Conv2DTranspose(filters=these_filters,\n",
    "                          kernel_size=kernel_size,\n",
    "                          activation='relu',\n",
    "                          strides=2,\n",
    "                          use_bias=bias,\n",
    "                          kernel_regularizer=kernel_regularizer,\n",
    "                          padding='same')(x)\n",
    "        these_filters //= 2\n",
    "\n",
    "    outputs = Conv2DTranspose(filters=channels,\n",
    "                            kernel_size=kernel_size,\n",
    "                            activation='sigmoid',\n",
    "                            padding='same',\n",
    "                            strides=2,\n",
    "                            use_bias=bias,\n",
    "                            kernel_regularizer=kernel_regularizer,\n",
    "                            name='decoder_output')(x)\n",
    "\n",
    "    # instantiate decoder model\n",
    "    cvae_decoder = Model(latent_inputs, outputs, name='decoder')\n",
    "      # decoder.summary()\n",
    "\n",
    "    def zeros_like(x):\n",
    "        return tf.zeros_like(x)\n",
    "\n",
    "    tg_outputs = cvae_decoder(tf.keras.layers.concatenate([tg_z, tg_s], -1))\n",
    "    zeros = tf.keras.layers.Lambda(zeros_like)(tg_s)\n",
    "\n",
    "    bg_outputs = cvae_decoder(tf.keras.layers.concatenate([bg_z, zeros], -1)) # Aidas look into this, is this correct\n",
    "\n",
    "    cvae = tf.keras.models.Model(inputs=[tg_inputs, bg_inputs], \n",
    "                                  outputs=[tg_outputs, bg_outputs],\n",
    "                                  name='contrastive_vae')\n",
    "\n",
    "#     cvae_fg = tf.keras.models.Model(inputs=tg_inputs, \n",
    "#                                   outputs=fg_outputs, \n",
    "#                                   name='contrastive_vae_fg')\n",
    "\n",
    "    if disentangle:\n",
    "        discriminator = Dense(1, activation='sigmoid')\n",
    "\n",
    "        z1 = Lambda(lambda x: x[:int(batch_size/2),:])(tg_z)\n",
    "        z2 = Lambda(lambda x: x[int(batch_size/2):,:])(tg_z)\n",
    "        s1 = Lambda(lambda x: x[:int(batch_size/2),:])(tg_s)\n",
    "        s2 = Lambda(lambda x: x[int(batch_size/2):,:])(tg_s)\n",
    "\n",
    "        q_bar = tf.keras.layers.concatenate(\n",
    "          [tf.keras.layers.concatenate([s1, z2], axis=1),\n",
    "          tf.keras.layers.concatenate([s2, z1], axis=1)],\n",
    "          axis=0)\n",
    "\n",
    "        q = tf.keras.layers.concatenate(\n",
    "          [tf.keras.layers.concatenate([s1, z1], axis=1),\n",
    "          tf.keras.layers.concatenate([s2, z2], axis=1)],\n",
    "          axis=0)\n",
    "\n",
    "        q_bar_score = (discriminator(q_bar)+.1) *.85 # +.1 * .85 so that it's 0<x<1\n",
    "        q_score = (discriminator(q)+.1) *.85 \n",
    "        tc_loss = K.log(q_score / (1 - q_score)) \n",
    "        discriminator_loss = - K.log(q_score) - K.log(1 - q_bar_score)\n",
    "    else:\n",
    "        tc_loss = 0\n",
    "        discriminator_loss = 0\n",
    "\n",
    "\n",
    "    reconstruction_loss = tf.keras.losses.mse(K.flatten(tg_inputs[:,6:57,6:57,:]), K.flatten(tg_outputs[:,6:57,6:57,:])) \n",
    "    reconstruction_loss += tf.keras.losses.mse(K.flatten(bg_inputs[:,6:57,6:57,:]), K.flatten(bg_outputs[:,6:57,6:57,:])) \n",
    "    reconstruction_loss *= input_shape[0] * input_shape[1] * input_shape[2]\n",
    "\n",
    "    kl_loss1 = 1 + tg_z_log_var - tf.keras.backend.square(tg_z_mean) - tf.keras.backend.exp(tg_z_log_var)\n",
    "    kl_loss2 = 1 + tg_s_log_var - tf.keras.backend.square(tg_s_mean) - tf.keras.backend.exp(tg_s_log_var)\n",
    "    kl_loss3 = 1 + bg_z_log_var - tf.keras.backend.square(bg_z_mean) - tf.keras.backend.exp(bg_z_log_var)\n",
    "\n",
    "    kl_loss1 = tf.keras.backend.sum(kl_loss1, axis=-1)\n",
    "    kl_loss2 = tf.keras.backend.sum(kl_loss2, axis=-1)\n",
    "    kl_loss3 = tf.keras.backend.sum(kl_loss3, axis=-1)\n",
    "\n",
    "    kl_loss = kl_loss1+kl_loss2+kl_loss3\n",
    "    #kl_loss = tf.keras.backend.sum(kl_loss, axis=-1)\n",
    "    kl_loss *= -0.5\n",
    "    \n",
    "    cvae_loss = tf.keras.backend.mean(reconstruction_loss + beta*kl_loss + gamma*tc_loss + discriminator_loss)\n",
    "    cvae.add_loss(cvae_loss)\n",
    "    \n",
    "    if type(opt)==type(None):\n",
    "        #print('optimizer not specified using ADAM, wroom wroom')\n",
    "        opt = tf.keras.optimizers.Adam(learning_rate=learning_rate,beta_1=0.9,beta_2=0.999,epsilon=1e-07,amsgrad=False,name='Adam')\n",
    "        #opt = tf.keras.optimizers.RMSprop(learning_rate=0.001, rho=0.9, momentum=0.9, epsilon=1e-07, centered=False, name='RMSprop')\n",
    "        #opt = tf.keras.optimizers.SGD(learning_rate=0.001, momentum=0.1, nesterov=False, name='SGD')\n",
    "\n",
    "\n",
    "    cvae.compile(optimizer=opt,run_eagerly=True)\n",
    "    \n",
    "    return cvae, z_encoder, s_encoder, cvae_decoder"
   ]
  },
  {
   "cell_type": "code",
   "execution_count": 24,
   "id": "c2e7d1c8",
   "metadata": {
    "execution": {
     "iopub.execute_input": "2021-12-03T15:50:52.943783Z",
     "iopub.status.busy": "2021-12-03T15:50:52.943460Z",
     "iopub.status.idle": "2021-12-03T15:50:53.387887Z",
     "shell.execute_reply": "2021-12-03T15:50:53.387608Z"
    },
    "papermill": {
     "duration": 0.468353,
     "end_time": "2021-12-03T15:50:53.387957",
     "exception": false,
     "start_time": "2021-12-03T15:50:52.919604",
     "status": "completed"
    },
    "tags": []
   },
   "outputs": [
    {
     "name": "stdout",
     "output_type": "stream",
     "text": [
      "# params| 403,538\n"
     ]
    }
   ],
   "source": [
    "batch_size = 32\n",
    "cvae, z_encoder, s_encoder, cvae_decoder = get_fMRI_CVAE_3D(input_shape=(64,64,1),\n",
    "                                                             latent_dim=[64,16],\n",
    "                                                             beta=.001,\n",
    "                                                             gamma=10,\n",
    "                                                             disentangle=True,\n",
    "                                                             bias=True,\n",
    "                                                             batch_size = batch_size,\n",
    "                                                             kernel_size = 2,\n",
    "                                                             filters = 4,\n",
    "                                                             intermediate_dim = 128,\n",
    "                                                             nlayers = 5,\n",
    "                                                             learning_rate=0.001,\n",
    "                                                             opt=None)\n",
    "\n",
    "num_params = np.sum([np.prod(val.get_shape()) for val in cvae.trainable_weights])\n",
    "print(f'# params| {num_params:,}')"
   ]
  },
  {
   "cell_type": "code",
   "execution_count": 25,
   "id": "88578daf",
   "metadata": {
    "execution": {
     "iopub.execute_input": "2021-12-03T15:50:53.429574Z",
     "iopub.status.busy": "2021-12-03T15:50:53.429261Z",
     "iopub.status.idle": "2021-12-03T15:50:53.431401Z",
     "shell.execute_reply": "2021-12-03T15:50:53.431129Z"
    },
    "papermill": {
     "duration": 0.023861,
     "end_time": "2021-12-03T15:50:53.431470",
     "exception": false,
     "start_time": "2021-12-03T15:50:53.407609",
     "status": "completed"
    },
    "tags": []
   },
   "outputs": [
    {
     "data": {
      "text/plain": [
       "(1048, 51, 51)"
      ]
     },
     "execution_count": 25,
     "metadata": {},
     "output_type": "execute_result"
    }
   ],
   "source": [
    "tuple(data_size)"
   ]
  },
  {
   "cell_type": "code",
   "execution_count": 26,
   "id": "9b86ab3f",
   "metadata": {
    "execution": {
     "iopub.execute_input": "2021-12-03T15:50:53.474879Z",
     "iopub.status.busy": "2021-12-03T15:50:53.474561Z",
     "iopub.status.idle": "2021-12-03T15:50:53.477358Z",
     "shell.execute_reply": "2021-12-03T15:50:53.477085Z"
    },
    "papermill": {
     "duration": 0.026234,
     "end_time": "2021-12-03T15:50:53.477427",
     "exception": false,
     "start_time": "2021-12-03T15:50:53.451193",
     "status": "completed"
    },
    "tags": []
   },
   "outputs": [
    {
     "name": "stdout",
     "output_type": "stream",
     "text": [
      "Model: \"z_encoder\"\n",
      "______________________________________________________________________________________________________________________________________________________\n",
      "Layer (type)                                     Output Shape                     Param #           Connected to                                      \n",
      "======================================================================================================================================================\n",
      "tg_inputs (InputLayer)                           [(None, 64, 64, 1)]              0                                                                   \n",
      "______________________________________________________________________________________________________________________________________________________\n",
      "conv2d (Conv2D)                                  (None, 32, 32, 8)                40                tg_inputs[0][0]                                   \n",
      "______________________________________________________________________________________________________________________________________________________\n",
      "conv2d_1 (Conv2D)                                (None, 16, 16, 16)               528               conv2d[0][0]                                      \n",
      "______________________________________________________________________________________________________________________________________________________\n",
      "conv2d_2 (Conv2D)                                (None, 8, 8, 32)                 2080              conv2d_1[0][0]                                    \n",
      "______________________________________________________________________________________________________________________________________________________\n",
      "conv2d_3 (Conv2D)                                (None, 4, 4, 64)                 8256              conv2d_2[0][0]                                    \n",
      "______________________________________________________________________________________________________________________________________________________\n",
      "conv2d_4 (Conv2D)                                (None, 2, 2, 128)                32896             conv2d_3[0][0]                                    \n",
      "______________________________________________________________________________________________________________________________________________________\n",
      "flatten (Flatten)                                (None, 512)                      0                 conv2d_4[0][0]                                    \n",
      "______________________________________________________________________________________________________________________________________________________\n",
      "dense (Dense)                                    (None, 128)                      65664             flatten[0][0]                                     \n",
      "______________________________________________________________________________________________________________________________________________________\n",
      "z_mean (Dense)                                   (None, 64)                       8256              dense[0][0]                                       \n",
      "______________________________________________________________________________________________________________________________________________________\n",
      "z_log_var (Dense)                                (None, 64)                       8256              dense[0][0]                                       \n",
      "______________________________________________________________________________________________________________________________________________________\n",
      "z (Lambda)                                       (None, 64)                       0                 z_mean[0][0]                                      \n",
      "                                                                                                    z_log_var[0][0]                                   \n",
      "======================================================================================================================================================\n",
      "Total params: 125,976\n",
      "Trainable params: 125,976\n",
      "Non-trainable params: 0\n",
      "______________________________________________________________________________________________________________________________________________________\n"
     ]
    }
   ],
   "source": [
    "z_encoder.summary(line_length=150)"
   ]
  },
  {
   "cell_type": "code",
   "execution_count": 27,
   "id": "13d33e6c",
   "metadata": {
    "execution": {
     "iopub.execute_input": "2021-12-03T15:50:53.520549Z",
     "iopub.status.busy": "2021-12-03T15:50:53.520238Z",
     "iopub.status.idle": "2021-12-03T15:50:53.523549Z",
     "shell.execute_reply": "2021-12-03T15:50:53.523277Z"
    },
    "papermill": {
     "duration": 0.026215,
     "end_time": "2021-12-03T15:50:53.523618",
     "exception": false,
     "start_time": "2021-12-03T15:50:53.497403",
     "status": "completed"
    },
    "tags": []
   },
   "outputs": [
    {
     "name": "stdout",
     "output_type": "stream",
     "text": [
      "Model: \"s_encoder\"\n",
      "______________________________________________________________________________________________________________________________________________________\n",
      "Layer (type)                                     Output Shape                     Param #           Connected to                                      \n",
      "======================================================================================================================================================\n",
      "tg_inputs (InputLayer)                           [(None, 64, 64, 1)]              0                                                                   \n",
      "______________________________________________________________________________________________________________________________________________________\n",
      "conv2d_5 (Conv2D)                                (None, 32, 32, 8)                40                tg_inputs[0][0]                                   \n",
      "______________________________________________________________________________________________________________________________________________________\n",
      "conv2d_6 (Conv2D)                                (None, 16, 16, 16)               528               conv2d_5[0][0]                                    \n",
      "______________________________________________________________________________________________________________________________________________________\n",
      "conv2d_7 (Conv2D)                                (None, 8, 8, 32)                 2080              conv2d_6[0][0]                                    \n",
      "______________________________________________________________________________________________________________________________________________________\n",
      "conv2d_8 (Conv2D)                                (None, 4, 4, 64)                 8256              conv2d_7[0][0]                                    \n",
      "______________________________________________________________________________________________________________________________________________________\n",
      "conv2d_9 (Conv2D)                                (None, 2, 2, 128)                32896             conv2d_8[0][0]                                    \n",
      "______________________________________________________________________________________________________________________________________________________\n",
      "flatten_1 (Flatten)                              (None, 512)                      0                 conv2d_9[0][0]                                    \n",
      "______________________________________________________________________________________________________________________________________________________\n",
      "dense_1 (Dense)                                  (None, 128)                      65664             flatten_1[0][0]                                   \n",
      "______________________________________________________________________________________________________________________________________________________\n",
      "s_mean (Dense)                                   (None, 16)                       2064              dense_1[0][0]                                     \n",
      "______________________________________________________________________________________________________________________________________________________\n",
      "s_log_var (Dense)                                (None, 16)                       2064              dense_1[0][0]                                     \n",
      "______________________________________________________________________________________________________________________________________________________\n",
      "s (Lambda)                                       (None, 16)                       0                 s_mean[0][0]                                      \n",
      "                                                                                                    s_log_var[0][0]                                   \n",
      "======================================================================================================================================================\n",
      "Total params: 113,592\n",
      "Trainable params: 113,592\n",
      "Non-trainable params: 0\n",
      "______________________________________________________________________________________________________________________________________________________\n"
     ]
    }
   ],
   "source": [
    "s_encoder.summary(line_length=150)"
   ]
  },
  {
   "cell_type": "code",
   "execution_count": 28,
   "id": "96392753",
   "metadata": {
    "execution": {
     "iopub.execute_input": "2021-12-03T15:50:53.567773Z",
     "iopub.status.busy": "2021-12-03T15:50:53.567460Z",
     "iopub.status.idle": "2021-12-03T15:50:53.570414Z",
     "shell.execute_reply": "2021-12-03T15:50:53.570141Z"
    },
    "papermill": {
     "duration": 0.026509,
     "end_time": "2021-12-03T15:50:53.570482",
     "exception": false,
     "start_time": "2021-12-03T15:50:53.543973",
     "status": "completed"
    },
    "tags": []
   },
   "outputs": [
    {
     "name": "stdout",
     "output_type": "stream",
     "text": [
      "Model: \"decoder\"\n",
      "______________________________________________________________________________________________________________________________________________________\n",
      "Layer (type)                                                       Output Shape                                                Param #                \n",
      "======================================================================================================================================================\n",
      "z_sampling (InputLayer)                                            [(None, 80)]                                                0                      \n",
      "______________________________________________________________________________________________________________________________________________________\n",
      "dense_2 (Dense)                                                    (None, 128)                                                 10368                  \n",
      "______________________________________________________________________________________________________________________________________________________\n",
      "dense_3 (Dense)                                                    (None, 512)                                                 66048                  \n",
      "______________________________________________________________________________________________________________________________________________________\n",
      "reshape (Reshape)                                                  (None, 2, 2, 128)                                           0                      \n",
      "______________________________________________________________________________________________________________________________________________________\n",
      "conv2d_transpose (Conv2DTranspose)                                 (None, 4, 4, 64)                                            32832                  \n",
      "______________________________________________________________________________________________________________________________________________________\n",
      "conv2d_transpose_1 (Conv2DTranspose)                               (None, 8, 8, 32)                                            8224                   \n",
      "______________________________________________________________________________________________________________________________________________________\n",
      "conv2d_transpose_2 (Conv2DTranspose)                               (None, 16, 16, 16)                                          2064                   \n",
      "______________________________________________________________________________________________________________________________________________________\n",
      "conv2d_transpose_3 (Conv2DTranspose)                               (None, 32, 32, 8)                                           520                    \n",
      "______________________________________________________________________________________________________________________________________________________\n",
      "decoder_output (Conv2DTranspose)                                   (None, 64, 64, 1)                                           33                     \n",
      "======================================================================================================================================================\n",
      "Total params: 120,089\n",
      "Trainable params: 120,089\n",
      "Non-trainable params: 0\n",
      "______________________________________________________________________________________________________________________________________________________\n"
     ]
    }
   ],
   "source": [
    "cvae_decoder.summary(line_length=150)"
   ]
  },
  {
   "cell_type": "code",
   "execution_count": 29,
   "id": "0059e87c",
   "metadata": {
    "execution": {
     "iopub.execute_input": "2021-12-03T15:50:53.615217Z",
     "iopub.status.busy": "2021-12-03T15:50:53.614891Z",
     "iopub.status.idle": "2021-12-03T15:50:53.616419Z",
     "shell.execute_reply": "2021-12-03T15:50:53.616127Z"
    },
    "papermill": {
     "duration": 0.025507,
     "end_time": "2021-12-03T15:50:53.616498",
     "exception": false,
     "start_time": "2021-12-03T15:50:53.590991",
     "status": "completed"
    },
    "tags": []
   },
   "outputs": [],
   "source": [
    "loss,all_rsas,sigmas,mus,c_sim = [],[],[],[],[]"
   ]
  },
  {
   "cell_type": "code",
   "execution_count": 30,
   "id": "13101d44",
   "metadata": {
    "execution": {
     "iopub.execute_input": "2021-12-03T15:50:53.663932Z",
     "iopub.status.busy": "2021-12-03T15:50:53.663598Z",
     "iopub.status.idle": "2021-12-03T15:50:53.664846Z",
     "shell.execute_reply": "2021-12-03T15:50:53.664556Z"
    },
    "papermill": {
     "duration": 0.027565,
     "end_time": "2021-12-03T15:50:53.664938",
     "exception": false,
     "start_time": "2021-12-03T15:50:53.637373",
     "status": "completed"
    },
    "tags": []
   },
   "outputs": [],
   "source": [
    "loss_mse,loss_kl,loss_dc,loss_tc = [],[],[],[]"
   ]
  },
  {
   "cell_type": "code",
   "execution_count": 31,
   "id": "6c8bcf60",
   "metadata": {
    "execution": {
     "iopub.execute_input": "2021-12-03T15:50:53.708899Z",
     "iopub.status.busy": "2021-12-03T15:50:53.708578Z",
     "iopub.status.idle": "2021-12-03T15:50:53.710175Z",
     "shell.execute_reply": "2021-12-03T15:50:53.709910Z"
    },
    "papermill": {
     "duration": 0.024537,
     "end_time": "2021-12-03T15:50:53.710242",
     "exception": false,
     "start_time": "2021-12-03T15:50:53.685705",
     "status": "completed"
    },
    "tags": []
   },
   "outputs": [],
   "source": [
    "data_loader = cvae_data_loader(data_dir=data_dir, df=df, batch_size=batch_size)"
   ]
  },
  {
   "cell_type": "code",
   "execution_count": 32,
   "id": "3c48df46",
   "metadata": {
    "execution": {
     "iopub.execute_input": "2021-12-03T15:50:53.753824Z",
     "iopub.status.busy": "2021-12-03T15:50:53.753501Z",
     "iopub.status.idle": "2021-12-03T15:50:53.755423Z",
     "shell.execute_reply": "2021-12-03T15:50:53.755154Z"
    },
    "papermill": {
     "duration": 0.024602,
     "end_time": "2021-12-03T15:50:53.755490",
     "exception": false,
     "start_time": "2021-12-03T15:50:53.730888",
     "status": "completed"
    },
    "tags": []
   },
   "outputs": [
    {
     "data": {
      "text/plain": [
       "16"
      ]
     },
     "execution_count": 32,
     "metadata": {},
     "output_type": "execute_result"
    }
   ],
   "source": [
    "data_loader.n_batches"
   ]
  },
  {
   "cell_type": "code",
   "execution_count": 33,
   "id": "a8ac2b4c",
   "metadata": {
    "execution": {
     "iopub.execute_input": "2021-12-03T15:50:53.802304Z",
     "iopub.status.busy": "2021-12-03T15:50:53.801958Z",
     "iopub.status.idle": "2021-12-03T17:45:52.824653Z",
     "shell.execute_reply": "2021-12-03T17:45:52.823985Z"
    },
    "papermill": {
     "duration": 6899.04839,
     "end_time": "2021-12-03T17:45:52.824734",
     "exception": false,
     "start_time": "2021-12-03T15:50:53.776344",
     "status": "completed"
    },
    "tags": []
   },
   "outputs": [
    {
     "data": {
      "text/plain": [
       "<Figure size 432x288 with 0 Axes>"
      ]
     },
     "metadata": {},
     "output_type": "display_data"
    },
    {
     "name": "stderr",
     "output_type": "stream",
     "text": [
      "<ipython-input-22-8b4cb46a7f77>:32: MatplotlibDeprecationWarning: Passing non-integers as three-element position specification is deprecated since 3.3 and will be removed two minor releases later.\n",
      "  plt.subplot(nrows,ncols/2,1) # PLOT LOSS\n"
     ]
    },
    {
     "data": {
      "image/png": "[encoded data removed]",
      "text/plain": [
       "<Figure size 1080x1080 with 32 Axes>"
      ]
     },
     "metadata": {
      "needs_background": "light"
     },
     "output_type": "display_data"
    },
    {
     "name": "stderr",
     "output_type": "stream",
     "text": [
      "\r",
      "100%|██████████| 5001/5001 [1:54:58<00:00,  2.56s/it]"
     ]
    },
    {
     "name": "stderr",
     "output_type": "stream",
     "text": [
      "\r",
      "100%|██████████| 5001/5001 [1:54:58<00:00,  1.38s/it]"
     ]
    },
    {
     "name": "stderr",
     "output_type": "stream",
     "text": [
      "\n"
     ]
    }
   ],
   "source": [
    "for epoch in tqdm(range(5001)):\n",
    "    for i in range(data_loader.n_batches):\n",
    "        \n",
    "        patient_batch,control_batch,batch_df = data_loader.get_batch() # Get a batch\n",
    "        \n",
    "        # Pad the batches\n",
    "        patient_batch = pad2d(patient_batch[:,:,:,np.newaxis])\n",
    "        control_batch = pad2d(control_batch[:,:,:,np.newaxis])\n",
    "        \n",
    "        hist = cvae.train_on_batch([patient_batch[:,:,:],control_batch[:,:,:]]) # pass a batch\n",
    "        assert not np.isnan(hist),'loss is NaN - you f**cked up'  # check nothing crashed\n",
    "        loss.append(hist) # keep track of loss\n",
    "        \n",
    "        # Remove Padding\n",
    "        patient_batch = patient_batch.numpy()[:,:,:,0]\n",
    "        control_batch = control_batch.numpy()[:,:,:,0]\n",
    "        #patient_batch = patient_batch[:,6:57,6:57,:]\n",
    "        #control_batch = control_batch[:,6:57,6:57,:]\n",
    "        \n",
    "        if all((i==0,np.mod(epoch,25)==0)):\n",
    "            cvae_dashboard() # plot training progress\n",
    "            cvae.save_weights(os.path.join(save_dir,'cvae_weights')) # SAVE WEIGHTS\n",
    "            np.save(os.path.join(save_dir,'cvae_loss.npy'),np.array(loss)) # Save loss\n",
    "            #plt.show()"
   ]
  },
  {
   "cell_type": "code",
   "execution_count": null,
   "id": "44557199",
   "metadata": {
    "papermill": {
     "duration": 0.026238,
     "end_time": "2021-12-03T17:45:52.877834",
     "exception": false,
     "start_time": "2021-12-03T17:45:52.851596",
     "status": "completed"
    },
    "tags": []
   },
   "outputs": [],
   "source": []
  },
  {
   "cell_type": "code",
   "execution_count": null,
   "id": "d54a2b2d",
   "metadata": {
    "papermill": {
     "duration": 0.025961,
     "end_time": "2021-12-03T17:45:52.929785",
     "exception": false,
     "start_time": "2021-12-03T17:45:52.903824",
     "status": "completed"
    },
    "tags": []
   },
   "outputs": [],
   "source": []
  },
  {
   "cell_type": "code",
   "execution_count": null,
   "id": "84a70176",
   "metadata": {
    "papermill": {
     "duration": 0.025954,
     "end_time": "2021-12-03T17:45:52.981898",
     "exception": false,
     "start_time": "2021-12-03T17:45:52.955944",
     "status": "completed"
    },
    "tags": []
   },
   "outputs": [],
   "source": []
  },
  {
   "cell_type": "code",
   "execution_count": null,
   "id": "b3dfe461",
   "metadata": {
    "papermill": {
     "duration": 0.025959,
     "end_time": "2021-12-03T17:45:53.034099",
     "exception": false,
     "start_time": "2021-12-03T17:45:53.008140",
     "status": "completed"
    },
    "tags": []
   },
   "outputs": [],
   "source": []
  },
  {
   "cell_type": "code",
   "execution_count": null,
   "id": "38e105ff",
   "metadata": {
    "papermill": {
     "duration": 0.025962,
     "end_time": "2021-12-03T17:45:53.086297",
     "exception": false,
     "start_time": "2021-12-03T17:45:53.060335",
     "status": "completed"
    },
    "tags": []
   },
   "outputs": [],
   "source": []
  },
  {
   "cell_type": "code",
   "execution_count": null,
   "id": "2fdbba5b",
   "metadata": {
    "papermill": {
     "duration": 0.025902,
     "end_time": "2021-12-03T17:45:53.138454",
     "exception": false,
     "start_time": "2021-12-03T17:45:53.112552",
     "status": "completed"
    },
    "tags": []
   },
   "outputs": [],
   "source": []
  },
  {
   "cell_type": "code",
   "execution_count": null,
   "id": "4b5178b7",
   "metadata": {
    "papermill": {
     "duration": 0.025931,
     "end_time": "2021-12-03T17:45:53.190379",
     "exception": false,
     "start_time": "2021-12-03T17:45:53.164448",
     "status": "completed"
    },
    "tags": []
   },
   "outputs": [],
   "source": []
  },
  {
   "cell_type": "code",
   "execution_count": null,
   "id": "ed3079fa",
   "metadata": {
    "papermill": {
     "duration": 0.025903,
     "end_time": "2021-12-03T17:45:53.242215",
     "exception": false,
     "start_time": "2021-12-03T17:45:53.216312",
     "status": "completed"
    },
    "tags": []
   },
   "outputs": [],
   "source": []
  },
  {
   "cell_type": "code",
   "execution_count": null,
   "id": "19378cea",
   "metadata": {
    "papermill": {
     "duration": 0.025882,
     "end_time": "2021-12-03T17:45:53.294100",
     "exception": false,
     "start_time": "2021-12-03T17:45:53.268218",
     "status": "completed"
    },
    "tags": []
   },
   "outputs": [],
   "source": []
  },
  {
   "cell_type": "code",
   "execution_count": 34,
   "id": "0f038ff6",
   "metadata": {
    "execution": {
     "iopub.execute_input": "2021-12-03T17:45:53.357485Z",
     "iopub.status.busy": "2021-12-03T17:45:53.357181Z",
     "iopub.status.idle": "2021-12-03T17:45:53.367315Z",
     "shell.execute_reply": "2021-12-03T17:45:53.367556Z"
    },
    "papermill": {
     "duration": 0.047536,
     "end_time": "2021-12-03T17:45:53.367639",
     "exception": false,
     "start_time": "2021-12-03T17:45:53.320103",
     "status": "completed"
    },
    "tags": []
   },
   "outputs": [
    {
     "name": "stdout",
     "output_type": "stream",
     "text": [
      "Model: \"contrastive_vae\"\n",
      "______________________________________________________________________________________________________________________________________________________\n",
      "Layer (type)                                     Output Shape                     Param #           Connected to                                      \n",
      "======================================================================================================================================================\n",
      "tg_inputs (InputLayer)                           [(None, 64, 64, 1)]              0                                                                   \n",
      "______________________________________________________________________________________________________________________________________________________\n",
      "conv2d_5 (Conv2D)                                (None, 32, 32, 8)                40                tg_inputs[0][0]                                   \n",
      "______________________________________________________________________________________________________________________________________________________\n",
      "bg_inputs (InputLayer)                           [(None, 64, 64, 1)]              0                                                                   \n",
      "______________________________________________________________________________________________________________________________________________________\n",
      "conv2d (Conv2D)                                  (None, 32, 32, 8)                40                tg_inputs[0][0]                                   \n",
      "______________________________________________________________________________________________________________________________________________________\n",
      "conv2d_6 (Conv2D)                                (None, 16, 16, 16)               528               conv2d_5[0][0]                                    \n",
      "______________________________________________________________________________________________________________________________________________________\n",
      "conv2d_10 (Conv2D)                               (None, 32, 32, 8)                40                bg_inputs[0][0]                                   \n",
      "______________________________________________________________________________________________________________________________________________________\n",
      "conv2d_1 (Conv2D)                                (None, 16, 16, 16)               528               conv2d[0][0]                                      \n",
      "______________________________________________________________________________________________________________________________________________________\n",
      "conv2d_7 (Conv2D)                                (None, 8, 8, 32)                 2080              conv2d_6[0][0]                                    \n",
      "______________________________________________________________________________________________________________________________________________________\n",
      "conv2d_11 (Conv2D)                               (None, 16, 16, 16)               528               conv2d_10[0][0]                                   \n",
      "______________________________________________________________________________________________________________________________________________________\n",
      "conv2d_2 (Conv2D)                                (None, 8, 8, 32)                 2080              conv2d_1[0][0]                                    \n",
      "______________________________________________________________________________________________________________________________________________________\n",
      "conv2d_8 (Conv2D)                                (None, 4, 4, 64)                 8256              conv2d_7[0][0]                                    \n",
      "______________________________________________________________________________________________________________________________________________________\n",
      "conv2d_12 (Conv2D)                               (None, 8, 8, 32)                 2080              conv2d_11[0][0]                                   \n",
      "______________________________________________________________________________________________________________________________________________________\n",
      "conv2d_3 (Conv2D)                                (None, 4, 4, 64)                 8256              conv2d_2[0][0]                                    \n",
      "______________________________________________________________________________________________________________________________________________________\n",
      "conv2d_9 (Conv2D)                                (None, 2, 2, 128)                32896             conv2d_8[0][0]                                    \n",
      "______________________________________________________________________________________________________________________________________________________\n",
      "conv2d_13 (Conv2D)                               (None, 4, 4, 64)                 8256              conv2d_12[0][0]                                   \n",
      "______________________________________________________________________________________________________________________________________________________\n",
      "conv2d_4 (Conv2D)                                (None, 2, 2, 128)                32896             conv2d_3[0][0]                                    \n",
      "______________________________________________________________________________________________________________________________________________________\n",
      "flatten_1 (Flatten)                              (None, 512)                      0                 conv2d_9[0][0]                                    \n",
      "______________________________________________________________________________________________________________________________________________________\n",
      "conv2d_14 (Conv2D)                               (None, 2, 2, 128)                32896             conv2d_13[0][0]                                   \n",
      "______________________________________________________________________________________________________________________________________________________\n",
      "flatten (Flatten)                                (None, 512)                      0                 conv2d_4[0][0]                                    \n",
      "______________________________________________________________________________________________________________________________________________________\n",
      "dense_1 (Dense)                                  (None, 128)                      65664             flatten_1[0][0]                                   \n",
      "______________________________________________________________________________________________________________________________________________________\n",
      "flatten_2 (Flatten)                              (None, 512)                      0                 conv2d_14[0][0]                                   \n",
      "______________________________________________________________________________________________________________________________________________________\n",
      "dense (Dense)                                    (None, 128)                      65664             flatten[0][0]                                     \n",
      "                                                                                                    flatten_2[0][0]                                   \n",
      "______________________________________________________________________________________________________________________________________________________\n",
      "s_mean (Dense)                                   (None, 16)                       2064              dense_1[0][0]                                     \n",
      "______________________________________________________________________________________________________________________________________________________\n",
      "s_log_var (Dense)                                (None, 16)                       2064              dense_1[0][0]                                     \n",
      "______________________________________________________________________________________________________________________________________________________\n",
      "z_mean (Dense)                                   (None, 64)                       8256              dense[0][0]                                       \n",
      "                                                                                                    dense[1][0]                                       \n",
      "______________________________________________________________________________________________________________________________________________________\n",
      "z_log_var (Dense)                                (None, 64)                       8256              dense[0][0]                                       \n",
      "                                                                                                    dense[1][0]                                       \n",
      "______________________________________________________________________________________________________________________________________________________\n",
      "s (Lambda)                                       (None, 16)                       0                 s_mean[0][0]                                      \n",
      "                                                                                                    s_log_var[0][0]                                   \n",
      "______________________________________________________________________________________________________________________________________________________\n",
      "z (Lambda)                                       (None, 64)                       0                 z_mean[0][0]                                      \n",
      "                                                                                                    z_log_var[0][0]                                   \n",
      "                                                                                                    z_mean[1][0]                                      \n",
      "                                                                                                    z_log_var[1][0]                                   \n",
      "______________________________________________________________________________________________________________________________________________________\n",
      "lambda (Lambda)                                  (None, 16)                       0                 s[0][0]                                           \n",
      "______________________________________________________________________________________________________________________________________________________\n",
      "concatenate (Concatenate)                        (None, 80)                       0                 z[0][0]                                           \n",
      "                                                                                                    s[0][0]                                           \n",
      "______________________________________________________________________________________________________________________________________________________\n",
      "concatenate_1 (Concatenate)                      (None, 80)                       0                 z[1][0]                                           \n",
      "                                                                                                    lambda[0][0]                                      \n",
      "______________________________________________________________________________________________________________________________________________________\n",
      "decoder (Functional)                             (None, 64, 64, 1)                120089            concatenate[0][0]                                 \n",
      "                                                                                                    concatenate_1[0][0]                               \n",
      "______________________________________________________________________________________________________________________________________________________\n",
      "lambda_3 (Lambda)                                (None, 16)                       0                 s[0][0]                                           \n",
      "______________________________________________________________________________________________________________________________________________________\n",
      "lambda_1 (Lambda)                                (None, 64)                       0                 z[0][0]                                           \n",
      "______________________________________________________________________________________________________________________________________________________\n",
      "lambda_4 (Lambda)                                (None, 16)                       0                 s[0][0]                                           \n",
      "______________________________________________________________________________________________________________________________________________________\n",
      "lambda_2 (Lambda)                                (None, 64)                       0                 z[0][0]                                           \n",
      "______________________________________________________________________________________________________________________________________________________\n",
      "tf_op_layer_AddV2_3 (TensorFlowOpLayer)          [(None, 64)]                     0                 z_log_var[0][0]                                   \n",
      "______________________________________________________________________________________________________________________________________________________\n",
      "tf_op_layer_Square (TensorFlowOpLayer)           [(None, 64)]                     0                 z_mean[0][0]                                      \n",
      "______________________________________________________________________________________________________________________________________________________\n",
      "tf_op_layer_AddV2_4 (TensorFlowOpLayer)          [(None, 16)]                     0                 s_log_var[0][0]                                   \n",
      "______________________________________________________________________________________________________________________________________________________\n",
      "tf_op_layer_Square_1 (TensorFlowOpLayer)         [(None, 16)]                     0                 s_mean[0][0]                                      \n",
      "______________________________________________________________________________________________________________________________________________________\n",
      "concatenate_5 (Concatenate)                      (None, 80)                       0                 lambda_3[0][0]                                    \n",
      "                                                                                                    lambda_1[0][0]                                    \n",
      "______________________________________________________________________________________________________________________________________________________\n",
      "concatenate_6 (Concatenate)                      (None, 80)                       0                 lambda_4[0][0]                                    \n",
      "                                                                                                    lambda_2[0][0]                                    \n",
      "______________________________________________________________________________________________________________________________________________________\n",
      "tf_op_layer_Sub_3 (TensorFlowOpLayer)            [(None, 64)]                     0                 tf_op_layer_AddV2_3[0][0]                         \n",
      "                                                                                                    tf_op_layer_Square[0][0]                          \n",
      "______________________________________________________________________________________________________________________________________________________\n",
      "tf_op_layer_Exp (TensorFlowOpLayer)              [(None, 64)]                     0                 z_log_var[0][0]                                   \n",
      "______________________________________________________________________________________________________________________________________________________\n",
      "tf_op_layer_Sub_5 (TensorFlowOpLayer)            [(None, 16)]                     0                 tf_op_layer_AddV2_4[0][0]                         \n",
      "                                                                                                    tf_op_layer_Square_1[0][0]                        \n",
      "______________________________________________________________________________________________________________________________________________________\n",
      "tf_op_layer_Exp_1 (TensorFlowOpLayer)            [(None, 16)]                     0                 s_log_var[0][0]                                   \n",
      "______________________________________________________________________________________________________________________________________________________\n",
      "tf_op_layer_AddV2_5 (TensorFlowOpLayer)          [(None, 64)]                     0                 z_log_var[1][0]                                   \n",
      "______________________________________________________________________________________________________________________________________________________\n",
      "tf_op_layer_Square_2 (TensorFlowOpLayer)         [(None, 64)]                     0                 z_mean[1][0]                                      \n",
      "______________________________________________________________________________________________________________________________________________________\n",
      "concatenate_7 (Concatenate)                      (None, 80)                       0                 concatenate_5[0][0]                               \n",
      "                                                                                                    concatenate_6[0][0]                               \n",
      "______________________________________________________________________________________________________________________________________________________\n",
      "tf_op_layer_strided_slice_1 (TensorFlowOpLayer)  [(None, 51, 51, 1)]              0                 decoder[0][0]                                     \n",
      "______________________________________________________________________________________________________________________________________________________\n",
      "tf_op_layer_strided_slice (TensorFlowOpLayer)    [(None, 51, 51, 1)]              0                 tg_inputs[0][0]                                   \n",
      "______________________________________________________________________________________________________________________________________________________\n",
      "tf_op_layer_strided_slice_3 (TensorFlowOpLayer)  [(None, 51, 51, 1)]              0                 decoder[1][0]                                     \n",
      "______________________________________________________________________________________________________________________________________________________\n",
      "tf_op_layer_strided_slice_2 (TensorFlowOpLayer)  [(None, 51, 51, 1)]              0                 bg_inputs[0][0]                                   \n",
      "______________________________________________________________________________________________________________________________________________________\n",
      "tf_op_layer_Sub_4 (TensorFlowOpLayer)            [(None, 64)]                     0                 tf_op_layer_Sub_3[0][0]                           \n",
      "                                                                                                    tf_op_layer_Exp[0][0]                             \n",
      "______________________________________________________________________________________________________________________________________________________\n",
      "tf_op_layer_Sub_6 (TensorFlowOpLayer)            [(None, 16)]                     0                 tf_op_layer_Sub_5[0][0]                           \n",
      "                                                                                                    tf_op_layer_Exp_1[0][0]                           \n",
      "______________________________________________________________________________________________________________________________________________________\n",
      "tf_op_layer_Sub_7 (TensorFlowOpLayer)            [(None, 64)]                     0                 tf_op_layer_AddV2_5[0][0]                         \n",
      "                                                                                                    tf_op_layer_Square_2[0][0]                        \n",
      "______________________________________________________________________________________________________________________________________________________\n",
      "tf_op_layer_Exp_2 (TensorFlowOpLayer)            [(None, 64)]                     0                 z_log_var[1][0]                                   \n",
      "______________________________________________________________________________________________________________________________________________________\n",
      "dense_4 (Dense)                                  (None, 1)                        81                concatenate_4[0][0]                               \n",
      "                                                                                                    concatenate_7[0][0]                               \n",
      "______________________________________________________________________________________________________________________________________________________\n",
      "concatenate_2 (Concatenate)                      (None, 80)                       0                 lambda_3[0][0]                                    \n",
      "                                                                                                    lambda_2[0][0]                                    \n",
      "______________________________________________________________________________________________________________________________________________________\n",
      "concatenate_3 (Concatenate)                      (None, 80)                       0                 lambda_4[0][0]                                    \n",
      "                                                                                                    lambda_1[0][0]                                    \n",
      "______________________________________________________________________________________________________________________________________________________\n",
      "tf_op_layer_Reshape_1 (TensorFlowOpLayer)        [(None,)]                        0                 tf_op_layer_strided_slice_1[0][0]                 \n",
      "______________________________________________________________________________________________________________________________________________________\n",
      "tf_op_layer_Reshape (TensorFlowOpLayer)          [(None,)]                        0                 tf_op_layer_strided_slice[0][0]                   \n",
      "______________________________________________________________________________________________________________________________________________________\n",
      "tf_op_layer_Reshape_3 (TensorFlowOpLayer)        [(None,)]                        0                 tf_op_layer_strided_slice_3[0][0]                 \n",
      "______________________________________________________________________________________________________________________________________________________\n",
      "tf_op_layer_Reshape_2 (TensorFlowOpLayer)        [(None,)]                        0                 tf_op_layer_strided_slice_2[0][0]                 \n",
      "______________________________________________________________________________________________________________________________________________________\n",
      "tf_op_layer_Sum (TensorFlowOpLayer)              [(None,)]                        0                 tf_op_layer_Sub_4[0][0]                           \n",
      "______________________________________________________________________________________________________________________________________________________\n",
      "tf_op_layer_Sum_1 (TensorFlowOpLayer)            [(None,)]                        0                 tf_op_layer_Sub_6[0][0]                           \n",
      "______________________________________________________________________________________________________________________________________________________\n",
      "tf_op_layer_Sub_8 (TensorFlowOpLayer)            [(None, 64)]                     0                 tf_op_layer_Sub_7[0][0]                           \n",
      "                                                                                                    tf_op_layer_Exp_2[0][0]                           \n",
      "______________________________________________________________________________________________________________________________________________________\n",
      "tf_op_layer_AddV2_1 (TensorFlowOpLayer)          [(None, 1)]                      0                 dense_4[1][0]                                     \n",
      "______________________________________________________________________________________________________________________________________________________\n",
      "concatenate_4 (Concatenate)                      (None, 80)                       0                 concatenate_2[0][0]                               \n",
      "                                                                                                    concatenate_3[0][0]                               \n",
      "______________________________________________________________________________________________________________________________________________________\n",
      "tf_op_layer_SquaredDifference (TensorFlowOpLayer [(None,)]                        0                 tf_op_layer_Reshape_1[0][0]                       \n",
      "                                                                                                    tf_op_layer_Reshape[0][0]                         \n",
      "______________________________________________________________________________________________________________________________________________________\n",
      "tf_op_layer_SquaredDifference_1 (TensorFlowOpLay [(None,)]                        0                 tf_op_layer_Reshape_3[0][0]                       \n",
      "                                                                                                    tf_op_layer_Reshape_2[0][0]                       \n",
      "______________________________________________________________________________________________________________________________________________________\n",
      "tf_op_layer_AddV2_6 (TensorFlowOpLayer)          [(None,)]                        0                 tf_op_layer_Sum[0][0]                             \n",
      "                                                                                                    tf_op_layer_Sum_1[0][0]                           \n",
      "______________________________________________________________________________________________________________________________________________________\n",
      "tf_op_layer_Sum_2 (TensorFlowOpLayer)            [(None,)]                        0                 tf_op_layer_Sub_8[0][0]                           \n",
      "______________________________________________________________________________________________________________________________________________________\n",
      "tf_op_layer_Mul_1 (TensorFlowOpLayer)            [(None, 1)]                      0                 tf_op_layer_AddV2_1[0][0]                         \n",
      "______________________________________________________________________________________________________________________________________________________\n",
      "tf_op_layer_Mean (TensorFlowOpLayer)             [()]                             0                 tf_op_layer_SquaredDifference[0][0]               \n",
      "______________________________________________________________________________________________________________________________________________________\n",
      "tf_op_layer_Mean_1 (TensorFlowOpLayer)           [()]                             0                 tf_op_layer_SquaredDifference_1[0][0]             \n",
      "______________________________________________________________________________________________________________________________________________________\n",
      "tf_op_layer_AddV2_7 (TensorFlowOpLayer)          [(None,)]                        0                 tf_op_layer_AddV2_6[0][0]                         \n",
      "                                                                                                    tf_op_layer_Sum_2[0][0]                           \n",
      "______________________________________________________________________________________________________________________________________________________\n",
      "tf_op_layer_Sub (TensorFlowOpLayer)              [(None, 1)]                      0                 tf_op_layer_Mul_1[0][0]                           \n",
      "______________________________________________________________________________________________________________________________________________________\n",
      "tf_op_layer_AddV2 (TensorFlowOpLayer)            [(None, 1)]                      0                 dense_4[0][0]                                     \n",
      "______________________________________________________________________________________________________________________________________________________\n",
      "tf_op_layer_AddV2_2 (TensorFlowOpLayer)          [()]                             0                 tf_op_layer_Mean[0][0]                            \n",
      "                                                                                                    tf_op_layer_Mean_1[0][0]                          \n",
      "______________________________________________________________________________________________________________________________________________________\n",
      "tf_op_layer_Mul_3 (TensorFlowOpLayer)            [(None,)]                        0                 tf_op_layer_AddV2_7[0][0]                         \n",
      "______________________________________________________________________________________________________________________________________________________\n",
      "tf_op_layer_RealDiv (TensorFlowOpLayer)          [(None, 1)]                      0                 tf_op_layer_Mul_1[0][0]                           \n",
      "                                                                                                    tf_op_layer_Sub[0][0]                             \n",
      "______________________________________________________________________________________________________________________________________________________\n",
      "tf_op_layer_Mul (TensorFlowOpLayer)              [(None, 1)]                      0                 tf_op_layer_AddV2[0][0]                           \n",
      "______________________________________________________________________________________________________________________________________________________\n",
      "tf_op_layer_Mul_2 (TensorFlowOpLayer)            [()]                             0                 tf_op_layer_AddV2_2[0][0]                         \n",
      "______________________________________________________________________________________________________________________________________________________\n",
      "tf_op_layer_Mul_4 (TensorFlowOpLayer)            [(None,)]                        0                 tf_op_layer_Mul_3[0][0]                           \n",
      "______________________________________________________________________________________________________________________________________________________\n",
      "tf_op_layer_Log (TensorFlowOpLayer)              [(None, 1)]                      0                 tf_op_layer_RealDiv[0][0]                         \n",
      "______________________________________________________________________________________________________________________________________________________\n",
      "tf_op_layer_Log_1 (TensorFlowOpLayer)            [(None, 1)]                      0                 tf_op_layer_Mul_1[0][0]                           \n",
      "______________________________________________________________________________________________________________________________________________________\n",
      "tf_op_layer_Sub_1 (TensorFlowOpLayer)            [(None, 1)]                      0                 tf_op_layer_Mul[0][0]                             \n",
      "______________________________________________________________________________________________________________________________________________________\n",
      "tf_op_layer_AddV2_8 (TensorFlowOpLayer)          [(None,)]                        0                 tf_op_layer_Mul_2[0][0]                           \n",
      "                                                                                                    tf_op_layer_Mul_4[0][0]                           \n",
      "______________________________________________________________________________________________________________________________________________________\n",
      "tf_op_layer_Mul_5 (TensorFlowOpLayer)            [(None, 1)]                      0                 tf_op_layer_Log[0][0]                             \n",
      "______________________________________________________________________________________________________________________________________________________\n",
      "tf_op_layer_Neg (TensorFlowOpLayer)              [(None, 1)]                      0                 tf_op_layer_Log_1[0][0]                           \n",
      "______________________________________________________________________________________________________________________________________________________\n",
      "tf_op_layer_Log_2 (TensorFlowOpLayer)            [(None, 1)]                      0                 tf_op_layer_Sub_1[0][0]                           \n",
      "______________________________________________________________________________________________________________________________________________________\n",
      "tf_op_layer_AddV2_9 (TensorFlowOpLayer)          [(None, None)]                   0                 tf_op_layer_AddV2_8[0][0]                         \n",
      "                                                                                                    tf_op_layer_Mul_5[0][0]                           \n",
      "______________________________________________________________________________________________________________________________________________________\n",
      "tf_op_layer_Sub_2 (TensorFlowOpLayer)            [(None, 1)]                      0                 tf_op_layer_Neg[0][0]                             \n",
      "                                                                                                    tf_op_layer_Log_2[0][0]                           \n",
      "______________________________________________________________________________________________________________________________________________________\n",
      "tf_op_layer_AddV2_10 (TensorFlowOpLayer)         [(None, None)]                   0                 tf_op_layer_AddV2_9[0][0]                         \n",
      "                                                                                                    tf_op_layer_Sub_2[0][0]                           \n",
      "______________________________________________________________________________________________________________________________________________________\n",
      "tf_op_layer_Mean_2 (TensorFlowOpLayer)           [()]                             0                 tf_op_layer_AddV2_10[0][0]                        \n",
      "______________________________________________________________________________________________________________________________________________________\n",
      "add_loss (AddLoss)                               ()                               0                 tf_op_layer_Mean_2[0][0]                          \n",
      "======================================================================================================================================================\n",
      "Total params: 403,538\n",
      "Trainable params: 403,538\n",
      "Non-trainable params: 0\n",
      "______________________________________________________________________________________________________________________________________________________\n"
     ]
    }
   ],
   "source": [
    "cvae.summary(line_length=150)"
   ]
  },
  {
   "cell_type": "code",
   "execution_count": null,
   "id": "1005e594",
   "metadata": {
    "papermill": {
     "duration": 0.026575,
     "end_time": "2021-12-03T17:45:53.421096",
     "exception": false,
     "start_time": "2021-12-03T17:45:53.394521",
     "status": "completed"
    },
    "tags": []
   },
   "outputs": [],
   "source": []
  },
  {
   "cell_type": "code",
   "execution_count": null,
   "id": "ff7c7a78",
   "metadata": {
    "papermill": {
     "duration": 0.026627,
     "end_time": "2021-12-03T17:45:53.474437",
     "exception": false,
     "start_time": "2021-12-03T17:45:53.447810",
     "status": "completed"
    },
    "tags": []
   },
   "outputs": [],
   "source": []
  }
 ],
 "metadata": {
  "kernelspec": {
   "display_name": "Python 3",
   "language": "python",
   "name": "python3"
  },
  "language_info": {
   "codemirror_mode": {
    "name": "ipython",
    "version": 3
   },
   "file_extension": ".py",
   "mimetype": "text/x-python",
   "name": "python",
   "nbconvert_exporter": "python",
   "pygments_lexer": "ipython3",
   "version": "3.8.5"
  },
  "papermill": {
   "default_parameters": {},
   "duration": 6934.916296,
   "end_time": "2021-12-03T17:45:56.837564",
   "environment_variables": {},
   "exception": null,
   "input_path": "01-train-CVAE-cmats-smallPaffdded.ipynb",
   "output_path": "./papermill/papermill|01-train-CVAE-cmats-smallPaffdded|2021-12-03-10-50-19.ipynb",
   "parameters": {},
   "start_time": "2021-12-03T15:50:21.921268",
   "version": "2.3.3"
  }
 },
 "nbformat": 4,
 "nbformat_minor": 5
}