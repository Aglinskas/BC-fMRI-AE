{
 "cells": [
  {
   "cell_type": "code",
   "execution_count": 1,
   "metadata": {},
   "outputs": [
    {
     "data": {
      "text/plain": [
       "'/mmfs1/data/aglinska/BC-fMRI-AE/Notebooks'"
      ]
     },
     "execution_count": 1,
     "metadata": {},
     "output_type": "execute_result"
    }
   ],
   "source": [
    "pwd"
   ]
  },
  {
   "cell_type": "code",
   "execution_count": 2,
   "metadata": {},
   "outputs": [
    {
     "name": "stdout",
     "output_type": "stream",
     "text": [
      "Interactive namespace is empty.\n"
     ]
    }
   ],
   "source": [
    "whos"
   ]
  },
  {
   "cell_type": "code",
   "execution_count": 3,
   "metadata": {},
   "outputs": [
    {
     "name": "stdout",
     "output_type": "stream",
     "text": [
      "              total        used        free      shared  buff/cache   available\n",
      "Mem:            187           5         181           0           0         180\n",
      "Swap:            11           0          11\n"
     ]
    }
   ],
   "source": [
    "!free -g"
   ]
  },
  {
   "cell_type": "code",
   "execution_count": 4,
   "metadata": {},
   "outputs": [
    {
     "name": "stdout",
     "output_type": "stream",
     "text": [
      "NVIDIA-SMI has failed because it couldn't communicate with the NVIDIA driver. Make sure that the latest NVIDIA driver is installed and running.\n",
      "\n"
     ]
    }
   ],
   "source": [
    "!nvidia-smi"
   ]
  },
  {
   "cell_type": "code",
   "execution_count": 5,
   "metadata": {},
   "outputs": [
    {
     "name": "stdout",
     "output_type": "stream",
     "text": [
      "CVAE_2021-10-01 08:19:19.567960\n"
     ]
    }
   ],
   "source": [
    "import os\n",
    "from datetime import datetime; now = datetime.now\n",
    "\n",
    "analysis_name = 'CVAE_' + str(now())\n",
    "save_dir = os.path.join('../Assets/tf_weights',analysis_name)\n",
    "if not os.path.exists(save_dir):\n",
    "    os.mkdir(save_dir)\n",
    "    \n",
    "print(analysis_name)"
   ]
  },
  {
   "cell_type": "code",
   "execution_count": 6,
   "metadata": {},
   "outputs": [],
   "source": [
    "# CHECK GPU\n",
    "import nvidia_smi\n",
    "try:\n",
    "    nvidia_smi.nvmlInit()\n",
    "\n",
    "    handle = nvidia_smi.nvmlDeviceGetHandleByIndex(0)\n",
    "    # card id 0 hardcoded here, there is also a call to get all available card ids, so we could iterate\n",
    "\n",
    "    info = nvidia_smi.nvmlDeviceGetMemoryInfo(handle)\n",
    "\n",
    "    print(\"Total memory:\", (info.total/1024/1024/1024))\n",
    "    print(\"Free memory:\", (info.free/1024/1024/1024))\n",
    "    print(\"Used memory:\", (info.used/1024/1024/1024))\n",
    "\n",
    "    nvidia_smi.nvmlShutdown()\n",
    "except:\n",
    "    pass"
   ]
  },
  {
   "cell_type": "code",
   "execution_count": 7,
   "metadata": {},
   "outputs": [],
   "source": [
    "## SET UP"
   ]
  },
  {
   "cell_type": "code",
   "execution_count": 8,
   "metadata": {},
   "outputs": [],
   "source": [
    "import numpy as np\n",
    "import pandas as pd\n",
    "from tqdm import tqdm\n",
    "from matplotlib import pyplot as plt\n",
    "\n",
    "from functools import partial\n",
    "from tqdm import tqdm\n",
    "from umap import UMAP\n",
    "tqdm = partial(tqdm, position=0, leave=True) "
   ]
  },
  {
   "cell_type": "code",
   "execution_count": 9,
   "metadata": {},
   "outputs": [],
   "source": [
    "df = pd.read_csv('../Data/ABIDE_df2.csv')\n",
    "df = df.iloc[~pd.isna(df['bids_folder']).values]\n",
    "data_dir = '../Assets/fc_mats_32smooth_new/'"
   ]
  },
  {
   "cell_type": "code",
   "execution_count": 10,
   "metadata": {},
   "outputs": [
    {
     "data": {
      "text/plain": [
       "['sub-CMUa0050642.npy',\n",
       " 'sub-CMUa0050646.npy',\n",
       " 'sub-CMUa0050647.npy',\n",
       " 'sub-CMUa0050649.npy',\n",
       " 'sub-CMUa0050653.npy']"
      ]
     },
     "execution_count": 10,
     "metadata": {},
     "output_type": "execute_result"
    }
   ],
   "source": [
    "files = [file for file in os.listdir(data_dir) if file.endswith('.npy')]\n",
    "files.sort()\n",
    "files[0:5]"
   ]
  },
  {
   "cell_type": "code",
   "execution_count": 11,
   "metadata": {},
   "outputs": [
    {
     "name": "stdout",
     "output_type": "stream",
     "text": [
      "1048\n",
      "1.0\n"
     ]
    }
   ],
   "source": [
    "subs_with_matFiles = [file.split('.')[0] for file in files]\n",
    "df = df.iloc[np.array([sub in subs_with_matFiles for sub in df['bids_folder'].values])]\n",
    "n_subs = len(df)\n",
    "print(n_subs)\n",
    "\n",
    "# Check if subject has .nii file\n",
    "has_file = np.array([os.path.exists(os.path.join(data_dir,sub + '.npy')) for sub in df['bids_folder'].values])\n",
    "print(has_file.mean())\n",
    "assert has_file.mean()==1.0, 'fuck'\n",
    "\n",
    "assert len(subs_with_matFiles)==len(df),'no'\n",
    "df = df.sort_values(by='bids_folder')\n",
    "assert all([subs_with_matFiles[i]==df['bids_folder'].values[i] for i in range(n_subs)]), 'out of order'\n",
    "\n",
    "df.index = np.arange(n_subs)"
   ]
  },
  {
   "cell_type": "code",
   "execution_count": 12,
   "metadata": {},
   "outputs": [
    {
     "name": "stdout",
     "output_type": "stream",
     "text": [
      "CPU times: user 48.3 ms, sys: 12.6 ms, total: 60.8 ms\n",
      "Wall time: 231 ms\n"
     ]
    },
    {
     "data": {
      "text/plain": [
       "<module 'tensorflow' from '/data/aglinska/anaconda3/lib/python3.8/site-packages/tensorflow/__init__.py'>"
      ]
     },
     "execution_count": 12,
     "metadata": {},
     "output_type": "execute_result"
    }
   ],
   "source": [
    "%%time\n",
    "from importlib import reload\n",
    "import helper_funcs;reload(helper_funcs);from helper_funcs import *\n",
    "del helper_funcs\n",
    "import make_models;reload(make_models);from make_models import *\n",
    "del make_models\n",
    "\n",
    "from IPython import display\n",
    "import sys\n",
    "from sklearn.decomposition import PCA\n",
    "import seaborn as sns\n",
    "\n",
    "import tensorflow as tf\n",
    "reload(tf)"
   ]
  },
  {
   "cell_type": "code",
   "execution_count": 13,
   "metadata": {},
   "outputs": [
    {
     "data": {
      "text/plain": [
       "''"
      ]
     },
     "execution_count": 13,
     "metadata": {},
     "output_type": "execute_result"
    }
   ],
   "source": [
    "import tensorflow as tf\n",
    "tf.test.gpu_device_name()"
   ]
  },
  {
   "cell_type": "code",
   "execution_count": 14,
   "metadata": {},
   "outputs": [],
   "source": [
    "data_dir = '../Assets/fc_mats_32smooth_new'\n",
    "#data_loader = cvae_data_loader(data_dir=data_dir, df=df, batch_size=32)\n",
    "#batch_asd,batch_td,batch_df = data_loader.get_batch()"
   ]
  },
  {
   "cell_type": "code",
   "execution_count": 25,
   "metadata": {},
   "outputs": [],
   "source": [
    "data_loader = vae_data_loader(data_dir=data_dir, df=df, batch_size=32)"
   ]
  },
  {
   "cell_type": "code",
   "execution_count": 15,
   "metadata": {},
   "outputs": [],
   "source": [
    "data_size = np.hstack((n_subs,batch_asd.shape[1:]))"
   ]
  },
  {
   "cell_type": "code",
   "execution_count": 34,
   "metadata": {},
   "outputs": [],
   "source": [
    "import make_models;reload(make_models);from make_models import *\n",
    "batch_size = 16\n",
    "\n",
    "encoder, decoder, vae = get_fMRI_VAE_4D(input_shape=(48,48,48,51),\n",
    "                   latent_dim=32, \n",
    "                   batch_size = batch_size, \n",
    "                   disentangle=True, \n",
    "                   gamma=1,\n",
    "                   kernel_size = 3,\n",
    "                   filters = 16,\n",
    "                   bias=True,\n",
    "                   intermediate_dim = 256,\n",
    "                   nlayers = 4,\n",
    "                   learning_rate=0.001,\n",
    "                    opt=None)"
   ]
  },
  {
   "cell_type": "code",
   "execution_count": 36,
   "metadata": {},
   "outputs": [],
   "source": [
    "loss = list();c_sim = list();all_rsas = list()"
   ]
  },
  {
   "cell_type": "code",
   "execution_count": 37,
   "metadata": {},
   "outputs": [],
   "source": [
    "data_loader = cvae_data_loader(data_dir=data_dir, df=df, batch_size=batch_size)"
   ]
  },
  {
   "cell_type": "code",
   "execution_count": null,
   "metadata": {},
   "outputs": [
    {
     "name": "stderr",
     "output_type": "stream",
     "text": [
      "  0%|          | 0/100 [00:00<?, ?it/s]\n",
      "  0%|          | 0/32 [00:00<?, ?it/s]\u001b[A"
     ]
    }
   ],
   "source": [
    "import make_models;reload(make_models);from make_models import *\n",
    "import helper_funcs;reload(helper_funcs);from helper_funcs import *\n",
    "\n",
    "for epoch in tqdm(range(100),position=0, leave=True):\n",
    "    for i in tqdm(range(data_loader.n_batches),position=1, leave=False):\n",
    "        \n",
    "        data_batch,batch_df = data_loader.get_batch() # Get a batch\n",
    "        hist = cvae.train_on_batch([patient_batch,control_batch]) # pass a batch\n",
    "        assert not np.isnan(hist),'loss is NaN - you f**cked up'  # check nothing crashed\n",
    "        loss.append(hist) # keep track of loss\n",
    "        \n",
    "        cvae.save_weights(os.path.join(save_dir,'cvae_weights')) # SAVE WEIGHTS\n",
    "        np.save(os.path.join(save_dir,'cvae_loss.npy'),np.array(loss)) # Save loss\n",
    "        \n",
    "        #if np.mod(i,10)==0:\n",
    "            #batch_rsas = get_batch_rsas(data_dir,df,z_encoder,s_encoder,batch_size=(df['DX_GROUP'].values==1).sum())\n",
    "        \n",
    "        c_sim,all_rsas = cvae_dashboard(data_loader.epoch,\n",
    "                                        data_loader.b,\n",
    "                                        i,\n",
    "                                        cvae,z_encoder,\n",
    "                                        s_encoder,\n",
    "                                        loss,\n",
    "                                        all_rsas,\n",
    "                                        c_sim,\n",
    "                                        df,\n",
    "                                        patient_batch,\n",
    "                                        control_batch,\n",
    "                                        batch_rsas,\n",
    "                                        red='UMAP') # plot training progress\n",
    "        "
   ]
  },
  {
   "cell_type": "code",
   "execution_count": null,
   "metadata": {},
   "outputs": [],
   "source": []
  },
  {
   "cell_type": "code",
   "execution_count": null,
   "metadata": {},
   "outputs": [],
   "source": [
    "def cvae_dashboard(epoch,b_idx,i,vae,encoder,loss,c_sim,df,data_batch,red='UMAP'):\n",
    "    \n",
    "    if red=='PCA':\n",
    "        reducer = PCA\n",
    "    elif red=='UMAP':\n",
    "        reducer = UMAP\n",
    "    else:\n",
    "        reducer = UMAP\n",
    "        \n",
    "    #prediction = cvae.predict(patient_batch)    \n",
    "    predictions = vae.predict()\n",
    "    #predictions = np.concatenate((predictions[0],predictions[1]),axis=0)\n",
    "    prediction = predictions[0]\n",
    "    \n",
    "#     if np.mod(i,1)==0:        \n",
    "#         pc_s = reducer(n_components=2).fit_transform(s_encoder.predict(np.concatenate((patient_batch,control_batch),axis=0))[2])\n",
    "#         pc_z = reducer(n_components=2).fit_transform(z_encoder.predict(np.concatenate((patient_batch,control_batch),axis=0))[2])\n",
    "        \n",
    "#         global pc_s_asd, pc_s_td, pc_z_asd, pc_z_td\n",
    "\n",
    "#         pc_s_asd = pc_s[0:patient_batch.shape[0],:]\n",
    "#         pc_s_td = pc_s[patient_batch.shape[0]::,:]\n",
    "\n",
    "#         pc_z_asd = pc_z[0:patient_batch.shape[0],:]\n",
    "#         pc_z_td = pc_z[patient_batch.shape[0]::,:]\n",
    "        \n",
    "        #all_rsas.append(get_batch_rsas(z_encoder,s_encoder,df,n=50))\n",
    "        \n",
    "    cmat_actual = np.corrcoef(np.vstack((patient_batch.reshape(patient_batch.shape[0],-1),control_batch.reshape(control_batch.shape[0],-1))))\n",
    "    cmat_pred = np.corrcoef(np.vstack((predictions[0].reshape(predictions[0].shape[0],-1),predictions[1].reshape(predictions[1].shape[0],-1))))\n",
    "    c_sim.append(np.corrcoef(get_triu(cmat_pred),get_triu(cmat_actual))[0,1])\n",
    "\n",
    "    \n",
    "    ### PROGRESS PLOTTING\n",
    "    display.clear_output(wait=True);\n",
    "    display.display(plt.gcf());\n",
    "    #Organise figure\n",
    "    ncols = 4;nrows=5\n",
    "    if np.mod(i,5)==0:\n",
    "        plt.close()\n",
    "    plt.subplots(nrows,ncols,figsize=(15,15)); # MAKE THE FIGURE\n",
    "    \n",
    "    \n",
    "    ##### SUBPLOT 1 & 2 ##### \n",
    "\n",
    "    plt.subplot(nrows,ncols/2,1) # PLOT LOSS\n",
    "    xs = np.arange(len(loss))+1\n",
    "    m,b = np.polyfit(xs,loss,deg=1)\n",
    "    plt.plot(loss)\n",
    "    plt.plot(xs, m*xs + b)\n",
    "    plt.title(f'Epoch {epoch} batch {b_idx} | Loss {loss[-1]:.2f}, beta: {m:.4f}')\n",
    "    \n",
    "    ##### SUBPLOT 3 ##### \n",
    "    plt.subplot(nrows,ncols,3) # PLOT LOSS LAST 50\n",
    "    hb = 50\n",
    "    if len(loss)>hb:\n",
    "        plot_loss = loss[-hb::]\n",
    "        xs = np.arange(len(plot_loss))\n",
    "        m,b = np.polyfit(xs,plot_loss,deg=1)\n",
    "        plt.plot(plot_loss)\n",
    "        plt.plot(xs, m*xs + b)\n",
    "        #plt.title(hist)\n",
    "        plt.title(f'Loss last {hb} it, beta {m:.4f}')\n",
    "        \n",
    "    ##### SUBPLOT 4 ##### \n",
    "    plt.subplot(nrows,ncols,4)\n",
    "    plt.hist(prediction[0,:,:,:,0].flatten(),alpha=.5)\n",
    "    plt.hist(patient_batch[0,:,:,:,0].flatten(),alpha=.5)\n",
    "    plt.legend(['predicted','actual'])\n",
    "    plt.title('in/out histograms')\n",
    "    \n",
    "    ##### SUBPLOT 5 ##### \n",
    "    plt.subplot(nrows,ncols,5) #RSA over time\n",
    "    plt.plot(c_sim)\n",
    "    plt.title(f'in/out RSA: {c_sim[-1].round(2)}')\n",
    "    \n",
    "    if len(c_sim)>5: # PLOT LS LINE\n",
    "        xs = np.arange(len(c_sim))+1\n",
    "        m,b = np.polyfit(xs,c_sim,deg=1)\n",
    "        plt.plot(xs, m*xs + b)\n",
    "        plt.title(f'in/out RSA: {c_sim[-1].round(2)}, b={m:.4f}')\n",
    "        \n",
    "\n",
    "    ##### SUBPLOT 6 ##### \n",
    "    plt.subplot(nrows,ncols,6)\n",
    "    if len(c_sim)>hb:\n",
    "        #plot_loss = loss[-hb::]\n",
    "        xs = np.arange(len(c_sim[-hb::]))\n",
    "        m,b = np.polyfit(xs,c_sim[-hb::],deg=1)\n",
    "        plt.plot(c_sim[-hb::])\n",
    "        plt.plot(xs, m*xs + b)\n",
    "        #plt.title(hist)\n",
    "        plt.title(f'in/outRSA last {hb} it, b={m:.4f}')\n",
    "\n",
    "    ##### SUBPLOT 7 ##### \n",
    "    plt.subplot(nrows,ncols,7)\n",
    "    lbls = ['age','sex','fiq','dsm','site','ados'];\n",
    "    xs = np.arange(len(lbls));\n",
    "    plt.bar(xs,batch_rsas[0:6]);\n",
    "    plt.xticks(xs,labels=lbls);\n",
    "    plt.title('S RSA')\n",
    "    \n",
    "    ##### SUBPLOT 8 ##### \n",
    "    plt.subplot(nrows,ncols,8)\n",
    "    lbls = ['age','sex','fiq','dsm','site','ados'];\n",
    "    xs = np.arange(len(lbls));\n",
    "    plt.bar(xs,batch_rsas[6::]);\n",
    "    plt.xticks(xs,labels=lbls);\n",
    "    plt.title('Z RSA')\n",
    "\n",
    "        \n",
    "    ##### SUBPLOT 9 ##### \n",
    "    plt.subplot(nrows,ncols,9)\n",
    "    plt.scatter(pc_s_asd[:,0],pc_s_asd[:,1],s=100,alpha=.5);plt.title(f'batch latent S rep. {red}')\n",
    "    plt.scatter(pc_s_td[:,0],pc_s_td[:,1],s=100,alpha=.5);plt.title(f'batch latent S rep. {red}')\n",
    "    plt.legend(['ASD','TD'])\n",
    "    \n",
    "    ##### SUBPLOT 10 ##### \n",
    "    plt.subplot(nrows,ncols,10)\n",
    "    plt.scatter(pc_z_asd[:,0],pc_z_asd[:,1],s=100,alpha=.5);plt.title(f'batch latent Z rep. {red}')\n",
    "    plt.scatter(pc_z_td[:,0],pc_z_td[:,1],s=100,alpha=.5);plt.title(f'batch latent Z rep. {red}')\n",
    "    plt.legend(['ASD','TD'])\n",
    "    \n",
    "    ##### SUBPLOT 11 ##### \n",
    "    plt.subplot(nrows,ncols,11)\n",
    "    sns.heatmap(cmat_actual,xticklabels=[],yticklabels=[])\n",
    "    plt.title('input RSA')\n",
    "        \n",
    "    ##### SUBPLOT 12 ##### \n",
    "    plt.subplot(nrows,ncols,12)\n",
    "    sns.heatmap(cmat_pred,xticklabels=[],yticklabels=[])\n",
    "    plt.title('output RSA')\n",
    "  \n",
    "    ##### SUBPLOT 13 #####     \n",
    "    plt.subplot(nrows,ncols,13)\n",
    "    plt.imshow(np.rot90(patient_batch[0,:,16,:,0]))\n",
    "    plt.xticks([]);plt.yticks([]);plt.title('actual')\n",
    "\n",
    "    ##### SUBPLOT 14 #####     \n",
    "    plt.subplot(nrows,ncols,14)\n",
    "    plt.imshow(np.rot90(prediction[0,:,16,:,0]))\n",
    "    plt.xticks([]);plt.yticks([]);plt.title('predicted')\n",
    "    ##### SUBPLOT 15 #####     \n",
    "    plt.subplot(nrows,ncols,15)\n",
    "    plt.imshow(np.rot90(patient_batch[0,16,:,:,0]))\n",
    "    plt.xticks([]);plt.yticks([]);plt.title('actual')\n",
    "    ##### SUBPLOT 16 #####                                             \n",
    "    plt.subplot(nrows,ncols,16)\n",
    "    plt.imshow(np.rot90(prediction[0,16,:,:,0]))\n",
    "    plt.xticks([]);plt.yticks([]);plt.title('predicted')\n",
    "    ##### SUBPLOT 17 #####     \n",
    "    plt.subplot(nrows,ncols,17)\n",
    "    plt.imshow(np.rot90(patient_batch[0,6,:,:,0]))\n",
    "    plt.xticks([]);plt.yticks([]);plt.title('actual')\n",
    "    ##### SUBPLOT 18 #####                                             \n",
    "    plt.subplot(nrows,ncols,18)\n",
    "    plt.imshow(np.rot90(prediction[0,6,:,:,0]))\n",
    "    plt.xticks([]);plt.yticks([]);plt.title('predicted')\n",
    "    ##### SUBPLOT 19 #####     \n",
    "    plt.subplot(nrows,ncols,19)\n",
    "    plt.imshow(patient_batch[0,:,:,16,0])\n",
    "    plt.xticks([]);plt.yticks([]);plt.title('actual')\n",
    "    ##### SUBPLOT 20 #####     \n",
    "    plt.subplot(nrows,ncols,20)\n",
    "    plt.imshow(prediction[0,:,:,16,0])\n",
    "    plt.xticks([]);plt.yticks([]);plt.title('predicted')\n",
    "    \n",
    "    plt.tight_layout()\n",
    "    plt.show()\n",
    "    #sys.stdout.flush()\n",
    "    \n",
    "    return c_sim,all_rsas"
   ]
  },
  {
   "cell_type": "code",
   "execution_count": null,
   "metadata": {},
   "outputs": [],
   "source": []
  },
  {
   "cell_type": "code",
   "execution_count": null,
   "metadata": {},
   "outputs": [],
   "source": []
  },
  {
   "cell_type": "code",
   "execution_count": null,
   "metadata": {},
   "outputs": [],
   "source": []
  },
  {
   "cell_type": "code",
   "execution_count": null,
   "metadata": {},
   "outputs": [],
   "source": []
  }
 ],
 "metadata": {
  "kernelspec": {
   "display_name": "Python 3",
   "language": "python",
   "name": "python3"
  },
  "language_info": {
   "codemirror_mode": {
    "name": "ipython",
    "version": 3
   },
   "file_extension": ".py",
   "mimetype": "text/x-python",
   "name": "python",
   "nbconvert_exporter": "python",
   "pygments_lexer": "ipython3",
   "version": "3.8.5"
  }
 },
 "nbformat": 4,
 "nbformat_minor": 4
}
