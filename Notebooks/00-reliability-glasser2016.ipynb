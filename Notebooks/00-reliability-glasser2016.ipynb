{
 "cells": [
  {
   "cell_type": "code",
   "execution_count": 1,
   "id": "604e9a21",
   "metadata": {},
   "outputs": [
    {
     "data": {
      "text/plain": [
       "'/mmfs1/data/aglinska/BC-fMRI-AE/Notebooks'"
      ]
     },
     "execution_count": 1,
     "metadata": {},
     "output_type": "execute_result"
    }
   ],
   "source": [
    "pwd"
   ]
  },
  {
   "cell_type": "code",
   "execution_count": 2,
   "id": "a2fae2cd",
   "metadata": {},
   "outputs": [
    {
     "name": "stdout",
     "output_type": "stream",
     "text": [
      "CPU times: user 2.13 s, sys: 3.24 s, total: 5.37 s\n",
      "Wall time: 9.5 s\n"
     ]
    }
   ],
   "source": [
    "%%time\n",
    "import pandas as pd\n",
    "import numpy as np\n",
    "import os\n",
    "import ants"
   ]
  },
  {
   "cell_type": "code",
   "execution_count": 11,
   "id": "bf731f43",
   "metadata": {},
   "outputs": [],
   "source": [
    "# rlbls = pd.read_csv('../Data/GlasserAtlas/glasser360NodeNames.txt',header=None)\n",
    "# rlbls = rlbls[0].to_list()\n",
    "# rlbls = np.array(rlbls)\n",
    "# drop_rois = np.array(['Left_OFC' 'Right_TGv' 'Right_OFC' 'Left_TGv' 'Right_s32' 'Left_s32'\n",
    "#  'Left_pOFC' 'Right_25' 'Left_25' 'Right_LO2' 'Right_TE1m' 'Right_pOFC'])"
   ]
  },
  {
   "cell_type": "code",
   "execution_count": 18,
   "id": "d44e61fb",
   "metadata": {},
   "outputs": [
    {
     "data": {
      "text/html": [
       "<div>\n",
       "<style scoped>\n",
       "    .dataframe tbody tr th:only-of-type {\n",
       "        vertical-align: middle;\n",
       "    }\n",
       "\n",
       "    .dataframe tbody tr th {\n",
       "        vertical-align: top;\n",
       "    }\n",
       "\n",
       "    .dataframe thead th {\n",
       "        text-align: right;\n",
       "    }\n",
       "</style>\n",
       "<table border=\"1\" class=\"dataframe\">\n",
       "  <thead>\n",
       "    <tr style=\"text-align: right;\">\n",
       "      <th></th>\n",
       "      <th>Unnamed: 0</th>\n",
       "      <th>participant_id</th>\n",
       "      <th>DX_GROUP</th>\n",
       "      <th>DSM_IV_TR</th>\n",
       "      <th>AGE_AT_SCAN</th>\n",
       "      <th>SEX</th>\n",
       "      <th>HANDEDNESS_CATEGORY</th>\n",
       "      <th>HANDEDNESS_SCORES</th>\n",
       "      <th>FIQ</th>\n",
       "      <th>VIQ</th>\n",
       "      <th>...</th>\n",
       "      <th>WISC_IV_DIGIT_SPAN_SCALED</th>\n",
       "      <th>WISC_IV_LET_NUM_SCALED</th>\n",
       "      <th>WISC_IV_CODING_SCALED</th>\n",
       "      <th>WISC_IV_SYM_SCALED</th>\n",
       "      <th>EYE_STATUS_AT_SCAN</th>\n",
       "      <th>AGE_AT_MPRAGE</th>\n",
       "      <th>BMI</th>\n",
       "      <th>bids_folder</th>\n",
       "      <th>site</th>\n",
       "      <th>funcFile</th>\n",
       "    </tr>\n",
       "  </thead>\n",
       "  <tbody>\n",
       "    <tr>\n",
       "      <th>837</th>\n",
       "      <td>837</td>\n",
       "      <td>51198</td>\n",
       "      <td>2</td>\n",
       "      <td>NaN</td>\n",
       "      <td>12.2546</td>\n",
       "      <td>1</td>\n",
       "      <td>Ambi</td>\n",
       "      <td>NaN</td>\n",
       "      <td>114.0</td>\n",
       "      <td>109.0</td>\n",
       "      <td>...</td>\n",
       "      <td>NaN</td>\n",
       "      <td>NaN</td>\n",
       "      <td>NaN</td>\n",
       "      <td>NaN</td>\n",
       "      <td>2</td>\n",
       "      <td>NaN</td>\n",
       "      <td>NaN</td>\n",
       "      <td>sub-Stanford0051198</td>\n",
       "      <td>16</td>\n",
       "      <td>Stanford_0051198_func_preproc.nii.gz</td>\n",
       "    </tr>\n",
       "    <tr>\n",
       "      <th>552</th>\n",
       "      <td>552</td>\n",
       "      <td>50775</td>\n",
       "      <td>2</td>\n",
       "      <td>0.0</td>\n",
       "      <td>11.0000</td>\n",
       "      <td>1</td>\n",
       "      <td>R</td>\n",
       "      <td>85.0</td>\n",
       "      <td>101.0</td>\n",
       "      <td>NaN</td>\n",
       "      <td>...</td>\n",
       "      <td>6.0</td>\n",
       "      <td>12.0</td>\n",
       "      <td>9.0</td>\n",
       "      <td>11.0</td>\n",
       "      <td>1</td>\n",
       "      <td>NaN</td>\n",
       "      <td>NaN</td>\n",
       "      <td>sub-KKI0050775</td>\n",
       "      <td>4</td>\n",
       "      <td>KKI_0050775_func_preproc.nii.gz</td>\n",
       "    </tr>\n",
       "    <tr>\n",
       "      <th>1019</th>\n",
       "      <td>1019</td>\n",
       "      <td>51559</td>\n",
       "      <td>2</td>\n",
       "      <td>0.0</td>\n",
       "      <td>27.0000</td>\n",
       "      <td>1</td>\n",
       "      <td>NaN</td>\n",
       "      <td>100.0</td>\n",
       "      <td>NaN</td>\n",
       "      <td>NaN</td>\n",
       "      <td>...</td>\n",
       "      <td>NaN</td>\n",
       "      <td>NaN</td>\n",
       "      <td>NaN</td>\n",
       "      <td>NaN</td>\n",
       "      <td>2</td>\n",
       "      <td>NaN</td>\n",
       "      <td>NaN</td>\n",
       "      <td>sub-SBL0051559</td>\n",
       "      <td>14</td>\n",
       "      <td>SBL_0051559_func_preproc.nii.gz</td>\n",
       "    </tr>\n",
       "    <tr>\n",
       "      <th>933</th>\n",
       "      <td>933</td>\n",
       "      <td>51317</td>\n",
       "      <td>1</td>\n",
       "      <td>1.0</td>\n",
       "      <td>12.8200</td>\n",
       "      <td>1</td>\n",
       "      <td>R</td>\n",
       "      <td>NaN</td>\n",
       "      <td>102.0</td>\n",
       "      <td>99.0</td>\n",
       "      <td>...</td>\n",
       "      <td>NaN</td>\n",
       "      <td>NaN</td>\n",
       "      <td>NaN</td>\n",
       "      <td>NaN</td>\n",
       "      <td>1</td>\n",
       "      <td>12.82</td>\n",
       "      <td>NaN</td>\n",
       "      <td>sub-UCLA20051317</td>\n",
       "      <td>18</td>\n",
       "      <td>UCLA_2_0051317_func_preproc.nii.gz</td>\n",
       "    </tr>\n",
       "    <tr>\n",
       "      <th>858</th>\n",
       "      <td>858</td>\n",
       "      <td>51220</td>\n",
       "      <td>1</td>\n",
       "      <td>1.0</td>\n",
       "      <td>14.7400</td>\n",
       "      <td>1</td>\n",
       "      <td>R</td>\n",
       "      <td>NaN</td>\n",
       "      <td>99.0</td>\n",
       "      <td>121.0</td>\n",
       "      <td>...</td>\n",
       "      <td>NaN</td>\n",
       "      <td>NaN</td>\n",
       "      <td>NaN</td>\n",
       "      <td>NaN</td>\n",
       "      <td>1</td>\n",
       "      <td>14.74</td>\n",
       "      <td>NaN</td>\n",
       "      <td>sub-UCLA10051220</td>\n",
       "      <td>18</td>\n",
       "      <td>UCLA_1_0051220_func_preproc.nii.gz</td>\n",
       "    </tr>\n",
       "  </tbody>\n",
       "</table>\n",
       "<p>5 rows × 77 columns</p>\n",
       "</div>"
      ],
      "text/plain": [
       "      Unnamed: 0  participant_id  DX_GROUP  DSM_IV_TR  AGE_AT_SCAN  SEX  \\\n",
       "837          837           51198         2        NaN      12.2546    1   \n",
       "552          552           50775         2        0.0      11.0000    1   \n",
       "1019        1019           51559         2        0.0      27.0000    1   \n",
       "933          933           51317         1        1.0      12.8200    1   \n",
       "858          858           51220         1        1.0      14.7400    1   \n",
       "\n",
       "     HANDEDNESS_CATEGORY  HANDEDNESS_SCORES    FIQ    VIQ  ...  \\\n",
       "837                 Ambi                NaN  114.0  109.0  ...   \n",
       "552                    R               85.0  101.0    NaN  ...   \n",
       "1019                 NaN              100.0    NaN    NaN  ...   \n",
       "933                    R                NaN  102.0   99.0  ...   \n",
       "858                    R                NaN   99.0  121.0  ...   \n",
       "\n",
       "      WISC_IV_DIGIT_SPAN_SCALED WISC_IV_LET_NUM_SCALED WISC_IV_CODING_SCALED  \\\n",
       "837                         NaN                    NaN                   NaN   \n",
       "552                         6.0                   12.0                   9.0   \n",
       "1019                        NaN                    NaN                   NaN   \n",
       "933                         NaN                    NaN                   NaN   \n",
       "858                         NaN                    NaN                   NaN   \n",
       "\n",
       "     WISC_IV_SYM_SCALED  EYE_STATUS_AT_SCAN  AGE_AT_MPRAGE  BMI  \\\n",
       "837                 NaN                   2            NaN  NaN   \n",
       "552                11.0                   1            NaN  NaN   \n",
       "1019                NaN                   2            NaN  NaN   \n",
       "933                 NaN                   1          12.82  NaN   \n",
       "858                 NaN                   1          14.74  NaN   \n",
       "\n",
       "              bids_folder  site                              funcFile  \n",
       "837   sub-Stanford0051198    16  Stanford_0051198_func_preproc.nii.gz  \n",
       "552        sub-KKI0050775     4       KKI_0050775_func_preproc.nii.gz  \n",
       "1019       sub-SBL0051559    14       SBL_0051559_func_preproc.nii.gz  \n",
       "933      sub-UCLA20051317    18    UCLA_2_0051317_func_preproc.nii.gz  \n",
       "858      sub-UCLA10051220    18    UCLA_1_0051220_func_preproc.nii.gz  \n",
       "\n",
       "[5 rows x 77 columns]"
      ]
     },
     "execution_count": 18,
     "metadata": {},
     "output_type": "execute_result"
    }
   ],
   "source": [
    "df = pd.read_csv('../Data/ABIDE_df3.csv')\n",
    "df.sample(5)"
   ]
  },
  {
   "cell_type": "code",
   "execution_count": 17,
   "id": "4e2f6385",
   "metadata": {},
   "outputs": [
    {
     "data": {
      "text/html": [
       "<div>\n",
       "<style scoped>\n",
       "    .dataframe tbody tr th:only-of-type {\n",
       "        vertical-align: middle;\n",
       "    }\n",
       "\n",
       "    .dataframe tbody tr th {\n",
       "        vertical-align: top;\n",
       "    }\n",
       "\n",
       "    .dataframe thead th {\n",
       "        text-align: right;\n",
       "    }\n",
       "</style>\n",
       "<table border=\"1\" class=\"dataframe\">\n",
       "  <thead>\n",
       "    <tr style=\"text-align: right;\">\n",
       "      <th></th>\n",
       "      <th>Unnamed: 0</th>\n",
       "      <th>lbl</th>\n",
       "      <th>idx</th>\n",
       "      <th>idx2</th>\n",
       "    </tr>\n",
       "  </thead>\n",
       "  <tbody>\n",
       "    <tr>\n",
       "      <th>94</th>\n",
       "      <td>96</td>\n",
       "      <td>Right_i6-8</td>\n",
       "      <td>97</td>\n",
       "      <td>95</td>\n",
       "    </tr>\n",
       "    <tr>\n",
       "      <th>60</th>\n",
       "      <td>61</td>\n",
       "      <td>Right_d32</td>\n",
       "      <td>62</td>\n",
       "      <td>61</td>\n",
       "    </tr>\n",
       "    <tr>\n",
       "      <th>226</th>\n",
       "      <td>233</td>\n",
       "      <td>Left_6d</td>\n",
       "      <td>234</td>\n",
       "      <td>227</td>\n",
       "    </tr>\n",
       "    <tr>\n",
       "      <th>172</th>\n",
       "      <td>179</td>\n",
       "      <td>Right_p24</td>\n",
       "      <td>180</td>\n",
       "      <td>173</td>\n",
       "    </tr>\n",
       "    <tr>\n",
       "      <th>259</th>\n",
       "      <td>266</td>\n",
       "      <td>Left_9a</td>\n",
       "      <td>267</td>\n",
       "      <td>260</td>\n",
       "    </tr>\n",
       "  </tbody>\n",
       "</table>\n",
       "</div>"
      ],
      "text/plain": [
       "     Unnamed: 0         lbl  idx  idx2\n",
       "94           96  Right_i6-8   97    95\n",
       "60           61   Right_d32   62    61\n",
       "226         233     Left_6d  234   227\n",
       "172         179   Right_p24  180   173\n",
       "259         266     Left_9a  267   260"
      ]
     },
     "execution_count": 17,
     "metadata": {},
     "output_type": "execute_result"
    }
   ],
   "source": [
    "rlbls = pd.read_csv('../Data/GlasserAtlas/rnames_trimmed.csv')\n",
    "rlbls.sample(5)"
   ]
  },
  {
   "cell_type": "code",
   "execution_count": 103,
   "id": "d1e45c84",
   "metadata": {},
   "outputs": [],
   "source": [
    "def get_split_cmats(flat_epi,flat_rois):\n",
    "    \n",
    "#     this_epi = flat_epi.copy()\n",
    "#     this_rois = flat_rois.copy()\n",
    "    \n",
    "    this_epi = flat_epi\n",
    "    this_rois = flat_rois\n",
    "    \n",
    "    nTR = flat_epi.shape[1]\n",
    "    mid = int(nTR/2)\n",
    "\n",
    "    assert this_rois.shape[0] == this_epi.shape[0],'u stupid'\n",
    "\n",
    "    e = this_rois!=0\n",
    "    e *= abs(this_epi).sum(axis=1)>10\n",
    "\n",
    "    this_epi = this_epi[e,:]\n",
    "    this_rois = this_rois[e]\n",
    "    \n",
    "    buffer = 10\n",
    "    first_half = this_epi[:,0:mid-buffer]\n",
    "    second_half = this_epi[:,mid+buffer::]\n",
    "\n",
    "    assert abs(first_half.shape[1]-second_half.shape[1])<5,'dumbass gonna dumb'\n",
    "\n",
    "    roi_timeseries1 = np.array([first_half[this_rois==r,:].mean(axis=0) for r in range(1,int(this_rois.max())+1)])\n",
    "    roi_timeseries2 = np.array([second_half[this_rois==r,:].mean(axis=0) for r in range(1,int(this_rois.max())+1)])\n",
    "\n",
    "    cmat1 = np.corrcoef(roi_timeseries1)\n",
    "    cmat2 = np.corrcoef(roi_timeseries2)\n",
    "    \n",
    "    #res['cmat1'] = cmat1\n",
    "    #res['cmat2'] = cmat1\n",
    "    \n",
    "    #res['roi_timeseries1'] = roi_timeseries1\n",
    "    #res['roi_timeseries2'] = roi_timeseries2\n",
    "    \n",
    "    return cmat1,cmat2"
   ]
  },
  {
   "cell_type": "code",
   "execution_count": 92,
   "id": "241f1933",
   "metadata": {},
   "outputs": [],
   "source": [
    "epi_rois = ants.image_read('../Data/GlasserAtlas/epi_rois_trimmed.nii.gz')\n",
    "flat_rois = epi_rois.numpy().reshape(-1)"
   ]
  },
  {
   "cell_type": "code",
   "execution_count": 20,
   "id": "00504a8c",
   "metadata": {},
   "outputs": [],
   "source": [
    "nsubs = len(df)\n",
    "func_dir = '../../data/ABIDE/Outputs/cpac/filt_noglobal/func_preproc/'"
   ]
  },
  {
   "cell_type": "code",
   "execution_count": 126,
   "id": "886912db",
   "metadata": {},
   "outputs": [],
   "source": [
    "from tqdm import tqdm\n",
    "rel_cmats = np.zeros((len(df),len(rlbls),len(rlbls),2))"
   ]
  },
  {
   "cell_type": "code",
   "execution_count": 127,
   "id": "bd5df215",
   "metadata": {},
   "outputs": [
    {
     "name": "stderr",
     "output_type": "stream",
     "text": [
      " 14%|█▎        | 144/1048 [04:58<32:07,  2.13s/it]<ipython-input-103-731ce0f59311>:26: RuntimeWarning:\n",
      "\n",
      "Mean of empty slice.\n",
      "\n",
      "/data/aglinska/anaconda3/lib/python3.8/site-packages/numpy/core/_methods.py:153: RuntimeWarning:\n",
      "\n",
      "invalid value encountered in true_divide\n",
      "\n",
      "<ipython-input-103-731ce0f59311>:27: RuntimeWarning:\n",
      "\n",
      "Mean of empty slice.\n",
      "\n",
      "100%|██████████| 1048/1048 [40:20<00:00,  2.31s/it]"
     ]
    },
    {
     "name": "stdout",
     "output_type": "stream",
     "text": [
      "CPU times: user 31min 13s, sys: 5min 47s, total: 37min 1s\n",
      "Wall time: 40min 20s\n"
     ]
    },
    {
     "name": "stderr",
     "output_type": "stream",
     "text": [
      "\n"
     ]
    }
   ],
   "source": [
    "%%time\n",
    "for s in tqdm(range(len(df))):\n",
    "    funcFile = df['funcFile'].values[s]\n",
    "    epi = ants.image_read(os.path.join(func_dir,funcFile))\n",
    "    flat_epi = epi.numpy().reshape(-1,epi.shape[-1])\n",
    "\n",
    "    cmat1,cmat2 = get_split_cmats(flat_epi,flat_rois)\n",
    "    \n",
    "    rel_cmats[s,:,:,0] = cmat1\n",
    "    rel_cmats[s,:,:,1] = cmat2"
   ]
  },
  {
   "cell_type": "code",
   "execution_count": 128,
   "id": "a554e175",
   "metadata": {},
   "outputs": [],
   "source": [
    "np.savez_compressed(file='../Assets/glasser2016_cmats/filt_noglobal/rel-cmats',rel_cmats=rel_cmats)"
   ]
  },
  {
   "cell_type": "code",
   "execution_count": 129,
   "id": "96cfccc2",
   "metadata": {},
   "outputs": [
    {
     "data": {
      "text/plain": [
       "(1048, 348, 348, 2)"
      ]
     },
     "execution_count": 129,
     "metadata": {},
     "output_type": "execute_result"
    }
   ],
   "source": [
    "rel_cmats.shape"
   ]
  },
  {
   "cell_type": "code",
   "execution_count": 171,
   "id": "3262d8b9",
   "metadata": {},
   "outputs": [],
   "source": [
    "rel_cmats = np.load('../Assets/glasser2016_cmats/filt_noglobal/rel-cmats.npz')['rel_cmats']"
   ]
  },
  {
   "cell_type": "code",
   "execution_count": 159,
   "id": "253eefa9",
   "metadata": {},
   "outputs": [],
   "source": [
    "from helper_funcs import get_triu\n",
    "from matplotlib import pyplot as plt"
   ]
  },
  {
   "cell_type": "code",
   "execution_count": 173,
   "id": "e701f9df",
   "metadata": {},
   "outputs": [
    {
     "name": "stdout",
     "output_type": "stream",
     "text": [
      "0\n"
     ]
    }
   ],
   "source": [
    "rel_cmats = rel_cmats[np.isnan(rel_cmats).sum(-1).sum(-1).sum(-1)==0,:,:,:]\n",
    "print(np.isnan(rel_cmats).sum())"
   ]
  },
  {
   "cell_type": "code",
   "execution_count": 187,
   "id": "97b66b7a",
   "metadata": {},
   "outputs": [
    {
     "data": {
      "text/plain": [
       "(1038, 348, 348, 2)"
      ]
     },
     "execution_count": 187,
     "metadata": {},
     "output_type": "execute_result"
    }
   ],
   "source": [
    "rel_cmats.shape"
   ]
  },
  {
   "cell_type": "code",
   "execution_count": 174,
   "id": "f37b455b",
   "metadata": {},
   "outputs": [],
   "source": [
    "n = rel_cmats.shape[0]\n",
    "flat_c1 = np.array([get_triu(rel_cmats[s,:,:,0]) for s in range(n)])\n",
    "flat_c2 = np.array([get_triu(rel_cmats[s,:,:,1]) for s in range(n)])"
   ]
  },
  {
   "cell_type": "code",
   "execution_count": 176,
   "id": "9d8c72cd",
   "metadata": {},
   "outputs": [
    {
     "name": "stdout",
     "output_type": "stream",
     "text": [
      "0.5261117259957799\n"
     ]
    }
   ],
   "source": [
    "rel_vals = np.array([np.corrcoef(flat_c1[s,:],flat_c2[s,:])[0,1] for i in range(n)])\n",
    "print(rel_vals.mean())"
   ]
  },
  {
   "cell_type": "code",
   "execution_count": 177,
   "id": "25ef2f3b",
   "metadata": {},
   "outputs": [
    {
     "data": {
      "text/plain": [
       "(2076, 2076)"
      ]
     },
     "execution_count": 177,
     "metadata": {},
     "output_type": "execute_result"
    }
   ],
   "source": [
    "# RANK SIM\n",
    "big_sim = np.corrcoef(np.vstack((flat_c1,flat_c2)))\n",
    "big_sim.shape"
   ]
  },
  {
   "cell_type": "code",
   "execution_count": 235,
   "id": "0e659a58",
   "metadata": {},
   "outputs": [],
   "source": [
    "vlim = (get_triu(big_sim).min(),get_triu(big_sim).max())"
   ]
  },
  {
   "cell_type": "code",
   "execution_count": 241,
   "id": "47b6bcb7",
   "metadata": {},
   "outputs": [
    {
     "data": {
      "image/png": "[encoded data removed]",
      "text/plain": [
       "<Figure size 360x360 with 1 Axes>"
      ]
     },
     "metadata": {
      "needs_background": "light"
     },
     "output_type": "display_data"
    }
   ],
   "source": [
    "plt.figure(figsize=(5,5))\n",
    "plt.imshow(big_sim)\n",
    "plt.clim(vlim)"
   ]
  },
  {
   "cell_type": "code",
   "execution_count": 226,
   "id": "9fd97573",
   "metadata": {},
   "outputs": [],
   "source": [
    "first_second_sim = big_sim[0:n,:][:,n:]"
   ]
  },
  {
   "cell_type": "code",
   "execution_count": 227,
   "id": "ed925231",
   "metadata": {},
   "outputs": [
    {
     "data": {
      "text/plain": [
       "(1038, 1038)"
      ]
     },
     "execution_count": 227,
     "metadata": {},
     "output_type": "execute_result"
    }
   ],
   "source": [
    "first_second_sim.shape"
   ]
  },
  {
   "cell_type": "code",
   "execution_count": 228,
   "id": "d99c8e82",
   "metadata": {},
   "outputs": [],
   "source": [
    "def getRank(s):\n",
    "    vec = first_second_sim[s,:]\n",
    "    within = vec[s]\n",
    "    between = vec[np.arange(n)!=s]\n",
    "    rank = (within<between).sum()+1\n",
    "    return rank"
   ]
  },
  {
   "cell_type": "code",
   "execution_count": 229,
   "id": "3c54a87a",
   "metadata": {},
   "outputs": [],
   "source": [
    "ranks = np.array([getRank(s) for s in range(n)])"
   ]
  },
  {
   "cell_type": "code",
   "execution_count": 230,
   "id": "9ad14e5a",
   "metadata": {},
   "outputs": [
    {
     "data": {
      "text/plain": [
       "0.9441233140655106"
      ]
     },
     "execution_count": 230,
     "metadata": {},
     "output_type": "execute_result"
    }
   ],
   "source": [
    "(ranks==1).mean()"
   ]
  },
  {
   "cell_type": "code",
   "execution_count": null,
   "id": "f62f97bc",
   "metadata": {},
   "outputs": [],
   "source": []
  },
  {
   "cell_type": "code",
   "execution_count": null,
   "id": "b0f9edb9",
   "metadata": {},
   "outputs": [],
   "source": []
  },
  {
   "cell_type": "code",
   "execution_count": null,
   "id": "5c02793e",
   "metadata": {},
   "outputs": [],
   "source": []
  },
  {
   "cell_type": "code",
   "execution_count": null,
   "id": "b926c41c",
   "metadata": {},
   "outputs": [],
   "source": []
  }
 ],
 "metadata": {
  "kernelspec": {
   "display_name": "Python 3",
   "language": "python",
   "name": "python3"
  },
  "language_info": {
   "codemirror_mode": {
    "name": "ipython",
    "version": 3
   },
   "file_extension": ".py",
   "mimetype": "text/x-python",
   "name": "python",
   "nbconvert_exporter": "python",
   "pygments_lexer": "ipython3",
   "version": "3.8.5"
  }
 },
 "nbformat": 4,
 "nbformat_minor": 5
}
