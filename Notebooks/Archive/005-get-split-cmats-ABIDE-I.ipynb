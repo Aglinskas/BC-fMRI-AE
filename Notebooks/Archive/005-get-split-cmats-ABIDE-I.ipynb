{
 "cells": [
  {
   "cell_type": "code",
   "execution_count": null,
   "id": "799d0932",
   "metadata": {
    "tags": [
     "parameters"
    ]
   },
   "outputs": [],
   "source": [
    "s = 500"
   ]
  },
  {
   "cell_type": "code",
   "execution_count": null,
   "id": "0a062a51",
   "metadata": {},
   "outputs": [],
   "source": [
    "s = int(s)\n",
    "print(s)"
   ]
  },
  {
   "cell_type": "code",
   "execution_count": 3,
   "id": "9ee8f1ee",
   "metadata": {},
   "outputs": [
    {
     "name": "stdout",
     "output_type": "stream",
     "text": [
      "Tue Mar 22 12:49:02 EDT 2022\n"
     ]
    }
   ],
   "source": [
    "!date"
   ]
  },
  {
   "cell_type": "code",
   "execution_count": 4,
   "id": "7ac02b26",
   "metadata": {},
   "outputs": [
    {
     "data": {
      "text/plain": [
       "'/mmfs1/data/aglinska/BC-fMRI-AE/Notebooks'"
      ]
     },
     "execution_count": 4,
     "metadata": {},
     "output_type": "execute_result"
    }
   ],
   "source": [
    "pwd"
   ]
  },
  {
   "cell_type": "code",
   "execution_count": 5,
   "id": "0510b700",
   "metadata": {},
   "outputs": [
    {
     "name": "stdout",
     "output_type": "stream",
     "text": [
      "CPU times: user 2.58 s, sys: 5.23 s, total: 7.81 s\n",
      "Wall time: 7.54 s\n"
     ]
    }
   ],
   "source": [
    "%%time\n",
    "import numpy as np\n",
    "import pandas as pd\n",
    "import os\n",
    "import ants\n",
    "from matplotlib import pyplot as plt\n",
    "\n",
    "#from tqdm.notebook import tqdm as tqdm\n",
    "from tqdm import tqdm"
   ]
  },
  {
   "cell_type": "code",
   "execution_count": 6,
   "id": "3d88d313",
   "metadata": {},
   "outputs": [
    {
     "name": "stdout",
     "output_type": "stream",
     "text": [
      "1068\n"
     ]
    }
   ],
   "source": [
    "indir = '~/data/ABIDE/Derivatives/preprocessed/'\n",
    "indir = os.path.expanduser(indir)\n",
    "\n",
    "subjects = [subject for subject in os.listdir(indir) if subject.startswith('sub-')]\n",
    "subjects.sort()\n",
    "print(len(subjects))"
   ]
  },
  {
   "cell_type": "code",
   "execution_count": 7,
   "id": "0493b20e",
   "metadata": {},
   "outputs": [],
   "source": [
    "prefs = ['frc','rc','sfrc']"
   ]
  },
  {
   "cell_type": "code",
   "execution_count": 8,
   "id": "b13f823f",
   "metadata": {},
   "outputs": [],
   "source": [
    "pref = prefs[0]\n",
    "sub = subjects[s]"
   ]
  },
  {
   "cell_type": "code",
   "execution_count": 9,
   "id": "2a5654cd",
   "metadata": {},
   "outputs": [],
   "source": [
    "def get_epi(sub):\n",
    "    indir = '~/data/ABIDE/Derivatives/preprocessed/'\n",
    "    epi_path_temp = os.path.join(indir,'{subID}/{pref}-{subID}_bold.nii.gz')\n",
    "    epi_path_temp = os.path.expanduser(epi_path_temp)\n",
    "    im = ants.image_read(epi_path_temp.format(pref='sfrc',subID=sub))\n",
    "    im = im.resample_image(resample_params=(64,64,64,im.shape[-1]), use_voxels=True, interp_type=4)\n",
    "    return im"
   ]
  },
  {
   "cell_type": "code",
   "execution_count": 10,
   "id": "db9d1eb5",
   "metadata": {},
   "outputs": [],
   "source": [
    "# def make_mean(epi_path_temp,sub):\n",
    "#     im = ants.image_read(epi_path_temp.format(pref='raw',subID=sub))\n",
    "#     mask = ants.image_read(epi_path_temp.format(pref='mask',subID=sub))\n",
    "#     im3 = ants.slice_image(im,axis=3,idx=0).new_image_like(im.numpy().mean(axis=3))\n",
    "#     im3[mask==0]=0\n",
    "#     im3.to_filename(epi_path_temp.format(pref='raw',subID=sub).replace('raw','mean'))\n",
    "# #[make_mean(epi_path_temp,sub) for sub in tqdm(subjects)]"
   ]
  },
  {
   "cell_type": "code",
   "execution_count": 11,
   "id": "1fee707f",
   "metadata": {},
   "outputs": [],
   "source": [
    "# indir = '~/data/ABIDE/Derivatives/preprocessed/'\n",
    "# epi_path_temp = os.path.join(indir,'{subID}/{pref}-{subID}_bold.nii.gz')\n",
    "# epi_path_temp = os.path.expanduser(epi_path_temp)\n",
    "# ims = [ants.image_read(epi_path_temp.format(pref='mean',subID=sub)) for sub in tqdm(subjects)]\n",
    "# im64 = [im.resample_image(resample_params=(64,64,64), use_voxels=True, interp_type=4) for im in ims]"
   ]
  },
  {
   "cell_type": "code",
   "execution_count": 12,
   "id": "f647204b",
   "metadata": {},
   "outputs": [],
   "source": [
    "# im64_arr = np.array([im.numpy() for im in im64])\n",
    "# im64_mean = im64[0].new_image_like(im64_arr.mean(axis=0))\n",
    "# im64_mean.plot_ortho(flat=True)"
   ]
  },
  {
   "cell_type": "code",
   "execution_count": 13,
   "id": "67d357d4",
   "metadata": {},
   "outputs": [],
   "source": [
    "def get_cmat(im,atlas):\n",
    "    \n",
    "    rois = np.unique(atlas.numpy().flatten().astype(int))\n",
    "    rois = rois[rois!=0]\n",
    "\n",
    "    assert len(rois)==max(rois),'where rois?'\n",
    "    \n",
    "    im_arr = im.numpy().reshape(-1,im.shape[-1]).transpose()\n",
    "    atlas_arr = atlas.flatten()\n",
    "\n",
    "    roi_timeseries = np.array([im_arr[:,atlas_arr==r].mean(axis=1) for r in rois])\n",
    "\n",
    "    assert np.isnan(roi_timeseries).sum()==0,'nans in timeseries'\n",
    "\n",
    "    return np.corrcoef(roi_timeseries)"
   ]
  },
  {
   "cell_type": "code",
   "execution_count": 21,
   "id": "094cab88",
   "metadata": {},
   "outputs": [],
   "source": [
    "def get_cmat_split(im,atlas):\n",
    "    \n",
    "    rois = np.unique(atlas.numpy().flatten().astype(int))\n",
    "    rois = rois[rois!=0]\n",
    "\n",
    "    assert len(rois)==max(rois),'where rois?'\n",
    "    \n",
    "\n",
    "    im_arr = im.numpy().reshape(-1,im.shape[-1]).transpose()\n",
    "    atlas_arr = atlas.flatten()\n",
    "    \n",
    "    n = im_arr.shape[0]\n",
    "    mid = int(n/2)\n",
    "    \n",
    "    \n",
    "    im_arr1 = im_arr[0:mid-2,:]\n",
    "    im_arr2 = im_arr[mid+2::,:]\n",
    "\n",
    "    roi_timeseries1 = np.array([im_arr1[:,atlas_arr==r].mean(axis=1) for r in rois])\n",
    "    roi_timeseries2 = np.array([im_arr2[:,atlas_arr==r].mean(axis=1) for r in rois])\n",
    "\n",
    "    cmat1 = np.corrcoef(roi_timeseries1)\n",
    "    cmat2 = np.corrcoef(roi_timeseries2)\n",
    "    \n",
    "    return np.array([cmat1,cmat2])"
   ]
  },
  {
   "cell_type": "code",
   "execution_count": 15,
   "id": "37c8add5",
   "metadata": {},
   "outputs": [],
   "source": [
    "im = get_epi(sub)\n",
    "im3 = ants.slice_image(im,axis=3,idx=0)"
   ]
  },
  {
   "cell_type": "code",
   "execution_count": 16,
   "id": "2632df10",
   "metadata": {},
   "outputs": [],
   "source": [
    "atlas = ants.image_read('../Data/YeoAtlas/Atlas_parc-7n_2mm.nii')\n",
    "atlas = atlas.resample_image_to_target(im3,interp_type='genericLabel')\n",
    "#atlas = atlas.resample_image(resample_params=(64,64,64), use_voxels=True, interp_type=1)"
   ]
  },
  {
   "cell_type": "code",
   "execution_count": 17,
   "id": "5d5a2a04",
   "metadata": {},
   "outputs": [
    {
     "data": {
      "image/png": "[encoded data removed]",
      "text/plain": [
       "<Figure size 648x648 with 3 Axes>"
      ]
     },
     "metadata": {
      "needs_background": "light"
     },
     "output_type": "display_data"
    }
   ],
   "source": [
    "im3.plot_ortho(atlas,flat=True)"
   ]
  },
  {
   "cell_type": "code",
   "execution_count": 22,
   "id": "a466a94f",
   "metadata": {},
   "outputs": [],
   "source": [
    "cmats = get_cmat_split(im,atlas)"
   ]
  },
  {
   "cell_type": "code",
   "execution_count": 23,
   "id": "455b0b31",
   "metadata": {},
   "outputs": [
    {
     "data": {
      "text/plain": [
       "0.34353628807148295"
      ]
     },
     "execution_count": 23,
     "metadata": {},
     "output_type": "execute_result"
    }
   ],
   "source": [
    "v1 = cmats[0,:,:][np.triu_indices(n=cmats.shape[-1],k=1)]\n",
    "v2 = cmats[1,:,:][np.triu_indices(n=cmats.shape[-1],k=1)]\n",
    "np.corrcoef(v1,v2)[0,1]"
   ]
  },
  {
   "cell_type": "code",
   "execution_count": 24,
   "id": "07ef73af",
   "metadata": {},
   "outputs": [
    {
     "data": {
      "text/plain": [
       "<matplotlib.colorbar.Colorbar at 0x1551ec183790>"
      ]
     },
     "execution_count": 24,
     "metadata": {},
     "output_type": "execute_result"
    },
    {
     "data": {
      "image/png": "[encoded data removed]",
      "text/plain": [
       "<Figure size 1080x360 with 4 Axes>"
      ]
     },
     "metadata": {
      "needs_background": "light"
     },
     "output_type": "display_data"
    }
   ],
   "source": [
    "plt.figure(figsize=(15,5))\n",
    "plt.subplot(1,2,1)\n",
    "plt.imshow(cmats[0,:,:])\n",
    "plt.colorbar()\n",
    "plt.subplot(1,2,2)\n",
    "plt.imshow(cmats[1,:,:])\n",
    "plt.colorbar()"
   ]
  },
  {
   "cell_type": "code",
   "execution_count": 25,
   "id": "c35e889d",
   "metadata": {},
   "outputs": [],
   "source": [
    "ofdir = f'~/BC-fMRI-AE/Assets/ABIDE-I-rel-cmats-{pref}'\n",
    "ofdir = os.path.expanduser(ofdir)\n",
    "\n",
    "if not os.path.exists(ofdir):\n",
    "    os.mkdir(ofdir)"
   ]
  },
  {
   "cell_type": "code",
   "execution_count": 26,
   "id": "a21fc32e",
   "metadata": {},
   "outputs": [
    {
     "name": "stdout",
     "output_type": "stream",
     "text": [
      "/data/aglinska/BC-fMRI-AE/Assets/ABIDE-I-rel-cmats-frc/sub-0050665-rel-cmats-frc.npy\n"
     ]
    }
   ],
   "source": [
    "ofn = os.path.join(ofdir,f'{sub}-rel-cmats-{pref}.npy')\n",
    "print(ofn)\n",
    "np.save(file=ofn,arr=cmats)"
   ]
  },
  {
   "cell_type": "code",
   "execution_count": null,
   "id": "2f1fc632",
   "metadata": {},
   "outputs": [],
   "source": []
  },
  {
   "cell_type": "code",
   "execution_count": null,
   "id": "0a6fdb78",
   "metadata": {},
   "outputs": [],
   "source": []
  },
  {
   "cell_type": "code",
   "execution_count": null,
   "id": "913d641e",
   "metadata": {},
   "outputs": [],
   "source": [
    "# for sub in tqdm(subjects):\n",
    "    \n",
    "#     ofn = f'~/BC-fMRI-AE/Assets/ABIDE-I-cmats-sfrc/{pref}-{sub}-cmat.npy'\n",
    "#     ofn = os.path.expanduser(ofn)\n",
    "    \n",
    "#     if not os.path.exists(ofn):\n",
    "#         try:\n",
    "#             im = get_epi(sub)\n",
    "#             cmat = get_cmat(im,atlas)\n",
    "#             np.save(file=ofn, arr=cmat)\n",
    "#         except:\n",
    "#             print(f'{sub} errored')"
   ]
  },
  {
   "cell_type": "code",
   "execution_count": null,
   "id": "500cc2aa",
   "metadata": {},
   "outputs": [],
   "source": []
  },
  {
   "cell_type": "code",
   "execution_count": null,
   "id": "81dba408",
   "metadata": {},
   "outputs": [],
   "source": []
  },
  {
   "cell_type": "code",
   "execution_count": null,
   "id": "e0ccbeb2",
   "metadata": {},
   "outputs": [],
   "source": []
  },
  {
   "cell_type": "code",
   "execution_count": null,
   "id": "4af3b427",
   "metadata": {},
   "outputs": [],
   "source": []
  },
  {
   "cell_type": "code",
   "execution_count": null,
   "id": "f866ef78",
   "metadata": {},
   "outputs": [],
   "source": []
  },
  {
   "cell_type": "code",
   "execution_count": null,
   "id": "0932cabe",
   "metadata": {},
   "outputs": [],
   "source": [
    "# temp = '~/data/ABIDE/Outputs/cpac/filt_noglobal/func_mean/'\n",
    "# temp = os.path.expanduser(temp)\n",
    "\n",
    "# fs = [f for f in os.listdir(temp) if f.endswith('.nii.gz')]\n",
    "# fs.sort()"
   ]
  },
  {
   "cell_type": "code",
   "execution_count": null,
   "id": "15fd6033",
   "metadata": {},
   "outputs": [],
   "source": [
    "# stuff = [ants.image_read(os.path.join(temp,f)) for f in tqdm(fs)]"
   ]
  },
  {
   "cell_type": "code",
   "execution_count": null,
   "id": "0dcba135",
   "metadata": {},
   "outputs": [],
   "source": [
    "# sarr = np.array([s.numpy() for s in stuff])"
   ]
  },
  {
   "cell_type": "code",
   "execution_count": null,
   "id": "1ad2600b",
   "metadata": {},
   "outputs": [],
   "source": [
    "# stuff[0].new_image_like(sarr.mean(axis=0)).plot_ortho(flat=True)"
   ]
  },
  {
   "cell_type": "code",
   "execution_count": null,
   "id": "03be342f",
   "metadata": {},
   "outputs": [],
   "source": [
    "# scmat = np.corrcoef(np.array([np.array(sarr[i,:,:,:].flatten()) for i in range(sarr.shape[0])]))\n",
    "# striu = scmat[np.triu_indices(n=scmat.shape[0],k=1)]"
   ]
  },
  {
   "cell_type": "code",
   "execution_count": null,
   "id": "8ccadf5b",
   "metadata": {},
   "outputs": [],
   "source": []
  },
  {
   "cell_type": "code",
   "execution_count": null,
   "id": "314a5df9",
   "metadata": {},
   "outputs": [],
   "source": []
  },
  {
   "cell_type": "code",
   "execution_count": null,
   "id": "0c9b4e40",
   "metadata": {},
   "outputs": [],
   "source": []
  }
 ],
 "metadata": {
  "kernelspec": {
   "display_name": "Python 3",
   "language": "python",
   "name": "python3"
  },
  "language_info": {
   "codemirror_mode": {
    "name": "ipython",
    "version": 3
   },
   "file_extension": ".py",
   "mimetype": "text/x-python",
   "name": "python",
   "nbconvert_exporter": "python",
   "pygments_lexer": "ipython3",
   "version": "3.8.5"
  }
 },
 "nbformat": 4,
 "nbformat_minor": 5
}
