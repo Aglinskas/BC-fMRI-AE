{
 "cells": [
  {
   "cell_type": "code",
   "execution_count": 1,
   "id": "dae19502",
   "metadata": {},
   "outputs": [
    {
     "data": {
      "text/plain": [
       "'/mmfs1/data/aglinska/BC-fMRI-AE/Notebooks'"
      ]
     },
     "execution_count": 1,
     "metadata": {},
     "output_type": "execute_result"
    }
   ],
   "source": [
    "pwd"
   ]
  },
  {
   "cell_type": "code",
   "execution_count": null,
   "id": "dc68c1c4",
   "metadata": {},
   "outputs": [],
   "source": []
  },
  {
   "cell_type": "code",
   "execution_count": null,
   "id": "afb55301",
   "metadata": {},
   "outputs": [],
   "source": [
    "~/data/ABIDE2/RawData/ABIDEII-EMC_1/"
   ]
  },
  {
   "cell_type": "code",
   "execution_count": null,
   "id": "3c99ea0d",
   "metadata": {},
   "outputs": [],
   "source": [
    "!fmriprep data/bids_root/ out/ participant -w work/"
   ]
  },
  {
   "cell_type": "code",
   "execution_count": null,
   "id": "4744a80c",
   "metadata": {},
   "outputs": [],
   "source": []
  },
  {
   "cell_type": "code",
   "execution_count": 16,
   "id": "675920cc",
   "metadata": {},
   "outputs": [],
   "source": [
    "import os\n",
    "import numpy as np"
   ]
  },
  {
   "cell_type": "code",
   "execution_count": 4,
   "id": "70c6275f",
   "metadata": {},
   "outputs": [
    {
     "data": {
      "text/plain": [
       "'/mmfs1/data/aglinska'"
      ]
     },
     "execution_count": 4,
     "metadata": {},
     "output_type": "execute_result"
    }
   ],
   "source": [
    "pwd"
   ]
  },
  {
   "cell_type": "code",
   "execution_count": 53,
   "id": "fb85b76c",
   "metadata": {},
   "outputs": [
    {
     "name": "stdout",
     "output_type": "stream",
     "text": [
      "732\n"
     ]
    }
   ],
   "source": [
    "indir= 'data/ABIDE2/Outputs/fmriprep/fmriprep/'\n",
    "subs = [cont for cont in os.listdir(indir) if all((os.path.isdir(os.path.join(indir,cont)),cont.startswith('sub-')))]\n",
    "subs = np.array(subs);print(len(subs))\n",
    "subs.sort()\n",
    "\n",
    "#'/data/ABIDE2/Outputs/fmriprep/fmriprep/sub-29384/\n",
    "#ses-1/func/sub-29384_ses-1_task-rest_acq-rc8chan_run-1_desc-confounds_regressors.tsv'"
   ]
  },
  {
   "cell_type": "code",
   "execution_count": 54,
   "id": "810f523a",
   "metadata": {},
   "outputs": [],
   "source": [
    "s = 0\n",
    "sub = subs[s]\n",
    "\n",
    "has_func = [os.path.isdir(os.path.join(indir,sub,'ses-1','func')) for sub in subs]\n",
    "has_func = np.array(has_func)"
   ]
  },
  {
   "cell_type": "code",
   "execution_count": 55,
   "id": "d4df2976",
   "metadata": {},
   "outputs": [],
   "source": [
    "subs = subs[has_func]\n",
    "sub = subs[0]"
   ]
  },
  {
   "cell_type": "code",
   "execution_count": 56,
   "id": "e0f05a09",
   "metadata": {},
   "outputs": [],
   "source": [
    "check = list()\n",
    "for sub in subs:\n",
    "    conts = os.listdir(os.path.join(indir,sub,'ses-1','func'))\n",
    "    has_conf = any([cont.endswith('confounds_regressors.tsv') for cont in conts])\n",
    "    check.append(has_conf)"
   ]
  },
  {
   "cell_type": "code",
   "execution_count": 58,
   "id": "fa3c046d",
   "metadata": {},
   "outputs": [
    {
     "data": {
      "text/plain": [
       "584"
      ]
     },
     "execution_count": 58,
     "metadata": {},
     "output_type": "execute_result"
    }
   ],
   "source": [
    "np.array(check).sum()"
   ]
  },
  {
   "cell_type": "code",
   "execution_count": null,
   "id": "672a4b93",
   "metadata": {},
   "outputs": [],
   "source": []
  }
 ],
 "metadata": {
  "kernelspec": {
   "display_name": "Python 3",
   "language": "python",
   "name": "python3"
  },
  "language_info": {
   "codemirror_mode": {
    "name": "ipython",
    "version": 3
   },
   "file_extension": ".py",
   "mimetype": "text/x-python",
   "name": "python",
   "nbconvert_exporter": "python",
   "pygments_lexer": "ipython3",
   "version": "3.8.5"
  }
 },
 "nbformat": 4,
 "nbformat_minor": 5
}
