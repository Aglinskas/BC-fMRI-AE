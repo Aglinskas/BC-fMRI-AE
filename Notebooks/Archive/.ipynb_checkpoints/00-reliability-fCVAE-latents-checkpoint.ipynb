{
 "cells": [
  {
   "cell_type": "code",
   "execution_count": 1,
   "id": "917d612e",
   "metadata": {},
   "outputs": [
    {
     "data": {
      "text/plain": [
       "'/mmfs1/data/aglinska/BC-fMRI-AE/Notebooks'"
      ]
     },
     "execution_count": 1,
     "metadata": {},
     "output_type": "execute_result"
    }
   ],
   "source": [
    "pwd"
   ]
  },
  {
   "cell_type": "code",
   "execution_count": 2,
   "id": "a9bad824",
   "metadata": {},
   "outputs": [],
   "source": [
    "import numpy as np\n",
    "import pandas as pd\n",
    "from helper_funcs import *\n",
    "from scipy.spatial.distance import pdist,squareform"
   ]
  },
  {
   "cell_type": "code",
   "execution_count": 20,
   "id": "e9b48da4",
   "metadata": {},
   "outputs": [
    {
     "data": {
      "text/plain": [
       "['latent_vecs_CVAE_2021-09-15 14:03:53.826090',\n",
       " 'latent_vecs_CVAE_2021-09-30 17:08:46.471890',\n",
       " 'latent_vecs_CVAE_2021-10-06 08:35:55.310173',\n",
       " 'latent_vecs_CVAE_2021-10-06 17:30:12.802507',\n",
       " 'latent_vecs_CVAE_2021-10-07 11:03:38.204240']"
      ]
     },
     "execution_count": 20,
     "metadata": {},
     "output_type": "execute_result"
    }
   ],
   "source": [
    "indir = '../Data/latent_vecs/'\n",
    "files = os.listdir(indir)\n",
    "files.sort()\n",
    "files"
   ]
  },
  {
   "cell_type": "code",
   "execution_count": 21,
   "id": "1ed5eed3",
   "metadata": {},
   "outputs": [
    {
     "data": {
      "text/plain": [
       "dict_keys(['BG_ABIDE', 'SL_ABIDE', 'subs'])"
      ]
     },
     "execution_count": 21,
     "metadata": {},
     "output_type": "execute_result"
    }
   ],
   "source": [
    "fn = 'latent_vecs_CVAE_2021-10-07 11:03:38.204240'\n",
    "fn = 'latent_vecs_CVAE_2021-10-06 17:30:12.802507'\n",
    "data = np.load(os.path.join(indir,fn),allow_pickle=True)\n",
    "data.keys()"
   ]
  },
  {
   "cell_type": "code",
   "execution_count": 22,
   "id": "91ca2947",
   "metadata": {},
   "outputs": [],
   "source": [
    "BG_ABIDE = data['BG_ABIDE']\n",
    "SL_ABIDE = data['SL_ABIDE']\n",
    "subs = data['subs']"
   ]
  },
  {
   "cell_type": "code",
   "execution_count": 23,
   "id": "2e3c4954",
   "metadata": {},
   "outputs": [
    {
     "data": {
      "text/plain": [
       "(10, 1048, 16)"
      ]
     },
     "execution_count": 23,
     "metadata": {},
     "output_type": "execute_result"
    }
   ],
   "source": [
    "BG_ABIDE.shape"
   ]
  },
  {
   "cell_type": "code",
   "execution_count": 24,
   "id": "0257b817",
   "metadata": {},
   "outputs": [
    {
     "data": {
      "text/plain": [
       "(10, 1048, 1048)"
      ]
     },
     "execution_count": 24,
     "metadata": {},
     "output_type": "execute_result"
    }
   ],
   "source": [
    "bg_c = np.array([np.corrcoef(BG_ABIDE[i,:,:]) for i in range(BG_ABIDE.shape[0])])\n",
    "sl_c = np.array([np.corrcoef(SL_ABIDE[i,:,:]) for i in range(SL_ABIDE.shape[0])])\n",
    "bg_c.shape"
   ]
  },
  {
   "cell_type": "code",
   "execution_count": 25,
   "id": "cb05d91a",
   "metadata": {},
   "outputs": [],
   "source": [
    "vec2 = get_triu(np.corrcoef(np.array([get_triu(bg_c[i,:,:]) for i in range(10)])))\n",
    "vec1 = get_triu(np.corrcoef(np.array([get_triu(sl_c[i,:,:]) for i in range(10)])))"
   ]
  },
  {
   "cell_type": "code",
   "execution_count": 26,
   "id": "6e81726e",
   "metadata": {},
   "outputs": [],
   "source": [
    "ys = [vec1.mean(),vec2.mean()]\n",
    "se = [vec1.std(),vec2.std()]\n",
    "xs = [0,1]"
   ]
  },
  {
   "cell_type": "code",
   "execution_count": 27,
   "id": "1d47fce1",
   "metadata": {},
   "outputs": [
    {
     "data": {
      "text/plain": [
       "Text(0.5, 1.0, 'Functional CVAE reliability')"
      ]
     },
     "execution_count": 27,
     "metadata": {},
     "output_type": "execute_result"
    },
    {
     "data": {
      "image/png": "[encoded data removed]",
      "text/plain": [
       "<Figure size 432x288 with 1 Axes>"
      ]
     },
     "metadata": {
      "needs_background": "light"
     },
     "output_type": "display_data"
    }
   ],
   "source": [
    "plt.bar(xs,ys)\n",
    "plt.errorbar(xs,ys,se,fmt='r ')\n",
    "\n",
    "plt.xticks([0,1],['SL','BG'])\n",
    "plt.title('Functional CVAE reliability')"
   ]
  },
  {
   "cell_type": "code",
   "execution_count": 10,
   "id": "0ae825e8",
   "metadata": {},
   "outputs": [],
   "source": [
    "#np.corrcoef(BG_ABIDE[1,0,:],BG_ABIDE[4,0,:])[0,1]"
   ]
  },
  {
   "cell_type": "code",
   "execution_count": 12,
   "id": "bc7a9d0a",
   "metadata": {},
   "outputs": [
    {
     "data": {
      "text/plain": [
       "['salient_vec_abide',\n",
       " 'background_vec_abide',\n",
       " 'vae_vec_abide',\n",
       " 'salient_vec_sfari',\n",
       " 'background_vec_sfari',\n",
       " 'vae_vec_sfari']"
      ]
     },
     "execution_count": 12,
     "metadata": {},
     "output_type": "execute_result"
    }
   ],
   "source": [
    "df = pd.read_csv('../../BC-MRI-AE/Data/ABIDE_legend_S982.csv')\n",
    "patients = df['DxGroup'].values==1\n",
    "anat_data = np.load('../../BC-MRI-AE/Data/latent_vecs3.npz')\n",
    "list(anat_data.keys())"
   ]
  },
  {
   "cell_type": "code",
   "execution_count": 13,
   "id": "7ac31da0",
   "metadata": {},
   "outputs": [
    {
     "data": {
      "text/plain": [
       "(10, 470, 16)"
      ]
     },
     "execution_count": 13,
     "metadata": {},
     "output_type": "execute_result"
    }
   ],
   "source": [
    "anat_sl_data = anat_data['salient_vec_abide'][:,patients,:]\n",
    "slc_a = np.array([get_triu(np.corrcoef(anat_sl_data[i,:,:])) for i in range(10)])\n",
    "vec1 = get_triu(np.corrcoef(slc_a))\n",
    "\n",
    "anat_bg_data = anat_data['background_vec_abide'][:,patients,:]\n",
    "bgc_a = np.array([get_triu(np.corrcoef(anat_bg_data[i,:,:])) for i in range(10)])\n",
    "vec2 = get_triu(np.corrcoef(bgc_a))\n",
    "anat_sl_data.shape"
   ]
  },
  {
   "cell_type": "code",
   "execution_count": 14,
   "id": "e14f94dd",
   "metadata": {},
   "outputs": [
    {
     "data": {
      "text/plain": [
       "Text(0.5, 1.0, 'Anatomical CVAE reliability')"
      ]
     },
     "execution_count": 14,
     "metadata": {},
     "output_type": "execute_result"
    },
    {
     "data": {
      "image/png": "[encoded data removed]",
      "text/plain": [
       "<Figure size 432x288 with 1 Axes>"
      ]
     },
     "metadata": {
      "needs_background": "light"
     },
     "output_type": "display_data"
    }
   ],
   "source": [
    "ys = [vec1.mean(),vec2.mean()]\n",
    "se = [vec1.std(),vec2.std()]\n",
    "xs = [0,1]\n",
    "\n",
    "plt.bar(xs,ys)\n",
    "plt.errorbar(xs,ys,se,fmt='r ')\n",
    "plt.xticks([0,1],['SL','BG'])\n",
    "plt.title('Anatomical CVAE reliability')"
   ]
  },
  {
   "cell_type": "code",
   "execution_count": 15,
   "id": "6e49386a",
   "metadata": {},
   "outputs": [],
   "source": [
    "# cmat_bg = np.corrcoef(np.array([get_triu(bg_c[i,:,:]) for i in range(10)]))\n",
    "\n",
    "# plt.subplot(2,2,1)\n",
    "# sns.heatmap(cmat_bg,annot=True)"
   ]
  },
  {
   "cell_type": "code",
   "execution_count": 28,
   "id": "9634fe0c",
   "metadata": {},
   "outputs": [
    {
     "data": {
      "text/plain": [
       "'/mmfs1/data/aglinska/BC-fMRI-AE/Notebooks'"
      ]
     },
     "execution_count": 28,
     "metadata": {},
     "output_type": "execute_result"
    }
   ],
   "source": [
    "pwd"
   ]
  },
  {
   "cell_type": "code",
   "execution_count": 30,
   "id": "b89bd731",
   "metadata": {},
   "outputs": [],
   "source": [
    "sigma_anat = np.load('../../BC-MRI-AE/Data/latent_vecs2-sigma.npz')"
   ]
  },
  {
   "cell_type": "code",
   "execution_count": null,
   "id": "3cb4e324",
   "metadata": {},
   "outputs": [],
   "source": [
    "np"
   ]
  },
  {
   "cell_type": "code",
   "execution_count": null,
   "id": "4d28d762",
   "metadata": {},
   "outputs": [],
   "source": []
  },
  {
   "cell_type": "code",
   "execution_count": null,
   "id": "05113586",
   "metadata": {},
   "outputs": [],
   "source": []
  }
 ],
 "metadata": {
  "kernelspec": {
   "display_name": "Python 3",
   "language": "python",
   "name": "python3"
  },
  "language_info": {
   "codemirror_mode": {
    "name": "ipython",
    "version": 3
   },
   "file_extension": ".py",
   "mimetype": "text/x-python",
   "name": "python",
   "nbconvert_exporter": "python",
   "pygments_lexer": "ipython3",
   "version": "3.8.5"
  }
 },
 "nbformat": 4,
 "nbformat_minor": 5
}
