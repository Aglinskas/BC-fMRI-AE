{
 "cells": [
  {
   "cell_type": "code",
   "execution_count": 2,
   "id": "168d661c",
   "metadata": {},
   "outputs": [
    {
     "data": {
      "text/plain": [
       "'/mmfs1/data/aglinska/BC-fMRI-AE/Notebooks'"
      ]
     },
     "execution_count": 2,
     "metadata": {},
     "output_type": "execute_result"
    }
   ],
   "source": [
    "pwd"
   ]
  },
  {
   "cell_type": "code",
   "execution_count": 3,
   "id": "6657a1cb",
   "metadata": {},
   "outputs": [],
   "source": [
    "import pandas as pd\n",
    "import ants\n",
    "import numpy as np\n",
    "import os\n",
    "import seaborn as sns\n",
    "from matplotlib import pyplot as plt\n",
    "from tqdm import tqdm\n",
    "import scipy"
   ]
  },
  {
   "cell_type": "code",
   "execution_count": 4,
   "id": "2462c5ed",
   "metadata": {},
   "outputs": [],
   "source": [
    "df = pd.read_csv('../Data/ABIDE_df.csv')\n",
    "df = df.iloc[~pd.isna(df['bids_folder'].values)]"
   ]
  },
  {
   "cell_type": "code",
   "execution_count": 5,
   "id": "67991b04",
   "metadata": {},
   "outputs": [],
   "source": [
    "fn_temp = '../../data/ABIDE/Derivatives/cpac_nofilt_global/{sub}/ses-1/func/{sub}_ses-1_preproc.nii.gz'"
   ]
  },
  {
   "cell_type": "code",
   "execution_count": 6,
   "id": "daa5e94d",
   "metadata": {},
   "outputs": [
    {
     "name": "stdout",
     "output_type": "stream",
     "text": [
      "1.0\n"
     ]
    }
   ],
   "source": [
    "subs = df['bids_folder'].values\n",
    "has_nii = np.array([os.path.exists(fn_temp.format(sub=sub)) for sub in subs])\n",
    "print(has_nii.mean())"
   ]
  },
  {
   "cell_type": "code",
   "execution_count": 7,
   "id": "d44f7711",
   "metadata": {},
   "outputs": [
    {
     "name": "stdout",
     "output_type": "stream",
     "text": [
      "52\n"
     ]
    },
    {
     "data": {
      "text/plain": [
       "ANTsImage (RPI)\n",
       "\t Pixel Type : float (float32)\n",
       "\t Components : 1\n",
       "\t Dimensions : (61, 73, 61)\n",
       "\t Spacing    : (3.0, 3.0, 3.0)\n",
       "\t Origin     : (-90.0, 126.0, -72.0)\n",
       "\t Direction  : [ 1.  0.  0.  0. -1.  0.  0.  0.  1.]"
      ]
     },
     "execution_count": 7,
     "metadata": {},
     "output_type": "execute_result"
    }
   ],
   "source": [
    "epi_rois = ants.image_read('../Data/YeoAtlas/epi_rois.nii.gz')\n",
    "n_rois = np.arange(1,52)\n",
    "print(len(np.unique(epi_rois.numpy().flatten())))\n",
    "epi_rois"
   ]
  },
  {
   "cell_type": "code",
   "execution_count": 7,
   "id": "02d22921",
   "metadata": {},
   "outputs": [
    {
     "name": "stderr",
     "output_type": "stream",
     "text": [
      "100%|██████████| 1102/1102 [30:51<00:00,  1.68s/it]\n"
     ]
    }
   ],
   "source": [
    "scan_lenghts = []\n",
    "for sub in tqdm(subs):\n",
    "    im = ants.image_read(fn_temp.format(sub=sub))\n",
    "    l = im.spacing[-1]*im.shape[-1]/60\n",
    "    scan_lenghts.append(l)\n",
    "    \n",
    "scan_lenghts = np.array(scan_lenghts)\n",
    "np.savez(file='../Data/scan_lenghts.npy',arr=scan_lenghts,subs=subs)"
   ]
  },
  {
   "cell_type": "code",
   "execution_count": 8,
   "id": "7fd34966",
   "metadata": {},
   "outputs": [
    {
     "data": {
      "text/plain": [
       "Text(0.5, 0, 'scan length (min.)')"
      ]
     },
     "execution_count": 8,
     "metadata": {},
     "output_type": "execute_result"
    },
    {
     "data": {
      "image/png": "[encoded data removed]",
      "text/plain": [
       "<Figure size 432x288 with 1 Axes>"
      ]
     },
     "metadata": {
      "needs_background": "light"
     },
     "output_type": "display_data"
    }
   ],
   "source": [
    "plt.hist(scan_lenghts);\n",
    "plt.title('Resting-state scan duration hist')\n",
    "plt.ylabel('num. subjects')\n",
    "plt.xlabel('scan length (min.)')"
   ]
  },
  {
   "cell_type": "code",
   "execution_count": 9,
   "id": "9b8b3973",
   "metadata": {},
   "outputs": [],
   "source": [
    "def func_get_cmat(mat,roi_arr):\n",
    "    #roi_arr = epi_rois.flatten()\n",
    "    #mat = epi_arr[:,idx_first_half]\n",
    "    #mat.shape\n",
    "\n",
    "    vv = abs(mat.sum(axis=1))\n",
    "    e = vv>10\n",
    "\n",
    "    roi_timeseries = np.array([mat[(roi_arr==r)*e,:].mean(axis=0) for r in range(1,52)])\n",
    "\n",
    "    #assert not any(np.isnan(roi_timeseries.sum(axis=0))), 'nans'\n",
    "    #assert all(abs(roi_timeseries.sum(axis=0))>1), 'small values'\n",
    "\n",
    "    cmat = np.corrcoef(roi_timeseries)\n",
    "    \n",
    "    return cmat"
   ]
  },
  {
   "cell_type": "code",
   "execution_count": 10,
   "id": "c6db5ce0",
   "metadata": {},
   "outputs": [
    {
     "data": {
      "text/plain": [
       "(1102, 51, 51, 2)"
      ]
     },
     "execution_count": 10,
     "metadata": {},
     "output_type": "execute_result"
    }
   ],
   "source": [
    "rel_cmats = np.zeros((len(subs),51,51,2))\n",
    "rel_cmats.shape"
   ]
  },
  {
   "cell_type": "code",
   "execution_count": 11,
   "id": "f0c45121",
   "metadata": {},
   "outputs": [
    {
     "name": "stderr",
     "output_type": "stream",
     "text": [
      "  9%|▉         | 103/1102 [04:06<17:55,  1.08s/it]<ipython-input-9-b61bef2cac1e>:9: RuntimeWarning:\n",
      "\n",
      "Mean of empty slice.\n",
      "\n",
      "/data/aglinska/anaconda3/lib/python3.8/site-packages/numpy/core/_methods.py:153: RuntimeWarning:\n",
      "\n",
      "invalid value encountered in true_divide\n",
      "\n",
      "100%|██████████| 1102/1102 [45:41<00:00,  2.49s/it]\n"
     ]
    }
   ],
   "source": [
    "for s in tqdm(range(len(subs))):\n",
    "    sub = subs[s]\n",
    "    epi = ants.image_read(fn_temp.format(sub=sub))\n",
    "\n",
    "    nt = epi.shape[-1]\n",
    "    buffer = 10\n",
    "    idx_first_half = np.arange(0,int(nt/2-buffer/2))\n",
    "    idx_second_half = np.arange(int(nt/2+buffer/2),nt)\n",
    "    roi_arr = epi_rois.flatten()\n",
    "    epi_arr = epi.numpy().reshape(-1,nt)\n",
    "\n",
    "    cmat1 = func_get_cmat(epi_arr[:,idx_first_half],roi_arr)\n",
    "    cmat2 = func_get_cmat(epi_arr[:,idx_second_half],roi_arr)\n",
    "    \n",
    "    rel_cmats[s,:,:,0] = cmat1\n",
    "    rel_cmats[s,:,:,1] = cmat2\n",
    "    \n",
    "np.savez(file='../Assets/rel-cmats',arr=rel_cmats,subs=subs)"
   ]
  },
  {
   "cell_type": "code",
   "execution_count": null,
   "id": "ec71c389",
   "metadata": {},
   "outputs": [],
   "source": []
  },
  {
   "cell_type": "code",
   "execution_count": null,
   "id": "30c5ef8d",
   "metadata": {},
   "outputs": [],
   "source": []
  },
  {
   "cell_type": "code",
   "execution_count": null,
   "id": "4faaab8e",
   "metadata": {},
   "outputs": [],
   "source": []
  },
  {
   "cell_type": "code",
   "execution_count": 1,
   "id": "2684563c",
   "metadata": {},
   "outputs": [
    {
     "data": {
      "text/plain": [
       "'/mmfs1/data/aglinska/BC-fMRI-AE/Notebooks'"
      ]
     },
     "execution_count": 1,
     "metadata": {},
     "output_type": "execute_result"
    }
   ],
   "source": [
    "pwd"
   ]
  },
  {
   "cell_type": "code",
   "execution_count": 18,
   "id": "0548c114",
   "metadata": {},
   "outputs": [
    {
     "data": {
      "text/plain": [
       "['arr', 'subs']"
      ]
     },
     "execution_count": 18,
     "metadata": {},
     "output_type": "execute_result"
    }
   ],
   "source": [
    "import numpy as np\n",
    "from helper_funcs import get_triu\n",
    "rel_cmats = np.load('../Data/rel-cmats.npz')\n",
    "list(rel_cmats.keys())"
   ]
  },
  {
   "cell_type": "code",
   "execution_count": 14,
   "id": "8634bcfa",
   "metadata": {},
   "outputs": [
    {
     "data": {
      "text/plain": [
       "(1102, 51, 51, 2)"
      ]
     },
     "execution_count": 14,
     "metadata": {},
     "output_type": "execute_result"
    }
   ],
   "source": [
    "nsubs = rel_cmats['arr'].shape[0]\n",
    "rel_cmats['arr'].shape"
   ]
  },
  {
   "cell_type": "code",
   "execution_count": 42,
   "id": "073f2986",
   "metadata": {},
   "outputs": [],
   "source": [
    "from tqdm import tqdm"
   ]
  },
  {
   "cell_type": "code",
   "execution_count": 43,
   "id": "4f88fc38",
   "metadata": {},
   "outputs": [
    {
     "name": "stderr",
     "output_type": "stream",
     "text": [
      "100%|██████████| 1102/1102 [01:05<00:00, 16.87it/s]\n",
      "100%|██████████| 1102/1102 [01:05<00:00, 16.72it/s]\n"
     ]
    }
   ],
   "source": [
    "cmats1 = np.array([get_triu(rel_cmats['arr'][i,:,:,0]) for i in tqdm(range(nsubs))])\n",
    "cmats2 = np.array([get_triu(rel_cmats['arr'][i,:,:,1]) for i in tqdm(range(nsubs))])"
   ]
  },
  {
   "cell_type": "code",
   "execution_count": 58,
   "id": "ceb35dc3",
   "metadata": {},
   "outputs": [
    {
     "data": {
      "text/plain": [
       "(2, 1086, 1275)"
      ]
     },
     "execution_count": 58,
     "metadata": {},
     "output_type": "execute_result"
    }
   ],
   "source": [
    "cmats = np.array([cmats1,cmats2])\n",
    "nonan = (np.isnan(cmats).sum(axis=0).sum(axis=1)==0)\n",
    "cmats = cmats[:,nonan,:]\n",
    "\n",
    "cmats.shape"
   ]
  },
  {
   "cell_type": "code",
   "execution_count": 59,
   "id": "21a52d80",
   "metadata": {},
   "outputs": [
    {
     "data": {
      "text/plain": [
       "0.07680824087569374"
      ]
     },
     "execution_count": 59,
     "metadata": {},
     "output_type": "execute_result"
    }
   ],
   "source": [
    "cmats.std(axis=0).mean()"
   ]
  },
  {
   "cell_type": "code",
   "execution_count": 60,
   "id": "79b76994",
   "metadata": {},
   "outputs": [
    {
     "data": {
      "text/plain": [
       "0.1960158175271703"
      ]
     },
     "execution_count": 60,
     "metadata": {},
     "output_type": "execute_result"
    }
   ],
   "source": [
    "cmats.std(axis=1).mean()"
   ]
  },
  {
   "cell_type": "code",
   "execution_count": 64,
   "id": "3d786375",
   "metadata": {},
   "outputs": [
    {
     "data": {
      "text/plain": [
       "2.5682584002301807"
      ]
     },
     "execution_count": 64,
     "metadata": {},
     "output_type": "execute_result"
    }
   ],
   "source": [
    "cmats[1,:,:].std(axis=0).mean() / cmats.std(axis=0).mean()"
   ]
  },
  {
   "cell_type": "code",
   "execution_count": null,
   "id": "70093351",
   "metadata": {},
   "outputs": [],
   "source": []
  }
 ],
 "metadata": {
  "kernelspec": {
   "display_name": "Python 3",
   "language": "python",
   "name": "python3"
  },
  "language_info": {
   "codemirror_mode": {
    "name": "ipython",
    "version": 3
   },
   "file_extension": ".py",
   "mimetype": "text/x-python",
   "name": "python",
   "nbconvert_exporter": "python",
   "pygments_lexer": "ipython3",
   "version": "3.8.5"
  }
 },
 "nbformat": 4,
 "nbformat_minor": 5
}
