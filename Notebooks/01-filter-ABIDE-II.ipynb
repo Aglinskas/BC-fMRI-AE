{
 "cells": [
  {
   "cell_type": "code",
   "execution_count": 4,
   "id": "441bb84d",
   "metadata": {},
   "outputs": [
    {
     "data": {
      "text/plain": [
       "'/mmfs1/data/aglinska/BC-fMRI-AE/Notebooks'"
      ]
     },
     "execution_count": 4,
     "metadata": {},
     "output_type": "execute_result"
    }
   ],
   "source": [
    "pwd"
   ]
  },
  {
   "cell_type": "code",
   "execution_count": 1,
   "id": "10eba071",
   "metadata": {},
   "outputs": [],
   "source": [
    "%%time\n",
    "import numpy as np\n",
    "import pandas as pd\n",
    "import ants\n",
    "import os"
   ]
  },
  {
   "cell_type": "code",
   "execution_count": 2,
   "id": "0735da4b",
   "metadata": {},
   "outputs": [],
   "source": [
    "df = pd.read_csv('../Data/ABIDE2_df.csv')"
   ]
  },
  {
   "cell_type": "code",
   "execution_count": 3,
   "id": "7f85e367",
   "metadata": {},
   "outputs": [
    {
     "data": {
      "text/html": [
       "<div>\n",
       "<style scoped>\n",
       "    .dataframe tbody tr th:only-of-type {\n",
       "        vertical-align: middle;\n",
       "    }\n",
       "\n",
       "    .dataframe tbody tr th {\n",
       "        vertical-align: top;\n",
       "    }\n",
       "\n",
       "    .dataframe thead th {\n",
       "        text-align: right;\n",
       "    }\n",
       "</style>\n",
       "<table border=\"1\" class=\"dataframe\">\n",
       "  <thead>\n",
       "    <tr style=\"text-align: right;\">\n",
       "      <th></th>\n",
       "      <th>Unnamed: 0</th>\n",
       "      <th>site_id</th>\n",
       "      <th>participant_id</th>\n",
       "      <th>ndar_guid</th>\n",
       "      <th>dx_group</th>\n",
       "      <th>pdd_dsm_iv_tr</th>\n",
       "      <th>asd_dsm_5</th>\n",
       "      <th>age_at_scan</th>\n",
       "      <th>sex</th>\n",
       "      <th>handedness_category</th>\n",
       "      <th>...</th>\n",
       "      <th>adi_r_c3_total</th>\n",
       "      <th>adi_r_c4_repetitive_use_objects</th>\n",
       "      <th>adi_r_c4_higher</th>\n",
       "      <th>adi_r_c4_unusual_sensory_interests</th>\n",
       "      <th>adi_r_c4_total</th>\n",
       "      <th>adi_r_d_age_parent_noticed</th>\n",
       "      <th>adi_r_d_age_first_single_words</th>\n",
       "      <th>adi_r_d_age_first_phrases</th>\n",
       "      <th>adi_r_d_age_when_abnormality</th>\n",
       "      <th>adi_r_d_interviewer_judgment</th>\n",
       "    </tr>\n",
       "  </thead>\n",
       "  <tbody>\n",
       "    <tr>\n",
       "      <th>0</th>\n",
       "      <td>0</td>\n",
       "      <td>ABIDEII-BNI_1</td>\n",
       "      <td>29006</td>\n",
       "      <td>NaN</td>\n",
       "      <td>1</td>\n",
       "      <td>NaN</td>\n",
       "      <td>NaN</td>\n",
       "      <td>48.0</td>\n",
       "      <td>1</td>\n",
       "      <td>1.0</td>\n",
       "      <td>...</td>\n",
       "      <td>NaN</td>\n",
       "      <td>NaN</td>\n",
       "      <td>NaN</td>\n",
       "      <td>NaN</td>\n",
       "      <td>NaN</td>\n",
       "      <td>NaN</td>\n",
       "      <td>NaN</td>\n",
       "      <td>NaN</td>\n",
       "      <td>NaN</td>\n",
       "      <td>NaN</td>\n",
       "    </tr>\n",
       "    <tr>\n",
       "      <th>1</th>\n",
       "      <td>1</td>\n",
       "      <td>ABIDEII-BNI_1</td>\n",
       "      <td>29007</td>\n",
       "      <td>NaN</td>\n",
       "      <td>1</td>\n",
       "      <td>NaN</td>\n",
       "      <td>NaN</td>\n",
       "      <td>41.0</td>\n",
       "      <td>1</td>\n",
       "      <td>1.0</td>\n",
       "      <td>...</td>\n",
       "      <td>NaN</td>\n",
       "      <td>NaN</td>\n",
       "      <td>NaN</td>\n",
       "      <td>NaN</td>\n",
       "      <td>NaN</td>\n",
       "      <td>NaN</td>\n",
       "      <td>NaN</td>\n",
       "      <td>NaN</td>\n",
       "      <td>NaN</td>\n",
       "      <td>NaN</td>\n",
       "    </tr>\n",
       "    <tr>\n",
       "      <th>2</th>\n",
       "      <td>2</td>\n",
       "      <td>ABIDEII-BNI_1</td>\n",
       "      <td>29008</td>\n",
       "      <td>NaN</td>\n",
       "      <td>1</td>\n",
       "      <td>NaN</td>\n",
       "      <td>NaN</td>\n",
       "      <td>59.0</td>\n",
       "      <td>1</td>\n",
       "      <td>1.0</td>\n",
       "      <td>...</td>\n",
       "      <td>NaN</td>\n",
       "      <td>NaN</td>\n",
       "      <td>NaN</td>\n",
       "      <td>NaN</td>\n",
       "      <td>NaN</td>\n",
       "      <td>NaN</td>\n",
       "      <td>NaN</td>\n",
       "      <td>NaN</td>\n",
       "      <td>NaN</td>\n",
       "      <td>NaN</td>\n",
       "    </tr>\n",
       "    <tr>\n",
       "      <th>3</th>\n",
       "      <td>3</td>\n",
       "      <td>ABIDEII-BNI_1</td>\n",
       "      <td>29009</td>\n",
       "      <td>NaN</td>\n",
       "      <td>1</td>\n",
       "      <td>NaN</td>\n",
       "      <td>NaN</td>\n",
       "      <td>57.0</td>\n",
       "      <td>1</td>\n",
       "      <td>1.0</td>\n",
       "      <td>...</td>\n",
       "      <td>NaN</td>\n",
       "      <td>NaN</td>\n",
       "      <td>NaN</td>\n",
       "      <td>NaN</td>\n",
       "      <td>NaN</td>\n",
       "      <td>NaN</td>\n",
       "      <td>NaN</td>\n",
       "      <td>NaN</td>\n",
       "      <td>NaN</td>\n",
       "      <td>NaN</td>\n",
       "    </tr>\n",
       "    <tr>\n",
       "      <th>4</th>\n",
       "      <td>4</td>\n",
       "      <td>ABIDEII-BNI_1</td>\n",
       "      <td>29010</td>\n",
       "      <td>NaN</td>\n",
       "      <td>1</td>\n",
       "      <td>NaN</td>\n",
       "      <td>NaN</td>\n",
       "      <td>45.0</td>\n",
       "      <td>1</td>\n",
       "      <td>1.0</td>\n",
       "      <td>...</td>\n",
       "      <td>NaN</td>\n",
       "      <td>NaN</td>\n",
       "      <td>NaN</td>\n",
       "      <td>NaN</td>\n",
       "      <td>NaN</td>\n",
       "      <td>NaN</td>\n",
       "      <td>NaN</td>\n",
       "      <td>NaN</td>\n",
       "      <td>NaN</td>\n",
       "      <td>NaN</td>\n",
       "    </tr>\n",
       "  </tbody>\n",
       "</table>\n",
       "<p>5 rows × 349 columns</p>\n",
       "</div>"
      ],
      "text/plain": [
       "   Unnamed: 0        site_id  participant_id ndar_guid  dx_group  \\\n",
       "0           0  ABIDEII-BNI_1           29006       NaN         1   \n",
       "1           1  ABIDEII-BNI_1           29007       NaN         1   \n",
       "2           2  ABIDEII-BNI_1           29008       NaN         1   \n",
       "3           3  ABIDEII-BNI_1           29009       NaN         1   \n",
       "4           4  ABIDEII-BNI_1           29010       NaN         1   \n",
       "\n",
       "   pdd_dsm_iv_tr  asd_dsm_5  age_at_scan   sex  handedness_category  ...  \\\n",
       "0            NaN        NaN          48.0    1                  1.0  ...   \n",
       "1            NaN        NaN          41.0    1                  1.0  ...   \n",
       "2            NaN        NaN          59.0    1                  1.0  ...   \n",
       "3            NaN        NaN          57.0    1                  1.0  ...   \n",
       "4            NaN        NaN          45.0    1                  1.0  ...   \n",
       "\n",
       "   adi_r_c3_total  adi_r_c4_repetitive_use_objects  adi_r_c4_higher  \\\n",
       "0             NaN                              NaN              NaN   \n",
       "1             NaN                              NaN              NaN   \n",
       "2             NaN                              NaN              NaN   \n",
       "3             NaN                              NaN              NaN   \n",
       "4             NaN                              NaN              NaN   \n",
       "\n",
       "   adi_r_c4_unusual_sensory_interests adi_r_c4_total  \\\n",
       "0                                 NaN            NaN   \n",
       "1                                 NaN            NaN   \n",
       "2                                 NaN            NaN   \n",
       "3                                 NaN            NaN   \n",
       "4                                 NaN            NaN   \n",
       "\n",
       "  adi_r_d_age_parent_noticed adi_r_d_age_first_single_words  \\\n",
       "0                        NaN                            NaN   \n",
       "1                        NaN                            NaN   \n",
       "2                        NaN                            NaN   \n",
       "3                        NaN                            NaN   \n",
       "4                        NaN                            NaN   \n",
       "\n",
       "   adi_r_d_age_first_phrases  adi_r_d_age_when_abnormality  \\\n",
       "0                        NaN                           NaN   \n",
       "1                        NaN                           NaN   \n",
       "2                        NaN                           NaN   \n",
       "3                        NaN                           NaN   \n",
       "4                        NaN                           NaN   \n",
       "\n",
       "   adi_r_d_interviewer_judgment  \n",
       "0                           NaN  \n",
       "1                           NaN  \n",
       "2                           NaN  \n",
       "3                           NaN  \n",
       "4                           NaN  \n",
       "\n",
       "[5 rows x 349 columns]"
      ]
     },
     "execution_count": 3,
     "metadata": {},
     "output_type": "execute_result"
    }
   ],
   "source": [
    "df.head()"
   ]
  },
  {
   "cell_type": "code",
   "execution_count": 53,
   "id": "adb5d151",
   "metadata": {},
   "outputs": [],
   "source": [
    "indir = '../../data/ABIDE2/Derivatives/test/fmriprep/'\n",
    "folders = [f for f in os.listdir(indir) if all((f.startswith('sub-'),os.path.isdir(os.path.join(indir,f))))]\n",
    "folders.sort()\n",
    "folders = np.array(folders)"
   ]
  },
  {
   "cell_type": "code",
   "execution_count": 49,
   "id": "b73ddf0c",
   "metadata": {},
   "outputs": [],
   "source": [
    "has_preproc = []\n",
    "for sub in folders:\n",
    "    if os.path.exists(os.path.join(indir,sub,'ses-1','func')):\n",
    "        has = any(['preproc_bold' in f for f in os.listdir(os.path.join(indir,sub,'ses-1','func'))])\n",
    "        has_preproc.append(has)\n",
    "    else:\n",
    "        has_preproc.append(False)\n",
    "has_preproc = np.array(has_preproc)"
   ]
  },
  {
   "cell_type": "code",
   "execution_count": 50,
   "id": "162a03be",
   "metadata": {},
   "outputs": [
    {
     "data": {
      "text/plain": [
       "'970/979| 0.99'"
      ]
     },
     "execution_count": 50,
     "metadata": {},
     "output_type": "execute_result"
    }
   ],
   "source": [
    "f'{has_preproc.sum()}/{len(has_preproc)}| {has_preproc.mean():.2f}'"
   ]
  },
  {
   "cell_type": "code",
   "execution_count": 54,
   "id": "e2f19c0b",
   "metadata": {},
   "outputs": [],
   "source": [
    "use_folders = folders[has_preproc]"
   ]
  },
  {
   "cell_type": "code",
   "execution_count": 56,
   "id": "8c5198b6",
   "metadata": {},
   "outputs": [],
   "source": [
    "s = 0\n",
    "sub = use_folders[s]"
   ]
  },
  {
   "cell_type": "code",
   "execution_count": 57,
   "id": "1c84aa10",
   "metadata": {},
   "outputs": [
    {
     "data": {
      "text/plain": [
       "[False,\n",
       " True,\n",
       " False,\n",
       " False,\n",
       " False,\n",
       " False,\n",
       " True,\n",
       " False,\n",
       " False,\n",
       " True,\n",
       " False,\n",
       " False,\n",
       " False,\n",
       " True,\n",
       " False,\n",
       " False,\n",
       " False,\n",
       " False]"
      ]
     },
     "execution_count": 57,
     "metadata": {},
     "output_type": "execute_result"
    }
   ],
   "source": [
    "['preproc_bold' in f for f in os.listdir(os.path.join(indir,sub,'ses-1','func'))]"
   ]
  },
  {
   "cell_type": "code",
   "execution_count": null,
   "id": "30c8a410",
   "metadata": {},
   "outputs": [],
   "source": []
  },
  {
   "cell_type": "code",
   "execution_count": null,
   "id": "cbebd35d",
   "metadata": {},
   "outputs": [],
   "source": []
  }
 ],
 "metadata": {
  "kernelspec": {
   "display_name": "Python 3",
   "language": "python",
   "name": "python3"
  },
  "language_info": {
   "codemirror_mode": {
    "name": "ipython",
    "version": 3
   },
   "file_extension": ".py",
   "mimetype": "text/x-python",
   "name": "python",
   "nbconvert_exporter": "python",
   "pygments_lexer": "ipython3",
   "version": "3.8.5"
  }
 },
 "nbformat": 4,
 "nbformat_minor": 5
}
