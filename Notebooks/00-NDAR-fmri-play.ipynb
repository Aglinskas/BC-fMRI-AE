{
 "cells": [
  {
   "cell_type": "code",
   "execution_count": 5,
   "metadata": {},
   "outputs": [
    {
     "data": {
      "text/plain": [
       "'/mmfs1/data/aglinska/BC-fMRI-AE/Notebooks'"
      ]
     },
     "execution_count": 5,
     "metadata": {},
     "output_type": "execute_result"
    }
   ],
   "source": [
    "pwd"
   ]
  },
  {
   "cell_type": "code",
   "execution_count": 1,
   "metadata": {},
   "outputs": [],
   "source": [
    "import pandas as pd\n",
    "import os"
   ]
  },
  {
   "cell_type": "code",
   "execution_count": 6,
   "metadata": {},
   "outputs": [],
   "source": [
    "ndar_dir = '../../ndar_fmri'"
   ]
  },
  {
   "cell_type": "code",
   "execution_count": 9,
   "metadata": {},
   "outputs": [
    {
     "data": {
      "text/plain": [
       "['package_info.txt',\n",
       " 'guid_pseudoguid.txt',\n",
       " 'datastructure_manifest.txt',\n",
       " 'md5_values.txt']"
      ]
     },
     "execution_count": 9,
     "metadata": {},
     "output_type": "execute_result"
    }
   ],
   "source": [
    "txt_files = [file for file in os.listdir(ndar_dir) if file.endswith('.txt')]\n",
    "txt_files"
   ]
  },
  {
   "cell_type": "code",
   "execution_count": 45,
   "metadata": {},
   "outputs": [
    {
     "data": {
      "text/html": [
       "<div>\n",
       "<style scoped>\n",
       "    .dataframe tbody tr th:only-of-type {\n",
       "        vertical-align: middle;\n",
       "    }\n",
       "\n",
       "    .dataframe tbody tr th {\n",
       "        vertical-align: top;\n",
       "    }\n",
       "\n",
       "    .dataframe thead tr th {\n",
       "        text-align: left;\n",
       "    }\n",
       "</style>\n",
       "<table border=\"1\" class=\"dataframe\">\n",
       "  <thead>\n",
       "    <tr>\n",
       "      <th></th>\n",
       "      <th>dataset_id</th>\n",
       "      <th>md5</th>\n",
       "      <th>file_name</th>\n",
       "      <th>submission_id</th>\n",
       "      <th>user_file_id</th>\n",
       "      <th>nda_file_id</th>\n",
       "    </tr>\n",
       "    <tr>\n",
       "      <th></th>\n",
       "      <th>dataset_id</th>\n",
       "      <th>md5</th>\n",
       "      <th>file_name</th>\n",
       "      <th>submission_id</th>\n",
       "      <th>user_file_id</th>\n",
       "      <th>nda_file_id</th>\n",
       "    </tr>\n",
       "  </thead>\n",
       "  <tbody>\n",
       "    <tr>\n",
       "      <th>1</th>\n",
       "      <td>9325</td>\n",
       "      <td>1a7bef0d085a56191ee846790c0d5680</td>\n",
       "      <td>faces/ASD142B_faces_new_RPI.nii.gz</td>\n",
       "      <td>10557</td>\n",
       "      <td>NaN</td>\n",
       "      <td>NaN</td>\n",
       "    </tr>\n",
       "    <tr>\n",
       "      <th>2</th>\n",
       "      <td>9325</td>\n",
       "      <td>c8ed69d04e269239ee8bda138fb337f7</td>\n",
       "      <td>faces/ASD126C_CCN_faces_new_RPI.nii.gz</td>\n",
       "      <td>10557</td>\n",
       "      <td>NaN</td>\n",
       "      <td>NaN</td>\n",
       "    </tr>\n",
       "    <tr>\n",
       "      <th>3</th>\n",
       "      <td>9325</td>\n",
       "      <td>4c4adaa8d7558e14b34bce379d80e809</td>\n",
       "      <td>resting6min/ASD143B_resting6min_new_RPI.nii.gz</td>\n",
       "      <td>10557</td>\n",
       "      <td>NaN</td>\n",
       "      <td>NaN</td>\n",
       "    </tr>\n",
       "    <tr>\n",
       "      <th>4</th>\n",
       "      <td>9325</td>\n",
       "      <td>5f4d4569ee9c18543e4bf7f839514f5c</td>\n",
       "      <td>resting6min/ASD137B_CCN_resting6min_new_RPI.ni...</td>\n",
       "      <td>10557</td>\n",
       "      <td>NaN</td>\n",
       "      <td>NaN</td>\n",
       "    </tr>\n",
       "    <tr>\n",
       "      <th>5</th>\n",
       "      <td>9325</td>\n",
       "      <td>f00ca06a47fa675806e2719093d9e244</td>\n",
       "      <td>resting6min/ASD142B_resting6min_new_RPI.nii.gz</td>\n",
       "      <td>10557</td>\n",
       "      <td>NaN</td>\n",
       "      <td>NaN</td>\n",
       "    </tr>\n",
       "    <tr>\n",
       "      <th>...</th>\n",
       "      <td>...</td>\n",
       "      <td>...</td>\n",
       "      <td>...</td>\n",
       "      <td>...</td>\n",
       "      <td>...</td>\n",
       "      <td>...</td>\n",
       "    </tr>\n",
       "    <tr>\n",
       "      <th>571</th>\n",
       "      <td>34030</td>\n",
       "      <td>0bafbba773ff7d9056a9db22e47bf64b</td>\n",
       "      <td>3040_01_MR_rfMRI_REST2_AP_InitialFrames.nii.gz</td>\n",
       "      <td>32143</td>\n",
       "      <td>NaN</td>\n",
       "      <td>NaN</td>\n",
       "    </tr>\n",
       "    <tr>\n",
       "      <th>572</th>\n",
       "      <td>34030</td>\n",
       "      <td>b7bdf9d25b37c18e5ff585cca1ca001b</td>\n",
       "      <td>3040_01_MR_rfMRI_REST2_AP.nii.gz</td>\n",
       "      <td>32143</td>\n",
       "      <td>NaN</td>\n",
       "      <td>NaN</td>\n",
       "    </tr>\n",
       "    <tr>\n",
       "      <th>573</th>\n",
       "      <td>34030</td>\n",
       "      <td>bd8aba55f267e20bd69f656b2c092586</td>\n",
       "      <td>3040_01_MR_rfMRI_REST2_PA.nii.gz</td>\n",
       "      <td>32143</td>\n",
       "      <td>NaN</td>\n",
       "      <td>NaN</td>\n",
       "    </tr>\n",
       "    <tr>\n",
       "      <th>574</th>\n",
       "      <td>34030</td>\n",
       "      <td>017b3794fff4b9f7b598bd4ba95a70e2</td>\n",
       "      <td>3040_01_MR_rfMRI_REST2_PA_InitialFrames.nii.gz</td>\n",
       "      <td>32143</td>\n",
       "      <td>NaN</td>\n",
       "      <td>NaN</td>\n",
       "    </tr>\n",
       "    <tr>\n",
       "      <th>575</th>\n",
       "      <td>34030</td>\n",
       "      <td>5cc6033bd87dcd0915041f86bf5908a6</td>\n",
       "      <td>3040_01_MR_rfMRI_REST2_PA.json</td>\n",
       "      <td>32143</td>\n",
       "      <td>NaN</td>\n",
       "      <td>NaN</td>\n",
       "    </tr>\n",
       "  </tbody>\n",
       "</table>\n",
       "<p>575 rows × 6 columns</p>\n",
       "</div>"
      ],
      "text/plain": [
       "    dataset_id                               md5  \\\n",
       "    dataset_id                               md5   \n",
       "1         9325  1a7bef0d085a56191ee846790c0d5680   \n",
       "2         9325  c8ed69d04e269239ee8bda138fb337f7   \n",
       "3         9325  4c4adaa8d7558e14b34bce379d80e809   \n",
       "4         9325  5f4d4569ee9c18543e4bf7f839514f5c   \n",
       "5         9325  f00ca06a47fa675806e2719093d9e244   \n",
       "..         ...                               ...   \n",
       "571      34030  0bafbba773ff7d9056a9db22e47bf64b   \n",
       "572      34030  b7bdf9d25b37c18e5ff585cca1ca001b   \n",
       "573      34030  bd8aba55f267e20bd69f656b2c092586   \n",
       "574      34030  017b3794fff4b9f7b598bd4ba95a70e2   \n",
       "575      34030  5cc6033bd87dcd0915041f86bf5908a6   \n",
       "\n",
       "                                             file_name submission_id  \\\n",
       "                                             file_name submission_id   \n",
       "1                   faces/ASD142B_faces_new_RPI.nii.gz         10557   \n",
       "2               faces/ASD126C_CCN_faces_new_RPI.nii.gz         10557   \n",
       "3       resting6min/ASD143B_resting6min_new_RPI.nii.gz         10557   \n",
       "4    resting6min/ASD137B_CCN_resting6min_new_RPI.ni...         10557   \n",
       "5       resting6min/ASD142B_resting6min_new_RPI.nii.gz         10557   \n",
       "..                                                 ...           ...   \n",
       "571     3040_01_MR_rfMRI_REST2_AP_InitialFrames.nii.gz         32143   \n",
       "572                   3040_01_MR_rfMRI_REST2_AP.nii.gz         32143   \n",
       "573                   3040_01_MR_rfMRI_REST2_PA.nii.gz         32143   \n",
       "574     3040_01_MR_rfMRI_REST2_PA_InitialFrames.nii.gz         32143   \n",
       "575                     3040_01_MR_rfMRI_REST2_PA.json         32143   \n",
       "\n",
       "    user_file_id nda_file_id  \n",
       "    user_file_id nda_file_id  \n",
       "1            NaN         NaN  \n",
       "2            NaN         NaN  \n",
       "3            NaN         NaN  \n",
       "4            NaN         NaN  \n",
       "5            NaN         NaN  \n",
       "..           ...         ...  \n",
       "571          NaN         NaN  \n",
       "572          NaN         NaN  \n",
       "573          NaN         NaN  \n",
       "574          NaN         NaN  \n",
       "575          NaN         NaN  \n",
       "\n",
       "[575 rows x 6 columns]"
      ]
     },
     "execution_count": 45,
     "metadata": {},
     "output_type": "execute_result"
    }
   ],
   "source": [
    "file = txt_files[3]\n",
    "df = pd.read_csv(os.path.join(ndar_dir,file),'delimiter','\\t')\n",
    "\n",
    "df.columns = [df.columns.values,df.iloc[0].values]\n",
    "df = df.iloc[1::]\n",
    "\n",
    "df"
   ]
  },
  {
   "cell_type": "code",
   "execution_count": 22,
   "metadata": {},
   "outputs": [],
   "source": []
  },
  {
   "cell_type": "code",
   "execution_count": 25,
   "metadata": {},
   "outputs": [],
   "source": []
  },
  {
   "cell_type": "code",
   "execution_count": null,
   "metadata": {},
   "outputs": [],
   "source": []
  }
 ],
 "metadata": {
  "kernelspec": {
   "display_name": "Python 3",
   "language": "python",
   "name": "python3"
  },
  "language_info": {
   "codemirror_mode": {
    "name": "ipython",
    "version": 3
   },
   "file_extension": ".py",
   "mimetype": "text/x-python",
   "name": "python",
   "nbconvert_exporter": "python",
   "pygments_lexer": "ipython3",
   "version": "3.8.5"
  }
 },
 "nbformat": 4,
 "nbformat_minor": 4
}
