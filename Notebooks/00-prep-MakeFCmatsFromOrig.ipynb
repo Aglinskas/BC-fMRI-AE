{
 "cells": [
  {
   "cell_type": "code",
   "execution_count": 3,
   "id": "aaaaa20a",
   "metadata": {},
   "outputs": [
    {
     "data": {
      "text/plain": [
       "'/mmfs1/data/aglinska/BC-fMRI-AE/Notebooks'"
      ]
     },
     "execution_count": 3,
     "metadata": {},
     "output_type": "execute_result"
    }
   ],
   "source": [
    "pwd"
   ]
  },
  {
   "cell_type": "code",
   "execution_count": 78,
   "id": "9c2e5987",
   "metadata": {},
   "outputs": [
    {
     "name": "stdout",
     "output_type": "stream",
     "text": [
      "CPU times: user 0 ns, sys: 48 µs, total: 48 µs\n",
      "Wall time: 81.5 µs\n"
     ]
    }
   ],
   "source": [
    "%%time\n",
    "import os\n",
    "import ants\n",
    "import numpy as np\n",
    "from tqdm import tqdm"
   ]
  },
  {
   "cell_type": "code",
   "execution_count": 96,
   "id": "40b3f2d8",
   "metadata": {},
   "outputs": [],
   "source": [
    "data_dir = '../Assets/fc_maps_orig/'\n",
    "ofn_dir  = '../Assets/fc_maps_32smooth_new/'\n",
    "ofn_dir_mats = ofn_dir.replace('fc_maps','fc_mats')\n",
    "\n",
    "if not os.path.exists(ofn_dir):\n",
    "    os.mkdir(ofn_dir)\n",
    "    \n",
    "if not os.path.exists(ofn_dir_mats):\n",
    "    os.mkdir(ofn_dir_mats)"
   ]
  },
  {
   "cell_type": "code",
   "execution_count": 101,
   "id": "c8e7ce91",
   "metadata": {},
   "outputs": [],
   "source": [
    "files = [file for file in os.listdir(data_dir) if file.endswith('.nii')]\n",
    "files.sort()\n",
    "n = len(files)"
   ]
  },
  {
   "cell_type": "code",
   "execution_count": 102,
   "id": "2d20ee57",
   "metadata": {},
   "outputs": [
    {
     "name": "stderr",
     "output_type": "stream",
     "text": [
      "100%|██████████| 1068/1068 [25:33<00:00,  1.44s/it]\n"
     ]
    }
   ],
   "source": [
    "for s in tqdm(range(n)):\n",
    "    \n",
    "    if not os.path.exists(os.path.join(ofn_dir,files[s])):\n",
    "        im = ants.image_read(os.path.join(data_dir,files[s]))\n",
    "        if np.isnan(im.numpy()).sum()==0:\n",
    "            #assert np.isnan(im.numpy()).sum()==0, 'NaNs in input - you fucked up'\n",
    "\n",
    "            ## Processing Steps\n",
    "            im = im+1\n",
    "            im = im.smooth_image(sigma=3,sigma_in_physical_coordinates=False,FWHM=True,max_kernel_width=32)\n",
    "            im = im.resample_image(resample_params=(32,32,32,51), use_voxels=True, interp_type=4)\n",
    "\n",
    "\n",
    "            im[im>2]=2\n",
    "            im[im<0]=0\n",
    "\n",
    "        #     im3 = im.slice_image(3,1)\n",
    "        #     im3.plot_ortho(flat=True,xyz_lines=False)\n",
    "        #     print((im.numpy().min(),im.numpy().max()))\n",
    "\n",
    "            assert np.isnan(im.numpy()).sum()==0, 'NaNs after processing - you fucked up'\n",
    "            im.to_filename(os.path.join(ofn_dir,files[s]))\n",
    "            np.save(os.path.join(ofn_dir_mats,files[s]),im.numpy())"
   ]
  },
  {
   "cell_type": "code",
   "execution_count": 105,
   "id": "79cd3026",
   "metadata": {},
   "outputs": [],
   "source": []
  },
  {
   "cell_type": "code",
   "execution_count": null,
   "id": "1eed62bc",
   "metadata": {},
   "outputs": [],
   "source": [
    "import shutil"
   ]
  },
  {
   "cell_type": "code",
   "execution_count": 135,
   "id": "0f707b6d",
   "metadata": {},
   "outputs": [
    {
     "data": {
      "text/plain": [
       "[]"
      ]
     },
     "execution_count": 135,
     "metadata": {},
     "output_type": "execute_result"
    }
   ],
   "source": [
    "files = [file for file in os.listdir(ofn_dir_mats) if file.endswith('.nii.npy')]\n",
    "files.sort()\n",
    "files[0:10]"
   ]
  },
  {
   "cell_type": "code",
   "execution_count": 115,
   "id": "a1e25791",
   "metadata": {},
   "outputs": [],
   "source": [
    "#.replace('.nii.npy','.npy')"
   ]
  },
  {
   "cell_type": "code",
   "execution_count": 134,
   "id": "9b6aec2d",
   "metadata": {},
   "outputs": [],
   "source": [
    "for s in range(len(files)):\n",
    "    infn = os.path.join(ofn_dir_mats,files[s])\n",
    "    outfn = os.path.join(ofn_dir_mats,files[s]).replace('.nii.npy','.npy')\n",
    "    shutil.move(src=infn, dst=outfn)"
   ]
  },
  {
   "cell_type": "code",
   "execution_count": 133,
   "id": "4c666adc",
   "metadata": {},
   "outputs": [],
   "source": []
  },
  {
   "cell_type": "code",
   "execution_count": null,
   "id": "3a00960e",
   "metadata": {},
   "outputs": [],
   "source": []
  }
 ],
 "metadata": {
  "kernelspec": {
   "display_name": "Python 3",
   "language": "python",
   "name": "python3"
  },
  "language_info": {
   "codemirror_mode": {
    "name": "ipython",
    "version": 3
   },
   "file_extension": ".py",
   "mimetype": "text/x-python",
   "name": "python",
   "nbconvert_exporter": "python",
   "pygments_lexer": "ipython3",
   "version": "3.8.5"
  }
 },
 "nbformat": 4,
 "nbformat_minor": 5
}
