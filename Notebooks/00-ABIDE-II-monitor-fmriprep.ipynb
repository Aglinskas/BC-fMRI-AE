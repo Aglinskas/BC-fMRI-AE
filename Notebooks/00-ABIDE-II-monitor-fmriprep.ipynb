{
 "cells": [
  {
   "cell_type": "code",
   "execution_count": 168,
   "id": "8a217604",
   "metadata": {},
   "outputs": [
    {
     "data": {
      "text/plain": [
       "'/mmfs1/data/aglinska/BC-fMRI-AE/Notebooks'"
      ]
     },
     "execution_count": 168,
     "metadata": {},
     "output_type": "execute_result"
    }
   ],
   "source": [
    "pwd"
   ]
  },
  {
   "cell_type": "code",
   "execution_count": 169,
   "id": "4358a396",
   "metadata": {},
   "outputs": [],
   "source": [
    "import os\n",
    "import pandas as pd\n",
    "import numpy as np"
   ]
  },
  {
   "cell_type": "code",
   "execution_count": 170,
   "id": "9084658f",
   "metadata": {},
   "outputs": [],
   "source": [
    "df2 = pd.read_csv('../Data/ABIDE2_df.csv')"
   ]
  },
  {
   "cell_type": "code",
   "execution_count": 171,
   "id": "1a383e6f",
   "metadata": {},
   "outputs": [
    {
     "data": {
      "text/html": [
       "<div>\n",
       "<style scoped>\n",
       "    .dataframe tbody tr th:only-of-type {\n",
       "        vertical-align: middle;\n",
       "    }\n",
       "\n",
       "    .dataframe tbody tr th {\n",
       "        vertical-align: top;\n",
       "    }\n",
       "\n",
       "    .dataframe thead th {\n",
       "        text-align: right;\n",
       "    }\n",
       "</style>\n",
       "<table border=\"1\" class=\"dataframe\">\n",
       "  <thead>\n",
       "    <tr style=\"text-align: right;\">\n",
       "      <th></th>\n",
       "      <th>Unnamed: 0</th>\n",
       "      <th>site_id</th>\n",
       "      <th>participant_id</th>\n",
       "      <th>ndar_guid</th>\n",
       "      <th>dx_group</th>\n",
       "      <th>pdd_dsm_iv_tr</th>\n",
       "      <th>asd_dsm_5</th>\n",
       "      <th>age_at_scan</th>\n",
       "      <th>sex</th>\n",
       "      <th>handedness_category</th>\n",
       "      <th>...</th>\n",
       "      <th>adi_r_c3_total</th>\n",
       "      <th>adi_r_c4_repetitive_use_objects</th>\n",
       "      <th>adi_r_c4_higher</th>\n",
       "      <th>adi_r_c4_unusual_sensory_interests</th>\n",
       "      <th>adi_r_c4_total</th>\n",
       "      <th>adi_r_d_age_parent_noticed</th>\n",
       "      <th>adi_r_d_age_first_single_words</th>\n",
       "      <th>adi_r_d_age_first_phrases</th>\n",
       "      <th>adi_r_d_age_when_abnormality</th>\n",
       "      <th>adi_r_d_interviewer_judgment</th>\n",
       "    </tr>\n",
       "  </thead>\n",
       "  <tbody>\n",
       "    <tr>\n",
       "      <th>0</th>\n",
       "      <td>0</td>\n",
       "      <td>ABIDEII-BNI_1</td>\n",
       "      <td>29006</td>\n",
       "      <td>NaN</td>\n",
       "      <td>1</td>\n",
       "      <td>NaN</td>\n",
       "      <td>NaN</td>\n",
       "      <td>48.0</td>\n",
       "      <td>1</td>\n",
       "      <td>1.0</td>\n",
       "      <td>...</td>\n",
       "      <td>NaN</td>\n",
       "      <td>NaN</td>\n",
       "      <td>NaN</td>\n",
       "      <td>NaN</td>\n",
       "      <td>NaN</td>\n",
       "      <td>NaN</td>\n",
       "      <td>NaN</td>\n",
       "      <td>NaN</td>\n",
       "      <td>NaN</td>\n",
       "      <td>NaN</td>\n",
       "    </tr>\n",
       "    <tr>\n",
       "      <th>1</th>\n",
       "      <td>1</td>\n",
       "      <td>ABIDEII-BNI_1</td>\n",
       "      <td>29007</td>\n",
       "      <td>NaN</td>\n",
       "      <td>1</td>\n",
       "      <td>NaN</td>\n",
       "      <td>NaN</td>\n",
       "      <td>41.0</td>\n",
       "      <td>1</td>\n",
       "      <td>1.0</td>\n",
       "      <td>...</td>\n",
       "      <td>NaN</td>\n",
       "      <td>NaN</td>\n",
       "      <td>NaN</td>\n",
       "      <td>NaN</td>\n",
       "      <td>NaN</td>\n",
       "      <td>NaN</td>\n",
       "      <td>NaN</td>\n",
       "      <td>NaN</td>\n",
       "      <td>NaN</td>\n",
       "      <td>NaN</td>\n",
       "    </tr>\n",
       "    <tr>\n",
       "      <th>2</th>\n",
       "      <td>2</td>\n",
       "      <td>ABIDEII-BNI_1</td>\n",
       "      <td>29008</td>\n",
       "      <td>NaN</td>\n",
       "      <td>1</td>\n",
       "      <td>NaN</td>\n",
       "      <td>NaN</td>\n",
       "      <td>59.0</td>\n",
       "      <td>1</td>\n",
       "      <td>1.0</td>\n",
       "      <td>...</td>\n",
       "      <td>NaN</td>\n",
       "      <td>NaN</td>\n",
       "      <td>NaN</td>\n",
       "      <td>NaN</td>\n",
       "      <td>NaN</td>\n",
       "      <td>NaN</td>\n",
       "      <td>NaN</td>\n",
       "      <td>NaN</td>\n",
       "      <td>NaN</td>\n",
       "      <td>NaN</td>\n",
       "    </tr>\n",
       "    <tr>\n",
       "      <th>3</th>\n",
       "      <td>3</td>\n",
       "      <td>ABIDEII-BNI_1</td>\n",
       "      <td>29009</td>\n",
       "      <td>NaN</td>\n",
       "      <td>1</td>\n",
       "      <td>NaN</td>\n",
       "      <td>NaN</td>\n",
       "      <td>57.0</td>\n",
       "      <td>1</td>\n",
       "      <td>1.0</td>\n",
       "      <td>...</td>\n",
       "      <td>NaN</td>\n",
       "      <td>NaN</td>\n",
       "      <td>NaN</td>\n",
       "      <td>NaN</td>\n",
       "      <td>NaN</td>\n",
       "      <td>NaN</td>\n",
       "      <td>NaN</td>\n",
       "      <td>NaN</td>\n",
       "      <td>NaN</td>\n",
       "      <td>NaN</td>\n",
       "    </tr>\n",
       "    <tr>\n",
       "      <th>4</th>\n",
       "      <td>4</td>\n",
       "      <td>ABIDEII-BNI_1</td>\n",
       "      <td>29010</td>\n",
       "      <td>NaN</td>\n",
       "      <td>1</td>\n",
       "      <td>NaN</td>\n",
       "      <td>NaN</td>\n",
       "      <td>45.0</td>\n",
       "      <td>1</td>\n",
       "      <td>1.0</td>\n",
       "      <td>...</td>\n",
       "      <td>NaN</td>\n",
       "      <td>NaN</td>\n",
       "      <td>NaN</td>\n",
       "      <td>NaN</td>\n",
       "      <td>NaN</td>\n",
       "      <td>NaN</td>\n",
       "      <td>NaN</td>\n",
       "      <td>NaN</td>\n",
       "      <td>NaN</td>\n",
       "      <td>NaN</td>\n",
       "    </tr>\n",
       "  </tbody>\n",
       "</table>\n",
       "<p>5 rows × 349 columns</p>\n",
       "</div>"
      ],
      "text/plain": [
       "   Unnamed: 0        site_id  participant_id ndar_guid  dx_group  \\\n",
       "0           0  ABIDEII-BNI_1           29006       NaN         1   \n",
       "1           1  ABIDEII-BNI_1           29007       NaN         1   \n",
       "2           2  ABIDEII-BNI_1           29008       NaN         1   \n",
       "3           3  ABIDEII-BNI_1           29009       NaN         1   \n",
       "4           4  ABIDEII-BNI_1           29010       NaN         1   \n",
       "\n",
       "   pdd_dsm_iv_tr  asd_dsm_5  age_at_scan   sex  handedness_category  ...  \\\n",
       "0            NaN        NaN          48.0    1                  1.0  ...   \n",
       "1            NaN        NaN          41.0    1                  1.0  ...   \n",
       "2            NaN        NaN          59.0    1                  1.0  ...   \n",
       "3            NaN        NaN          57.0    1                  1.0  ...   \n",
       "4            NaN        NaN          45.0    1                  1.0  ...   \n",
       "\n",
       "   adi_r_c3_total  adi_r_c4_repetitive_use_objects  adi_r_c4_higher  \\\n",
       "0             NaN                              NaN              NaN   \n",
       "1             NaN                              NaN              NaN   \n",
       "2             NaN                              NaN              NaN   \n",
       "3             NaN                              NaN              NaN   \n",
       "4             NaN                              NaN              NaN   \n",
       "\n",
       "   adi_r_c4_unusual_sensory_interests adi_r_c4_total  \\\n",
       "0                                 NaN            NaN   \n",
       "1                                 NaN            NaN   \n",
       "2                                 NaN            NaN   \n",
       "3                                 NaN            NaN   \n",
       "4                                 NaN            NaN   \n",
       "\n",
       "  adi_r_d_age_parent_noticed adi_r_d_age_first_single_words  \\\n",
       "0                        NaN                            NaN   \n",
       "1                        NaN                            NaN   \n",
       "2                        NaN                            NaN   \n",
       "3                        NaN                            NaN   \n",
       "4                        NaN                            NaN   \n",
       "\n",
       "   adi_r_d_age_first_phrases  adi_r_d_age_when_abnormality  \\\n",
       "0                        NaN                           NaN   \n",
       "1                        NaN                           NaN   \n",
       "2                        NaN                           NaN   \n",
       "3                        NaN                           NaN   \n",
       "4                        NaN                           NaN   \n",
       "\n",
       "   adi_r_d_interviewer_judgment  \n",
       "0                           NaN  \n",
       "1                           NaN  \n",
       "2                           NaN  \n",
       "3                           NaN  \n",
       "4                           NaN  \n",
       "\n",
       "[5 rows x 349 columns]"
      ]
     },
     "execution_count": 171,
     "metadata": {},
     "output_type": "execute_result"
    }
   ],
   "source": [
    "df2.head()"
   ]
  },
  {
   "cell_type": "code",
   "execution_count": 172,
   "id": "a9ccd003",
   "metadata": {},
   "outputs": [],
   "source": [
    "#participant_id\n",
    "#site_id"
   ]
  },
  {
   "cell_type": "code",
   "execution_count": 173,
   "id": "adf81915",
   "metadata": {},
   "outputs": [],
   "source": [
    "subs = df2['participant_id'].values"
   ]
  },
  {
   "cell_type": "code",
   "execution_count": 190,
   "id": "8c432d7b",
   "metadata": {},
   "outputs": [
    {
     "name": "stdout",
     "output_type": "stream",
     "text": [
      "0/1007\n"
     ]
    }
   ],
   "source": [
    "#fn_temp = '../../data/ABIDE2/Derivatives/test/fmriprep/sub-{sub}/ses-1/func/sub-{sub}_ses-1_task-rest_run-1_space-MNI152NLin2009cAsym_desc-preproc_bold.nii.gz'\n",
    "# fn_temp = '../../data/ABIDE2/Derivatives/test/fmriprep/sub-{sub}/ses-1/func/sub-{sub}_ses-1_task-rest_run-1_space-*-preproc_bold.nii.gz'\n",
    "# is_vec = [os.path.exists(fn_temp.format(sub=sub)) for sub in subs]\n",
    "# is_vec = np.array(is_vec)\n",
    "# print(f'{is_vec.sum()}/{len(is_vec)}')"
   ]
  },
  {
   "cell_type": "code",
   "execution_count": 200,
   "id": "b8814cd3",
   "metadata": {},
   "outputs": [
    {
     "ename": "FileNotFoundError",
     "evalue": "[Errno 2] No such file or directory: '../../data/ABIDE2/Derivatives/test/fmriprep/sub-29031/ses-1/func/'",
     "output_type": "error",
     "traceback": [
      "\u001b[0;31m---------------------------------------------------------------------------\u001b[0m",
      "\u001b[0;31mFileNotFoundError\u001b[0m                         Traceback (most recent call last)",
      "\u001b[0;32m<ipython-input-200-87eb4b5c92b0>\u001b[0m in \u001b[0;36m<module>\u001b[0;34m\u001b[0m\n\u001b[1;32m      4\u001b[0m \u001b[0;32mfor\u001b[0m \u001b[0msub\u001b[0m \u001b[0;32min\u001b[0m \u001b[0msubs\u001b[0m\u001b[0;34m:\u001b[0m\u001b[0;34m\u001b[0m\u001b[0;34m\u001b[0m\u001b[0m\n\u001b[1;32m      5\u001b[0m     \u001b[0msubfolder\u001b[0m \u001b[0;34m=\u001b[0m \u001b[0;34mf'../../data/ABIDE2/Derivatives/test/fmriprep/sub-{sub}/ses-1/func/'\u001b[0m\u001b[0;34m\u001b[0m\u001b[0;34m\u001b[0m\u001b[0m\n\u001b[0;32m----> 6\u001b[0;31m     \u001b[0mconts\u001b[0m \u001b[0;34m=\u001b[0m \u001b[0mos\u001b[0m\u001b[0;34m.\u001b[0m\u001b[0mlistdir\u001b[0m\u001b[0;34m(\u001b[0m\u001b[0msubfolder\u001b[0m\u001b[0;34m)\u001b[0m\u001b[0;34m\u001b[0m\u001b[0;34m\u001b[0m\u001b[0m\n\u001b[0m\u001b[1;32m      7\u001b[0m     \u001b[0mhas_nii\u001b[0m \u001b[0;34m=\u001b[0m \u001b[0many\u001b[0m\u001b[0;34m(\u001b[0m\u001b[0;34m[\u001b[0m\u001b[0;34m'preproc_bold.nii.gz'\u001b[0m \u001b[0;32min\u001b[0m \u001b[0mcont\u001b[0m \u001b[0;32mfor\u001b[0m \u001b[0mcont\u001b[0m \u001b[0;32min\u001b[0m \u001b[0mconts\u001b[0m\u001b[0;34m]\u001b[0m\u001b[0;34m)\u001b[0m\u001b[0;34m\u001b[0m\u001b[0;34m\u001b[0m\u001b[0m\n\u001b[1;32m      8\u001b[0m     \u001b[0mis_vec\u001b[0m\u001b[0;34m.\u001b[0m\u001b[0mappend\u001b[0m\u001b[0;34m(\u001b[0m\u001b[0mhas_nii\u001b[0m\u001b[0;34m)\u001b[0m\u001b[0;34m\u001b[0m\u001b[0;34m\u001b[0m\u001b[0m\n",
      "\u001b[0;31mFileNotFoundError\u001b[0m: [Errno 2] No such file or directory: '../../data/ABIDE2/Derivatives/test/fmriprep/sub-29031/ses-1/func/'"
     ]
    }
   ],
   "source": [
    "is_vec = list()\n",
    "#s = 0\n",
    "#sub = subs[s]\n",
    "for sub in subs:\n",
    "    subfolder = f'../../data/ABIDE2/Derivatives/test/fmriprep/sub-{sub}/ses-1/func/'\n",
    "    if os.path.isdir(subfolder)\n",
    "    conts = os.listdir(subfolder)\n",
    "    has_nii = any(['preproc_bold.nii.gz' in cont for cont in conts])\n",
    "    is_vec.append(has_nii)"
   ]
  },
  {
   "cell_type": "code",
   "execution_count": 202,
   "id": "a3f3767f",
   "metadata": {},
   "outputs": [
    {
     "data": {
      "text/plain": [
       "False"
      ]
     },
     "execution_count": 202,
     "metadata": {},
     "output_type": "execute_result"
    }
   ],
   "source": []
  },
  {
   "cell_type": "code",
   "execution_count": null,
   "id": "27a0017f",
   "metadata": {},
   "outputs": [],
   "source": []
  },
  {
   "cell_type": "code",
   "execution_count": null,
   "id": "dcbf7961",
   "metadata": {},
   "outputs": [],
   "source": []
  },
  {
   "cell_type": "code",
   "execution_count": null,
   "id": "59d0ae24",
   "metadata": {},
   "outputs": [],
   "source": []
  },
  {
   "cell_type": "code",
   "execution_count": null,
   "id": "0235ae0b",
   "metadata": {},
   "outputs": [],
   "source": []
  },
  {
   "cell_type": "code",
   "execution_count": 177,
   "id": "ae266520",
   "metadata": {},
   "outputs": [],
   "source": [
    "df2['is_fmriprepped'] = is_vec"
   ]
  },
  {
   "cell_type": "code",
   "execution_count": 178,
   "id": "2e69662d",
   "metadata": {},
   "outputs": [
    {
     "data": {
      "text/plain": [
       "site_id\n",
       "ABIDEII-UCLA_1    1.000000\n",
       "ABIDEII-UCD_1     1.000000\n",
       "ABIDEII-TCD_1     1.000000\n",
       "ABIDEII-OHSU_1    1.000000\n",
       "ABIDEII-NYU_1     1.000000\n",
       "ABIDEII-KUL_3     1.000000\n",
       "ABIDEII-IU_1      1.000000\n",
       "ABIDEII-IP_1      0.982143\n",
       "ABIDEII-BNI_1     0.965517\n",
       "ABIDEII-EMC_1     0.870370\n",
       "ABIDEII-GU_1      0.707547\n",
       "ABIDEII-USM_1     0.030303\n",
       "ABIDEII-SDSU_1    0.000000\n",
       "ABIDEII-ONRC_2    0.000000\n",
       "ABIDEII-NYU_2     0.000000\n",
       "ABIDEII-KKI_1     0.000000\n",
       "Name: is_fmriprepped, dtype: float64"
      ]
     },
     "execution_count": 178,
     "metadata": {},
     "output_type": "execute_result"
    }
   ],
   "source": [
    "df_new = df2.groupby(['site_id']).mean()['is_fmriprepped']\n",
    "df_new.sort_values(ascending=False)"
   ]
  },
  {
   "cell_type": "code",
   "execution_count": null,
   "id": "4985380f",
   "metadata": {},
   "outputs": [],
   "source": []
  },
  {
   "cell_type": "code",
   "execution_count": 187,
   "id": "2ceb7bf2",
   "metadata": {},
   "outputs": [],
   "source": [
    "slice_ = df2['site_id'].values=='ABIDEII-KKI_1'\n",
    "site_subs = df2.iloc[slice_]['participant_id'].values"
   ]
  },
  {
   "cell_type": "code",
   "execution_count": 188,
   "id": "c59109b8",
   "metadata": {},
   "outputs": [
    {
     "data": {
      "text/plain": [
       "['sub-29273_ses-1_task-rest_acq-rc8chan_run-1_space-MNI152NLin2009cAsym_desc-brain_mask.json',\n",
       " 'sub-29273_ses-1_task-rest_acq-rc8chan_run-1_from-scanner_to-T1w_mode-image_xfm.txt',\n",
       " 'sub-29273_ses-1_task-rest_acq-rc8chan_run-1_space-MNI152NLin2009cAsym_boldref.nii.gz',\n",
       " 'sub-29273_ses-1_task-rest_acq-rc8chan_run-1_space-MNI152NLin2009cAsym_desc-preproc_bold.json',\n",
       " 'sub-29273_ses-1_task-rest_acq-rc8chan_run-1_from-T1w_to-scanner_mode-image_xfm.txt',\n",
       " 'sub-29273_ses-1_task-rest_acq-rc8chan_run-1_space-MNI152NLin2009cAsym_desc-brain_mask.nii.gz',\n",
       " 'sub-29273_ses-1_task-rest_acq-rc8chan_run-1_space-MNI152NLin2009cAsym_desc-preproc_bold.nii.gz',\n",
       " 'sub-29273_ses-1_task-rest_acq-rc8chan_run-1_desc-confounds_timeseries.tsv',\n",
       " 'sub-29273_ses-1_task-rest_acq-rc8chan_run-1_desc-confounds_timeseries.json']"
      ]
     },
     "execution_count": 188,
     "metadata": {},
     "output_type": "execute_result"
    }
   ],
   "source": [
    "sub = site_subs[0]\n",
    "os.listdir(f'../../data/ABIDE2/Derivatives/test/fmriprep/sub-{sub}/ses-1/func/')"
   ]
  },
  {
   "cell_type": "code",
   "execution_count": null,
   "id": "9a5808cf",
   "metadata": {},
   "outputs": [],
   "source": []
  },
  {
   "cell_type": "code",
   "execution_count": null,
   "id": "db7455a7",
   "metadata": {},
   "outputs": [],
   "source": []
  },
  {
   "cell_type": "code",
   "execution_count": null,
   "id": "391e90c5",
   "metadata": {},
   "outputs": [],
   "source": []
  },
  {
   "cell_type": "code",
   "execution_count": null,
   "id": "d992f052",
   "metadata": {},
   "outputs": [],
   "source": []
  }
 ],
 "metadata": {
  "kernelspec": {
   "display_name": "Python 3",
   "language": "python",
   "name": "python3"
  },
  "language_info": {
   "codemirror_mode": {
    "name": "ipython",
    "version": 3
   },
   "file_extension": ".py",
   "mimetype": "text/x-python",
   "name": "python",
   "nbconvert_exporter": "python",
   "pygments_lexer": "ipython3",
   "version": "3.8.5"
  }
 },
 "nbformat": 4,
 "nbformat_minor": 5
}
