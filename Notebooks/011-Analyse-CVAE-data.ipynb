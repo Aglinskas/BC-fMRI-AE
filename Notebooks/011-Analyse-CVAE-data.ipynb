{
 "cells": [
  {
   "cell_type": "code",
   "execution_count": 122,
   "id": "76ddd221",
   "metadata": {},
   "outputs": [
    {
     "name": "stdout",
     "output_type": "stream",
     "text": [
      "Tue Sep  6 11:39:12 EDT 2022\n"
     ]
    }
   ],
   "source": [
    "!date"
   ]
  },
  {
   "cell_type": "code",
   "execution_count": 123,
   "id": "eaf09dc3",
   "metadata": {},
   "outputs": [
    {
     "data": {
      "text/plain": [
       "'/mmfs1/data/aglinska/BC-fMRI-AE/Notebooks'"
      ]
     },
     "execution_count": 123,
     "metadata": {},
     "output_type": "execute_result"
    }
   ],
   "source": [
    "pwd"
   ]
  },
  {
   "cell_type": "code",
   "execution_count": 179,
   "id": "59dbc59f",
   "metadata": {},
   "outputs": [
    {
     "name": "stdout",
     "output_type": "stream",
     "text": [
      "CPU times: user 16 µs, sys: 21 µs, total: 37 µs\n",
      "Wall time: 42.2 µs\n"
     ]
    }
   ],
   "source": [
    "%%time\n",
    "\n",
    "import numpy as np\n",
    "import pandas as pd\n",
    "import os\n",
    "from matplotlib import pyplot as plt\n",
    "from tqdm import tqdm\n",
    "from helper_funcs import *\n",
    "import shutil\n",
    "from scipy.stats import ttest_ind,ttest_1samp,ttest_rel\n",
    "\n",
    "import umap"
   ]
  },
  {
   "cell_type": "code",
   "execution_count": 207,
   "id": "9fc5b9ce",
   "metadata": {},
   "outputs": [],
   "source": [
    "#analysis_name = 'CVAE_2022-03-25 18:28:49.469238'\n",
    "#analysis_name = 'CVAE_Aug23_new_16DIM_S1558'\n",
    "#analysis_name = 'CVAE_test'\n",
    "#analysis_name = 'CVAE_16n_repl'\n",
    "analysis_name = 'Sep2-DIM_16_16-beta-1e-6-gamma-1-filt64-v5'\n",
    "save_dir = os.path.join('../Assets/tf_weights',analysis_name)"
   ]
  },
  {
   "cell_type": "code",
   "execution_count": 208,
   "id": "bf38b37e",
   "metadata": {},
   "outputs": [],
   "source": [
    "def dummy_ordinal(invec):\n",
    "    unique_values = np.unique(invec)\n",
    "    new_values = np.arange(1,len(unique_values)+1)\n",
    "    new_arr = [new_values[val==unique_values][0] for val in invec]\n",
    "    return new_arr"
   ]
  },
  {
   "cell_type": "code",
   "execution_count": 209,
   "id": "2c7f2394",
   "metadata": {},
   "outputs": [],
   "source": [
    "def flatten_cmat(cmats):\n",
    "    ns = cmats.shape[0]\n",
    "    ni = cmats.shape[-1]\n",
    "    tridx = np.triu_indices(n=ni,k=1)\n",
    "    mat_flat = np.array([cmats[i,:,:][tridx] for i in range(ns)])\n",
    "    return mat_flat"
   ]
  },
  {
   "cell_type": "code",
   "execution_count": 210,
   "id": "309b4a1f",
   "metadata": {},
   "outputs": [],
   "source": [
    "# YEO ROI NAMES\n",
    "rnames = ['LH-Vis-EVC','LH-SomMot-Mot','LH-DorsAttn-Post','LH-DorsAttn-FEF','LH-DorsAttn-PrCv','LH-SalVentAttn-ParOper','LH-SalVentAttn-TempOcc','LH-SalVentAttn-FrOper','LH-SalVentAttn-PFCl','LH-SalVentAttn-Med','LH-Limbic-OFC','LH-Limbic-TempPole','LH-Cont-Par','LH-Cont-Temp','LH-Cont-PFCd','LH-Cont-PFCl','LH-Cont-OFC','LH-Cont-PFCv','LH-Cont-pCun','LH-Cont-Cing','LH-Cont-PFCmp','LH-Default-Par','LH-Default-Temp','LH-Default-PFC','LH-Default-PCC','LH-Default-PHC','RH-Vis-EVC','RH-SomMot-Mot','RH-DorsAttn-Post','RH-DorsAttn-FEF','RH-DorsAttn-PrCv','RH-SalVentAttn-TempOccPar','RH-SalVentAttn-PrC','RH-SalVentAttn-FrOper','RH-SalVentAttn-PFCv','RH-SalVentAttn-PFCl','RH-SalVentAttn-Med','RH-Limbic-OFC','RH-Limbic-TempPole','RH-Cont-Par','RH-Cont-Temp','RH-Cont-PFCv','RH-Cont-PFCl','RH-Cont-pCun','RH-Cont-Cing','RH-Cont-PFCmp','RH-Default-Par','RH-Default-Temp','RH-Default-PFCv','RH-Default-PFCm','RH-Default-PCC']"
   ]
  },
  {
   "cell_type": "code",
   "execution_count": 211,
   "id": "9449469c",
   "metadata": {},
   "outputs": [
    {
     "name": "stdout",
     "output_type": "stream",
     "text": [
      "1026\n",
      "(699, 36)\n",
      "(859, 36)\n"
     ]
    },
    {
     "data": {
      "text/html": [
       "<div>\n",
       "<style scoped>\n",
       "    .dataframe tbody tr th:only-of-type {\n",
       "        vertical-align: middle;\n",
       "    }\n",
       "\n",
       "    .dataframe tbody tr th {\n",
       "        vertical-align: top;\n",
       "    }\n",
       "\n",
       "    .dataframe thead th {\n",
       "        text-align: right;\n",
       "    }\n",
       "</style>\n",
       "<table border=\"1\" class=\"dataframe\">\n",
       "  <thead>\n",
       "    <tr style=\"text-align: right;\">\n",
       "      <th></th>\n",
       "      <th>Unnamed: 0</th>\n",
       "      <th>Unnamed: 0.1</th>\n",
       "      <th>subID</th>\n",
       "      <th>diag</th>\n",
       "      <th>DSMIV</th>\n",
       "      <th>age</th>\n",
       "      <th>gender</th>\n",
       "      <th>handedness_cat</th>\n",
       "      <th>handedness_score</th>\n",
       "      <th>fiq</th>\n",
       "      <th>...</th>\n",
       "      <th>sqc_total</th>\n",
       "      <th>aq_total</th>\n",
       "      <th>comorbidity</th>\n",
       "      <th>bmi</th>\n",
       "      <th>vineland_sum</th>\n",
       "      <th>dataset</th>\n",
       "      <th>siteID</th>\n",
       "      <th>sub</th>\n",
       "      <th>dataset_id</th>\n",
       "      <th>sites_bal</th>\n",
       "    </tr>\n",
       "  </thead>\n",
       "  <tbody>\n",
       "    <tr>\n",
       "      <th>0</th>\n",
       "      <td>2</td>\n",
       "      <td>2</td>\n",
       "      <td>50004</td>\n",
       "      <td>1</td>\n",
       "      <td>1.0</td>\n",
       "      <td>19.09</td>\n",
       "      <td>1</td>\n",
       "      <td>R</td>\n",
       "      <td>NaN</td>\n",
       "      <td>113.0</td>\n",
       "      <td>...</td>\n",
       "      <td>NaN</td>\n",
       "      <td>NaN</td>\n",
       "      <td>NaN</td>\n",
       "      <td>NaN</td>\n",
       "      <td>NaN</td>\n",
       "      <td>ABIDE1</td>\n",
       "      <td>26</td>\n",
       "      <td>sub-0050004</td>\n",
       "      <td>1</td>\n",
       "      <td>26.0</td>\n",
       "    </tr>\n",
       "    <tr>\n",
       "      <th>1</th>\n",
       "      <td>8</td>\n",
       "      <td>8</td>\n",
       "      <td>50010</td>\n",
       "      <td>1</td>\n",
       "      <td>1.0</td>\n",
       "      <td>35.20</td>\n",
       "      <td>1</td>\n",
       "      <td>L</td>\n",
       "      <td>NaN</td>\n",
       "      <td>81.0</td>\n",
       "      <td>...</td>\n",
       "      <td>NaN</td>\n",
       "      <td>NaN</td>\n",
       "      <td>NaN</td>\n",
       "      <td>NaN</td>\n",
       "      <td>NaN</td>\n",
       "      <td>ABIDE1</td>\n",
       "      <td>26</td>\n",
       "      <td>sub-0050010</td>\n",
       "      <td>1</td>\n",
       "      <td>26.0</td>\n",
       "    </tr>\n",
       "    <tr>\n",
       "      <th>2</th>\n",
       "      <td>9</td>\n",
       "      <td>9</td>\n",
       "      <td>50011</td>\n",
       "      <td>1</td>\n",
       "      <td>1.0</td>\n",
       "      <td>16.93</td>\n",
       "      <td>1</td>\n",
       "      <td>L</td>\n",
       "      <td>NaN</td>\n",
       "      <td>111.0</td>\n",
       "      <td>...</td>\n",
       "      <td>NaN</td>\n",
       "      <td>NaN</td>\n",
       "      <td>NaN</td>\n",
       "      <td>NaN</td>\n",
       "      <td>NaN</td>\n",
       "      <td>ABIDE1</td>\n",
       "      <td>26</td>\n",
       "      <td>sub-0050011</td>\n",
       "      <td>1</td>\n",
       "      <td>26.0</td>\n",
       "    </tr>\n",
       "    <tr>\n",
       "      <th>3</th>\n",
       "      <td>10</td>\n",
       "      <td>10</td>\n",
       "      <td>50012</td>\n",
       "      <td>1</td>\n",
       "      <td>1.0</td>\n",
       "      <td>21.48</td>\n",
       "      <td>1</td>\n",
       "      <td>R</td>\n",
       "      <td>NaN</td>\n",
       "      <td>128.0</td>\n",
       "      <td>...</td>\n",
       "      <td>NaN</td>\n",
       "      <td>NaN</td>\n",
       "      <td>NaN</td>\n",
       "      <td>NaN</td>\n",
       "      <td>NaN</td>\n",
       "      <td>ABIDE1</td>\n",
       "      <td>26</td>\n",
       "      <td>sub-0050012</td>\n",
       "      <td>1</td>\n",
       "      <td>26.0</td>\n",
       "    </tr>\n",
       "    <tr>\n",
       "      <th>4</th>\n",
       "      <td>12</td>\n",
       "      <td>12</td>\n",
       "      <td>50014</td>\n",
       "      <td>1</td>\n",
       "      <td>1.0</td>\n",
       "      <td>14.20</td>\n",
       "      <td>1</td>\n",
       "      <td>R</td>\n",
       "      <td>NaN</td>\n",
       "      <td>96.0</td>\n",
       "      <td>...</td>\n",
       "      <td>NaN</td>\n",
       "      <td>NaN</td>\n",
       "      <td>NaN</td>\n",
       "      <td>NaN</td>\n",
       "      <td>NaN</td>\n",
       "      <td>ABIDE1</td>\n",
       "      <td>26</td>\n",
       "      <td>sub-0050014</td>\n",
       "      <td>1</td>\n",
       "      <td>26.0</td>\n",
       "    </tr>\n",
       "    <tr>\n",
       "      <th>...</th>\n",
       "      <td>...</td>\n",
       "      <td>...</td>\n",
       "      <td>...</td>\n",
       "      <td>...</td>\n",
       "      <td>...</td>\n",
       "      <td>...</td>\n",
       "      <td>...</td>\n",
       "      <td>...</td>\n",
       "      <td>...</td>\n",
       "      <td>...</td>\n",
       "      <td>...</td>\n",
       "      <td>...</td>\n",
       "      <td>...</td>\n",
       "      <td>...</td>\n",
       "      <td>...</td>\n",
       "      <td>...</td>\n",
       "      <td>...</td>\n",
       "      <td>...</td>\n",
       "      <td>...</td>\n",
       "      <td>...</td>\n",
       "      <td>...</td>\n",
       "    </tr>\n",
       "    <tr>\n",
       "      <th>1553</th>\n",
       "      <td>2050</td>\n",
       "      <td>746</td>\n",
       "      <td>30163</td>\n",
       "      <td>2</td>\n",
       "      <td>NaN</td>\n",
       "      <td>8.00</td>\n",
       "      <td>2</td>\n",
       "      <td>1.0</td>\n",
       "      <td>81.25</td>\n",
       "      <td>136.0</td>\n",
       "      <td>...</td>\n",
       "      <td>1.0</td>\n",
       "      <td>NaN</td>\n",
       "      <td>none</td>\n",
       "      <td>NaN</td>\n",
       "      <td>NaN</td>\n",
       "      <td>ABIDE2</td>\n",
       "      <td>23</td>\n",
       "      <td>sub-30163</td>\n",
       "      <td>2</td>\n",
       "      <td>NaN</td>\n",
       "    </tr>\n",
       "    <tr>\n",
       "      <th>1554</th>\n",
       "      <td>2051</td>\n",
       "      <td>747</td>\n",
       "      <td>30164</td>\n",
       "      <td>2</td>\n",
       "      <td>NaN</td>\n",
       "      <td>10.00</td>\n",
       "      <td>2</td>\n",
       "      <td>1.0</td>\n",
       "      <td>100.00</td>\n",
       "      <td>115.0</td>\n",
       "      <td>...</td>\n",
       "      <td>2.0</td>\n",
       "      <td>NaN</td>\n",
       "      <td>none</td>\n",
       "      <td>NaN</td>\n",
       "      <td>NaN</td>\n",
       "      <td>ABIDE2</td>\n",
       "      <td>23</td>\n",
       "      <td>sub-30164</td>\n",
       "      <td>2</td>\n",
       "      <td>NaN</td>\n",
       "    </tr>\n",
       "    <tr>\n",
       "      <th>1555</th>\n",
       "      <td>2052</td>\n",
       "      <td>748</td>\n",
       "      <td>30165</td>\n",
       "      <td>2</td>\n",
       "      <td>NaN</td>\n",
       "      <td>12.00</td>\n",
       "      <td>2</td>\n",
       "      <td>1.0</td>\n",
       "      <td>100.00</td>\n",
       "      <td>120.0</td>\n",
       "      <td>...</td>\n",
       "      <td>NaN</td>\n",
       "      <td>NaN</td>\n",
       "      <td>none</td>\n",
       "      <td>NaN</td>\n",
       "      <td>NaN</td>\n",
       "      <td>ABIDE2</td>\n",
       "      <td>23</td>\n",
       "      <td>sub-30165</td>\n",
       "      <td>2</td>\n",
       "      <td>NaN</td>\n",
       "    </tr>\n",
       "    <tr>\n",
       "      <th>1556</th>\n",
       "      <td>2053</td>\n",
       "      <td>749</td>\n",
       "      <td>30166</td>\n",
       "      <td>2</td>\n",
       "      <td>NaN</td>\n",
       "      <td>10.00</td>\n",
       "      <td>2</td>\n",
       "      <td>1.0</td>\n",
       "      <td>100.00</td>\n",
       "      <td>112.0</td>\n",
       "      <td>...</td>\n",
       "      <td>4.0</td>\n",
       "      <td>NaN</td>\n",
       "      <td>tourettes/tics</td>\n",
       "      <td>NaN</td>\n",
       "      <td>NaN</td>\n",
       "      <td>ABIDE2</td>\n",
       "      <td>23</td>\n",
       "      <td>sub-30166</td>\n",
       "      <td>2</td>\n",
       "      <td>NaN</td>\n",
       "    </tr>\n",
       "    <tr>\n",
       "      <th>1557</th>\n",
       "      <td>2054</td>\n",
       "      <td>750</td>\n",
       "      <td>30167</td>\n",
       "      <td>2</td>\n",
       "      <td>NaN</td>\n",
       "      <td>14.00</td>\n",
       "      <td>2</td>\n",
       "      <td>1.0</td>\n",
       "      <td>100.00</td>\n",
       "      <td>100.0</td>\n",
       "      <td>...</td>\n",
       "      <td>4.0</td>\n",
       "      <td>NaN</td>\n",
       "      <td>none</td>\n",
       "      <td>NaN</td>\n",
       "      <td>NaN</td>\n",
       "      <td>ABIDE2</td>\n",
       "      <td>23</td>\n",
       "      <td>sub-30167</td>\n",
       "      <td>2</td>\n",
       "      <td>NaN</td>\n",
       "    </tr>\n",
       "  </tbody>\n",
       "</table>\n",
       "<p>1558 rows × 36 columns</p>\n",
       "</div>"
      ],
      "text/plain": [
       "      Unnamed: 0  Unnamed: 0.1  subID  diag  DSMIV    age  gender  \\\n",
       "0              2             2  50004     1    1.0  19.09       1   \n",
       "1              8             8  50010     1    1.0  35.20       1   \n",
       "2              9             9  50011     1    1.0  16.93       1   \n",
       "3             10            10  50012     1    1.0  21.48       1   \n",
       "4             12            12  50014     1    1.0  14.20       1   \n",
       "...          ...           ...    ...   ...    ...    ...     ...   \n",
       "1553        2050           746  30163     2    NaN   8.00       2   \n",
       "1554        2051           747  30164     2    NaN  10.00       2   \n",
       "1555        2052           748  30165     2    NaN  12.00       2   \n",
       "1556        2053           749  30166     2    NaN  10.00       2   \n",
       "1557        2054           750  30167     2    NaN  14.00       2   \n",
       "\n",
       "     handedness_cat  handedness_score    fiq  ...  sqc_total  aq_total  \\\n",
       "0                 R               NaN  113.0  ...        NaN       NaN   \n",
       "1                 L               NaN   81.0  ...        NaN       NaN   \n",
       "2                 L               NaN  111.0  ...        NaN       NaN   \n",
       "3                 R               NaN  128.0  ...        NaN       NaN   \n",
       "4                 R               NaN   96.0  ...        NaN       NaN   \n",
       "...             ...               ...    ...  ...        ...       ...   \n",
       "1553            1.0             81.25  136.0  ...        1.0       NaN   \n",
       "1554            1.0            100.00  115.0  ...        2.0       NaN   \n",
       "1555            1.0            100.00  120.0  ...        NaN       NaN   \n",
       "1556            1.0            100.00  112.0  ...        4.0       NaN   \n",
       "1557            1.0            100.00  100.0  ...        4.0       NaN   \n",
       "\n",
       "         comorbidity bmi vineland_sum  dataset  siteID          sub  \\\n",
       "0                NaN NaN          NaN   ABIDE1      26  sub-0050004   \n",
       "1                NaN NaN          NaN   ABIDE1      26  sub-0050010   \n",
       "2                NaN NaN          NaN   ABIDE1      26  sub-0050011   \n",
       "3                NaN NaN          NaN   ABIDE1      26  sub-0050012   \n",
       "4                NaN NaN          NaN   ABIDE1      26  sub-0050014   \n",
       "...              ...  ..          ...      ...     ...          ...   \n",
       "1553            none NaN          NaN   ABIDE2      23    sub-30163   \n",
       "1554            none NaN          NaN   ABIDE2      23    sub-30164   \n",
       "1555            none NaN          NaN   ABIDE2      23    sub-30165   \n",
       "1556  tourettes/tics NaN          NaN   ABIDE2      23    sub-30166   \n",
       "1557            none NaN          NaN   ABIDE2      23    sub-30167   \n",
       "\n",
       "      dataset_id  sites_bal  \n",
       "0              1       26.0  \n",
       "1              1       26.0  \n",
       "2              1       26.0  \n",
       "3              1       26.0  \n",
       "4              1       26.0  \n",
       "...          ...        ...  \n",
       "1553           2        NaN  \n",
       "1554           2        NaN  \n",
       "1555           2        NaN  \n",
       "1556           2        NaN  \n",
       "1557           2        NaN  \n",
       "\n",
       "[1558 rows x 36 columns]"
      ]
     },
     "execution_count": 211,
     "metadata": {},
     "output_type": "execute_result"
    }
   ],
   "source": [
    "#df = pd.read_csv('../Data/comb_df.csv')\n",
    "df = pd.read_csv('../Data/df_comb_S1558.csv')\n",
    "df['dataset_id'] = dummy_ordinal(df['dataset'])\n",
    "#df['site_id'] = dummy_ordinal(df['site'])\n",
    "\n",
    "u_sites = np.unique(df['siteID'].values)\n",
    "sites = df['siteID'].values.astype(float)\n",
    "site_ratios = np.array([(df['diag'].values[df['siteID'].values==s]==1).mean() for s in u_sites])\n",
    "bad_sites = u_sites[abs(site_ratios-.5)>.1]\n",
    "sites[df['siteID'].isin(bad_sites).values] = np.nan\n",
    "df['sites_bal'] = sites\n",
    "print((~np.isnan(df['sites_bal'].values)).sum())\n",
    "\n",
    "\n",
    "patients = df['diag'].values==1\n",
    "df_asd = df.iloc[patients]\n",
    "df_td = df.iloc[~patients]\n",
    "\n",
    "print(df_asd.shape)\n",
    "print(df_td.shape)\n",
    "\n",
    "df"
   ]
  },
  {
   "cell_type": "code",
   "execution_count": 212,
   "id": "215e379b",
   "metadata": {},
   "outputs": [
    {
     "name": "stdout",
     "output_type": "stream",
     "text": [
      "(1558, 51, 51)\n",
      "(699, 1275)\n"
     ]
    }
   ],
   "source": [
    "## Load Data\n",
    "#cmats = np.load('../Data/cmats_r51_S1502.npz')['data']\n",
    "cmats = np.load('../Data/cmats_S1558.npz')['cmats']\n",
    "#cmats_rel = np.load('../Data/rel-cmats_r51_S1502.npz')['data']\n",
    "cmats_asd_flat = flatten_cmat(cmats[patients,:,:])\n",
    "\n",
    "print(cmats.shape)\n",
    "#print(cmats_rel.shape)\n",
    "print(cmats_asd_flat.shape)"
   ]
  },
  {
   "cell_type": "code",
   "execution_count": 213,
   "id": "c923da52",
   "metadata": {},
   "outputs": [],
   "source": [
    "def depad(mat,idx=(6,57)):\n",
    "    'depads the cmats'\n",
    "    if mat.ndim==3:\n",
    "        mat_trimmed = mat[:,idx[0]:idx[1],idx[0]:idx[1]]\n",
    "    elif mat.ndim==4:\n",
    "        mat_trimmed = mat[:,:,idx[0]:idx[1],idx[0]:idx[1]]\n",
    "    else:\n",
    "        print(mat.shape)\n",
    "        raise Exception(\"Not implemented\")\n",
    "        \n",
    "    return mat_trimmed"
   ]
  },
  {
   "cell_type": "code",
   "execution_count": 214,
   "id": "8dea9718",
   "metadata": {},
   "outputs": [],
   "source": [
    "def plot_scatterbar(inData,lbls):\n",
    "#inData = [v1,v2]\n",
    "#lbls = ['LH','RH']\n",
    "    n = len(inData)\n",
    "\n",
    "    plt.bar(np.arange(n),[v.mean() for v in inData],alpha=.5)\n",
    "\n",
    "    for i in range(n):\n",
    "        ys = inData[i]\n",
    "        xs = np.ones(ys.shape)*i\n",
    "        xs = xs+(np.random.rand(xs.shape[0])-.5)*.1\n",
    "        plt.scatter(xs,ys);\n",
    "\n",
    "    plt.xticks(np.arange(n),labels=lbls);"
   ]
  },
  {
   "cell_type": "code",
   "execution_count": 215,
   "id": "7303b026",
   "metadata": {},
   "outputs": [
    {
     "ename": "FileNotFoundError",
     "evalue": "[Errno 2] No such file or directory: '../Assets/tf_weights/Sep2-DIM_16_16-beta-1e-6-gamma-1-filt64-v5/results.npz'",
     "output_type": "error",
     "traceback": [
      "\u001b[0;31m---------------------------------------------------------------------------\u001b[0m",
      "\u001b[0;31mFileNotFoundError\u001b[0m                         Traceback (most recent call last)",
      "\u001b[0;32m<timed exec>\u001b[0m in \u001b[0;36m<module>\u001b[0;34m\u001b[0m\n",
      "\u001b[0;32m~/anaconda3/lib/python3.8/site-packages/numpy/lib/npyio.py\u001b[0m in \u001b[0;36mload\u001b[0;34m(file, mmap_mode, allow_pickle, fix_imports, encoding)\u001b[0m\n\u001b[1;32m    426\u001b[0m         \u001b[0mown_fid\u001b[0m \u001b[0;34m=\u001b[0m \u001b[0;32mFalse\u001b[0m\u001b[0;34m\u001b[0m\u001b[0;34m\u001b[0m\u001b[0m\n\u001b[1;32m    427\u001b[0m     \u001b[0;32melse\u001b[0m\u001b[0;34m:\u001b[0m\u001b[0;34m\u001b[0m\u001b[0;34m\u001b[0m\u001b[0m\n\u001b[0;32m--> 428\u001b[0;31m         \u001b[0mfid\u001b[0m \u001b[0;34m=\u001b[0m \u001b[0mopen\u001b[0m\u001b[0;34m(\u001b[0m\u001b[0mos_fspath\u001b[0m\u001b[0;34m(\u001b[0m\u001b[0mfile\u001b[0m\u001b[0;34m)\u001b[0m\u001b[0;34m,\u001b[0m \u001b[0;34m\"rb\"\u001b[0m\u001b[0;34m)\u001b[0m\u001b[0;34m\u001b[0m\u001b[0;34m\u001b[0m\u001b[0m\n\u001b[0m\u001b[1;32m    429\u001b[0m         \u001b[0mown_fid\u001b[0m \u001b[0;34m=\u001b[0m \u001b[0;32mTrue\u001b[0m\u001b[0;34m\u001b[0m\u001b[0;34m\u001b[0m\u001b[0m\n\u001b[1;32m    430\u001b[0m \u001b[0;34m\u001b[0m\u001b[0m\n",
      "\u001b[0;31mFileNotFoundError\u001b[0m: [Errno 2] No such file or directory: '../Assets/tf_weights/Sep2-DIM_16_16-beta-1e-6-gamma-1-filt64-v5/results.npz'"
     ]
    }
   ],
   "source": [
    "%%time\n",
    "\n",
    "data = np.load(os.path.join(save_dir,'results.npz'))\n",
    "data = dict(data)\n",
    "data_keys = list(data.keys())\n",
    "\n",
    "# Z_mu = data['Z_mu']\n",
    "# Z_sigma = data['Z_sigma']\n",
    "# Z = data['Z']\n",
    "# S_mu = data['S_mu']\n",
    "# S_sigma = data['S_sigma']\n",
    "# S = data['S']\n",
    "# Z_sample100 = data['Z_sample100']\n",
    "# S_sample100 = data['S_sample100']\n",
    "\n",
    "# data['recon_td_mu'] = depad(data['recon_td_mu'])\n",
    "# data['recon_asd_mu'] = depad(data['recon_asd_mu'])\n",
    "# data['recon_twin_mu'] = depad(data['recon_twin_mu'])\n",
    "# data['recon_td_samples'] = depad(data['recon_td_samples'])\n",
    "# data['recon_asd_samples'] = depad(data['recon_asd_samples'])\n",
    "# data['recon_twin_samples'] = depad(data['recon_twin_samples'])\n",
    "\n",
    "data['recon_td_mu'] = data['recon_td_mu']\n",
    "data['recon_asd_mu'] = data['recon_asd_mu']\n",
    "data['recon_twin_mu'] = data['recon_twin_mu']\n",
    "data['recon_td_samples'] = data['recon_td_samples']\n",
    "data['recon_asd_samples'] = data['recon_asd_samples']\n",
    "data['recon_twin_samples'] = data['recon_twin_samples']\n",
    "\n",
    "data['Z_asd_sample10'] = data['Z_sample100'][0:10,patients,:]\n",
    "data['S_asd_sample10'] = data['S_sample100'][0:10,patients,:]\n",
    "\n",
    "for key in data_keys:\n",
    "    print(f'{key.center(20)} | {data[key].shape}')"
   ]
  },
  {
   "cell_type": "code",
   "execution_count": 216,
   "id": "aa6c7cf2",
   "metadata": {},
   "outputs": [],
   "source": [
    "v1 = ((cmats[patients,:,:]-data['recon_asd_mu'])**2).mean(axis=-1).mean(axis=-1)\n",
    "v2 = ((cmats[~patients,:,:]-data['recon_td_mu'])**2).mean(axis=-1).mean(axis=-1)\n",
    "v3 = ((cmats[patients,:,:]-data['recon_twin_mu'])**2).mean(axis=-1).mean(axis=-1)"
   ]
  },
  {
   "cell_type": "code",
   "execution_count": 217,
   "id": "4324f604",
   "metadata": {},
   "outputs": [
    {
     "data": {
      "image/png": "[encoded data removed]",
      "text/plain": [
       "<Figure size 432x288 with 1 Axes>"
      ]
     },
     "metadata": {
      "needs_background": "light"
     },
     "output_type": "display_data"
    }
   ],
   "source": [
    "plot_scatterbar([v1,v2,v3],['ASD','TD','Twin'])"
   ]
  },
  {
   "cell_type": "code",
   "execution_count": 218,
   "id": "49953636",
   "metadata": {},
   "outputs": [
    {
     "data": {
      "text/plain": [
       "Ttest_indResult(statistic=7.525696331307493, pvalue=8.828764654904699e-14)"
      ]
     },
     "execution_count": 218,
     "metadata": {},
     "output_type": "execute_result"
    }
   ],
   "source": [
    "ttest_ind(v1,v2)"
   ]
  },
  {
   "cell_type": "code",
   "execution_count": 219,
   "id": "e9c0fc1c",
   "metadata": {},
   "outputs": [
    {
     "data": {
      "text/plain": [
       "Ttest_relResult(statistic=15.742765486635642, pvalue=5.187779235938216e-48)"
      ]
     },
     "execution_count": 219,
     "metadata": {},
     "output_type": "execute_result"
    }
   ],
   "source": [
    "ttest_rel(v1,v3)"
   ]
  },
  {
   "cell_type": "code",
   "execution_count": 220,
   "id": "ae91e83a",
   "metadata": {},
   "outputs": [],
   "source": [
    "m1 = np.random.rand(100,100)\n",
    "m2 = np.random.rand(100,100)\n",
    "m3 = np.random.rand(100,100)"
   ]
  },
  {
   "cell_type": "code",
   "execution_count": null,
   "id": "bb338a86",
   "metadata": {},
   "outputs": [],
   "source": []
  },
  {
   "cell_type": "code",
   "execution_count": 221,
   "id": "de15cf4d",
   "metadata": {},
   "outputs": [],
   "source": [
    "def fit_rsa(rdm_data,rdm_model,measure='pearson',cov=None):\n",
    "    from scipy.stats import kendalltau\n",
    "    from pingouin import partial_corr\n",
    "    \n",
    "    if measure=='pearson':\n",
    "        r = np.corrcoef(get_triu(rdm_data),get_triu(rdm_model))[0,1]\n",
    "    elif measure=='kendall':\n",
    "        r = kendalltau(get_triu(rdm_data),get_triu(rdm_model))[0]\n",
    "    elif measure=='partial_kendall':\n",
    "        arr = pd.DataFrame(np.array([get_triu(rdm_data),get_triu(rdm_model),get_triu(cov)]).transpose(),columns=['x','y','cv1'])\n",
    "        r = partial_corr(data=arr, x='x', y='y', covar='cv1')['r'].values[0]\n",
    "            \n",
    "    return r"
   ]
  },
  {
   "cell_type": "code",
   "execution_count": null,
   "id": "0190e1bc",
   "metadata": {},
   "outputs": [],
   "source": []
  },
  {
   "cell_type": "code",
   "execution_count": null,
   "id": "ff51a151",
   "metadata": {},
   "outputs": [],
   "source": []
  },
  {
   "cell_type": "code",
   "execution_count": 195,
   "id": "57d1cefc",
   "metadata": {},
   "outputs": [],
   "source": [
    "def key_rsa_partial(inMat,key,model_scale,df,return_models=False):\n",
    "    vec = df[key].values\n",
    "    e = np.isnan(vec)\n",
    "\n",
    "    model_rdm = make_RDM(vec[~e],data_scale=model_scale, metric='euclidean')\n",
    "    models = []\n",
    "    model_fit = []\n",
    "\n",
    "    # Make models\n",
    "    for i in range(len(inMat)):\n",
    "        mat = inMat[i]['data']\n",
    "        metric = inMat[i]['metric']\n",
    "        data_scale = inMat[i]['data_scale']\n",
    "\n",
    "        if mat.ndim==3:\n",
    "            model_data = np.array([make_RDM(mat[i,~e,:],data_scale=data_scale, metric=metric) for i in range(10)])\n",
    "        elif mat.ndim==2:\n",
    "            model_data = np.array([make_RDM(mat[~e,:],data_scale=data_scale, metric=metric) for i in range(10)])\n",
    "        models.append(model_data)\n",
    "\n",
    "    \n",
    "    cov = make_RDM(df_asd['siteID'].values[~e],data_scale='ordinal', metric='euclidean')\n",
    "    for m in range(len(models)):\n",
    "        model_fit.append([fit_rsa(models[m][i,:,:],model_rdm,measure='partial_kendall',cov=cov) for i in range(10)])\n",
    "        \n",
    "\n",
    "    res = np.array(model_fit).transpose()\n",
    "\n",
    "    if return_models==True:\n",
    "        return res,models\n",
    "    else:\n",
    "        return res"
   ]
  },
  {
   "cell_type": "code",
   "execution_count": 196,
   "id": "d1b8b66f",
   "metadata": {},
   "outputs": [],
   "source": [
    "def key_rsa(inMat,key,model_scale,df,return_models=False):\n",
    "    vec = df[key].values\n",
    "    e = np.isnan(vec)\n",
    "\n",
    "    model_rdm = make_RDM(vec[~e],data_scale=model_scale, metric='euclidean')\n",
    "    models = []\n",
    "    model_fit = []\n",
    "\n",
    "    # Make models\n",
    "    for i in range(len(inMat)):\n",
    "        mat = inMat[i]['data']\n",
    "        metric = inMat[i]['metric']\n",
    "        data_scale = inMat[i]['data_scale']\n",
    "\n",
    "        if mat.ndim==3:\n",
    "            model_data = np.array([make_RDM(mat[i,~e,:],data_scale=data_scale, metric=metric) for i in range(10)])\n",
    "        elif mat.ndim==2:\n",
    "            model_data = np.array([make_RDM(mat[~e,:],data_scale=data_scale, metric=metric) for i in range(10)])\n",
    "        models.append(model_data)\n",
    "\n",
    "    for m in range(len(models)):\n",
    "        model_fit.append([fit_rsa(models[m][i,:,:],model_rdm,measure='kendall') for i in range(10)])\n",
    "\n",
    "    res = np.array(model_fit).transpose()\n",
    "\n",
    "    if return_models==True:\n",
    "        return res,models\n",
    "    else:\n",
    "        return res"
   ]
  },
  {
   "cell_type": "code",
   "execution_count": 197,
   "id": "e18da2fc",
   "metadata": {},
   "outputs": [],
   "source": [
    "def plot_nice_bar(key,rsa,ax=None,figsize=None,dpi=None,fontsize=None,fontsize_star=None,fontweight=None,line_width=None,marker_size=None,title=None,report_t=False,do_pairwise_stars=False,do_one_sample_stars=True,lbls=['VAE','BG','SL']):\n",
    "    \n",
    "    import seaborn as sns\n",
    "    from scipy.stats import ttest_1samp\n",
    "    from scipy.stats import ttest_ind as ttest\n",
    "    \n",
    "    pallete = sns.color_palette()\n",
    "    pallete_new = sns.color_palette()\n",
    "    \n",
    "    if not figsize:\n",
    "        figsize = (5,2)\n",
    "    if not dpi:\n",
    "        dpi = 300\n",
    "        \n",
    "    if not ax:\n",
    "        fig, ax = plt.subplots(1,1,figsize=figsize,dpi=dpi)\n",
    "\n",
    "    pallete_new[1]=pallete[0]\n",
    "    pallete_new[0]=pallete[1]\n",
    "    pallete_new[0] = tuple(np.array((.5,.5,.5)))\n",
    "\n",
    "    data=rsa[key]\n",
    "    n = data.shape[0]\n",
    "    c = data.shape[1]\n",
    "    x = np.arange(c)\n",
    "    \n",
    "    if not fontsize:\n",
    "        fontsize = 16\n",
    "        \n",
    "    if not fontsize_star:\n",
    "        fontsize_star = 25\n",
    "    if not fontweight:        \n",
    "        fontweight = 'bold'\n",
    "    if not line_width:    \n",
    "        line_width = 2.5\n",
    "    if not marker_size:            \n",
    "        marker_size = .1\n",
    "\n",
    "\n",
    "    for i in range(c):\n",
    "        plot_data = np.zeros(data.shape)\n",
    "        plot_data[:,i] = data[:,i]\n",
    "\n",
    "        xs = np.repeat(i,n)+(np.random.rand(n)-.5)*.25\n",
    "        sc = plt.scatter(xs,data[:,i],c='k',s = marker_size)\n",
    "        b = sns.barplot(data=plot_data,errcolor='r',linewidth=line_width,errwidth=line_width,facecolor=np.hstack((np.array(pallete_new[i]),.3)),edgecolor=np.hstack((np.array(pallete_new[i]),1)))\n",
    "\n",
    "    locs, labels = plt.yticks()  \n",
    "    new_y = locs\n",
    "    new_y = np.linspace(locs[0],locs[-1],6)\n",
    "    plt.yticks(new_y,labels=[f'{yy:.2f}' for yy in new_y],fontsize=fontsize,fontweight=fontweight)\n",
    "    plt.ylabel('model fit (r)',fontsize=fontsize,fontweight=fontweight)\n",
    "\n",
    "    ax.spines['top'].set_visible(False)\n",
    "    ax.spines['right'].set_visible(False)\n",
    "    ax.spines['bottom'].set_visible(False)\n",
    "\n",
    "    for axis in ['top','bottom','left','right']:\n",
    "            ax.spines[axis].set_linewidth(line_width)\n",
    "\n",
    "    xlbls = lbls.copy()\n",
    "    \n",
    "    plt.xticks(np.arange(len(xlbls)),labels=xlbls,fontsize=fontsize,fontweight=fontweight)\n",
    "    \n",
    "    if do_one_sample_stars:\n",
    "        one_sample = np.array([ttest_1samp(data[:,i],0) for i in range(len(xlbls))])\n",
    "        one_sample_thresh = np.array((1,.05,.001,.0001))\n",
    "        one_sample_stars = np.array(('n.s.','*','**','***'))\n",
    "        xlbls = lbls.copy()\n",
    "        for i in range(1,c):\n",
    "            these_stars = one_sample_stars[max(np.nonzero(one_sample[i,1]<one_sample_thresh)[0])]\n",
    "            xlbls[i] = f'{xlbls[i]}\\n({these_stars})'\n",
    "        plt.xticks(np.arange(len(xlbls)),labels=xlbls,fontsize=fontsize,fontweight=fontweight,horizontalalignment='center',multialignment='center')\n",
    "\n",
    "    pairwise_t = np.zeros((3,3))\n",
    "    pairwise_p = np.zeros((3,3))\n",
    "\n",
    "    pairwise_sample_thresh = np.array((1,.05,.001,.0001))\n",
    "    pairwise_sample_stars = np.array(('n.s.','*','**','***'))\n",
    "\n",
    "    if report_t:\n",
    "        for i in range(c):\n",
    "            for j in range(c):\n",
    "                t,p = ttest(data[:,i],data[:,j])\n",
    "                mnames = lbls.copy()\n",
    "\n",
    "                if p > .001:\n",
    "                    print(f'{key} {mnames[i]} >  {mnames[j]} | t({data.shape[0]-1}) = {t:.2f} p = {p:.2f}')\n",
    "                else:\n",
    "                    print(f'{key} {mnames[i]} >  {mnames[j]} | t({data.shape[0]-1}) = {t:.2f} p $<$ .001')\n",
    "                pairwise_t[i,j] = t\n",
    "                pairwise_p[i,j] = p\n",
    "\n",
    "    comps = [[1,2]]\n",
    "    if do_pairwise_stars:\n",
    "        for comp_idx in range(len(comps)):\n",
    "            this_comp = comps[comp_idx]\n",
    "            sig_idx = max(np.nonzero(pairwise_p[this_comp[0],this_comp[1]]<pairwise_sample_thresh)[0])\n",
    "            max_y = new_y[-1] + comp_idx*.05\n",
    "            xs = np.array(this_comp)\n",
    "            stars = pairwise_sample_stars[sig_idx]\n",
    "            plt.plot(xs,[max_y,max_y],'k',linewidth=line_width)\n",
    "            plt.text(xs.mean(),max_y,stars,fontsize=fontsize_star,horizontalalignment='center',fontweight=fontweight)\n",
    "        \n",
    "    ylim = plt.ylim()\n",
    "    plt.ylim(np.array(ylim)*(1,1.1))\n",
    "    \n",
    "    if not title:\n",
    "        plt.title(key,fontsize=fontsize*1.5,pad=2,fontweight=fontweight)    \n",
    "    else:\n",
    "        plt.title(title,fontsize=fontsize*1.5,pad=2,fontweight=fontweight)"
   ]
  },
  {
   "cell_type": "code",
   "execution_count": null,
   "id": "f7947dba",
   "metadata": {},
   "outputs": [],
   "source": []
  },
  {
   "cell_type": "code",
   "execution_count": null,
   "id": "049c9c5e",
   "metadata": {},
   "outputs": [],
   "source": []
  },
  {
   "cell_type": "code",
   "execution_count": null,
   "id": "317c2810",
   "metadata": {},
   "outputs": [],
   "source": []
  },
  {
   "cell_type": "code",
   "execution_count": 198,
   "id": "6e503e06",
   "metadata": {},
   "outputs": [],
   "source": [
    "diffmat = (data['recon_asd_mu']-data['recon_twin_mu'])"
   ]
  },
  {
   "cell_type": "code",
   "execution_count": 199,
   "id": "435fdc1b",
   "metadata": {},
   "outputs": [],
   "source": [
    "v1 = {'label' : 'CMAT', 'data' : cmats_asd_flat, 'data_scale' : 'ratio', 'metric' : 'euclidean'}\n",
    "v2 = {'label' : 'DMAT', 'data' : flatten_cmat(diffmat), 'data_scale' : 'ratio', 'metric' : 'euclidean'}\n",
    "v3 = {'label' : 'BG', 'data' : data['Z_asd_sample10'], 'data_scale' : 'ratio', 'metric' : 'euclidean'}\n",
    "v4 = {'label' : 'SL', 'data' : data['S_asd_sample10'], 'data_scale' : 'ratio', 'metric' : 'euclidean'}"
   ]
  },
  {
   "cell_type": "code",
   "execution_count": null,
   "id": "8e857c22",
   "metadata": {},
   "outputs": [],
   "source": []
  },
  {
   "cell_type": "code",
   "execution_count": 200,
   "id": "9377c366",
   "metadata": {},
   "outputs": [],
   "source": [
    "inMat = [v1,v2,v3,v4]"
   ]
  },
  {
   "cell_type": "code",
   "execution_count": 201,
   "id": "25a570e9",
   "metadata": {},
   "outputs": [
    {
     "name": "stderr",
     "output_type": "stream",
     "text": [
      "100%|██████████| 10/10 [01:13<00:00,  7.38s/it]\n"
     ]
    }
   ],
   "source": [
    "rsa_res = dict()\n",
    "#keys = ['dataset_id', 'sites_bal','age', 'sex', 'fiq','DSMIV','ados_total', 'ados_social', 'ados_comm', 'ados_rrb']\n",
    "keys = ['dataset_id', 'sites_bal','age', 'gender', 'fiq','DSMIV','ados_total', 'ados_social', 'ados_comm', 'ados_rrb']\n",
    "data_scale = ['ordinal', 'ordinal','ratio', 'ordinal', 'ratio','ordinal','ratio', 'ratio', 'ratio', 'ratio']\n",
    "\n",
    "for i in tqdm(range(len(keys))):\n",
    "    rsa_res.update({keys[i] : key_rsa(inMat,keys[i],df=df_asd,model_scale=data_scale[i])})"
   ]
  },
  {
   "cell_type": "code",
   "execution_count": 202,
   "id": "8502f023",
   "metadata": {},
   "outputs": [
    {
     "name": "stderr",
     "output_type": "stream",
     "text": [
      "100%|██████████| 10/10 [01:22<00:00,  8.29s/it]\n"
     ]
    }
   ],
   "source": [
    "rsa_res2 = dict()\n",
    "#keys = ['dataset_id', 'sites_bal','age', 'sex', 'fiq','DSMIV','ados_total', 'ados_social', 'ados_comm', 'ados_rrb']\n",
    "keys = ['dataset_id', 'sites_bal','age', 'gender', 'fiq','DSMIV','ados_total', 'ados_social', 'ados_comm', 'ados_rrb']\n",
    "data_scale = ['ordinal', 'ordinal','ratio', 'ordinal', 'ratio','ordinal','ratio', 'ratio', 'ratio', 'ratio']\n",
    "\n",
    "for i in tqdm(range(len(keys))):\n",
    "    rsa_res2.update({keys[i] : key_rsa_partial(inMat,keys[i],df=df_asd,model_scale=data_scale[i])})"
   ]
  },
  {
   "cell_type": "code",
   "execution_count": null,
   "id": "6fbaa9a3",
   "metadata": {},
   "outputs": [],
   "source": []
  },
  {
   "cell_type": "code",
   "execution_count": null,
   "id": "5380154d",
   "metadata": {},
   "outputs": [],
   "source": []
  },
  {
   "cell_type": "code",
   "execution_count": 203,
   "id": "7d28b1c4",
   "metadata": {},
   "outputs": [
    {
     "data": {
      "image/png": "[encoded data removed]",
      "text/plain": [
       "<Figure size 864x1152 with 10 Axes>"
      ]
     },
     "metadata": {
      "needs_background": "light"
     },
     "output_type": "display_data"
    }
   ],
   "source": [
    "ncols = 3\n",
    "nrows = int(np.ceil(len(keys)/3))\n",
    "plt.figure(figsize=np.array((ncols,nrows))*4)\n",
    "\n",
    "for i,key in enumerate(keys):\n",
    "    ax = plt.subplot(nrows,ncols,i+1)\n",
    "    plot_nice_bar(key,rsa_res,\n",
    "                  ax=ax,figsize=None,\n",
    "                  dpi=300,fontsize=12,\n",
    "                  fontsize_star=12,\n",
    "                  fontweight='bold',\n",
    "                  line_width=2.5,\n",
    "                  marker_size=12,title=keys[i],lbls=[inMat[j]['label'] for j in range(len(inMat))])\n",
    "    \n",
    "plt.subplots_adjust(\n",
    "    left=None,\n",
    "    bottom=None,\n",
    "    right=None,\n",
    "    top=None,\n",
    "    wspace=.5,\n",
    "    hspace=.5)"
   ]
  },
  {
   "cell_type": "code",
   "execution_count": 204,
   "id": "92ca5834",
   "metadata": {},
   "outputs": [],
   "source": [
    "temp = [rsa_res[key][0,:] for key in rsa_res.keys()]\n",
    "temp = np.array(temp)\n",
    "rsa_df = pd.DataFrame(temp.transpose(),columns=['dataset_id', 'sites_bal','age', 'gender', 'fiq','DSMIV','ados_total', 'ados_social', 'ados_comm', 'ados_rrb'])\n",
    "rsa_df['feat'] = ['CMAT','DMAT','BG','SL']\n",
    "rsa_df.to_csv(os.path.join(save_dir,'rsa_df.csv'))"
   ]
  },
  {
   "cell_type": "code",
   "execution_count": 205,
   "id": "ca04992b",
   "metadata": {},
   "outputs": [
    {
     "data": {
      "image/png": "[encoded data removed]",
      "text/plain": [
       "<Figure size 864x1152 with 10 Axes>"
      ]
     },
     "metadata": {
      "needs_background": "light"
     },
     "output_type": "display_data"
    }
   ],
   "source": [
    "ncols = 3\n",
    "nrows = int(np.ceil(len(keys)/3))\n",
    "plt.figure(figsize=np.array((ncols,nrows))*4)\n",
    "\n",
    "for i,key in enumerate(keys):\n",
    "    ax = plt.subplot(nrows,ncols,i+1)\n",
    "    plot_nice_bar(key,rsa_res2,\n",
    "                  ax=ax,figsize=None,\n",
    "                  dpi=300,fontsize=12,\n",
    "                  fontsize_star=12,\n",
    "                  fontweight='bold',\n",
    "                  line_width=2.5,\n",
    "                  marker_size=12,title=keys[i],lbls=[inMat[j]['label'] for j in range(len(inMat))])\n",
    "    \n",
    "plt.subplots_adjust(\n",
    "    left=None,\n",
    "    bottom=None,\n",
    "    right=None,\n",
    "    top=None,\n",
    "    wspace=.5,\n",
    "    hspace=.5)"
   ]
  },
  {
   "cell_type": "code",
   "execution_count": 206,
   "id": "04295d17",
   "metadata": {},
   "outputs": [],
   "source": [
    "temp = [rsa_res2[key][0,:] for key in rsa_res.keys()]\n",
    "temp = np.array(temp)\n",
    "rsa_df = pd.DataFrame(temp.transpose(),columns=['dataset_id', 'sites_bal','age', 'gender', 'fiq','DSMIV','ados_total', 'ados_social', 'ados_comm', 'ados_rrb'])\n",
    "rsa_df['feat'] = ['CMAT','DMAT','BG','SL']\n",
    "rsa_df.to_csv(os.path.join(save_dir,'rsa_df_partialled.csv'))"
   ]
  },
  {
   "cell_type": "code",
   "execution_count": null,
   "id": "37e41875",
   "metadata": {},
   "outputs": [],
   "source": []
  },
  {
   "cell_type": "code",
   "execution_count": null,
   "id": "5cf489f2",
   "metadata": {},
   "outputs": [],
   "source": []
  },
  {
   "cell_type": "code",
   "execution_count": null,
   "id": "e2b182cc",
   "metadata": {},
   "outputs": [],
   "source": []
  },
  {
   "cell_type": "code",
   "execution_count": null,
   "id": "a3edc446",
   "metadata": {},
   "outputs": [],
   "source": []
  },
  {
   "cell_type": "code",
   "execution_count": null,
   "id": "2ab68ee0",
   "metadata": {},
   "outputs": [],
   "source": []
  },
  {
   "cell_type": "code",
   "execution_count": null,
   "id": "7a9494f8",
   "metadata": {},
   "outputs": [],
   "source": []
  },
  {
   "cell_type": "code",
   "execution_count": null,
   "id": "fb464de2",
   "metadata": {},
   "outputs": [],
   "source": []
  },
  {
   "cell_type": "code",
   "execution_count": null,
   "id": "8351af48",
   "metadata": {},
   "outputs": [],
   "source": []
  },
  {
   "cell_type": "code",
   "execution_count": null,
   "id": "787a89ba",
   "metadata": {},
   "outputs": [],
   "source": []
  },
  {
   "cell_type": "code",
   "execution_count": null,
   "id": "d559b496",
   "metadata": {},
   "outputs": [],
   "source": []
  },
  {
   "cell_type": "code",
   "execution_count": null,
   "id": "d95ba149",
   "metadata": {},
   "outputs": [],
   "source": []
  },
  {
   "cell_type": "code",
   "execution_count": null,
   "id": "a059176d",
   "metadata": {},
   "outputs": [],
   "source": []
  },
  {
   "cell_type": "code",
   "execution_count": null,
   "id": "3ee1730e",
   "metadata": {},
   "outputs": [],
   "source": []
  },
  {
   "cell_type": "code",
   "execution_count": null,
   "id": "fcb60923",
   "metadata": {},
   "outputs": [],
   "source": []
  },
  {
   "cell_type": "code",
   "execution_count": null,
   "id": "f90ca776",
   "metadata": {},
   "outputs": [],
   "source": []
  },
  {
   "cell_type": "code",
   "execution_count": null,
   "id": "6008a63b",
   "metadata": {},
   "outputs": [],
   "source": []
  },
  {
   "cell_type": "code",
   "execution_count": null,
   "id": "8b6bafd3",
   "metadata": {},
   "outputs": [],
   "source": []
  },
  {
   "cell_type": "code",
   "execution_count": null,
   "id": "295ce112",
   "metadata": {},
   "outputs": [],
   "source": []
  },
  {
   "cell_type": "code",
   "execution_count": null,
   "id": "e702777f",
   "metadata": {},
   "outputs": [],
   "source": []
  },
  {
   "cell_type": "code",
   "execution_count": 31,
   "id": "ffbcabee",
   "metadata": {},
   "outputs": [
    {
     "name": "stderr",
     "output_type": "stream",
     "text": [
      "100%|██████████| 5/5 [00:41<00:00,  8.33s/it]\n"
     ]
    }
   ],
   "source": [
    "td1 = {'label' : 'CMAT', 'data' : flatten_cmat(cmats[~patients,:,:]), 'data_scale' : 'ratio', 'metric' : 'euclidean'}\n",
    "td2 = {'label' : 'BG', 'data' : data['Z_mu'][~patients,:], 'data_scale' : 'ratio', 'metric' : 'euclidean'}\n",
    "td3 = {'label' : 'SL', 'data' : data['S_mu'][~patients,:], 'data_scale' : 'ratio', 'metric' : 'euclidean'}\n",
    "tdMat = [td1,td2,td3]\n",
    "\n",
    "rsa_res_td = dict()\n",
    "#keys = ['dataset_id', 'sites_bal','age', 'sex', 'fiq']\n",
    "keys = ['dataset_id', 'sites_bal','age', 'gender', 'fiq']\n",
    "data_scale = ['ordinal', 'ordinal','ratio', 'ordinal', 'ratio']\n",
    "\n",
    "for i in tqdm(range(len(keys))):\n",
    "    rsa_res_td.update({keys[i] : key_rsa(tdMat,keys[i],df=df.iloc[~patients],model_scale=data_scale[i])})"
   ]
  },
  {
   "cell_type": "code",
   "execution_count": 32,
   "id": "f78b75aa",
   "metadata": {},
   "outputs": [
    {
     "data": {
      "image/png": "[encoded data removed]",
      "text/plain": [
       "<Figure size 864x576 with 5 Axes>"
      ]
     },
     "metadata": {
      "needs_background": "light"
     },
     "output_type": "display_data"
    }
   ],
   "source": [
    "ncols = 3\n",
    "nrows = int(np.ceil(len(keys)/3))\n",
    "plt.figure(figsize=np.array((ncols,nrows))*4)\n",
    "\n",
    "for i,key in enumerate(keys):\n",
    "    ax = plt.subplot(nrows,ncols,i+1)\n",
    "    plot_nice_bar(key,rsa_res_td,\n",
    "                  ax=ax,figsize=None,\n",
    "                  dpi=300,fontsize=12,\n",
    "                  fontsize_star=12,\n",
    "                  fontweight='bold',\n",
    "                  line_width=2.5,\n",
    "                  marker_size=12,title=keys[i],lbls=[tdMat[j]['label'] for j in range(len(tdMat))])\n",
    "    \n",
    "plt.subplots_adjust(\n",
    "    left=None,\n",
    "    bottom=None,\n",
    "    right=None,\n",
    "    top=None,\n",
    "    wspace=.5,\n",
    "    hspace=.5)"
   ]
  },
  {
   "cell_type": "code",
   "execution_count": null,
   "id": "1e4168c5",
   "metadata": {},
   "outputs": [],
   "source": []
  },
  {
   "cell_type": "code",
   "execution_count": 33,
   "id": "d65ba591",
   "metadata": {},
   "outputs": [
    {
     "data": {
      "text/plain": [
       "0.882689556509299"
      ]
     },
     "execution_count": 33,
     "metadata": {},
     "output_type": "execute_result"
    }
   ],
   "source": [
    "(df.iloc[patients]['gender'].values==1).mean()"
   ]
  },
  {
   "cell_type": "code",
   "execution_count": 34,
   "id": "b1b3bbd2",
   "metadata": {},
   "outputs": [
    {
     "data": {
      "text/plain": [
       "0.7613504074505238"
      ]
     },
     "execution_count": 34,
     "metadata": {},
     "output_type": "execute_result"
    }
   ],
   "source": [
    "(df.iloc[~patients]['gender'].values==1).mean()"
   ]
  },
  {
   "cell_type": "code",
   "execution_count": null,
   "id": "c6e29888",
   "metadata": {},
   "outputs": [],
   "source": []
  },
  {
   "cell_type": "code",
   "execution_count": null,
   "id": "2354c2c9",
   "metadata": {},
   "outputs": [],
   "source": []
  },
  {
   "cell_type": "code",
   "execution_count": null,
   "id": "d8442b05",
   "metadata": {},
   "outputs": [],
   "source": [
    "def get_bic(inMat,k,covariance_type='full'):\n",
    "    from sklearn.mixture import GaussianMixture as gmm\n",
    "    \n",
    "    model = gmm(n_components=k,covariance_type=covariance_type)\n",
    "    model.fit(inMat)\n",
    "    return model.bic(inMat)\n",
    "\n",
    "def get_bic_range(inMat,ks,covariance_type='full'):\n",
    "    return [get_bic(inMat,k=i,covariance_type=covariance_type) for i in ks]\n",
    "\n",
    "def norm(vec):\n",
    "    return (vec - vec.min()) / (vec.max()-vec.min())"
   ]
  },
  {
   "cell_type": "code",
   "execution_count": null,
   "id": "f74a3a8b",
   "metadata": {},
   "outputs": [],
   "source": [
    "bic_z = np.array([get_bic_range(data['Z_mu'][patients,:],np.arange(2,11)) for i in tqdm(range(100))])\n",
    "bic_s = np.array([get_bic_range(data['S_mu'][patients,:],np.arange(2,11)) for i in tqdm(range(100))])"
   ]
  },
  {
   "cell_type": "code",
   "execution_count": null,
   "id": "28c65341",
   "metadata": {},
   "outputs": [],
   "source": [
    "plt.figure(figsize=(20,5))\n",
    "plt.subplot(1,3,1);\n",
    "plt.plot(bic_z.mean(axis=0))\n",
    "plt.fill_between(np.arange(9),y1=bic_z.min(axis=0),y2=bic_z.max(axis=0),alpha=.5)\n",
    "plt.title('Z BIC');\n",
    "plt.xticks(np.arange(9),labels=np.arange(2,11));\n",
    "\n",
    "\n",
    "plt.subplot(1,3,2);\n",
    "plt.plot(bic_s.mean(axis=0))\n",
    "plt.fill_between(np.arange(9),y1=bic_s.min(axis=0),y2=bic_s.max(axis=0),alpha=.5)\n",
    "plt.title('S BIC');\n",
    "plt.xticks(np.arange(9),labels=np.arange(2,11));\n",
    "\n",
    "plt.subplot(1,3,3)\n",
    "plt.plot(norm(bic_z.mean(axis=0)))\n",
    "plt.plot(norm(bic_s.mean(axis=0)))\n",
    "plt.xticks(np.arange(9),labels=np.arange(2,11));"
   ]
  },
  {
   "cell_type": "code",
   "execution_count": null,
   "id": "724fd129",
   "metadata": {},
   "outputs": [],
   "source": [
    "from sklearn.metrics import adjusted_rand_score\n",
    "from sklearn.cluster import KMeans\n",
    "from sklearn.decomposition import PCA\n",
    "# c_idx_s = KMeans(n_clusters=3).fit_predict(data['S_mu'][patients,:])\n",
    "# c_idx_z = KMeans(n_clusters=3).fit_predict(data['Z_mu'][patients,:])\n",
    "# adjusted_rand_score(c_idx_s,c_idx_z)"
   ]
  },
  {
   "cell_type": "code",
   "execution_count": null,
   "id": "6879aaf5",
   "metadata": {},
   "outputs": [],
   "source": [
    "data.keys()"
   ]
  },
  {
   "cell_type": "code",
   "execution_count": null,
   "id": "859ed17c",
   "metadata": {},
   "outputs": [],
   "source": [
    "diff_sim = np.corrcoef(flatten_cmat(diffmat))\n",
    "diff_sim[np.isnan(diff_sim)]=0"
   ]
  },
  {
   "cell_type": "code",
   "execution_count": null,
   "id": "d877c414",
   "metadata": {},
   "outputs": [],
   "source": [
    "plt.imshow(diff_sim)"
   ]
  },
  {
   "cell_type": "code",
   "execution_count": null,
   "id": "5a79a663",
   "metadata": {},
   "outputs": [],
   "source": [
    "bic_d = np.array([get_bic_range(diff_sim,np.arange(2,101),covariance_type='spherical') for i in tqdm(range(10))])"
   ]
  },
  {
   "cell_type": "code",
   "execution_count": null,
   "id": "e09705eb",
   "metadata": {},
   "outputs": [],
   "source": [
    "plt.figure(figsize=(25,5))\n",
    "plt.plot(bic_d.mean(axis=0))\n",
    "plt.fill_between(np.arange(bic_d.shape[1]),y1=bic_d.min(axis=0),y2=bic_d.max(axis=0),alpha=.5)\n",
    "plt.title('D BIC');\n",
    "plt.xticks(np.arange(bic_d.shape[1]),labels=np.arange(2,2+bic_d.shape[1]));"
   ]
  },
  {
   "cell_type": "code",
   "execution_count": null,
   "id": "05b7c0cd",
   "metadata": {},
   "outputs": [],
   "source": [
    "f'Clusters in diffsim = {np.argmin(bic_d.mean(axis=0))+2}'"
   ]
  },
  {
   "cell_type": "code",
   "execution_count": null,
   "id": "566ef25d",
   "metadata": {},
   "outputs": [],
   "source": [
    "#c_idx_s = KMeans(n_clusters=3).fit_predict(PCA(n_components=5).fit_transform(flatten_cmat(diffmat)))\n",
    "c_idx_s = KMeans(n_clusters=12).fit_predict(diff_sim)\n",
    "uc = np.unique(c_idx_s)\n",
    "\n",
    "plt.figure(figsize=(20,20))\n",
    "for i in range(12):\n",
    "    plt.subplot(3,4,i+1)\n",
    "    plt.imshow(diffmat[c_idx_s==uc[i],:,:].mean(axis=0))\n",
    "    plt.xticks([]);plt.yticks([]);\n",
    "    plt.clim(-.1,.1)\n",
    "    plt.title(i)\n",
    "\n",
    "plt.subplots_adjust(\n",
    "    left=0,\n",
    "    bottom=0,\n",
    "    right=0.5,\n",
    "    top=0.5,\n",
    "    wspace=0.1,\n",
    "    hspace=0.1)"
   ]
  },
  {
   "cell_type": "code",
   "execution_count": null,
   "id": "a6e53b9e",
   "metadata": {},
   "outputs": [],
   "source": [
    "plt.figure(figsize=np.array((25,20))*.5)\n",
    "sns.heatmap(diffmat.mean(axis=0),xticklabels=rnames,yticklabels=rnames)"
   ]
  },
  {
   "cell_type": "code",
   "execution_count": null,
   "id": "e016eddb",
   "metadata": {},
   "outputs": [],
   "source": [
    "#ys = abs(diffmat).sum(axis=1).mean(axis=0)\n",
    "ys = diffmat.sum(axis=1).mean(axis=0)\n",
    "xs = np.arange(len(ys))\n",
    "\n",
    "plt.figure(figsize=(5,20))\n",
    "plt.barh(xs,ys)\n",
    "plt.yticks(xs,labels=rnames,rotation=0);"
   ]
  },
  {
   "cell_type": "code",
   "execution_count": null,
   "id": "4f0c3512",
   "metadata": {},
   "outputs": [],
   "source": [
    "from scipy.stats import ttest_1samp"
   ]
  },
  {
   "cell_type": "code",
   "execution_count": null,
   "id": "41c9d884",
   "metadata": {},
   "outputs": [],
   "source": [
    "tmat = np.zeros((51,51))\n",
    "pmat = np.zeros((51,51))\n",
    "for i in range(51):\n",
    "    for j in range(51):\n",
    "        t_res = ttest_1samp(diffmat[:,i,j],0)\n",
    "        tmat[i,j] = t_res[0]\n",
    "        pmat[i,j] = t_res[1]"
   ]
  },
  {
   "cell_type": "code",
   "execution_count": null,
   "id": "aba56b63",
   "metadata": {},
   "outputs": [],
   "source": [
    "plt.subplot(1,2,1)\n",
    "plt.imshow(abs(tmat))\n",
    "plt.subplot(1,2,2)\n",
    "plt.imshow(pmat < .05/len(get_triu(pmat)))"
   ]
  },
  {
   "cell_type": "code",
   "execution_count": null,
   "id": "5d1ef660",
   "metadata": {},
   "outputs": [],
   "source": [
    "idx_lh = np.array([rname.startswith('LH') for rname in rnames])\n",
    "idx_rh = np.array([rname.startswith('RH') for rname in rnames])"
   ]
  },
  {
   "cell_type": "code",
   "execution_count": null,
   "id": "f99ed86d",
   "metadata": {},
   "outputs": [],
   "source": [
    "v1 = abs(flatten_cmat(diffmat[:,idx_lh,:][:,:,idx_lh])).mean(axis=0)\n",
    "v2 = abs(flatten_cmat(diffmat[:,idx_rh,:][:,:,idx_rh])).mean(axis=0)\n",
    "plt.bar([0,1],[v1.mean(),v2.mean()],alpha=.5)\n",
    "\n",
    "ys = v1\n",
    "xs = np.ones(ys.shape)*0\n",
    "xs = xs+(np.random.rand(xs.shape[0])-.5)*.1\n",
    "plt.scatter(xs,ys)\n",
    "\n",
    "ys = v2\n",
    "xs = np.ones(ys.shape)*1\n",
    "xs = xs+(np.random.rand(xs.shape[0])-.5)*.1\n",
    "plt.scatter(xs,ys)\n",
    "\n",
    "plt.xticks([0,1],labels=['LH','RH'])"
   ]
  },
  {
   "cell_type": "code",
   "execution_count": null,
   "id": "474bd67e",
   "metadata": {},
   "outputs": [],
   "source": [
    "nets = np.array([rname.split('-')[1] for rname in rnames])\n",
    "unets = np.unique(nets)"
   ]
  },
  {
   "cell_type": "code",
   "execution_count": null,
   "id": "6d9ee1cc",
   "metadata": {},
   "outputs": [],
   "source": [
    "#netMat = np.zeros((7,7))\n",
    "n = diffmat.shape[0]\n",
    "netMat = np.zeros((n,7,7))\n",
    "tmat = np.zeros((7,7))\n",
    "pmat = np.zeros((7,7))\n",
    "\n",
    "for i in range(7):\n",
    "    for j in range(7):\n",
    "        if i==j:\n",
    "            netMat[:,i,j] = flatten_cmat(diffmat[:,nets==unets[i],:][:,:,nets==unets[j]]).mean(axis=-1).mean(axis=-1)\n",
    "        else:\n",
    "             netMat[:,i,j] = diffmat[:,nets==unets[i],:][:,:,nets==unets[j]].mean(axis=-1).mean(axis=-1)\n",
    "        t = ttest_1samp(netMat[:,i,j],0)\n",
    "        tmat[i,j] = t[0]\n",
    "        pmat[i,j] = t[1]"
   ]
  },
  {
   "cell_type": "code",
   "execution_count": null,
   "id": "62709953",
   "metadata": {},
   "outputs": [],
   "source": [
    "plt.figure(figsize=(10,8))\n",
    "sns.heatmap(netMat.mean(axis=0),annot=True,xticklabels=unets,yticklabels=unets)"
   ]
  },
  {
   "cell_type": "code",
   "execution_count": null,
   "id": "a258fe27",
   "metadata": {},
   "outputs": [],
   "source": [
    "plt.hist(netMat.flatten())"
   ]
  },
  {
   "cell_type": "code",
   "execution_count": null,
   "id": "be5cd746",
   "metadata": {},
   "outputs": [],
   "source": [
    "cmats_asd_flat.shape"
   ]
  },
  {
   "cell_type": "code",
   "execution_count": null,
   "id": "644fa9fb",
   "metadata": {},
   "outputs": [],
   "source": [
    "flatten_cmat(diffmat).shape"
   ]
  },
  {
   "cell_type": "code",
   "execution_count": null,
   "id": "01a1aee3",
   "metadata": {},
   "outputs": [],
   "source": [
    "from sklearn.linear_model import LogisticRegression,LinearRegression,ElasticNet,Ridge\n",
    "from sklearn.svm import SVR\n",
    "from sklearn.model_selection import KFold\n",
    "from sklearn.metrics import r2_score\n",
    "from sklearn.decomposition import PCA"
   ]
  },
  {
   "cell_type": "code",
   "execution_count": null,
   "id": "33db9bfd",
   "metadata": {},
   "outputs": [],
   "source": [
    "vec = df_asd[key].values\n",
    "e = np.isnan(vec)"
   ]
  },
  {
   "cell_type": "code",
   "execution_count": null,
   "id": "795a3402",
   "metadata": {},
   "outputs": [],
   "source": [
    "#X = cmats_asd_flat[~e,:]\n",
    "#X = PCA(n_components=15).fit_transform(X)"
   ]
  },
  {
   "cell_type": "code",
   "execution_count": null,
   "id": "928e07b1",
   "metadata": {},
   "outputs": [],
   "source": [
    "from sklearn.linear_model import LogisticRegression,LinearRegression,ElasticNet,Ridge,BayesianRidge\n",
    "model = BayesianRidge()"
   ]
  },
  {
   "cell_type": "code",
   "execution_count": null,
   "id": "5c58cff5",
   "metadata": {},
   "outputs": [],
   "source": [
    "def loso_crossval(X,Y,model):\n",
    "    n = X.shape[0]\n",
    "    Y_hat = []\n",
    "    for i in tqdm(range(n)):\n",
    "        svec = np.arange(n)\n",
    "\n",
    "        train_idx = svec!=i\n",
    "        test_idx = i\n",
    "\n",
    "        X_train = X[train_idx,:]\n",
    "        Y_train = Y[train_idx]\n",
    "\n",
    "        X_test = X[test_idx,:][np.newaxis,:]\n",
    "        Y_test = Y[test_idx]\n",
    "\n",
    "        Y_hat.append(model.fit(X_train, Y_train).predict(X_test))\n",
    "    Y_hat = np.array(Y_hat)[:,0]\n",
    "    return Y_hat"
   ]
  },
  {
   "cell_type": "code",
   "execution_count": null,
   "id": "52e13463",
   "metadata": {},
   "outputs": [],
   "source": [
    "### PCA"
   ]
  },
  {
   "cell_type": "code",
   "execution_count": null,
   "id": "6a4ba18a",
   "metadata": {},
   "outputs": [],
   "source": [
    "diffmat_asd_flat = flatten_cmat(diffmat)\n",
    "diffmat_asd_flat.shape"
   ]
  },
  {
   "cell_type": "code",
   "execution_count": null,
   "id": "484820a4",
   "metadata": {},
   "outputs": [],
   "source": [
    "reducer = PCA()\n",
    "comps = reducer.fit_transform(diffmat_asd_flat)\n",
    "#comps = UMAP(n_components=10).fit_transform(diffmat_asd_flat)\n",
    "#comps = reducer.fit_transform(cmats_asd_flat)\n",
    "comps.shape"
   ]
  },
  {
   "cell_type": "code",
   "execution_count": null,
   "id": "18322d05",
   "metadata": {},
   "outputs": [],
   "source": [
    "# play = PCA(n_components=3)\n",
    "# play.fit(diffmat_asd_flat)"
   ]
  },
  {
   "cell_type": "code",
   "execution_count": null,
   "id": "7c892bcf",
   "metadata": {},
   "outputs": [],
   "source": [
    "from scipy.spatial.distance import squareform\n",
    "from scipy.stats import pearsonr"
   ]
  },
  {
   "cell_type": "code",
   "execution_count": null,
   "id": "7e646909",
   "metadata": {},
   "outputs": [],
   "source": [
    "#comps[:,0]"
   ]
  },
  {
   "cell_type": "code",
   "execution_count": null,
   "id": "5b1215d7",
   "metadata": {},
   "outputs": [],
   "source": [
    "v1 = {'label' : 'PC1', 'data' : comps[:,0][:,np.newaxis], 'data_scale' : 'ratio', 'metric' : 'euclidean'}\n",
    "v2 = {'label' : 'PC2', 'data' : comps[:,1][:,np.newaxis], 'data_scale' : 'ratio', 'metric' : 'euclidean'}\n",
    "v3 = {'label' : 'PC3', 'data' : comps[:,2][:,np.newaxis], 'data_scale' : 'ratio', 'metric' : 'euclidean'}\n",
    "v4 = {'label' : 'PC4', 'data' : comps[:,3][:,np.newaxis], 'data_scale' : 'ratio', 'metric' : 'euclidean'}\n",
    "v5 = {'label' : 'PC5', 'data' : comps[:,4][:,np.newaxis], 'data_scale' : 'ratio', 'metric' : 'euclidean'}\n",
    "v6 = {'label' : 'PC6', 'data' : comps[:,5][:,np.newaxis], 'data_scale' : 'ratio', 'metric' : 'euclidean'}\n",
    "v7 = {'label' : 'PC7', 'data' : comps[:,6][:,np.newaxis], 'data_scale' : 'ratio', 'metric' : 'euclidean'}\n",
    "v8 = {'label' : 'PC8', 'data' : comps[:,7][:,np.newaxis], 'data_scale' : 'ratio', 'metric' : 'euclidean'}\n",
    "v9 = {'label' : 'PC9', 'data' : comps[:,8][:,np.newaxis], 'data_scale' : 'ratio', 'metric' : 'euclidean'}\n",
    "v10 = {'label' : 'PC10', 'data' : comps[:,9][:,np.newaxis], 'data_scale' : 'ratio', 'metric' : 'euclidean'}"
   ]
  },
  {
   "cell_type": "code",
   "execution_count": null,
   "id": "16c7ea35",
   "metadata": {},
   "outputs": [],
   "source": [
    "inMat = [v1,v2,v3,v4,v5,v6,v7,v8,v9,v10]"
   ]
  },
  {
   "cell_type": "code",
   "execution_count": null,
   "id": "c6933c13",
   "metadata": {},
   "outputs": [],
   "source": [
    "rsa_res = dict()\n",
    "#keys = ['dataset_id', 'sites_bal','age', 'sex', 'fiq','DSMIV','ados_total', 'ados_social', 'ados_comm', 'ados_rrb']\n",
    "keys = ['dataset_id', 'sites_bal','age', 'gender', 'fiq','DSMIV','ados_total', 'ados_social', 'ados_comm', 'ados_rrb']\n",
    "data_scale = ['ordinal', 'ordinal','ratio', 'ordinal', 'ratio','ordinal','ratio', 'ratio', 'ratio', 'ratio']\n",
    "\n",
    "for i in tqdm(range(len(keys))):\n",
    "    rsa_res.update({keys[i] : key_rsa(inMat,keys[i],df=df_asd,model_scale=data_scale[i])})"
   ]
  },
  {
   "cell_type": "code",
   "execution_count": null,
   "id": "62b40dc0",
   "metadata": {},
   "outputs": [],
   "source": [
    "ncols = 3\n",
    "nrows = int(np.ceil(len(keys)/3))\n",
    "plt.figure(figsize=np.array((ncols,nrows))*4)\n",
    "\n",
    "for i,key in enumerate(keys):\n",
    "    ax = plt.subplot(nrows,ncols,i+1)\n",
    "    plot_nice_bar(key,rsa_res,\n",
    "                  ax=ax,figsize=None,\n",
    "                  dpi=300,fontsize=12,\n",
    "                  fontsize_star=12,\n",
    "                  fontweight='bold',\n",
    "                  line_width=2.5,\n",
    "                  marker_size=12,title=keys[i],lbls=[inMat[j]['label'] for j in range(len(inMat))])\n",
    "    \n",
    "plt.subplots_adjust(\n",
    "    left=None,\n",
    "    bottom=None,\n",
    "    right=None,\n",
    "    top=None,\n",
    "    wspace=.5,\n",
    "    hspace=.5)"
   ]
  },
  {
   "cell_type": "code",
   "execution_count": null,
   "id": "71aa9c02",
   "metadata": {},
   "outputs": [],
   "source": []
  },
  {
   "cell_type": "code",
   "execution_count": null,
   "id": "fe3cd9c2",
   "metadata": {},
   "outputs": [],
   "source": [
    "r01 = np.array([pearsonr(diffmat_asd_flat[:,i],comps[:,0]) for i in tqdm(range(diffmat_asd_flat.shape[1]))])\n",
    "r02 = np.array([pearsonr(diffmat_asd_flat[:,i],comps[:,1]) for i in tqdm(range(diffmat_asd_flat.shape[1]))])\n",
    "r03 = np.array([pearsonr(diffmat_asd_flat[:,i],comps[:,2]) for i in tqdm(range(diffmat_asd_flat.shape[1]))])\n",
    "r04 = np.array([pearsonr(diffmat_asd_flat[:,i],comps[:,3]) for i in tqdm(range(diffmat_asd_flat.shape[1]))])\n",
    "r05 = np.array([pearsonr(diffmat_asd_flat[:,i],comps[:,4]) for i in tqdm(range(diffmat_asd_flat.shape[1]))])\n",
    "r06 = np.array([pearsonr(diffmat_asd_flat[:,i],comps[:,5]) for i in tqdm(range(diffmat_asd_flat.shape[1]))])\n",
    "r07 = np.array([pearsonr(diffmat_asd_flat[:,i],comps[:,6]) for i in tqdm(range(diffmat_asd_flat.shape[1]))])\n",
    "r08 = np.array([pearsonr(diffmat_asd_flat[:,i],comps[:,7]) for i in tqdm(range(diffmat_asd_flat.shape[1]))])\n",
    "r09 = np.array([pearsonr(diffmat_asd_flat[:,i],comps[:,8]) for i in tqdm(range(diffmat_asd_flat.shape[1]))])\n",
    "r10 = np.array([pearsonr(diffmat_asd_flat[:,i],comps[:,9]) for i in tqdm(range(diffmat_asd_flat.shape[1]))])"
   ]
  },
  {
   "cell_type": "code",
   "execution_count": null,
   "id": "aa8e0a84",
   "metadata": {},
   "outputs": [],
   "source": [
    "vec = r02\n",
    "mat1 = squareform(vec[:,0])\n",
    "mat1[squareform(vec[:,1])>.05/1275/10] = np.nan\n",
    "sns.heatmap(mat1)"
   ]
  },
  {
   "cell_type": "code",
   "execution_count": null,
   "id": "3bbf4e65",
   "metadata": {},
   "outputs": [],
   "source": [
    "# ys = np.nansum((mat1)>0,axis=0)\n",
    "# xs = np.arange(len(ys))\n",
    "# lbls = np.array(rnames)\n",
    "\n",
    "# ys = ys[I]\n",
    "# lbls = lbls[I]\n",
    "\n",
    "# plt.figure(figsize=(25,5))\n",
    "# plt.bar(xs,ys,alpha=.5)\n",
    "# plt.xticks(xs,labels=lbls,rotation=90);\n",
    "\n",
    "# ys = np.nansum((mat1)<0,axis=0)\n",
    "# xs = np.arange(len(ys))\n",
    "# plt.bar(xs,ys,alpha=.5)\n",
    "# plt.xticks(xs,labels=lbls,rotation=90);\n",
    "\n",
    "# plt.legend(['over-connected','under-connected'])"
   ]
  },
  {
   "cell_type": "code",
   "execution_count": null,
   "id": "88b6e81c",
   "metadata": {},
   "outputs": [],
   "source": [
    "rlbls = pd.DataFrame()\n",
    "rlbls['rname'] = rnames\n",
    "rlbls['hem'] = [val.split('-')[0] for val in rnames]\n",
    "rlbls['net'] = [val.split('-')[1] for val in rnames]\n",
    "rlbls['roi'] = [val.split('-')[2] for val in rnames]\n",
    "rlbls['idx'] = np.arange(51)\n",
    "rlbls.head()"
   ]
  },
  {
   "cell_type": "code",
   "execution_count": null,
   "id": "cd51f38a",
   "metadata": {},
   "outputs": [],
   "source": [
    "I = rlbls.sort_values(by=['roi','net','hem'])['idx'].values"
   ]
  },
  {
   "cell_type": "code",
   "execution_count": null,
   "id": "46812f48",
   "metadata": {},
   "outputs": [],
   "source": [
    "rlbls.iloc[I]"
   ]
  },
  {
   "cell_type": "code",
   "execution_count": null,
   "id": "4579dcf6",
   "metadata": {},
   "outputs": [],
   "source": [
    "def plot_connGraph(con,node_names):\n",
    "    #N = 20  # Number of nodes\n",
    "    #node_names = [f\"N{i}\" for i in range(N)]  # List of labels [N]\n",
    "\n",
    "    # Random connectivity\n",
    "    #ran = np.random.rand(N,N)-.5\n",
    "    #ran[abs(ran)<.4]=np.nan\n",
    "    #con = ran\n",
    "    from mne.viz.circle import _plot_connectivity_circle\n",
    "    _plot_connectivity_circle(con=con,\n",
    "        node_names=node_names,\n",
    "        indices=None,\n",
    "        n_lines=None,\n",
    "        node_angles=None,\n",
    "        node_width=None,\n",
    "        node_height=None,\n",
    "        node_colors=None,\n",
    "        facecolor='black',\n",
    "        textcolor='white',\n",
    "        node_edgecolor='black',\n",
    "        linewidth=1.5,\n",
    "        colormap='bwr',\n",
    "        vmin=None,\n",
    "        vmax=None,\n",
    "        colorbar=True,\n",
    "        title=None,\n",
    "        colorbar_size=.5,\n",
    "        colorbar_pos=None,\n",
    "        fontsize_title=12,\n",
    "        fontsize_names=8,\n",
    "        fontsize_colorbar=8,\n",
    "        padding=2.0,\n",
    "        ax=None,\n",
    "        interactive=True,\n",
    "        node_linewidth=4.0,\n",
    "        show=True)"
   ]
  },
  {
   "cell_type": "code",
   "execution_count": null,
   "id": "2c75bbdd",
   "metadata": {},
   "outputs": [],
   "source": [
    "from mne.viz import circular_layout\n",
    "from mne.viz.circle import _plot_connectivity_circle"
   ]
  },
  {
   "cell_type": "code",
   "execution_count": null,
   "id": "f5e2b00e",
   "metadata": {},
   "outputs": [],
   "source": []
  },
  {
   "cell_type": "code",
   "execution_count": null,
   "id": "b5ee6a3b",
   "metadata": {},
   "outputs": [],
   "source": [
    "node_order = rnames\n",
    "label_names = rnames"
   ]
  },
  {
   "cell_type": "code",
   "execution_count": null,
   "id": "f2dcb142",
   "metadata": {},
   "outputs": [],
   "source": [
    "plot_mat = mat1\n",
    "plot_lbls = rnames\n",
    "\n",
    "I = np.hstack((np.arange(25,-1,-1),np.arange(26,51,1)))\n",
    "\n",
    "plot_mat = plot_mat[I,:][:,I]\n",
    "plot_lbls = np.array(plot_lbls)[I]\n",
    "\n",
    "net_colors = dict()\n",
    "net_colors['Vis'] = np.array((147,74,146))/ 255\n",
    "net_colors['SomMot'] = np.array((103,144,180))/ 255\n",
    "net_colors['DorsAttn'] = np.array((50,142,60))/ 255\n",
    "net_colors['SalVentAttn'] = np.array((184,102,169))/ 255\n",
    "net_colors['Limbic'] = np.array((247,250,201))/ 255\n",
    "net_colors['Cont'] = np.array((243,177,82))/ 255\n",
    "net_colors['Default'] = np.array((225,99,114)) / 255\n",
    "\n",
    "nets = np.array([val.split('-')[1] for val in plot_lbls])\n",
    "rois = np.array([val.split('-')[2] for val in plot_lbls])\n",
    "\n",
    "node_colors = np.array([net_colors[net] for net in nets ])\n",
    "\n",
    "node_angles = circular_layout(label_names, node_order, start_pos=90,\n",
    "                              group_boundaries=[0, 26])\n",
    "\n",
    "\n",
    "#fig,ax = plt.subplots(1,1,figsize=(10,10))\n",
    "_plot_connectivity_circle(con=plot_mat,\n",
    "        node_names=rois,\n",
    "        indices=None,\n",
    "        n_lines=None,\n",
    "        node_angles=node_angles,\n",
    "        node_width=None,\n",
    "        node_height=None,\n",
    "        node_colors=node_colors,\n",
    "        facecolor='black',\n",
    "        textcolor='white',\n",
    "        node_edgecolor='black',\n",
    "        linewidth=1.5,\n",
    "        colormap='bwr',\n",
    "        vmin=None,\n",
    "        vmax=None,\n",
    "        colorbar=True,\n",
    "        title=None,\n",
    "        colorbar_size=.5,\n",
    "        colorbar_pos=None,\n",
    "        fontsize_title=12,\n",
    "        fontsize_names=12,\n",
    "        fontsize_colorbar=8,\n",
    "        padding=2.0,\n",
    "        ax=None,\n",
    "        interactive=True,\n",
    "        node_linewidth=4.0,\n",
    "        show=True)"
   ]
  },
  {
   "cell_type": "code",
   "execution_count": null,
   "id": "12df16c9",
   "metadata": {},
   "outputs": [],
   "source": []
  },
  {
   "cell_type": "code",
   "execution_count": null,
   "id": "c6927f58",
   "metadata": {},
   "outputs": [],
   "source": [
    "from scipy.cluster.hierarchy import optimal_leaf_ordering\n",
    "from scipy.cluster import hierarchy\n",
    "from scipy.cluster.hierarchy import linkage"
   ]
  },
  {
   "cell_type": "code",
   "execution_count": null,
   "id": "8aa43878",
   "metadata": {},
   "outputs": [],
   "source": [
    "temp = squareform(vec[:,0])"
   ]
  },
  {
   "cell_type": "code",
   "execution_count": null,
   "id": "9087dce3",
   "metadata": {},
   "outputs": [],
   "source": []
  },
  {
   "cell_type": "code",
   "execution_count": null,
   "id": "3b9c3e8a",
   "metadata": {},
   "outputs": [],
   "source": []
  },
  {
   "cell_type": "code",
   "execution_count": null,
   "id": "13353791",
   "metadata": {},
   "outputs": [],
   "source": []
  },
  {
   "cell_type": "code",
   "execution_count": null,
   "id": "6ae4f16b",
   "metadata": {},
   "outputs": [],
   "source": [
    "vec = r03\n",
    "mat1 = squareform(vec[:,0])\n",
    "mat1[squareform(vec[:,1])>.05/(1275*10)] = np.nan\n",
    "\n",
    "plot_mat = mat1\n",
    "plot_lbls = rnames\n",
    "\n",
    "I = np.hstack((np.arange(25,-1,-1),np.arange(26,51,1)))\n",
    "#I = hierarchy.leaves_list(optimal_leaf_ordering(linkage(squareform(vec[:,0])),get_triu(squareform(vec[:,0]))))\n",
    "\n",
    "plot_mat = plot_mat[I,:][:,I]\n",
    "plot_lbls = np.array(plot_lbls)[I]\n",
    "\n",
    "net_colors = dict()\n",
    "net_colors['Vis'] = np.array((147,74,146))/ 255\n",
    "net_colors['SomMot'] = np.array((103,144,180))/ 255\n",
    "net_colors['DorsAttn'] = np.array((50,142,60))/ 255\n",
    "net_colors['SalVentAttn'] = np.array((184,102,169))/ 255\n",
    "net_colors['Limbic'] = np.array((247,250,201))/ 255\n",
    "net_colors['Cont'] = np.array((243,177,82))/ 255\n",
    "net_colors['Default'] = np.array((225,99,114)) / 255\n",
    "\n",
    "nets = np.array([val.split('-')[1] for val in plot_lbls])\n",
    "rois = np.array([val.split('-')[2] for val in plot_lbls])\n",
    "\n",
    "node_colors = np.array([net_colors[net] for net in nets ])\n",
    "\n",
    "node_angles = circular_layout(label_names, node_order, start_pos=90,\n",
    "                              group_boundaries=[0, 26])\n",
    "\n",
    "\n",
    "#fig,ax = plt.subplots(1,1,figsize=(10,10))\n",
    "_plot_connectivity_circle(con=plot_mat,\n",
    "        node_names=rois,\n",
    "        indices=None,\n",
    "        n_lines=None,\n",
    "        node_angles=node_angles,\n",
    "        node_width=None,\n",
    "        node_height=None,\n",
    "        node_colors=node_colors,\n",
    "        facecolor='white',\n",
    "        textcolor='black',\n",
    "        node_edgecolor='white',\n",
    "        linewidth=1.5,\n",
    "        colormap='bwr',\n",
    "        vmin=None,\n",
    "        vmax=None,\n",
    "        colorbar=True,\n",
    "        title=None,\n",
    "        colorbar_size=.5,\n",
    "        colorbar_pos=None,\n",
    "        fontsize_title=12,\n",
    "        fontsize_names=12,\n",
    "        fontsize_colorbar=8,\n",
    "        padding=2.0,\n",
    "        ax=None,\n",
    "        interactive=True,\n",
    "        node_linewidth=4.0,\n",
    "        show=True)"
   ]
  },
  {
   "cell_type": "code",
   "execution_count": null,
   "id": "0658f192",
   "metadata": {},
   "outputs": [],
   "source": [
    "plt.hist(get_triu(mat1))"
   ]
  },
  {
   "cell_type": "code",
   "execution_count": null,
   "id": "d70c08e6",
   "metadata": {},
   "outputs": [],
   "source": [
    "plt.imshow(mat1[I,:][:,I])"
   ]
  },
  {
   "cell_type": "code",
   "execution_count": null,
   "id": "c9266dd6",
   "metadata": {},
   "outputs": [],
   "source": []
  },
  {
   "cell_type": "code",
   "execution_count": null,
   "id": "bb5075ae",
   "metadata": {},
   "outputs": [],
   "source": []
  },
  {
   "cell_type": "code",
   "execution_count": null,
   "id": "8d903c80",
   "metadata": {},
   "outputs": [],
   "source": [
    "vec = reducer.components_[0,:]\n",
    "mat1 = squareform(vec)\n",
    "#mat1[squareform(vec[:,1])>.05/(1275*10)] = np.nan\n",
    "\n",
    "plot_mat = mat1\n",
    "plot_lbls = rnames\n",
    "\n",
    "I = np.hstack((np.arange(25,-1,-1),np.arange(26,51,1)))\n",
    "#I = hierarchy.leaves_list(optimal_leaf_ordering(linkage(squareform(vec[:,0])),get_triu(squareform(vec[:,0]))))\n",
    "\n",
    "plot_mat = plot_mat[I,:][:,I]\n",
    "plot_lbls = np.array(plot_lbls)[I]\n",
    "\n",
    "net_colors = dict()\n",
    "net_colors['Vis'] = np.array((147,74,146))/ 255\n",
    "net_colors['SomMot'] = np.array((103,144,180))/ 255\n",
    "net_colors['DorsAttn'] = np.array((50,142,60))/ 255\n",
    "net_colors['SalVentAttn'] = np.array((184,102,169))/ 255\n",
    "net_colors['Limbic'] = np.array((247,250,201))/ 255\n",
    "net_colors['Cont'] = np.array((243,177,82))/ 255\n",
    "net_colors['Default'] = np.array((225,99,114)) / 255\n",
    "\n",
    "nets = np.array([val.split('-')[1] for val in plot_lbls])\n",
    "rois = np.array([val.split('-')[2] for val in plot_lbls])\n",
    "\n",
    "node_colors = np.array([net_colors[net] for net in nets ])\n",
    "\n",
    "node_angles = circular_layout(label_names, node_order, start_pos=90,\n",
    "                              group_boundaries=[0, 26])\n",
    "\n",
    "\n",
    "#fig,ax = plt.subplots(1,1,figsize=(10,10))\n",
    "_plot_connectivity_circle(con=plot_mat,\n",
    "        node_names=rois,\n",
    "        indices=None,\n",
    "        n_lines=5,\n",
    "        node_angles=node_angles,\n",
    "        node_width=None,\n",
    "        node_height=None,\n",
    "        node_colors=node_colors,\n",
    "        facecolor='black',\n",
    "        textcolor='white',\n",
    "        node_edgecolor='black',\n",
    "        linewidth=1.5,\n",
    "        colormap='bwr',\n",
    "        vmin=None,\n",
    "        vmax=None,\n",
    "        colorbar=True,\n",
    "        title=None,\n",
    "        colorbar_size=.5,\n",
    "        colorbar_pos=None,\n",
    "        fontsize_title=12,\n",
    "        fontsize_names=12,\n",
    "        fontsize_colorbar=8,\n",
    "        padding=2.0,\n",
    "        ax=None,\n",
    "        interactive=True,\n",
    "        node_linewidth=4.0,\n",
    "        show=True)"
   ]
  },
  {
   "cell_type": "code",
   "execution_count": null,
   "id": "66442f5b",
   "metadata": {},
   "outputs": [],
   "source": []
  },
  {
   "cell_type": "code",
   "execution_count": null,
   "id": "03310bc9",
   "metadata": {},
   "outputs": [],
   "source": []
  },
  {
   "cell_type": "code",
   "execution_count": null,
   "id": "a09bbfc5",
   "metadata": {},
   "outputs": [],
   "source": []
  },
  {
   "cell_type": "code",
   "execution_count": null,
   "id": "84d0d172",
   "metadata": {},
   "outputs": [],
   "source": []
  },
  {
   "cell_type": "code",
   "execution_count": null,
   "id": "638fcf1e",
   "metadata": {},
   "outputs": [],
   "source": []
  },
  {
   "cell_type": "code",
   "execution_count": null,
   "id": "93e81df7",
   "metadata": {},
   "outputs": [],
   "source": []
  },
  {
   "cell_type": "code",
   "execution_count": null,
   "id": "449ec054",
   "metadata": {},
   "outputs": [],
   "source": []
  },
  {
   "cell_type": "code",
   "execution_count": null,
   "id": "a1c38729",
   "metadata": {},
   "outputs": [],
   "source": []
  },
  {
   "cell_type": "code",
   "execution_count": null,
   "id": "a9fdb1a4",
   "metadata": {},
   "outputs": [],
   "source": []
  },
  {
   "cell_type": "code",
   "execution_count": null,
   "id": "d88e8cf3",
   "metadata": {},
   "outputs": [],
   "source": []
  },
  {
   "cell_type": "code",
   "execution_count": null,
   "id": "aee42900",
   "metadata": {},
   "outputs": [],
   "source": [
    "data.keys()"
   ]
  },
  {
   "cell_type": "code",
   "execution_count": null,
   "id": "091188e7",
   "metadata": {},
   "outputs": [],
   "source": [
    "df.columns"
   ]
  },
  {
   "cell_type": "code",
   "execution_count": null,
   "id": "f261a07f",
   "metadata": {},
   "outputs": [],
   "source": [
    "!date"
   ]
  },
  {
   "cell_type": "code",
   "execution_count": null,
   "id": "00760141",
   "metadata": {},
   "outputs": [],
   "source": []
  },
  {
   "cell_type": "code",
   "execution_count": null,
   "id": "ee8c2ffc",
   "metadata": {},
   "outputs": [],
   "source": []
  }
 ],
 "metadata": {
  "kernelspec": {
   "display_name": "Python 3",
   "language": "python",
   "name": "python3"
  },
  "language_info": {
   "codemirror_mode": {
    "name": "ipython",
    "version": 3
   },
   "file_extension": ".py",
   "mimetype": "text/x-python",
   "name": "python",
   "nbconvert_exporter": "python",
   "pygments_lexer": "ipython3",
   "version": "3.8.5"
  }
 },
 "nbformat": 4,
 "nbformat_minor": 5
}
