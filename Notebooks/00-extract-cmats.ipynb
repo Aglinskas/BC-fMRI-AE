{
 "cells": [
  {
   "cell_type": "code",
   "execution_count": 2,
   "id": "70e40707",
   "metadata": {},
   "outputs": [
    {
     "data": {
      "text/plain": [
       "'/mmfs1/data/aglinska/BC-fMRI-AE/Notebooks'"
      ]
     },
     "execution_count": 2,
     "metadata": {},
     "output_type": "execute_result"
    }
   ],
   "source": [
    "pwd"
   ]
  },
  {
   "cell_type": "code",
   "execution_count": 122,
   "id": "844fc6c1",
   "metadata": {},
   "outputs": [],
   "source": [
    "import numpy as np\n",
    "import pandas as pd\n",
    "import ants \n",
    "import os\n",
    "from matplotlib import pyplot as plt\n",
    "from tqdm import tqdm"
   ]
  },
  {
   "cell_type": "code",
   "execution_count": 98,
   "id": "cf68134d",
   "metadata": {},
   "outputs": [
    {
     "name": "stdout",
     "output_type": "stream",
     "text": [
      "1102\n"
     ]
    },
    {
     "data": {
      "text/plain": [
       "['sub-CMUa0050642',\n",
       " 'sub-CMUa0050646',\n",
       " 'sub-CMUa0050647',\n",
       " 'sub-CMUa0050649',\n",
       " 'sub-CMUa0050653',\n",
       " 'sub-CMUa0050654',\n",
       " 'sub-CMUa0050656',\n",
       " 'sub-CMUa0050659',\n",
       " 'sub-CMUa0050660',\n",
       " 'sub-CMUa0050663']"
      ]
     },
     "execution_count": 98,
     "metadata": {},
     "output_type": "execute_result"
    }
   ],
   "source": [
    "indir = '../../data/ABIDE/Derivatives/cpac_nofilt_global/'\n",
    "subs  = [file for file in os.listdir(indir) if file.startswith('sub-')]\n",
    "subs.sort()\n",
    "\n",
    "print(len(subs))\n",
    "subs[0:10]"
   ]
  },
  {
   "cell_type": "code",
   "execution_count": 99,
   "id": "55d717bc",
   "metadata": {},
   "outputs": [],
   "source": [
    "df = pd.read_csv('../Data/ABIDE_df2.csv')"
   ]
  },
  {
   "cell_type": "code",
   "execution_count": 100,
   "id": "3d8a8111",
   "metadata": {},
   "outputs": [],
   "source": [
    "epi_rois = ants.image_read('../Data/YeoAtlas/epi_rois.nii.gz')"
   ]
  },
  {
   "cell_type": "code",
   "execution_count": 101,
   "id": "65962c6f",
   "metadata": {},
   "outputs": [
    {
     "name": "stdout",
     "output_type": "stream",
     "text": [
      "sub-CMUa0050664\n"
     ]
    }
   ],
   "source": [
    "s = 10\n",
    "sub = subs[s];print(sub)"
   ]
  },
  {
   "cell_type": "code",
   "execution_count": 94,
   "id": "2aa3a251",
   "metadata": {},
   "outputs": [],
   "source": [
    "#ants.slice_image(epi,axis=3,idx=0).plot_ortho(flat=True,xyz_lines=False,orient_labels=False)"
   ]
  },
  {
   "cell_type": "code",
   "execution_count": 166,
   "id": "60b7e0af",
   "metadata": {},
   "outputs": [
    {
     "name": "stderr",
     "output_type": "stream",
     "text": [
      "  0%|          | 0/1102 [00:00<?, ?it/s]/data/aglinska/anaconda3/lib/python3.8/site-packages/numpy/lib/function_base.py:2534: RuntimeWarning:\n",
      "\n",
      "invalid value encountered in true_divide\n",
      "\n",
      "/data/aglinska/anaconda3/lib/python3.8/site-packages/numpy/lib/function_base.py:2535: RuntimeWarning:\n",
      "\n",
      "invalid value encountered in true_divide\n",
      "\n",
      "100%|██████████| 1102/1102 [54:25<00:00,  2.96s/it] \n"
     ]
    }
   ],
   "source": [
    "rois = epi_rois.numpy().reshape(-1)\n",
    "nrois = 51\n",
    "ofdir = '../Assets/abide_1_cmats'\n",
    "for s in tqdm(range(len(subs))):\n",
    "    sub = subs[s]\n",
    "    fn = os.path.join(indir,sub,'ses-1','func',f'{sub}_ses-1_preproc.nii.gz')\n",
    "    ofn = os.path.join(ofdir,sub+'.npy')\n",
    "    \n",
    "    if not os.path.exists(ofn):    \n",
    "        epi = ants.image_read(fn)\n",
    "        epi_mat = epi.numpy().reshape(-1,epi.shape[-1])\n",
    "\n",
    "        assert np.isnan(epi_mat).sum()==0, 'nans'\n",
    "\n",
    "        roi_mat = np.array([epi_mat[rois==i,:].mean(axis=0) for i in range(nrois)])\n",
    "        \n",
    "        #assert np.isnan(roi_mat).sum()==0, 'nans'\n",
    "        \n",
    "        cmat = np.corrcoef(roi_mat)\n",
    "        \n",
    "        #assert np.isnan(cmat).sum()==0, 'nans'\n",
    "        \n",
    "        np.save(file=ofn,arr=cmat)"
   ]
  },
  {
   "cell_type": "code",
   "execution_count": 112,
   "id": "623335b5",
   "metadata": {},
   "outputs": [],
   "source": [
    "ofdir = '../Assets/abide_1_cmats'\n",
    "cmat_files = os.listdir(ofdir)\n",
    "cmats = np.array([np.load(os.path.join(ofdir,cmat_file)) for cmat_file in cmat_files])"
   ]
  },
  {
   "cell_type": "code",
   "execution_count": null,
   "id": "359ade46",
   "metadata": {},
   "outputs": [],
   "source": []
  },
  {
   "cell_type": "code",
   "execution_count": null,
   "id": "57bea913",
   "metadata": {},
   "outputs": [],
   "source": []
  },
  {
   "cell_type": "code",
   "execution_count": null,
   "id": "93b9eb70",
   "metadata": {},
   "outputs": [],
   "source": []
  },
  {
   "cell_type": "code",
   "execution_count": null,
   "id": "a1592ff0",
   "metadata": {},
   "outputs": [],
   "source": []
  },
  {
   "cell_type": "code",
   "execution_count": 120,
   "id": "b858adb8",
   "metadata": {},
   "outputs": [
    {
     "data": {
      "text/plain": [
       "<matplotlib.colorbar.Colorbar at 0x1553700799a0>"
      ]
     },
     "execution_count": 120,
     "metadata": {},
     "output_type": "execute_result"
    },
    {
     "data": {
      "image/png": "[encoded data removed]",
      "text/plain": [
       "<Figure size 432x288 with 2 Axes>"
      ]
     },
     "metadata": {
      "needs_background": "light"
     },
     "output_type": "display_data"
    }
   ],
   "source": [
    "plt.imshow(cmats.mean(axis=0))\n",
    "plt.colorbar()"
   ]
  },
  {
   "cell_type": "code",
   "execution_count": 119,
   "id": "cc474e16",
   "metadata": {},
   "outputs": [
    {
     "data": {
      "text/plain": [
       "<matplotlib.colorbar.Colorbar at 0x1554657b61c0>"
      ]
     },
     "execution_count": 119,
     "metadata": {},
     "output_type": "execute_result"
    },
    {
     "data": {
      "image/png": "[encoded data removed]",
      "text/plain": [
       "<Figure size 432x288 with 2 Axes>"
      ]
     },
     "metadata": {
      "needs_background": "light"
     },
     "output_type": "display_data"
    }
   ],
   "source": [
    "plt.imshow(cmats.std(axis=0))\n",
    "plt.colorbar()"
   ]
  },
  {
   "cell_type": "code",
   "execution_count": null,
   "id": "6ab6f1ca",
   "metadata": {},
   "outputs": [],
   "source": []
  },
  {
   "cell_type": "code",
   "execution_count": null,
   "id": "ff82d2c2",
   "metadata": {},
   "outputs": [],
   "source": []
  },
  {
   "cell_type": "code",
   "execution_count": null,
   "id": "40bb0ad7",
   "metadata": {},
   "outputs": [],
   "source": []
  }
 ],
 "metadata": {
  "kernelspec": {
   "display_name": "Python 3",
   "language": "python",
   "name": "python3"
  },
  "language_info": {
   "codemirror_mode": {
    "name": "ipython",
    "version": 3
   },
   "file_extension": ".py",
   "mimetype": "text/x-python",
   "name": "python",
   "nbconvert_exporter": "python",
   "pygments_lexer": "ipython3",
   "version": "3.8.5"
  }
 },
 "nbformat": 4,
 "nbformat_minor": 5
}
