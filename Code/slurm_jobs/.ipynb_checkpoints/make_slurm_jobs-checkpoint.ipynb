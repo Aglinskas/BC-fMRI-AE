{
 "cells": [
  {
   "cell_type": "code",
   "execution_count": 1,
   "id": "55325105",
   "metadata": {},
   "outputs": [],
   "source": [
    "import os"
   ]
  },
  {
   "cell_type": "code",
   "execution_count": 6,
   "id": "1fdf53f2",
   "metadata": {},
   "outputs": [
    {
     "data": {
      "text/plain": [
       "'/mmfs1/data/aglinska/BC-fMRI-AE/Code/slurm_jobs'"
      ]
     },
     "execution_count": 6,
     "metadata": {},
     "output_type": "execute_result"
    }
   ],
   "source": [
    "pwd"
   ]
  },
  {
   "cell_type": "code",
   "execution_count": 10,
   "id": "9473feba",
   "metadata": {},
   "outputs": [
    {
     "data": {
      "text/plain": [
       "[]"
      ]
     },
     "execution_count": 10,
     "metadata": {},
     "output_type": "execute_result"
    }
   ],
   "source": [
    "folders = [f for f in os.listdir() if f.startswith('ABIDEII')]\n",
    "folders.sort()\n",
    "folders"
   ]
  },
  {
   "cell_type": "code",
   "execution_count": 8,
   "id": "e345bce2",
   "metadata": {},
   "outputs": [],
   "source": [
    "for folder in folders:\n",
    "    nsubs = len([cont for cont in os.listdir(folder) if all((cont.startswith('sub-'),os.path.isdir(os.path.join(folder,cont))))])\n",
    "    print(f'{folder} | {nsubs}'.rjust(30))"
   ]
  },
  {
   "cell_type": "code",
   "execution_count": 9,
   "id": "c04dc887",
   "metadata": {},
   "outputs": [
    {
     "ename": "IndexError",
     "evalue": "list index out of range",
     "output_type": "error",
     "traceback": [
      "\u001b[0;31m---------------------------------------------------------------------------\u001b[0m",
      "\u001b[0;31mIndexError\u001b[0m                                Traceback (most recent call last)",
      "\u001b[0;32m<ipython-input-9-686ed3292581>\u001b[0m in \u001b[0;36m<module>\u001b[0;34m\u001b[0m\n\u001b[0;32m----> 1\u001b[0;31m \u001b[0mfolder\u001b[0m \u001b[0;34m=\u001b[0m \u001b[0mfolders\u001b[0m\u001b[0;34m[\u001b[0m\u001b[0;36m0\u001b[0m\u001b[0;34m]\u001b[0m\u001b[0;34m\u001b[0m\u001b[0;34m\u001b[0m\u001b[0m\n\u001b[0m\u001b[1;32m      2\u001b[0m \u001b[0mprint\u001b[0m\u001b[0;34m(\u001b[0m\u001b[0mfolder\u001b[0m\u001b[0;34m)\u001b[0m\u001b[0;34m\u001b[0m\u001b[0;34m\u001b[0m\u001b[0m\n",
      "\u001b[0;31mIndexError\u001b[0m: list index out of range"
     ]
    }
   ],
   "source": [
    "folder = folders[0]\n",
    "print(folder)"
   ]
  },
  {
   "cell_type": "code",
   "execution_count": 21,
   "id": "28725894",
   "metadata": {},
   "outputs": [],
   "source": [
    "text = '''#!/bin/bash\n",
    "\n",
    "#SBATCH --job-name=job_fmriprep_ABIDEII-UCLA_1\n",
    "#SBATCH --output=output_fmriprep_ABIDEII-UCLA_1_%a\n",
    "#SBATCH --error=error_fmriprep_ABIDEII-UCLA_1_%a\n",
    "\n",
    "#SBATCH --ntasks=1\n",
    "#SBATCH --time=10:00:00\n",
    "#SBATCH --mem=32gb\n",
    "\n",
    "#SBATCH --array=0-58\n",
    "\n",
    "#rm -rf fmriprep_ABIDEII-UCLA_1.slurm;nano fmriprep_ABIDEII-UCLA_1.slurm\n",
    "#sbatch fmriprep_ABIDEII-UCLA_1.slurm\n",
    "#$SLURM_ARRAY_TASK_ID\n",
    "\n",
    "\n",
    "rm -rf output_fmriprep_ABIDEII-UCLA_1_%a\n",
    "rm -rf error_fmriprep_ABIDEII-UCLA_1_%a\n",
    "\n",
    "module load singularity/\n",
    "\n",
    "#this_dir=$(pwd);echo $this_dir\n",
    "cd $HOME\n",
    "\n",
    "data_dir=$HOME'/data/ABIDE2/RawData/ABIDEII-UCLA_1/'\n",
    "\n",
    "sing_image=$HOME/fmriprep.simg\n",
    "\n",
    "cd $data_dir\n",
    "files=(sub*)\n",
    "# echo ${files[0]}\n",
    "#cd $this_dir\n",
    "\n",
    "cd $HOME\n",
    "\n",
    "output_dir=$HOME'/data/ABIDE2/Derivatives/test/'\n",
    "\n",
    "fs_lic=$HOME'/fs_licence.txt'\n",
    "\n",
    "echo \"${#files[@]} files found in ${data_dir}\"\n",
    "\n",
    "sub=${files[$SLURM_ARRAY_TASK_ID]} #;echo $sub\n",
    "\n",
    "echo $HOME\n",
    "echo $data_dir\n",
    "echo $output_dir\n",
    "echo $sub\n",
    "\n",
    "#echo ${files[$SLURM_ARRAY_TASK_ID]}\n",
    "\n",
    "singularity run --bind /data/aglinska/scratch:/scratch --cleanenv $sing_image $data_dir $output_dir participant --participant-label $sub --fs-no-reconall --task-id 'rest' --fs-license-file $fs_lic\n",
    "\n",
    "'''"
   ]
  },
  {
   "cell_type": "code",
   "execution_count": 22,
   "id": "9da5daed",
   "metadata": {},
   "outputs": [
    {
     "data": {
      "text/plain": [
       "'#!/bin/bash\\n\\n#SBATCH --job-name=job_fmriprep_ABIDEII-UCLA_1\\n#SBATCH --output=output_fmriprep_ABIDEII-UCLA_1_%a\\n#SBATCH --error=error_fmriprep_ABIDEII-UCLA_1_%a\\n\\n#SBATCH --ntasks=1\\n#SBATCH --time=10:00:00\\n#SBATCH --mem=32gb\\n\\n#SBATCH --array=0-58\\n\\n#rm -rf fmriprep_ABIDEII-UCLA_1.slurm;nano fmriprep_ABIDEII-UCLA_1.slurm\\n#sbatch fmriprep_ABIDEII-UCLA_1.slurm\\n#$SLURM_ARRAY_TASK_ID\\n\\n\\nrm -rf output_fmriprep_ABIDEII-UCLA_1_%a\\nrm -rf error_fmriprep_ABIDEII-UCLA_1_%a\\n\\nmodule load singularity/\\n\\n#this_dir=$(pwd);echo $this_dir\\ncd $HOME\\n\\ndata_dir=$HOME\\'/data/ABIDE2/RawData/ABIDEII-UCLA_1/\\'\\n\\nsing_image=$HOME/fmriprep.simg\\n\\ncd $data_dir\\nfiles=(sub*)\\n# echo ${files[0]}\\n#cd $this_dir\\n\\ncd $HOME\\n\\noutput_dir=$HOME\\'/data/ABIDE2/Derivatives/test/\\'\\n\\nfs_lic=$HOME\\'/fs_licence.txt\\'\\n\\necho \"${#files[@]} files found in ${data_dir}\"\\n\\nsub=${files[$SLURM_ARRAY_TASK_ID]} #;echo $sub\\n\\necho $HOME\\necho $data_dir\\necho $output_dir\\necho $sub\\n\\n#echo ${files[$SLURM_ARRAY_TASK_ID]}\\n\\nsingularity run --bind /data/aglinska/scratch:/scratch --cleanenv $sing_image $data_dir $output_dir participant --participant-label $sub --fs-no-reconall --task-id \\'rest\\' --fs-license-file $fs_lic\\n\\n'"
      ]
     },
     "execution_count": 22,
     "metadata": {},
     "output_type": "execute_result"
    }
   ],
   "source": [
    "text"
   ]
  },
  {
   "cell_type": "code",
   "execution_count": 24,
   "id": "d9307668",
   "metadata": {},
   "outputs": [],
   "source": [
    "with open('temt.txt', 'w') as f:\n",
    "    f.write(text)"
   ]
  },
  {
   "cell_type": "code",
   "execution_count": null,
   "id": "687a8b1c",
   "metadata": {},
   "outputs": [],
   "source": []
  }
 ],
 "metadata": {
  "kernelspec": {
   "display_name": "Python 3",
   "language": "python",
   "name": "python3"
  },
  "language_info": {
   "codemirror_mode": {
    "name": "ipython",
    "version": 3
   },
   "file_extension": ".py",
   "mimetype": "text/x-python",
   "name": "python",
   "nbconvert_exporter": "python",
   "pygments_lexer": "ipython3",
   "version": "3.8.5"
  }
 },
 "nbformat": 4,
 "nbformat_minor": 5
}
